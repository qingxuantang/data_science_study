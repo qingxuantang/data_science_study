{
 "cells": [
  {
   "cell_type": "markdown",
   "metadata": {},
   "source": [
    "Google's official site for tensorflow\n",
    "\n",
    "https://www.tensorflow.org/get_started/"
   ]
  },
  {
   "cell_type": "code",
   "execution_count": 12,
   "metadata": {},
   "outputs": [
    {
     "name": "stdout",
     "output_type": "stream",
     "text": [
      "5\n"
     ]
    },
    {
     "data": {
      "text/plain": [
       "<tf.Tensor 'Const_12:0' shape=(2, 2, 2) dtype=int32>"
      ]
     },
     "execution_count": 12,
     "metadata": {},
     "output_type": "execute_result"
    }
   ],
   "source": [
    "# build a rank 3 tensor and address an element\n",
    "\n",
    "import tensorflow as tf\n",
    "tens1 = tf.constant([[[1,2],[2,3]],[[3,4],[5,6]]])\n",
    "sess = tf.Session() #define sess and start a new Session object\n",
    "print(sess.run(tens1)[1,1,0]) #the first 1 addresses to [[3,4],[5,6]]; the second 1 addresses to [5,6]; 0 addresses to 5.\n",
    "tens1 #print out the shape of tens1. dtype in the output means data tpye of this tensor. "
   ]
  },
  {
   "cell_type": "code",
   "execution_count": 8,
   "metadata": {},
   "outputs": [
    {
     "data": {
      "text/plain": [
       "<tf.Tensor 'Const_8:0' shape=(3,) dtype=int32>"
      ]
     },
     "execution_count": 8,
     "metadata": {},
     "output_type": "execute_result"
    }
   ],
   "source": [
    "#build a simple numpy array\n",
    "\n",
    "import tensorflow as tf\n",
    "import numpy as np\n",
    "x = tf.constant(np.random.rand(32).astype(np.float32)) #float32 is the data tpye of this tensor\n",
    "y = tf.constant([1,2,3])\n",
    "\n",
    "y"
   ]
  },
  {
   "cell_type": "code",
   "execution_count": 14,
   "metadata": {},
   "outputs": [],
   "source": [
    "#build two numpy arrays and convert them into tensors:\n",
    "\n",
    "import tensorflow as tf\n",
    "import numpy as np\n",
    "sess = tf.Session()\n",
    "x_data = np.array([[1.,2.,3.],[3.,2.,6.]]) #2*3 matrix\n",
    "x = tf.convert_to_tensor(x_data,dtype = tf.float32) #finally we create the tensor starting from the fload 3x matrix\n"
   ]
  },
  {
   "cell_type": "code",
   "execution_count": null,
   "metadata": {},
   "outputs": [],
   "source": []
  }
 ],
 "metadata": {
  "kernelspec": {
   "display_name": "Python 3",
   "language": "python",
   "name": "python3"
  },
  "language_info": {
   "codemirror_mode": {
    "name": "ipython",
    "version": 3
   },
   "file_extension": ".py",
   "mimetype": "text/x-python",
   "name": "python",
   "nbconvert_exporter": "python",
   "pygments_lexer": "ipython3",
   "version": "3.4.3"
  }
 },
 "nbformat": 4,
 "nbformat_minor": 2
}
