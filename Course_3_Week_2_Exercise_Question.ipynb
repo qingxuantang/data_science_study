{
 "cells": [
  {
   "cell_type": "code",
   "execution_count": null,
   "metadata": {
    "id": "zX4Kg8DUTKWO"
   },
   "outputs": [],
   "source": [
    "#@title Licensed under the Apache License, Version 2.0 (the \"License\");\n",
    "# you may not use this file except in compliance with the License.\n",
    "# You may obtain a copy of the License at\n",
    "#\n",
    "# https://www.apache.org/licenses/LICENSE-2.0\n",
    "#\n",
    "# Unless required by applicable law or agreed to in writing, software\n",
    "# distributed under the License is distributed on an \"AS IS\" BASIS,\n",
    "# WITHOUT WARRANTIES OR CONDITIONS OF ANY KIND, either express or implied.\n",
    "# See the License for the specific language governing permissions and\n",
    "# limitations under the License.\n",
    "\n",
    "#作业要求：\n",
    "\n",
    "#This week you will build on last week’s exercise where you tokenized words from the BBC news reports dataset. \n",
    "#This dataset contains articles that are classified into a number of different categories. \n",
    "#See if you can design a neural network that can be trained on this dataset to accurately determine what words \n",
    "#determine what category. Create the vecs.tsv and meta.tsv files and load them into the embedding projector."
   ]
  },
  {
   "cell_type": "markdown",
   "metadata": {
    "id": "view-in-github"
   },
   "source": [
    "<a href=\"https://colab.research.google.com/github/lmoroney/dlaicourse/blob/master/TensorFlow%20In%20Practice/Course%203%20-%20NLP/Course%203%20-%20Week%202%20-%20Exercise%20-%20Question.ipynb\" target=\"_parent\"><img src=\"https://colab.research.google.com/assets/colab-badge.svg\" alt=\"Open In Colab\"/></a>"
   ]
  },
  {
   "cell_type": "code",
   "execution_count": 1,
   "metadata": {
    "id": "gnwiOnGyW5JK"
   },
   "outputs": [],
   "source": [
    "import csv\n",
    "import tensorflow as tf\n",
    "import numpy as np\n",
    "from tensorflow.keras.preprocessing.text import Tokenizer\n",
    "from tensorflow.keras.preprocessing.sequence import pad_sequences\n",
    "\n",
    "#!wget --no-check-certificate \\\n",
    "#    https://storage.googleapis.com/laurencemoroney-blog.appspot.com/bbc-text.csv \\\n",
    "#    -O /tmp/bbc-text.csv"
   ]
  },
  {
   "cell_type": "code",
   "execution_count": 2,
   "metadata": {
    "id": "EYo6A4v5ZABQ"
   },
   "outputs": [],
   "source": [
    "vocab_size = 1000 # YOUR CODE HERE\n",
    "embedding_dim = 16 # YOUR CODE HERE\n",
    "max_length = 120 # YOUR CODE HERE\n",
    "trunc_type = 'pre' # YOUR CODE HERE\n",
    "padding_type = 'post' # YOUR CODE HERE\n",
    "oov_tok = '<OOV>' # YOUR CODE HERE\n",
    "training_portion = .8"
   ]
  },
  {
   "cell_type": "code",
   "execution_count": 3,
   "metadata": {
    "id": "iU1qq3_SZBx_"
   },
   "outputs": [
    {
     "name": "stdout",
     "output_type": "stream",
     "text": [
      "153\n"
     ]
    }
   ],
   "source": [
    "sentences = []\n",
    "labels = []\n",
    "stopwords = [ \"a\", \"about\", \"above\", \"after\", \"again\", \"against\", \"all\", \"am\", \"an\", \"and\", \"any\", \"are\", \"as\", \"at\", \"be\", \"because\", \"been\", \"before\", \"being\", \"below\", \"between\", \"both\", \"but\", \"by\", \"could\", \"did\", \"do\", \"does\", \"doing\", \"down\", \"during\", \"each\", \"few\", \"for\", \"from\", \"further\", \"had\", \"has\", \"have\", \"having\", \"he\", \"he'd\", \"he'll\", \"he's\", \"her\", \"here\", \"here's\", \"hers\", \"herself\", \"him\", \"himself\", \"his\", \"how\", \"how's\", \"i\", \"i'd\", \"i'll\", \"i'm\", \"i've\", \"if\", \"in\", \"into\", \"is\", \"it\", \"it's\", \"its\", \"itself\", \"let's\", \"me\", \"more\", \"most\", \"my\", \"myself\", \"nor\", \"of\", \"on\", \"once\", \"only\", \"or\", \"other\", \"ought\", \"our\", \"ours\", \"ourselves\", \"out\", \"over\", \"own\", \"same\", \"she\", \"she'd\", \"she'll\", \"she's\", \"should\", \"so\", \"some\", \"such\", \"than\", \"that\", \"that's\", \"the\", \"their\", \"theirs\", \"them\", \"themselves\", \"then\", \"there\", \"there's\", \"these\", \"they\", \"they'd\", \"they'll\", \"they're\", \"they've\", \"this\", \"those\", \"through\", \"to\", \"too\", \"under\", \"until\", \"up\", \"very\", \"was\", \"we\", \"we'd\", \"we'll\", \"we're\", \"we've\", \"were\", \"what\", \"what's\", \"when\", \"when's\", \"where\", \"where's\", \"which\", \"while\", \"who\", \"who's\", \"whom\", \"why\", \"why's\", \"with\", \"would\", \"you\", \"you'd\", \"you'll\", \"you're\", \"you've\", \"your\", \"yours\", \"yourself\", \"yourselves\" ]\n",
    "print(len(stopwords))\n",
    "# Expected Output\n",
    "# 153"
   ]
  },
  {
   "cell_type": "code",
   "execution_count": 4,
   "metadata": {
    "id": "eutB2xMiZD0e"
   },
   "outputs": [
    {
     "name": "stdout",
     "output_type": "stream",
     "text": [
      "2225\n",
      "2225\n",
      "tv future hands viewers home theatre systems  plasma high-definition tvs  digital video recorders moving living room  way people watch tv will radically different five years  time.  according expert panel gathered annual consumer electronics show las vegas discuss new technologies will impact one favourite pastimes. us leading trend  programmes content will delivered viewers via home networks  cable  satellite  telecoms companies  broadband service providers front rooms portable devices.  one talked-about technologies ces digital personal video recorders (dvr pvr). set-top boxes  like us s tivo uk s sky+ system  allow people record  store  play  pause forward wind tv programmes want.  essentially  technology allows much personalised tv. also built-in high-definition tv sets  big business japan us  slower take off europe lack high-definition programming. not can people forward wind adverts  can also forget abiding network channel schedules  putting together a-la-carte entertainment. us networks cable satellite companies worried means terms advertising revenues well  brand identity  viewer loyalty channels. although us leads technology moment  also concern raised europe  particularly growing uptake services like sky+.  happens today  will see nine months years  time uk   adam hume  bbc broadcast s futurologist told bbc news website. likes bbc  no issues lost advertising revenue yet. pressing issue moment commercial uk broadcasters  brand loyalty important everyone.  will talking content brands rather network brands   said tim hanlon  brand communications firm starcom mediavest.  reality broadband connections  anybody can producer content.  added:  challenge now hard promote programme much choice.   means  said stacey jolna  senior vice president tv guide tv group  way people find content want watch simplified tv viewers. means networks  us terms  channels take leaf google s book search engine future  instead scheduler help people find want watch. kind channel model might work younger ipod generation used taking control gadgets play them. might not suit everyone  panel recognised. older generations comfortable familiar schedules channel brands know getting. perhaps not want much choice put hands  mr hanlon suggested.  end  kids just diapers pushing buttons already - everything possible available   said mr hanlon.  ultimately  consumer will tell market want.   50 000 new gadgets technologies showcased ces  many enhancing tv-watching experience. high-definition tv sets everywhere many new models lcd (liquid crystal display) tvs launched dvr capability built  instead external boxes. one example launched show humax s 26-inch lcd tv 80-hour tivo dvr dvd recorder. one us s biggest satellite tv companies  directtv  even launched branded dvr show 100-hours recording capability  instant replay  search function. set can pause rewind tv 90 hours. microsoft chief bill gates announced pre-show keynote speech partnership tivo  called tivotogo  means people can play recorded programmes windows pcs mobile devices. reflect increasing trend freeing multimedia people can watch want  want.\n"
     ]
    }
   ],
   "source": [
    "with open(\"/tmp/bbc-text.csv\", 'r') as csvfile:\n",
    "    # YOUR CODE HERE\n",
    "    temp_s = []\n",
    "    for line in csvfile.readlines()[1:]: #跳过第一行title\n",
    "        labels.append(line.split(',')[0]) #使用逗号分割出labels和sentences\n",
    "        temp_s.append(line.split(',')[1])\n",
    "\n",
    "for word in temp_s:\n",
    "    temp_w = []\n",
    "    for ws in word.split(' '):\n",
    "        ws = ws.rstrip()\n",
    "        ws = ws.lstrip()\n",
    "        if ws not in stopwords:\n",
    "            temp_w.append(ws)\n",
    "    sentences.append(' '.join(temp_w))\n",
    "\n",
    "    \n",
    "print(len(labels))\n",
    "print(len(sentences))\n",
    "print(sentences[0])\n",
    "# Expected Output\n",
    "# 2225\n",
    "# 2225\n",
    "# tv future hands viewers home theatre systems  plasma high-definition tvs  digital video recorders moving living room  way people watch tv will radically different five years  time.  according expert panel gathered annual consumer electronics show las vegas discuss new technologies will impact one favourite pastimes. us leading trend  programmes content will delivered viewers via home networks  cable  satellite  telecoms companies  broadband service providers front rooms portable devices.  one talked-about technologies ces digital personal video recorders (dvr pvr). set-top boxes  like us s tivo uk s sky+ system  allow people record  store  play  pause forward wind tv programmes want.  essentially  technology allows much personalised tv. also built-in high-definition tv sets  big business japan us  slower take off europe lack high-definition programming. not can people forward wind adverts  can also forget abiding network channel schedules  putting together a-la-carte entertainment. us networks cable satellite companies worried means terms advertising revenues well  brand identity  viewer loyalty channels. although us leads technology moment  also concern raised europe  particularly growing uptake services like sky+.  happens today  will see nine months years  time uk   adam hume  bbc broadcast s futurologist told bbc news website. likes bbc  no issues lost advertising revenue yet. pressing issue moment commercial uk broadcasters  brand loyalty important everyone.  will talking content brands rather network brands   said tim hanlon  brand communications firm starcom mediavest.  reality broadband connections  anybody can producer content.  added:  challenge now hard promote programme much choice.   means  said stacey jolna  senior vice president tv guide tv group  way people find content want watch simplified tv viewers. means networks  us terms  channels take leaf google s book search engine future  instead scheduler help people find want watch. kind channel model might work younger ipod generation used taking control gadgets play them. might not suit everyone  panel recognised. older generations comfortable familiar schedules channel brands know getting. perhaps not want much choice put hands  mr hanlon suggested.  end  kids just diapers pushing buttons already - everything possible available   said mr hanlon.  ultimately  consumer will tell market want.   50 000 new gadgets technologies showcased ces  many enhancing tv-watching experience. high-definition tv sets everywhere many new models lcd (liquid crystal display) tvs launched dvr capability built  instead external boxes. one example launched show humax s 26-inch lcd tv 80-hour tivo dvr dvd recorder. one us s biggest satellite tv companies  directtv  even launched branded dvr show 100-hours recording capability  instant replay  search function. set can pause rewind tv 90 hours. microsoft chief bill gates announced pre-show keynote speech partnership tivo  called tivotogo  means people can play recorded programmes windows pcs mobile devices. reflect increasing trend freeing multimedia people can watch want  want."
   ]
  },
  {
   "cell_type": "code",
   "execution_count": 5,
   "metadata": {
    "id": "XfdaWh06ZGe3"
   },
   "outputs": [
    {
     "name": "stdout",
     "output_type": "stream",
     "text": [
      "1780\n",
      "1780\n",
      "1780\n",
      "445\n",
      "445\n"
     ]
    }
   ],
   "source": [
    "train_size = int(len(sentences)*training_portion) # YOUR CODE HERE\n",
    "\n",
    "train_sentences = sentences[0:train_size] # YOUR CODE HERE\n",
    "train_labels = labels[0:train_size] # YOUR CODE HERE\n",
    "\n",
    "validation_sentences = sentences[train_size:] # YOUR CODE HERE\n",
    "validation_labels = labels[train_size:] # YOUR CODE HERE\n",
    "\n",
    "print(train_size)\n",
    "print(len(train_sentences))\n",
    "print(len(train_labels))\n",
    "print(len(validation_sentences))\n",
    "print(len(validation_labels))\n",
    "\n",
    "# Expected output (if training_portion=.8)\n",
    "# 1780\n",
    "# 1780\n",
    "# 1780\n",
    "# 445\n",
    "# 445"
   ]
  },
  {
   "cell_type": "code",
   "execution_count": 6,
   "metadata": {
    "id": "ULzA8xhwZI22"
   },
   "outputs": [
    {
     "name": "stdout",
     "output_type": "stream",
     "text": [
      "449\n",
      "120\n",
      "200\n",
      "120\n",
      "192\n",
      "120\n"
     ]
    }
   ],
   "source": [
    "tokenizer = Tokenizer(num_words = vocab_size, oov_token = oov_tok) # YOUR CODE HERE\n",
    "tokenizer.fit_on_texts(sentences) # YOUR CODE HERE)\n",
    "word_index = tokenizer.word_index # YOUR CODE HERE\n",
    "    \n",
    "train_sequences = tokenizer.texts_to_sequences(train_sentences) # YOUR CODE HERE\n",
    "train_padded = pad_sequences(train_sequences, maxlen = max_length, padding = padding_type,\n",
    "                            truncating = trunc_type) # YOUR CODE HERE \n",
    "\n",
    "\n",
    "print(len(train_sequences[0]))\n",
    "print(len(train_padded[0]))\n",
    "\n",
    "print(len(train_sequences[1]))\n",
    "print(len(train_padded[1]))\n",
    "\n",
    "print(len(train_sequences[10]))\n",
    "print(len(train_padded[10]))\n",
    "\n",
    "# Expected Ouput\n",
    "# 449\n",
    "# 120\n",
    "# 200\n",
    "# 120\n",
    "# 192\n",
    "# 120"
   ]
  },
  {
   "cell_type": "code",
   "execution_count": 7,
   "metadata": {
    "id": "c8PeFWzPZLW_"
   },
   "outputs": [
    {
     "name": "stdout",
     "output_type": "stream",
     "text": [
      "445\n",
      "(445, 120)\n"
     ]
    }
   ],
   "source": [
    "validation_sequences = tokenizer.texts_to_sequences(validation_sentences) # YOUR CODE HERE\n",
    "validation_padded = pad_sequences(validation_sequences, maxlen = max_length, padding = padding_type,\n",
    "                                 truncating = trunc_type) # YOUR CODE HERE\n",
    "\n",
    "print(len(validation_sequences))\n",
    "print(validation_padded.shape)\n",
    "\n",
    "# Expected output\n",
    "# 445\n",
    "# (445, 120)"
   ]
  },
  {
   "cell_type": "code",
   "execution_count": 18,
   "metadata": {
    "id": "XkWiQ_FKZNp2"
   },
   "outputs": [
    {
     "name": "stdout",
     "output_type": "stream",
     "text": [
      "[4]\n",
      "[2]\n",
      "[1]\n",
      "(1780, 1)\n",
      "[5]\n",
      "[4]\n",
      "[3]\n",
      "(445, 1)\n"
     ]
    },
    {
     "data": {
      "text/plain": [
       "'debug：此处始终与预期结果不同'"
      ]
     },
     "execution_count": 18,
     "metadata": {},
     "output_type": "execute_result"
    }
   ],
   "source": [
    "'''我的错误代码'''\n",
    "#label_tokenizer = Tokenizer(num_words = 6, oov_token = oov_tok) # YOUR CODE oov_token = oov_tok\n",
    "#label_tokenizer.fit_on_texts(list(set(labels))) # YOUR CODE HERE)\n",
    "\n",
    "#training_label_seq = label_tokenizer.texts_to_sequences(train_labels) # YOUR CODE HERE\n",
    "#validation_label_seq = label_tokenizer.texts_to_sequences(validation_labels) # YOUR CODE HERE\n",
    "\n",
    "'''正确代码'''\n",
    "label_tokenizer = Tokenizer()\n",
    "label_tokenizer.fit_on_texts(labels)\n",
    "\n",
    "training_label_seq = np.array(label_tokenizer.texts_to_sequences(train_labels))\n",
    "validation_label_seq = np.array(label_tokenizer.texts_to_sequences(validation_labels))\n",
    "\n",
    "'''我的错误代码（不需要）'''\n",
    "#train_padded = np.array(train_padded).astype('float32') #, dtype=object\n",
    "#training_label_seq = np.array(training_label_seq).astype('float32')\n",
    "#validation_padded = np.array(validation_padded).astype('float32')\n",
    "#validation_label_seq = np.array(validation_label_seq).astype('float32')\n",
    "\n",
    "print(training_label_seq[0])\n",
    "print(training_label_seq[1])\n",
    "print(training_label_seq[2])\n",
    "print(training_label_seq.shape)\n",
    "\n",
    "print(validation_label_seq[0])\n",
    "print(validation_label_seq[1])\n",
    "print(validation_label_seq[2])\n",
    "print(validation_label_seq.shape)\n",
    "\n",
    "# Expected output\n",
    "# [4]\n",
    "# [2]\n",
    "# [1]\n",
    "# (1780, 1)\n",
    "# [5]\n",
    "# [4]\n",
    "# [3]\n",
    "# (445, 1)\n",
    "\n",
    "'''debug：此处始终与预期结果不同'''"
   ]
  },
  {
   "cell_type": "code",
   "execution_count": 19,
   "metadata": {
    "id": "HZ5um4MWZP-W"
   },
   "outputs": [
    {
     "name": "stdout",
     "output_type": "stream",
     "text": [
      "Model: \"sequential_1\"\n",
      "_________________________________________________________________\n",
      "Layer (type)                 Output Shape              Param #   \n",
      "=================================================================\n",
      "embedding_1 (Embedding)      (None, 120, 16)           16000     \n",
      "_________________________________________________________________\n",
      "global_average_pooling1d_1 ( (None, 16)                0         \n",
      "_________________________________________________________________\n",
      "dense_2 (Dense)              (None, 24)                408       \n",
      "_________________________________________________________________\n",
      "dense_3 (Dense)              (None, 6)                 150       \n",
      "=================================================================\n",
      "Total params: 16,558\n",
      "Trainable params: 16,558\n",
      "Non-trainable params: 0\n",
      "_________________________________________________________________\n"
     ]
    }
   ],
   "source": [
    "model = tf.keras.Sequential([\n",
    "    # YOUR CODE HERE\n",
    "    tf.keras.layers.Embedding(vocab_size, embedding_dim, input_length = max_length),\n",
    "    tf.keras.layers.GlobalAveragePooling1D(),\n",
    "    tf.keras.layers.Dense(24,activation = 'relu'),\n",
    "    tf.keras.layers.Dense(6, activation = 'softmax')\n",
    "    \n",
    "])\n",
    "model.compile(loss='sparse_categorical_crossentropy',optimizer='adam',metrics=['accuracy'])\n",
    "model.summary()\n",
    "\n",
    "# Expected Output\n",
    "# Layer (type)                 Output Shape              Param #   \n",
    "# =================================================================\n",
    "# embedding (Embedding)        (None, 120, 16)           16000     \n",
    "# _________________________________________________________________\n",
    "# global_average_pooling1d (Gl (None, 16)                0         \n",
    "# _________________________________________________________________\n",
    "# dense (Dense)                (None, 24)                408       \n",
    "# _________________________________________________________________\n",
    "# dense_1 (Dense)              (None, 6)                 150       \n",
    "# =================================================================\n",
    "# Total params: 16,558\n",
    "# Trainable params: 16,558\n",
    "# Non-trainable params: 0"
   ]
  },
  {
   "cell_type": "code",
   "execution_count": 20,
   "metadata": {
    "id": "XsfdxySKZSXu"
   },
   "outputs": [
    {
     "name": "stdout",
     "output_type": "stream",
     "text": [
      "Epoch 1/30\n",
      "56/56 - 1s - loss: 1.7574 - accuracy: 0.2652 - val_loss: 1.7164 - val_accuracy: 0.2719\n",
      "Epoch 2/30\n",
      "56/56 - 0s - loss: 1.6715 - accuracy: 0.2343 - val_loss: 1.6294 - val_accuracy: 0.2382\n",
      "Epoch 3/30\n",
      "56/56 - 0s - loss: 1.5877 - accuracy: 0.2360 - val_loss: 1.5548 - val_accuracy: 0.2607\n",
      "Epoch 4/30\n",
      "56/56 - 0s - loss: 1.4995 - accuracy: 0.3343 - val_loss: 1.4604 - val_accuracy: 0.4449\n",
      "Epoch 5/30\n",
      "56/56 - 0s - loss: 1.3830 - accuracy: 0.5562 - val_loss: 1.3375 - val_accuracy: 0.6112\n",
      "Epoch 6/30\n",
      "56/56 - 0s - loss: 1.2314 - accuracy: 0.7169 - val_loss: 1.1788 - val_accuracy: 0.7258\n",
      "Epoch 7/30\n",
      "56/56 - 0s - loss: 1.0663 - accuracy: 0.7893 - val_loss: 1.0227 - val_accuracy: 0.8135\n",
      "Epoch 8/30\n",
      "56/56 - 0s - loss: 0.9040 - accuracy: 0.8753 - val_loss: 0.8730 - val_accuracy: 0.8607\n",
      "Epoch 9/30\n",
      "56/56 - 0s - loss: 0.7527 - accuracy: 0.8989 - val_loss: 0.7406 - val_accuracy: 0.8719\n",
      "Epoch 10/30\n",
      "56/56 - 0s - loss: 0.6162 - accuracy: 0.9202 - val_loss: 0.6253 - val_accuracy: 0.8854\n",
      "Epoch 11/30\n",
      "56/56 - 0s - loss: 0.4992 - accuracy: 0.9309 - val_loss: 0.5288 - val_accuracy: 0.8944\n",
      "Epoch 12/30\n",
      "56/56 - 0s - loss: 0.4080 - accuracy: 0.9348 - val_loss: 0.4563 - val_accuracy: 0.8944\n",
      "Epoch 13/30\n",
      "56/56 - 0s - loss: 0.3401 - accuracy: 0.9438 - val_loss: 0.4068 - val_accuracy: 0.8966\n",
      "Epoch 14/30\n",
      "56/56 - 0s - loss: 0.2894 - accuracy: 0.9522 - val_loss: 0.3672 - val_accuracy: 0.8966\n",
      "Epoch 15/30\n",
      "56/56 - 0s - loss: 0.2499 - accuracy: 0.9556 - val_loss: 0.3391 - val_accuracy: 0.9011\n",
      "Epoch 16/30\n",
      "56/56 - 0s - loss: 0.2196 - accuracy: 0.9584 - val_loss: 0.3165 - val_accuracy: 0.8989\n",
      "Epoch 17/30\n",
      "56/56 - 0s - loss: 0.1943 - accuracy: 0.9629 - val_loss: 0.2996 - val_accuracy: 0.9011\n",
      "Epoch 18/30\n",
      "56/56 - 0s - loss: 0.1723 - accuracy: 0.9691 - val_loss: 0.2877 - val_accuracy: 0.9011\n",
      "Epoch 19/30\n",
      "56/56 - 0s - loss: 0.1569 - accuracy: 0.9697 - val_loss: 0.2744 - val_accuracy: 0.9056\n",
      "Epoch 20/30\n",
      "56/56 - 0s - loss: 0.1405 - accuracy: 0.9742 - val_loss: 0.2686 - val_accuracy: 0.9034\n",
      "Epoch 21/30\n",
      "56/56 - 0s - loss: 0.1263 - accuracy: 0.9770 - val_loss: 0.2561 - val_accuracy: 0.9101\n",
      "Epoch 22/30\n",
      "56/56 - 0s - loss: 0.1138 - accuracy: 0.9820 - val_loss: 0.2490 - val_accuracy: 0.9124\n",
      "Epoch 23/30\n",
      "56/56 - 0s - loss: 0.1018 - accuracy: 0.9837 - val_loss: 0.2405 - val_accuracy: 0.9169\n",
      "Epoch 24/30\n",
      "56/56 - 0s - loss: 0.0923 - accuracy: 0.9860 - val_loss: 0.2409 - val_accuracy: 0.9124\n",
      "Epoch 25/30\n",
      "56/56 - 0s - loss: 0.0835 - accuracy: 0.9893 - val_loss: 0.2300 - val_accuracy: 0.9236\n",
      "Epoch 26/30\n",
      "56/56 - 0s - loss: 0.0757 - accuracy: 0.9921 - val_loss: 0.2292 - val_accuracy: 0.9191\n",
      "Epoch 27/30\n",
      "56/56 - 0s - loss: 0.0683 - accuracy: 0.9927 - val_loss: 0.2224 - val_accuracy: 0.9303\n",
      "Epoch 28/30\n",
      "56/56 - 0s - loss: 0.0624 - accuracy: 0.9966 - val_loss: 0.2194 - val_accuracy: 0.9258\n",
      "Epoch 29/30\n",
      "56/56 - 0s - loss: 0.0567 - accuracy: 0.9978 - val_loss: 0.2161 - val_accuracy: 0.9303\n",
      "Epoch 30/30\n",
      "56/56 - 0s - loss: 0.0517 - accuracy: 0.9983 - val_loss: 0.2154 - val_accuracy: 0.9303\n"
     ]
    }
   ],
   "source": [
    "num_epochs = 30\n",
    "history = model.fit(train_padded, training_label_seq, epochs = num_epochs, \n",
    "                    validation_data = (validation_padded, validation_label_seq), verbose = 2) # YOUR CODE HERE)"
   ]
  },
  {
   "cell_type": "code",
   "execution_count": 21,
   "metadata": {
    "id": "dQ0BX2apXS9u"
   },
   "outputs": [
    {
     "data": {
      "image/png": "[encoded data removed]",
      "text/plain": [
       "<Figure size 432x288 with 1 Axes>"
      ]
     },
     "metadata": {
      "needs_background": "light"
     },
     "output_type": "display_data"
    },
    {
     "data": {
      "image/png": "[encoded data removed]",
      "text/plain": [
       "<Figure size 432x288 with 1 Axes>"
      ]
     },
     "metadata": {
      "needs_background": "light"
     },
     "output_type": "display_data"
    }
   ],
   "source": [
    "import matplotlib.pyplot as plt\n",
    "\n",
    "\n",
    "def plot_graphs(history, string):\n",
    "    plt.plot(history.history[string])\n",
    "    plt.plot(history.history['val_'+string])\n",
    "    plt.xlabel(\"Epochs\")\n",
    "    plt.ylabel(string)\n",
    "    plt.legend([string, 'val_'+string])\n",
    "    plt.show()\n",
    "\n",
    "plot_graphs(history, \"accuracy\")\n",
    "plot_graphs(history, \"loss\")"
   ]
  },
  {
   "cell_type": "code",
   "execution_count": 22,
   "metadata": {
    "id": "w7Xc-uWxXhML"
   },
   "outputs": [],
   "source": [
    "reverse_word_index = dict([(value, key) for (key, value) in word_index.items()])\n",
    "\n",
    "def decode_sentence(text):\n",
    "    return ' '.join([reverse_word_index.get(i, '?') for i in text])\n"
   ]
  },
  {
   "cell_type": "code",
   "execution_count": 23,
   "metadata": {
    "id": "OhnFA_TDXrih"
   },
   "outputs": [
    {
     "name": "stdout",
     "output_type": "stream",
     "text": [
      "(1000, 16)\n"
     ]
    }
   ],
   "source": [
    "e = model.layers[0]\n",
    "weights = e.get_weights()[0]\n",
    "print(weights.shape) # shape: (vocab_size, embedding_dim)\n",
    "\n",
    "# Expected output\n",
    "# (1000, 16)"
   ]
  },
  {
   "cell_type": "code",
   "execution_count": 24,
   "metadata": {
    "id": "_POzcWWAXudL"
   },
   "outputs": [],
   "source": [
    "import io\n",
    "\n",
    "out_v = io.open('vecs.tsv', 'w', encoding='utf-8')\n",
    "out_m = io.open('meta.tsv', 'w', encoding='utf-8')\n",
    "for word_num in range(1, vocab_size):\n",
    "    word = reverse_word_index[word_num]\n",
    "    embeddings = weights[word_num]\n",
    "    out_m.write(word + \"\\n\")\n",
    "    out_v.write('\\t'.join([str(x) for x in embeddings]) + \"\\n\")\n",
    "out_v.close()\n",
    "out_m.close()"
   ]
  },
  {
   "cell_type": "code",
   "execution_count": 25,
   "metadata": {
    "id": "VmqpQMZ_XyOa"
   },
   "outputs": [],
   "source": [
    "try:\n",
    "    from google.colab import files\n",
    "except ImportError:\n",
    "    pass\n",
    "else:\n",
    "    files.download('vecs.tsv')\n",
    "    files.download('meta.tsv')"
   ]
  },
  {
   "cell_type": "code",
   "execution_count": null,
   "metadata": {},
   "outputs": [],
   "source": []
  }
 ],
 "metadata": {
  "accelerator": "GPU",
  "colab": {
   "name": "Course 3 - Week 2 - Exercise - Question.ipynb",
   "provenance": [],
   "toc_visible": true
  },
  "kernelspec": {
   "display_name": "Python 3",
   "language": "python",
   "name": "python3"
  },
  "language_info": {
   "codemirror_mode": {
    "name": "ipython",
    "version": 3
   },
   "file_extension": ".py",
   "mimetype": "text/x-python",
   "name": "python",
   "nbconvert_exporter": "python",
   "pygments_lexer": "ipython3",
   "version": "3.7.1"
  }
 },
 "nbformat": 4,
 "nbformat_minor": 2
}
