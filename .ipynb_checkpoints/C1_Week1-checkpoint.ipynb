{
 "cells": [
  {
   "cell_type": "markdown",
   "metadata": {},
   "source": [
    "---\n",
    "\n",
    "_You are currently looking at **version 1.1** of this notebook. To download notebooks and datafiles, as well as get help on Jupyter notebooks in the Coursera platform, visit the [Jupyter Notebook FAQ](https://www.coursera.org/learn/python-data-analysis/resources/0dhYG) course resource._\n",
    "\n",
    "---"
   ]
  },
  {
   "cell_type": "markdown",
   "metadata": {
    "toc-hr-collapsed": false
   },
   "source": [
    "# The Python Programming Language: Functions"
   ]
  },
  {
   "cell_type": "markdown",
   "metadata": {},
   "source": [
    "<br>\n",
    "`add_numbers` is a function that takes two numbers and adds them together."
   ]
  },
  {
   "cell_type": "code",
   "execution_count": 1,
   "metadata": {},
   "outputs": [
    {
     "data": {
      "text/plain": [
       "3"
      ]
     },
     "execution_count": 1,
     "metadata": {},
     "output_type": "execute_result"
    }
   ],
   "source": [
    "def add_numbers(x, y):\n",
    "    return x + y\n",
    "\n",
    "add_numbers(1, 2)"
   ]
  },
  {
   "cell_type": "markdown",
   "metadata": {},
   "source": [
    "<br>\n",
    "`add_numbers` updated to take an optional 3rd parameter. Using `print` allows printing of multiple expressions within a single cell."
   ]
  },
  {
   "cell_type": "code",
   "execution_count": 2,
   "metadata": {},
   "outputs": [
    {
     "name": "stdout",
     "output_type": "stream",
     "text": [
      "3\n",
      "6\n"
     ]
    }
   ],
   "source": [
    "def add_numbers(x,y,z=None): #We can add default value to the parameters, \n",
    "    #so that we can use the same function in different ways without rewrite it.\n",
    "    if (z==None):\n",
    "        return x+y\n",
    "    else:\n",
    "        return x+y+z\n",
    "\n",
    "print(add_numbers(1, 2))\n",
    "print(add_numbers(1, 2, 3))"
   ]
  },
  {
   "cell_type": "markdown",
   "metadata": {},
   "source": [
    "<br>\n",
    "`add_numbers` updated to take an optional flag parameter."
   ]
  },
  {
   "cell_type": "code",
   "execution_count": 101,
   "metadata": {},
   "outputs": [
    {
     "name": "stdout",
     "output_type": "stream",
     "text": [
      "Flag is true!\n",
      "3\n"
     ]
    }
   ],
   "source": [
    "def add_numbers(x, y, z=None, flag=False):\n",
    "    if (flag):\n",
    "        print('Flag is true!')\n",
    "    if (z==None):\n",
    "        return x + y\n",
    "    else:\n",
    "        return x + y + z\n",
    "    \n",
    "print(add_numbers(1, 2, flag=True))"
   ]
  },
  {
   "cell_type": "markdown",
   "metadata": {},
   "source": [
    "<br>\n",
    "Assign function `add_numbers` to variable `a`."
   ]
  },
  {
   "cell_type": "code",
   "execution_count": 102,
   "metadata": {},
   "outputs": [
    {
     "data": {
      "text/plain": [
       "3"
      ]
     },
     "execution_count": 102,
     "metadata": {},
     "output_type": "execute_result"
    }
   ],
   "source": [
    "def add_numbers(x,y):\n",
    "    return x+y\n",
    "\n",
    "a = add_numbers\n",
    "a(1,2)"
   ]
  },
  {
   "cell_type": "markdown",
   "metadata": {},
   "source": [
    "<br>\n",
    "# The Python Programming Language: Types and Sequences"
   ]
  },
  {
   "cell_type": "markdown",
   "metadata": {},
   "source": [
    "<br>\n",
    "Use `type` to return the object's type."
   ]
  },
  {
   "cell_type": "code",
   "execution_count": 103,
   "metadata": {},
   "outputs": [
    {
     "data": {
      "text/plain": [
       "str"
      ]
     },
     "execution_count": 103,
     "metadata": {},
     "output_type": "execute_result"
    }
   ],
   "source": [
    "type('This is a string')"
   ]
  },
  {
   "cell_type": "code",
   "execution_count": 104,
   "metadata": {},
   "outputs": [
    {
     "data": {
      "text/plain": [
       "NoneType"
      ]
     },
     "execution_count": 104,
     "metadata": {},
     "output_type": "execute_result"
    }
   ],
   "source": [
    "type(None)"
   ]
  },
  {
   "cell_type": "code",
   "execution_count": 105,
   "metadata": {},
   "outputs": [
    {
     "data": {
      "text/plain": [
       "int"
      ]
     },
     "execution_count": 105,
     "metadata": {},
     "output_type": "execute_result"
    }
   ],
   "source": [
    "type(1)"
   ]
  },
  {
   "cell_type": "code",
   "execution_count": 106,
   "metadata": {},
   "outputs": [
    {
     "data": {
      "text/plain": [
       "float"
      ]
     },
     "execution_count": 106,
     "metadata": {},
     "output_type": "execute_result"
    }
   ],
   "source": [
    "type(1.0)"
   ]
  },
  {
   "cell_type": "code",
   "execution_count": 107,
   "metadata": {},
   "outputs": [
    {
     "data": {
      "text/plain": [
       "function"
      ]
     },
     "execution_count": 107,
     "metadata": {},
     "output_type": "execute_result"
    }
   ],
   "source": [
    "type(add_numbers)"
   ]
  },
  {
   "cell_type": "markdown",
   "metadata": {},
   "source": [
    "<br>\n",
    "Tuples are an immutable data structure (cannot be altered)."
   ]
  },
  {
   "cell_type": "code",
   "execution_count": 108,
   "metadata": {},
   "outputs": [
    {
     "data": {
      "text/plain": [
       "tuple"
      ]
     },
     "execution_count": 108,
     "metadata": {},
     "output_type": "execute_result"
    }
   ],
   "source": [
    "x = (1, 'a', 2, 'b')\n",
    "type(x)"
   ]
  },
  {
   "cell_type": "markdown",
   "metadata": {},
   "source": [
    "<br>\n",
    "Lists are a mutable data structure."
   ]
  },
  {
   "cell_type": "code",
   "execution_count": 109,
   "metadata": {},
   "outputs": [
    {
     "data": {
      "text/plain": [
       "list"
      ]
     },
     "execution_count": 109,
     "metadata": {},
     "output_type": "execute_result"
    }
   ],
   "source": [
    "x = [1, 'a', 2, 'b']\n",
    "type(x)"
   ]
  },
  {
   "cell_type": "markdown",
   "metadata": {},
   "source": [
    "<br>\n",
    "Use `append` to append an object to a list."
   ]
  },
  {
   "cell_type": "code",
   "execution_count": 110,
   "metadata": {},
   "outputs": [
    {
     "name": "stdout",
     "output_type": "stream",
     "text": [
      "[1, 'a', 2, 'b', 3.3]\n"
     ]
    }
   ],
   "source": [
    "x.append(3.3)\n",
    "print(x)"
   ]
  },
  {
   "cell_type": "markdown",
   "metadata": {},
   "source": [
    "<br>\n",
    "This is an example of how to loop through each item in the list."
   ]
  },
  {
   "cell_type": "code",
   "execution_count": 111,
   "metadata": {},
   "outputs": [
    {
     "name": "stdout",
     "output_type": "stream",
     "text": [
      "1\n",
      "a\n",
      "2\n",
      "b\n",
      "3.3\n"
     ]
    }
   ],
   "source": [
    "for item in x:\n",
    "    print(item)"
   ]
  },
  {
   "cell_type": "markdown",
   "metadata": {},
   "source": [
    "<br>\n",
    "Or using the indexing operator:\n",
    "<br>\n",
    "THIS IS A GOOD ONE!!!!!\n",
    "    "
   ]
  },
  {
   "cell_type": "code",
   "execution_count": 112,
   "metadata": {},
   "outputs": [
    {
     "name": "stdout",
     "output_type": "stream",
     "text": [
      "1\n",
      "a\n",
      "2\n",
      "b\n",
      "3.3\n"
     ]
    }
   ],
   "source": [
    "i=0\n",
    "while( i != len(x) ):\n",
    "    print(x[i])\n",
    "    i = i + 1"
   ]
  },
  {
   "cell_type": "markdown",
   "metadata": {},
   "source": [
    "<br>\n",
    "Use `+` to concatenate lists."
   ]
  },
  {
   "cell_type": "code",
   "execution_count": 113,
   "metadata": {},
   "outputs": [
    {
     "data": {
      "text/plain": [
       "[1, 2, 3, 4]"
      ]
     },
     "execution_count": 113,
     "metadata": {},
     "output_type": "execute_result"
    }
   ],
   "source": [
    "[1,2] + [3,4]"
   ]
  },
  {
   "cell_type": "markdown",
   "metadata": {},
   "source": [
    "<br>\n",
    "Use `*` to repeat lists."
   ]
  },
  {
   "cell_type": "code",
   "execution_count": 114,
   "metadata": {},
   "outputs": [
    {
     "data": {
      "text/plain": [
       "[1, 1, 1]"
      ]
     },
     "execution_count": 114,
     "metadata": {},
     "output_type": "execute_result"
    }
   ],
   "source": [
    "[1]*3"
   ]
  },
  {
   "cell_type": "markdown",
   "metadata": {},
   "source": [
    "<br>\n",
    "Use the `in` operator to check if something is inside a list."
   ]
  },
  {
   "cell_type": "code",
   "execution_count": 115,
   "metadata": {},
   "outputs": [
    {
     "data": {
      "text/plain": [
       "True"
      ]
     },
     "execution_count": 115,
     "metadata": {},
     "output_type": "execute_result"
    }
   ],
   "source": [
    "1 in [1, 2, 3]"
   ]
  },
  {
   "cell_type": "markdown",
   "metadata": {},
   "source": [
    "<br>\n",
    "Now let's look at strings. Use bracket notation to slice a string."
   ]
  },
  {
   "cell_type": "code",
   "execution_count": 116,
   "metadata": {},
   "outputs": [
    {
     "name": "stdout",
     "output_type": "stream",
     "text": [
      "T\n",
      "T\n",
      "Th\n"
     ]
    }
   ],
   "source": [
    "x = 'This is a string'\n",
    "print(x[0]) #first character\n",
    "print(x[0:1]) #first character, but we have explicitly set the end character\n",
    "#↑ The right ] doesn't included the end number.\n",
    "print(x[0:2]) #first two characters\n"
   ]
  },
  {
   "cell_type": "markdown",
   "metadata": {},
   "source": [
    "<br>\n",
    "INDEXING CAN BE NEGATIVE!!!!     \n",
    "\n",
    "This will return the last element of the string."
   ]
  },
  {
   "cell_type": "code",
   "execution_count": 117,
   "metadata": {},
   "outputs": [
    {
     "data": {
      "text/plain": [
       "'g'"
      ]
     },
     "execution_count": 117,
     "metadata": {},
     "output_type": "execute_result"
    }
   ],
   "source": [
    "x[-1]"
   ]
  },
  {
   "cell_type": "markdown",
   "metadata": {},
   "source": [
    "<br>\n",
    "This will return the slice starting from the 4th element from the end and stopping before the 2nd element from the end."
   ]
  },
  {
   "cell_type": "code",
   "execution_count": 118,
   "metadata": {},
   "outputs": [
    {
     "data": {
      "text/plain": [
       "'ri'"
      ]
     },
     "execution_count": 118,
     "metadata": {},
     "output_type": "execute_result"
    }
   ],
   "source": [
    "x[-4:-2]"
   ]
  },
  {
   "cell_type": "markdown",
   "metadata": {},
   "source": [
    "<br>\n",
    "This is a slice from the beginning of the string and stopping before the 3rd element."
   ]
  },
  {
   "cell_type": "code",
   "execution_count": 119,
   "metadata": {},
   "outputs": [
    {
     "data": {
      "text/plain": [
       "'Thi'"
      ]
     },
     "execution_count": 119,
     "metadata": {},
     "output_type": "execute_result"
    }
   ],
   "source": [
    "x[:3]"
   ]
  },
  {
   "cell_type": "markdown",
   "metadata": {},
   "source": [
    "<br>\n",
    "And this is a slice starting from the 4th element of the string and going all the way to the end."
   ]
  },
  {
   "cell_type": "code",
   "execution_count": 120,
   "metadata": {},
   "outputs": [
    {
     "data": {
      "text/plain": [
       "'s is a string'"
      ]
     },
     "execution_count": 120,
     "metadata": {},
     "output_type": "execute_result"
    }
   ],
   "source": [
    "x[3:]"
   ]
  },
  {
   "cell_type": "code",
   "execution_count": 121,
   "metadata": {},
   "outputs": [
    {
     "name": "stdout",
     "output_type": "stream",
     "text": [
      "Christopher Brooks\n",
      "ChristopherChristopherChristopher\n",
      "True\n"
     ]
    }
   ],
   "source": [
    "firstname = 'Christopher'\n",
    "lastname = 'Brooks'\n",
    "\n",
    "print(firstname + ' ' + lastname)\n",
    "print(firstname*3)\n",
    "print('Chris' in firstname)# To check whether it's true or not\n"
   ]
  },
  {
   "cell_type": "markdown",
   "metadata": {},
   "source": [
    "<br>\n",
    "`split` returns a list of all the words in a string, or a list split on a specific character."
   ]
  },
  {
   "cell_type": "code",
   "execution_count": 122,
   "metadata": {},
   "outputs": [
    {
     "name": "stdout",
     "output_type": "stream",
     "text": [
      "Christopher\n",
      "Brooks\n"
     ]
    }
   ],
   "source": [
    "firstname = 'Christopher Arthur Hansen Brooks'.split(' ')[0] # [0] selects the first element of the list\n",
    "lastname = 'Christopher Arthur Hansen Brooks'.split(' ')[-1] # [-1] selects the last element of the list\n",
    "print(firstname)\n",
    "print(lastname)"
   ]
  },
  {
   "cell_type": "markdown",
   "metadata": {},
   "source": [
    "<br>\n",
    "Make sure you convert objects to strings before concatenating."
   ]
  },
  {
   "cell_type": "code",
   "execution_count": 123,
   "metadata": {},
   "outputs": [
    {
     "ename": "TypeError",
     "evalue": "cannot concatenate 'str' and 'int' objects",
     "output_type": "error",
     "traceback": [
      "\u001b[0;31m---------------------------------------------------------------------------\u001b[0m",
      "\u001b[0;31mTypeError\u001b[0m                                 Traceback (most recent call last)",
      "\u001b[0;32m<ipython-input-123-1623ac76de6e>\u001b[0m in \u001b[0;36m<module>\u001b[0;34m()\u001b[0m\n\u001b[0;32m----> 1\u001b[0;31m \u001b[0;34m'Chris'\u001b[0m \u001b[0;34m+\u001b[0m \u001b[0;36m2\u001b[0m\u001b[0;34m\u001b[0m\u001b[0m\n\u001b[0m",
      "\u001b[0;31mTypeError\u001b[0m: cannot concatenate 'str' and 'int' objects"
     ]
    }
   ],
   "source": [
    "'Chris' + 2"
   ]
  },
  {
   "cell_type": "code",
   "execution_count": null,
   "metadata": {
    "collapsed": true
   },
   "outputs": [],
   "source": [
    "'Chris' + str(2)"
   ]
  },
  {
   "cell_type": "markdown",
   "metadata": {},
   "source": [
    "<br>\n",
    "Dictionaries associate keys with values."
   ]
  },
  {
   "cell_type": "code",
   "execution_count": null,
   "metadata": {
    "collapsed": true
   },
   "outputs": [],
   "source": [
    "x = {'Christopher Brooks': 'brooksch@umich.edu', 'Bill Gates': 'billg@microsoft.com'}\n",
    "x['Christopher Brooks'] # Retrieve a value by using the indexing operator\n"
   ]
  },
  {
   "cell_type": "code",
   "execution_count": null,
   "metadata": {
    "collapsed": true
   },
   "outputs": [],
   "source": [
    "x['Kevyn Collins-Thompson'] = None\n",
    "x['Kevyn Collins-Thompson']"
   ]
  },
  {
   "cell_type": "markdown",
   "metadata": {},
   "source": [
    "<br>\n",
    "Iterate over all of the keys:"
   ]
  },
  {
   "cell_type": "code",
   "execution_count": null,
   "metadata": {
    "collapsed": true,
    "scrolled": true
   },
   "outputs": [],
   "source": [
    "for name in x:\n",
    "    print(x[name])"
   ]
  },
  {
   "cell_type": "markdown",
   "metadata": {},
   "source": [
    "<br>\n",
    "Iterate over all of the values:"
   ]
  },
  {
   "cell_type": "code",
   "execution_count": null,
   "metadata": {
    "collapsed": true
   },
   "outputs": [],
   "source": [
    "for email in x.values(): # put all the values of dictionary X in a loop\n",
    "    print(email)"
   ]
  },
  {
   "cell_type": "markdown",
   "metadata": {},
   "source": [
    "<br>\n",
    "Iterate over all of the items in the list:"
   ]
  },
  {
   "cell_type": "code",
   "execution_count": null,
   "metadata": {
    "collapsed": true
   },
   "outputs": [],
   "source": [
    "for name, email in x.items():\n",
    "    print(name)\n",
    "    print(email)"
   ]
  },
  {
   "cell_type": "markdown",
   "metadata": {},
   "source": [
    "<br>\n",
    "You can unpack a sequence into different variables:"
   ]
  },
  {
   "cell_type": "code",
   "execution_count": null,
   "metadata": {
    "collapsed": true
   },
   "outputs": [],
   "source": [
    "x = ('Christopher', 'Brooks', 'brooksch@umich.edu')\n",
    "fname, lname, email = x"
   ]
  },
  {
   "cell_type": "code",
   "execution_count": null,
   "metadata": {
    "collapsed": true
   },
   "outputs": [],
   "source": [
    "fname"
   ]
  },
  {
   "cell_type": "code",
   "execution_count": null,
   "metadata": {
    "collapsed": true
   },
   "outputs": [],
   "source": [
    "lname"
   ]
  },
  {
   "cell_type": "markdown",
   "metadata": {},
   "source": [
    "<br>\n",
    "Make sure the number of values you are unpacking matches the number of variables being assigned."
   ]
  },
  {
   "cell_type": "code",
   "execution_count": null,
   "metadata": {
    "collapsed": true
   },
   "outputs": [],
   "source": [
    "x = ('Christopher', 'Brooks', 'brooksch@umich.edu', 'Ann Arbor')\n",
    "fname, lname, email = x"
   ]
  },
  {
   "cell_type": "markdown",
   "metadata": {},
   "source": [
    "<br>\n",
    "# The Python Programming Language: More on Strings"
   ]
  },
  {
   "cell_type": "code",
   "execution_count": null,
   "metadata": {
    "collapsed": true
   },
   "outputs": [],
   "source": [
    "print('Chris' + 2)"
   ]
  },
  {
   "cell_type": "code",
   "execution_count": null,
   "metadata": {
    "collapsed": true
   },
   "outputs": [],
   "source": [
    "print('Chris' + str(2))"
   ]
  },
  {
   "cell_type": "markdown",
   "metadata": {},
   "source": [
    "<br>\n",
    "Python has a built in method for convenient string formatting."
   ]
  },
  {
   "cell_type": "code",
   "execution_count": null,
   "metadata": {
    "collapsed": true
   },
   "outputs": [],
   "source": [
    "sales_record = {\n",
    "'price': 3.24,\n",
    "'num_items': 4,\n",
    "'person': 'Chris'}\n",
    "\n",
    "sales_statement = '{} bought {} item(s) at a price of {} each for a total of {}'\n",
    "\n",
    "# Here comes the formatting function\n",
    "print(sales_statement.format(sales_record['person'],\n",
    "                             sales_record['num_items'],\n",
    "                             sales_record['price'],\n",
    "                             sales_record['num_items']*sales_record['price']))\n"
   ]
  },
  {
   "cell_type": "markdown",
   "metadata": {},
   "source": [
    "<br>\n",
    "# Reading and Writing CSV files"
   ]
  },
  {
   "cell_type": "markdown",
   "metadata": {},
   "source": [
    "<br>\n",
    "Let's import our datafile mpg.csv, which contains fuel economy data for 234 cars.\n",
    "\n",
    "* mpg : miles per gallon\n",
    "* class : car classification\n",
    "* cty : city mpg\n",
    "* cyl : # of cylinders\n",
    "* displ : engine displacement in liters\n",
    "* drv : f = front-wheel drive, r = rear wheel drive, 4 = 4wd\n",
    "* fl : fuel (e = ethanol E85, d = diesel, r = regular, p = premium, c = CNG)\n",
    "* hwy : highway mpg\n",
    "* manufacturer : automobile manufacturer\n",
    "* model : model of car\n",
    "* trans : type of transmission\n",
    "* year : model year"
   ]
  },
  {
   "cell_type": "code",
   "execution_count": null,
   "metadata": {
    "collapsed": true,
    "scrolled": true
   },
   "outputs": [],
   "source": [
    "import csv\n",
    "\n",
    "%precision 2\n",
    "\n",
    "with open('mpg.csv') as csvfile:\n",
    "    mpg = list(csv.DictReader(csvfile))\n",
    "    \n",
    "mpg[:3] # The first three dictionaries in our list."
   ]
  },
  {
   "cell_type": "markdown",
   "metadata": {},
   "source": [
    "<br>\n",
    "`csv.Dictreader` has read in each row of our csv file as a dictionary. `len` shows that our list is comprised of 234 dictionaries."
   ]
  },
  {
   "cell_type": "code",
   "execution_count": null,
   "metadata": {
    "collapsed": true
   },
   "outputs": [],
   "source": [
    "len(mpg)"
   ]
  },
  {
   "cell_type": "markdown",
   "metadata": {},
   "source": [
    "<br>\n",
    "`keys` gives us the column names of our csv."
   ]
  },
  {
   "cell_type": "code",
   "execution_count": null,
   "metadata": {
    "collapsed": true
   },
   "outputs": [],
   "source": [
    "print mpg[0].keys()\n",
    "print mpg[0].values()"
   ]
  },
  {
   "cell_type": "markdown",
   "metadata": {},
   "source": [
    "<br>\n",
    "This is how to find the average cty fuel economy across all cars. All values in the dictionaries are strings, so we need to convert to float."
   ]
  },
  {
   "cell_type": "code",
   "execution_count": null,
   "metadata": {
    "collapsed": true
   },
   "outputs": [],
   "source": [
    "#This is the average of cylinders across all cars.\n",
    "print sum(float(d['cyl']) for d in mpg) / len(mpg)\n",
    "\n",
    "#This is the average of city fuel economy across all cars.\n",
    "print sum(float(t['cty']) for t in mpg) / len(mpg)"
   ]
  },
  {
   "cell_type": "markdown",
   "metadata": {},
   "source": [
    "<br>\n",
    "Similarly this is how to find the average hwy fuel economy across all cars."
   ]
  },
  {
   "cell_type": "code",
   "execution_count": null,
   "metadata": {
    "collapsed": true
   },
   "outputs": [],
   "source": [
    "sum(float(d['hwy']) for d in mpg) / len(mpg)"
   ]
  },
  {
   "cell_type": "markdown",
   "metadata": {},
   "source": [
    "<br>\n",
    "Use `set` to return the unique values for the number of cylinders the cars in our dataset have."
   ]
  },
  {
   "cell_type": "code",
   "execution_count": null,
   "metadata": {
    "collapsed": true
   },
   "outputs": [],
   "source": [
    "#This will return the unique values - no repetition - of all the _certain items_ in mpg.\n",
    "\n",
    "cylinders = set(d['cyl'] for d in mpg)\n",
    "print cylinders\n",
    "print type(cylinders)\n",
    "\n",
    "city = set(t['cty'] for t in mpg)\n",
    "print city"
   ]
  },
  {
   "cell_type": "markdown",
   "metadata": {},
   "source": [
    "<br>\n",
    "Here's a more complex example where we are grouping the cars by number of cylinder, and finding the average cty mpg for each group."
   ]
  },
  {
   "cell_type": "code",
   "execution_count": 124,
   "metadata": {},
   "outputs": [
    {
     "data": {
      "text/plain": [
       "[('4', 21.01), ('5', 20.50), ('6', 16.22), ('8', 12.57)]"
      ]
     },
     "execution_count": 124,
     "metadata": {},
     "output_type": "execute_result"
    }
   ],
   "source": [
    "cylinders = set(d['cyl'] for d in mpg)#put every unique value of cylinder in mpg into this set named 'cylinders'.\n",
    "\n",
    "CtyMpgByCyl = []\n",
    "\n",
    "for c in cylinders: # iterate over all the cylinder levels\n",
    "    summpg = 0\n",
    "    cyltypecount = 0\n",
    "    for d in mpg: # iterate over all dictionaries\n",
    "        if d['cyl'] == c: # if the cylinder level type matches,\n",
    "            summpg += float(d['cty']) # add the cty mpg\n",
    "            cyltypecount += 1 # increment the count\n",
    "    CtyMpgByCyl.append((c, summpg / cyltypecount)) # append the tuple ('cylinder', 'avg mpg')\n",
    "\n",
    "CtyMpgByCyl.sort(key=lambda y: y[0]) #Sorting this tuple with ascending order\n",
    "CtyMpgByCyl"
   ]
  },
  {
   "cell_type": "markdown",
   "metadata": {},
   "source": [
    "<br>\n",
    "Use `set` to return the unique values for the class types in our dataset."
   ]
  },
  {
   "cell_type": "code",
   "execution_count": 125,
   "metadata": {},
   "outputs": [
    {
     "data": {
      "text/plain": [
       "{'2seater', 'compact', 'midsize', 'minivan', 'pickup', 'subcompact', 'suv'}"
      ]
     },
     "execution_count": 125,
     "metadata": {},
     "output_type": "execute_result"
    }
   ],
   "source": [
    "vehicleclass = set(d['class'] for d in mpg) # what are the class types\n",
    "vehicleclass"
   ]
  },
  {
   "cell_type": "markdown",
   "metadata": {},
   "source": [
    "<br>\n",
    "And here's an example of how to find the average hwy mpg for each class of vehicle in our dataset."
   ]
  },
  {
   "cell_type": "code",
   "execution_count": 126,
   "metadata": {},
   "outputs": [
    {
     "data": {
      "text/plain": [
       "[('pickup', 16.88),\n",
       " ('suv', 18.13),\n",
       " ('minivan', 22.36),\n",
       " ('2seater', 24.80),\n",
       " ('midsize', 27.29),\n",
       " ('subcompact', 28.14),\n",
       " ('compact', 28.30)]"
      ]
     },
     "execution_count": 126,
     "metadata": {},
     "output_type": "execute_result"
    }
   ],
   "source": [
    "vehicleclass = set(d['class'] for d in mpg)\n",
    "\n",
    "HwyMpgByClass = []\n",
    "\n",
    "for t in vehicleclass: # iterate over all the vehicle classes\n",
    "    summpg = 0\n",
    "    vclasscount = 0\n",
    "    for d in mpg: # iterate over all dictionaries\n",
    "        if d['class'] == t: # if the cylinder amount type matches,\n",
    "            summpg += float(d['hwy']) # add the hwy mpg\n",
    "            vclasscount += 1 # increment the count\n",
    "    HwyMpgByClass.append((t, summpg / vclasscount)) # append the tuple ('class', 'avg mpg')\n",
    "\n",
    "HwyMpgByClass.sort(key=lambda x: x[1])\n",
    "HwyMpgByClass"
   ]
  },
  {
   "cell_type": "markdown",
   "metadata": {},
   "source": [
    "<br>\n",
    "# The Python Programming Language: Dates and Times"
   ]
  },
  {
   "cell_type": "code",
   "execution_count": 127,
   "metadata": {
    "collapsed": true
   },
   "outputs": [],
   "source": [
    "import datetime as dt\n",
    "import time as tm"
   ]
  },
  {
   "cell_type": "markdown",
   "metadata": {},
   "source": [
    "<br>\n",
    "`time` returns the current time in seconds since the Epoch. (January 1st, 1970)"
   ]
  },
  {
   "cell_type": "code",
   "execution_count": 135,
   "metadata": {},
   "outputs": [
    {
     "data": {
      "text/plain": [
       "1516869752.01"
      ]
     },
     "execution_count": 135,
     "metadata": {},
     "output_type": "execute_result"
    }
   ],
   "source": [
    "tm.time()"
   ]
  },
  {
   "cell_type": "markdown",
   "metadata": {},
   "source": [
    "<br>\n",
    "Convert the timestamp to datetime."
   ]
  },
  {
   "cell_type": "code",
   "execution_count": 131,
   "metadata": {},
   "outputs": [
    {
     "data": {
      "text/plain": [
       "datetime.datetime(2018, 1, 25, 16, 42, 15, 492246)"
      ]
     },
     "execution_count": 131,
     "metadata": {},
     "output_type": "execute_result"
    }
   ],
   "source": [
    "dtnow = dt.datetime.fromtimestamp(tm.time())\n",
    "dtnow"
   ]
  },
  {
   "cell_type": "markdown",
   "metadata": {},
   "source": [
    "<br>\n",
    "Handy datetime attributes:"
   ]
  },
  {
   "cell_type": "code",
   "execution_count": 136,
   "metadata": {},
   "outputs": [
    {
     "data": {
      "text/plain": [
       "(2018, 1, 25, 16, 42, 15)"
      ]
     },
     "execution_count": 136,
     "metadata": {},
     "output_type": "execute_result"
    }
   ],
   "source": [
    "dtnow.year, dtnow.month, dtnow.day, dtnow.hour, dtnow.minute, dtnow.second # get year, month, day, etc.from a datetime\n"
   ]
  },
  {
   "cell_type": "markdown",
   "metadata": {},
   "source": [
    "<br>\n",
    "`timedelta` is a duration expressing the difference between two dates."
   ]
  },
  {
   "cell_type": "code",
   "execution_count": 137,
   "metadata": {},
   "outputs": [
    {
     "data": {
      "text/plain": [
       "datetime.timedelta(100)"
      ]
     },
     "execution_count": 137,
     "metadata": {},
     "output_type": "execute_result"
    }
   ],
   "source": [
    "delta = dt.timedelta(days = 100) # create a timedelta of 100 days\n",
    "delta"
   ]
  },
  {
   "cell_type": "markdown",
   "metadata": {},
   "source": [
    "<br>\n",
    "`date.today` returns the current local date."
   ]
  },
  {
   "cell_type": "code",
   "execution_count": 144,
   "metadata": {},
   "outputs": [
    {
     "data": {
      "text/plain": [
       "datetime.date(2018, 1, 25)"
      ]
     },
     "execution_count": 144,
     "metadata": {},
     "output_type": "execute_result"
    }
   ],
   "source": [
    "today = dt.date.today()\n",
    "today"
   ]
  },
  {
   "cell_type": "code",
   "execution_count": 142,
   "metadata": {},
   "outputs": [
    {
     "data": {
      "text/plain": [
       "datetime.date(2017, 10, 17)"
      ]
     },
     "execution_count": 142,
     "metadata": {},
     "output_type": "execute_result"
    }
   ],
   "source": [
    "today - delta # the date 100 days ago"
   ]
  },
  {
   "cell_type": "code",
   "execution_count": 143,
   "metadata": {},
   "outputs": [
    {
     "data": {
      "text/plain": [
       "True"
      ]
     },
     "execution_count": 143,
     "metadata": {},
     "output_type": "execute_result"
    }
   ],
   "source": [
    "today > today-delta # compare dates"
   ]
  },
  {
   "cell_type": "markdown",
   "metadata": {},
   "source": [
    "<br>\n",
    "# The Python Programming Language: Objects and map()"
   ]
  },
  {
   "cell_type": "markdown",
   "metadata": {},
   "source": [
    "<br>\n",
    "An example of a class in python:"
   ]
  },
  {
   "cell_type": "code",
   "execution_count": 4,
   "metadata": {},
   "outputs": [
    {
     "data": {
      "text/plain": [
       "<__main__.Person at 0x10a0fc390>"
      ]
     },
     "execution_count": 4,
     "metadata": {},
     "output_type": "execute_result"
    }
   ],
   "source": [
    "class Person:\n",
    "    department = 'School of Information' #a class variable\n",
    "    \n",
    "    # 'Self' must be included in below methods\n",
    "    def set_name(self, new_name): #a method\n",
    "        self.name = new_name\n",
    "    def set_location(self, new_location):\n",
    "        self.location = new_location\n",
    "\n",
    "Person() "
   ]
  },
  {
   "cell_type": "markdown",
   "metadata": {},
   "source": [
    "![Screenshot%202018-01-31%20at%2017.41.14.png](attachment:Screenshot%202018-01-31%20at%2017.41.14.png)"
   ]
  },
  {
   "cell_type": "code",
   "execution_count": 6,
   "metadata": {},
   "outputs": [
    {
     "name": "stdout",
     "output_type": "stream",
     "text": [
      "Christopher Brooks live(s) in Ann Arbor, MI, USA and work(s) in the department School of Information\n"
     ]
    }
   ],
   "source": [
    "person = Person()\n",
    "person.set_name('Christopher Brooks')\n",
    "person.set_location('Ann Arbor, MI, USA')\n",
    "print('{} live(s) in {} and work(s) in the department {}'.format(person.name, person.location, person.department))"
   ]
  },
  {
   "cell_type": "markdown",
   "metadata": {},
   "source": [
    "<br>\n",
    "Here's an example of mapping the `min` function between two lists."
   ]
  },
  {
   "cell_type": "code",
   "execution_count": 2,
   "metadata": {},
   "outputs": [
    {
     "name": "stdout",
     "output_type": "stream",
     "text": [
      "<map object at 0x10a0fc278>\n"
     ]
    }
   ],
   "source": [
    "store1 = [10.00, 11.00, 12.34, 2.34]\n",
    "store2 = [9.00, 11.10, 12.34, 2.01]\n",
    "cheapest = map(min, store1, store2)\n",
    "print(cheapest)"
   ]
  },
  {
   "cell_type": "markdown",
   "metadata": {},
   "source": [
    "<br>\n",
    "Now let's iterate through the map object to see the values."
   ]
  },
  {
   "cell_type": "code",
   "execution_count": 3,
   "metadata": {
    "collapsed": true,
    "scrolled": true
   },
   "outputs": [
    {
     "name": "stdout",
     "output_type": "stream",
     "text": [
      "9.0\n",
      "11.0\n",
      "12.34\n",
      "2.01\n"
     ]
    }
   ],
   "source": [
    "for item in cheapest:\n",
    "    print(item)"
   ]
  },
  {
   "cell_type": "markdown",
   "metadata": {},
   "source": [
    "<br>\n",
    "# The Python Programming Language: Lambda and List Comprehensions"
   ]
  },
  {
   "cell_type": "markdown",
   "metadata": {},
   "source": [
    "<br>\n",
    "Here's an example of lambda that takes in three parameters and adds the first two."
   ]
  },
  {
   "cell_type": "code",
   "execution_count": 1,
   "metadata": {
    "collapsed": true
   },
   "outputs": [],
   "source": [
    "\n",
    "my_function = lambda a, b, c : a + b"
   ]
  },
  {
   "cell_type": "code",
   "execution_count": 2,
   "metadata": {
    "collapsed": true
   },
   "outputs": [
    {
     "data": {
      "text/plain": [
       "3"
      ]
     },
     "execution_count": 2,
     "metadata": {},
     "output_type": "execute_result"
    }
   ],
   "source": [
    "my_function(1,2,3)"
   ]
  },
  {
   "cell_type": "markdown",
   "metadata": {},
   "source": [
    "<br>\n",
    "Let's iterate from 0 to 999 and return the even numbers."
   ]
  },
  {
   "cell_type": "code",
   "execution_count": 30,
   "metadata": {
    "collapsed": true
   },
   "outputs": [
    {
     "name": "stdout",
     "output_type": "stream",
     "text": [
      "[0, 2, 4, 6, 8, 10, 12, 14, 16, 18, 20, 22, 24, 26, 28, 30, 32, 34, 36, 38, 40, 42, 44, 46, 48, 50, 52, 54, 56, 58, 60, 62, 64, 66, 68, 70, 72, 74, 76, 78, 80, 82, 84, 86, 88, 90, 92, 94, 96, 98, 100, 102, 104, 106, 108, 110, 112, 114, 116, 118, 120, 122, 124, 126, 128, 130, 132, 134, 136, 138, 140, 142, 144, 146, 148, 150, 152, 154, 156, 158, 160, 162, 164, 166, 168, 170, 172, 174, 176, 178, 180, 182, 184, 186, 188, 190, 192, 194, 196, 198, 200, 202, 204, 206, 208, 210, 212, 214, 216, 218, 220, 222, 224, 226, 228, 230, 232, 234, 236, 238, 240, 242, 244, 246, 248, 250, 252, 254, 256, 258, 260, 262, 264, 266, 268, 270, 272, 274, 276, 278, 280, 282, 284, 286, 288, 290, 292, 294, 296, 298, 300, 302, 304, 306, 308, 310, 312, 314, 316, 318, 320, 322, 324, 326, 328, 330, 332, 334, 336, 338, 340, 342, 344, 346, 348, 350, 352, 354, 356, 358, 360, 362, 364, 366, 368, 370, 372, 374, 376, 378, 380, 382, 384, 386, 388, 390, 392, 394, 396, 398, 400, 402, 404, 406, 408, 410, 412, 414, 416, 418, 420, 422, 424, 426, 428, 430, 432, 434, 436, 438, 440, 442, 444, 446, 448, 450, 452, 454, 456, 458, 460, 462, 464, 466, 468, 470, 472, 474, 476, 478, 480, 482, 484, 486, 488, 490, 492, 494, 496, 498, 500, 502, 504, 506, 508, 510, 512, 514, 516, 518, 520, 522, 524, 526, 528, 530, 532, 534, 536, 538, 540, 542, 544, 546, 548, 550, 552, 554, 556, 558, 560, 562, 564, 566, 568, 570, 572, 574, 576, 578, 580, 582, 584, 586, 588, 590, 592, 594, 596, 598, 600, 602, 604, 606, 608, 610, 612, 614, 616, 618, 620, 622, 624, 626, 628, 630, 632, 634, 636, 638, 640, 642, 644, 646, 648, 650, 652, 654, 656, 658, 660, 662, 664, 666, 668, 670, 672, 674, 676, 678, 680, 682, 684, 686, 688, 690, 692, 694, 696, 698, 700, 702, 704, 706, 708, 710, 712, 714, 716, 718, 720, 722, 724, 726, 728, 730, 732, 734, 736, 738, 740, 742, 744, 746, 748, 750, 752, 754, 756, 758, 760, 762, 764, 766, 768, 770, 772, 774, 776, 778, 780, 782, 784, 786, 788, 790, 792, 794, 796, 798, 800, 802, 804, 806, 808, 810, 812, 814, 816, 818, 820, 822, 824, 826, 828, 830, 832, 834, 836, 838, 840, 842, 844, 846, 848, 850, 852, 854, 856, 858, 860, 862, 864, 866, 868, 870, 872, 874, 876, 878, 880, 882, 884, 886, 888, 890, 892, 894, 896, 898, 900, 902, 904, 906, 908, 910, 912, 914, 916, 918, 920, 922, 924, 926, 928, 930, 932, 934, 936, 938, 940, 942, 944, 946, 948, 950, 952, 954, 956, 958, 960, 962, 964, 966, 968, 970, 972, 974, 976, 978, 980, 982, 984, 986, 988, 990, 992, 994, 996, 998]\n"
     ]
    }
   ],
   "source": [
    "my_list = []\n",
    "for number in range(0, 1000):\n",
    "    if number % 2 == 0:\n",
    "        my_list.append(number)\n",
    "#my_list\n",
    "\n",
    "my_list = [number for number in range(0,1000) if number%2 ==0]\n",
    "print(my_list)"
   ]
  },
  {
   "cell_type": "markdown",
   "metadata": {},
   "source": [
    "<br>\n",
    "Now the same thing but with list comprehension."
   ]
  },
  {
   "cell_type": "code",
   "execution_count": null,
   "metadata": {
    "collapsed": true
   },
   "outputs": [],
   "source": [
    "my_list = [number for number in range(0,1000) if number % 2 == 0]\n",
    "my_list"
   ]
  },
  {
   "cell_type": "code",
   "execution_count": 34,
   "metadata": {},
   "outputs": [
    {
     "name": "stdout",
     "output_type": "stream",
     "text": [
      "[0, 0, 0, 0, 0, 0, 0, 0, 0, 0, 0, 1, 2, 3, 4, 5, 6, 7, 8, 9, 0, 2, 4, 6, 8, 10, 12, 14, 16, 18, 0, 3, 6, 9, 12, 15, 18, 21, 24, 27, 0, 4, 8, 12, 16, 20, 24, 28, 32, 36, 0, 5, 10, 15, 20, 25, 30, 35, 40, 45, 0, 6, 12, 18, 24, 30, 36, 42, 48, 54, 0, 7, 14, 21, 28, 35, 42, 49, 56, 63, 0, 8, 16, 24, 32, 40, 48, 56, 64, 72, 0, 9, 18, 27, 36, 45, 54, 63, 72, 81]\n"
     ]
    }
   ],
   "source": [
    "def times_tables():\n",
    "    lst = []\n",
    "    for i in range(10):\n",
    "        for j in range (10):\n",
    "            lst.append(i*j)\n",
    "    return lst\n",
    "\n",
    "times_tables() == [i*j for i in range(10) for j in range(10)]\n",
    "print(times_tables())"
   ]
  },
  {
   "cell_type": "code",
   "execution_count": 42,
   "metadata": {},
   "outputs": [
    {
     "name": "stdout",
     "output_type": "stream",
     "text": [
      "['aa00', 'aa01', 'aa02', 'aa03', 'aa04', 'aa05', 'aa06', 'aa07', 'aa08', 'aa09', 'aa10', 'aa11', 'aa12', 'aa13', 'aa14', 'aa15', 'aa16', 'aa17', 'aa18', 'aa19', 'aa20', 'aa21', 'aa22', 'aa23', 'aa24', 'aa25', 'aa26', 'aa27', 'aa28', 'aa29', 'aa30', 'aa31', 'aa32', 'aa33', 'aa34', 'aa35', 'aa36', 'aa37', 'aa38', 'aa39', 'aa40', 'aa41', 'aa42', 'aa43', 'aa44', 'aa45', 'aa46', 'aa47', 'aa48', 'aa49', 'aa50', 'aa51', 'aa52', 'aa53', 'aa54', 'aa55', 'aa56', 'aa57', 'aa58', 'aa59', 'aa60', 'aa61', 'aa62', 'aa63', 'aa64', 'aa65', 'aa66', 'aa67', 'aa68', 'aa69', 'aa70', 'aa71', 'aa72', 'aa73', 'aa74', 'aa75', 'aa76', 'aa77', 'aa78', 'aa79', 'aa80', 'aa81', 'aa82', 'aa83', 'aa84', 'aa85', 'aa86', 'aa87', 'aa88', 'aa89', 'aa90', 'aa91', 'aa92', 'aa93', 'aa94', 'aa95', 'aa96', 'aa97', 'aa98', 'aa99', 'ab00', 'ab01', 'ab02', 'ab03', 'ab04', 'ab05', 'ab06', 'ab07', 'ab08', 'ab09', 'ab10', 'ab11', 'ab12', 'ab13', 'ab14', 'ab15', 'ab16', 'ab17', 'ab18', 'ab19', 'ab20', 'ab21', 'ab22', 'ab23', 'ab24', 'ab25', 'ab26', 'ab27', 'ab28', 'ab29', 'ab30', 'ab31', 'ab32', 'ab33', 'ab34', 'ab35', 'ab36', 'ab37', 'ab38', 'ab39', 'ab40', 'ab41', 'ab42', 'ab43', 'ab44', 'ab45', 'ab46', 'ab47', 'ab48', 'ab49', 'ab50', 'ab51', 'ab52', 'ab53', 'ab54', 'ab55', 'ab56', 'ab57', 'ab58', 'ab59', 'ab60', 'ab61', 'ab62', 'ab63', 'ab64', 'ab65', 'ab66', 'ab67', 'ab68', 'ab69', 'ab70', 'ab71', 'ab72', 'ab73', 'ab74', 'ab75', 'ab76', 'ab77', 'ab78', 'ab79', 'ab80', 'ab81', 'ab82', 'ab83', 'ab84', 'ab85', 'ab86', 'ab87', 'ab88', 'ab89', 'ab90', 'ab91', 'ab92', 'ab93', 'ab94', 'ab95', 'ab96', 'ab97', 'ab98', 'ab99', 'ac00', 'ac01', 'ac02', 'ac03', 'ac04', 'ac05', 'ac06', 'ac07', 'ac08', 'ac09', 'ac10', 'ac11', 'ac12', 'ac13', 'ac14', 'ac15', 'ac16', 'ac17', 'ac18', 'ac19', 'ac20', 'ac21', 'ac22', 'ac23', 'ac24', 'ac25', 'ac26', 'ac27', 'ac28', 'ac29', 'ac30', 'ac31', 'ac32', 'ac33', 'ac34', 'ac35', 'ac36', 'ac37', 'ac38', 'ac39', 'ac40', 'ac41', 'ac42', 'ac43', 'ac44', 'ac45', 'ac46', 'ac47', 'ac48', 'ac49', 'ac50', 'ac51', 'ac52', 'ac53', 'ac54', 'ac55', 'ac56', 'ac57', 'ac58', 'ac59', 'ac60', 'ac61', 'ac62', 'ac63', 'ac64', 'ac65', 'ac66', 'ac67', 'ac68', 'ac69', 'ac70', 'ac71', 'ac72', 'ac73', 'ac74', 'ac75', 'ac76', 'ac77', 'ac78', 'ac79', 'ac80', 'ac81', 'ac82', 'ac83', 'ac84', 'ac85', 'ac86', 'ac87', 'ac88', 'ac89', 'ac90', 'ac91', 'ac92', 'ac93', 'ac94', 'ac95', 'ac96', 'ac97', 'ac98', 'ac99', 'ad00', 'ad01', 'ad02', 'ad03', 'ad04', 'ad05', 'ad06', 'ad07', 'ad08', 'ad09', 'ad10', 'ad11', 'ad12', 'ad13', 'ad14', 'ad15', 'ad16', 'ad17', 'ad18', 'ad19', 'ad20', 'ad21', 'ad22', 'ad23', 'ad24', 'ad25', 'ad26', 'ad27', 'ad28', 'ad29', 'ad30', 'ad31', 'ad32', 'ad33', 'ad34', 'ad35', 'ad36', 'ad37', 'ad38', 'ad39', 'ad40', 'ad41', 'ad42', 'ad43', 'ad44', 'ad45', 'ad46', 'ad47', 'ad48', 'ad49', 'ad50', 'ad51', 'ad52', 'ad53', 'ad54', 'ad55', 'ad56', 'ad57', 'ad58', 'ad59', 'ad60', 'ad61', 'ad62', 'ad63', 'ad64', 'ad65', 'ad66', 'ad67', 'ad68', 'ad69', 'ad70', 'ad71', 'ad72', 'ad73', 'ad74', 'ad75', 'ad76', 'ad77', 'ad78', 'ad79', 'ad80', 'ad81', 'ad82', 'ad83', 'ad84', 'ad85', 'ad86', 'ad87', 'ad88', 'ad89', 'ad90', 'ad91', 'ad92', 'ad93', 'ad94', 'ad95', 'ad96', 'ad97', 'ad98', 'ad99', 'ae00', 'ae01', 'ae02', 'ae03', 'ae04', 'ae05', 'ae06', 'ae07', 'ae08', 'ae09', 'ae10', 'ae11', 'ae12', 'ae13', 'ae14', 'ae15', 'ae16', 'ae17', 'ae18', 'ae19', 'ae20', 'ae21', 'ae22', 'ae23', 'ae24', 'ae25', 'ae26', 'ae27', 'ae28', 'ae29', 'ae30', 'ae31', 'ae32', 'ae33', 'ae34', 'ae35', 'ae36', 'ae37', 'ae38', 'ae39', 'ae40', 'ae41', 'ae42', 'ae43', 'ae44', 'ae45', 'ae46', 'ae47', 'ae48', 'ae49', 'ae50', 'ae51', 'ae52', 'ae53', 'ae54', 'ae55', 'ae56', 'ae57', 'ae58', 'ae59', 'ae60', 'ae61', 'ae62', 'ae63', 'ae64', 'ae65', 'ae66', 'ae67', 'ae68', 'ae69', 'ae70', 'ae71', 'ae72', 'ae73', 'ae74', 'ae75', 'ae76', 'ae77', 'ae78', 'ae79', 'ae80', 'ae81', 'ae82', 'ae83', 'ae84', 'ae85', 'ae86', 'ae87', 'ae88', 'ae89', 'ae90', 'ae91', 'ae92', 'ae93', 'ae94', 'ae95', 'ae96', 'ae97', 'ae98', 'ae99', 'af00', 'af01', 'af02', 'af03', 'af04', 'af05', 'af06', 'af07', 'af08', 'af09', 'af10', 'af11', 'af12', 'af13', 'af14', 'af15', 'af16', 'af17', 'af18', 'af19', 'af20', 'af21', 'af22', 'af23', 'af24', 'af25', 'af26', 'af27', 'af28', 'af29', 'af30', 'af31', 'af32', 'af33', 'af34', 'af35', 'af36', 'af37', 'af38', 'af39', 'af40', 'af41', 'af42', 'af43', 'af44', 'af45', 'af46', 'af47', 'af48', 'af49', 'af50', 'af51', 'af52', 'af53', 'af54', 'af55', 'af56', 'af57', 'af58', 'af59', 'af60', 'af61', 'af62', 'af63', 'af64', 'af65', 'af66', 'af67', 'af68', 'af69', 'af70', 'af71', 'af72', 'af73', 'af74', 'af75', 'af76', 'af77', 'af78', 'af79', 'af80', 'af81', 'af82', 'af83', 'af84', 'af85', 'af86', 'af87', 'af88', 'af89', 'af90', 'af91', 'af92', 'af93', 'af94', 'af95', 'af96', 'af97', 'af98', 'af99', 'ag00', 'ag01', 'ag02', 'ag03', 'ag04', 'ag05', 'ag06', 'ag07', 'ag08', 'ag09', 'ag10', 'ag11', 'ag12', 'ag13', 'ag14', 'ag15', 'ag16', 'ag17', 'ag18', 'ag19', 'ag20', 'ag21', 'ag22', 'ag23', 'ag24', 'ag25', 'ag26', 'ag27', 'ag28', 'ag29', 'ag30', 'ag31', 'ag32', 'ag33', 'ag34', 'ag35', 'ag36', 'ag37', 'ag38', 'ag39', 'ag40', 'ag41', 'ag42', 'ag43', 'ag44', 'ag45', 'ag46', 'ag47', 'ag48', 'ag49', 'ag50', 'ag51', 'ag52', 'ag53', 'ag54', 'ag55', 'ag56', 'ag57', 'ag58', 'ag59', 'ag60', 'ag61', 'ag62', 'ag63', 'ag64', 'ag65', 'ag66', 'ag67', 'ag68', 'ag69', 'ag70', 'ag71', 'ag72', 'ag73', 'ag74', 'ag75', 'ag76', 'ag77', 'ag78', 'ag79', 'ag80', 'ag81', 'ag82', 'ag83', 'ag84', 'ag85', 'ag86', 'ag87', 'ag88', 'ag89', 'ag90', 'ag91', 'ag92', 'ag93', 'ag94', 'ag95', 'ag96', 'ag97', 'ag98', 'ag99', 'ah00', 'ah01', 'ah02', 'ah03', 'ah04', 'ah05', 'ah06', 'ah07', 'ah08', 'ah09', 'ah10', 'ah11', 'ah12', 'ah13', 'ah14', 'ah15', 'ah16', 'ah17', 'ah18', 'ah19', 'ah20', 'ah21', 'ah22', 'ah23', 'ah24', 'ah25', 'ah26', 'ah27', 'ah28', 'ah29', 'ah30', 'ah31', 'ah32', 'ah33', 'ah34', 'ah35', 'ah36', 'ah37', 'ah38', 'ah39', 'ah40', 'ah41', 'ah42', 'ah43', 'ah44', 'ah45', 'ah46', 'ah47', 'ah48', 'ah49', 'ah50', 'ah51', 'ah52', 'ah53', 'ah54', 'ah55', 'ah56', 'ah57', 'ah58', 'ah59', 'ah60', 'ah61', 'ah62', 'ah63', 'ah64', 'ah65', 'ah66', 'ah67', 'ah68', 'ah69', 'ah70', 'ah71', 'ah72', 'ah73', 'ah74', 'ah75', 'ah76', 'ah77', 'ah78', 'ah79', 'ah80', 'ah81', 'ah82', 'ah83', 'ah84', 'ah85', 'ah86', 'ah87', 'ah88', 'ah89', 'ah90', 'ah91', 'ah92', 'ah93', 'ah94', 'ah95', 'ah96', 'ah97', 'ah98', 'ah99', 'ai00', 'ai01', 'ai02', 'ai03', 'ai04', 'ai05', 'ai06', 'ai07', 'ai08', 'ai09', 'ai10', 'ai11', 'ai12', 'ai13', 'ai14', 'ai15', 'ai16', 'ai17', 'ai18', 'ai19', 'ai20', 'ai21', 'ai22', 'ai23', 'ai24', 'ai25', 'ai26', 'ai27', 'ai28', 'ai29', 'ai30', 'ai31', 'ai32', 'ai33', 'ai34', 'ai35', 'ai36', 'ai37', 'ai38', 'ai39', 'ai40', 'ai41', 'ai42', 'ai43', 'ai44', 'ai45', 'ai46', 'ai47', 'ai48', 'ai49', 'ai50', 'ai51', 'ai52', 'ai53', 'ai54', 'ai55', 'ai56', 'ai57', 'ai58', 'ai59', 'ai60', 'ai61', 'ai62', 'ai63', 'ai64', 'ai65', 'ai66', 'ai67', 'ai68', 'ai69', 'ai70', 'ai71', 'ai72', 'ai73', 'ai74', 'ai75', 'ai76', 'ai77', 'ai78', 'ai79', 'ai80', 'ai81', 'ai82', 'ai83', 'ai84', 'ai85', 'ai86', 'ai87', 'ai88', 'ai89', 'ai90', 'ai91', 'ai92', 'ai93', 'ai94', 'ai95', 'ai96', 'ai97', 'ai98', 'ai99', 'aj00', 'aj01', 'aj02', 'aj03', 'aj04', 'aj05', 'aj06', 'aj07', 'aj08', 'aj09', 'aj10', 'aj11', 'aj12', 'aj13', 'aj14', 'aj15', 'aj16', 'aj17', 'aj18', 'aj19', 'aj20', 'aj21', 'aj22', 'aj23', 'aj24', 'aj25', 'aj26', 'aj27', 'aj28', 'aj29', 'aj30', 'aj31', 'aj32', 'aj33', 'aj34', 'aj35', 'aj36', 'aj37', 'aj38', 'aj39', 'aj40', 'aj41', 'aj42', 'aj43', 'aj44', 'aj45', 'aj46', 'aj47', 'aj48', 'aj49', 'aj50', 'aj51', 'aj52', 'aj53', 'aj54', 'aj55', 'aj56', 'aj57', 'aj58', 'aj59', 'aj60', 'aj61', 'aj62', 'aj63', 'aj64', 'aj65', 'aj66', 'aj67', 'aj68', 'aj69', 'aj70', 'aj71', 'aj72', 'aj73', 'aj74', 'aj75', 'aj76', 'aj77', 'aj78', 'aj79', 'aj80', 'aj81', 'aj82', 'aj83', 'aj84', 'aj85', 'aj86', 'aj87', 'aj88', 'aj89', 'aj90', 'aj91', 'aj92', 'aj93', 'aj94', 'aj95', 'aj96', 'aj97', 'aj98', 'aj99', 'ak00', 'ak01', 'ak02', 'ak03', 'ak04', 'ak05', 'ak06', 'ak07', 'ak08', 'ak09', 'ak10', 'ak11', 'ak12', 'ak13', 'ak14', 'ak15', 'ak16', 'ak17', 'ak18', 'ak19', 'ak20', 'ak21', 'ak22', 'ak23', 'ak24', 'ak25', 'ak26', 'ak27', 'ak28', 'ak29', 'ak30', 'ak31', 'ak32', 'ak33', 'ak34', 'ak35', 'ak36', 'ak37', 'ak38', 'ak39', 'ak40', 'ak41', 'ak42', 'ak43', 'ak44', 'ak45', 'ak46', 'ak47', 'ak48', 'ak49', 'ak50', 'ak51', 'ak52', 'ak53', 'ak54', 'ak55', 'ak56', 'ak57', 'ak58', 'ak59', 'ak60', 'ak61', 'ak62', 'ak63', 'ak64', 'ak65', 'ak66', 'ak67', 'ak68', 'ak69', 'ak70', 'ak71', 'ak72', 'ak73', 'ak74', 'ak75', 'ak76', 'ak77', 'ak78', 'ak79', 'ak80', 'ak81', 'ak82', 'ak83', 'ak84', 'ak85', 'ak86', 'ak87', 'ak88', 'ak89', 'ak90', 'ak91', 'ak92', 'ak93', 'ak94', 'ak95', 'ak96', 'ak97', 'ak98', 'ak99', 'al00', 'al01', 'al02', 'al03', 'al04', 'al05', 'al06', 'al07', 'al08', 'al09', 'al10', 'al11', 'al12', 'al13', 'al14', 'al15', 'al16', 'al17', 'al18', 'al19', 'al20', 'al21', 'al22', 'al23', 'al24', 'al25', 'al26', 'al27', 'al28', 'al29', 'al30', 'al31', 'al32', 'al33', 'al34', 'al35', 'al36', 'al37', 'al38', 'al39', 'al40', 'al41', 'al42', 'al43', 'al44', 'al45', 'al46', 'al47', 'al48', 'al49', 'al50', 'al51', 'al52', 'al53', 'al54', 'al55', 'al56', 'al57', 'al58', 'al59', 'al60', 'al61', 'al62', 'al63', 'al64', 'al65', 'al66', 'al67', 'al68', 'al69', 'al70', 'al71', 'al72', 'al73', 'al74', 'al75', 'al76', 'al77', 'al78', 'al79', 'al80', 'al81', 'al82', 'al83', 'al84', 'al85', 'al86', 'al87', 'al88', 'al89', 'al90', 'al91', 'al92', 'al93', 'al94', 'al95', 'al96', 'al97', 'al98', 'al99', 'am00', 'am01', 'am02', 'am03', 'am04', 'am05', 'am06', 'am07', 'am08', 'am09', 'am10', 'am11', 'am12', 'am13', 'am14', 'am15', 'am16', 'am17', 'am18', 'am19', 'am20', 'am21', 'am22', 'am23', 'am24', 'am25', 'am26', 'am27', 'am28', 'am29', 'am30', 'am31', 'am32', 'am33', 'am34', 'am35', 'am36', 'am37', 'am38', 'am39', 'am40', 'am41', 'am42', 'am43', 'am44', 'am45', 'am46', 'am47', 'am48', 'am49', 'am50', 'am51', 'am52', 'am53', 'am54', 'am55', 'am56', 'am57', 'am58', 'am59', 'am60', 'am61', 'am62', 'am63', 'am64', 'am65', 'am66', 'am67', 'am68', 'am69', 'am70', 'am71', 'am72', 'am73', 'am74', 'am75', 'am76', 'am77', 'am78', 'am79', 'am80', 'am81', 'am82', 'am83', 'am84', 'am85', 'am86', 'am87', 'am88', 'am89', 'am90', 'am91', 'am92', 'am93', 'am94', 'am95', 'am96', 'am97', 'am98', 'am99', 'an00', 'an01', 'an02', 'an03', 'an04', 'an05', 'an06', 'an07', 'an08', 'an09', 'an10', 'an11', 'an12', 'an13', 'an14', 'an15', 'an16', 'an17', 'an18', 'an19', 'an20', 'an21', 'an22', 'an23', 'an24', 'an25', 'an26', 'an27', 'an28', 'an29', 'an30', 'an31', 'an32', 'an33', 'an34', 'an35', 'an36', 'an37', 'an38', 'an39', 'an40', 'an41', 'an42', 'an43', 'an44', 'an45', 'an46', 'an47', 'an48', 'an49', 'an50', 'an51', 'an52', 'an53', 'an54', 'an55', 'an56', 'an57', 'an58', 'an59', 'an60', 'an61', 'an62', 'an63', 'an64', 'an65', 'an66', 'an67', 'an68', 'an69', 'an70', 'an71', 'an72', 'an73', 'an74', 'an75', 'an76', 'an77', 'an78', 'an79', 'an80', 'an81', 'an82', 'an83', 'an84', 'an85', 'an86', 'an87', 'an88', 'an89', 'an90', 'an91', 'an92', 'an93', 'an94', 'an95', 'an96', 'an97', 'an98', 'an99', 'ao00', 'ao01', 'ao02', 'ao03', 'ao04', 'ao05', 'ao06', 'ao07', 'ao08', 'ao09', 'ao10', 'ao11', 'ao12', 'ao13', 'ao14', 'ao15', 'ao16', 'ao17', 'ao18', 'ao19', 'ao20', 'ao21', 'ao22', 'ao23', 'ao24', 'ao25', 'ao26', 'ao27', 'ao28', 'ao29', 'ao30', 'ao31', 'ao32', 'ao33', 'ao34', 'ao35', 'ao36', 'ao37', 'ao38', 'ao39', 'ao40', 'ao41', 'ao42', 'ao43', 'ao44', 'ao45', 'ao46', 'ao47', 'ao48', 'ao49', 'ao50', 'ao51', 'ao52', 'ao53', 'ao54', 'ao55', 'ao56', 'ao57', 'ao58', 'ao59', 'ao60', 'ao61', 'ao62', 'ao63', 'ao64', 'ao65', 'ao66', 'ao67', 'ao68', 'ao69', 'ao70', 'ao71', 'ao72', 'ao73', 'ao74', 'ao75', 'ao76', 'ao77', 'ao78', 'ao79', 'ao80', 'ao81', 'ao82', 'ao83', 'ao84', 'ao85', 'ao86', 'ao87', 'ao88', 'ao89', 'ao90', 'ao91', 'ao92', 'ao93', 'ao94', 'ao95', 'ao96', 'ao97', 'ao98', 'ao99', 'ap00', 'ap01', 'ap02', 'ap03', 'ap04', 'ap05', 'ap06', 'ap07', 'ap08', 'ap09', 'ap10', 'ap11', 'ap12', 'ap13', 'ap14', 'ap15', 'ap16', 'ap17', 'ap18', 'ap19', 'ap20', 'ap21', 'ap22', 'ap23', 'ap24', 'ap25', 'ap26', 'ap27', 'ap28', 'ap29', 'ap30', 'ap31', 'ap32', 'ap33', 'ap34', 'ap35', 'ap36', 'ap37', 'ap38', 'ap39', 'ap40', 'ap41', 'ap42', 'ap43', 'ap44', 'ap45', 'ap46', 'ap47', 'ap48', 'ap49', 'ap50', 'ap51', 'ap52', 'ap53', 'ap54', 'ap55', 'ap56', 'ap57', 'ap58', 'ap59', 'ap60', 'ap61', 'ap62', 'ap63', 'ap64', 'ap65', 'ap66', 'ap67', 'ap68', 'ap69', 'ap70', 'ap71', 'ap72', 'ap73', 'ap74', 'ap75', 'ap76', 'ap77', 'ap78', 'ap79', 'ap80', 'ap81', 'ap82', 'ap83', 'ap84', 'ap85', 'ap86', 'ap87', 'ap88', 'ap89', 'ap90', 'ap91', 'ap92', 'ap93', 'ap94', 'ap95', 'ap96', 'ap97', 'ap98', 'ap99', 'aq00', 'aq01', 'aq02', 'aq03', 'aq04', 'aq05', 'aq06', 'aq07', 'aq08', 'aq09', 'aq10', 'aq11', 'aq12', 'aq13', 'aq14', 'aq15', 'aq16', 'aq17', 'aq18', 'aq19', 'aq20', 'aq21', 'aq22', 'aq23', 'aq24', 'aq25', 'aq26', 'aq27', 'aq28', 'aq29', 'aq30', 'aq31', 'aq32', 'aq33', 'aq34', 'aq35', 'aq36', 'aq37', 'aq38', 'aq39', 'aq40', 'aq41', 'aq42', 'aq43', 'aq44', 'aq45', 'aq46', 'aq47', 'aq48', 'aq49', 'aq50', 'aq51', 'aq52', 'aq53', 'aq54', 'aq55', 'aq56', 'aq57', 'aq58', 'aq59', 'aq60', 'aq61', 'aq62', 'aq63', 'aq64', 'aq65', 'aq66', 'aq67', 'aq68', 'aq69', 'aq70', 'aq71', 'aq72', 'aq73', 'aq74', 'aq75', 'aq76', 'aq77', 'aq78', 'aq79', 'aq80', 'aq81', 'aq82', 'aq83', 'aq84', 'aq85', 'aq86', 'aq87', 'aq88', 'aq89', 'aq90', 'aq91', 'aq92', 'aq93', 'aq94', 'aq95', 'aq96', 'aq97', 'aq98', 'aq99', 'ar00', 'ar01', 'ar02', 'ar03', 'ar04', 'ar05', 'ar06', 'ar07', 'ar08', 'ar09', 'ar10', 'ar11', 'ar12', 'ar13', 'ar14', 'ar15', 'ar16', 'ar17', 'ar18', 'ar19', 'ar20', 'ar21', 'ar22', 'ar23', 'ar24', 'ar25', 'ar26', 'ar27', 'ar28', 'ar29', 'ar30', 'ar31', 'ar32', 'ar33', 'ar34', 'ar35', 'ar36', 'ar37', 'ar38', 'ar39', 'ar40', 'ar41', 'ar42', 'ar43', 'ar44', 'ar45', 'ar46', 'ar47', 'ar48', 'ar49', 'ar50', 'ar51', 'ar52', 'ar53', 'ar54', 'ar55', 'ar56', 'ar57', 'ar58', 'ar59', 'ar60', 'ar61', 'ar62', 'ar63', 'ar64', 'ar65', 'ar66', 'ar67', 'ar68', 'ar69', 'ar70', 'ar71', 'ar72', 'ar73', 'ar74', 'ar75', 'ar76', 'ar77', 'ar78', 'ar79', 'ar80', 'ar81', 'ar82', 'ar83', 'ar84', 'ar85', 'ar86', 'ar87', 'ar88', 'ar89', 'ar90', 'ar91', 'ar92', 'ar93', 'ar94', 'ar95', 'ar96', 'ar97', 'ar98', 'ar99', 'as00', 'as01', 'as02', 'as03', 'as04', 'as05', 'as06', 'as07', 'as08', 'as09', 'as10', 'as11', 'as12', 'as13', 'as14', 'as15', 'as16', 'as17', 'as18', 'as19', 'as20', 'as21', 'as22', 'as23', 'as24', 'as25', 'as26', 'as27', 'as28', 'as29', 'as30', 'as31', 'as32', 'as33', 'as34', 'as35', 'as36', 'as37', 'as38', 'as39', 'as40', 'as41', 'as42', 'as43', 'as44', 'as45', 'as46', 'as47', 'as48', 'as49', 'as50', 'as51', 'as52', 'as53', 'as54', 'as55', 'as56', 'as57', 'as58', 'as59', 'as60', 'as61', 'as62', 'as63', 'as64', 'as65', 'as66', 'as67', 'as68', 'as69', 'as70', 'as71', 'as72', 'as73', 'as74', 'as75', 'as76', 'as77', 'as78', 'as79', 'as80', 'as81', 'as82', 'as83', 'as84', 'as85', 'as86', 'as87', 'as88', 'as89', 'as90', 'as91', 'as92', 'as93', 'as94', 'as95', 'as96', 'as97', 'as98', 'as99', 'at00', 'at01', 'at02', 'at03', 'at04', 'at05', 'at06', 'at07', 'at08', 'at09', 'at10', 'at11', 'at12', 'at13', 'at14', 'at15', 'at16', 'at17', 'at18', 'at19', 'at20', 'at21', 'at22', 'at23', 'at24', 'at25', 'at26', 'at27', 'at28', 'at29', 'at30', 'at31', 'at32', 'at33', 'at34', 'at35', 'at36', 'at37', 'at38', 'at39', 'at40', 'at41', 'at42', 'at43', 'at44', 'at45', 'at46', 'at47', 'at48', 'at49', 'at50', 'at51', 'at52', 'at53', 'at54', 'at55', 'at56', 'at57', 'at58', 'at59', 'at60', 'at61', 'at62', 'at63', 'at64', 'at65', 'at66', 'at67', 'at68', 'at69', 'at70', 'at71', 'at72', 'at73', 'at74', 'at75', 'at76', 'at77', 'at78', 'at79', 'at80', 'at81', 'at82', 'at83', 'at84', 'at85', 'at86', 'at87', 'at88', 'at89', 'at90', 'at91', 'at92', 'at93', 'at94', 'at95', 'at96', 'at97', 'at98', 'at99', 'au00', 'au01', 'au02', 'au03', 'au04', 'au05', 'au06', 'au07', 'au08', 'au09', 'au10', 'au11', 'au12', 'au13', 'au14', 'au15', 'au16', 'au17', 'au18', 'au19', 'au20', 'au21', 'au22', 'au23', 'au24', 'au25', 'au26', 'au27', 'au28', 'au29', 'au30', 'au31', 'au32', 'au33', 'au34', 'au35', 'au36', 'au37', 'au38', 'au39', 'au40', 'au41', 'au42', 'au43', 'au44', 'au45', 'au46', 'au47', 'au48', 'au49', 'au50', 'au51', 'au52', 'au53', 'au54', 'au55', 'au56', 'au57', 'au58', 'au59', 'au60', 'au61', 'au62', 'au63', 'au64', 'au65', 'au66', 'au67', 'au68', 'au69', 'au70', 'au71', 'au72', 'au73', 'au74', 'au75', 'au76', 'au77', 'au78', 'au79', 'au80', 'au81', 'au82', 'au83', 'au84', 'au85', 'au86', 'au87', 'au88', 'au89', 'au90', 'au91', 'au92', 'au93', 'au94', 'au95', 'au96', 'au97', 'au98', 'au99', 'av00', 'av01', 'av02', 'av03', 'av04', 'av05', 'av06', 'av07', 'av08', 'av09', 'av10', 'av11', 'av12', 'av13', 'av14', 'av15', 'av16', 'av17', 'av18', 'av19', 'av20', 'av21', 'av22', 'av23', 'av24', 'av25', 'av26', 'av27', 'av28', 'av29', 'av30', 'av31', 'av32', 'av33', 'av34', 'av35', 'av36', 'av37', 'av38', 'av39', 'av40', 'av41', 'av42', 'av43', 'av44', 'av45', 'av46', 'av47', 'av48', 'av49', 'av50', 'av51', 'av52', 'av53', 'av54', 'av55', 'av56', 'av57', 'av58', 'av59', 'av60', 'av61', 'av62', 'av63', 'av64', 'av65', 'av66', 'av67', 'av68', 'av69', 'av70', 'av71', 'av72', 'av73', 'av74', 'av75', 'av76', 'av77', 'av78', 'av79', 'av80', 'av81', 'av82', 'av83', 'av84', 'av85', 'av86', 'av87', 'av88', 'av89', 'av90', 'av91', 'av92', 'av93', 'av94', 'av95', 'av96', 'av97', 'av98', 'av99', 'aw00', 'aw01', 'aw02', 'aw03', 'aw04', 'aw05', 'aw06', 'aw07', 'aw08', 'aw09', 'aw10', 'aw11', 'aw12', 'aw13', 'aw14', 'aw15', 'aw16', 'aw17', 'aw18', 'aw19', 'aw20', 'aw21', 'aw22', 'aw23', 'aw24', 'aw25', 'aw26', 'aw27', 'aw28', 'aw29', 'aw30', 'aw31', 'aw32', 'aw33', 'aw34', 'aw35', 'aw36', 'aw37', 'aw38', 'aw39', 'aw40', 'aw41', 'aw42', 'aw43', 'aw44', 'aw45', 'aw46', 'aw47', 'aw48', 'aw49', 'aw50', 'aw51', 'aw52', 'aw53', 'aw54', 'aw55', 'aw56', 'aw57', 'aw58', 'aw59', 'aw60', 'aw61', 'aw62', 'aw63', 'aw64', 'aw65', 'aw66', 'aw67', 'aw68', 'aw69', 'aw70', 'aw71', 'aw72', 'aw73', 'aw74', 'aw75', 'aw76', 'aw77', 'aw78', 'aw79', 'aw80', 'aw81', 'aw82', 'aw83', 'aw84', 'aw85', 'aw86', 'aw87', 'aw88', 'aw89', 'aw90', 'aw91', 'aw92', 'aw93', 'aw94', 'aw95', 'aw96', 'aw97', 'aw98', 'aw99', 'ax00', 'ax01', 'ax02', 'ax03', 'ax04', 'ax05', 'ax06', 'ax07', 'ax08', 'ax09', 'ax10', 'ax11', 'ax12', 'ax13', 'ax14', 'ax15', 'ax16', 'ax17', 'ax18', 'ax19', 'ax20', 'ax21', 'ax22', 'ax23', 'ax24', 'ax25', 'ax26', 'ax27', 'ax28', 'ax29', 'ax30', 'ax31', 'ax32', 'ax33', 'ax34', 'ax35', 'ax36', 'ax37', 'ax38', 'ax39', 'ax40', 'ax41', 'ax42', 'ax43', 'ax44', 'ax45', 'ax46', 'ax47', 'ax48', 'ax49', 'ax50', 'ax51', 'ax52', 'ax53', 'ax54', 'ax55', 'ax56', 'ax57', 'ax58', 'ax59', 'ax60', 'ax61', 'ax62', 'ax63', 'ax64', 'ax65', 'ax66', 'ax67', 'ax68', 'ax69', 'ax70', 'ax71', 'ax72', 'ax73', 'ax74', 'ax75', 'ax76', 'ax77', 'ax78', 'ax79', 'ax80', 'ax81', 'ax82', 'ax83', 'ax84', 'ax85', 'ax86', 'ax87', 'ax88', 'ax89', 'ax90', 'ax91', 'ax92', 'ax93', 'ax94', 'ax95', 'ax96', 'ax97', 'ax98', 'ax99', 'ay00', 'ay01', 'ay02', 'ay03', 'ay04', 'ay05', 'ay06', 'ay07', 'ay08', 'ay09', 'ay10', 'ay11', 'ay12', 'ay13', 'ay14', 'ay15', 'ay16', 'ay17', 'ay18', 'ay19', 'ay20', 'ay21', 'ay22', 'ay23', 'ay24', 'ay25', 'ay26', 'ay27', 'ay28', 'ay29', 'ay30', 'ay31', 'ay32', 'ay33', 'ay34', 'ay35', 'ay36', 'ay37', 'ay38', 'ay39', 'ay40', 'ay41', 'ay42', 'ay43', 'ay44', 'ay45', 'ay46', 'ay47', 'ay48', 'ay49', 'ay50', 'ay51', 'ay52', 'ay53', 'ay54', 'ay55', 'ay56', 'ay57', 'ay58', 'ay59', 'ay60', 'ay61', 'ay62', 'ay63', 'ay64', 'ay65', 'ay66', 'ay67', 'ay68', 'ay69', 'ay70', 'ay71', 'ay72', 'ay73', 'ay74', 'ay75', 'ay76', 'ay77', 'ay78', 'ay79', 'ay80', 'ay81', 'ay82', 'ay83', 'ay84', 'ay85', 'ay86', 'ay87', 'ay88', 'ay89', 'ay90', 'ay91', 'ay92', 'ay93', 'ay94', 'ay95', 'ay96', 'ay97', 'ay98', 'ay99', 'az00', 'az01', 'az02', 'az03', 'az04', 'az05', 'az06', 'az07', 'az08', 'az09', 'az10', 'az11', 'az12', 'az13', 'az14', 'az15', 'az16', 'az17', 'az18', 'az19', 'az20', 'az21', 'az22', 'az23', 'az24', 'az25', 'az26', 'az27', 'az28', 'az29', 'az30', 'az31', 'az32', 'az33', 'az34', 'az35', 'az36', 'az37', 'az38', 'az39', 'az40', 'az41', 'az42', 'az43', 'az44', 'az45', 'az46', 'az47', 'az48', 'az49', 'az50', 'az51', 'az52', 'az53', 'az54', 'az55', 'az56', 'az57', 'az58', 'az59', 'az60', 'az61', 'az62', 'az63', 'az64', 'az65', 'az66', 'az67', 'az68', 'az69', 'az70', 'az71', 'az72', 'az73', 'az74', 'az75', 'az76', 'az77', 'az78', 'az79', 'az80', 'az81', 'az82', 'az83', 'az84', 'az85', 'az86', 'az87', 'az88', 'az89', 'az90', 'az91', 'az92', 'az93', 'az94', 'az95', 'az96', 'az97', 'az98', 'az99', 'ba00', 'ba01', 'ba02', 'ba03', 'ba04', 'ba05', 'ba06', 'ba07', 'ba08', 'ba09', 'ba10', 'ba11', 'ba12', 'ba13', 'ba14', 'ba15', 'ba16', 'ba17', 'ba18', 'ba19', 'ba20', 'ba21', 'ba22', 'ba23', 'ba24', 'ba25', 'ba26', 'ba27', 'ba28', 'ba29', 'ba30', 'ba31', 'ba32', 'ba33', 'ba34', 'ba35', 'ba36', 'ba37', 'ba38', 'ba39', 'ba40', 'ba41', 'ba42', 'ba43', 'ba44', 'ba45', 'ba46', 'ba47', 'ba48', 'ba49', 'ba50', 'ba51', 'ba52', 'ba53', 'ba54', 'ba55', 'ba56', 'ba57', 'ba58', 'ba59', 'ba60', 'ba61', 'ba62', 'ba63', 'ba64', 'ba65', 'ba66', 'ba67', 'ba68', 'ba69', 'ba70', 'ba71', 'ba72', 'ba73', 'ba74', 'ba75', 'ba76', 'ba77', 'ba78', 'ba79', 'ba80', 'ba81', 'ba82', 'ba83', 'ba84', 'ba85', 'ba86', 'ba87', 'ba88', 'ba89', 'ba90', 'ba91', 'ba92', 'ba93', 'ba94', 'ba95', 'ba96', 'ba97', 'ba98', 'ba99', 'bb00', 'bb01', 'bb02', 'bb03', 'bb04', 'bb05', 'bb06', 'bb07', 'bb08', 'bb09', 'bb10', 'bb11', 'bb12', 'bb13', 'bb14', 'bb15', 'bb16', 'bb17', 'bb18', 'bb19', 'bb20', 'bb21', 'bb22', 'bb23', 'bb24', 'bb25', 'bb26', 'bb27', 'bb28', 'bb29', 'bb30', 'bb31', 'bb32', 'bb33', 'bb34', 'bb35', 'bb36', 'bb37', 'bb38', 'bb39', 'bb40', 'bb41', 'bb42', 'bb43', 'bb44', 'bb45', 'bb46', 'bb47', 'bb48', 'bb49', 'bb50', 'bb51', 'bb52', 'bb53', 'bb54', 'bb55', 'bb56', 'bb57', 'bb58', 'bb59', 'bb60', 'bb61', 'bb62', 'bb63', 'bb64', 'bb65', 'bb66', 'bb67', 'bb68', 'bb69', 'bb70', 'bb71', 'bb72', 'bb73', 'bb74', 'bb75', 'bb76', 'bb77', 'bb78', 'bb79', 'bb80', 'bb81', 'bb82', 'bb83', 'bb84', 'bb85', 'bb86', 'bb87', 'bb88', 'bb89', 'bb90', 'bb91', 'bb92', 'bb93', 'bb94', 'bb95', 'bb96', 'bb97', 'bb98', 'bb99', 'bc00', 'bc01', 'bc02', 'bc03', 'bc04', 'bc05', 'bc06', 'bc07', 'bc08', 'bc09', 'bc10', 'bc11', 'bc12', 'bc13', 'bc14', 'bc15', 'bc16', 'bc17', 'bc18', 'bc19', 'bc20', 'bc21', 'bc22', 'bc23', 'bc24', 'bc25', 'bc26', 'bc27', 'bc28', 'bc29', 'bc30', 'bc31', 'bc32', 'bc33', 'bc34', 'bc35', 'bc36', 'bc37', 'bc38', 'bc39', 'bc40', 'bc41', 'bc42', 'bc43', 'bc44', 'bc45', 'bc46', 'bc47', 'bc48', 'bc49', 'bc50', 'bc51', 'bc52', 'bc53', 'bc54', 'bc55', 'bc56', 'bc57', 'bc58', 'bc59', 'bc60', 'bc61', 'bc62', 'bc63', 'bc64', 'bc65', 'bc66', 'bc67', 'bc68', 'bc69', 'bc70', 'bc71', 'bc72', 'bc73', 'bc74', 'bc75', 'bc76', 'bc77', 'bc78', 'bc79', 'bc80', 'bc81', 'bc82', 'bc83', 'bc84', 'bc85', 'bc86', 'bc87', 'bc88', 'bc89', 'bc90', 'bc91', 'bc92', 'bc93', 'bc94', 'bc95', 'bc96', 'bc97', 'bc98', 'bc99', 'bd00', 'bd01', 'bd02', 'bd03', 'bd04', 'bd05', 'bd06', 'bd07', 'bd08', 'bd09', 'bd10', 'bd11', 'bd12', 'bd13', 'bd14', 'bd15', 'bd16', 'bd17', 'bd18', 'bd19', 'bd20', 'bd21', 'bd22', 'bd23', 'bd24', 'bd25', 'bd26', 'bd27', 'bd28', 'bd29', 'bd30', 'bd31', 'bd32', 'bd33', 'bd34', 'bd35', 'bd36', 'bd37', 'bd38', 'bd39', 'bd40', 'bd41', 'bd42', 'bd43', 'bd44', 'bd45', 'bd46', 'bd47', 'bd48', 'bd49', 'bd50', 'bd51', 'bd52', 'bd53', 'bd54', 'bd55', 'bd56', 'bd57', 'bd58', 'bd59', 'bd60', 'bd61', 'bd62', 'bd63', 'bd64', 'bd65', 'bd66', 'bd67', 'bd68', 'bd69', 'bd70', 'bd71', 'bd72', 'bd73', 'bd74', 'bd75', 'bd76', 'bd77', 'bd78', 'bd79', 'bd80', 'bd81', 'bd82', 'bd83', 'bd84', 'bd85', 'bd86', 'bd87', 'bd88', 'bd89', 'bd90', 'bd91', 'bd92', 'bd93', 'bd94', 'bd95', 'bd96', 'bd97', 'bd98', 'bd99', 'be00', 'be01', 'be02', 'be03', 'be04', 'be05', 'be06', 'be07', 'be08', 'be09', 'be10', 'be11', 'be12', 'be13', 'be14', 'be15', 'be16', 'be17', 'be18', 'be19', 'be20', 'be21', 'be22', 'be23', 'be24', 'be25', 'be26', 'be27', 'be28', 'be29', 'be30', 'be31', 'be32', 'be33', 'be34', 'be35', 'be36', 'be37', 'be38', 'be39', 'be40', 'be41', 'be42', 'be43', 'be44', 'be45', 'be46', 'be47', 'be48', 'be49', 'be50', 'be51', 'be52', 'be53', 'be54', 'be55', 'be56', 'be57', 'be58', 'be59', 'be60', 'be61', 'be62', 'be63', 'be64', 'be65', 'be66', 'be67', 'be68', 'be69', 'be70', 'be71', 'be72', 'be73', 'be74', 'be75', 'be76', 'be77', 'be78', 'be79', 'be80', 'be81', 'be82', 'be83', 'be84', 'be85', 'be86', 'be87', 'be88', 'be89', 'be90', 'be91', 'be92', 'be93', 'be94', 'be95', 'be96', 'be97', 'be98', 'be99', 'bf00', 'bf01', 'bf02', 'bf03', 'bf04', 'bf05', 'bf06', 'bf07', 'bf08', 'bf09', 'bf10', 'bf11', 'bf12', 'bf13', 'bf14', 'bf15', 'bf16', 'bf17', 'bf18', 'bf19', 'bf20', 'bf21', 'bf22', 'bf23', 'bf24', 'bf25', 'bf26', 'bf27', 'bf28', 'bf29', 'bf30', 'bf31', 'bf32', 'bf33', 'bf34', 'bf35', 'bf36', 'bf37', 'bf38', 'bf39', 'bf40', 'bf41', 'bf42', 'bf43', 'bf44', 'bf45', 'bf46', 'bf47', 'bf48', 'bf49', 'bf50', 'bf51', 'bf52', 'bf53', 'bf54', 'bf55', 'bf56', 'bf57', 'bf58', 'bf59', 'bf60', 'bf61', 'bf62', 'bf63', 'bf64', 'bf65', 'bf66', 'bf67', 'bf68', 'bf69', 'bf70', 'bf71', 'bf72', 'bf73', 'bf74', 'bf75', 'bf76', 'bf77', 'bf78', 'bf79', 'bf80', 'bf81', 'bf82', 'bf83', 'bf84', 'bf85', 'bf86', 'bf87', 'bf88', 'bf89', 'bf90', 'bf91', 'bf92', 'bf93', 'bf94', 'bf95', 'bf96', 'bf97', 'bf98', 'bf99', 'bg00', 'bg01', 'bg02', 'bg03', 'bg04', 'bg05', 'bg06', 'bg07', 'bg08', 'bg09', 'bg10', 'bg11', 'bg12', 'bg13', 'bg14', 'bg15', 'bg16', 'bg17', 'bg18', 'bg19', 'bg20', 'bg21', 'bg22', 'bg23', 'bg24', 'bg25', 'bg26', 'bg27', 'bg28', 'bg29', 'bg30', 'bg31', 'bg32', 'bg33', 'bg34', 'bg35', 'bg36', 'bg37', 'bg38', 'bg39', 'bg40', 'bg41', 'bg42', 'bg43', 'bg44', 'bg45', 'bg46', 'bg47', 'bg48', 'bg49', 'bg50', 'bg51', 'bg52', 'bg53', 'bg54', 'bg55', 'bg56', 'bg57', 'bg58', 'bg59', 'bg60', 'bg61', 'bg62', 'bg63', 'bg64', 'bg65', 'bg66', 'bg67', 'bg68', 'bg69', 'bg70', 'bg71', 'bg72', 'bg73', 'bg74', 'bg75', 'bg76', 'bg77', 'bg78', 'bg79', 'bg80', 'bg81', 'bg82', 'bg83', 'bg84', 'bg85', 'bg86', 'bg87', 'bg88', 'bg89', 'bg90', 'bg91', 'bg92', 'bg93', 'bg94', 'bg95', 'bg96', 'bg97', 'bg98', 'bg99', 'bh00', 'bh01', 'bh02', 'bh03', 'bh04', 'bh05', 'bh06', 'bh07', 'bh08', 'bh09', 'bh10', 'bh11', 'bh12', 'bh13', 'bh14', 'bh15', 'bh16', 'bh17', 'bh18', 'bh19', 'bh20', 'bh21', 'bh22', 'bh23', 'bh24', 'bh25', 'bh26', 'bh27', 'bh28', 'bh29', 'bh30', 'bh31', 'bh32', 'bh33', 'bh34', 'bh35', 'bh36', 'bh37', 'bh38', 'bh39', 'bh40', 'bh41', 'bh42', 'bh43', 'bh44', 'bh45', 'bh46', 'bh47', 'bh48', 'bh49', 'bh50', 'bh51', 'bh52', 'bh53', 'bh54', 'bh55', 'bh56', 'bh57', 'bh58', 'bh59', 'bh60', 'bh61', 'bh62', 'bh63', 'bh64', 'bh65', 'bh66', 'bh67', 'bh68', 'bh69', 'bh70', 'bh71', 'bh72', 'bh73', 'bh74', 'bh75', 'bh76', 'bh77', 'bh78', 'bh79', 'bh80', 'bh81', 'bh82', 'bh83', 'bh84', 'bh85', 'bh86', 'bh87', 'bh88', 'bh89', 'bh90', 'bh91', 'bh92', 'bh93', 'bh94', 'bh95', 'bh96', 'bh97', 'bh98', 'bh99', 'bi00', 'bi01', 'bi02', 'bi03', 'bi04', 'bi05', 'bi06', 'bi07', 'bi08', 'bi09', 'bi10', 'bi11', 'bi12', 'bi13', 'bi14', 'bi15', 'bi16', 'bi17', 'bi18', 'bi19', 'bi20', 'bi21', 'bi22', 'bi23', 'bi24', 'bi25', 'bi26', 'bi27', 'bi28', 'bi29', 'bi30', 'bi31', 'bi32', 'bi33', 'bi34', 'bi35', 'bi36', 'bi37', 'bi38', 'bi39', 'bi40', 'bi41', 'bi42', 'bi43', 'bi44', 'bi45', 'bi46', 'bi47', 'bi48', 'bi49', 'bi50', 'bi51', 'bi52', 'bi53', 'bi54', 'bi55', 'bi56', 'bi57', 'bi58', 'bi59', 'bi60', 'bi61', 'bi62', 'bi63', 'bi64', 'bi65', 'bi66', 'bi67', 'bi68', 'bi69', 'bi70', 'bi71', 'bi72', 'bi73', 'bi74', 'bi75', 'bi76', 'bi77', 'bi78', 'bi79', 'bi80', 'bi81', 'bi82', 'bi83', 'bi84', 'bi85', 'bi86', 'bi87', 'bi88', 'bi89', 'bi90', 'bi91', 'bi92', 'bi93', 'bi94', 'bi95', 'bi96', 'bi97', 'bi98', 'bi99', 'bj00', 'bj01', 'bj02', 'bj03', 'bj04', 'bj05', 'bj06', 'bj07', 'bj08', 'bj09', 'bj10', 'bj11', 'bj12', 'bj13', 'bj14', 'bj15', 'bj16', 'bj17', 'bj18', 'bj19', 'bj20', 'bj21', 'bj22', 'bj23', 'bj24', 'bj25', 'bj26', 'bj27', 'bj28', 'bj29', 'bj30', 'bj31', 'bj32', 'bj33', 'bj34', 'bj35', 'bj36', 'bj37', 'bj38', 'bj39', 'bj40', 'bj41', 'bj42', 'bj43', 'bj44', 'bj45', 'bj46', 'bj47', 'bj48', 'bj49', 'bj50', 'bj51', 'bj52', 'bj53', 'bj54', 'bj55', 'bj56', 'bj57', 'bj58', 'bj59', 'bj60', 'bj61', 'bj62', 'bj63', 'bj64', 'bj65', 'bj66', 'bj67', 'bj68', 'bj69', 'bj70', 'bj71', 'bj72', 'bj73', 'bj74', 'bj75', 'bj76', 'bj77', 'bj78', 'bj79', 'bj80', 'bj81', 'bj82', 'bj83', 'bj84', 'bj85', 'bj86', 'bj87', 'bj88', 'bj89', 'bj90', 'bj91', 'bj92', 'bj93', 'bj94', 'bj95', 'bj96', 'bj97', 'bj98', 'bj99', 'bk00', 'bk01', 'bk02', 'bk03', 'bk04', 'bk05', 'bk06', 'bk07', 'bk08', 'bk09', 'bk10', 'bk11', 'bk12', 'bk13', 'bk14', 'bk15', 'bk16', 'bk17', 'bk18', 'bk19', 'bk20', 'bk21', 'bk22', 'bk23', 'bk24', 'bk25', 'bk26', 'bk27', 'bk28', 'bk29', 'bk30', 'bk31', 'bk32', 'bk33', 'bk34', 'bk35', 'bk36', 'bk37', 'bk38', 'bk39', 'bk40', 'bk41', 'bk42', 'bk43', 'bk44', 'bk45', 'bk46', 'bk47', 'bk48', 'bk49', 'bk50', 'bk51', 'bk52', 'bk53', 'bk54', 'bk55', 'bk56', 'bk57', 'bk58', 'bk59', 'bk60', 'bk61', 'bk62', 'bk63', 'bk64', 'bk65', 'bk66', 'bk67', 'bk68', 'bk69', 'bk70', 'bk71', 'bk72', 'bk73', 'bk74', 'bk75', 'bk76', 'bk77', 'bk78', 'bk79', 'bk80', 'bk81', 'bk82', 'bk83', 'bk84', 'bk85', 'bk86', 'bk87', 'bk88', 'bk89', 'bk90', 'bk91', 'bk92', 'bk93', 'bk94', 'bk95', 'bk96', 'bk97', 'bk98', 'bk99', 'bl00', 'bl01', 'bl02', 'bl03', 'bl04', 'bl05', 'bl06', 'bl07', 'bl08', 'bl09', 'bl10', 'bl11', 'bl12', 'bl13', 'bl14', 'bl15', 'bl16', 'bl17', 'bl18', 'bl19', 'bl20', 'bl21', 'bl22', 'bl23', 'bl24', 'bl25', 'bl26', 'bl27', 'bl28', 'bl29', 'bl30', 'bl31', 'bl32', 'bl33', 'bl34', 'bl35', 'bl36', 'bl37', 'bl38', 'bl39', 'bl40', 'bl41', 'bl42', 'bl43', 'bl44', 'bl45', 'bl46', 'bl47', 'bl48', 'bl49', 'bl50', 'bl51', 'bl52', 'bl53', 'bl54', 'bl55', 'bl56', 'bl57', 'bl58', 'bl59', 'bl60', 'bl61', 'bl62', 'bl63', 'bl64', 'bl65', 'bl66', 'bl67', 'bl68', 'bl69', 'bl70', 'bl71', 'bl72', 'bl73', 'bl74', 'bl75', 'bl76', 'bl77', 'bl78', 'bl79', 'bl80', 'bl81', 'bl82', 'bl83', 'bl84', 'bl85', 'bl86', 'bl87', 'bl88', 'bl89', 'bl90', 'bl91', 'bl92', 'bl93', 'bl94', 'bl95', 'bl96', 'bl97', 'bl98', 'bl99', 'bm00', 'bm01', 'bm02', 'bm03', 'bm04', 'bm05', 'bm06', 'bm07', 'bm08', 'bm09', 'bm10', 'bm11', 'bm12', 'bm13', 'bm14', 'bm15', 'bm16', 'bm17', 'bm18', 'bm19', 'bm20', 'bm21', 'bm22', 'bm23', 'bm24', 'bm25', 'bm26', 'bm27', 'bm28', 'bm29', 'bm30', 'bm31', 'bm32', 'bm33', 'bm34', 'bm35', 'bm36', 'bm37', 'bm38', 'bm39', 'bm40', 'bm41', 'bm42', 'bm43', 'bm44', 'bm45', 'bm46', 'bm47', 'bm48', 'bm49', 'bm50', 'bm51', 'bm52', 'bm53', 'bm54', 'bm55', 'bm56', 'bm57', 'bm58', 'bm59', 'bm60', 'bm61', 'bm62', 'bm63', 'bm64', 'bm65', 'bm66', 'bm67', 'bm68', 'bm69', 'bm70', 'bm71', 'bm72', 'bm73', 'bm74', 'bm75', 'bm76', 'bm77', 'bm78', 'bm79', 'bm80', 'bm81', 'bm82', 'bm83', 'bm84', 'bm85', 'bm86', 'bm87', 'bm88', 'bm89', 'bm90', 'bm91', 'bm92', 'bm93', 'bm94', 'bm95', 'bm96', 'bm97', 'bm98', 'bm99', 'bn00', 'bn01', 'bn02', 'bn03', 'bn04', 'bn05', 'bn06', 'bn07', 'bn08', 'bn09', 'bn10', 'bn11', 'bn12', 'bn13', 'bn14', 'bn15', 'bn16', 'bn17', 'bn18', 'bn19', 'bn20', 'bn21', 'bn22', 'bn23', 'bn24', 'bn25', 'bn26', 'bn27', 'bn28', 'bn29', 'bn30', 'bn31', 'bn32', 'bn33', 'bn34', 'bn35', 'bn36', 'bn37', 'bn38', 'bn39', 'bn40', 'bn41', 'bn42', 'bn43', 'bn44', 'bn45', 'bn46', 'bn47', 'bn48', 'bn49', 'bn50', 'bn51', 'bn52', 'bn53', 'bn54', 'bn55', 'bn56', 'bn57', 'bn58', 'bn59', 'bn60', 'bn61', 'bn62', 'bn63', 'bn64', 'bn65', 'bn66', 'bn67', 'bn68', 'bn69', 'bn70', 'bn71', 'bn72', 'bn73', 'bn74', 'bn75', 'bn76', 'bn77', 'bn78', 'bn79', 'bn80', 'bn81', 'bn82', 'bn83', 'bn84', 'bn85', 'bn86', 'bn87', 'bn88', 'bn89', 'bn90', 'bn91', 'bn92', 'bn93', 'bn94', 'bn95', 'bn96', 'bn97', 'bn98', 'bn99', 'bo00', 'bo01', 'bo02', 'bo03', 'bo04', 'bo05', 'bo06', 'bo07', 'bo08', 'bo09', 'bo10', 'bo11', 'bo12', 'bo13', 'bo14', 'bo15', 'bo16', 'bo17', 'bo18', 'bo19', 'bo20', 'bo21', 'bo22', 'bo23', 'bo24', 'bo25', 'bo26', 'bo27', 'bo28', 'bo29', 'bo30', 'bo31', 'bo32', 'bo33', 'bo34', 'bo35', 'bo36', 'bo37', 'bo38', 'bo39', 'bo40', 'bo41', 'bo42', 'bo43', 'bo44', 'bo45', 'bo46', 'bo47', 'bo48', 'bo49', 'bo50', 'bo51', 'bo52', 'bo53', 'bo54', 'bo55', 'bo56', 'bo57', 'bo58', 'bo59', 'bo60', 'bo61', 'bo62', 'bo63', 'bo64', 'bo65', 'bo66', 'bo67', 'bo68', 'bo69', 'bo70', 'bo71', 'bo72', 'bo73', 'bo74', 'bo75', 'bo76', 'bo77', 'bo78', 'bo79', 'bo80', 'bo81', 'bo82', 'bo83', 'bo84', 'bo85', 'bo86', 'bo87', 'bo88', 'bo89', 'bo90', 'bo91', 'bo92', 'bo93', 'bo94', 'bo95', 'bo96', 'bo97', 'bo98', 'bo99', 'bp00', 'bp01', 'bp02', 'bp03', 'bp04', 'bp05', 'bp06', 'bp07', 'bp08', 'bp09', 'bp10', 'bp11', 'bp12', 'bp13', 'bp14', 'bp15', 'bp16', 'bp17', 'bp18', 'bp19', 'bp20', 'bp21', 'bp22', 'bp23', 'bp24', 'bp25', 'bp26', 'bp27', 'bp28', 'bp29', 'bp30', 'bp31', 'bp32', 'bp33', 'bp34', 'bp35', 'bp36', 'bp37', 'bp38', 'bp39', 'bp40', 'bp41', 'bp42', 'bp43', 'bp44', 'bp45', 'bp46', 'bp47', 'bp48', 'bp49', 'bp50', 'bp51', 'bp52', 'bp53', 'bp54', 'bp55', 'bp56', 'bp57', 'bp58', 'bp59', 'bp60', 'bp61', 'bp62', 'bp63', 'bp64', 'bp65', 'bp66', 'bp67', 'bp68', 'bp69', 'bp70', 'bp71', 'bp72', 'bp73', 'bp74', 'bp75', 'bp76', 'bp77', 'bp78', 'bp79', 'bp80', 'bp81', 'bp82', 'bp83', 'bp84', 'bp85', 'bp86', 'bp87', 'bp88', 'bp89', 'bp90', 'bp91', 'bp92', 'bp93', 'bp94', 'bp95', 'bp96', 'bp97', 'bp98', 'bp99', 'bq00', 'bq01', 'bq02', 'bq03', 'bq04', 'bq05', 'bq06', 'bq07', 'bq08', 'bq09', 'bq10', 'bq11', 'bq12', 'bq13', 'bq14', 'bq15', 'bq16', 'bq17', 'bq18', 'bq19', 'bq20', 'bq21', 'bq22', 'bq23', 'bq24', 'bq25', 'bq26', 'bq27', 'bq28', 'bq29', 'bq30', 'bq31', 'bq32', 'bq33', 'bq34', 'bq35', 'bq36', 'bq37', 'bq38', 'bq39', 'bq40', 'bq41', 'bq42', 'bq43', 'bq44', 'bq45', 'bq46', 'bq47', 'bq48', 'bq49', 'bq50', 'bq51', 'bq52', 'bq53', 'bq54', 'bq55', 'bq56', 'bq57', 'bq58', 'bq59', 'bq60', 'bq61', 'bq62', 'bq63', 'bq64', 'bq65', 'bq66', 'bq67', 'bq68', 'bq69', 'bq70', 'bq71', 'bq72', 'bq73', 'bq74', 'bq75', 'bq76', 'bq77', 'bq78', 'bq79', 'bq80', 'bq81', 'bq82', 'bq83', 'bq84', 'bq85', 'bq86', 'bq87', 'bq88', 'bq89', 'bq90', 'bq91', 'bq92', 'bq93', 'bq94', 'bq95', 'bq96', 'bq97', 'bq98', 'bq99', 'br00', 'br01', 'br02', 'br03', 'br04', 'br05', 'br06', 'br07', 'br08', 'br09', 'br10', 'br11', 'br12', 'br13', 'br14', 'br15', 'br16', 'br17', 'br18', 'br19', 'br20', 'br21', 'br22', 'br23', 'br24', 'br25', 'br26', 'br27', 'br28', 'br29', 'br30', 'br31', 'br32', 'br33', 'br34', 'br35', 'br36', 'br37', 'br38', 'br39', 'br40', 'br41', 'br42', 'br43', 'br44', 'br45', 'br46', 'br47', 'br48', 'br49', 'br50', 'br51', 'br52', 'br53', 'br54', 'br55', 'br56', 'br57', 'br58', 'br59', 'br60', 'br61', 'br62', 'br63', 'br64', 'br65', 'br66', 'br67', 'br68', 'br69', 'br70', 'br71', 'br72', 'br73', 'br74', 'br75', 'br76', 'br77', 'br78', 'br79', 'br80', 'br81', 'br82', 'br83', 'br84', 'br85', 'br86', 'br87', 'br88', 'br89', 'br90', 'br91', 'br92', 'br93', 'br94', 'br95', 'br96', 'br97', 'br98', 'br99', 'bs00', 'bs01', 'bs02', 'bs03', 'bs04', 'bs05', 'bs06', 'bs07', 'bs08', 'bs09', 'bs10', 'bs11', 'bs12', 'bs13', 'bs14', 'bs15', 'bs16', 'bs17', 'bs18', 'bs19', 'bs20', 'bs21', 'bs22', 'bs23', 'bs24', 'bs25', 'bs26', 'bs27', 'bs28', 'bs29', 'bs30', 'bs31', 'bs32', 'bs33', 'bs34', 'bs35', 'bs36', 'bs37', 'bs38', 'bs39', 'bs40', 'bs41', 'bs42', 'bs43', 'bs44', 'bs45', 'bs46', 'bs47', 'bs48', 'bs49', 'bs50', 'bs51', 'bs52', 'bs53', 'bs54', 'bs55', 'bs56', 'bs57', 'bs58', 'bs59', 'bs60', 'bs61', 'bs62', 'bs63', 'bs64', 'bs65', 'bs66', 'bs67', 'bs68', 'bs69', 'bs70', 'bs71', 'bs72', 'bs73', 'bs74', 'bs75', 'bs76', 'bs77', 'bs78', 'bs79', 'bs80', 'bs81', 'bs82', 'bs83', 'bs84', 'bs85', 'bs86', 'bs87', 'bs88', 'bs89', 'bs90', 'bs91', 'bs92', 'bs93', 'bs94', 'bs95', 'bs96', 'bs97', 'bs98', 'bs99', 'bt00', 'bt01', 'bt02', 'bt03', 'bt04', 'bt05', 'bt06', 'bt07', 'bt08', 'bt09', 'bt10', 'bt11', 'bt12', 'bt13', 'bt14', 'bt15', 'bt16', 'bt17', 'bt18', 'bt19', 'bt20', 'bt21', 'bt22', 'bt23', 'bt24', 'bt25', 'bt26', 'bt27', 'bt28', 'bt29', 'bt30', 'bt31', 'bt32', 'bt33', 'bt34', 'bt35', 'bt36', 'bt37', 'bt38', 'bt39', 'bt40', 'bt41', 'bt42', 'bt43', 'bt44', 'bt45', 'bt46', 'bt47', 'bt48', 'bt49', 'bt50', 'bt51', 'bt52', 'bt53', 'bt54', 'bt55', 'bt56', 'bt57', 'bt58', 'bt59', 'bt60', 'bt61', 'bt62', 'bt63', 'bt64', 'bt65', 'bt66', 'bt67', 'bt68', 'bt69', 'bt70', 'bt71', 'bt72', 'bt73', 'bt74', 'bt75', 'bt76', 'bt77', 'bt78', 'bt79', 'bt80', 'bt81', 'bt82', 'bt83', 'bt84', 'bt85', 'bt86', 'bt87', 'bt88', 'bt89', 'bt90', 'bt91', 'bt92', 'bt93', 'bt94', 'bt95', 'bt96', 'bt97', 'bt98', 'bt99', 'bu00', 'bu01', 'bu02', 'bu03', 'bu04', 'bu05', 'bu06', 'bu07', 'bu08', 'bu09', 'bu10', 'bu11', 'bu12', 'bu13', 'bu14', 'bu15', 'bu16', 'bu17', 'bu18', 'bu19', 'bu20', 'bu21', 'bu22', 'bu23', 'bu24', 'bu25', 'bu26', 'bu27', 'bu28', 'bu29', 'bu30', 'bu31', 'bu32', 'bu33', 'bu34', 'bu35', 'bu36', 'bu37', 'bu38', 'bu39', 'bu40', 'bu41', 'bu42', 'bu43', 'bu44', 'bu45', 'bu46', 'bu47', 'bu48', 'bu49', 'bu50', 'bu51', 'bu52', 'bu53', 'bu54', 'bu55', 'bu56', 'bu57', 'bu58', 'bu59', 'bu60', 'bu61', 'bu62', 'bu63', 'bu64', 'bu65', 'bu66', 'bu67', 'bu68', 'bu69', 'bu70', 'bu71', 'bu72', 'bu73', 'bu74', 'bu75', 'bu76', 'bu77', 'bu78', 'bu79', 'bu80', 'bu81', 'bu82', 'bu83', 'bu84', 'bu85', 'bu86', 'bu87', 'bu88', 'bu89', 'bu90', 'bu91', 'bu92', 'bu93', 'bu94', 'bu95', 'bu96', 'bu97', 'bu98', 'bu99', 'bv00', 'bv01', 'bv02', 'bv03', 'bv04', 'bv05', 'bv06', 'bv07', 'bv08', 'bv09', 'bv10', 'bv11', 'bv12', 'bv13', 'bv14', 'bv15', 'bv16', 'bv17', 'bv18', 'bv19', 'bv20', 'bv21', 'bv22', 'bv23', 'bv24', 'bv25', 'bv26', 'bv27', 'bv28', 'bv29', 'bv30', 'bv31', 'bv32', 'bv33', 'bv34', 'bv35', 'bv36', 'bv37', 'bv38', 'bv39', 'bv40', 'bv41', 'bv42', 'bv43', 'bv44', 'bv45', 'bv46', 'bv47', 'bv48', 'bv49', 'bv50', 'bv51', 'bv52', 'bv53', 'bv54', 'bv55', 'bv56', 'bv57', 'bv58', 'bv59', 'bv60', 'bv61', 'bv62', 'bv63', 'bv64', 'bv65', 'bv66', 'bv67', 'bv68', 'bv69', 'bv70', 'bv71', 'bv72', 'bv73', 'bv74', 'bv75', 'bv76', 'bv77', 'bv78', 'bv79', 'bv80', 'bv81', 'bv82', 'bv83', 'bv84', 'bv85', 'bv86', 'bv87', 'bv88', 'bv89', 'bv90', 'bv91', 'bv92', 'bv93', 'bv94', 'bv95', 'bv96', 'bv97', 'bv98', 'bv99', 'bw00', 'bw01', 'bw02', 'bw03', 'bw04', 'bw05', 'bw06', 'bw07', 'bw08', 'bw09', 'bw10', 'bw11', 'bw12', 'bw13', 'bw14', 'bw15', 'bw16', 'bw17', 'bw18', 'bw19', 'bw20', 'bw21', 'bw22', 'bw23', 'bw24', 'bw25', 'bw26', 'bw27', 'bw28', 'bw29', 'bw30', 'bw31', 'bw32', 'bw33', 'bw34', 'bw35', 'bw36', 'bw37', 'bw38', 'bw39', 'bw40', 'bw41', 'bw42', 'bw43', 'bw44', 'bw45', 'bw46', 'bw47', 'bw48', 'bw49', 'bw50', 'bw51', 'bw52', 'bw53', 'bw54', 'bw55', 'bw56', 'bw57', 'bw58', 'bw59', 'bw60', 'bw61', 'bw62', 'bw63', 'bw64', 'bw65', 'bw66', 'bw67', 'bw68', 'bw69', 'bw70', 'bw71', 'bw72', 'bw73', 'bw74', 'bw75', 'bw76', 'bw77', 'bw78', 'bw79', 'bw80', 'bw81', 'bw82', 'bw83', 'bw84', 'bw85', 'bw86', 'bw87', 'bw88', 'bw89', 'bw90', 'bw91', 'bw92', 'bw93', 'bw94', 'bw95', 'bw96', 'bw97', 'bw98', 'bw99', 'bx00', 'bx01', 'bx02', 'bx03', 'bx04', 'bx05', 'bx06', 'bx07', 'bx08', 'bx09', 'bx10', 'bx11', 'bx12', 'bx13', 'bx14', 'bx15', 'bx16', 'bx17', 'bx18', 'bx19', 'bx20', 'bx21', 'bx22', 'bx23', 'bx24', 'bx25', 'bx26', 'bx27', 'bx28', 'bx29', 'bx30', 'bx31', 'bx32', 'bx33', 'bx34', 'bx35', 'bx36', 'bx37', 'bx38', 'bx39', 'bx40', 'bx41', 'bx42', 'bx43', 'bx44', 'bx45', 'bx46', 'bx47', 'bx48', 'bx49', 'bx50', 'bx51', 'bx52', 'bx53', 'bx54', 'bx55', 'bx56', 'bx57', 'bx58', 'bx59', 'bx60', 'bx61', 'bx62', 'bx63', 'bx64', 'bx65', 'bx66', 'bx67', 'bx68', 'bx69', 'bx70', 'bx71', 'bx72', 'bx73', 'bx74', 'bx75', 'bx76', 'bx77', 'bx78', 'bx79', 'bx80', 'bx81', 'bx82', 'bx83', 'bx84', 'bx85', 'bx86', 'bx87', 'bx88', 'bx89', 'bx90', 'bx91', 'bx92', 'bx93', 'bx94', 'bx95', 'bx96', 'bx97', 'bx98', 'bx99', 'by00', 'by01', 'by02', 'by03', 'by04', 'by05', 'by06', 'by07', 'by08', 'by09', 'by10', 'by11', 'by12', 'by13', 'by14', 'by15', 'by16', 'by17', 'by18', 'by19', 'by20', 'by21', 'by22', 'by23', 'by24', 'by25', 'by26', 'by27', 'by28', 'by29', 'by30', 'by31', 'by32', 'by33', 'by34', 'by35', 'by36', 'by37', 'by38', 'by39', 'by40', 'by41', 'by42', 'by43', 'by44', 'by45', 'by46', 'by47', 'by48', 'by49', 'by50', 'by51', 'by52', 'by53', 'by54', 'by55', 'by56', 'by57', 'by58', 'by59', 'by60', 'by61', 'by62', 'by63', 'by64', 'by65', 'by66', 'by67', 'by68', 'by69', 'by70', 'by71', 'by72', 'by73', 'by74', 'by75', 'by76', 'by77', 'by78', 'by79', 'by80', 'by81', 'by82', 'by83', 'by84', 'by85', 'by86', 'by87', 'by88', 'by89', 'by90', 'by91', 'by92', 'by93', 'by94', 'by95', 'by96', 'by97', 'by98', 'by99', 'bz00', 'bz01', 'bz02', 'bz03', 'bz04', 'bz05', 'bz06', 'bz07', 'bz08', 'bz09', 'bz10', 'bz11', 'bz12', 'bz13', 'bz14', 'bz15', 'bz16', 'bz17', 'bz18', 'bz19', 'bz20', 'bz21', 'bz22', 'bz23', 'bz24', 'bz25', 'bz26', 'bz27', 'bz28', 'bz29', 'bz30', 'bz31', 'bz32', 'bz33', 'bz34', 'bz35', 'bz36', 'bz37', 'bz38', 'bz39', 'bz40', 'bz41', 'bz42', 'bz43', 'bz44', 'bz45', 'bz46', 'bz47', 'bz48', 'bz49', 'bz50', 'bz51', 'bz52', 'bz53', 'bz54', 'bz55', 'bz56', 'bz57', 'bz58', 'bz59', 'bz60', 'bz61', 'bz62', 'bz63', 'bz64', 'bz65', 'bz66', 'bz67', 'bz68', 'bz69', 'bz70', 'bz71', 'bz72', 'bz73', 'bz74', 'bz75', 'bz76', 'bz77', 'bz78', 'bz79', 'bz80', 'bz81', 'bz82', 'bz83', 'bz84', 'bz85', 'bz86', 'bz87', 'bz88', 'bz89', 'bz90', 'bz91', 'bz92', 'bz93', 'bz94', 'bz95', 'bz96', 'bz97', 'bz98', 'bz99', 'ca00', 'ca01', 'ca02', 'ca03', 'ca04', 'ca05', 'ca06', 'ca07', 'ca08', 'ca09', 'ca10', 'ca11', 'ca12', 'ca13', 'ca14', 'ca15', 'ca16', 'ca17', 'ca18', 'ca19', 'ca20', 'ca21', 'ca22', 'ca23', 'ca24', 'ca25', 'ca26', 'ca27', 'ca28', 'ca29', 'ca30', 'ca31', 'ca32', 'ca33', 'ca34', 'ca35', 'ca36', 'ca37', 'ca38', 'ca39', 'ca40', 'ca41', 'ca42', 'ca43', 'ca44', 'ca45', 'ca46', 'ca47', 'ca48', 'ca49', 'ca50', 'ca51', 'ca52', 'ca53', 'ca54', 'ca55', 'ca56', 'ca57', 'ca58', 'ca59', 'ca60', 'ca61', 'ca62', 'ca63', 'ca64', 'ca65', 'ca66', 'ca67', 'ca68', 'ca69', 'ca70', 'ca71', 'ca72', 'ca73', 'ca74', 'ca75', 'ca76', 'ca77', 'ca78', 'ca79', 'ca80', 'ca81', 'ca82', 'ca83', 'ca84', 'ca85', 'ca86', 'ca87', 'ca88', 'ca89', 'ca90', 'ca91', 'ca92', 'ca93', 'ca94', 'ca95', 'ca96', 'ca97', 'ca98', 'ca99', 'cb00', 'cb01', 'cb02', 'cb03', 'cb04', 'cb05', 'cb06', 'cb07', 'cb08', 'cb09', 'cb10', 'cb11', 'cb12', 'cb13', 'cb14', 'cb15', 'cb16', 'cb17', 'cb18', 'cb19', 'cb20', 'cb21', 'cb22', 'cb23', 'cb24', 'cb25', 'cb26', 'cb27', 'cb28', 'cb29', 'cb30', 'cb31', 'cb32', 'cb33', 'cb34', 'cb35', 'cb36', 'cb37', 'cb38', 'cb39', 'cb40', 'cb41', 'cb42', 'cb43', 'cb44', 'cb45', 'cb46', 'cb47', 'cb48', 'cb49', 'cb50', 'cb51', 'cb52', 'cb53', 'cb54', 'cb55', 'cb56', 'cb57', 'cb58', 'cb59', 'cb60', 'cb61', 'cb62', 'cb63', 'cb64', 'cb65', 'cb66', 'cb67', 'cb68', 'cb69', 'cb70', 'cb71', 'cb72', 'cb73', 'cb74', 'cb75', 'cb76', 'cb77', 'cb78', 'cb79', 'cb80', 'cb81', 'cb82', 'cb83', 'cb84', 'cb85', 'cb86', 'cb87', 'cb88', 'cb89', 'cb90', 'cb91', 'cb92', 'cb93', 'cb94', 'cb95', 'cb96', 'cb97', 'cb98', 'cb99', 'cc00', 'cc01', 'cc02', 'cc03', 'cc04', 'cc05', 'cc06', 'cc07', 'cc08', 'cc09', 'cc10', 'cc11', 'cc12', 'cc13', 'cc14', 'cc15', 'cc16', 'cc17', 'cc18', 'cc19', 'cc20', 'cc21', 'cc22', 'cc23', 'cc24', 'cc25', 'cc26', 'cc27', 'cc28', 'cc29', 'cc30', 'cc31', 'cc32', 'cc33', 'cc34', 'cc35', 'cc36', 'cc37', 'cc38', 'cc39', 'cc40', 'cc41', 'cc42', 'cc43', 'cc44', 'cc45', 'cc46', 'cc47', 'cc48', 'cc49', 'cc50', 'cc51', 'cc52', 'cc53', 'cc54', 'cc55', 'cc56', 'cc57', 'cc58', 'cc59', 'cc60', 'cc61', 'cc62', 'cc63', 'cc64', 'cc65', 'cc66', 'cc67', 'cc68', 'cc69', 'cc70', 'cc71', 'cc72', 'cc73', 'cc74', 'cc75', 'cc76', 'cc77', 'cc78', 'cc79', 'cc80', 'cc81', 'cc82', 'cc83', 'cc84', 'cc85', 'cc86', 'cc87', 'cc88', 'cc89', 'cc90', 'cc91', 'cc92', 'cc93', 'cc94', 'cc95', 'cc96', 'cc97', 'cc98', 'cc99', 'cd00', 'cd01', 'cd02', 'cd03', 'cd04', 'cd05', 'cd06', 'cd07', 'cd08', 'cd09', 'cd10', 'cd11', 'cd12', 'cd13', 'cd14', 'cd15', 'cd16', 'cd17', 'cd18', 'cd19', 'cd20', 'cd21', 'cd22', 'cd23', 'cd24', 'cd25', 'cd26', 'cd27', 'cd28', 'cd29', 'cd30', 'cd31', 'cd32', 'cd33', 'cd34', 'cd35', 'cd36', 'cd37', 'cd38', 'cd39', 'cd40', 'cd41', 'cd42', 'cd43', 'cd44', 'cd45', 'cd46', 'cd47', 'cd48', 'cd49', 'cd50', 'cd51', 'cd52', 'cd53', 'cd54', 'cd55', 'cd56', 'cd57', 'cd58', 'cd59', 'cd60', 'cd61', 'cd62', 'cd63', 'cd64', 'cd65', 'cd66', 'cd67', 'cd68', 'cd69', 'cd70', 'cd71', 'cd72', 'cd73', 'cd74', 'cd75', 'cd76', 'cd77', 'cd78', 'cd79', 'cd80', 'cd81', 'cd82', 'cd83', 'cd84', 'cd85', 'cd86', 'cd87', 'cd88', 'cd89', 'cd90', 'cd91', 'cd92', 'cd93', 'cd94', 'cd95', 'cd96', 'cd97', 'cd98', 'cd99', 'ce00', 'ce01', 'ce02', 'ce03', 'ce04', 'ce05', 'ce06', 'ce07', 'ce08', 'ce09', 'ce10', 'ce11', 'ce12', 'ce13', 'ce14', 'ce15', 'ce16', 'ce17', 'ce18', 'ce19', 'ce20', 'ce21', 'ce22', 'ce23', 'ce24', 'ce25', 'ce26', 'ce27', 'ce28', 'ce29', 'ce30', 'ce31', 'ce32', 'ce33', 'ce34', 'ce35', 'ce36', 'ce37', 'ce38', 'ce39', 'ce40', 'ce41', 'ce42', 'ce43', 'ce44', 'ce45', 'ce46', 'ce47', 'ce48', 'ce49', 'ce50', 'ce51', 'ce52', 'ce53', 'ce54', 'ce55', 'ce56', 'ce57', 'ce58', 'ce59', 'ce60', 'ce61', 'ce62', 'ce63', 'ce64', 'ce65', 'ce66', 'ce67', 'ce68', 'ce69', 'ce70', 'ce71', 'ce72', 'ce73', 'ce74', 'ce75', 'ce76', 'ce77', 'ce78', 'ce79', 'ce80', 'ce81', 'ce82', 'ce83', 'ce84', 'ce85', 'ce86', 'ce87', 'ce88', 'ce89', 'ce90', 'ce91', 'ce92', 'ce93', 'ce94', 'ce95', 'ce96', 'ce97', 'ce98', 'ce99', 'cf00', 'cf01', 'cf02', 'cf03', 'cf04', 'cf05', 'cf06', 'cf07', 'cf08', 'cf09', 'cf10', 'cf11', 'cf12', 'cf13', 'cf14', 'cf15', 'cf16', 'cf17', 'cf18', 'cf19', 'cf20', 'cf21', 'cf22', 'cf23', 'cf24', 'cf25', 'cf26', 'cf27', 'cf28', 'cf29', 'cf30', 'cf31', 'cf32', 'cf33', 'cf34', 'cf35', 'cf36', 'cf37', 'cf38', 'cf39', 'cf40', 'cf41', 'cf42', 'cf43', 'cf44', 'cf45', 'cf46', 'cf47', 'cf48', 'cf49', 'cf50', 'cf51', 'cf52', 'cf53', 'cf54', 'cf55', 'cf56', 'cf57', 'cf58', 'cf59', 'cf60', 'cf61', 'cf62', 'cf63', 'cf64', 'cf65', 'cf66', 'cf67', 'cf68', 'cf69', 'cf70', 'cf71', 'cf72', 'cf73', 'cf74', 'cf75', 'cf76', 'cf77', 'cf78', 'cf79', 'cf80', 'cf81', 'cf82', 'cf83', 'cf84', 'cf85', 'cf86', 'cf87', 'cf88', 'cf89', 'cf90', 'cf91', 'cf92', 'cf93', 'cf94', 'cf95', 'cf96', 'cf97', 'cf98', 'cf99', 'cg00', 'cg01', 'cg02', 'cg03', 'cg04', 'cg05', 'cg06', 'cg07', 'cg08', 'cg09', 'cg10', 'cg11', 'cg12', 'cg13', 'cg14', 'cg15', 'cg16', 'cg17', 'cg18', 'cg19', 'cg20', 'cg21', 'cg22', 'cg23', 'cg24', 'cg25', 'cg26', 'cg27', 'cg28', 'cg29', 'cg30', 'cg31', 'cg32', 'cg33', 'cg34', 'cg35', 'cg36', 'cg37', 'cg38', 'cg39', 'cg40', 'cg41', 'cg42', 'cg43', 'cg44', 'cg45', 'cg46', 'cg47', 'cg48', 'cg49', 'cg50', 'cg51', 'cg52', 'cg53', 'cg54', 'cg55', 'cg56', 'cg57', 'cg58', 'cg59', 'cg60', 'cg61', 'cg62', 'cg63', 'cg64', 'cg65', 'cg66', 'cg67', 'cg68', 'cg69', 'cg70', 'cg71', 'cg72', 'cg73', 'cg74', 'cg75', 'cg76', 'cg77', 'cg78', 'cg79', 'cg80', 'cg81', 'cg82', 'cg83', 'cg84', 'cg85', 'cg86', 'cg87', 'cg88', 'cg89', 'cg90', 'cg91', 'cg92', 'cg93', 'cg94', 'cg95', 'cg96', 'cg97', 'cg98', 'cg99', 'ch00', 'ch01', 'ch02', 'ch03', 'ch04', 'ch05', 'ch06', 'ch07', 'ch08', 'ch09', 'ch10', 'ch11', 'ch12', 'ch13', 'ch14', 'ch15', 'ch16', 'ch17', 'ch18', 'ch19', 'ch20', 'ch21', 'ch22', 'ch23', 'ch24', 'ch25', 'ch26', 'ch27', 'ch28', 'ch29', 'ch30', 'ch31', 'ch32', 'ch33', 'ch34', 'ch35', 'ch36', 'ch37', 'ch38', 'ch39', 'ch40', 'ch41', 'ch42', 'ch43', 'ch44', 'ch45', 'ch46', 'ch47', 'ch48', 'ch49', 'ch50', 'ch51', 'ch52', 'ch53', 'ch54', 'ch55', 'ch56', 'ch57', 'ch58', 'ch59', 'ch60', 'ch61', 'ch62', 'ch63', 'ch64', 'ch65', 'ch66', 'ch67', 'ch68', 'ch69', 'ch70', 'ch71', 'ch72', 'ch73', 'ch74', 'ch75', 'ch76', 'ch77', 'ch78', 'ch79', 'ch80', 'ch81', 'ch82', 'ch83', 'ch84', 'ch85', 'ch86', 'ch87', 'ch88', 'ch89', 'ch90', 'ch91', 'ch92', 'ch93', 'ch94', 'ch95', 'ch96', 'ch97', 'ch98', 'ch99', 'ci00', 'ci01', 'ci02', 'ci03', 'ci04', 'ci05', 'ci06', 'ci07', 'ci08', 'ci09', 'ci10', 'ci11', 'ci12', 'ci13', 'ci14', 'ci15', 'ci16', 'ci17', 'ci18', 'ci19', 'ci20', 'ci21', 'ci22', 'ci23', 'ci24', 'ci25', 'ci26', 'ci27', 'ci28', 'ci29', 'ci30', 'ci31', 'ci32', 'ci33', 'ci34', 'ci35', 'ci36', 'ci37', 'ci38', 'ci39', 'ci40', 'ci41', 'ci42', 'ci43', 'ci44', 'ci45', 'ci46', 'ci47', 'ci48', 'ci49', 'ci50', 'ci51', 'ci52', 'ci53', 'ci54', 'ci55', 'ci56', 'ci57', 'ci58', 'ci59', 'ci60', 'ci61', 'ci62', 'ci63', 'ci64', 'ci65', 'ci66', 'ci67', 'ci68', 'ci69', 'ci70', 'ci71', 'ci72', 'ci73', 'ci74', 'ci75', 'ci76', 'ci77', 'ci78', 'ci79', 'ci80', 'ci81', 'ci82', 'ci83', 'ci84', 'ci85', 'ci86', 'ci87', 'ci88', 'ci89', 'ci90', 'ci91', 'ci92', 'ci93', 'ci94', 'ci95', 'ci96', 'ci97', 'ci98', 'ci99', 'cj00', 'cj01', 'cj02', 'cj03', 'cj04', 'cj05', 'cj06', 'cj07', 'cj08', 'cj09', 'cj10', 'cj11', 'cj12', 'cj13', 'cj14', 'cj15', 'cj16', 'cj17', 'cj18', 'cj19', 'cj20', 'cj21', 'cj22', 'cj23', 'cj24', 'cj25', 'cj26', 'cj27', 'cj28', 'cj29', 'cj30', 'cj31', 'cj32', 'cj33', 'cj34', 'cj35', 'cj36', 'cj37', 'cj38', 'cj39', 'cj40', 'cj41', 'cj42', 'cj43', 'cj44', 'cj45', 'cj46', 'cj47', 'cj48', 'cj49', 'cj50', 'cj51', 'cj52', 'cj53', 'cj54', 'cj55', 'cj56', 'cj57', 'cj58', 'cj59', 'cj60', 'cj61', 'cj62', 'cj63', 'cj64', 'cj65', 'cj66', 'cj67', 'cj68', 'cj69', 'cj70', 'cj71', 'cj72', 'cj73', 'cj74', 'cj75', 'cj76', 'cj77', 'cj78', 'cj79', 'cj80', 'cj81', 'cj82', 'cj83', 'cj84', 'cj85', 'cj86', 'cj87', 'cj88', 'cj89', 'cj90', 'cj91', 'cj92', 'cj93', 'cj94', 'cj95', 'cj96', 'cj97', 'cj98', 'cj99', 'ck00', 'ck01', 'ck02', 'ck03', 'ck04', 'ck05', 'ck06', 'ck07', 'ck08', 'ck09', 'ck10', 'ck11', 'ck12', 'ck13', 'ck14', 'ck15', 'ck16', 'ck17', 'ck18', 'ck19', 'ck20', 'ck21', 'ck22', 'ck23', 'ck24', 'ck25', 'ck26', 'ck27', 'ck28', 'ck29', 'ck30', 'ck31', 'ck32', 'ck33', 'ck34', 'ck35', 'ck36', 'ck37', 'ck38', 'ck39', 'ck40', 'ck41', 'ck42', 'ck43', 'ck44', 'ck45', 'ck46', 'ck47', 'ck48', 'ck49', 'ck50', 'ck51', 'ck52', 'ck53', 'ck54', 'ck55', 'ck56', 'ck57', 'ck58', 'ck59', 'ck60', 'ck61', 'ck62', 'ck63', 'ck64', 'ck65', 'ck66', 'ck67', 'ck68', 'ck69', 'ck70', 'ck71', 'ck72', 'ck73', 'ck74', 'ck75', 'ck76', 'ck77', 'ck78', 'ck79', 'ck80', 'ck81', 'ck82', 'ck83', 'ck84', 'ck85', 'ck86', 'ck87', 'ck88', 'ck89', 'ck90', 'ck91', 'ck92', 'ck93', 'ck94', 'ck95', 'ck96', 'ck97', 'ck98', 'ck99', 'cl00', 'cl01', 'cl02', 'cl03', 'cl04', 'cl05', 'cl06', 'cl07', 'cl08', 'cl09', 'cl10', 'cl11', 'cl12', 'cl13', 'cl14', 'cl15', 'cl16', 'cl17', 'cl18', 'cl19', 'cl20', 'cl21', 'cl22', 'cl23', 'cl24', 'cl25', 'cl26', 'cl27', 'cl28', 'cl29', 'cl30', 'cl31', 'cl32', 'cl33', 'cl34', 'cl35', 'cl36', 'cl37', 'cl38', 'cl39', 'cl40', 'cl41', 'cl42', 'cl43', 'cl44', 'cl45', 'cl46', 'cl47', 'cl48', 'cl49', 'cl50', 'cl51', 'cl52', 'cl53', 'cl54', 'cl55', 'cl56', 'cl57', 'cl58', 'cl59', 'cl60', 'cl61', 'cl62', 'cl63', 'cl64', 'cl65', 'cl66', 'cl67', 'cl68', 'cl69', 'cl70', 'cl71', 'cl72', 'cl73', 'cl74', 'cl75', 'cl76', 'cl77', 'cl78', 'cl79', 'cl80', 'cl81', 'cl82', 'cl83', 'cl84', 'cl85', 'cl86', 'cl87', 'cl88', 'cl89', 'cl90', 'cl91', 'cl92', 'cl93', 'cl94', 'cl95', 'cl96', 'cl97', 'cl98', 'cl99', 'cm00', 'cm01', 'cm02', 'cm03', 'cm04', 'cm05', 'cm06', 'cm07', 'cm08', 'cm09', 'cm10', 'cm11', 'cm12', 'cm13', 'cm14', 'cm15', 'cm16', 'cm17', 'cm18', 'cm19', 'cm20', 'cm21', 'cm22', 'cm23', 'cm24', 'cm25', 'cm26', 'cm27', 'cm28', 'cm29', 'cm30', 'cm31', 'cm32', 'cm33', 'cm34', 'cm35', 'cm36', 'cm37', 'cm38', 'cm39', 'cm40', 'cm41', 'cm42', 'cm43', 'cm44', 'cm45', 'cm46', 'cm47', 'cm48', 'cm49', 'cm50', 'cm51', 'cm52', 'cm53', 'cm54', 'cm55', 'cm56', 'cm57', 'cm58', 'cm59', 'cm60', 'cm61', 'cm62', 'cm63', 'cm64', 'cm65', 'cm66', 'cm67', 'cm68', 'cm69', 'cm70', 'cm71', 'cm72', 'cm73', 'cm74', 'cm75', 'cm76', 'cm77', 'cm78', 'cm79', 'cm80', 'cm81', 'cm82', 'cm83', 'cm84', 'cm85', 'cm86', 'cm87', 'cm88', 'cm89', 'cm90', 'cm91', 'cm92', 'cm93', 'cm94', 'cm95', 'cm96', 'cm97', 'cm98', 'cm99', 'cn00', 'cn01', 'cn02', 'cn03', 'cn04', 'cn05', 'cn06', 'cn07', 'cn08', 'cn09', 'cn10', 'cn11', 'cn12', 'cn13', 'cn14', 'cn15', 'cn16', 'cn17', 'cn18', 'cn19', 'cn20', 'cn21', 'cn22', 'cn23', 'cn24', 'cn25', 'cn26', 'cn27', 'cn28', 'cn29', 'cn30', 'cn31', 'cn32', 'cn33', 'cn34', 'cn35', 'cn36', 'cn37', 'cn38', 'cn39', 'cn40', 'cn41', 'cn42', 'cn43', 'cn44', 'cn45', 'cn46', 'cn47', 'cn48', 'cn49', 'cn50', 'cn51', 'cn52', 'cn53', 'cn54', 'cn55', 'cn56', 'cn57', 'cn58', 'cn59', 'cn60', 'cn61', 'cn62', 'cn63', 'cn64', 'cn65', 'cn66', 'cn67', 'cn68', 'cn69', 'cn70', 'cn71', 'cn72', 'cn73', 'cn74', 'cn75', 'cn76', 'cn77', 'cn78', 'cn79', 'cn80', 'cn81', 'cn82', 'cn83', 'cn84', 'cn85', 'cn86', 'cn87', 'cn88', 'cn89', 'cn90', 'cn91', 'cn92', 'cn93', 'cn94', 'cn95', 'cn96', 'cn97', 'cn98', 'cn99', 'co00', 'co01', 'co02', 'co03', 'co04', 'co05', 'co06', 'co07', 'co08', 'co09', 'co10', 'co11', 'co12', 'co13', 'co14', 'co15', 'co16', 'co17', 'co18', 'co19', 'co20', 'co21', 'co22', 'co23', 'co24', 'co25', 'co26', 'co27', 'co28', 'co29', 'co30', 'co31', 'co32', 'co33', 'co34', 'co35', 'co36', 'co37', 'co38', 'co39', 'co40', 'co41', 'co42', 'co43', 'co44', 'co45', 'co46', 'co47', 'co48', 'co49', 'co50', 'co51', 'co52', 'co53', 'co54', 'co55', 'co56', 'co57', 'co58', 'co59', 'co60', 'co61', 'co62', 'co63', 'co64', 'co65', 'co66', 'co67', 'co68', 'co69', 'co70', 'co71', 'co72', 'co73', 'co74', 'co75', 'co76', 'co77', 'co78', 'co79', 'co80', 'co81', 'co82', 'co83', 'co84', 'co85', 'co86', 'co87', 'co88', 'co89', 'co90', 'co91', 'co92', 'co93', 'co94', 'co95', 'co96', 'co97', 'co98', 'co99', 'cp00', 'cp01', 'cp02', 'cp03', 'cp04', 'cp05', 'cp06', 'cp07', 'cp08', 'cp09', 'cp10', 'cp11', 'cp12', 'cp13', 'cp14', 'cp15', 'cp16', 'cp17', 'cp18', 'cp19', 'cp20', 'cp21', 'cp22', 'cp23', 'cp24', 'cp25', 'cp26', 'cp27', 'cp28', 'cp29', 'cp30', 'cp31', 'cp32', 'cp33', 'cp34', 'cp35', 'cp36', 'cp37', 'cp38', 'cp39', 'cp40', 'cp41', 'cp42', 'cp43', 'cp44', 'cp45', 'cp46', 'cp47', 'cp48', 'cp49', 'cp50', 'cp51', 'cp52', 'cp53', 'cp54', 'cp55', 'cp56', 'cp57', 'cp58', 'cp59', 'cp60', 'cp61', 'cp62', 'cp63', 'cp64', 'cp65', 'cp66', 'cp67', 'cp68', 'cp69', 'cp70', 'cp71', 'cp72', 'cp73', 'cp74', 'cp75', 'cp76', 'cp77', 'cp78', 'cp79', 'cp80', 'cp81', 'cp82', 'cp83', 'cp84', 'cp85', 'cp86', 'cp87', 'cp88', 'cp89', 'cp90', 'cp91', 'cp92', 'cp93', 'cp94', 'cp95', 'cp96', 'cp97', 'cp98', 'cp99', 'cq00', 'cq01', 'cq02', 'cq03', 'cq04', 'cq05', 'cq06', 'cq07', 'cq08', 'cq09', 'cq10', 'cq11', 'cq12', 'cq13', 'cq14', 'cq15', 'cq16', 'cq17', 'cq18', 'cq19', 'cq20', 'cq21', 'cq22', 'cq23', 'cq24', 'cq25', 'cq26', 'cq27', 'cq28', 'cq29', 'cq30', 'cq31', 'cq32', 'cq33', 'cq34', 'cq35', 'cq36', 'cq37', 'cq38', 'cq39', 'cq40', 'cq41', 'cq42', 'cq43', 'cq44', 'cq45', 'cq46', 'cq47', 'cq48', 'cq49', 'cq50', 'cq51', 'cq52', 'cq53', 'cq54', 'cq55', 'cq56', 'cq57', 'cq58', 'cq59', 'cq60', 'cq61', 'cq62', 'cq63', 'cq64', 'cq65', 'cq66', 'cq67', 'cq68', 'cq69', 'cq70', 'cq71', 'cq72', 'cq73', 'cq74', 'cq75', 'cq76', 'cq77', 'cq78', 'cq79', 'cq80', 'cq81', 'cq82', 'cq83', 'cq84', 'cq85', 'cq86', 'cq87', 'cq88', 'cq89', 'cq90', 'cq91', 'cq92', 'cq93', 'cq94', 'cq95', 'cq96', 'cq97', 'cq98', 'cq99', 'cr00', 'cr01', 'cr02', 'cr03', 'cr04', 'cr05', 'cr06', 'cr07', 'cr08', 'cr09', 'cr10', 'cr11', 'cr12', 'cr13', 'cr14', 'cr15', 'cr16', 'cr17', 'cr18', 'cr19', 'cr20', 'cr21', 'cr22', 'cr23', 'cr24', 'cr25', 'cr26', 'cr27', 'cr28', 'cr29', 'cr30', 'cr31', 'cr32', 'cr33', 'cr34', 'cr35', 'cr36', 'cr37', 'cr38', 'cr39', 'cr40', 'cr41', 'cr42', 'cr43', 'cr44', 'cr45', 'cr46', 'cr47', 'cr48', 'cr49', 'cr50', 'cr51', 'cr52', 'cr53', 'cr54', 'cr55', 'cr56', 'cr57', 'cr58', 'cr59', 'cr60', 'cr61', 'cr62', 'cr63', 'cr64', 'cr65', 'cr66', 'cr67', 'cr68', 'cr69', 'cr70', 'cr71', 'cr72', 'cr73', 'cr74', 'cr75', 'cr76', 'cr77', 'cr78', 'cr79', 'cr80', 'cr81', 'cr82', 'cr83', 'cr84', 'cr85', 'cr86', 'cr87', 'cr88', 'cr89', 'cr90', 'cr91', 'cr92', 'cr93', 'cr94', 'cr95', 'cr96', 'cr97', 'cr98', 'cr99', 'cs00', 'cs01', 'cs02', 'cs03', 'cs04', 'cs05', 'cs06', 'cs07', 'cs08', 'cs09', 'cs10', 'cs11', 'cs12', 'cs13', 'cs14', 'cs15', 'cs16', 'cs17', 'cs18', 'cs19', 'cs20', 'cs21', 'cs22', 'cs23', 'cs24', 'cs25', 'cs26', 'cs27', 'cs28', 'cs29', 'cs30', 'cs31', 'cs32', 'cs33', 'cs34', 'cs35', 'cs36', 'cs37', 'cs38', 'cs39', 'cs40', 'cs41', 'cs42', 'cs43', 'cs44', 'cs45', 'cs46', 'cs47', 'cs48', 'cs49', 'cs50', 'cs51', 'cs52', 'cs53', 'cs54', 'cs55', 'cs56', 'cs57', 'cs58', 'cs59', 'cs60', 'cs61', 'cs62', 'cs63', 'cs64', 'cs65', 'cs66', 'cs67', 'cs68', 'cs69', 'cs70', 'cs71', 'cs72', 'cs73', 'cs74', 'cs75', 'cs76', 'cs77', 'cs78', 'cs79', 'cs80', 'cs81', 'cs82', 'cs83', 'cs84', 'cs85', 'cs86', 'cs87', 'cs88', 'cs89', 'cs90', 'cs91', 'cs92', 'cs93', 'cs94', 'cs95', 'cs96', 'cs97', 'cs98', 'cs99', 'ct00', 'ct01', 'ct02', 'ct03', 'ct04', 'ct05', 'ct06', 'ct07', 'ct08', 'ct09', 'ct10', 'ct11', 'ct12', 'ct13', 'ct14', 'ct15', 'ct16', 'ct17', 'ct18', 'ct19', 'ct20', 'ct21', 'ct22', 'ct23', 'ct24', 'ct25', 'ct26', 'ct27', 'ct28', 'ct29', 'ct30', 'ct31', 'ct32', 'ct33', 'ct34', 'ct35', 'ct36', 'ct37', 'ct38', 'ct39', 'ct40', 'ct41', 'ct42', 'ct43', 'ct44', 'ct45', 'ct46', 'ct47', 'ct48', 'ct49', 'ct50', 'ct51', 'ct52', 'ct53', 'ct54', 'ct55', 'ct56', 'ct57', 'ct58', 'ct59', 'ct60', 'ct61', 'ct62', 'ct63', 'ct64', 'ct65', 'ct66', 'ct67', 'ct68', 'ct69', 'ct70', 'ct71', 'ct72', 'ct73', 'ct74', 'ct75', 'ct76', 'ct77', 'ct78', 'ct79', 'ct80', 'ct81', 'ct82', 'ct83', 'ct84', 'ct85', 'ct86', 'ct87', 'ct88', 'ct89', 'ct90', 'ct91', 'ct92', 'ct93', 'ct94', 'ct95', 'ct96', 'ct97', 'ct98', 'ct99', 'cu00', 'cu01', 'cu02', 'cu03', 'cu04', 'cu05', 'cu06', 'cu07', 'cu08', 'cu09', 'cu10', 'cu11', 'cu12', 'cu13', 'cu14', 'cu15', 'cu16', 'cu17', 'cu18', 'cu19', 'cu20', 'cu21', 'cu22', 'cu23', 'cu24', 'cu25', 'cu26', 'cu27', 'cu28', 'cu29', 'cu30', 'cu31', 'cu32', 'cu33', 'cu34', 'cu35', 'cu36', 'cu37', 'cu38', 'cu39', 'cu40', 'cu41', 'cu42', 'cu43', 'cu44', 'cu45', 'cu46', 'cu47', 'cu48', 'cu49', 'cu50', 'cu51', 'cu52', 'cu53', 'cu54', 'cu55', 'cu56', 'cu57', 'cu58', 'cu59', 'cu60', 'cu61', 'cu62', 'cu63', 'cu64', 'cu65', 'cu66', 'cu67', 'cu68', 'cu69', 'cu70', 'cu71', 'cu72', 'cu73', 'cu74', 'cu75', 'cu76', 'cu77', 'cu78', 'cu79', 'cu80', 'cu81', 'cu82', 'cu83', 'cu84', 'cu85', 'cu86', 'cu87', 'cu88', 'cu89', 'cu90', 'cu91', 'cu92', 'cu93', 'cu94', 'cu95', 'cu96', 'cu97', 'cu98', 'cu99', 'cv00', 'cv01', 'cv02', 'cv03', 'cv04', 'cv05', 'cv06', 'cv07', 'cv08', 'cv09', 'cv10', 'cv11', 'cv12', 'cv13', 'cv14', 'cv15', 'cv16', 'cv17', 'cv18', 'cv19', 'cv20', 'cv21', 'cv22', 'cv23', 'cv24', 'cv25', 'cv26', 'cv27', 'cv28', 'cv29', 'cv30', 'cv31', 'cv32', 'cv33', 'cv34', 'cv35', 'cv36', 'cv37', 'cv38', 'cv39', 'cv40', 'cv41', 'cv42', 'cv43', 'cv44', 'cv45', 'cv46', 'cv47', 'cv48', 'cv49', 'cv50', 'cv51', 'cv52', 'cv53', 'cv54', 'cv55', 'cv56', 'cv57', 'cv58', 'cv59', 'cv60', 'cv61', 'cv62', 'cv63', 'cv64', 'cv65', 'cv66', 'cv67', 'cv68', 'cv69', 'cv70', 'cv71', 'cv72', 'cv73', 'cv74', 'cv75', 'cv76', 'cv77', 'cv78', 'cv79', 'cv80', 'cv81', 'cv82', 'cv83', 'cv84', 'cv85', 'cv86', 'cv87', 'cv88', 'cv89', 'cv90', 'cv91', 'cv92', 'cv93', 'cv94', 'cv95', 'cv96', 'cv97', 'cv98', 'cv99', 'cw00', 'cw01', 'cw02', 'cw03', 'cw04', 'cw05', 'cw06', 'cw07', 'cw08', 'cw09', 'cw10', 'cw11', 'cw12', 'cw13', 'cw14', 'cw15', 'cw16', 'cw17', 'cw18', 'cw19', 'cw20', 'cw21', 'cw22', 'cw23', 'cw24', 'cw25', 'cw26', 'cw27', 'cw28', 'cw29', 'cw30', 'cw31', 'cw32', 'cw33', 'cw34', 'cw35', 'cw36', 'cw37', 'cw38', 'cw39', 'cw40', 'cw41', 'cw42', 'cw43', 'cw44', 'cw45', 'cw46', 'cw47', 'cw48', 'cw49', 'cw50', 'cw51', 'cw52', 'cw53', 'cw54', 'cw55', 'cw56', 'cw57', 'cw58', 'cw59', 'cw60', 'cw61', 'cw62', 'cw63', 'cw64', 'cw65', 'cw66', 'cw67', 'cw68', 'cw69', 'cw70', 'cw71', 'cw72', 'cw73', 'cw74', 'cw75', 'cw76', 'cw77', 'cw78', 'cw79', 'cw80', 'cw81', 'cw82', 'cw83', 'cw84', 'cw85', 'cw86', 'cw87', 'cw88', 'cw89', 'cw90', 'cw91', 'cw92', 'cw93', 'cw94', 'cw95', 'cw96', 'cw97', 'cw98', 'cw99', 'cx00', 'cx01', 'cx02', 'cx03', 'cx04', 'cx05', 'cx06', 'cx07', 'cx08', 'cx09', 'cx10', 'cx11', 'cx12', 'cx13', 'cx14', 'cx15', 'cx16', 'cx17', 'cx18', 'cx19', 'cx20', 'cx21', 'cx22', 'cx23', 'cx24', 'cx25', 'cx26', 'cx27', 'cx28', 'cx29', 'cx30', 'cx31', 'cx32', 'cx33', 'cx34', 'cx35', 'cx36', 'cx37', 'cx38', 'cx39', 'cx40', 'cx41', 'cx42', 'cx43', 'cx44', 'cx45', 'cx46', 'cx47', 'cx48', 'cx49', 'cx50', 'cx51', 'cx52', 'cx53', 'cx54', 'cx55', 'cx56', 'cx57', 'cx58', 'cx59', 'cx60', 'cx61', 'cx62', 'cx63', 'cx64', 'cx65', 'cx66', 'cx67', 'cx68', 'cx69', 'cx70', 'cx71', 'cx72', 'cx73', 'cx74', 'cx75', 'cx76', 'cx77', 'cx78', 'cx79', 'cx80', 'cx81', 'cx82', 'cx83', 'cx84', 'cx85', 'cx86', 'cx87', 'cx88', 'cx89', 'cx90', 'cx91', 'cx92', 'cx93', 'cx94', 'cx95', 'cx96', 'cx97', 'cx98', 'cx99', 'cy00', 'cy01', 'cy02', 'cy03', 'cy04', 'cy05', 'cy06', 'cy07', 'cy08', 'cy09', 'cy10', 'cy11', 'cy12', 'cy13', 'cy14', 'cy15', 'cy16', 'cy17', 'cy18', 'cy19', 'cy20', 'cy21', 'cy22', 'cy23', 'cy24', 'cy25', 'cy26', 'cy27', 'cy28', 'cy29', 'cy30', 'cy31', 'cy32', 'cy33', 'cy34', 'cy35', 'cy36', 'cy37', 'cy38', 'cy39', 'cy40', 'cy41', 'cy42', 'cy43', 'cy44', 'cy45', 'cy46', 'cy47', 'cy48', 'cy49', 'cy50', 'cy51', 'cy52', 'cy53', 'cy54', 'cy55', 'cy56', 'cy57', 'cy58', 'cy59', 'cy60', 'cy61', 'cy62', 'cy63', 'cy64', 'cy65', 'cy66', 'cy67', 'cy68', 'cy69', 'cy70', 'cy71', 'cy72', 'cy73', 'cy74', 'cy75', 'cy76', 'cy77', 'cy78', 'cy79', 'cy80', 'cy81', 'cy82', 'cy83', 'cy84', 'cy85', 'cy86', 'cy87', 'cy88', 'cy89', 'cy90', 'cy91', 'cy92', 'cy93', 'cy94', 'cy95', 'cy96', 'cy97', 'cy98', 'cy99', 'cz00', 'cz01', 'cz02', 'cz03', 'cz04', 'cz05', 'cz06', 'cz07', 'cz08', 'cz09', 'cz10', 'cz11', 'cz12', 'cz13', 'cz14', 'cz15', 'cz16', 'cz17', 'cz18', 'cz19', 'cz20', 'cz21', 'cz22', 'cz23', 'cz24', 'cz25', 'cz26', 'cz27', 'cz28', 'cz29', 'cz30', 'cz31', 'cz32', 'cz33', 'cz34', 'cz35', 'cz36', 'cz37', 'cz38', 'cz39', 'cz40', 'cz41', 'cz42', 'cz43', 'cz44', 'cz45', 'cz46', 'cz47', 'cz48', 'cz49', 'cz50', 'cz51', 'cz52', 'cz53', 'cz54', 'cz55', 'cz56', 'cz57', 'cz58', 'cz59', 'cz60', 'cz61', 'cz62', 'cz63', 'cz64', 'cz65', 'cz66', 'cz67', 'cz68', 'cz69', 'cz70', 'cz71', 'cz72', 'cz73', 'cz74', 'cz75', 'cz76', 'cz77', 'cz78', 'cz79', 'cz80', 'cz81', 'cz82', 'cz83', 'cz84', 'cz85', 'cz86', 'cz87', 'cz88', 'cz89', 'cz90', 'cz91', 'cz92', 'cz93', 'cz94', 'cz95', 'cz96', 'cz97', 'cz98', 'cz99', 'da00', 'da01', 'da02', 'da03', 'da04', 'da05', 'da06', 'da07', 'da08', 'da09', 'da10', 'da11', 'da12', 'da13', 'da14', 'da15', 'da16', 'da17', 'da18', 'da19', 'da20', 'da21', 'da22', 'da23', 'da24', 'da25', 'da26', 'da27', 'da28', 'da29', 'da30', 'da31', 'da32', 'da33', 'da34', 'da35', 'da36', 'da37', 'da38', 'da39', 'da40', 'da41', 'da42', 'da43', 'da44', 'da45', 'da46', 'da47', 'da48', 'da49', 'da50', 'da51', 'da52', 'da53', 'da54', 'da55', 'da56', 'da57', 'da58', 'da59', 'da60', 'da61', 'da62', 'da63', 'da64', 'da65', 'da66', 'da67', 'da68', 'da69', 'da70', 'da71', 'da72', 'da73', 'da74', 'da75', 'da76', 'da77', 'da78', 'da79', 'da80', 'da81', 'da82', 'da83', 'da84', 'da85', 'da86', 'da87', 'da88', 'da89', 'da90', 'da91', 'da92', 'da93', 'da94', 'da95', 'da96', 'da97', 'da98', 'da99', 'db00', 'db01', 'db02', 'db03', 'db04', 'db05', 'db06', 'db07', 'db08', 'db09', 'db10', 'db11', 'db12', 'db13', 'db14', 'db15', 'db16', 'db17', 'db18', 'db19', 'db20', 'db21', 'db22', 'db23', 'db24', 'db25', 'db26', 'db27', 'db28', 'db29', 'db30', 'db31', 'db32', 'db33', 'db34', 'db35', 'db36', 'db37', 'db38', 'db39', 'db40', 'db41', 'db42', 'db43', 'db44', 'db45', 'db46', 'db47', 'db48', 'db49', 'db50', 'db51', 'db52', 'db53', 'db54', 'db55', 'db56', 'db57', 'db58', 'db59', 'db60', 'db61', 'db62', 'db63', 'db64', 'db65', 'db66', 'db67', 'db68', 'db69', 'db70', 'db71', 'db72', 'db73', 'db74', 'db75', 'db76', 'db77', 'db78', 'db79', 'db80', 'db81', 'db82', 'db83', 'db84', 'db85', 'db86', 'db87', 'db88', 'db89', 'db90', 'db91', 'db92', 'db93', 'db94', 'db95', 'db96', 'db97', 'db98', 'db99', 'dc00', 'dc01', 'dc02', 'dc03', 'dc04', 'dc05', 'dc06', 'dc07', 'dc08', 'dc09', 'dc10', 'dc11', 'dc12', 'dc13', 'dc14', 'dc15', 'dc16', 'dc17', 'dc18', 'dc19', 'dc20', 'dc21', 'dc22', 'dc23', 'dc24', 'dc25', 'dc26', 'dc27', 'dc28', 'dc29', 'dc30', 'dc31', 'dc32', 'dc33', 'dc34', 'dc35', 'dc36', 'dc37', 'dc38', 'dc39', 'dc40', 'dc41', 'dc42', 'dc43', 'dc44', 'dc45', 'dc46', 'dc47', 'dc48', 'dc49', 'dc50', 'dc51', 'dc52', 'dc53', 'dc54', 'dc55', 'dc56', 'dc57', 'dc58', 'dc59', 'dc60', 'dc61', 'dc62', 'dc63', 'dc64', 'dc65', 'dc66', 'dc67', 'dc68', 'dc69', 'dc70', 'dc71', 'dc72', 'dc73', 'dc74', 'dc75', 'dc76', 'dc77', 'dc78', 'dc79', 'dc80', 'dc81', 'dc82', 'dc83', 'dc84', 'dc85', 'dc86', 'dc87', 'dc88', 'dc89', 'dc90', 'dc91', 'dc92', 'dc93', 'dc94', 'dc95', 'dc96', 'dc97', 'dc98', 'dc99', 'dd00', 'dd01', 'dd02', 'dd03', 'dd04', 'dd05', 'dd06', 'dd07', 'dd08', 'dd09', 'dd10', 'dd11', 'dd12', 'dd13', 'dd14', 'dd15', 'dd16', 'dd17', 'dd18', 'dd19', 'dd20', 'dd21', 'dd22', 'dd23', 'dd24', 'dd25', 'dd26', 'dd27', 'dd28', 'dd29', 'dd30', 'dd31', 'dd32', 'dd33', 'dd34', 'dd35', 'dd36', 'dd37', 'dd38', 'dd39', 'dd40', 'dd41', 'dd42', 'dd43', 'dd44', 'dd45', 'dd46', 'dd47', 'dd48', 'dd49', 'dd50', 'dd51', 'dd52', 'dd53', 'dd54', 'dd55', 'dd56', 'dd57', 'dd58', 'dd59', 'dd60', 'dd61', 'dd62', 'dd63', 'dd64', 'dd65', 'dd66', 'dd67', 'dd68', 'dd69', 'dd70', 'dd71', 'dd72', 'dd73', 'dd74', 'dd75', 'dd76', 'dd77', 'dd78', 'dd79', 'dd80', 'dd81', 'dd82', 'dd83', 'dd84', 'dd85', 'dd86', 'dd87', 'dd88', 'dd89', 'dd90', 'dd91', 'dd92', 'dd93', 'dd94', 'dd95', 'dd96', 'dd97', 'dd98', 'dd99', 'de00', 'de01', 'de02', 'de03', 'de04', 'de05', 'de06', 'de07', 'de08', 'de09', 'de10', 'de11', 'de12', 'de13', 'de14', 'de15', 'de16', 'de17', 'de18', 'de19', 'de20', 'de21', 'de22', 'de23', 'de24', 'de25', 'de26', 'de27', 'de28', 'de29', 'de30', 'de31', 'de32', 'de33', 'de34', 'de35', 'de36', 'de37', 'de38', 'de39', 'de40', 'de41', 'de42', 'de43', 'de44', 'de45', 'de46', 'de47', 'de48', 'de49', 'de50', 'de51', 'de52', 'de53', 'de54', 'de55', 'de56', 'de57', 'de58', 'de59', 'de60', 'de61', 'de62', 'de63', 'de64', 'de65', 'de66', 'de67', 'de68', 'de69', 'de70', 'de71', 'de72', 'de73', 'de74', 'de75', 'de76', 'de77', 'de78', 'de79', 'de80', 'de81', 'de82', 'de83', 'de84', 'de85', 'de86', 'de87', 'de88', 'de89', 'de90', 'de91', 'de92', 'de93', 'de94', 'de95', 'de96', 'de97', 'de98', 'de99', 'df00', 'df01', 'df02', 'df03', 'df04', 'df05', 'df06', 'df07', 'df08', 'df09', 'df10', 'df11', 'df12', 'df13', 'df14', 'df15', 'df16', 'df17', 'df18', 'df19', 'df20', 'df21', 'df22', 'df23', 'df24', 'df25', 'df26', 'df27', 'df28', 'df29', 'df30', 'df31', 'df32', 'df33', 'df34', 'df35', 'df36', 'df37', 'df38', 'df39', 'df40', 'df41', 'df42', 'df43', 'df44', 'df45', 'df46', 'df47', 'df48', 'df49', 'df50', 'df51', 'df52', 'df53', 'df54', 'df55', 'df56', 'df57', 'df58', 'df59', 'df60', 'df61', 'df62', 'df63', 'df64', 'df65', 'df66', 'df67', 'df68', 'df69', 'df70', 'df71', 'df72', 'df73', 'df74', 'df75', 'df76', 'df77', 'df78', 'df79', 'df80', 'df81', 'df82', 'df83', 'df84', 'df85', 'df86', 'df87', 'df88', 'df89', 'df90', 'df91', 'df92', 'df93', 'df94', 'df95', 'df96', 'df97', 'df98', 'df99', 'dg00', 'dg01', 'dg02', 'dg03', 'dg04', 'dg05', 'dg06', 'dg07', 'dg08', 'dg09', 'dg10', 'dg11', 'dg12', 'dg13', 'dg14', 'dg15', 'dg16', 'dg17', 'dg18', 'dg19', 'dg20', 'dg21', 'dg22', 'dg23', 'dg24', 'dg25', 'dg26', 'dg27', 'dg28', 'dg29', 'dg30', 'dg31', 'dg32', 'dg33', 'dg34', 'dg35', 'dg36', 'dg37', 'dg38', 'dg39', 'dg40', 'dg41', 'dg42', 'dg43', 'dg44', 'dg45', 'dg46', 'dg47', 'dg48', 'dg49', 'dg50', 'dg51', 'dg52', 'dg53', 'dg54', 'dg55', 'dg56', 'dg57', 'dg58', 'dg59', 'dg60', 'dg61', 'dg62', 'dg63', 'dg64', 'dg65', 'dg66', 'dg67', 'dg68', 'dg69', 'dg70', 'dg71', 'dg72', 'dg73', 'dg74', 'dg75', 'dg76', 'dg77', 'dg78', 'dg79', 'dg80', 'dg81', 'dg82', 'dg83', 'dg84', 'dg85', 'dg86', 'dg87', 'dg88', 'dg89', 'dg90', 'dg91', 'dg92', 'dg93', 'dg94', 'dg95', 'dg96', 'dg97', 'dg98', 'dg99', 'dh00', 'dh01', 'dh02', 'dh03', 'dh04', 'dh05', 'dh06', 'dh07', 'dh08', 'dh09', 'dh10', 'dh11', 'dh12', 'dh13', 'dh14', 'dh15', 'dh16', 'dh17', 'dh18', 'dh19', 'dh20', 'dh21', 'dh22', 'dh23', 'dh24', 'dh25', 'dh26', 'dh27', 'dh28', 'dh29', 'dh30', 'dh31', 'dh32', 'dh33', 'dh34', 'dh35', 'dh36', 'dh37', 'dh38', 'dh39', 'dh40', 'dh41', 'dh42', 'dh43', 'dh44', 'dh45', 'dh46', 'dh47', 'dh48', 'dh49', 'dh50', 'dh51', 'dh52', 'dh53', 'dh54', 'dh55', 'dh56', 'dh57', 'dh58', 'dh59', 'dh60', 'dh61', 'dh62', 'dh63', 'dh64', 'dh65', 'dh66', 'dh67', 'dh68', 'dh69', 'dh70', 'dh71', 'dh72', 'dh73', 'dh74', 'dh75', 'dh76', 'dh77', 'dh78', 'dh79', 'dh80', 'dh81', 'dh82', 'dh83', 'dh84', 'dh85', 'dh86', 'dh87', 'dh88', 'dh89', 'dh90', 'dh91', 'dh92', 'dh93', 'dh94', 'dh95', 'dh96', 'dh97', 'dh98', 'dh99', 'di00', 'di01', 'di02', 'di03', 'di04', 'di05', 'di06', 'di07', 'di08', 'di09', 'di10', 'di11', 'di12', 'di13', 'di14', 'di15', 'di16', 'di17', 'di18', 'di19', 'di20', 'di21', 'di22', 'di23', 'di24', 'di25', 'di26', 'di27', 'di28', 'di29', 'di30', 'di31', 'di32', 'di33', 'di34', 'di35', 'di36', 'di37', 'di38', 'di39', 'di40', 'di41', 'di42', 'di43', 'di44', 'di45', 'di46', 'di47', 'di48', 'di49', 'di50', 'di51', 'di52', 'di53', 'di54', 'di55', 'di56', 'di57', 'di58', 'di59', 'di60', 'di61', 'di62', 'di63', 'di64', 'di65', 'di66', 'di67', 'di68', 'di69', 'di70', 'di71', 'di72', 'di73', 'di74', 'di75', 'di76', 'di77', 'di78', 'di79', 'di80', 'di81', 'di82', 'di83', 'di84', 'di85', 'di86', 'di87', 'di88', 'di89', 'di90', 'di91', 'di92', 'di93', 'di94', 'di95', 'di96', 'di97', 'di98', 'di99', 'dj00', 'dj01', 'dj02', 'dj03', 'dj04', 'dj05', 'dj06', 'dj07', 'dj08', 'dj09', 'dj10', 'dj11', 'dj12', 'dj13', 'dj14', 'dj15', 'dj16', 'dj17', 'dj18', 'dj19', 'dj20', 'dj21', 'dj22', 'dj23', 'dj24', 'dj25', 'dj26', 'dj27', 'dj28', 'dj29', 'dj30', 'dj31', 'dj32', 'dj33', 'dj34', 'dj35', 'dj36', 'dj37', 'dj38', 'dj39', 'dj40', 'dj41', 'dj42', 'dj43', 'dj44', 'dj45', 'dj46', 'dj47', 'dj48', 'dj49', 'dj50', 'dj51', 'dj52', 'dj53', 'dj54', 'dj55', 'dj56', 'dj57', 'dj58', 'dj59', 'dj60', 'dj61', 'dj62', 'dj63', 'dj64', 'dj65', 'dj66', 'dj67', 'dj68', 'dj69', 'dj70', 'dj71', 'dj72', 'dj73', 'dj74', 'dj75', 'dj76', 'dj77', 'dj78', 'dj79', 'dj80', 'dj81', 'dj82', 'dj83', 'dj84', 'dj85', 'dj86', 'dj87', 'dj88', 'dj89', 'dj90', 'dj91', 'dj92', 'dj93', 'dj94', 'dj95', 'dj96', 'dj97', 'dj98', 'dj99', 'dk00', 'dk01', 'dk02', 'dk03', 'dk04', 'dk05', 'dk06', 'dk07', 'dk08', 'dk09', 'dk10', 'dk11', 'dk12', 'dk13', 'dk14', 'dk15', 'dk16', 'dk17', 'dk18', 'dk19', 'dk20', 'dk21', 'dk22', 'dk23', 'dk24', 'dk25', 'dk26', 'dk27', 'dk28', 'dk29', 'dk30', 'dk31', 'dk32', 'dk33', 'dk34', 'dk35', 'dk36', 'dk37', 'dk38', 'dk39', 'dk40', 'dk41', 'dk42', 'dk43', 'dk44', 'dk45', 'dk46', 'dk47', 'dk48', 'dk49', 'dk50', 'dk51', 'dk52', 'dk53', 'dk54', 'dk55', 'dk56', 'dk57', 'dk58', 'dk59', 'dk60', 'dk61', 'dk62', 'dk63', 'dk64', 'dk65', 'dk66', 'dk67', 'dk68', 'dk69', 'dk70', 'dk71', 'dk72', 'dk73', 'dk74', 'dk75', 'dk76', 'dk77', 'dk78', 'dk79', 'dk80', 'dk81', 'dk82', 'dk83', 'dk84', 'dk85', 'dk86', 'dk87', 'dk88', 'dk89', 'dk90', 'dk91', 'dk92', 'dk93', 'dk94', 'dk95', 'dk96', 'dk97', 'dk98', 'dk99', 'dl00', 'dl01', 'dl02', 'dl03', 'dl04', 'dl05', 'dl06', 'dl07', 'dl08', 'dl09', 'dl10', 'dl11', 'dl12', 'dl13', 'dl14', 'dl15', 'dl16', 'dl17', 'dl18', 'dl19', 'dl20', 'dl21', 'dl22', 'dl23', 'dl24', 'dl25', 'dl26', 'dl27', 'dl28', 'dl29', 'dl30', 'dl31', 'dl32', 'dl33', 'dl34', 'dl35', 'dl36', 'dl37', 'dl38', 'dl39', 'dl40', 'dl41', 'dl42', 'dl43', 'dl44', 'dl45', 'dl46', 'dl47', 'dl48', 'dl49', 'dl50', 'dl51', 'dl52', 'dl53', 'dl54', 'dl55', 'dl56', 'dl57', 'dl58', 'dl59', 'dl60', 'dl61', 'dl62', 'dl63', 'dl64', 'dl65', 'dl66', 'dl67', 'dl68', 'dl69', 'dl70', 'dl71', 'dl72', 'dl73', 'dl74', 'dl75', 'dl76', 'dl77', 'dl78', 'dl79', 'dl80', 'dl81', 'dl82', 'dl83', 'dl84', 'dl85', 'dl86', 'dl87', 'dl88', 'dl89', 'dl90', 'dl91', 'dl92', 'dl93', 'dl94', 'dl95', 'dl96', 'dl97', 'dl98', 'dl99', 'dm00', 'dm01', 'dm02', 'dm03', 'dm04', 'dm05', 'dm06', 'dm07', 'dm08', 'dm09', 'dm10', 'dm11', 'dm12', 'dm13', 'dm14', 'dm15', 'dm16', 'dm17', 'dm18', 'dm19', 'dm20', 'dm21', 'dm22', 'dm23', 'dm24', 'dm25', 'dm26', 'dm27', 'dm28', 'dm29', 'dm30', 'dm31', 'dm32', 'dm33', 'dm34', 'dm35', 'dm36', 'dm37', 'dm38', 'dm39', 'dm40', 'dm41', 'dm42', 'dm43', 'dm44', 'dm45', 'dm46', 'dm47', 'dm48', 'dm49', 'dm50', 'dm51', 'dm52', 'dm53', 'dm54', 'dm55', 'dm56', 'dm57', 'dm58', 'dm59', 'dm60', 'dm61', 'dm62', 'dm63', 'dm64', 'dm65', 'dm66', 'dm67', 'dm68', 'dm69', 'dm70', 'dm71', 'dm72', 'dm73', 'dm74', 'dm75', 'dm76', 'dm77', 'dm78', 'dm79', 'dm80', 'dm81', 'dm82', 'dm83', 'dm84', 'dm85', 'dm86', 'dm87', 'dm88', 'dm89', 'dm90', 'dm91', 'dm92', 'dm93', 'dm94', 'dm95', 'dm96', 'dm97', 'dm98', 'dm99', 'dn00', 'dn01', 'dn02', 'dn03', 'dn04', 'dn05', 'dn06', 'dn07', 'dn08', 'dn09', 'dn10', 'dn11', 'dn12', 'dn13', 'dn14', 'dn15', 'dn16', 'dn17', 'dn18', 'dn19', 'dn20', 'dn21', 'dn22', 'dn23', 'dn24', 'dn25', 'dn26', 'dn27', 'dn28', 'dn29', 'dn30', 'dn31', 'dn32', 'dn33', 'dn34', 'dn35', 'dn36', 'dn37', 'dn38', 'dn39', 'dn40', 'dn41', 'dn42', 'dn43', 'dn44', 'dn45', 'dn46', 'dn47', 'dn48', 'dn49', 'dn50', 'dn51', 'dn52', 'dn53', 'dn54', 'dn55', 'dn56', 'dn57', 'dn58', 'dn59', 'dn60', 'dn61', 'dn62', 'dn63', 'dn64', 'dn65', 'dn66', 'dn67', 'dn68', 'dn69', 'dn70', 'dn71', 'dn72', 'dn73', 'dn74', 'dn75', 'dn76', 'dn77', 'dn78', 'dn79', 'dn80', 'dn81', 'dn82', 'dn83', 'dn84', 'dn85', 'dn86', 'dn87', 'dn88', 'dn89', 'dn90', 'dn91', 'dn92', 'dn93', 'dn94', 'dn95', 'dn96', 'dn97', 'dn98', 'dn99', 'do00', 'do01', 'do02', 'do03', 'do04', 'do05', 'do06', 'do07', 'do08', 'do09', 'do10', 'do11', 'do12', 'do13', 'do14', 'do15', 'do16', 'do17', 'do18', 'do19', 'do20', 'do21', 'do22', 'do23', 'do24', 'do25', 'do26', 'do27', 'do28', 'do29', 'do30', 'do31', 'do32', 'do33', 'do34', 'do35', 'do36', 'do37', 'do38', 'do39', 'do40', 'do41', 'do42', 'do43', 'do44', 'do45', 'do46', 'do47', 'do48', 'do49', 'do50', 'do51', 'do52', 'do53', 'do54', 'do55', 'do56', 'do57', 'do58', 'do59', 'do60', 'do61', 'do62', 'do63', 'do64', 'do65', 'do66', 'do67', 'do68', 'do69', 'do70', 'do71', 'do72', 'do73', 'do74', 'do75', 'do76', 'do77', 'do78', 'do79', 'do80', 'do81', 'do82', 'do83', 'do84', 'do85', 'do86', 'do87', 'do88', 'do89', 'do90', 'do91', 'do92', 'do93', 'do94', 'do95', 'do96', 'do97', 'do98', 'do99', 'dp00', 'dp01', 'dp02', 'dp03', 'dp04', 'dp05', 'dp06', 'dp07', 'dp08', 'dp09', 'dp10', 'dp11', 'dp12', 'dp13', 'dp14', 'dp15', 'dp16', 'dp17', 'dp18', 'dp19', 'dp20', 'dp21', 'dp22', 'dp23', 'dp24', 'dp25', 'dp26', 'dp27', 'dp28', 'dp29', 'dp30', 'dp31', 'dp32', 'dp33', 'dp34', 'dp35', 'dp36', 'dp37', 'dp38', 'dp39', 'dp40', 'dp41', 'dp42', 'dp43', 'dp44', 'dp45', 'dp46', 'dp47', 'dp48', 'dp49', 'dp50', 'dp51', 'dp52', 'dp53', 'dp54', 'dp55', 'dp56', 'dp57', 'dp58', 'dp59', 'dp60', 'dp61', 'dp62', 'dp63', 'dp64', 'dp65', 'dp66', 'dp67', 'dp68', 'dp69', 'dp70', 'dp71', 'dp72', 'dp73', 'dp74', 'dp75', 'dp76', 'dp77', 'dp78', 'dp79', 'dp80', 'dp81', 'dp82', 'dp83', 'dp84', 'dp85', 'dp86', 'dp87', 'dp88', 'dp89', 'dp90', 'dp91', 'dp92', 'dp93', 'dp94', 'dp95', 'dp96', 'dp97', 'dp98', 'dp99', 'dq00', 'dq01', 'dq02', 'dq03', 'dq04', 'dq05', 'dq06', 'dq07', 'dq08', 'dq09', 'dq10', 'dq11', 'dq12', 'dq13', 'dq14', 'dq15', 'dq16', 'dq17', 'dq18', 'dq19', 'dq20', 'dq21', 'dq22', 'dq23', 'dq24', 'dq25', 'dq26', 'dq27', 'dq28', 'dq29', 'dq30', 'dq31', 'dq32', 'dq33', 'dq34', 'dq35', 'dq36', 'dq37', 'dq38', 'dq39', 'dq40', 'dq41', 'dq42', 'dq43', 'dq44', 'dq45', 'dq46', 'dq47', 'dq48', 'dq49', 'dq50', 'dq51', 'dq52', 'dq53', 'dq54', 'dq55', 'dq56', 'dq57', 'dq58', 'dq59', 'dq60', 'dq61', 'dq62', 'dq63', 'dq64', 'dq65', 'dq66', 'dq67', 'dq68', 'dq69', 'dq70', 'dq71', 'dq72', 'dq73', 'dq74', 'dq75', 'dq76', 'dq77', 'dq78', 'dq79', 'dq80', 'dq81', 'dq82', 'dq83', 'dq84', 'dq85', 'dq86', 'dq87', 'dq88', 'dq89', 'dq90', 'dq91', 'dq92', 'dq93', 'dq94', 'dq95', 'dq96', 'dq97', 'dq98', 'dq99', 'dr00', 'dr01', 'dr02', 'dr03', 'dr04', 'dr05', 'dr06', 'dr07', 'dr08', 'dr09', 'dr10', 'dr11', 'dr12', 'dr13', 'dr14', 'dr15', 'dr16', 'dr17', 'dr18', 'dr19', 'dr20', 'dr21', 'dr22', 'dr23', 'dr24', 'dr25', 'dr26', 'dr27', 'dr28', 'dr29', 'dr30', 'dr31', 'dr32', 'dr33', 'dr34', 'dr35', 'dr36', 'dr37', 'dr38', 'dr39', 'dr40', 'dr41', 'dr42', 'dr43', 'dr44', 'dr45', 'dr46', 'dr47', 'dr48', 'dr49', 'dr50', 'dr51', 'dr52', 'dr53', 'dr54', 'dr55', 'dr56', 'dr57', 'dr58', 'dr59', 'dr60', 'dr61', 'dr62', 'dr63', 'dr64', 'dr65', 'dr66', 'dr67', 'dr68', 'dr69', 'dr70', 'dr71', 'dr72', 'dr73', 'dr74', 'dr75', 'dr76', 'dr77', 'dr78', 'dr79', 'dr80', 'dr81', 'dr82', 'dr83', 'dr84', 'dr85', 'dr86', 'dr87', 'dr88', 'dr89', 'dr90', 'dr91', 'dr92', 'dr93', 'dr94', 'dr95', 'dr96', 'dr97', 'dr98', 'dr99', 'ds00', 'ds01', 'ds02', 'ds03', 'ds04', 'ds05', 'ds06', 'ds07', 'ds08', 'ds09', 'ds10', 'ds11', 'ds12', 'ds13', 'ds14', 'ds15', 'ds16', 'ds17', 'ds18', 'ds19', 'ds20', 'ds21', 'ds22', 'ds23', 'ds24', 'ds25', 'ds26', 'ds27', 'ds28', 'ds29', 'ds30', 'ds31', 'ds32', 'ds33', 'ds34', 'ds35', 'ds36', 'ds37', 'ds38', 'ds39', 'ds40', 'ds41', 'ds42', 'ds43', 'ds44', 'ds45', 'ds46', 'ds47', 'ds48', 'ds49', 'ds50', 'ds51', 'ds52', 'ds53', 'ds54', 'ds55', 'ds56', 'ds57', 'ds58', 'ds59', 'ds60', 'ds61', 'ds62', 'ds63', 'ds64', 'ds65', 'ds66', 'ds67', 'ds68', 'ds69', 'ds70', 'ds71', 'ds72', 'ds73', 'ds74', 'ds75', 'ds76', 'ds77', 'ds78', 'ds79', 'ds80', 'ds81', 'ds82', 'ds83', 'ds84', 'ds85', 'ds86', 'ds87', 'ds88', 'ds89', 'ds90', 'ds91', 'ds92', 'ds93', 'ds94', 'ds95', 'ds96', 'ds97', 'ds98', 'ds99', 'dt00', 'dt01', 'dt02', 'dt03', 'dt04', 'dt05', 'dt06', 'dt07', 'dt08', 'dt09', 'dt10', 'dt11', 'dt12', 'dt13', 'dt14', 'dt15', 'dt16', 'dt17', 'dt18', 'dt19', 'dt20', 'dt21', 'dt22', 'dt23', 'dt24', 'dt25', 'dt26', 'dt27', 'dt28', 'dt29', 'dt30', 'dt31', 'dt32', 'dt33', 'dt34', 'dt35', 'dt36', 'dt37', 'dt38', 'dt39', 'dt40', 'dt41', 'dt42', 'dt43', 'dt44', 'dt45', 'dt46', 'dt47', 'dt48', 'dt49', 'dt50', 'dt51', 'dt52', 'dt53', 'dt54', 'dt55', 'dt56', 'dt57', 'dt58', 'dt59', 'dt60', 'dt61', 'dt62', 'dt63', 'dt64', 'dt65', 'dt66', 'dt67', 'dt68', 'dt69', 'dt70', 'dt71', 'dt72', 'dt73', 'dt74', 'dt75', 'dt76', 'dt77', 'dt78', 'dt79', 'dt80', 'dt81', 'dt82', 'dt83', 'dt84', 'dt85', 'dt86', 'dt87', 'dt88', 'dt89', 'dt90', 'dt91', 'dt92', 'dt93', 'dt94', 'dt95', 'dt96', 'dt97', 'dt98', 'dt99', 'du00', 'du01', 'du02', 'du03', 'du04', 'du05', 'du06', 'du07', 'du08', 'du09', 'du10', 'du11', 'du12', 'du13', 'du14', 'du15', 'du16', 'du17', 'du18', 'du19', 'du20', 'du21', 'du22', 'du23', 'du24', 'du25', 'du26', 'du27', 'du28', 'du29', 'du30', 'du31', 'du32', 'du33', 'du34', 'du35', 'du36', 'du37', 'du38', 'du39', 'du40', 'du41', 'du42', 'du43', 'du44', 'du45', 'du46', 'du47', 'du48', 'du49', 'du50', 'du51', 'du52', 'du53', 'du54', 'du55', 'du56', 'du57', 'du58', 'du59', 'du60', 'du61', 'du62', 'du63', 'du64', 'du65', 'du66', 'du67', 'du68', 'du69', 'du70', 'du71', 'du72', 'du73', 'du74', 'du75', 'du76', 'du77', 'du78', 'du79', 'du80', 'du81', 'du82', 'du83', 'du84', 'du85', 'du86', 'du87', 'du88', 'du89', 'du90', 'du91', 'du92', 'du93', 'du94', 'du95', 'du96', 'du97', 'du98', 'du99', 'dv00', 'dv01', 'dv02', 'dv03', 'dv04', 'dv05', 'dv06', 'dv07', 'dv08', 'dv09', 'dv10', 'dv11', 'dv12', 'dv13', 'dv14', 'dv15', 'dv16', 'dv17', 'dv18', 'dv19', 'dv20', 'dv21', 'dv22', 'dv23', 'dv24', 'dv25', 'dv26', 'dv27', 'dv28', 'dv29', 'dv30', 'dv31', 'dv32', 'dv33', 'dv34', 'dv35', 'dv36', 'dv37', 'dv38', 'dv39', 'dv40', 'dv41', 'dv42', 'dv43', 'dv44', 'dv45', 'dv46', 'dv47', 'dv48', 'dv49', 'dv50', 'dv51', 'dv52', 'dv53', 'dv54', 'dv55', 'dv56', 'dv57', 'dv58', 'dv59', 'dv60', 'dv61', 'dv62', 'dv63', 'dv64', 'dv65', 'dv66', 'dv67', 'dv68', 'dv69', 'dv70', 'dv71', 'dv72', 'dv73', 'dv74', 'dv75', 'dv76', 'dv77', 'dv78', 'dv79', 'dv80', 'dv81', 'dv82', 'dv83', 'dv84', 'dv85', 'dv86', 'dv87', 'dv88', 'dv89', 'dv90', 'dv91', 'dv92', 'dv93', 'dv94', 'dv95', 'dv96', 'dv97', 'dv98', 'dv99', 'dw00', 'dw01', 'dw02', 'dw03', 'dw04', 'dw05', 'dw06', 'dw07', 'dw08', 'dw09', 'dw10', 'dw11', 'dw12', 'dw13', 'dw14', 'dw15', 'dw16', 'dw17', 'dw18', 'dw19', 'dw20', 'dw21', 'dw22', 'dw23', 'dw24', 'dw25', 'dw26', 'dw27', 'dw28', 'dw29', 'dw30', 'dw31', 'dw32', 'dw33', 'dw34', 'dw35', 'dw36', 'dw37', 'dw38', 'dw39', 'dw40', 'dw41', 'dw42', 'dw43', 'dw44', 'dw45', 'dw46', 'dw47', 'dw48', 'dw49', 'dw50', 'dw51', 'dw52', 'dw53', 'dw54', 'dw55', 'dw56', 'dw57', 'dw58', 'dw59', 'dw60', 'dw61', 'dw62', 'dw63', 'dw64', 'dw65', 'dw66', 'dw67', 'dw68', 'dw69', 'dw70', 'dw71', 'dw72', 'dw73', 'dw74', 'dw75', 'dw76', 'dw77', 'dw78', 'dw79', 'dw80', 'dw81', 'dw82', 'dw83', 'dw84', 'dw85', 'dw86', 'dw87', 'dw88', 'dw89', 'dw90', 'dw91', 'dw92', 'dw93', 'dw94', 'dw95', 'dw96', 'dw97', 'dw98', 'dw99', 'dx00', 'dx01', 'dx02', 'dx03', 'dx04', 'dx05', 'dx06', 'dx07', 'dx08', 'dx09', 'dx10', 'dx11', 'dx12', 'dx13', 'dx14', 'dx15', 'dx16', 'dx17', 'dx18', 'dx19', 'dx20', 'dx21', 'dx22', 'dx23', 'dx24', 'dx25', 'dx26', 'dx27', 'dx28', 'dx29', 'dx30', 'dx31', 'dx32', 'dx33', 'dx34', 'dx35', 'dx36', 'dx37', 'dx38', 'dx39', 'dx40', 'dx41', 'dx42', 'dx43', 'dx44', 'dx45', 'dx46', 'dx47', 'dx48', 'dx49', 'dx50', 'dx51', 'dx52', 'dx53', 'dx54', 'dx55', 'dx56', 'dx57', 'dx58', 'dx59', 'dx60', 'dx61', 'dx62', 'dx63', 'dx64', 'dx65', 'dx66', 'dx67', 'dx68', 'dx69', 'dx70', 'dx71', 'dx72', 'dx73', 'dx74', 'dx75', 'dx76', 'dx77', 'dx78', 'dx79', 'dx80', 'dx81', 'dx82', 'dx83', 'dx84', 'dx85', 'dx86', 'dx87', 'dx88', 'dx89', 'dx90', 'dx91', 'dx92', 'dx93', 'dx94', 'dx95', 'dx96', 'dx97', 'dx98', 'dx99', 'dy00', 'dy01', 'dy02', 'dy03', 'dy04', 'dy05', 'dy06', 'dy07', 'dy08', 'dy09', 'dy10', 'dy11', 'dy12', 'dy13', 'dy14', 'dy15', 'dy16', 'dy17', 'dy18', 'dy19', 'dy20', 'dy21', 'dy22', 'dy23', 'dy24', 'dy25', 'dy26', 'dy27', 'dy28', 'dy29', 'dy30', 'dy31', 'dy32', 'dy33', 'dy34', 'dy35', 'dy36', 'dy37', 'dy38', 'dy39', 'dy40', 'dy41', 'dy42', 'dy43', 'dy44', 'dy45', 'dy46', 'dy47', 'dy48', 'dy49', 'dy50', 'dy51', 'dy52', 'dy53', 'dy54', 'dy55', 'dy56', 'dy57', 'dy58', 'dy59', 'dy60', 'dy61', 'dy62', 'dy63', 'dy64', 'dy65', 'dy66', 'dy67', 'dy68', 'dy69', 'dy70', 'dy71', 'dy72', 'dy73', 'dy74', 'dy75', 'dy76', 'dy77', 'dy78', 'dy79', 'dy80', 'dy81', 'dy82', 'dy83', 'dy84', 'dy85', 'dy86', 'dy87', 'dy88', 'dy89', 'dy90', 'dy91', 'dy92', 'dy93', 'dy94', 'dy95', 'dy96', 'dy97', 'dy98', 'dy99', 'dz00', 'dz01', 'dz02', 'dz03', 'dz04', 'dz05', 'dz06', 'dz07', 'dz08', 'dz09', 'dz10', 'dz11', 'dz12', 'dz13', 'dz14', 'dz15', 'dz16', 'dz17', 'dz18', 'dz19', 'dz20', 'dz21', 'dz22', 'dz23', 'dz24', 'dz25', 'dz26', 'dz27', 'dz28', 'dz29', 'dz30', 'dz31', 'dz32', 'dz33', 'dz34', 'dz35', 'dz36', 'dz37', 'dz38', 'dz39', 'dz40', 'dz41', 'dz42', 'dz43', 'dz44', 'dz45', 'dz46', 'dz47', 'dz48', 'dz49', 'dz50', 'dz51', 'dz52', 'dz53', 'dz54', 'dz55', 'dz56', 'dz57', 'dz58', 'dz59', 'dz60', 'dz61', 'dz62', 'dz63', 'dz64', 'dz65', 'dz66', 'dz67', 'dz68', 'dz69', 'dz70', 'dz71', 'dz72', 'dz73', 'dz74', 'dz75', 'dz76', 'dz77', 'dz78', 'dz79', 'dz80', 'dz81', 'dz82', 'dz83', 'dz84', 'dz85', 'dz86', 'dz87', 'dz88', 'dz89', 'dz90', 'dz91', 'dz92', 'dz93', 'dz94', 'dz95', 'dz96', 'dz97', 'dz98', 'dz99', 'ea00', 'ea01', 'ea02', 'ea03', 'ea04', 'ea05', 'ea06', 'ea07', 'ea08', 'ea09', 'ea10', 'ea11', 'ea12', 'ea13', 'ea14', 'ea15', 'ea16', 'ea17', 'ea18', 'ea19', 'ea20', 'ea21', 'ea22', 'ea23', 'ea24', 'ea25', 'ea26', 'ea27', 'ea28', 'ea29', 'ea30', 'ea31', 'ea32', 'ea33', 'ea34', 'ea35', 'ea36', 'ea37', 'ea38', 'ea39', 'ea40', 'ea41', 'ea42', 'ea43', 'ea44', 'ea45', 'ea46', 'ea47', 'ea48', 'ea49', 'ea50', 'ea51', 'ea52', 'ea53', 'ea54', 'ea55', 'ea56', 'ea57', 'ea58', 'ea59', 'ea60', 'ea61', 'ea62', 'ea63', 'ea64', 'ea65', 'ea66', 'ea67', 'ea68', 'ea69', 'ea70', 'ea71', 'ea72', 'ea73', 'ea74', 'ea75', 'ea76', 'ea77', 'ea78', 'ea79', 'ea80', 'ea81', 'ea82', 'ea83', 'ea84', 'ea85', 'ea86', 'ea87', 'ea88', 'ea89', 'ea90', 'ea91', 'ea92', 'ea93', 'ea94', 'ea95', 'ea96', 'ea97', 'ea98', 'ea99', 'eb00', 'eb01', 'eb02', 'eb03', 'eb04', 'eb05', 'eb06', 'eb07', 'eb08', 'eb09', 'eb10', 'eb11', 'eb12', 'eb13', 'eb14', 'eb15', 'eb16', 'eb17', 'eb18', 'eb19', 'eb20', 'eb21', 'eb22', 'eb23', 'eb24', 'eb25', 'eb26', 'eb27', 'eb28', 'eb29', 'eb30', 'eb31', 'eb32', 'eb33', 'eb34', 'eb35', 'eb36', 'eb37', 'eb38', 'eb39', 'eb40', 'eb41', 'eb42', 'eb43', 'eb44', 'eb45', 'eb46', 'eb47', 'eb48', 'eb49', 'eb50', 'eb51', 'eb52', 'eb53', 'eb54', 'eb55', 'eb56', 'eb57', 'eb58', 'eb59', 'eb60', 'eb61', 'eb62', 'eb63', 'eb64', 'eb65', 'eb66', 'eb67', 'eb68', 'eb69', 'eb70', 'eb71', 'eb72', 'eb73', 'eb74', 'eb75', 'eb76', 'eb77', 'eb78', 'eb79', 'eb80', 'eb81', 'eb82', 'eb83', 'eb84', 'eb85', 'eb86', 'eb87', 'eb88', 'eb89', 'eb90', 'eb91', 'eb92', 'eb93', 'eb94', 'eb95', 'eb96', 'eb97', 'eb98', 'eb99', 'ec00', 'ec01', 'ec02', 'ec03', 'ec04', 'ec05', 'ec06', 'ec07', 'ec08', 'ec09', 'ec10', 'ec11', 'ec12', 'ec13', 'ec14', 'ec15', 'ec16', 'ec17', 'ec18', 'ec19', 'ec20', 'ec21', 'ec22', 'ec23', 'ec24', 'ec25', 'ec26', 'ec27', 'ec28', 'ec29', 'ec30', 'ec31', 'ec32', 'ec33', 'ec34', 'ec35', 'ec36', 'ec37', 'ec38', 'ec39', 'ec40', 'ec41', 'ec42', 'ec43', 'ec44', 'ec45', 'ec46', 'ec47', 'ec48', 'ec49', 'ec50', 'ec51', 'ec52', 'ec53', 'ec54', 'ec55', 'ec56', 'ec57', 'ec58', 'ec59', 'ec60', 'ec61', 'ec62', 'ec63', 'ec64', 'ec65', 'ec66', 'ec67', 'ec68', 'ec69', 'ec70', 'ec71', 'ec72', 'ec73', 'ec74', 'ec75', 'ec76', 'ec77', 'ec78', 'ec79', 'ec80', 'ec81', 'ec82', 'ec83', 'ec84', 'ec85', 'ec86', 'ec87', 'ec88', 'ec89', 'ec90', 'ec91', 'ec92', 'ec93', 'ec94', 'ec95', 'ec96', 'ec97', 'ec98', 'ec99', 'ed00', 'ed01', 'ed02', 'ed03', 'ed04', 'ed05', 'ed06', 'ed07', 'ed08', 'ed09', 'ed10', 'ed11', 'ed12', 'ed13', 'ed14', 'ed15', 'ed16', 'ed17', 'ed18', 'ed19', 'ed20', 'ed21', 'ed22', 'ed23', 'ed24', 'ed25', 'ed26', 'ed27', 'ed28', 'ed29', 'ed30', 'ed31', 'ed32', 'ed33', 'ed34', 'ed35', 'ed36', 'ed37', 'ed38', 'ed39', 'ed40', 'ed41', 'ed42', 'ed43', 'ed44', 'ed45', 'ed46', 'ed47', 'ed48', 'ed49', 'ed50', 'ed51', 'ed52', 'ed53', 'ed54', 'ed55', 'ed56', 'ed57', 'ed58', 'ed59', 'ed60', 'ed61', 'ed62', 'ed63', 'ed64', 'ed65', 'ed66', 'ed67', 'ed68', 'ed69', 'ed70', 'ed71', 'ed72', 'ed73', 'ed74', 'ed75', 'ed76', 'ed77', 'ed78', 'ed79', 'ed80', 'ed81', 'ed82', 'ed83', 'ed84', 'ed85', 'ed86', 'ed87', 'ed88', 'ed89', 'ed90', 'ed91', 'ed92', 'ed93', 'ed94', 'ed95', 'ed96', 'ed97', 'ed98', 'ed99', 'ee00', 'ee01', 'ee02', 'ee03', 'ee04', 'ee05', 'ee06', 'ee07', 'ee08', 'ee09', 'ee10', 'ee11', 'ee12', 'ee13', 'ee14', 'ee15', 'ee16', 'ee17', 'ee18', 'ee19', 'ee20', 'ee21', 'ee22', 'ee23', 'ee24', 'ee25', 'ee26', 'ee27', 'ee28', 'ee29', 'ee30', 'ee31', 'ee32', 'ee33', 'ee34', 'ee35', 'ee36', 'ee37', 'ee38', 'ee39', 'ee40', 'ee41', 'ee42', 'ee43', 'ee44', 'ee45', 'ee46', 'ee47', 'ee48', 'ee49', 'ee50', 'ee51', 'ee52', 'ee53', 'ee54', 'ee55', 'ee56', 'ee57', 'ee58', 'ee59', 'ee60', 'ee61', 'ee62', 'ee63', 'ee64', 'ee65', 'ee66', 'ee67', 'ee68', 'ee69', 'ee70', 'ee71', 'ee72', 'ee73', 'ee74', 'ee75', 'ee76', 'ee77', 'ee78', 'ee79', 'ee80', 'ee81', 'ee82', 'ee83', 'ee84', 'ee85', 'ee86', 'ee87', 'ee88', 'ee89', 'ee90', 'ee91', 'ee92', 'ee93', 'ee94', 'ee95', 'ee96', 'ee97', 'ee98', 'ee99', 'ef00', 'ef01', 'ef02', 'ef03', 'ef04', 'ef05', 'ef06', 'ef07', 'ef08', 'ef09', 'ef10', 'ef11', 'ef12', 'ef13', 'ef14', 'ef15', 'ef16', 'ef17', 'ef18', 'ef19', 'ef20', 'ef21', 'ef22', 'ef23', 'ef24', 'ef25', 'ef26', 'ef27', 'ef28', 'ef29', 'ef30', 'ef31', 'ef32', 'ef33', 'ef34', 'ef35', 'ef36', 'ef37', 'ef38', 'ef39', 'ef40', 'ef41', 'ef42', 'ef43', 'ef44', 'ef45', 'ef46', 'ef47', 'ef48', 'ef49', 'ef50', 'ef51', 'ef52', 'ef53', 'ef54', 'ef55', 'ef56', 'ef57', 'ef58', 'ef59', 'ef60', 'ef61', 'ef62', 'ef63', 'ef64', 'ef65', 'ef66', 'ef67', 'ef68', 'ef69', 'ef70', 'ef71', 'ef72', 'ef73', 'ef74', 'ef75', 'ef76', 'ef77', 'ef78', 'ef79', 'ef80', 'ef81', 'ef82', 'ef83', 'ef84', 'ef85', 'ef86', 'ef87', 'ef88', 'ef89', 'ef90', 'ef91', 'ef92', 'ef93', 'ef94', 'ef95', 'ef96', 'ef97', 'ef98', 'ef99', 'eg00', 'eg01', 'eg02', 'eg03', 'eg04', 'eg05', 'eg06', 'eg07', 'eg08', 'eg09', 'eg10', 'eg11', 'eg12', 'eg13', 'eg14', 'eg15', 'eg16', 'eg17', 'eg18', 'eg19', 'eg20', 'eg21', 'eg22', 'eg23', 'eg24', 'eg25', 'eg26', 'eg27', 'eg28', 'eg29', 'eg30', 'eg31', 'eg32', 'eg33', 'eg34', 'eg35', 'eg36', 'eg37', 'eg38', 'eg39', 'eg40', 'eg41', 'eg42', 'eg43', 'eg44', 'eg45', 'eg46', 'eg47', 'eg48', 'eg49', 'eg50', 'eg51', 'eg52', 'eg53', 'eg54', 'eg55', 'eg56', 'eg57', 'eg58', 'eg59', 'eg60', 'eg61', 'eg62', 'eg63', 'eg64', 'eg65', 'eg66', 'eg67', 'eg68', 'eg69', 'eg70', 'eg71', 'eg72', 'eg73', 'eg74', 'eg75', 'eg76', 'eg77', 'eg78', 'eg79', 'eg80', 'eg81', 'eg82', 'eg83', 'eg84', 'eg85', 'eg86', 'eg87', 'eg88', 'eg89', 'eg90', 'eg91', 'eg92', 'eg93', 'eg94', 'eg95', 'eg96', 'eg97', 'eg98', 'eg99', 'eh00', 'eh01', 'eh02', 'eh03', 'eh04', 'eh05', 'eh06', 'eh07', 'eh08', 'eh09', 'eh10', 'eh11', 'eh12', 'eh13', 'eh14', 'eh15', 'eh16', 'eh17', 'eh18', 'eh19', 'eh20', 'eh21', 'eh22', 'eh23', 'eh24', 'eh25', 'eh26', 'eh27', 'eh28', 'eh29', 'eh30', 'eh31', 'eh32', 'eh33', 'eh34', 'eh35', 'eh36', 'eh37', 'eh38', 'eh39', 'eh40', 'eh41', 'eh42', 'eh43', 'eh44', 'eh45', 'eh46', 'eh47', 'eh48', 'eh49', 'eh50', 'eh51', 'eh52', 'eh53', 'eh54', 'eh55', 'eh56', 'eh57', 'eh58', 'eh59', 'eh60', 'eh61', 'eh62', 'eh63', 'eh64', 'eh65', 'eh66', 'eh67', 'eh68', 'eh69', 'eh70', 'eh71', 'eh72', 'eh73', 'eh74', 'eh75', 'eh76', 'eh77', 'eh78', 'eh79', 'eh80', 'eh81', 'eh82', 'eh83', 'eh84', 'eh85', 'eh86', 'eh87', 'eh88', 'eh89', 'eh90', 'eh91', 'eh92', 'eh93', 'eh94', 'eh95', 'eh96', 'eh97', 'eh98', 'eh99', 'ei00', 'ei01', 'ei02', 'ei03', 'ei04', 'ei05', 'ei06', 'ei07', 'ei08', 'ei09', 'ei10', 'ei11', 'ei12', 'ei13', 'ei14', 'ei15', 'ei16', 'ei17', 'ei18', 'ei19', 'ei20', 'ei21', 'ei22', 'ei23', 'ei24', 'ei25', 'ei26', 'ei27', 'ei28', 'ei29', 'ei30', 'ei31', 'ei32', 'ei33', 'ei34', 'ei35', 'ei36', 'ei37', 'ei38', 'ei39', 'ei40', 'ei41', 'ei42', 'ei43', 'ei44', 'ei45', 'ei46', 'ei47', 'ei48', 'ei49', 'ei50', 'ei51', 'ei52', 'ei53', 'ei54', 'ei55', 'ei56', 'ei57', 'ei58', 'ei59', 'ei60', 'ei61', 'ei62', 'ei63', 'ei64', 'ei65', 'ei66', 'ei67', 'ei68', 'ei69', 'ei70', 'ei71', 'ei72', 'ei73', 'ei74', 'ei75', 'ei76', 'ei77', 'ei78', 'ei79', 'ei80', 'ei81', 'ei82', 'ei83', 'ei84', 'ei85', 'ei86', 'ei87', 'ei88', 'ei89', 'ei90', 'ei91', 'ei92', 'ei93', 'ei94', 'ei95', 'ei96', 'ei97', 'ei98', 'ei99', 'ej00', 'ej01', 'ej02', 'ej03', 'ej04', 'ej05', 'ej06', 'ej07', 'ej08', 'ej09', 'ej10', 'ej11', 'ej12', 'ej13', 'ej14', 'ej15', 'ej16', 'ej17', 'ej18', 'ej19', 'ej20', 'ej21', 'ej22', 'ej23', 'ej24', 'ej25', 'ej26', 'ej27', 'ej28', 'ej29', 'ej30', 'ej31', 'ej32', 'ej33', 'ej34', 'ej35', 'ej36', 'ej37', 'ej38', 'ej39', 'ej40', 'ej41', 'ej42', 'ej43', 'ej44', 'ej45', 'ej46', 'ej47', 'ej48', 'ej49', 'ej50', 'ej51', 'ej52', 'ej53', 'ej54', 'ej55', 'ej56', 'ej57', 'ej58', 'ej59', 'ej60', 'ej61', 'ej62', 'ej63', 'ej64', 'ej65', 'ej66', 'ej67', 'ej68', 'ej69', 'ej70', 'ej71', 'ej72', 'ej73', 'ej74', 'ej75', 'ej76', 'ej77', 'ej78', 'ej79', 'ej80', 'ej81', 'ej82', 'ej83', 'ej84', 'ej85', 'ej86', 'ej87', 'ej88', 'ej89', 'ej90', 'ej91', 'ej92', 'ej93', 'ej94', 'ej95', 'ej96', 'ej97', 'ej98', 'ej99', 'ek00', 'ek01', 'ek02', 'ek03', 'ek04', 'ek05', 'ek06', 'ek07', 'ek08', 'ek09', 'ek10', 'ek11', 'ek12', 'ek13', 'ek14', 'ek15', 'ek16', 'ek17', 'ek18', 'ek19', 'ek20', 'ek21', 'ek22', 'ek23', 'ek24', 'ek25', 'ek26', 'ek27', 'ek28', 'ek29', 'ek30', 'ek31', 'ek32', 'ek33', 'ek34', 'ek35', 'ek36', 'ek37', 'ek38', 'ek39', 'ek40', 'ek41', 'ek42', 'ek43', 'ek44', 'ek45', 'ek46', 'ek47', 'ek48', 'ek49', 'ek50', 'ek51', 'ek52', 'ek53', 'ek54', 'ek55', 'ek56', 'ek57', 'ek58', 'ek59', 'ek60', 'ek61', 'ek62', 'ek63', 'ek64', 'ek65', 'ek66', 'ek67', 'ek68', 'ek69', 'ek70', 'ek71', 'ek72', 'ek73', 'ek74', 'ek75', 'ek76', 'ek77', 'ek78', 'ek79', 'ek80', 'ek81', 'ek82', 'ek83', 'ek84', 'ek85', 'ek86', 'ek87', 'ek88', 'ek89', 'ek90', 'ek91', 'ek92', 'ek93', 'ek94', 'ek95', 'ek96', 'ek97', 'ek98', 'ek99', 'el00', 'el01', 'el02', 'el03', 'el04', 'el05', 'el06', 'el07', 'el08', 'el09', 'el10', 'el11', 'el12', 'el13', 'el14', 'el15', 'el16', 'el17', 'el18', 'el19', 'el20', 'el21', 'el22', 'el23', 'el24', 'el25', 'el26', 'el27', 'el28', 'el29', 'el30', 'el31', 'el32', 'el33', 'el34', 'el35', 'el36', 'el37', 'el38', 'el39', 'el40', 'el41', 'el42', 'el43', 'el44', 'el45', 'el46', 'el47', 'el48', 'el49', 'el50', 'el51', 'el52', 'el53', 'el54', 'el55', 'el56', 'el57', 'el58', 'el59', 'el60', 'el61', 'el62', 'el63', 'el64', 'el65', 'el66', 'el67', 'el68', 'el69', 'el70', 'el71', 'el72', 'el73', 'el74', 'el75', 'el76', 'el77', 'el78', 'el79', 'el80', 'el81', 'el82', 'el83', 'el84', 'el85', 'el86', 'el87', 'el88', 'el89', 'el90', 'el91', 'el92', 'el93', 'el94', 'el95', 'el96', 'el97', 'el98', 'el99', 'em00', 'em01', 'em02', 'em03', 'em04', 'em05', 'em06', 'em07', 'em08', 'em09', 'em10', 'em11', 'em12', 'em13', 'em14', 'em15', 'em16', 'em17', 'em18', 'em19', 'em20', 'em21', 'em22', 'em23', 'em24', 'em25', 'em26', 'em27', 'em28', 'em29', 'em30', 'em31', 'em32', 'em33', 'em34', 'em35', 'em36', 'em37', 'em38', 'em39', 'em40', 'em41', 'em42', 'em43', 'em44', 'em45', 'em46', 'em47', 'em48', 'em49', 'em50', 'em51', 'em52', 'em53', 'em54', 'em55', 'em56', 'em57', 'em58', 'em59', 'em60', 'em61', 'em62', 'em63', 'em64', 'em65', 'em66', 'em67', 'em68', 'em69', 'em70', 'em71', 'em72', 'em73', 'em74', 'em75', 'em76', 'em77', 'em78', 'em79', 'em80', 'em81', 'em82', 'em83', 'em84', 'em85', 'em86', 'em87', 'em88', 'em89', 'em90', 'em91', 'em92', 'em93', 'em94', 'em95', 'em96', 'em97', 'em98', 'em99', 'en00', 'en01', 'en02', 'en03', 'en04', 'en05', 'en06', 'en07', 'en08', 'en09', 'en10', 'en11', 'en12', 'en13', 'en14', 'en15', 'en16', 'en17', 'en18', 'en19', 'en20', 'en21', 'en22', 'en23', 'en24', 'en25', 'en26', 'en27', 'en28', 'en29', 'en30', 'en31', 'en32', 'en33', 'en34', 'en35', 'en36', 'en37', 'en38', 'en39', 'en40', 'en41', 'en42', 'en43', 'en44', 'en45', 'en46', 'en47', 'en48', 'en49', 'en50', 'en51', 'en52', 'en53', 'en54', 'en55', 'en56', 'en57', 'en58', 'en59', 'en60', 'en61', 'en62', 'en63', 'en64', 'en65', 'en66', 'en67', 'en68', 'en69', 'en70', 'en71', 'en72', 'en73', 'en74', 'en75', 'en76', 'en77', 'en78', 'en79', 'en80', 'en81', 'en82', 'en83', 'en84', 'en85', 'en86', 'en87', 'en88', 'en89', 'en90', 'en91', 'en92', 'en93', 'en94', 'en95', 'en96', 'en97', 'en98', 'en99', 'eo00', 'eo01', 'eo02', 'eo03', 'eo04', 'eo05', 'eo06', 'eo07', 'eo08', 'eo09', 'eo10', 'eo11', 'eo12', 'eo13', 'eo14', 'eo15', 'eo16', 'eo17', 'eo18', 'eo19', 'eo20', 'eo21', 'eo22', 'eo23', 'eo24', 'eo25', 'eo26', 'eo27', 'eo28', 'eo29', 'eo30', 'eo31', 'eo32', 'eo33', 'eo34', 'eo35', 'eo36', 'eo37', 'eo38', 'eo39', 'eo40', 'eo41', 'eo42', 'eo43', 'eo44', 'eo45', 'eo46', 'eo47', 'eo48', 'eo49', 'eo50', 'eo51', 'eo52', 'eo53', 'eo54', 'eo55', 'eo56', 'eo57', 'eo58', 'eo59', 'eo60', 'eo61', 'eo62', 'eo63', 'eo64', 'eo65', 'eo66', 'eo67', 'eo68', 'eo69', 'eo70', 'eo71', 'eo72', 'eo73', 'eo74', 'eo75', 'eo76', 'eo77', 'eo78', 'eo79', 'eo80', 'eo81', 'eo82', 'eo83', 'eo84', 'eo85', 'eo86', 'eo87', 'eo88', 'eo89', 'eo90', 'eo91', 'eo92', 'eo93', 'eo94', 'eo95', 'eo96', 'eo97', 'eo98', 'eo99', 'ep00', 'ep01', 'ep02', 'ep03', 'ep04', 'ep05', 'ep06', 'ep07', 'ep08', 'ep09', 'ep10', 'ep11', 'ep12', 'ep13', 'ep14', 'ep15', 'ep16', 'ep17', 'ep18', 'ep19', 'ep20', 'ep21', 'ep22', 'ep23', 'ep24', 'ep25', 'ep26', 'ep27', 'ep28', 'ep29', 'ep30', 'ep31', 'ep32', 'ep33', 'ep34', 'ep35', 'ep36', 'ep37', 'ep38', 'ep39', 'ep40', 'ep41', 'ep42', 'ep43', 'ep44', 'ep45', 'ep46', 'ep47', 'ep48', 'ep49', 'ep50', 'ep51', 'ep52', 'ep53', 'ep54', 'ep55', 'ep56', 'ep57', 'ep58', 'ep59', 'ep60', 'ep61', 'ep62', 'ep63', 'ep64', 'ep65', 'ep66', 'ep67', 'ep68', 'ep69', 'ep70', 'ep71', 'ep72', 'ep73', 'ep74', 'ep75', 'ep76', 'ep77', 'ep78', 'ep79', 'ep80', 'ep81', 'ep82', 'ep83', 'ep84', 'ep85', 'ep86', 'ep87', 'ep88', 'ep89', 'ep90', 'ep91', 'ep92', 'ep93', 'ep94', 'ep95', 'ep96', 'ep97', 'ep98', 'ep99', 'eq00', 'eq01', 'eq02', 'eq03', 'eq04', 'eq05', 'eq06', 'eq07', 'eq08', 'eq09', 'eq10', 'eq11', 'eq12', 'eq13', 'eq14', 'eq15', 'eq16', 'eq17', 'eq18', 'eq19', 'eq20', 'eq21', 'eq22', 'eq23', 'eq24', 'eq25', 'eq26', 'eq27', 'eq28', 'eq29', 'eq30', 'eq31', 'eq32', 'eq33', 'eq34', 'eq35', 'eq36', 'eq37', 'eq38', 'eq39', 'eq40', 'eq41', 'eq42', 'eq43', 'eq44', 'eq45', 'eq46', 'eq47', 'eq48', 'eq49', 'eq50', 'eq51', 'eq52', 'eq53', 'eq54', 'eq55', 'eq56', 'eq57', 'eq58', 'eq59', 'eq60', 'eq61', 'eq62', 'eq63', 'eq64', 'eq65', 'eq66', 'eq67', 'eq68', 'eq69', 'eq70', 'eq71', 'eq72', 'eq73', 'eq74', 'eq75', 'eq76', 'eq77', 'eq78', 'eq79', 'eq80', 'eq81', 'eq82', 'eq83', 'eq84', 'eq85', 'eq86', 'eq87', 'eq88', 'eq89', 'eq90', 'eq91', 'eq92', 'eq93', 'eq94', 'eq95', 'eq96', 'eq97', 'eq98', 'eq99', 'er00', 'er01', 'er02', 'er03', 'er04', 'er05', 'er06', 'er07', 'er08', 'er09', 'er10', 'er11', 'er12', 'er13', 'er14', 'er15', 'er16', 'er17', 'er18', 'er19', 'er20', 'er21', 'er22', 'er23', 'er24', 'er25', 'er26', 'er27', 'er28', 'er29', 'er30', 'er31', 'er32', 'er33', 'er34', 'er35', 'er36', 'er37', 'er38', 'er39', 'er40', 'er41', 'er42', 'er43', 'er44', 'er45', 'er46', 'er47', 'er48', 'er49', 'er50', 'er51', 'er52', 'er53', 'er54', 'er55', 'er56', 'er57', 'er58', 'er59', 'er60', 'er61', 'er62', 'er63', 'er64', 'er65', 'er66', 'er67', 'er68', 'er69', 'er70', 'er71', 'er72', 'er73', 'er74', 'er75', 'er76', 'er77', 'er78', 'er79', 'er80', 'er81', 'er82', 'er83', 'er84', 'er85', 'er86', 'er87', 'er88', 'er89', 'er90', 'er91', 'er92', 'er93', 'er94', 'er95', 'er96', 'er97', 'er98', 'er99', 'es00', 'es01', 'es02', 'es03', 'es04', 'es05', 'es06', 'es07', 'es08', 'es09', 'es10', 'es11', 'es12', 'es13', 'es14', 'es15', 'es16', 'es17', 'es18', 'es19', 'es20', 'es21', 'es22', 'es23', 'es24', 'es25', 'es26', 'es27', 'es28', 'es29', 'es30', 'es31', 'es32', 'es33', 'es34', 'es35', 'es36', 'es37', 'es38', 'es39', 'es40', 'es41', 'es42', 'es43', 'es44', 'es45', 'es46', 'es47', 'es48', 'es49', 'es50', 'es51', 'es52', 'es53', 'es54', 'es55', 'es56', 'es57', 'es58', 'es59', 'es60', 'es61', 'es62', 'es63', 'es64', 'es65', 'es66', 'es67', 'es68', 'es69', 'es70', 'es71', 'es72', 'es73', 'es74', 'es75', 'es76', 'es77', 'es78', 'es79', 'es80', 'es81', 'es82', 'es83', 'es84', 'es85', 'es86', 'es87', 'es88', 'es89', 'es90', 'es91', 'es92', 'es93', 'es94', 'es95', 'es96', 'es97', 'es98', 'es99', 'et00', 'et01', 'et02', 'et03', 'et04', 'et05', 'et06', 'et07', 'et08', 'et09', 'et10', 'et11', 'et12', 'et13', 'et14', 'et15', 'et16', 'et17', 'et18', 'et19', 'et20', 'et21', 'et22', 'et23', 'et24', 'et25', 'et26', 'et27', 'et28', 'et29', 'et30', 'et31', 'et32', 'et33', 'et34', 'et35', 'et36', 'et37', 'et38', 'et39', 'et40', 'et41', 'et42', 'et43', 'et44', 'et45', 'et46', 'et47', 'et48', 'et49', 'et50', 'et51', 'et52', 'et53', 'et54', 'et55', 'et56', 'et57', 'et58', 'et59', 'et60', 'et61', 'et62', 'et63', 'et64', 'et65', 'et66', 'et67', 'et68', 'et69', 'et70', 'et71', 'et72', 'et73', 'et74', 'et75', 'et76', 'et77', 'et78', 'et79', 'et80', 'et81', 'et82', 'et83', 'et84', 'et85', 'et86', 'et87', 'et88', 'et89', 'et90', 'et91', 'et92', 'et93', 'et94', 'et95', 'et96', 'et97', 'et98', 'et99', 'eu00', 'eu01', 'eu02', 'eu03', 'eu04', 'eu05', 'eu06', 'eu07', 'eu08', 'eu09', 'eu10', 'eu11', 'eu12', 'eu13', 'eu14', 'eu15', 'eu16', 'eu17', 'eu18', 'eu19', 'eu20', 'eu21', 'eu22', 'eu23', 'eu24', 'eu25', 'eu26', 'eu27', 'eu28', 'eu29', 'eu30', 'eu31', 'eu32', 'eu33', 'eu34', 'eu35', 'eu36', 'eu37', 'eu38', 'eu39', 'eu40', 'eu41', 'eu42', 'eu43', 'eu44', 'eu45', 'eu46', 'eu47', 'eu48', 'eu49', 'eu50', 'eu51', 'eu52', 'eu53', 'eu54', 'eu55', 'eu56', 'eu57', 'eu58', 'eu59', 'eu60', 'eu61', 'eu62', 'eu63', 'eu64', 'eu65', 'eu66', 'eu67', 'eu68', 'eu69', 'eu70', 'eu71', 'eu72', 'eu73', 'eu74', 'eu75', 'eu76', 'eu77', 'eu78', 'eu79', 'eu80', 'eu81', 'eu82', 'eu83', 'eu84', 'eu85', 'eu86', 'eu87', 'eu88', 'eu89', 'eu90', 'eu91', 'eu92', 'eu93', 'eu94', 'eu95', 'eu96', 'eu97', 'eu98', 'eu99', 'ev00', 'ev01', 'ev02', 'ev03', 'ev04', 'ev05', 'ev06', 'ev07', 'ev08', 'ev09', 'ev10', 'ev11', 'ev12', 'ev13', 'ev14', 'ev15', 'ev16', 'ev17', 'ev18', 'ev19', 'ev20', 'ev21', 'ev22', 'ev23', 'ev24', 'ev25', 'ev26', 'ev27', 'ev28', 'ev29', 'ev30', 'ev31', 'ev32', 'ev33', 'ev34', 'ev35', 'ev36', 'ev37', 'ev38', 'ev39', 'ev40', 'ev41', 'ev42', 'ev43', 'ev44', 'ev45', 'ev46', 'ev47', 'ev48', 'ev49', 'ev50', 'ev51', 'ev52', 'ev53', 'ev54', 'ev55', 'ev56', 'ev57', 'ev58', 'ev59', 'ev60', 'ev61', 'ev62', 'ev63', 'ev64', 'ev65', 'ev66', 'ev67', 'ev68', 'ev69', 'ev70', 'ev71', 'ev72', 'ev73', 'ev74', 'ev75', 'ev76', 'ev77', 'ev78', 'ev79', 'ev80', 'ev81', 'ev82', 'ev83', 'ev84', 'ev85', 'ev86', 'ev87', 'ev88', 'ev89', 'ev90', 'ev91', 'ev92', 'ev93', 'ev94', 'ev95', 'ev96', 'ev97', 'ev98', 'ev99', 'ew00', 'ew01', 'ew02', 'ew03', 'ew04', 'ew05', 'ew06', 'ew07', 'ew08', 'ew09', 'ew10', 'ew11', 'ew12', 'ew13', 'ew14', 'ew15', 'ew16', 'ew17', 'ew18', 'ew19', 'ew20', 'ew21', 'ew22', 'ew23', 'ew24', 'ew25', 'ew26', 'ew27', 'ew28', 'ew29', 'ew30', 'ew31', 'ew32', 'ew33', 'ew34', 'ew35', 'ew36', 'ew37', 'ew38', 'ew39', 'ew40', 'ew41', 'ew42', 'ew43', 'ew44', 'ew45', 'ew46', 'ew47', 'ew48', 'ew49', 'ew50', 'ew51', 'ew52', 'ew53', 'ew54', 'ew55', 'ew56', 'ew57', 'ew58', 'ew59', 'ew60', 'ew61', 'ew62', 'ew63', 'ew64', 'ew65', 'ew66', 'ew67', 'ew68', 'ew69', 'ew70', 'ew71', 'ew72', 'ew73', 'ew74', 'ew75', 'ew76', 'ew77', 'ew78', 'ew79', 'ew80', 'ew81', 'ew82', 'ew83', 'ew84', 'ew85', 'ew86', 'ew87', 'ew88', 'ew89', 'ew90', 'ew91', 'ew92', 'ew93', 'ew94', 'ew95', 'ew96', 'ew97', 'ew98', 'ew99', 'ex00', 'ex01', 'ex02', 'ex03', 'ex04', 'ex05', 'ex06', 'ex07', 'ex08', 'ex09', 'ex10', 'ex11', 'ex12', 'ex13', 'ex14', 'ex15', 'ex16', 'ex17', 'ex18', 'ex19', 'ex20', 'ex21', 'ex22', 'ex23', 'ex24', 'ex25', 'ex26', 'ex27', 'ex28', 'ex29', 'ex30', 'ex31', 'ex32', 'ex33', 'ex34', 'ex35', 'ex36', 'ex37', 'ex38', 'ex39', 'ex40', 'ex41', 'ex42', 'ex43', 'ex44', 'ex45', 'ex46', 'ex47', 'ex48', 'ex49', 'ex50', 'ex51', 'ex52', 'ex53', 'ex54', 'ex55', 'ex56', 'ex57', 'ex58', 'ex59', 'ex60', 'ex61', 'ex62', 'ex63', 'ex64', 'ex65', 'ex66', 'ex67', 'ex68', 'ex69', 'ex70', 'ex71', 'ex72', 'ex73', 'ex74', 'ex75', 'ex76', 'ex77', 'ex78', 'ex79', 'ex80', 'ex81', 'ex82', 'ex83', 'ex84', 'ex85', 'ex86', 'ex87', 'ex88', 'ex89', 'ex90', 'ex91', 'ex92', 'ex93', 'ex94', 'ex95', 'ex96', 'ex97', 'ex98', 'ex99', 'ey00', 'ey01', 'ey02', 'ey03', 'ey04', 'ey05', 'ey06', 'ey07', 'ey08', 'ey09', 'ey10', 'ey11', 'ey12', 'ey13', 'ey14', 'ey15', 'ey16', 'ey17', 'ey18', 'ey19', 'ey20', 'ey21', 'ey22', 'ey23', 'ey24', 'ey25', 'ey26', 'ey27', 'ey28', 'ey29', 'ey30', 'ey31', 'ey32', 'ey33', 'ey34', 'ey35', 'ey36', 'ey37', 'ey38', 'ey39', 'ey40', 'ey41', 'ey42', 'ey43', 'ey44', 'ey45', 'ey46', 'ey47', 'ey48', 'ey49', 'ey50', 'ey51', 'ey52', 'ey53', 'ey54', 'ey55', 'ey56', 'ey57', 'ey58', 'ey59', 'ey60', 'ey61', 'ey62', 'ey63', 'ey64', 'ey65', 'ey66', 'ey67', 'ey68', 'ey69', 'ey70', 'ey71', 'ey72', 'ey73', 'ey74', 'ey75', 'ey76', 'ey77', 'ey78', 'ey79', 'ey80', 'ey81', 'ey82', 'ey83', 'ey84', 'ey85', 'ey86', 'ey87', 'ey88', 'ey89', 'ey90', 'ey91', 'ey92', 'ey93', 'ey94', 'ey95', 'ey96', 'ey97', 'ey98', 'ey99', 'ez00', 'ez01', 'ez02', 'ez03', 'ez04', 'ez05', 'ez06', 'ez07', 'ez08', 'ez09', 'ez10', 'ez11', 'ez12', 'ez13', 'ez14', 'ez15', 'ez16', 'ez17', 'ez18', 'ez19', 'ez20', 'ez21', 'ez22', 'ez23', 'ez24', 'ez25', 'ez26', 'ez27', 'ez28', 'ez29', 'ez30', 'ez31', 'ez32', 'ez33', 'ez34', 'ez35', 'ez36', 'ez37', 'ez38', 'ez39', 'ez40', 'ez41', 'ez42', 'ez43', 'ez44', 'ez45', 'ez46', 'ez47', 'ez48', 'ez49', 'ez50', 'ez51', 'ez52', 'ez53', 'ez54', 'ez55', 'ez56', 'ez57', 'ez58', 'ez59', 'ez60', 'ez61', 'ez62', 'ez63', 'ez64', 'ez65', 'ez66', 'ez67', 'ez68', 'ez69', 'ez70', 'ez71', 'ez72', 'ez73', 'ez74', 'ez75', 'ez76', 'ez77', 'ez78', 'ez79', 'ez80', 'ez81', 'ez82', 'ez83', 'ez84', 'ez85', 'ez86', 'ez87', 'ez88', 'ez89', 'ez90', 'ez91', 'ez92', 'ez93', 'ez94', 'ez95', 'ez96', 'ez97', 'ez98', 'ez99', 'fa00', 'fa01', 'fa02', 'fa03', 'fa04', 'fa05', 'fa06', 'fa07', 'fa08', 'fa09', 'fa10', 'fa11', 'fa12', 'fa13', 'fa14', 'fa15', 'fa16', 'fa17', 'fa18', 'fa19', 'fa20', 'fa21', 'fa22', 'fa23', 'fa24', 'fa25', 'fa26', 'fa27', 'fa28', 'fa29', 'fa30', 'fa31', 'fa32', 'fa33', 'fa34', 'fa35', 'fa36', 'fa37', 'fa38', 'fa39', 'fa40', 'fa41', 'fa42', 'fa43', 'fa44', 'fa45', 'fa46', 'fa47', 'fa48', 'fa49', 'fa50', 'fa51', 'fa52', 'fa53', 'fa54', 'fa55', 'fa56', 'fa57', 'fa58', 'fa59', 'fa60', 'fa61', 'fa62', 'fa63', 'fa64', 'fa65', 'fa66', 'fa67', 'fa68', 'fa69', 'fa70', 'fa71', 'fa72', 'fa73', 'fa74', 'fa75', 'fa76', 'fa77', 'fa78', 'fa79', 'fa80', 'fa81', 'fa82', 'fa83', 'fa84', 'fa85', 'fa86', 'fa87', 'fa88', 'fa89', 'fa90', 'fa91', 'fa92', 'fa93', 'fa94', 'fa95', 'fa96', 'fa97', 'fa98', 'fa99', 'fb00', 'fb01', 'fb02', 'fb03', 'fb04', 'fb05', 'fb06', 'fb07', 'fb08', 'fb09', 'fb10', 'fb11', 'fb12', 'fb13', 'fb14', 'fb15', 'fb16', 'fb17', 'fb18', 'fb19', 'fb20', 'fb21', 'fb22', 'fb23', 'fb24', 'fb25', 'fb26', 'fb27', 'fb28', 'fb29', 'fb30', 'fb31', 'fb32', 'fb33', 'fb34', 'fb35', 'fb36', 'fb37', 'fb38', 'fb39', 'fb40', 'fb41', 'fb42', 'fb43', 'fb44', 'fb45', 'fb46', 'fb47', 'fb48', 'fb49', 'fb50', 'fb51', 'fb52', 'fb53', 'fb54', 'fb55', 'fb56', 'fb57', 'fb58', 'fb59', 'fb60', 'fb61', 'fb62', 'fb63', 'fb64', 'fb65', 'fb66', 'fb67', 'fb68', 'fb69', 'fb70', 'fb71', 'fb72', 'fb73', 'fb74', 'fb75', 'fb76', 'fb77', 'fb78', 'fb79', 'fb80', 'fb81', 'fb82', 'fb83', 'fb84', 'fb85', 'fb86', 'fb87', 'fb88', 'fb89', 'fb90', 'fb91', 'fb92', 'fb93', 'fb94', 'fb95', 'fb96', 'fb97', 'fb98', 'fb99', 'fc00', 'fc01', 'fc02', 'fc03', 'fc04', 'fc05', 'fc06', 'fc07', 'fc08', 'fc09', 'fc10', 'fc11', 'fc12', 'fc13', 'fc14', 'fc15', 'fc16', 'fc17', 'fc18', 'fc19', 'fc20', 'fc21', 'fc22', 'fc23', 'fc24', 'fc25', 'fc26', 'fc27', 'fc28', 'fc29', 'fc30', 'fc31', 'fc32', 'fc33', 'fc34', 'fc35', 'fc36', 'fc37', 'fc38', 'fc39', 'fc40', 'fc41', 'fc42', 'fc43', 'fc44', 'fc45', 'fc46', 'fc47', 'fc48', 'fc49', 'fc50', 'fc51', 'fc52', 'fc53', 'fc54', 'fc55', 'fc56', 'fc57', 'fc58', 'fc59', 'fc60', 'fc61', 'fc62', 'fc63', 'fc64', 'fc65', 'fc66', 'fc67', 'fc68', 'fc69', 'fc70', 'fc71', 'fc72', 'fc73', 'fc74', 'fc75', 'fc76', 'fc77', 'fc78', 'fc79', 'fc80', 'fc81', 'fc82', 'fc83', 'fc84', 'fc85', 'fc86', 'fc87', 'fc88', 'fc89', 'fc90', 'fc91', 'fc92', 'fc93', 'fc94', 'fc95', 'fc96', 'fc97', 'fc98', 'fc99', 'fd00', 'fd01', 'fd02', 'fd03', 'fd04', 'fd05', 'fd06', 'fd07', 'fd08', 'fd09', 'fd10', 'fd11', 'fd12', 'fd13', 'fd14', 'fd15', 'fd16', 'fd17', 'fd18', 'fd19', 'fd20', 'fd21', 'fd22', 'fd23', 'fd24', 'fd25', 'fd26', 'fd27', 'fd28', 'fd29', 'fd30', 'fd31', 'fd32', 'fd33', 'fd34', 'fd35', 'fd36', 'fd37', 'fd38', 'fd39', 'fd40', 'fd41', 'fd42', 'fd43', 'fd44', 'fd45', 'fd46', 'fd47', 'fd48', 'fd49', 'fd50', 'fd51', 'fd52', 'fd53', 'fd54', 'fd55', 'fd56', 'fd57', 'fd58', 'fd59', 'fd60', 'fd61', 'fd62', 'fd63', 'fd64', 'fd65', 'fd66', 'fd67', 'fd68', 'fd69', 'fd70', 'fd71', 'fd72', 'fd73', 'fd74', 'fd75', 'fd76', 'fd77', 'fd78', 'fd79', 'fd80', 'fd81', 'fd82', 'fd83', 'fd84', 'fd85', 'fd86', 'fd87', 'fd88', 'fd89', 'fd90', 'fd91', 'fd92', 'fd93', 'fd94', 'fd95', 'fd96', 'fd97', 'fd98', 'fd99', 'fe00', 'fe01', 'fe02', 'fe03', 'fe04', 'fe05', 'fe06', 'fe07', 'fe08', 'fe09', 'fe10', 'fe11', 'fe12', 'fe13', 'fe14', 'fe15', 'fe16', 'fe17', 'fe18', 'fe19', 'fe20', 'fe21', 'fe22', 'fe23', 'fe24', 'fe25', 'fe26', 'fe27', 'fe28', 'fe29', 'fe30', 'fe31', 'fe32', 'fe33', 'fe34', 'fe35', 'fe36', 'fe37', 'fe38', 'fe39', 'fe40', 'fe41', 'fe42', 'fe43', 'fe44', 'fe45', 'fe46', 'fe47', 'fe48', 'fe49', 'fe50', 'fe51', 'fe52', 'fe53', 'fe54', 'fe55', 'fe56', 'fe57', 'fe58', 'fe59', 'fe60', 'fe61', 'fe62', 'fe63', 'fe64', 'fe65', 'fe66', 'fe67', 'fe68', 'fe69', 'fe70', 'fe71', 'fe72', 'fe73', 'fe74', 'fe75', 'fe76', 'fe77', 'fe78', 'fe79', 'fe80', 'fe81', 'fe82', 'fe83', 'fe84', 'fe85', 'fe86', 'fe87', 'fe88', 'fe89', 'fe90', 'fe91', 'fe92', 'fe93', 'fe94', 'fe95', 'fe96', 'fe97', 'fe98', 'fe99', 'ff00', 'ff01', 'ff02', 'ff03', 'ff04', 'ff05', 'ff06', 'ff07', 'ff08', 'ff09', 'ff10', 'ff11', 'ff12', 'ff13', 'ff14', 'ff15', 'ff16', 'ff17', 'ff18', 'ff19', 'ff20', 'ff21', 'ff22', 'ff23', 'ff24', 'ff25', 'ff26', 'ff27', 'ff28', 'ff29', 'ff30', 'ff31', 'ff32', 'ff33', 'ff34', 'ff35', 'ff36', 'ff37', 'ff38', 'ff39', 'ff40', 'ff41', 'ff42', 'ff43', 'ff44', 'ff45', 'ff46', 'ff47', 'ff48', 'ff49', 'ff50', 'ff51', 'ff52', 'ff53', 'ff54', 'ff55', 'ff56', 'ff57', 'ff58', 'ff59', 'ff60', 'ff61', 'ff62', 'ff63', 'ff64', 'ff65', 'ff66', 'ff67', 'ff68', 'ff69', 'ff70', 'ff71', 'ff72', 'ff73', 'ff74', 'ff75', 'ff76', 'ff77', 'ff78', 'ff79', 'ff80', 'ff81', 'ff82', 'ff83', 'ff84', 'ff85', 'ff86', 'ff87', 'ff88', 'ff89', 'ff90', 'ff91', 'ff92', 'ff93', 'ff94', 'ff95', 'ff96', 'ff97', 'ff98', 'ff99', 'fg00', 'fg01', 'fg02', 'fg03', 'fg04', 'fg05', 'fg06', 'fg07', 'fg08', 'fg09', 'fg10', 'fg11', 'fg12', 'fg13', 'fg14', 'fg15', 'fg16', 'fg17', 'fg18', 'fg19', 'fg20', 'fg21', 'fg22', 'fg23', 'fg24', 'fg25', 'fg26', 'fg27', 'fg28', 'fg29', 'fg30', 'fg31', 'fg32', 'fg33', 'fg34', 'fg35', 'fg36', 'fg37', 'fg38', 'fg39', 'fg40', 'fg41', 'fg42', 'fg43', 'fg44', 'fg45', 'fg46', 'fg47', 'fg48', 'fg49', 'fg50', 'fg51', 'fg52', 'fg53', 'fg54', 'fg55', 'fg56', 'fg57', 'fg58', 'fg59', 'fg60', 'fg61', 'fg62', 'fg63', 'fg64', 'fg65', 'fg66', 'fg67', 'fg68', 'fg69', 'fg70', 'fg71', 'fg72', 'fg73', 'fg74', 'fg75', 'fg76', 'fg77', 'fg78', 'fg79', 'fg80', 'fg81', 'fg82', 'fg83', 'fg84', 'fg85', 'fg86', 'fg87', 'fg88', 'fg89', 'fg90', 'fg91', 'fg92', 'fg93', 'fg94', 'fg95', 'fg96', 'fg97', 'fg98', 'fg99', 'fh00', 'fh01', 'fh02', 'fh03', 'fh04', 'fh05', 'fh06', 'fh07', 'fh08', 'fh09', 'fh10', 'fh11', 'fh12', 'fh13', 'fh14', 'fh15', 'fh16', 'fh17', 'fh18', 'fh19', 'fh20', 'fh21', 'fh22', 'fh23', 'fh24', 'fh25', 'fh26', 'fh27', 'fh28', 'fh29', 'fh30', 'fh31', 'fh32', 'fh33', 'fh34', 'fh35', 'fh36', 'fh37', 'fh38', 'fh39', 'fh40', 'fh41', 'fh42', 'fh43', 'fh44', 'fh45', 'fh46', 'fh47', 'fh48', 'fh49', 'fh50', 'fh51', 'fh52', 'fh53', 'fh54', 'fh55', 'fh56', 'fh57', 'fh58', 'fh59', 'fh60', 'fh61', 'fh62', 'fh63', 'fh64', 'fh65', 'fh66', 'fh67', 'fh68', 'fh69', 'fh70', 'fh71', 'fh72', 'fh73', 'fh74', 'fh75', 'fh76', 'fh77', 'fh78', 'fh79', 'fh80', 'fh81', 'fh82', 'fh83', 'fh84', 'fh85', 'fh86', 'fh87', 'fh88', 'fh89', 'fh90', 'fh91', 'fh92', 'fh93', 'fh94', 'fh95', 'fh96', 'fh97', 'fh98', 'fh99', 'fi00', 'fi01', 'fi02', 'fi03', 'fi04', 'fi05', 'fi06', 'fi07', 'fi08', 'fi09', 'fi10', 'fi11', 'fi12', 'fi13', 'fi14', 'fi15', 'fi16', 'fi17', 'fi18', 'fi19', 'fi20', 'fi21', 'fi22', 'fi23', 'fi24', 'fi25', 'fi26', 'fi27', 'fi28', 'fi29', 'fi30', 'fi31', 'fi32', 'fi33', 'fi34', 'fi35', 'fi36', 'fi37', 'fi38', 'fi39', 'fi40', 'fi41', 'fi42', 'fi43', 'fi44', 'fi45', 'fi46', 'fi47', 'fi48', 'fi49', 'fi50', 'fi51', 'fi52', 'fi53', 'fi54', 'fi55', 'fi56', 'fi57', 'fi58', 'fi59', 'fi60', 'fi61', 'fi62', 'fi63', 'fi64', 'fi65', 'fi66', 'fi67', 'fi68', 'fi69', 'fi70', 'fi71', 'fi72', 'fi73', 'fi74', 'fi75', 'fi76', 'fi77', 'fi78', 'fi79', 'fi80', 'fi81', 'fi82', 'fi83', 'fi84', 'fi85', 'fi86', 'fi87', 'fi88', 'fi89', 'fi90', 'fi91', 'fi92', 'fi93', 'fi94', 'fi95', 'fi96', 'fi97', 'fi98', 'fi99', 'fj00', 'fj01', 'fj02', 'fj03', 'fj04', 'fj05', 'fj06', 'fj07', 'fj08', 'fj09', 'fj10', 'fj11', 'fj12', 'fj13', 'fj14', 'fj15', 'fj16', 'fj17', 'fj18', 'fj19', 'fj20', 'fj21', 'fj22', 'fj23', 'fj24', 'fj25', 'fj26', 'fj27', 'fj28', 'fj29', 'fj30', 'fj31', 'fj32', 'fj33', 'fj34', 'fj35', 'fj36', 'fj37', 'fj38', 'fj39', 'fj40', 'fj41', 'fj42', 'fj43', 'fj44', 'fj45', 'fj46', 'fj47', 'fj48', 'fj49', 'fj50', 'fj51', 'fj52', 'fj53', 'fj54', 'fj55', 'fj56', 'fj57', 'fj58', 'fj59', 'fj60', 'fj61', 'fj62', 'fj63', 'fj64', 'fj65', 'fj66', 'fj67', 'fj68', 'fj69', 'fj70', 'fj71', 'fj72', 'fj73', 'fj74', 'fj75', 'fj76', 'fj77', 'fj78', 'fj79', 'fj80', 'fj81', 'fj82', 'fj83', 'fj84', 'fj85', 'fj86', 'fj87', 'fj88', 'fj89', 'fj90', 'fj91', 'fj92', 'fj93', 'fj94', 'fj95', 'fj96', 'fj97', 'fj98', 'fj99', 'fk00', 'fk01', 'fk02', 'fk03', 'fk04', 'fk05', 'fk06', 'fk07', 'fk08', 'fk09', 'fk10', 'fk11', 'fk12', 'fk13', 'fk14', 'fk15', 'fk16', 'fk17', 'fk18', 'fk19', 'fk20', 'fk21', 'fk22', 'fk23', 'fk24', 'fk25', 'fk26', 'fk27', 'fk28', 'fk29', 'fk30', 'fk31', 'fk32', 'fk33', 'fk34', 'fk35', 'fk36', 'fk37', 'fk38', 'fk39', 'fk40', 'fk41', 'fk42', 'fk43', 'fk44', 'fk45', 'fk46', 'fk47', 'fk48', 'fk49', 'fk50', 'fk51', 'fk52', 'fk53', 'fk54', 'fk55', 'fk56', 'fk57', 'fk58', 'fk59', 'fk60', 'fk61', 'fk62', 'fk63', 'fk64', 'fk65', 'fk66', 'fk67', 'fk68', 'fk69', 'fk70', 'fk71', 'fk72', 'fk73', 'fk74', 'fk75', 'fk76', 'fk77', 'fk78', 'fk79', 'fk80', 'fk81', 'fk82', 'fk83', 'fk84', 'fk85', 'fk86', 'fk87', 'fk88', 'fk89', 'fk90', 'fk91', 'fk92', 'fk93', 'fk94', 'fk95', 'fk96', 'fk97', 'fk98', 'fk99', 'fl00', 'fl01', 'fl02', 'fl03', 'fl04', 'fl05', 'fl06', 'fl07', 'fl08', 'fl09', 'fl10', 'fl11', 'fl12', 'fl13', 'fl14', 'fl15', 'fl16', 'fl17', 'fl18', 'fl19', 'fl20', 'fl21', 'fl22', 'fl23', 'fl24', 'fl25', 'fl26', 'fl27', 'fl28', 'fl29', 'fl30', 'fl31', 'fl32', 'fl33', 'fl34', 'fl35', 'fl36', 'fl37', 'fl38', 'fl39', 'fl40', 'fl41', 'fl42', 'fl43', 'fl44', 'fl45', 'fl46', 'fl47', 'fl48', 'fl49', 'fl50', 'fl51', 'fl52', 'fl53', 'fl54', 'fl55', 'fl56', 'fl57', 'fl58', 'fl59', 'fl60', 'fl61', 'fl62', 'fl63', 'fl64', 'fl65', 'fl66', 'fl67', 'fl68', 'fl69', 'fl70', 'fl71', 'fl72', 'fl73', 'fl74', 'fl75', 'fl76', 'fl77', 'fl78', 'fl79', 'fl80', 'fl81', 'fl82', 'fl83', 'fl84', 'fl85', 'fl86', 'fl87', 'fl88', 'fl89', 'fl90', 'fl91', 'fl92', 'fl93', 'fl94', 'fl95', 'fl96', 'fl97', 'fl98', 'fl99', 'fm00', 'fm01', 'fm02', 'fm03', 'fm04', 'fm05', 'fm06', 'fm07', 'fm08', 'fm09', 'fm10', 'fm11', 'fm12', 'fm13', 'fm14', 'fm15', 'fm16', 'fm17', 'fm18', 'fm19', 'fm20', 'fm21', 'fm22', 'fm23', 'fm24', 'fm25', 'fm26', 'fm27', 'fm28', 'fm29', 'fm30', 'fm31', 'fm32', 'fm33', 'fm34', 'fm35', 'fm36', 'fm37', 'fm38', 'fm39', 'fm40', 'fm41', 'fm42', 'fm43', 'fm44', 'fm45', 'fm46', 'fm47', 'fm48', 'fm49', 'fm50', 'fm51', 'fm52', 'fm53', 'fm54', 'fm55', 'fm56', 'fm57', 'fm58', 'fm59', 'fm60', 'fm61', 'fm62', 'fm63', 'fm64', 'fm65', 'fm66', 'fm67', 'fm68', 'fm69', 'fm70', 'fm71', 'fm72', 'fm73', 'fm74', 'fm75', 'fm76', 'fm77', 'fm78', 'fm79', 'fm80', 'fm81', 'fm82', 'fm83', 'fm84', 'fm85', 'fm86', 'fm87', 'fm88', 'fm89', 'fm90', 'fm91', 'fm92', 'fm93', 'fm94', 'fm95', 'fm96', 'fm97', 'fm98', 'fm99', 'fn00', 'fn01', 'fn02', 'fn03', 'fn04', 'fn05', 'fn06', 'fn07', 'fn08', 'fn09', 'fn10', 'fn11', 'fn12', 'fn13', 'fn14', 'fn15', 'fn16', 'fn17', 'fn18', 'fn19', 'fn20', 'fn21', 'fn22', 'fn23', 'fn24', 'fn25', 'fn26', 'fn27', 'fn28', 'fn29', 'fn30', 'fn31', 'fn32', 'fn33', 'fn34', 'fn35', 'fn36', 'fn37', 'fn38', 'fn39', 'fn40', 'fn41', 'fn42', 'fn43', 'fn44', 'fn45', 'fn46', 'fn47', 'fn48', 'fn49', 'fn50', 'fn51', 'fn52', 'fn53', 'fn54', 'fn55', 'fn56', 'fn57', 'fn58', 'fn59', 'fn60', 'fn61', 'fn62', 'fn63', 'fn64', 'fn65', 'fn66', 'fn67', 'fn68', 'fn69', 'fn70', 'fn71', 'fn72', 'fn73', 'fn74', 'fn75', 'fn76', 'fn77', 'fn78', 'fn79', 'fn80', 'fn81', 'fn82', 'fn83', 'fn84', 'fn85', 'fn86', 'fn87', 'fn88', 'fn89', 'fn90', 'fn91', 'fn92', 'fn93', 'fn94', 'fn95', 'fn96', 'fn97', 'fn98', 'fn99', 'fo00', 'fo01', 'fo02', 'fo03', 'fo04', 'fo05', 'fo06', 'fo07', 'fo08', 'fo09', 'fo10', 'fo11', 'fo12', 'fo13', 'fo14', 'fo15', 'fo16', 'fo17', 'fo18', 'fo19', 'fo20', 'fo21', 'fo22', 'fo23', 'fo24', 'fo25', 'fo26', 'fo27', 'fo28', 'fo29', 'fo30', 'fo31', 'fo32', 'fo33', 'fo34', 'fo35', 'fo36', 'fo37', 'fo38', 'fo39', 'fo40', 'fo41', 'fo42', 'fo43', 'fo44', 'fo45', 'fo46', 'fo47', 'fo48', 'fo49', 'fo50', 'fo51', 'fo52', 'fo53', 'fo54', 'fo55', 'fo56', 'fo57', 'fo58', 'fo59', 'fo60', 'fo61', 'fo62', 'fo63', 'fo64', 'fo65', 'fo66', 'fo67', 'fo68', 'fo69', 'fo70', 'fo71', 'fo72', 'fo73', 'fo74', 'fo75', 'fo76', 'fo77', 'fo78', 'fo79', 'fo80', 'fo81', 'fo82', 'fo83', 'fo84', 'fo85', 'fo86', 'fo87', 'fo88', 'fo89', 'fo90', 'fo91', 'fo92', 'fo93', 'fo94', 'fo95', 'fo96', 'fo97', 'fo98', 'fo99', 'fp00', 'fp01', 'fp02', 'fp03', 'fp04', 'fp05', 'fp06', 'fp07', 'fp08', 'fp09', 'fp10', 'fp11', 'fp12', 'fp13', 'fp14', 'fp15', 'fp16', 'fp17', 'fp18', 'fp19', 'fp20', 'fp21', 'fp22', 'fp23', 'fp24', 'fp25', 'fp26', 'fp27', 'fp28', 'fp29', 'fp30', 'fp31', 'fp32', 'fp33', 'fp34', 'fp35', 'fp36', 'fp37', 'fp38', 'fp39', 'fp40', 'fp41', 'fp42', 'fp43', 'fp44', 'fp45', 'fp46', 'fp47', 'fp48', 'fp49', 'fp50', 'fp51', 'fp52', 'fp53', 'fp54', 'fp55', 'fp56', 'fp57', 'fp58', 'fp59', 'fp60', 'fp61', 'fp62', 'fp63', 'fp64', 'fp65', 'fp66', 'fp67', 'fp68', 'fp69', 'fp70', 'fp71', 'fp72', 'fp73', 'fp74', 'fp75', 'fp76', 'fp77', 'fp78', 'fp79', 'fp80', 'fp81', 'fp82', 'fp83', 'fp84', 'fp85', 'fp86', 'fp87', 'fp88', 'fp89', 'fp90', 'fp91', 'fp92', 'fp93', 'fp94', 'fp95', 'fp96', 'fp97', 'fp98', 'fp99', 'fq00', 'fq01', 'fq02', 'fq03', 'fq04', 'fq05', 'fq06', 'fq07', 'fq08', 'fq09', 'fq10', 'fq11', 'fq12', 'fq13', 'fq14', 'fq15', 'fq16', 'fq17', 'fq18', 'fq19', 'fq20', 'fq21', 'fq22', 'fq23', 'fq24', 'fq25', 'fq26', 'fq27', 'fq28', 'fq29', 'fq30', 'fq31', 'fq32', 'fq33', 'fq34', 'fq35', 'fq36', 'fq37', 'fq38', 'fq39', 'fq40', 'fq41', 'fq42', 'fq43', 'fq44', 'fq45', 'fq46', 'fq47', 'fq48', 'fq49', 'fq50', 'fq51', 'fq52', 'fq53', 'fq54', 'fq55', 'fq56', 'fq57', 'fq58', 'fq59', 'fq60', 'fq61', 'fq62', 'fq63', 'fq64', 'fq65', 'fq66', 'fq67', 'fq68', 'fq69', 'fq70', 'fq71', 'fq72', 'fq73', 'fq74', 'fq75', 'fq76', 'fq77', 'fq78', 'fq79', 'fq80', 'fq81', 'fq82', 'fq83', 'fq84', 'fq85', 'fq86', 'fq87', 'fq88', 'fq89', 'fq90', 'fq91', 'fq92', 'fq93', 'fq94', 'fq95', 'fq96', 'fq97', 'fq98', 'fq99', 'fr00', 'fr01', 'fr02', 'fr03', 'fr04', 'fr05', 'fr06', 'fr07', 'fr08', 'fr09', 'fr10', 'fr11', 'fr12', 'fr13', 'fr14', 'fr15', 'fr16', 'fr17', 'fr18', 'fr19', 'fr20', 'fr21', 'fr22', 'fr23', 'fr24', 'fr25', 'fr26', 'fr27', 'fr28', 'fr29', 'fr30', 'fr31', 'fr32', 'fr33', 'fr34', 'fr35', 'fr36', 'fr37', 'fr38', 'fr39', 'fr40', 'fr41', 'fr42', 'fr43', 'fr44', 'fr45', 'fr46', 'fr47', 'fr48', 'fr49', 'fr50', 'fr51', 'fr52', 'fr53', 'fr54', 'fr55', 'fr56', 'fr57', 'fr58', 'fr59', 'fr60', 'fr61', 'fr62', 'fr63', 'fr64', 'fr65', 'fr66', 'fr67', 'fr68', 'fr69', 'fr70', 'fr71', 'fr72', 'fr73', 'fr74', 'fr75', 'fr76', 'fr77', 'fr78', 'fr79', 'fr80', 'fr81', 'fr82', 'fr83', 'fr84', 'fr85', 'fr86', 'fr87', 'fr88', 'fr89', 'fr90', 'fr91', 'fr92', 'fr93', 'fr94', 'fr95', 'fr96', 'fr97', 'fr98', 'fr99', 'fs00', 'fs01', 'fs02', 'fs03', 'fs04', 'fs05', 'fs06', 'fs07', 'fs08', 'fs09', 'fs10', 'fs11', 'fs12', 'fs13', 'fs14', 'fs15', 'fs16', 'fs17', 'fs18', 'fs19', 'fs20', 'fs21', 'fs22', 'fs23', 'fs24', 'fs25', 'fs26', 'fs27', 'fs28', 'fs29', 'fs30', 'fs31', 'fs32', 'fs33', 'fs34', 'fs35', 'fs36', 'fs37', 'fs38', 'fs39', 'fs40', 'fs41', 'fs42', 'fs43', 'fs44', 'fs45', 'fs46', 'fs47', 'fs48', 'fs49', 'fs50', 'fs51', 'fs52', 'fs53', 'fs54', 'fs55', 'fs56', 'fs57', 'fs58', 'fs59', 'fs60', 'fs61', 'fs62', 'fs63', 'fs64', 'fs65', 'fs66', 'fs67', 'fs68', 'fs69', 'fs70', 'fs71', 'fs72', 'fs73', 'fs74', 'fs75', 'fs76', 'fs77', 'fs78', 'fs79', 'fs80', 'fs81', 'fs82', 'fs83', 'fs84', 'fs85', 'fs86', 'fs87', 'fs88', 'fs89', 'fs90', 'fs91', 'fs92', 'fs93', 'fs94', 'fs95', 'fs96', 'fs97', 'fs98', 'fs99', 'ft00', 'ft01', 'ft02', 'ft03', 'ft04', 'ft05', 'ft06', 'ft07', 'ft08', 'ft09', 'ft10', 'ft11', 'ft12', 'ft13', 'ft14', 'ft15', 'ft16', 'ft17', 'ft18', 'ft19', 'ft20', 'ft21', 'ft22', 'ft23', 'ft24', 'ft25', 'ft26', 'ft27', 'ft28', 'ft29', 'ft30', 'ft31', 'ft32', 'ft33', 'ft34', 'ft35', 'ft36', 'ft37', 'ft38', 'ft39', 'ft40', 'ft41', 'ft42', 'ft43', 'ft44', 'ft45', 'ft46', 'ft47', 'ft48', 'ft49', 'ft50', 'ft51', 'ft52', 'ft53', 'ft54', 'ft55', 'ft56', 'ft57', 'ft58', 'ft59', 'ft60', 'ft61', 'ft62', 'ft63', 'ft64', 'ft65', 'ft66', 'ft67', 'ft68', 'ft69', 'ft70', 'ft71', 'ft72', 'ft73', 'ft74', 'ft75', 'ft76', 'ft77', 'ft78', 'ft79', 'ft80', 'ft81', 'ft82', 'ft83', 'ft84', 'ft85', 'ft86', 'ft87', 'ft88', 'ft89', 'ft90', 'ft91', 'ft92', 'ft93', 'ft94', 'ft95', 'ft96', 'ft97', 'ft98', 'ft99', 'fu00', 'fu01', 'fu02', 'fu03', 'fu04', 'fu05', 'fu06', 'fu07', 'fu08', 'fu09', 'fu10', 'fu11', 'fu12', 'fu13', 'fu14', 'fu15', 'fu16', 'fu17', 'fu18', 'fu19', 'fu20', 'fu21', 'fu22', 'fu23', 'fu24', 'fu25', 'fu26', 'fu27', 'fu28', 'fu29', 'fu30', 'fu31', 'fu32', 'fu33', 'fu34', 'fu35', 'fu36', 'fu37', 'fu38', 'fu39', 'fu40', 'fu41', 'fu42', 'fu43', 'fu44', 'fu45', 'fu46', 'fu47', 'fu48', 'fu49', 'fu50', 'fu51', 'fu52', 'fu53', 'fu54', 'fu55', 'fu56', 'fu57', 'fu58', 'fu59', 'fu60', 'fu61', 'fu62', 'fu63', 'fu64', 'fu65', 'fu66', 'fu67', 'fu68', 'fu69', 'fu70', 'fu71', 'fu72', 'fu73', 'fu74', 'fu75', 'fu76', 'fu77', 'fu78', 'fu79', 'fu80', 'fu81', 'fu82', 'fu83', 'fu84', 'fu85', 'fu86', 'fu87', 'fu88', 'fu89', 'fu90', 'fu91', 'fu92', 'fu93', 'fu94', 'fu95', 'fu96', 'fu97', 'fu98', 'fu99', 'fv00', 'fv01', 'fv02', 'fv03', 'fv04', 'fv05', 'fv06', 'fv07', 'fv08', 'fv09', 'fv10', 'fv11', 'fv12', 'fv13', 'fv14', 'fv15', 'fv16', 'fv17', 'fv18', 'fv19', 'fv20', 'fv21', 'fv22', 'fv23', 'fv24', 'fv25', 'fv26', 'fv27', 'fv28', 'fv29', 'fv30', 'fv31', 'fv32', 'fv33', 'fv34', 'fv35', 'fv36', 'fv37', 'fv38', 'fv39', 'fv40', 'fv41', 'fv42', 'fv43', 'fv44', 'fv45', 'fv46', 'fv47', 'fv48', 'fv49', 'fv50', 'fv51', 'fv52', 'fv53', 'fv54', 'fv55', 'fv56', 'fv57', 'fv58', 'fv59', 'fv60', 'fv61', 'fv62', 'fv63', 'fv64', 'fv65', 'fv66', 'fv67', 'fv68', 'fv69', 'fv70', 'fv71', 'fv72', 'fv73', 'fv74', 'fv75', 'fv76', 'fv77', 'fv78', 'fv79', 'fv80', 'fv81', 'fv82', 'fv83', 'fv84', 'fv85', 'fv86', 'fv87', 'fv88', 'fv89', 'fv90', 'fv91', 'fv92', 'fv93', 'fv94', 'fv95', 'fv96', 'fv97', 'fv98', 'fv99', 'fw00', 'fw01', 'fw02', 'fw03', 'fw04', 'fw05', 'fw06', 'fw07', 'fw08', 'fw09', 'fw10', 'fw11', 'fw12', 'fw13', 'fw14', 'fw15', 'fw16', 'fw17', 'fw18', 'fw19', 'fw20', 'fw21', 'fw22', 'fw23', 'fw24', 'fw25', 'fw26', 'fw27', 'fw28', 'fw29', 'fw30', 'fw31', 'fw32', 'fw33', 'fw34', 'fw35', 'fw36', 'fw37', 'fw38', 'fw39', 'fw40', 'fw41', 'fw42', 'fw43', 'fw44', 'fw45', 'fw46', 'fw47', 'fw48', 'fw49', 'fw50', 'fw51', 'fw52', 'fw53', 'fw54', 'fw55', 'fw56', 'fw57', 'fw58', 'fw59', 'fw60', 'fw61', 'fw62', 'fw63', 'fw64', 'fw65', 'fw66', 'fw67', 'fw68', 'fw69', 'fw70', 'fw71', 'fw72', 'fw73', 'fw74', 'fw75', 'fw76', 'fw77', 'fw78', 'fw79', 'fw80', 'fw81', 'fw82', 'fw83', 'fw84', 'fw85', 'fw86', 'fw87', 'fw88', 'fw89', 'fw90', 'fw91', 'fw92', 'fw93', 'fw94', 'fw95', 'fw96', 'fw97', 'fw98', 'fw99', 'fx00', 'fx01', 'fx02', 'fx03', 'fx04', 'fx05', 'fx06', 'fx07', 'fx08', 'fx09', 'fx10', 'fx11', 'fx12', 'fx13', 'fx14', 'fx15', 'fx16', 'fx17', 'fx18', 'fx19', 'fx20', 'fx21', 'fx22', 'fx23', 'fx24', 'fx25', 'fx26', 'fx27', 'fx28', 'fx29', 'fx30', 'fx31', 'fx32', 'fx33', 'fx34', 'fx35', 'fx36', 'fx37', 'fx38', 'fx39', 'fx40', 'fx41', 'fx42', 'fx43', 'fx44', 'fx45', 'fx46', 'fx47', 'fx48', 'fx49', 'fx50', 'fx51', 'fx52', 'fx53', 'fx54', 'fx55', 'fx56', 'fx57', 'fx58', 'fx59', 'fx60', 'fx61', 'fx62', 'fx63', 'fx64', 'fx65', 'fx66', 'fx67', 'fx68', 'fx69', 'fx70', 'fx71', 'fx72', 'fx73', 'fx74', 'fx75', 'fx76', 'fx77', 'fx78', 'fx79', 'fx80', 'fx81', 'fx82', 'fx83', 'fx84', 'fx85', 'fx86', 'fx87', 'fx88', 'fx89', 'fx90', 'fx91', 'fx92', 'fx93', 'fx94', 'fx95', 'fx96', 'fx97', 'fx98', 'fx99', 'fy00', 'fy01', 'fy02', 'fy03', 'fy04', 'fy05', 'fy06', 'fy07', 'fy08', 'fy09', 'fy10', 'fy11', 'fy12', 'fy13', 'fy14', 'fy15', 'fy16', 'fy17', 'fy18', 'fy19', 'fy20', 'fy21', 'fy22', 'fy23', 'fy24', 'fy25', 'fy26', 'fy27', 'fy28', 'fy29', 'fy30', 'fy31', 'fy32', 'fy33', 'fy34', 'fy35', 'fy36', 'fy37', 'fy38', 'fy39', 'fy40', 'fy41', 'fy42', 'fy43', 'fy44', 'fy45', 'fy46', 'fy47', 'fy48', 'fy49', 'fy50', 'fy51', 'fy52', 'fy53', 'fy54', 'fy55', 'fy56', 'fy57', 'fy58', 'fy59', 'fy60', 'fy61', 'fy62', 'fy63', 'fy64', 'fy65', 'fy66', 'fy67', 'fy68', 'fy69', 'fy70', 'fy71', 'fy72', 'fy73', 'fy74', 'fy75', 'fy76', 'fy77', 'fy78', 'fy79', 'fy80', 'fy81', 'fy82', 'fy83', 'fy84', 'fy85', 'fy86', 'fy87', 'fy88', 'fy89', 'fy90', 'fy91', 'fy92', 'fy93', 'fy94', 'fy95', 'fy96', 'fy97', 'fy98', 'fy99', 'fz00', 'fz01', 'fz02', 'fz03', 'fz04', 'fz05', 'fz06', 'fz07', 'fz08', 'fz09', 'fz10', 'fz11', 'fz12', 'fz13', 'fz14', 'fz15', 'fz16', 'fz17', 'fz18', 'fz19', 'fz20', 'fz21', 'fz22', 'fz23', 'fz24', 'fz25', 'fz26', 'fz27', 'fz28', 'fz29', 'fz30', 'fz31', 'fz32', 'fz33', 'fz34', 'fz35', 'fz36', 'fz37', 'fz38', 'fz39', 'fz40', 'fz41', 'fz42', 'fz43', 'fz44', 'fz45', 'fz46', 'fz47', 'fz48', 'fz49', 'fz50', 'fz51', 'fz52', 'fz53', 'fz54', 'fz55', 'fz56', 'fz57', 'fz58', 'fz59', 'fz60', 'fz61', 'fz62', 'fz63', 'fz64', 'fz65', 'fz66', 'fz67', 'fz68', 'fz69', 'fz70', 'fz71', 'fz72', 'fz73', 'fz74', 'fz75', 'fz76', 'fz77', 'fz78', 'fz79', 'fz80', 'fz81', 'fz82', 'fz83', 'fz84', 'fz85', 'fz86', 'fz87', 'fz88', 'fz89', 'fz90', 'fz91', 'fz92', 'fz93', 'fz94', 'fz95', 'fz96', 'fz97', 'fz98', 'fz99', 'ga00', 'ga01', 'ga02', 'ga03', 'ga04', 'ga05', 'ga06', 'ga07', 'ga08', 'ga09', 'ga10', 'ga11', 'ga12', 'ga13', 'ga14', 'ga15', 'ga16', 'ga17', 'ga18', 'ga19', 'ga20', 'ga21', 'ga22', 'ga23', 'ga24', 'ga25', 'ga26', 'ga27', 'ga28', 'ga29', 'ga30', 'ga31', 'ga32', 'ga33', 'ga34', 'ga35', 'ga36', 'ga37', 'ga38', 'ga39', 'ga40', 'ga41', 'ga42', 'ga43', 'ga44', 'ga45', 'ga46', 'ga47', 'ga48', 'ga49', 'ga50', 'ga51', 'ga52', 'ga53', 'ga54', 'ga55', 'ga56', 'ga57', 'ga58', 'ga59', 'ga60', 'ga61', 'ga62', 'ga63', 'ga64', 'ga65', 'ga66', 'ga67', 'ga68', 'ga69', 'ga70', 'ga71', 'ga72', 'ga73', 'ga74', 'ga75', 'ga76', 'ga77', 'ga78', 'ga79', 'ga80', 'ga81', 'ga82', 'ga83', 'ga84', 'ga85', 'ga86', 'ga87', 'ga88', 'ga89', 'ga90', 'ga91', 'ga92', 'ga93', 'ga94', 'ga95', 'ga96', 'ga97', 'ga98', 'ga99', 'gb00', 'gb01', 'gb02', 'gb03', 'gb04', 'gb05', 'gb06', 'gb07', 'gb08', 'gb09', 'gb10', 'gb11', 'gb12', 'gb13', 'gb14', 'gb15', 'gb16', 'gb17', 'gb18', 'gb19', 'gb20', 'gb21', 'gb22', 'gb23', 'gb24', 'gb25', 'gb26', 'gb27', 'gb28', 'gb29', 'gb30', 'gb31', 'gb32', 'gb33', 'gb34', 'gb35', 'gb36', 'gb37', 'gb38', 'gb39', 'gb40', 'gb41', 'gb42', 'gb43', 'gb44', 'gb45', 'gb46', 'gb47', 'gb48', 'gb49', 'gb50', 'gb51', 'gb52', 'gb53', 'gb54', 'gb55', 'gb56', 'gb57', 'gb58', 'gb59', 'gb60', 'gb61', 'gb62', 'gb63', 'gb64', 'gb65', 'gb66', 'gb67', 'gb68', 'gb69', 'gb70', 'gb71', 'gb72', 'gb73', 'gb74', 'gb75', 'gb76', 'gb77', 'gb78', 'gb79', 'gb80', 'gb81', 'gb82', 'gb83', 'gb84', 'gb85', 'gb86', 'gb87', 'gb88', 'gb89', 'gb90', 'gb91', 'gb92', 'gb93', 'gb94', 'gb95', 'gb96', 'gb97', 'gb98', 'gb99', 'gc00', 'gc01', 'gc02', 'gc03', 'gc04', 'gc05', 'gc06', 'gc07', 'gc08', 'gc09', 'gc10', 'gc11', 'gc12', 'gc13', 'gc14', 'gc15', 'gc16', 'gc17', 'gc18', 'gc19', 'gc20', 'gc21', 'gc22', 'gc23', 'gc24', 'gc25', 'gc26', 'gc27', 'gc28', 'gc29', 'gc30', 'gc31', 'gc32', 'gc33', 'gc34', 'gc35', 'gc36', 'gc37', 'gc38', 'gc39', 'gc40', 'gc41', 'gc42', 'gc43', 'gc44', 'gc45', 'gc46', 'gc47', 'gc48', 'gc49', 'gc50', 'gc51', 'gc52', 'gc53', 'gc54', 'gc55', 'gc56', 'gc57', 'gc58', 'gc59', 'gc60', 'gc61', 'gc62', 'gc63', 'gc64', 'gc65', 'gc66', 'gc67', 'gc68', 'gc69', 'gc70', 'gc71', 'gc72', 'gc73', 'gc74', 'gc75', 'gc76', 'gc77', 'gc78', 'gc79', 'gc80', 'gc81', 'gc82', 'gc83', 'gc84', 'gc85', 'gc86', 'gc87', 'gc88', 'gc89', 'gc90', 'gc91', 'gc92', 'gc93', 'gc94', 'gc95', 'gc96', 'gc97', 'gc98', 'gc99', 'gd00', 'gd01', 'gd02', 'gd03', 'gd04', 'gd05', 'gd06', 'gd07', 'gd08', 'gd09', 'gd10', 'gd11', 'gd12', 'gd13', 'gd14', 'gd15', 'gd16', 'gd17', 'gd18', 'gd19', 'gd20', 'gd21', 'gd22', 'gd23', 'gd24', 'gd25', 'gd26', 'gd27', 'gd28', 'gd29', 'gd30', 'gd31', 'gd32', 'gd33', 'gd34', 'gd35', 'gd36', 'gd37', 'gd38', 'gd39', 'gd40', 'gd41', 'gd42', 'gd43', 'gd44', 'gd45', 'gd46', 'gd47', 'gd48', 'gd49', 'gd50', 'gd51', 'gd52', 'gd53', 'gd54', 'gd55', 'gd56', 'gd57', 'gd58', 'gd59', 'gd60', 'gd61', 'gd62', 'gd63', 'gd64', 'gd65', 'gd66', 'gd67', 'gd68', 'gd69', 'gd70', 'gd71', 'gd72', 'gd73', 'gd74', 'gd75', 'gd76', 'gd77', 'gd78', 'gd79', 'gd80', 'gd81', 'gd82', 'gd83', 'gd84', 'gd85', 'gd86', 'gd87', 'gd88', 'gd89', 'gd90', 'gd91', 'gd92', 'gd93', 'gd94', 'gd95', 'gd96', 'gd97', 'gd98', 'gd99', 'ge00', 'ge01', 'ge02', 'ge03', 'ge04', 'ge05', 'ge06', 'ge07', 'ge08', 'ge09', 'ge10', 'ge11', 'ge12', 'ge13', 'ge14', 'ge15', 'ge16', 'ge17', 'ge18', 'ge19', 'ge20', 'ge21', 'ge22', 'ge23', 'ge24', 'ge25', 'ge26', 'ge27', 'ge28', 'ge29', 'ge30', 'ge31', 'ge32', 'ge33', 'ge34', 'ge35', 'ge36', 'ge37', 'ge38', 'ge39', 'ge40', 'ge41', 'ge42', 'ge43', 'ge44', 'ge45', 'ge46', 'ge47', 'ge48', 'ge49', 'ge50', 'ge51', 'ge52', 'ge53', 'ge54', 'ge55', 'ge56', 'ge57', 'ge58', 'ge59', 'ge60', 'ge61', 'ge62', 'ge63', 'ge64', 'ge65', 'ge66', 'ge67', 'ge68', 'ge69', 'ge70', 'ge71', 'ge72', 'ge73', 'ge74', 'ge75', 'ge76', 'ge77', 'ge78', 'ge79', 'ge80', 'ge81', 'ge82', 'ge83', 'ge84', 'ge85', 'ge86', 'ge87', 'ge88', 'ge89', 'ge90', 'ge91', 'ge92', 'ge93', 'ge94', 'ge95', 'ge96', 'ge97', 'ge98', 'ge99', 'gf00', 'gf01', 'gf02', 'gf03', 'gf04', 'gf05', 'gf06', 'gf07', 'gf08', 'gf09', 'gf10', 'gf11', 'gf12', 'gf13', 'gf14', 'gf15', 'gf16', 'gf17', 'gf18', 'gf19', 'gf20', 'gf21', 'gf22', 'gf23', 'gf24', 'gf25', 'gf26', 'gf27', 'gf28', 'gf29', 'gf30', 'gf31', 'gf32', 'gf33', 'gf34', 'gf35', 'gf36', 'gf37', 'gf38', 'gf39', 'gf40', 'gf41', 'gf42', 'gf43', 'gf44', 'gf45', 'gf46', 'gf47', 'gf48', 'gf49', 'gf50', 'gf51', 'gf52', 'gf53', 'gf54', 'gf55', 'gf56', 'gf57', 'gf58', 'gf59', 'gf60', 'gf61', 'gf62', 'gf63', 'gf64', 'gf65', 'gf66', 'gf67', 'gf68', 'gf69', 'gf70', 'gf71', 'gf72', 'gf73', 'gf74', 'gf75', 'gf76', 'gf77', 'gf78', 'gf79', 'gf80', 'gf81', 'gf82', 'gf83', 'gf84', 'gf85', 'gf86', 'gf87', 'gf88', 'gf89', 'gf90', 'gf91', 'gf92', 'gf93', 'gf94', 'gf95', 'gf96', 'gf97', 'gf98', 'gf99', 'gg00', 'gg01', 'gg02', 'gg03', 'gg04', 'gg05', 'gg06', 'gg07', 'gg08', 'gg09', 'gg10', 'gg11', 'gg12', 'gg13', 'gg14', 'gg15', 'gg16', 'gg17', 'gg18', 'gg19', 'gg20', 'gg21', 'gg22', 'gg23', 'gg24', 'gg25', 'gg26', 'gg27', 'gg28', 'gg29', 'gg30', 'gg31', 'gg32', 'gg33', 'gg34', 'gg35', 'gg36', 'gg37', 'gg38', 'gg39', 'gg40', 'gg41', 'gg42', 'gg43', 'gg44', 'gg45', 'gg46', 'gg47', 'gg48', 'gg49', 'gg50', 'gg51', 'gg52', 'gg53', 'gg54', 'gg55', 'gg56', 'gg57', 'gg58', 'gg59', 'gg60', 'gg61', 'gg62', 'gg63', 'gg64', 'gg65', 'gg66', 'gg67', 'gg68', 'gg69', 'gg70', 'gg71', 'gg72', 'gg73', 'gg74', 'gg75', 'gg76', 'gg77', 'gg78', 'gg79', 'gg80', 'gg81', 'gg82', 'gg83', 'gg84', 'gg85', 'gg86', 'gg87', 'gg88', 'gg89', 'gg90', 'gg91', 'gg92', 'gg93', 'gg94', 'gg95', 'gg96', 'gg97', 'gg98', 'gg99', 'gh00', 'gh01', 'gh02', 'gh03', 'gh04', 'gh05', 'gh06', 'gh07', 'gh08', 'gh09', 'gh10', 'gh11', 'gh12', 'gh13', 'gh14', 'gh15', 'gh16', 'gh17', 'gh18', 'gh19', 'gh20', 'gh21', 'gh22', 'gh23', 'gh24', 'gh25', 'gh26', 'gh27', 'gh28', 'gh29', 'gh30', 'gh31', 'gh32', 'gh33', 'gh34', 'gh35', 'gh36', 'gh37', 'gh38', 'gh39', 'gh40', 'gh41', 'gh42', 'gh43', 'gh44', 'gh45', 'gh46', 'gh47', 'gh48', 'gh49', 'gh50', 'gh51', 'gh52', 'gh53', 'gh54', 'gh55', 'gh56', 'gh57', 'gh58', 'gh59', 'gh60', 'gh61', 'gh62', 'gh63', 'gh64', 'gh65', 'gh66', 'gh67', 'gh68', 'gh69', 'gh70', 'gh71', 'gh72', 'gh73', 'gh74', 'gh75', 'gh76', 'gh77', 'gh78', 'gh79', 'gh80', 'gh81', 'gh82', 'gh83', 'gh84', 'gh85', 'gh86', 'gh87', 'gh88', 'gh89', 'gh90', 'gh91', 'gh92', 'gh93', 'gh94', 'gh95', 'gh96', 'gh97', 'gh98', 'gh99', 'gi00', 'gi01', 'gi02', 'gi03', 'gi04', 'gi05', 'gi06', 'gi07', 'gi08', 'gi09', 'gi10', 'gi11', 'gi12', 'gi13', 'gi14', 'gi15', 'gi16', 'gi17', 'gi18', 'gi19', 'gi20', 'gi21', 'gi22', 'gi23', 'gi24', 'gi25', 'gi26', 'gi27', 'gi28', 'gi29', 'gi30', 'gi31', 'gi32', 'gi33', 'gi34', 'gi35', 'gi36', 'gi37', 'gi38', 'gi39', 'gi40', 'gi41', 'gi42', 'gi43', 'gi44', 'gi45', 'gi46', 'gi47', 'gi48', 'gi49', 'gi50', 'gi51', 'gi52', 'gi53', 'gi54', 'gi55', 'gi56', 'gi57', 'gi58', 'gi59', 'gi60', 'gi61', 'gi62', 'gi63', 'gi64', 'gi65', 'gi66', 'gi67', 'gi68', 'gi69', 'gi70', 'gi71', 'gi72', 'gi73', 'gi74', 'gi75', 'gi76', 'gi77', 'gi78', 'gi79', 'gi80', 'gi81', 'gi82', 'gi83', 'gi84', 'gi85', 'gi86', 'gi87', 'gi88', 'gi89', 'gi90', 'gi91', 'gi92', 'gi93', 'gi94', 'gi95', 'gi96', 'gi97', 'gi98', 'gi99', 'gj00', 'gj01', 'gj02', 'gj03', 'gj04', 'gj05', 'gj06', 'gj07', 'gj08', 'gj09', 'gj10', 'gj11', 'gj12', 'gj13', 'gj14', 'gj15', 'gj16', 'gj17', 'gj18', 'gj19', 'gj20', 'gj21', 'gj22', 'gj23', 'gj24', 'gj25', 'gj26', 'gj27', 'gj28', 'gj29', 'gj30', 'gj31', 'gj32', 'gj33', 'gj34', 'gj35', 'gj36', 'gj37', 'gj38', 'gj39', 'gj40', 'gj41', 'gj42', 'gj43', 'gj44', 'gj45', 'gj46', 'gj47', 'gj48', 'gj49', 'gj50', 'gj51', 'gj52', 'gj53', 'gj54', 'gj55', 'gj56', 'gj57', 'gj58', 'gj59', 'gj60', 'gj61', 'gj62', 'gj63', 'gj64', 'gj65', 'gj66', 'gj67', 'gj68', 'gj69', 'gj70', 'gj71', 'gj72', 'gj73', 'gj74', 'gj75', 'gj76', 'gj77', 'gj78', 'gj79', 'gj80', 'gj81', 'gj82', 'gj83', 'gj84', 'gj85', 'gj86', 'gj87', 'gj88', 'gj89', 'gj90', 'gj91', 'gj92', 'gj93', 'gj94', 'gj95', 'gj96', 'gj97', 'gj98', 'gj99', 'gk00', 'gk01', 'gk02', 'gk03', 'gk04', 'gk05', 'gk06', 'gk07', 'gk08', 'gk09', 'gk10', 'gk11', 'gk12', 'gk13', 'gk14', 'gk15', 'gk16', 'gk17', 'gk18', 'gk19', 'gk20', 'gk21', 'gk22', 'gk23', 'gk24', 'gk25', 'gk26', 'gk27', 'gk28', 'gk29', 'gk30', 'gk31', 'gk32', 'gk33', 'gk34', 'gk35', 'gk36', 'gk37', 'gk38', 'gk39', 'gk40', 'gk41', 'gk42', 'gk43', 'gk44', 'gk45', 'gk46', 'gk47', 'gk48', 'gk49', 'gk50', 'gk51', 'gk52', 'gk53', 'gk54', 'gk55', 'gk56', 'gk57', 'gk58', 'gk59', 'gk60', 'gk61', 'gk62', 'gk63', 'gk64', 'gk65', 'gk66', 'gk67', 'gk68', 'gk69', 'gk70', 'gk71', 'gk72', 'gk73', 'gk74', 'gk75', 'gk76', 'gk77', 'gk78', 'gk79', 'gk80', 'gk81', 'gk82', 'gk83', 'gk84', 'gk85', 'gk86', 'gk87', 'gk88', 'gk89', 'gk90', 'gk91', 'gk92', 'gk93', 'gk94', 'gk95', 'gk96', 'gk97', 'gk98', 'gk99', 'gl00', 'gl01', 'gl02', 'gl03', 'gl04', 'gl05', 'gl06', 'gl07', 'gl08', 'gl09', 'gl10', 'gl11', 'gl12', 'gl13', 'gl14', 'gl15', 'gl16', 'gl17', 'gl18', 'gl19', 'gl20', 'gl21', 'gl22', 'gl23', 'gl24', 'gl25', 'gl26', 'gl27', 'gl28', 'gl29', 'gl30', 'gl31', 'gl32', 'gl33', 'gl34', 'gl35', 'gl36', 'gl37', 'gl38', 'gl39', 'gl40', 'gl41', 'gl42', 'gl43', 'gl44', 'gl45', 'gl46', 'gl47', 'gl48', 'gl49', 'gl50', 'gl51', 'gl52', 'gl53', 'gl54', 'gl55', 'gl56', 'gl57', 'gl58', 'gl59', 'gl60', 'gl61', 'gl62', 'gl63', 'gl64', 'gl65', 'gl66', 'gl67', 'gl68', 'gl69', 'gl70', 'gl71', 'gl72', 'gl73', 'gl74', 'gl75', 'gl76', 'gl77', 'gl78', 'gl79', 'gl80', 'gl81', 'gl82', 'gl83', 'gl84', 'gl85', 'gl86', 'gl87', 'gl88', 'gl89', 'gl90', 'gl91', 'gl92', 'gl93', 'gl94', 'gl95', 'gl96', 'gl97', 'gl98', 'gl99', 'gm00', 'gm01', 'gm02', 'gm03', 'gm04', 'gm05', 'gm06', 'gm07', 'gm08', 'gm09', 'gm10', 'gm11', 'gm12', 'gm13', 'gm14', 'gm15', 'gm16', 'gm17', 'gm18', 'gm19', 'gm20', 'gm21', 'gm22', 'gm23', 'gm24', 'gm25', 'gm26', 'gm27', 'gm28', 'gm29', 'gm30', 'gm31', 'gm32', 'gm33', 'gm34', 'gm35', 'gm36', 'gm37', 'gm38', 'gm39', 'gm40', 'gm41', 'gm42', 'gm43', 'gm44', 'gm45', 'gm46', 'gm47', 'gm48', 'gm49', 'gm50', 'gm51', 'gm52', 'gm53', 'gm54', 'gm55', 'gm56', 'gm57', 'gm58', 'gm59', 'gm60', 'gm61', 'gm62', 'gm63', 'gm64', 'gm65', 'gm66', 'gm67', 'gm68', 'gm69', 'gm70', 'gm71', 'gm72', 'gm73', 'gm74', 'gm75', 'gm76', 'gm77', 'gm78', 'gm79', 'gm80', 'gm81', 'gm82', 'gm83', 'gm84', 'gm85', 'gm86', 'gm87', 'gm88', 'gm89', 'gm90', 'gm91', 'gm92', 'gm93', 'gm94', 'gm95', 'gm96', 'gm97', 'gm98', 'gm99', 'gn00', 'gn01', 'gn02', 'gn03', 'gn04', 'gn05', 'gn06', 'gn07', 'gn08', 'gn09', 'gn10', 'gn11', 'gn12', 'gn13', 'gn14', 'gn15', 'gn16', 'gn17', 'gn18', 'gn19', 'gn20', 'gn21', 'gn22', 'gn23', 'gn24', 'gn25', 'gn26', 'gn27', 'gn28', 'gn29', 'gn30', 'gn31', 'gn32', 'gn33', 'gn34', 'gn35', 'gn36', 'gn37', 'gn38', 'gn39', 'gn40', 'gn41', 'gn42', 'gn43', 'gn44', 'gn45', 'gn46', 'gn47', 'gn48', 'gn49', 'gn50', 'gn51', 'gn52', 'gn53', 'gn54', 'gn55', 'gn56', 'gn57', 'gn58', 'gn59', 'gn60', 'gn61', 'gn62', 'gn63', 'gn64', 'gn65', 'gn66', 'gn67', 'gn68', 'gn69', 'gn70', 'gn71', 'gn72', 'gn73', 'gn74', 'gn75', 'gn76', 'gn77', 'gn78', 'gn79', 'gn80', 'gn81', 'gn82', 'gn83', 'gn84', 'gn85', 'gn86', 'gn87', 'gn88', 'gn89', 'gn90', 'gn91', 'gn92', 'gn93', 'gn94', 'gn95', 'gn96', 'gn97', 'gn98', 'gn99', 'go00', 'go01', 'go02', 'go03', 'go04', 'go05', 'go06', 'go07', 'go08', 'go09', 'go10', 'go11', 'go12', 'go13', 'go14', 'go15', 'go16', 'go17', 'go18', 'go19', 'go20', 'go21', 'go22', 'go23', 'go24', 'go25', 'go26', 'go27', 'go28', 'go29', 'go30', 'go31', 'go32', 'go33', 'go34', 'go35', 'go36', 'go37', 'go38', 'go39', 'go40', 'go41', 'go42', 'go43', 'go44', 'go45', 'go46', 'go47', 'go48', 'go49', 'go50', 'go51', 'go52', 'go53', 'go54', 'go55', 'go56', 'go57', 'go58', 'go59', 'go60', 'go61', 'go62', 'go63', 'go64', 'go65', 'go66', 'go67', 'go68', 'go69', 'go70', 'go71', 'go72', 'go73', 'go74', 'go75', 'go76', 'go77', 'go78', 'go79', 'go80', 'go81', 'go82', 'go83', 'go84', 'go85', 'go86', 'go87', 'go88', 'go89', 'go90', 'go91', 'go92', 'go93', 'go94', 'go95', 'go96', 'go97', 'go98', 'go99', 'gp00', 'gp01', 'gp02', 'gp03', 'gp04', 'gp05', 'gp06', 'gp07', 'gp08', 'gp09', 'gp10', 'gp11', 'gp12', 'gp13', 'gp14', 'gp15', 'gp16', 'gp17', 'gp18', 'gp19', 'gp20', 'gp21', 'gp22', 'gp23', 'gp24', 'gp25', 'gp26', 'gp27', 'gp28', 'gp29', 'gp30', 'gp31', 'gp32', 'gp33', 'gp34', 'gp35', 'gp36', 'gp37', 'gp38', 'gp39', 'gp40', 'gp41', 'gp42', 'gp43', 'gp44', 'gp45', 'gp46', 'gp47', 'gp48', 'gp49', 'gp50', 'gp51', 'gp52', 'gp53', 'gp54', 'gp55', 'gp56', 'gp57', 'gp58', 'gp59', 'gp60', 'gp61', 'gp62', 'gp63', 'gp64', 'gp65', 'gp66', 'gp67', 'gp68', 'gp69', 'gp70', 'gp71', 'gp72', 'gp73', 'gp74', 'gp75', 'gp76', 'gp77', 'gp78', 'gp79', 'gp80', 'gp81', 'gp82', 'gp83', 'gp84', 'gp85', 'gp86', 'gp87', 'gp88', 'gp89', 'gp90', 'gp91', 'gp92', 'gp93', 'gp94', 'gp95', 'gp96', 'gp97', 'gp98', 'gp99', 'gq00', 'gq01', 'gq02', 'gq03', 'gq04', 'gq05', 'gq06', 'gq07', 'gq08', 'gq09', 'gq10', 'gq11', 'gq12', 'gq13', 'gq14', 'gq15', 'gq16', 'gq17', 'gq18', 'gq19', 'gq20', 'gq21', 'gq22', 'gq23', 'gq24', 'gq25', 'gq26', 'gq27', 'gq28', 'gq29', 'gq30', 'gq31', 'gq32', 'gq33', 'gq34', 'gq35', 'gq36', 'gq37', 'gq38', 'gq39', 'gq40', 'gq41', 'gq42', 'gq43', 'gq44', 'gq45', 'gq46', 'gq47', 'gq48', 'gq49', 'gq50', 'gq51', 'gq52', 'gq53', 'gq54', 'gq55', 'gq56', 'gq57', 'gq58', 'gq59', 'gq60', 'gq61', 'gq62', 'gq63', 'gq64', 'gq65', 'gq66', 'gq67', 'gq68', 'gq69', 'gq70', 'gq71', 'gq72', 'gq73', 'gq74', 'gq75', 'gq76', 'gq77', 'gq78', 'gq79', 'gq80', 'gq81', 'gq82', 'gq83', 'gq84', 'gq85', 'gq86', 'gq87', 'gq88', 'gq89', 'gq90', 'gq91', 'gq92', 'gq93', 'gq94', 'gq95', 'gq96', 'gq97', 'gq98', 'gq99', 'gr00', 'gr01', 'gr02', 'gr03', 'gr04', 'gr05', 'gr06', 'gr07', 'gr08', 'gr09', 'gr10', 'gr11', 'gr12', 'gr13', 'gr14', 'gr15', 'gr16', 'gr17', 'gr18', 'gr19', 'gr20', 'gr21', 'gr22', 'gr23', 'gr24', 'gr25', 'gr26', 'gr27', 'gr28', 'gr29', 'gr30', 'gr31', 'gr32', 'gr33', 'gr34', 'gr35', 'gr36', 'gr37', 'gr38', 'gr39', 'gr40', 'gr41', 'gr42', 'gr43', 'gr44', 'gr45', 'gr46', 'gr47', 'gr48', 'gr49', 'gr50', 'gr51', 'gr52', 'gr53', 'gr54', 'gr55', 'gr56', 'gr57', 'gr58', 'gr59', 'gr60', 'gr61', 'gr62', 'gr63', 'gr64', 'gr65', 'gr66', 'gr67', 'gr68', 'gr69', 'gr70', 'gr71', 'gr72', 'gr73', 'gr74', 'gr75', 'gr76', 'gr77', 'gr78', 'gr79', 'gr80', 'gr81', 'gr82', 'gr83', 'gr84', 'gr85', 'gr86', 'gr87', 'gr88', 'gr89', 'gr90', 'gr91', 'gr92', 'gr93', 'gr94', 'gr95', 'gr96', 'gr97', 'gr98', 'gr99', 'gs00', 'gs01', 'gs02', 'gs03', 'gs04', 'gs05', 'gs06', 'gs07', 'gs08', 'gs09', 'gs10', 'gs11', 'gs12', 'gs13', 'gs14', 'gs15', 'gs16', 'gs17', 'gs18', 'gs19', 'gs20', 'gs21', 'gs22', 'gs23', 'gs24', 'gs25', 'gs26', 'gs27', 'gs28', 'gs29', 'gs30', 'gs31', 'gs32', 'gs33', 'gs34', 'gs35', 'gs36', 'gs37', 'gs38', 'gs39', 'gs40', 'gs41', 'gs42', 'gs43', 'gs44', 'gs45', 'gs46', 'gs47', 'gs48', 'gs49', 'gs50', 'gs51', 'gs52', 'gs53', 'gs54', 'gs55', 'gs56', 'gs57', 'gs58', 'gs59', 'gs60', 'gs61', 'gs62', 'gs63', 'gs64', 'gs65', 'gs66', 'gs67', 'gs68', 'gs69', 'gs70', 'gs71', 'gs72', 'gs73', 'gs74', 'gs75', 'gs76', 'gs77', 'gs78', 'gs79', 'gs80', 'gs81', 'gs82', 'gs83', 'gs84', 'gs85', 'gs86', 'gs87', 'gs88', 'gs89', 'gs90', 'gs91', 'gs92', 'gs93', 'gs94', 'gs95', 'gs96', 'gs97', 'gs98', 'gs99', 'gt00', 'gt01', 'gt02', 'gt03', 'gt04', 'gt05', 'gt06', 'gt07', 'gt08', 'gt09', 'gt10', 'gt11', 'gt12', 'gt13', 'gt14', 'gt15', 'gt16', 'gt17', 'gt18', 'gt19', 'gt20', 'gt21', 'gt22', 'gt23', 'gt24', 'gt25', 'gt26', 'gt27', 'gt28', 'gt29', 'gt30', 'gt31', 'gt32', 'gt33', 'gt34', 'gt35', 'gt36', 'gt37', 'gt38', 'gt39', 'gt40', 'gt41', 'gt42', 'gt43', 'gt44', 'gt45', 'gt46', 'gt47', 'gt48', 'gt49', 'gt50', 'gt51', 'gt52', 'gt53', 'gt54', 'gt55', 'gt56', 'gt57', 'gt58', 'gt59', 'gt60', 'gt61', 'gt62', 'gt63', 'gt64', 'gt65', 'gt66', 'gt67', 'gt68', 'gt69', 'gt70', 'gt71', 'gt72', 'gt73', 'gt74', 'gt75', 'gt76', 'gt77', 'gt78', 'gt79', 'gt80', 'gt81', 'gt82', 'gt83', 'gt84', 'gt85', 'gt86', 'gt87', 'gt88', 'gt89', 'gt90', 'gt91', 'gt92', 'gt93', 'gt94', 'gt95', 'gt96', 'gt97', 'gt98', 'gt99', 'gu00', 'gu01', 'gu02', 'gu03', 'gu04', 'gu05', 'gu06', 'gu07', 'gu08', 'gu09', 'gu10', 'gu11', 'gu12', 'gu13', 'gu14', 'gu15', 'gu16', 'gu17', 'gu18', 'gu19', 'gu20', 'gu21', 'gu22', 'gu23', 'gu24', 'gu25', 'gu26', 'gu27', 'gu28', 'gu29', 'gu30', 'gu31', 'gu32', 'gu33', 'gu34', 'gu35', 'gu36', 'gu37', 'gu38', 'gu39', 'gu40', 'gu41', 'gu42', 'gu43', 'gu44', 'gu45', 'gu46', 'gu47', 'gu48', 'gu49', 'gu50', 'gu51', 'gu52', 'gu53', 'gu54', 'gu55', 'gu56', 'gu57', 'gu58', 'gu59', 'gu60', 'gu61', 'gu62', 'gu63', 'gu64', 'gu65', 'gu66', 'gu67', 'gu68', 'gu69', 'gu70', 'gu71', 'gu72', 'gu73', 'gu74', 'gu75', 'gu76', 'gu77', 'gu78', 'gu79', 'gu80', 'gu81', 'gu82', 'gu83', 'gu84', 'gu85', 'gu86', 'gu87', 'gu88', 'gu89', 'gu90', 'gu91', 'gu92', 'gu93', 'gu94', 'gu95', 'gu96', 'gu97', 'gu98', 'gu99', 'gv00', 'gv01', 'gv02', 'gv03', 'gv04', 'gv05', 'gv06', 'gv07', 'gv08', 'gv09', 'gv10', 'gv11', 'gv12', 'gv13', 'gv14', 'gv15', 'gv16', 'gv17', 'gv18', 'gv19', 'gv20', 'gv21', 'gv22', 'gv23', 'gv24', 'gv25', 'gv26', 'gv27', 'gv28', 'gv29', 'gv30', 'gv31', 'gv32', 'gv33', 'gv34', 'gv35', 'gv36', 'gv37', 'gv38', 'gv39', 'gv40', 'gv41', 'gv42', 'gv43', 'gv44', 'gv45', 'gv46', 'gv47', 'gv48', 'gv49', 'gv50', 'gv51', 'gv52', 'gv53', 'gv54', 'gv55', 'gv56', 'gv57', 'gv58', 'gv59', 'gv60', 'gv61', 'gv62', 'gv63', 'gv64', 'gv65', 'gv66', 'gv67', 'gv68', 'gv69', 'gv70', 'gv71', 'gv72', 'gv73', 'gv74', 'gv75', 'gv76', 'gv77', 'gv78', 'gv79', 'gv80', 'gv81', 'gv82', 'gv83', 'gv84', 'gv85', 'gv86', 'gv87', 'gv88', 'gv89', 'gv90', 'gv91', 'gv92', 'gv93', 'gv94', 'gv95', 'gv96', 'gv97', 'gv98', 'gv99', 'gw00', 'gw01', 'gw02', 'gw03', 'gw04', 'gw05', 'gw06', 'gw07', 'gw08', 'gw09', 'gw10', 'gw11', 'gw12', 'gw13', 'gw14', 'gw15', 'gw16', 'gw17', 'gw18', 'gw19', 'gw20', 'gw21', 'gw22', 'gw23', 'gw24', 'gw25', 'gw26', 'gw27', 'gw28', 'gw29', 'gw30', 'gw31', 'gw32', 'gw33', 'gw34', 'gw35', 'gw36', 'gw37', 'gw38', 'gw39', 'gw40', 'gw41', 'gw42', 'gw43', 'gw44', 'gw45', 'gw46', 'gw47', 'gw48', 'gw49', 'gw50', 'gw51', 'gw52', 'gw53', 'gw54', 'gw55', 'gw56', 'gw57', 'gw58', 'gw59', 'gw60', 'gw61', 'gw62', 'gw63', 'gw64', 'gw65', 'gw66', 'gw67', 'gw68', 'gw69', 'gw70', 'gw71', 'gw72', 'gw73', 'gw74', 'gw75', 'gw76', 'gw77', 'gw78', 'gw79', 'gw80', 'gw81', 'gw82', 'gw83', 'gw84', 'gw85', 'gw86', 'gw87', 'gw88', 'gw89', 'gw90', 'gw91', 'gw92', 'gw93', 'gw94', 'gw95', 'gw96', 'gw97', 'gw98', 'gw99', 'gx00', 'gx01', 'gx02', 'gx03', 'gx04', 'gx05', 'gx06', 'gx07', 'gx08', 'gx09', 'gx10', 'gx11', 'gx12', 'gx13', 'gx14', 'gx15', 'gx16', 'gx17', 'gx18', 'gx19', 'gx20', 'gx21', 'gx22', 'gx23', 'gx24', 'gx25', 'gx26', 'gx27', 'gx28', 'gx29', 'gx30', 'gx31', 'gx32', 'gx33', 'gx34', 'gx35', 'gx36', 'gx37', 'gx38', 'gx39', 'gx40', 'gx41', 'gx42', 'gx43', 'gx44', 'gx45', 'gx46', 'gx47', 'gx48', 'gx49', 'gx50', 'gx51', 'gx52', 'gx53', 'gx54', 'gx55', 'gx56', 'gx57', 'gx58', 'gx59', 'gx60', 'gx61', 'gx62', 'gx63', 'gx64', 'gx65', 'gx66', 'gx67', 'gx68', 'gx69', 'gx70', 'gx71', 'gx72', 'gx73', 'gx74', 'gx75', 'gx76', 'gx77', 'gx78', 'gx79', 'gx80', 'gx81', 'gx82', 'gx83', 'gx84', 'gx85', 'gx86', 'gx87', 'gx88', 'gx89', 'gx90', 'gx91', 'gx92', 'gx93', 'gx94', 'gx95', 'gx96', 'gx97', 'gx98', 'gx99', 'gy00', 'gy01', 'gy02', 'gy03', 'gy04', 'gy05', 'gy06', 'gy07', 'gy08', 'gy09', 'gy10', 'gy11', 'gy12', 'gy13', 'gy14', 'gy15', 'gy16', 'gy17', 'gy18', 'gy19', 'gy20', 'gy21', 'gy22', 'gy23', 'gy24', 'gy25', 'gy26', 'gy27', 'gy28', 'gy29', 'gy30', 'gy31', 'gy32', 'gy33', 'gy34', 'gy35', 'gy36', 'gy37', 'gy38', 'gy39', 'gy40', 'gy41', 'gy42', 'gy43', 'gy44', 'gy45', 'gy46', 'gy47', 'gy48', 'gy49', 'gy50', 'gy51', 'gy52', 'gy53', 'gy54', 'gy55', 'gy56', 'gy57', 'gy58', 'gy59', 'gy60', 'gy61', 'gy62', 'gy63', 'gy64', 'gy65', 'gy66', 'gy67', 'gy68', 'gy69', 'gy70', 'gy71', 'gy72', 'gy73', 'gy74', 'gy75', 'gy76', 'gy77', 'gy78', 'gy79', 'gy80', 'gy81', 'gy82', 'gy83', 'gy84', 'gy85', 'gy86', 'gy87', 'gy88', 'gy89', 'gy90', 'gy91', 'gy92', 'gy93', 'gy94', 'gy95', 'gy96', 'gy97', 'gy98', 'gy99', 'gz00', 'gz01', 'gz02', 'gz03', 'gz04', 'gz05', 'gz06', 'gz07', 'gz08', 'gz09', 'gz10', 'gz11', 'gz12', 'gz13', 'gz14', 'gz15', 'gz16', 'gz17', 'gz18', 'gz19', 'gz20', 'gz21', 'gz22', 'gz23', 'gz24', 'gz25', 'gz26', 'gz27', 'gz28', 'gz29', 'gz30', 'gz31', 'gz32', 'gz33', 'gz34', 'gz35', 'gz36', 'gz37', 'gz38', 'gz39', 'gz40', 'gz41', 'gz42', 'gz43', 'gz44', 'gz45', 'gz46', 'gz47', 'gz48', 'gz49', 'gz50', 'gz51', 'gz52', 'gz53', 'gz54', 'gz55', 'gz56', 'gz57', 'gz58', 'gz59', 'gz60', 'gz61', 'gz62', 'gz63', 'gz64', 'gz65', 'gz66', 'gz67', 'gz68', 'gz69', 'gz70', 'gz71', 'gz72', 'gz73', 'gz74', 'gz75', 'gz76', 'gz77', 'gz78', 'gz79', 'gz80', 'gz81', 'gz82', 'gz83', 'gz84', 'gz85', 'gz86', 'gz87', 'gz88', 'gz89', 'gz90', 'gz91', 'gz92', 'gz93', 'gz94', 'gz95', 'gz96', 'gz97', 'gz98', 'gz99', 'ha00', 'ha01', 'ha02', 'ha03', 'ha04', 'ha05', 'ha06', 'ha07', 'ha08', 'ha09', 'ha10', 'ha11', 'ha12', 'ha13', 'ha14', 'ha15', 'ha16', 'ha17', 'ha18', 'ha19', 'ha20', 'ha21', 'ha22', 'ha23', 'ha24', 'ha25', 'ha26', 'ha27', 'ha28', 'ha29', 'ha30', 'ha31', 'ha32', 'ha33', 'ha34', 'ha35', 'ha36', 'ha37', 'ha38', 'ha39', 'ha40', 'ha41', 'ha42', 'ha43', 'ha44', 'ha45', 'ha46', 'ha47', 'ha48', 'ha49', 'ha50', 'ha51', 'ha52', 'ha53', 'ha54', 'ha55', 'ha56', 'ha57', 'ha58', 'ha59', 'ha60', 'ha61', 'ha62', 'ha63', 'ha64', 'ha65', 'ha66', 'ha67', 'ha68', 'ha69', 'ha70', 'ha71', 'ha72', 'ha73', 'ha74', 'ha75', 'ha76', 'ha77', 'ha78', 'ha79', 'ha80', 'ha81', 'ha82', 'ha83', 'ha84', 'ha85', 'ha86', 'ha87', 'ha88', 'ha89', 'ha90', 'ha91', 'ha92', 'ha93', 'ha94', 'ha95', 'ha96', 'ha97', 'ha98', 'ha99', 'hb00', 'hb01', 'hb02', 'hb03', 'hb04', 'hb05', 'hb06', 'hb07', 'hb08', 'hb09', 'hb10', 'hb11', 'hb12', 'hb13', 'hb14', 'hb15', 'hb16', 'hb17', 'hb18', 'hb19', 'hb20', 'hb21', 'hb22', 'hb23', 'hb24', 'hb25', 'hb26', 'hb27', 'hb28', 'hb29', 'hb30', 'hb31', 'hb32', 'hb33', 'hb34', 'hb35', 'hb36', 'hb37', 'hb38', 'hb39', 'hb40', 'hb41', 'hb42', 'hb43', 'hb44', 'hb45', 'hb46', 'hb47', 'hb48', 'hb49', 'hb50', 'hb51', 'hb52', 'hb53', 'hb54', 'hb55', 'hb56', 'hb57', 'hb58', 'hb59', 'hb60', 'hb61', 'hb62', 'hb63', 'hb64', 'hb65', 'hb66', 'hb67', 'hb68', 'hb69', 'hb70', 'hb71', 'hb72', 'hb73', 'hb74', 'hb75', 'hb76', 'hb77', 'hb78', 'hb79', 'hb80', 'hb81', 'hb82', 'hb83', 'hb84', 'hb85', 'hb86', 'hb87', 'hb88', 'hb89', 'hb90', 'hb91', 'hb92', 'hb93', 'hb94', 'hb95', 'hb96', 'hb97', 'hb98', 'hb99', 'hc00', 'hc01', 'hc02', 'hc03', 'hc04', 'hc05', 'hc06', 'hc07', 'hc08', 'hc09', 'hc10', 'hc11', 'hc12', 'hc13', 'hc14', 'hc15', 'hc16', 'hc17', 'hc18', 'hc19', 'hc20', 'hc21', 'hc22', 'hc23', 'hc24', 'hc25', 'hc26', 'hc27', 'hc28', 'hc29', 'hc30', 'hc31', 'hc32', 'hc33', 'hc34', 'hc35', 'hc36', 'hc37', 'hc38', 'hc39', 'hc40', 'hc41', 'hc42', 'hc43', 'hc44', 'hc45', 'hc46', 'hc47', 'hc48', 'hc49', 'hc50', 'hc51', 'hc52', 'hc53', 'hc54', 'hc55', 'hc56', 'hc57', 'hc58', 'hc59', 'hc60', 'hc61', 'hc62', 'hc63', 'hc64', 'hc65', 'hc66', 'hc67', 'hc68', 'hc69', 'hc70', 'hc71', 'hc72', 'hc73', 'hc74', 'hc75', 'hc76', 'hc77', 'hc78', 'hc79', 'hc80', 'hc81', 'hc82', 'hc83', 'hc84', 'hc85', 'hc86', 'hc87', 'hc88', 'hc89', 'hc90', 'hc91', 'hc92', 'hc93', 'hc94', 'hc95', 'hc96', 'hc97', 'hc98', 'hc99', 'hd00', 'hd01', 'hd02', 'hd03', 'hd04', 'hd05', 'hd06', 'hd07', 'hd08', 'hd09', 'hd10', 'hd11', 'hd12', 'hd13', 'hd14', 'hd15', 'hd16', 'hd17', 'hd18', 'hd19', 'hd20', 'hd21', 'hd22', 'hd23', 'hd24', 'hd25', 'hd26', 'hd27', 'hd28', 'hd29', 'hd30', 'hd31', 'hd32', 'hd33', 'hd34', 'hd35', 'hd36', 'hd37', 'hd38', 'hd39', 'hd40', 'hd41', 'hd42', 'hd43', 'hd44', 'hd45', 'hd46', 'hd47', 'hd48', 'hd49', 'hd50', 'hd51', 'hd52', 'hd53', 'hd54', 'hd55', 'hd56', 'hd57', 'hd58', 'hd59', 'hd60', 'hd61', 'hd62', 'hd63', 'hd64', 'hd65', 'hd66', 'hd67', 'hd68', 'hd69', 'hd70', 'hd71', 'hd72', 'hd73', 'hd74', 'hd75', 'hd76', 'hd77', 'hd78', 'hd79', 'hd80', 'hd81', 'hd82', 'hd83', 'hd84', 'hd85', 'hd86', 'hd87', 'hd88', 'hd89', 'hd90', 'hd91', 'hd92', 'hd93', 'hd94', 'hd95', 'hd96', 'hd97', 'hd98', 'hd99', 'he00', 'he01', 'he02', 'he03', 'he04', 'he05', 'he06', 'he07', 'he08', 'he09', 'he10', 'he11', 'he12', 'he13', 'he14', 'he15', 'he16', 'he17', 'he18', 'he19', 'he20', 'he21', 'he22', 'he23', 'he24', 'he25', 'he26', 'he27', 'he28', 'he29', 'he30', 'he31', 'he32', 'he33', 'he34', 'he35', 'he36', 'he37', 'he38', 'he39', 'he40', 'he41', 'he42', 'he43', 'he44', 'he45', 'he46', 'he47', 'he48', 'he49', 'he50', 'he51', 'he52', 'he53', 'he54', 'he55', 'he56', 'he57', 'he58', 'he59', 'he60', 'he61', 'he62', 'he63', 'he64', 'he65', 'he66', 'he67', 'he68', 'he69', 'he70', 'he71', 'he72', 'he73', 'he74', 'he75', 'he76', 'he77', 'he78', 'he79', 'he80', 'he81', 'he82', 'he83', 'he84', 'he85', 'he86', 'he87', 'he88', 'he89', 'he90', 'he91', 'he92', 'he93', 'he94', 'he95', 'he96', 'he97', 'he98', 'he99', 'hf00', 'hf01', 'hf02', 'hf03', 'hf04', 'hf05', 'hf06', 'hf07', 'hf08', 'hf09', 'hf10', 'hf11', 'hf12', 'hf13', 'hf14', 'hf15', 'hf16', 'hf17', 'hf18', 'hf19', 'hf20', 'hf21', 'hf22', 'hf23', 'hf24', 'hf25', 'hf26', 'hf27', 'hf28', 'hf29', 'hf30', 'hf31', 'hf32', 'hf33', 'hf34', 'hf35', 'hf36', 'hf37', 'hf38', 'hf39', 'hf40', 'hf41', 'hf42', 'hf43', 'hf44', 'hf45', 'hf46', 'hf47', 'hf48', 'hf49', 'hf50', 'hf51', 'hf52', 'hf53', 'hf54', 'hf55', 'hf56', 'hf57', 'hf58', 'hf59', 'hf60', 'hf61', 'hf62', 'hf63', 'hf64', 'hf65', 'hf66', 'hf67', 'hf68', 'hf69', 'hf70', 'hf71', 'hf72', 'hf73', 'hf74', 'hf75', 'hf76', 'hf77', 'hf78', 'hf79', 'hf80', 'hf81', 'hf82', 'hf83', 'hf84', 'hf85', 'hf86', 'hf87', 'hf88', 'hf89', 'hf90', 'hf91', 'hf92', 'hf93', 'hf94', 'hf95', 'hf96', 'hf97', 'hf98', 'hf99', 'hg00', 'hg01', 'hg02', 'hg03', 'hg04', 'hg05', 'hg06', 'hg07', 'hg08', 'hg09', 'hg10', 'hg11', 'hg12', 'hg13', 'hg14', 'hg15', 'hg16', 'hg17', 'hg18', 'hg19', 'hg20', 'hg21', 'hg22', 'hg23', 'hg24', 'hg25', 'hg26', 'hg27', 'hg28', 'hg29', 'hg30', 'hg31', 'hg32', 'hg33', 'hg34', 'hg35', 'hg36', 'hg37', 'hg38', 'hg39', 'hg40', 'hg41', 'hg42', 'hg43', 'hg44', 'hg45', 'hg46', 'hg47', 'hg48', 'hg49', 'hg50', 'hg51', 'hg52', 'hg53', 'hg54', 'hg55', 'hg56', 'hg57', 'hg58', 'hg59', 'hg60', 'hg61', 'hg62', 'hg63', 'hg64', 'hg65', 'hg66', 'hg67', 'hg68', 'hg69', 'hg70', 'hg71', 'hg72', 'hg73', 'hg74', 'hg75', 'hg76', 'hg77', 'hg78', 'hg79', 'hg80', 'hg81', 'hg82', 'hg83', 'hg84', 'hg85', 'hg86', 'hg87', 'hg88', 'hg89', 'hg90', 'hg91', 'hg92', 'hg93', 'hg94', 'hg95', 'hg96', 'hg97', 'hg98', 'hg99', 'hh00', 'hh01', 'hh02', 'hh03', 'hh04', 'hh05', 'hh06', 'hh07', 'hh08', 'hh09', 'hh10', 'hh11', 'hh12', 'hh13', 'hh14', 'hh15', 'hh16', 'hh17', 'hh18', 'hh19', 'hh20', 'hh21', 'hh22', 'hh23', 'hh24', 'hh25', 'hh26', 'hh27', 'hh28', 'hh29', 'hh30', 'hh31', 'hh32', 'hh33', 'hh34', 'hh35', 'hh36', 'hh37', 'hh38', 'hh39', 'hh40', 'hh41', 'hh42', 'hh43', 'hh44', 'hh45', 'hh46', 'hh47', 'hh48', 'hh49', 'hh50', 'hh51', 'hh52', 'hh53', 'hh54', 'hh55', 'hh56', 'hh57', 'hh58', 'hh59', 'hh60', 'hh61', 'hh62', 'hh63', 'hh64', 'hh65', 'hh66', 'hh67', 'hh68', 'hh69', 'hh70', 'hh71', 'hh72', 'hh73', 'hh74', 'hh75', 'hh76', 'hh77', 'hh78', 'hh79', 'hh80', 'hh81', 'hh82', 'hh83', 'hh84', 'hh85', 'hh86', 'hh87', 'hh88', 'hh89', 'hh90', 'hh91', 'hh92', 'hh93', 'hh94', 'hh95', 'hh96', 'hh97', 'hh98', 'hh99', 'hi00', 'hi01', 'hi02', 'hi03', 'hi04', 'hi05', 'hi06', 'hi07', 'hi08', 'hi09', 'hi10', 'hi11', 'hi12', 'hi13', 'hi14', 'hi15', 'hi16', 'hi17', 'hi18', 'hi19', 'hi20', 'hi21', 'hi22', 'hi23', 'hi24', 'hi25', 'hi26', 'hi27', 'hi28', 'hi29', 'hi30', 'hi31', 'hi32', 'hi33', 'hi34', 'hi35', 'hi36', 'hi37', 'hi38', 'hi39', 'hi40', 'hi41', 'hi42', 'hi43', 'hi44', 'hi45', 'hi46', 'hi47', 'hi48', 'hi49', 'hi50', 'hi51', 'hi52', 'hi53', 'hi54', 'hi55', 'hi56', 'hi57', 'hi58', 'hi59', 'hi60', 'hi61', 'hi62', 'hi63', 'hi64', 'hi65', 'hi66', 'hi67', 'hi68', 'hi69', 'hi70', 'hi71', 'hi72', 'hi73', 'hi74', 'hi75', 'hi76', 'hi77', 'hi78', 'hi79', 'hi80', 'hi81', 'hi82', 'hi83', 'hi84', 'hi85', 'hi86', 'hi87', 'hi88', 'hi89', 'hi90', 'hi91', 'hi92', 'hi93', 'hi94', 'hi95', 'hi96', 'hi97', 'hi98', 'hi99', 'hj00', 'hj01', 'hj02', 'hj03', 'hj04', 'hj05', 'hj06', 'hj07', 'hj08', 'hj09', 'hj10', 'hj11', 'hj12', 'hj13', 'hj14', 'hj15', 'hj16', 'hj17', 'hj18', 'hj19', 'hj20', 'hj21', 'hj22', 'hj23', 'hj24', 'hj25', 'hj26', 'hj27', 'hj28', 'hj29', 'hj30', 'hj31', 'hj32', 'hj33', 'hj34', 'hj35', 'hj36', 'hj37', 'hj38', 'hj39', 'hj40', 'hj41', 'hj42', 'hj43', 'hj44', 'hj45', 'hj46', 'hj47', 'hj48', 'hj49', 'hj50', 'hj51', 'hj52', 'hj53', 'hj54', 'hj55', 'hj56', 'hj57', 'hj58', 'hj59', 'hj60', 'hj61', 'hj62', 'hj63', 'hj64', 'hj65', 'hj66', 'hj67', 'hj68', 'hj69', 'hj70', 'hj71', 'hj72', 'hj73', 'hj74', 'hj75', 'hj76', 'hj77', 'hj78', 'hj79', 'hj80', 'hj81', 'hj82', 'hj83', 'hj84', 'hj85', 'hj86', 'hj87', 'hj88', 'hj89', 'hj90', 'hj91', 'hj92', 'hj93', 'hj94', 'hj95', 'hj96', 'hj97', 'hj98', 'hj99', 'hk00', 'hk01', 'hk02', 'hk03', 'hk04', 'hk05', 'hk06', 'hk07', 'hk08', 'hk09', 'hk10', 'hk11', 'hk12', 'hk13', 'hk14', 'hk15', 'hk16', 'hk17', 'hk18', 'hk19', 'hk20', 'hk21', 'hk22', 'hk23', 'hk24', 'hk25', 'hk26', 'hk27', 'hk28', 'hk29', 'hk30', 'hk31', 'hk32', 'hk33', 'hk34', 'hk35', 'hk36', 'hk37', 'hk38', 'hk39', 'hk40', 'hk41', 'hk42', 'hk43', 'hk44', 'hk45', 'hk46', 'hk47', 'hk48', 'hk49', 'hk50', 'hk51', 'hk52', 'hk53', 'hk54', 'hk55', 'hk56', 'hk57', 'hk58', 'hk59', 'hk60', 'hk61', 'hk62', 'hk63', 'hk64', 'hk65', 'hk66', 'hk67', 'hk68', 'hk69', 'hk70', 'hk71', 'hk72', 'hk73', 'hk74', 'hk75', 'hk76', 'hk77', 'hk78', 'hk79', 'hk80', 'hk81', 'hk82', 'hk83', 'hk84', 'hk85', 'hk86', 'hk87', 'hk88', 'hk89', 'hk90', 'hk91', 'hk92', 'hk93', 'hk94', 'hk95', 'hk96', 'hk97', 'hk98', 'hk99', 'hl00', 'hl01', 'hl02', 'hl03', 'hl04', 'hl05', 'hl06', 'hl07', 'hl08', 'hl09', 'hl10', 'hl11', 'hl12', 'hl13', 'hl14', 'hl15', 'hl16', 'hl17', 'hl18', 'hl19', 'hl20', 'hl21', 'hl22', 'hl23', 'hl24', 'hl25', 'hl26', 'hl27', 'hl28', 'hl29', 'hl30', 'hl31', 'hl32', 'hl33', 'hl34', 'hl35', 'hl36', 'hl37', 'hl38', 'hl39', 'hl40', 'hl41', 'hl42', 'hl43', 'hl44', 'hl45', 'hl46', 'hl47', 'hl48', 'hl49', 'hl50', 'hl51', 'hl52', 'hl53', 'hl54', 'hl55', 'hl56', 'hl57', 'hl58', 'hl59', 'hl60', 'hl61', 'hl62', 'hl63', 'hl64', 'hl65', 'hl66', 'hl67', 'hl68', 'hl69', 'hl70', 'hl71', 'hl72', 'hl73', 'hl74', 'hl75', 'hl76', 'hl77', 'hl78', 'hl79', 'hl80', 'hl81', 'hl82', 'hl83', 'hl84', 'hl85', 'hl86', 'hl87', 'hl88', 'hl89', 'hl90', 'hl91', 'hl92', 'hl93', 'hl94', 'hl95', 'hl96', 'hl97', 'hl98', 'hl99', 'hm00', 'hm01', 'hm02', 'hm03', 'hm04', 'hm05', 'hm06', 'hm07', 'hm08', 'hm09', 'hm10', 'hm11', 'hm12', 'hm13', 'hm14', 'hm15', 'hm16', 'hm17', 'hm18', 'hm19', 'hm20', 'hm21', 'hm22', 'hm23', 'hm24', 'hm25', 'hm26', 'hm27', 'hm28', 'hm29', 'hm30', 'hm31', 'hm32', 'hm33', 'hm34', 'hm35', 'hm36', 'hm37', 'hm38', 'hm39', 'hm40', 'hm41', 'hm42', 'hm43', 'hm44', 'hm45', 'hm46', 'hm47', 'hm48', 'hm49', 'hm50', 'hm51', 'hm52', 'hm53', 'hm54', 'hm55', 'hm56', 'hm57', 'hm58', 'hm59', 'hm60', 'hm61', 'hm62', 'hm63', 'hm64', 'hm65', 'hm66', 'hm67', 'hm68', 'hm69', 'hm70', 'hm71', 'hm72', 'hm73', 'hm74', 'hm75', 'hm76', 'hm77', 'hm78', 'hm79', 'hm80', 'hm81', 'hm82', 'hm83', 'hm84', 'hm85', 'hm86', 'hm87', 'hm88', 'hm89', 'hm90', 'hm91', 'hm92', 'hm93', 'hm94', 'hm95', 'hm96', 'hm97', 'hm98', 'hm99', 'hn00', 'hn01', 'hn02', 'hn03', 'hn04', 'hn05', 'hn06', 'hn07', 'hn08', 'hn09', 'hn10', 'hn11', 'hn12', 'hn13', 'hn14', 'hn15', 'hn16', 'hn17', 'hn18', 'hn19', 'hn20', 'hn21', 'hn22', 'hn23', 'hn24', 'hn25', 'hn26', 'hn27', 'hn28', 'hn29', 'hn30', 'hn31', 'hn32', 'hn33', 'hn34', 'hn35', 'hn36', 'hn37', 'hn38', 'hn39', 'hn40', 'hn41', 'hn42', 'hn43', 'hn44', 'hn45', 'hn46', 'hn47', 'hn48', 'hn49', 'hn50', 'hn51', 'hn52', 'hn53', 'hn54', 'hn55', 'hn56', 'hn57', 'hn58', 'hn59', 'hn60', 'hn61', 'hn62', 'hn63', 'hn64', 'hn65', 'hn66', 'hn67', 'hn68', 'hn69', 'hn70', 'hn71', 'hn72', 'hn73', 'hn74', 'hn75', 'hn76', 'hn77', 'hn78', 'hn79', 'hn80', 'hn81', 'hn82', 'hn83', 'hn84', 'hn85', 'hn86', 'hn87', 'hn88', 'hn89', 'hn90', 'hn91', 'hn92', 'hn93', 'hn94', 'hn95', 'hn96', 'hn97', 'hn98', 'hn99', 'ho00', 'ho01', 'ho02', 'ho03', 'ho04', 'ho05', 'ho06', 'ho07', 'ho08', 'ho09', 'ho10', 'ho11', 'ho12', 'ho13', 'ho14', 'ho15', 'ho16', 'ho17', 'ho18', 'ho19', 'ho20', 'ho21', 'ho22', 'ho23', 'ho24', 'ho25', 'ho26', 'ho27', 'ho28', 'ho29', 'ho30', 'ho31', 'ho32', 'ho33', 'ho34', 'ho35', 'ho36', 'ho37', 'ho38', 'ho39', 'ho40', 'ho41', 'ho42', 'ho43', 'ho44', 'ho45', 'ho46', 'ho47', 'ho48', 'ho49', 'ho50', 'ho51', 'ho52', 'ho53', 'ho54', 'ho55', 'ho56', 'ho57', 'ho58', 'ho59', 'ho60', 'ho61', 'ho62', 'ho63', 'ho64', 'ho65', 'ho66', 'ho67', 'ho68', 'ho69', 'ho70', 'ho71', 'ho72', 'ho73', 'ho74', 'ho75', 'ho76', 'ho77', 'ho78', 'ho79', 'ho80', 'ho81', 'ho82', 'ho83', 'ho84', 'ho85', 'ho86', 'ho87', 'ho88', 'ho89', 'ho90', 'ho91', 'ho92', 'ho93', 'ho94', 'ho95', 'ho96', 'ho97', 'ho98', 'ho99', 'hp00', 'hp01', 'hp02', 'hp03', 'hp04', 'hp05', 'hp06', 'hp07', 'hp08', 'hp09', 'hp10', 'hp11', 'hp12', 'hp13', 'hp14', 'hp15', 'hp16', 'hp17', 'hp18', 'hp19', 'hp20', 'hp21', 'hp22', 'hp23', 'hp24', 'hp25', 'hp26', 'hp27', 'hp28', 'hp29', 'hp30', 'hp31', 'hp32', 'hp33', 'hp34', 'hp35', 'hp36', 'hp37', 'hp38', 'hp39', 'hp40', 'hp41', 'hp42', 'hp43', 'hp44', 'hp45', 'hp46', 'hp47', 'hp48', 'hp49', 'hp50', 'hp51', 'hp52', 'hp53', 'hp54', 'hp55', 'hp56', 'hp57', 'hp58', 'hp59', 'hp60', 'hp61', 'hp62', 'hp63', 'hp64', 'hp65', 'hp66', 'hp67', 'hp68', 'hp69', 'hp70', 'hp71', 'hp72', 'hp73', 'hp74', 'hp75', 'hp76', 'hp77', 'hp78', 'hp79', 'hp80', 'hp81', 'hp82', 'hp83', 'hp84', 'hp85', 'hp86', 'hp87', 'hp88', 'hp89', 'hp90', 'hp91', 'hp92', 'hp93', 'hp94', 'hp95', 'hp96', 'hp97', 'hp98', 'hp99', 'hq00', 'hq01', 'hq02', 'hq03', 'hq04', 'hq05', 'hq06', 'hq07', 'hq08', 'hq09', 'hq10', 'hq11', 'hq12', 'hq13', 'hq14', 'hq15', 'hq16', 'hq17', 'hq18', 'hq19', 'hq20', 'hq21', 'hq22', 'hq23', 'hq24', 'hq25', 'hq26', 'hq27', 'hq28', 'hq29', 'hq30', 'hq31', 'hq32', 'hq33', 'hq34', 'hq35', 'hq36', 'hq37', 'hq38', 'hq39', 'hq40', 'hq41', 'hq42', 'hq43', 'hq44', 'hq45', 'hq46', 'hq47', 'hq48', 'hq49', 'hq50', 'hq51', 'hq52', 'hq53', 'hq54', 'hq55', 'hq56', 'hq57', 'hq58', 'hq59', 'hq60', 'hq61', 'hq62', 'hq63', 'hq64', 'hq65', 'hq66', 'hq67', 'hq68', 'hq69', 'hq70', 'hq71', 'hq72', 'hq73', 'hq74', 'hq75', 'hq76', 'hq77', 'hq78', 'hq79', 'hq80', 'hq81', 'hq82', 'hq83', 'hq84', 'hq85', 'hq86', 'hq87', 'hq88', 'hq89', 'hq90', 'hq91', 'hq92', 'hq93', 'hq94', 'hq95', 'hq96', 'hq97', 'hq98', 'hq99', 'hr00', 'hr01', 'hr02', 'hr03', 'hr04', 'hr05', 'hr06', 'hr07', 'hr08', 'hr09', 'hr10', 'hr11', 'hr12', 'hr13', 'hr14', 'hr15', 'hr16', 'hr17', 'hr18', 'hr19', 'hr20', 'hr21', 'hr22', 'hr23', 'hr24', 'hr25', 'hr26', 'hr27', 'hr28', 'hr29', 'hr30', 'hr31', 'hr32', 'hr33', 'hr34', 'hr35', 'hr36', 'hr37', 'hr38', 'hr39', 'hr40', 'hr41', 'hr42', 'hr43', 'hr44', 'hr45', 'hr46', 'hr47', 'hr48', 'hr49', 'hr50', 'hr51', 'hr52', 'hr53', 'hr54', 'hr55', 'hr56', 'hr57', 'hr58', 'hr59', 'hr60', 'hr61', 'hr62', 'hr63', 'hr64', 'hr65', 'hr66', 'hr67', 'hr68', 'hr69', 'hr70', 'hr71', 'hr72', 'hr73', 'hr74', 'hr75', 'hr76', 'hr77', 'hr78', 'hr79', 'hr80', 'hr81', 'hr82', 'hr83', 'hr84', 'hr85', 'hr86', 'hr87', 'hr88', 'hr89', 'hr90', 'hr91', 'hr92', 'hr93', 'hr94', 'hr95', 'hr96', 'hr97', 'hr98', 'hr99', 'hs00', 'hs01', 'hs02', 'hs03', 'hs04', 'hs05', 'hs06', 'hs07', 'hs08', 'hs09', 'hs10', 'hs11', 'hs12', 'hs13', 'hs14', 'hs15', 'hs16', 'hs17', 'hs18', 'hs19', 'hs20', 'hs21', 'hs22', 'hs23', 'hs24', 'hs25', 'hs26', 'hs27', 'hs28', 'hs29', 'hs30', 'hs31', 'hs32', 'hs33', 'hs34', 'hs35', 'hs36', 'hs37', 'hs38', 'hs39', 'hs40', 'hs41', 'hs42', 'hs43', 'hs44', 'hs45', 'hs46', 'hs47', 'hs48', 'hs49', 'hs50', 'hs51', 'hs52', 'hs53', 'hs54', 'hs55', 'hs56', 'hs57', 'hs58', 'hs59', 'hs60', 'hs61', 'hs62', 'hs63', 'hs64', 'hs65', 'hs66', 'hs67', 'hs68', 'hs69', 'hs70', 'hs71', 'hs72', 'hs73', 'hs74', 'hs75', 'hs76', 'hs77', 'hs78', 'hs79', 'hs80', 'hs81', 'hs82', 'hs83', 'hs84', 'hs85', 'hs86', 'hs87', 'hs88', 'hs89', 'hs90', 'hs91', 'hs92', 'hs93', 'hs94', 'hs95', 'hs96', 'hs97', 'hs98', 'hs99', 'ht00', 'ht01', 'ht02', 'ht03', 'ht04', 'ht05', 'ht06', 'ht07', 'ht08', 'ht09', 'ht10', 'ht11', 'ht12', 'ht13', 'ht14', 'ht15', 'ht16', 'ht17', 'ht18', 'ht19', 'ht20', 'ht21', 'ht22', 'ht23', 'ht24', 'ht25', 'ht26', 'ht27', 'ht28', 'ht29', 'ht30', 'ht31', 'ht32', 'ht33', 'ht34', 'ht35', 'ht36', 'ht37', 'ht38', 'ht39', 'ht40', 'ht41', 'ht42', 'ht43', 'ht44', 'ht45', 'ht46', 'ht47', 'ht48', 'ht49', 'ht50', 'ht51', 'ht52', 'ht53', 'ht54', 'ht55', 'ht56', 'ht57', 'ht58', 'ht59', 'ht60', 'ht61', 'ht62', 'ht63', 'ht64', 'ht65', 'ht66', 'ht67', 'ht68', 'ht69', 'ht70', 'ht71', 'ht72', 'ht73', 'ht74', 'ht75', 'ht76', 'ht77', 'ht78', 'ht79', 'ht80', 'ht81', 'ht82', 'ht83', 'ht84', 'ht85', 'ht86', 'ht87', 'ht88', 'ht89', 'ht90', 'ht91', 'ht92', 'ht93', 'ht94', 'ht95', 'ht96', 'ht97', 'ht98', 'ht99', 'hu00', 'hu01', 'hu02', 'hu03', 'hu04', 'hu05', 'hu06', 'hu07', 'hu08', 'hu09', 'hu10', 'hu11', 'hu12', 'hu13', 'hu14', 'hu15', 'hu16', 'hu17', 'hu18', 'hu19', 'hu20', 'hu21', 'hu22', 'hu23', 'hu24', 'hu25', 'hu26', 'hu27', 'hu28', 'hu29', 'hu30', 'hu31', 'hu32', 'hu33', 'hu34', 'hu35', 'hu36', 'hu37', 'hu38', 'hu39', 'hu40', 'hu41', 'hu42', 'hu43', 'hu44', 'hu45', 'hu46', 'hu47', 'hu48', 'hu49', 'hu50', 'hu51', 'hu52', 'hu53', 'hu54', 'hu55', 'hu56', 'hu57', 'hu58', 'hu59', 'hu60', 'hu61', 'hu62', 'hu63', 'hu64', 'hu65', 'hu66', 'hu67', 'hu68', 'hu69', 'hu70', 'hu71', 'hu72', 'hu73', 'hu74', 'hu75', 'hu76', 'hu77', 'hu78', 'hu79', 'hu80', 'hu81', 'hu82', 'hu83', 'hu84', 'hu85', 'hu86', 'hu87', 'hu88', 'hu89', 'hu90', 'hu91', 'hu92', 'hu93', 'hu94', 'hu95', 'hu96', 'hu97', 'hu98', 'hu99', 'hv00', 'hv01', 'hv02', 'hv03', 'hv04', 'hv05', 'hv06', 'hv07', 'hv08', 'hv09', 'hv10', 'hv11', 'hv12', 'hv13', 'hv14', 'hv15', 'hv16', 'hv17', 'hv18', 'hv19', 'hv20', 'hv21', 'hv22', 'hv23', 'hv24', 'hv25', 'hv26', 'hv27', 'hv28', 'hv29', 'hv30', 'hv31', 'hv32', 'hv33', 'hv34', 'hv35', 'hv36', 'hv37', 'hv38', 'hv39', 'hv40', 'hv41', 'hv42', 'hv43', 'hv44', 'hv45', 'hv46', 'hv47', 'hv48', 'hv49', 'hv50', 'hv51', 'hv52', 'hv53', 'hv54', 'hv55', 'hv56', 'hv57', 'hv58', 'hv59', 'hv60', 'hv61', 'hv62', 'hv63', 'hv64', 'hv65', 'hv66', 'hv67', 'hv68', 'hv69', 'hv70', 'hv71', 'hv72', 'hv73', 'hv74', 'hv75', 'hv76', 'hv77', 'hv78', 'hv79', 'hv80', 'hv81', 'hv82', 'hv83', 'hv84', 'hv85', 'hv86', 'hv87', 'hv88', 'hv89', 'hv90', 'hv91', 'hv92', 'hv93', 'hv94', 'hv95', 'hv96', 'hv97', 'hv98', 'hv99', 'hw00', 'hw01', 'hw02', 'hw03', 'hw04', 'hw05', 'hw06', 'hw07', 'hw08', 'hw09', 'hw10', 'hw11', 'hw12', 'hw13', 'hw14', 'hw15', 'hw16', 'hw17', 'hw18', 'hw19', 'hw20', 'hw21', 'hw22', 'hw23', 'hw24', 'hw25', 'hw26', 'hw27', 'hw28', 'hw29', 'hw30', 'hw31', 'hw32', 'hw33', 'hw34', 'hw35', 'hw36', 'hw37', 'hw38', 'hw39', 'hw40', 'hw41', 'hw42', 'hw43', 'hw44', 'hw45', 'hw46', 'hw47', 'hw48', 'hw49', 'hw50', 'hw51', 'hw52', 'hw53', 'hw54', 'hw55', 'hw56', 'hw57', 'hw58', 'hw59', 'hw60', 'hw61', 'hw62', 'hw63', 'hw64', 'hw65', 'hw66', 'hw67', 'hw68', 'hw69', 'hw70', 'hw71', 'hw72', 'hw73', 'hw74', 'hw75', 'hw76', 'hw77', 'hw78', 'hw79', 'hw80', 'hw81', 'hw82', 'hw83', 'hw84', 'hw85', 'hw86', 'hw87', 'hw88', 'hw89', 'hw90', 'hw91', 'hw92', 'hw93', 'hw94', 'hw95', 'hw96', 'hw97', 'hw98', 'hw99', 'hx00', 'hx01', 'hx02', 'hx03', 'hx04', 'hx05', 'hx06', 'hx07', 'hx08', 'hx09', 'hx10', 'hx11', 'hx12', 'hx13', 'hx14', 'hx15', 'hx16', 'hx17', 'hx18', 'hx19', 'hx20', 'hx21', 'hx22', 'hx23', 'hx24', 'hx25', 'hx26', 'hx27', 'hx28', 'hx29', 'hx30', 'hx31', 'hx32', 'hx33', 'hx34', 'hx35', 'hx36', 'hx37', 'hx38', 'hx39', 'hx40', 'hx41', 'hx42', 'hx43', 'hx44', 'hx45', 'hx46', 'hx47', 'hx48', 'hx49', 'hx50', 'hx51', 'hx52', 'hx53', 'hx54', 'hx55', 'hx56', 'hx57', 'hx58', 'hx59', 'hx60', 'hx61', 'hx62', 'hx63', 'hx64', 'hx65', 'hx66', 'hx67', 'hx68', 'hx69', 'hx70', 'hx71', 'hx72', 'hx73', 'hx74', 'hx75', 'hx76', 'hx77', 'hx78', 'hx79', 'hx80', 'hx81', 'hx82', 'hx83', 'hx84', 'hx85', 'hx86', 'hx87', 'hx88', 'hx89', 'hx90', 'hx91', 'hx92', 'hx93', 'hx94', 'hx95', 'hx96', 'hx97', 'hx98', 'hx99', 'hy00', 'hy01', 'hy02', 'hy03', 'hy04', 'hy05', 'hy06', 'hy07', 'hy08', 'hy09', 'hy10', 'hy11', 'hy12', 'hy13', 'hy14', 'hy15', 'hy16', 'hy17', 'hy18', 'hy19', 'hy20', 'hy21', 'hy22', 'hy23', 'hy24', 'hy25', 'hy26', 'hy27', 'hy28', 'hy29', 'hy30', 'hy31', 'hy32', 'hy33', 'hy34', 'hy35', 'hy36', 'hy37', 'hy38', 'hy39', 'hy40', 'hy41', 'hy42', 'hy43', 'hy44', 'hy45', 'hy46', 'hy47', 'hy48', 'hy49', 'hy50', 'hy51', 'hy52', 'hy53', 'hy54', 'hy55', 'hy56', 'hy57', 'hy58', 'hy59', 'hy60', 'hy61', 'hy62', 'hy63', 'hy64', 'hy65', 'hy66', 'hy67', 'hy68', 'hy69', 'hy70', 'hy71', 'hy72', 'hy73', 'hy74', 'hy75', 'hy76', 'hy77', 'hy78', 'hy79', 'hy80', 'hy81', 'hy82', 'hy83', 'hy84', 'hy85', 'hy86', 'hy87', 'hy88', 'hy89', 'hy90', 'hy91', 'hy92', 'hy93', 'hy94', 'hy95', 'hy96', 'hy97', 'hy98', 'hy99', 'hz00', 'hz01', 'hz02', 'hz03', 'hz04', 'hz05', 'hz06', 'hz07', 'hz08', 'hz09', 'hz10', 'hz11', 'hz12', 'hz13', 'hz14', 'hz15', 'hz16', 'hz17', 'hz18', 'hz19', 'hz20', 'hz21', 'hz22', 'hz23', 'hz24', 'hz25', 'hz26', 'hz27', 'hz28', 'hz29', 'hz30', 'hz31', 'hz32', 'hz33', 'hz34', 'hz35', 'hz36', 'hz37', 'hz38', 'hz39', 'hz40', 'hz41', 'hz42', 'hz43', 'hz44', 'hz45', 'hz46', 'hz47', 'hz48', 'hz49', 'hz50', 'hz51', 'hz52', 'hz53', 'hz54', 'hz55', 'hz56', 'hz57', 'hz58', 'hz59', 'hz60', 'hz61', 'hz62', 'hz63', 'hz64', 'hz65', 'hz66', 'hz67', 'hz68', 'hz69', 'hz70', 'hz71', 'hz72', 'hz73', 'hz74', 'hz75', 'hz76', 'hz77', 'hz78', 'hz79', 'hz80', 'hz81', 'hz82', 'hz83', 'hz84', 'hz85', 'hz86', 'hz87', 'hz88', 'hz89', 'hz90', 'hz91', 'hz92', 'hz93', 'hz94', 'hz95', 'hz96', 'hz97', 'hz98', 'hz99', 'ia00', 'ia01', 'ia02', 'ia03', 'ia04', 'ia05', 'ia06', 'ia07', 'ia08', 'ia09', 'ia10', 'ia11', 'ia12', 'ia13', 'ia14', 'ia15', 'ia16', 'ia17', 'ia18', 'ia19', 'ia20', 'ia21', 'ia22', 'ia23', 'ia24', 'ia25', 'ia26', 'ia27', 'ia28', 'ia29', 'ia30', 'ia31', 'ia32', 'ia33', 'ia34', 'ia35', 'ia36', 'ia37', 'ia38', 'ia39', 'ia40', 'ia41', 'ia42', 'ia43', 'ia44', 'ia45', 'ia46', 'ia47', 'ia48', 'ia49', 'ia50', 'ia51', 'ia52', 'ia53', 'ia54', 'ia55', 'ia56', 'ia57', 'ia58', 'ia59', 'ia60', 'ia61', 'ia62', 'ia63', 'ia64', 'ia65', 'ia66', 'ia67', 'ia68', 'ia69', 'ia70', 'ia71', 'ia72', 'ia73', 'ia74', 'ia75', 'ia76', 'ia77', 'ia78', 'ia79', 'ia80', 'ia81', 'ia82', 'ia83', 'ia84', 'ia85', 'ia86', 'ia87', 'ia88', 'ia89', 'ia90', 'ia91', 'ia92', 'ia93', 'ia94', 'ia95', 'ia96', 'ia97', 'ia98', 'ia99', 'ib00', 'ib01', 'ib02', 'ib03', 'ib04', 'ib05', 'ib06', 'ib07', 'ib08', 'ib09', 'ib10', 'ib11', 'ib12', 'ib13', 'ib14', 'ib15', 'ib16', 'ib17', 'ib18', 'ib19', 'ib20', 'ib21', 'ib22', 'ib23', 'ib24', 'ib25', 'ib26', 'ib27', 'ib28', 'ib29', 'ib30', 'ib31', 'ib32', 'ib33', 'ib34', 'ib35', 'ib36', 'ib37', 'ib38', 'ib39', 'ib40', 'ib41', 'ib42', 'ib43', 'ib44', 'ib45', 'ib46', 'ib47', 'ib48', 'ib49', 'ib50', 'ib51', 'ib52', 'ib53', 'ib54', 'ib55', 'ib56', 'ib57', 'ib58', 'ib59', 'ib60', 'ib61', 'ib62', 'ib63', 'ib64', 'ib65', 'ib66', 'ib67', 'ib68', 'ib69', 'ib70', 'ib71', 'ib72', 'ib73', 'ib74', 'ib75', 'ib76', 'ib77', 'ib78', 'ib79', 'ib80', 'ib81', 'ib82', 'ib83', 'ib84', 'ib85', 'ib86', 'ib87', 'ib88', 'ib89', 'ib90', 'ib91', 'ib92', 'ib93', 'ib94', 'ib95', 'ib96', 'ib97', 'ib98', 'ib99', 'ic00', 'ic01', 'ic02', 'ic03', 'ic04', 'ic05', 'ic06', 'ic07', 'ic08', 'ic09', 'ic10', 'ic11', 'ic12', 'ic13', 'ic14', 'ic15', 'ic16', 'ic17', 'ic18', 'ic19', 'ic20', 'ic21', 'ic22', 'ic23', 'ic24', 'ic25', 'ic26', 'ic27', 'ic28', 'ic29', 'ic30', 'ic31', 'ic32', 'ic33', 'ic34', 'ic35', 'ic36', 'ic37', 'ic38', 'ic39', 'ic40', 'ic41', 'ic42', 'ic43', 'ic44', 'ic45', 'ic46', 'ic47', 'ic48', 'ic49', 'ic50', 'ic51', 'ic52', 'ic53', 'ic54', 'ic55', 'ic56', 'ic57', 'ic58', 'ic59', 'ic60', 'ic61', 'ic62', 'ic63', 'ic64', 'ic65', 'ic66', 'ic67', 'ic68', 'ic69', 'ic70', 'ic71', 'ic72', 'ic73', 'ic74', 'ic75', 'ic76', 'ic77', 'ic78', 'ic79', 'ic80', 'ic81', 'ic82', 'ic83', 'ic84', 'ic85', 'ic86', 'ic87', 'ic88', 'ic89', 'ic90', 'ic91', 'ic92', 'ic93', 'ic94', 'ic95', 'ic96', 'ic97', 'ic98', 'ic99', 'id00', 'id01', 'id02', 'id03', 'id04', 'id05', 'id06', 'id07', 'id08', 'id09', 'id10', 'id11', 'id12', 'id13', 'id14', 'id15', 'id16', 'id17', 'id18', 'id19', 'id20', 'id21', 'id22', 'id23', 'id24', 'id25', 'id26', 'id27', 'id28', 'id29', 'id30', 'id31', 'id32', 'id33', 'id34', 'id35', 'id36', 'id37', 'id38', 'id39', 'id40', 'id41', 'id42', 'id43', 'id44', 'id45', 'id46', 'id47', 'id48', 'id49', 'id50', 'id51', 'id52', 'id53', 'id54', 'id55', 'id56', 'id57', 'id58', 'id59', 'id60', 'id61', 'id62', 'id63', 'id64', 'id65', 'id66', 'id67', 'id68', 'id69', 'id70', 'id71', 'id72', 'id73', 'id74', 'id75', 'id76', 'id77', 'id78', 'id79', 'id80', 'id81', 'id82', 'id83', 'id84', 'id85', 'id86', 'id87', 'id88', 'id89', 'id90', 'id91', 'id92', 'id93', 'id94', 'id95', 'id96', 'id97', 'id98', 'id99', 'ie00', 'ie01', 'ie02', 'ie03', 'ie04', 'ie05', 'ie06', 'ie07', 'ie08', 'ie09', 'ie10', 'ie11', 'ie12', 'ie13', 'ie14', 'ie15', 'ie16', 'ie17', 'ie18', 'ie19', 'ie20', 'ie21', 'ie22', 'ie23', 'ie24', 'ie25', 'ie26', 'ie27', 'ie28', 'ie29', 'ie30', 'ie31', 'ie32', 'ie33', 'ie34', 'ie35', 'ie36', 'ie37', 'ie38', 'ie39', 'ie40', 'ie41', 'ie42', 'ie43', 'ie44', 'ie45', 'ie46', 'ie47', 'ie48', 'ie49', 'ie50', 'ie51', 'ie52', 'ie53', 'ie54', 'ie55', 'ie56', 'ie57', 'ie58', 'ie59', 'ie60', 'ie61', 'ie62', 'ie63', 'ie64', 'ie65', 'ie66', 'ie67', 'ie68', 'ie69', 'ie70', 'ie71', 'ie72', 'ie73', 'ie74', 'ie75', 'ie76', 'ie77', 'ie78', 'ie79', 'ie80', 'ie81', 'ie82', 'ie83', 'ie84', 'ie85', 'ie86', 'ie87', 'ie88', 'ie89', 'ie90', 'ie91', 'ie92', 'ie93', 'ie94', 'ie95', 'ie96', 'ie97', 'ie98', 'ie99', 'if00', 'if01', 'if02', 'if03', 'if04', 'if05', 'if06', 'if07', 'if08', 'if09', 'if10', 'if11', 'if12', 'if13', 'if14', 'if15', 'if16', 'if17', 'if18', 'if19', 'if20', 'if21', 'if22', 'if23', 'if24', 'if25', 'if26', 'if27', 'if28', 'if29', 'if30', 'if31', 'if32', 'if33', 'if34', 'if35', 'if36', 'if37', 'if38', 'if39', 'if40', 'if41', 'if42', 'if43', 'if44', 'if45', 'if46', 'if47', 'if48', 'if49', 'if50', 'if51', 'if52', 'if53', 'if54', 'if55', 'if56', 'if57', 'if58', 'if59', 'if60', 'if61', 'if62', 'if63', 'if64', 'if65', 'if66', 'if67', 'if68', 'if69', 'if70', 'if71', 'if72', 'if73', 'if74', 'if75', 'if76', 'if77', 'if78', 'if79', 'if80', 'if81', 'if82', 'if83', 'if84', 'if85', 'if86', 'if87', 'if88', 'if89', 'if90', 'if91', 'if92', 'if93', 'if94', 'if95', 'if96', 'if97', 'if98', 'if99', 'ig00', 'ig01', 'ig02', 'ig03', 'ig04', 'ig05', 'ig06', 'ig07', 'ig08', 'ig09', 'ig10', 'ig11', 'ig12', 'ig13', 'ig14', 'ig15', 'ig16', 'ig17', 'ig18', 'ig19', 'ig20', 'ig21', 'ig22', 'ig23', 'ig24', 'ig25', 'ig26', 'ig27', 'ig28', 'ig29', 'ig30', 'ig31', 'ig32', 'ig33', 'ig34', 'ig35', 'ig36', 'ig37', 'ig38', 'ig39', 'ig40', 'ig41', 'ig42', 'ig43', 'ig44', 'ig45', 'ig46', 'ig47', 'ig48', 'ig49', 'ig50', 'ig51', 'ig52', 'ig53', 'ig54', 'ig55', 'ig56', 'ig57', 'ig58', 'ig59', 'ig60', 'ig61', 'ig62', 'ig63', 'ig64', 'ig65', 'ig66', 'ig67', 'ig68', 'ig69', 'ig70', 'ig71', 'ig72', 'ig73', 'ig74', 'ig75', 'ig76', 'ig77', 'ig78', 'ig79', 'ig80', 'ig81', 'ig82', 'ig83', 'ig84', 'ig85', 'ig86', 'ig87', 'ig88', 'ig89', 'ig90', 'ig91', 'ig92', 'ig93', 'ig94', 'ig95', 'ig96', 'ig97', 'ig98', 'ig99', 'ih00', 'ih01', 'ih02', 'ih03', 'ih04', 'ih05', 'ih06', 'ih07', 'ih08', 'ih09', 'ih10', 'ih11', 'ih12', 'ih13', 'ih14', 'ih15', 'ih16', 'ih17', 'ih18', 'ih19', 'ih20', 'ih21', 'ih22', 'ih23', 'ih24', 'ih25', 'ih26', 'ih27', 'ih28', 'ih29', 'ih30', 'ih31', 'ih32', 'ih33', 'ih34', 'ih35', 'ih36', 'ih37', 'ih38', 'ih39', 'ih40', 'ih41', 'ih42', 'ih43', 'ih44', 'ih45', 'ih46', 'ih47', 'ih48', 'ih49', 'ih50', 'ih51', 'ih52', 'ih53', 'ih54', 'ih55', 'ih56', 'ih57', 'ih58', 'ih59', 'ih60', 'ih61', 'ih62', 'ih63', 'ih64', 'ih65', 'ih66', 'ih67', 'ih68', 'ih69', 'ih70', 'ih71', 'ih72', 'ih73', 'ih74', 'ih75', 'ih76', 'ih77', 'ih78', 'ih79', 'ih80', 'ih81', 'ih82', 'ih83', 'ih84', 'ih85', 'ih86', 'ih87', 'ih88', 'ih89', 'ih90', 'ih91', 'ih92', 'ih93', 'ih94', 'ih95', 'ih96', 'ih97', 'ih98', 'ih99', 'ii00', 'ii01', 'ii02', 'ii03', 'ii04', 'ii05', 'ii06', 'ii07', 'ii08', 'ii09', 'ii10', 'ii11', 'ii12', 'ii13', 'ii14', 'ii15', 'ii16', 'ii17', 'ii18', 'ii19', 'ii20', 'ii21', 'ii22', 'ii23', 'ii24', 'ii25', 'ii26', 'ii27', 'ii28', 'ii29', 'ii30', 'ii31', 'ii32', 'ii33', 'ii34', 'ii35', 'ii36', 'ii37', 'ii38', 'ii39', 'ii40', 'ii41', 'ii42', 'ii43', 'ii44', 'ii45', 'ii46', 'ii47', 'ii48', 'ii49', 'ii50', 'ii51', 'ii52', 'ii53', 'ii54', 'ii55', 'ii56', 'ii57', 'ii58', 'ii59', 'ii60', 'ii61', 'ii62', 'ii63', 'ii64', 'ii65', 'ii66', 'ii67', 'ii68', 'ii69', 'ii70', 'ii71', 'ii72', 'ii73', 'ii74', 'ii75', 'ii76', 'ii77', 'ii78', 'ii79', 'ii80', 'ii81', 'ii82', 'ii83', 'ii84', 'ii85', 'ii86', 'ii87', 'ii88', 'ii89', 'ii90', 'ii91', 'ii92', 'ii93', 'ii94', 'ii95', 'ii96', 'ii97', 'ii98', 'ii99', 'ij00', 'ij01', 'ij02', 'ij03', 'ij04', 'ij05', 'ij06', 'ij07', 'ij08', 'ij09', 'ij10', 'ij11', 'ij12', 'ij13', 'ij14', 'ij15', 'ij16', 'ij17', 'ij18', 'ij19', 'ij20', 'ij21', 'ij22', 'ij23', 'ij24', 'ij25', 'ij26', 'ij27', 'ij28', 'ij29', 'ij30', 'ij31', 'ij32', 'ij33', 'ij34', 'ij35', 'ij36', 'ij37', 'ij38', 'ij39', 'ij40', 'ij41', 'ij42', 'ij43', 'ij44', 'ij45', 'ij46', 'ij47', 'ij48', 'ij49', 'ij50', 'ij51', 'ij52', 'ij53', 'ij54', 'ij55', 'ij56', 'ij57', 'ij58', 'ij59', 'ij60', 'ij61', 'ij62', 'ij63', 'ij64', 'ij65', 'ij66', 'ij67', 'ij68', 'ij69', 'ij70', 'ij71', 'ij72', 'ij73', 'ij74', 'ij75', 'ij76', 'ij77', 'ij78', 'ij79', 'ij80', 'ij81', 'ij82', 'ij83', 'ij84', 'ij85', 'ij86', 'ij87', 'ij88', 'ij89', 'ij90', 'ij91', 'ij92', 'ij93', 'ij94', 'ij95', 'ij96', 'ij97', 'ij98', 'ij99', 'ik00', 'ik01', 'ik02', 'ik03', 'ik04', 'ik05', 'ik06', 'ik07', 'ik08', 'ik09', 'ik10', 'ik11', 'ik12', 'ik13', 'ik14', 'ik15', 'ik16', 'ik17', 'ik18', 'ik19', 'ik20', 'ik21', 'ik22', 'ik23', 'ik24', 'ik25', 'ik26', 'ik27', 'ik28', 'ik29', 'ik30', 'ik31', 'ik32', 'ik33', 'ik34', 'ik35', 'ik36', 'ik37', 'ik38', 'ik39', 'ik40', 'ik41', 'ik42', 'ik43', 'ik44', 'ik45', 'ik46', 'ik47', 'ik48', 'ik49', 'ik50', 'ik51', 'ik52', 'ik53', 'ik54', 'ik55', 'ik56', 'ik57', 'ik58', 'ik59', 'ik60', 'ik61', 'ik62', 'ik63', 'ik64', 'ik65', 'ik66', 'ik67', 'ik68', 'ik69', 'ik70', 'ik71', 'ik72', 'ik73', 'ik74', 'ik75', 'ik76', 'ik77', 'ik78', 'ik79', 'ik80', 'ik81', 'ik82', 'ik83', 'ik84', 'ik85', 'ik86', 'ik87', 'ik88', 'ik89', 'ik90', 'ik91', 'ik92', 'ik93', 'ik94', 'ik95', 'ik96', 'ik97', 'ik98', 'ik99', 'il00', 'il01', 'il02', 'il03', 'il04', 'il05', 'il06', 'il07', 'il08', 'il09', 'il10', 'il11', 'il12', 'il13', 'il14', 'il15', 'il16', 'il17', 'il18', 'il19', 'il20', 'il21', 'il22', 'il23', 'il24', 'il25', 'il26', 'il27', 'il28', 'il29', 'il30', 'il31', 'il32', 'il33', 'il34', 'il35', 'il36', 'il37', 'il38', 'il39', 'il40', 'il41', 'il42', 'il43', 'il44', 'il45', 'il46', 'il47', 'il48', 'il49', 'il50', 'il51', 'il52', 'il53', 'il54', 'il55', 'il56', 'il57', 'il58', 'il59', 'il60', 'il61', 'il62', 'il63', 'il64', 'il65', 'il66', 'il67', 'il68', 'il69', 'il70', 'il71', 'il72', 'il73', 'il74', 'il75', 'il76', 'il77', 'il78', 'il79', 'il80', 'il81', 'il82', 'il83', 'il84', 'il85', 'il86', 'il87', 'il88', 'il89', 'il90', 'il91', 'il92', 'il93', 'il94', 'il95', 'il96', 'il97', 'il98', 'il99', 'im00', 'im01', 'im02', 'im03', 'im04', 'im05', 'im06', 'im07', 'im08', 'im09', 'im10', 'im11', 'im12', 'im13', 'im14', 'im15', 'im16', 'im17', 'im18', 'im19', 'im20', 'im21', 'im22', 'im23', 'im24', 'im25', 'im26', 'im27', 'im28', 'im29', 'im30', 'im31', 'im32', 'im33', 'im34', 'im35', 'im36', 'im37', 'im38', 'im39', 'im40', 'im41', 'im42', 'im43', 'im44', 'im45', 'im46', 'im47', 'im48', 'im49', 'im50', 'im51', 'im52', 'im53', 'im54', 'im55', 'im56', 'im57', 'im58', 'im59', 'im60', 'im61', 'im62', 'im63', 'im64', 'im65', 'im66', 'im67', 'im68', 'im69', 'im70', 'im71', 'im72', 'im73', 'im74', 'im75', 'im76', 'im77', 'im78', 'im79', 'im80', 'im81', 'im82', 'im83', 'im84', 'im85', 'im86', 'im87', 'im88', 'im89', 'im90', 'im91', 'im92', 'im93', 'im94', 'im95', 'im96', 'im97', 'im98', 'im99', 'in00', 'in01', 'in02', 'in03', 'in04', 'in05', 'in06', 'in07', 'in08', 'in09', 'in10', 'in11', 'in12', 'in13', 'in14', 'in15', 'in16', 'in17', 'in18', 'in19', 'in20', 'in21', 'in22', 'in23', 'in24', 'in25', 'in26', 'in27', 'in28', 'in29', 'in30', 'in31', 'in32', 'in33', 'in34', 'in35', 'in36', 'in37', 'in38', 'in39', 'in40', 'in41', 'in42', 'in43', 'in44', 'in45', 'in46', 'in47', 'in48', 'in49', 'in50', 'in51', 'in52', 'in53', 'in54', 'in55', 'in56', 'in57', 'in58', 'in59', 'in60', 'in61', 'in62', 'in63', 'in64', 'in65', 'in66', 'in67', 'in68', 'in69', 'in70', 'in71', 'in72', 'in73', 'in74', 'in75', 'in76', 'in77', 'in78', 'in79', 'in80', 'in81', 'in82', 'in83', 'in84', 'in85', 'in86', 'in87', 'in88', 'in89', 'in90', 'in91', 'in92', 'in93', 'in94', 'in95', 'in96', 'in97', 'in98', 'in99', 'io00', 'io01', 'io02', 'io03', 'io04', 'io05', 'io06', 'io07', 'io08', 'io09', 'io10', 'io11', 'io12', 'io13', 'io14', 'io15', 'io16', 'io17', 'io18', 'io19', 'io20', 'io21', 'io22', 'io23', 'io24', 'io25', 'io26', 'io27', 'io28', 'io29', 'io30', 'io31', 'io32', 'io33', 'io34', 'io35', 'io36', 'io37', 'io38', 'io39', 'io40', 'io41', 'io42', 'io43', 'io44', 'io45', 'io46', 'io47', 'io48', 'io49', 'io50', 'io51', 'io52', 'io53', 'io54', 'io55', 'io56', 'io57', 'io58', 'io59', 'io60', 'io61', 'io62', 'io63', 'io64', 'io65', 'io66', 'io67', 'io68', 'io69', 'io70', 'io71', 'io72', 'io73', 'io74', 'io75', 'io76', 'io77', 'io78', 'io79', 'io80', 'io81', 'io82', 'io83', 'io84', 'io85', 'io86', 'io87', 'io88', 'io89', 'io90', 'io91', 'io92', 'io93', 'io94', 'io95', 'io96', 'io97', 'io98', 'io99', 'ip00', 'ip01', 'ip02', 'ip03', 'ip04', 'ip05', 'ip06', 'ip07', 'ip08', 'ip09', 'ip10', 'ip11', 'ip12', 'ip13', 'ip14', 'ip15', 'ip16', 'ip17', 'ip18', 'ip19', 'ip20', 'ip21', 'ip22', 'ip23', 'ip24', 'ip25', 'ip26', 'ip27', 'ip28', 'ip29', 'ip30', 'ip31', 'ip32', 'ip33', 'ip34', 'ip35', 'ip36', 'ip37', 'ip38', 'ip39', 'ip40', 'ip41', 'ip42', 'ip43', 'ip44', 'ip45', 'ip46', 'ip47', 'ip48', 'ip49', 'ip50', 'ip51', 'ip52', 'ip53', 'ip54', 'ip55', 'ip56', 'ip57', 'ip58', 'ip59', 'ip60', 'ip61', 'ip62', 'ip63', 'ip64', 'ip65', 'ip66', 'ip67', 'ip68', 'ip69', 'ip70', 'ip71', 'ip72', 'ip73', 'ip74', 'ip75', 'ip76', 'ip77', 'ip78', 'ip79', 'ip80', 'ip81', 'ip82', 'ip83', 'ip84', 'ip85', 'ip86', 'ip87', 'ip88', 'ip89', 'ip90', 'ip91', 'ip92', 'ip93', 'ip94', 'ip95', 'ip96', 'ip97', 'ip98', 'ip99', 'iq00', 'iq01', 'iq02', 'iq03', 'iq04', 'iq05', 'iq06', 'iq07', 'iq08', 'iq09', 'iq10', 'iq11', 'iq12', 'iq13', 'iq14', 'iq15', 'iq16', 'iq17', 'iq18', 'iq19', 'iq20', 'iq21', 'iq22', 'iq23', 'iq24', 'iq25', 'iq26', 'iq27', 'iq28', 'iq29', 'iq30', 'iq31', 'iq32', 'iq33', 'iq34', 'iq35', 'iq36', 'iq37', 'iq38', 'iq39', 'iq40', 'iq41', 'iq42', 'iq43', 'iq44', 'iq45', 'iq46', 'iq47', 'iq48', 'iq49', 'iq50', 'iq51', 'iq52', 'iq53', 'iq54', 'iq55', 'iq56', 'iq57', 'iq58', 'iq59', 'iq60', 'iq61', 'iq62', 'iq63', 'iq64', 'iq65', 'iq66', 'iq67', 'iq68', 'iq69', 'iq70', 'iq71', 'iq72', 'iq73', 'iq74', 'iq75', 'iq76', 'iq77', 'iq78', 'iq79', 'iq80', 'iq81', 'iq82', 'iq83', 'iq84', 'iq85', 'iq86', 'iq87', 'iq88', 'iq89', 'iq90', 'iq91', 'iq92', 'iq93', 'iq94', 'iq95', 'iq96', 'iq97', 'iq98', 'iq99', 'ir00', 'ir01', 'ir02', 'ir03', 'ir04', 'ir05', 'ir06', 'ir07', 'ir08', 'ir09', 'ir10', 'ir11', 'ir12', 'ir13', 'ir14', 'ir15', 'ir16', 'ir17', 'ir18', 'ir19', 'ir20', 'ir21', 'ir22', 'ir23', 'ir24', 'ir25', 'ir26', 'ir27', 'ir28', 'ir29', 'ir30', 'ir31', 'ir32', 'ir33', 'ir34', 'ir35', 'ir36', 'ir37', 'ir38', 'ir39', 'ir40', 'ir41', 'ir42', 'ir43', 'ir44', 'ir45', 'ir46', 'ir47', 'ir48', 'ir49', 'ir50', 'ir51', 'ir52', 'ir53', 'ir54', 'ir55', 'ir56', 'ir57', 'ir58', 'ir59', 'ir60', 'ir61', 'ir62', 'ir63', 'ir64', 'ir65', 'ir66', 'ir67', 'ir68', 'ir69', 'ir70', 'ir71', 'ir72', 'ir73', 'ir74', 'ir75', 'ir76', 'ir77', 'ir78', 'ir79', 'ir80', 'ir81', 'ir82', 'ir83', 'ir84', 'ir85', 'ir86', 'ir87', 'ir88', 'ir89', 'ir90', 'ir91', 'ir92', 'ir93', 'ir94', 'ir95', 'ir96', 'ir97', 'ir98', 'ir99', 'is00', 'is01', 'is02', 'is03', 'is04', 'is05', 'is06', 'is07', 'is08', 'is09', 'is10', 'is11', 'is12', 'is13', 'is14', 'is15', 'is16', 'is17', 'is18', 'is19', 'is20', 'is21', 'is22', 'is23', 'is24', 'is25', 'is26', 'is27', 'is28', 'is29', 'is30', 'is31', 'is32', 'is33', 'is34', 'is35', 'is36', 'is37', 'is38', 'is39', 'is40', 'is41', 'is42', 'is43', 'is44', 'is45', 'is46', 'is47', 'is48', 'is49', 'is50', 'is51', 'is52', 'is53', 'is54', 'is55', 'is56', 'is57', 'is58', 'is59', 'is60', 'is61', 'is62', 'is63', 'is64', 'is65', 'is66', 'is67', 'is68', 'is69', 'is70', 'is71', 'is72', 'is73', 'is74', 'is75', 'is76', 'is77', 'is78', 'is79', 'is80', 'is81', 'is82', 'is83', 'is84', 'is85', 'is86', 'is87', 'is88', 'is89', 'is90', 'is91', 'is92', 'is93', 'is94', 'is95', 'is96', 'is97', 'is98', 'is99', 'it00', 'it01', 'it02', 'it03', 'it04', 'it05', 'it06', 'it07', 'it08', 'it09', 'it10', 'it11', 'it12', 'it13', 'it14', 'it15', 'it16', 'it17', 'it18', 'it19', 'it20', 'it21', 'it22', 'it23', 'it24', 'it25', 'it26', 'it27', 'it28', 'it29', 'it30', 'it31', 'it32', 'it33', 'it34', 'it35', 'it36', 'it37', 'it38', 'it39', 'it40', 'it41', 'it42', 'it43', 'it44', 'it45', 'it46', 'it47', 'it48', 'it49', 'it50', 'it51', 'it52', 'it53', 'it54', 'it55', 'it56', 'it57', 'it58', 'it59', 'it60', 'it61', 'it62', 'it63', 'it64', 'it65', 'it66', 'it67', 'it68', 'it69', 'it70', 'it71', 'it72', 'it73', 'it74', 'it75', 'it76', 'it77', 'it78', 'it79', 'it80', 'it81', 'it82', 'it83', 'it84', 'it85', 'it86', 'it87', 'it88', 'it89', 'it90', 'it91', 'it92', 'it93', 'it94', 'it95', 'it96', 'it97', 'it98', 'it99', 'iu00', 'iu01', 'iu02', 'iu03', 'iu04', 'iu05', 'iu06', 'iu07', 'iu08', 'iu09', 'iu10', 'iu11', 'iu12', 'iu13', 'iu14', 'iu15', 'iu16', 'iu17', 'iu18', 'iu19', 'iu20', 'iu21', 'iu22', 'iu23', 'iu24', 'iu25', 'iu26', 'iu27', 'iu28', 'iu29', 'iu30', 'iu31', 'iu32', 'iu33', 'iu34', 'iu35', 'iu36', 'iu37', 'iu38', 'iu39', 'iu40', 'iu41', 'iu42', 'iu43', 'iu44', 'iu45', 'iu46', 'iu47', 'iu48', 'iu49', 'iu50', 'iu51', 'iu52', 'iu53', 'iu54', 'iu55', 'iu56', 'iu57', 'iu58', 'iu59', 'iu60', 'iu61', 'iu62', 'iu63', 'iu64', 'iu65', 'iu66', 'iu67', 'iu68', 'iu69', 'iu70', 'iu71', 'iu72', 'iu73', 'iu74', 'iu75', 'iu76', 'iu77', 'iu78', 'iu79', 'iu80', 'iu81', 'iu82', 'iu83', 'iu84', 'iu85', 'iu86', 'iu87', 'iu88', 'iu89', 'iu90', 'iu91', 'iu92', 'iu93', 'iu94', 'iu95', 'iu96', 'iu97', 'iu98', 'iu99', 'iv00', 'iv01', 'iv02', 'iv03', 'iv04', 'iv05', 'iv06', 'iv07', 'iv08', 'iv09', 'iv10', 'iv11', 'iv12', 'iv13', 'iv14', 'iv15', 'iv16', 'iv17', 'iv18', 'iv19', 'iv20', 'iv21', 'iv22', 'iv23', 'iv24', 'iv25', 'iv26', 'iv27', 'iv28', 'iv29', 'iv30', 'iv31', 'iv32', 'iv33', 'iv34', 'iv35', 'iv36', 'iv37', 'iv38', 'iv39', 'iv40', 'iv41', 'iv42', 'iv43', 'iv44', 'iv45', 'iv46', 'iv47', 'iv48', 'iv49', 'iv50', 'iv51', 'iv52', 'iv53', 'iv54', 'iv55', 'iv56', 'iv57', 'iv58', 'iv59', 'iv60', 'iv61', 'iv62', 'iv63', 'iv64', 'iv65', 'iv66', 'iv67', 'iv68', 'iv69', 'iv70', 'iv71', 'iv72', 'iv73', 'iv74', 'iv75', 'iv76', 'iv77', 'iv78', 'iv79', 'iv80', 'iv81', 'iv82', 'iv83', 'iv84', 'iv85', 'iv86', 'iv87', 'iv88', 'iv89', 'iv90', 'iv91', 'iv92', 'iv93', 'iv94', 'iv95', 'iv96', 'iv97', 'iv98', 'iv99', 'iw00', 'iw01', 'iw02', 'iw03', 'iw04', 'iw05', 'iw06', 'iw07', 'iw08', 'iw09', 'iw10', 'iw11', 'iw12', 'iw13', 'iw14', 'iw15', 'iw16', 'iw17', 'iw18', 'iw19', 'iw20', 'iw21', 'iw22', 'iw23', 'iw24', 'iw25', 'iw26', 'iw27', 'iw28', 'iw29', 'iw30', 'iw31', 'iw32', 'iw33', 'iw34', 'iw35', 'iw36', 'iw37', 'iw38', 'iw39', 'iw40', 'iw41', 'iw42', 'iw43', 'iw44', 'iw45', 'iw46', 'iw47', 'iw48', 'iw49', 'iw50', 'iw51', 'iw52', 'iw53', 'iw54', 'iw55', 'iw56', 'iw57', 'iw58', 'iw59', 'iw60', 'iw61', 'iw62', 'iw63', 'iw64', 'iw65', 'iw66', 'iw67', 'iw68', 'iw69', 'iw70', 'iw71', 'iw72', 'iw73', 'iw74', 'iw75', 'iw76', 'iw77', 'iw78', 'iw79', 'iw80', 'iw81', 'iw82', 'iw83', 'iw84', 'iw85', 'iw86', 'iw87', 'iw88', 'iw89', 'iw90', 'iw91', 'iw92', 'iw93', 'iw94', 'iw95', 'iw96', 'iw97', 'iw98', 'iw99', 'ix00', 'ix01', 'ix02', 'ix03', 'ix04', 'ix05', 'ix06', 'ix07', 'ix08', 'ix09', 'ix10', 'ix11', 'ix12', 'ix13', 'ix14', 'ix15', 'ix16', 'ix17', 'ix18', 'ix19', 'ix20', 'ix21', 'ix22', 'ix23', 'ix24', 'ix25', 'ix26', 'ix27', 'ix28', 'ix29', 'ix30', 'ix31', 'ix32', 'ix33', 'ix34', 'ix35', 'ix36', 'ix37', 'ix38', 'ix39', 'ix40', 'ix41', 'ix42', 'ix43', 'ix44', 'ix45', 'ix46', 'ix47', 'ix48', 'ix49', 'ix50', 'ix51', 'ix52', 'ix53', 'ix54', 'ix55', 'ix56', 'ix57', 'ix58', 'ix59', 'ix60', 'ix61', 'ix62', 'ix63', 'ix64', 'ix65', 'ix66', 'ix67', 'ix68', 'ix69', 'ix70', 'ix71', 'ix72', 'ix73', 'ix74', 'ix75', 'ix76', 'ix77', 'ix78', 'ix79', 'ix80', 'ix81', 'ix82', 'ix83', 'ix84', 'ix85', 'ix86', 'ix87', 'ix88', 'ix89', 'ix90', 'ix91', 'ix92', 'ix93', 'ix94', 'ix95', 'ix96', 'ix97', 'ix98', 'ix99', 'iy00', 'iy01', 'iy02', 'iy03', 'iy04', 'iy05', 'iy06', 'iy07', 'iy08', 'iy09', 'iy10', 'iy11', 'iy12', 'iy13', 'iy14', 'iy15', 'iy16', 'iy17', 'iy18', 'iy19', 'iy20', 'iy21', 'iy22', 'iy23', 'iy24', 'iy25', 'iy26', 'iy27', 'iy28', 'iy29', 'iy30', 'iy31', 'iy32', 'iy33', 'iy34', 'iy35', 'iy36', 'iy37', 'iy38', 'iy39', 'iy40', 'iy41', 'iy42', 'iy43', 'iy44', 'iy45', 'iy46', 'iy47', 'iy48', 'iy49', 'iy50', 'iy51', 'iy52', 'iy53', 'iy54', 'iy55', 'iy56', 'iy57', 'iy58', 'iy59', 'iy60', 'iy61', 'iy62', 'iy63', 'iy64', 'iy65', 'iy66', 'iy67', 'iy68', 'iy69', 'iy70', 'iy71', 'iy72', 'iy73', 'iy74', 'iy75', 'iy76', 'iy77', 'iy78', 'iy79', 'iy80', 'iy81', 'iy82', 'iy83', 'iy84', 'iy85', 'iy86', 'iy87', 'iy88', 'iy89', 'iy90', 'iy91', 'iy92', 'iy93', 'iy94', 'iy95', 'iy96', 'iy97', 'iy98', 'iy99', 'iz00', 'iz01', 'iz02', 'iz03', 'iz04', 'iz05', 'iz06', 'iz07', 'iz08', 'iz09', 'iz10', 'iz11', 'iz12', 'iz13', 'iz14', 'iz15', 'iz16', 'iz17', 'iz18', 'iz19', 'iz20', 'iz21', 'iz22', 'iz23', 'iz24', 'iz25', 'iz26', 'iz27', 'iz28', 'iz29', 'iz30', 'iz31', 'iz32', 'iz33', 'iz34', 'iz35', 'iz36', 'iz37', 'iz38', 'iz39', 'iz40', 'iz41', 'iz42', 'iz43', 'iz44', 'iz45', 'iz46', 'iz47', 'iz48', 'iz49', 'iz50', 'iz51', 'iz52', 'iz53', 'iz54', 'iz55', 'iz56', 'iz57', 'iz58', 'iz59', 'iz60', 'iz61', 'iz62', 'iz63', 'iz64', 'iz65', 'iz66', 'iz67', 'iz68', 'iz69', 'iz70', 'iz71', 'iz72', 'iz73', 'iz74', 'iz75', 'iz76', 'iz77', 'iz78', 'iz79', 'iz80', 'iz81', 'iz82', 'iz83', 'iz84', 'iz85', 'iz86', 'iz87', 'iz88', 'iz89', 'iz90', 'iz91', 'iz92', 'iz93', 'iz94', 'iz95', 'iz96', 'iz97', 'iz98', 'iz99', 'ja00', 'ja01', 'ja02', 'ja03', 'ja04', 'ja05', 'ja06', 'ja07', 'ja08', 'ja09', 'ja10', 'ja11', 'ja12', 'ja13', 'ja14', 'ja15', 'ja16', 'ja17', 'ja18', 'ja19', 'ja20', 'ja21', 'ja22', 'ja23', 'ja24', 'ja25', 'ja26', 'ja27', 'ja28', 'ja29', 'ja30', 'ja31', 'ja32', 'ja33', 'ja34', 'ja35', 'ja36', 'ja37', 'ja38', 'ja39', 'ja40', 'ja41', 'ja42', 'ja43', 'ja44', 'ja45', 'ja46', 'ja47', 'ja48', 'ja49', 'ja50', 'ja51', 'ja52', 'ja53', 'ja54', 'ja55', 'ja56', 'ja57', 'ja58', 'ja59', 'ja60', 'ja61', 'ja62', 'ja63', 'ja64', 'ja65', 'ja66', 'ja67', 'ja68', 'ja69', 'ja70', 'ja71', 'ja72', 'ja73', 'ja74', 'ja75', 'ja76', 'ja77', 'ja78', 'ja79', 'ja80', 'ja81', 'ja82', 'ja83', 'ja84', 'ja85', 'ja86', 'ja87', 'ja88', 'ja89', 'ja90', 'ja91', 'ja92', 'ja93', 'ja94', 'ja95', 'ja96', 'ja97', 'ja98', 'ja99', 'jb00', 'jb01', 'jb02', 'jb03', 'jb04', 'jb05', 'jb06', 'jb07', 'jb08', 'jb09', 'jb10', 'jb11', 'jb12', 'jb13', 'jb14', 'jb15', 'jb16', 'jb17', 'jb18', 'jb19', 'jb20', 'jb21', 'jb22', 'jb23', 'jb24', 'jb25', 'jb26', 'jb27', 'jb28', 'jb29', 'jb30', 'jb31', 'jb32', 'jb33', 'jb34', 'jb35', 'jb36', 'jb37', 'jb38', 'jb39', 'jb40', 'jb41', 'jb42', 'jb43', 'jb44', 'jb45', 'jb46', 'jb47', 'jb48', 'jb49', 'jb50', 'jb51', 'jb52', 'jb53', 'jb54', 'jb55', 'jb56', 'jb57', 'jb58', 'jb59', 'jb60', 'jb61', 'jb62', 'jb63', 'jb64', 'jb65', 'jb66', 'jb67', 'jb68', 'jb69', 'jb70', 'jb71', 'jb72', 'jb73', 'jb74', 'jb75', 'jb76', 'jb77', 'jb78', 'jb79', 'jb80', 'jb81', 'jb82', 'jb83', 'jb84', 'jb85', 'jb86', 'jb87', 'jb88', 'jb89', 'jb90', 'jb91', 'jb92', 'jb93', 'jb94', 'jb95', 'jb96', 'jb97', 'jb98', 'jb99', 'jc00', 'jc01', 'jc02', 'jc03', 'jc04', 'jc05', 'jc06', 'jc07', 'jc08', 'jc09', 'jc10', 'jc11', 'jc12', 'jc13', 'jc14', 'jc15', 'jc16', 'jc17', 'jc18', 'jc19', 'jc20', 'jc21', 'jc22', 'jc23', 'jc24', 'jc25', 'jc26', 'jc27', 'jc28', 'jc29', 'jc30', 'jc31', 'jc32', 'jc33', 'jc34', 'jc35', 'jc36', 'jc37', 'jc38', 'jc39', 'jc40', 'jc41', 'jc42', 'jc43', 'jc44', 'jc45', 'jc46', 'jc47', 'jc48', 'jc49', 'jc50', 'jc51', 'jc52', 'jc53', 'jc54', 'jc55', 'jc56', 'jc57', 'jc58', 'jc59', 'jc60', 'jc61', 'jc62', 'jc63', 'jc64', 'jc65', 'jc66', 'jc67', 'jc68', 'jc69', 'jc70', 'jc71', 'jc72', 'jc73', 'jc74', 'jc75', 'jc76', 'jc77', 'jc78', 'jc79', 'jc80', 'jc81', 'jc82', 'jc83', 'jc84', 'jc85', 'jc86', 'jc87', 'jc88', 'jc89', 'jc90', 'jc91', 'jc92', 'jc93', 'jc94', 'jc95', 'jc96', 'jc97', 'jc98', 'jc99', 'jd00', 'jd01', 'jd02', 'jd03', 'jd04', 'jd05', 'jd06', 'jd07', 'jd08', 'jd09', 'jd10', 'jd11', 'jd12', 'jd13', 'jd14', 'jd15', 'jd16', 'jd17', 'jd18', 'jd19', 'jd20', 'jd21', 'jd22', 'jd23', 'jd24', 'jd25', 'jd26', 'jd27', 'jd28', 'jd29', 'jd30', 'jd31', 'jd32', 'jd33', 'jd34', 'jd35', 'jd36', 'jd37', 'jd38', 'jd39', 'jd40', 'jd41', 'jd42', 'jd43', 'jd44', 'jd45', 'jd46', 'jd47', 'jd48', 'jd49', 'jd50', 'jd51', 'jd52', 'jd53', 'jd54', 'jd55', 'jd56', 'jd57', 'jd58', 'jd59', 'jd60', 'jd61', 'jd62', 'jd63', 'jd64', 'jd65', 'jd66', 'jd67', 'jd68', 'jd69', 'jd70', 'jd71', 'jd72', 'jd73', 'jd74', 'jd75', 'jd76', 'jd77', 'jd78', 'jd79', 'jd80', 'jd81', 'jd82', 'jd83', 'jd84', 'jd85', 'jd86', 'jd87', 'jd88', 'jd89', 'jd90', 'jd91', 'jd92', 'jd93', 'jd94', 'jd95', 'jd96', 'jd97', 'jd98', 'jd99', 'je00', 'je01', 'je02', 'je03', 'je04', 'je05', 'je06', 'je07', 'je08', 'je09', 'je10', 'je11', 'je12', 'je13', 'je14', 'je15', 'je16', 'je17', 'je18', 'je19', 'je20', 'je21', 'je22', 'je23', 'je24', 'je25', 'je26', 'je27', 'je28', 'je29', 'je30', 'je31', 'je32', 'je33', 'je34', 'je35', 'je36', 'je37', 'je38', 'je39', 'je40', 'je41', 'je42', 'je43', 'je44', 'je45', 'je46', 'je47', 'je48', 'je49', 'je50', 'je51', 'je52', 'je53', 'je54', 'je55', 'je56', 'je57', 'je58', 'je59', 'je60', 'je61', 'je62', 'je63', 'je64', 'je65', 'je66', 'je67', 'je68', 'je69', 'je70', 'je71', 'je72', 'je73', 'je74', 'je75', 'je76', 'je77', 'je78', 'je79', 'je80', 'je81', 'je82', 'je83', 'je84', 'je85', 'je86', 'je87', 'je88', 'je89', 'je90', 'je91', 'je92', 'je93', 'je94', 'je95', 'je96', 'je97', 'je98', 'je99', 'jf00', 'jf01', 'jf02', 'jf03', 'jf04', 'jf05', 'jf06', 'jf07', 'jf08', 'jf09', 'jf10', 'jf11', 'jf12', 'jf13', 'jf14', 'jf15', 'jf16', 'jf17', 'jf18', 'jf19', 'jf20', 'jf21', 'jf22', 'jf23', 'jf24', 'jf25', 'jf26', 'jf27', 'jf28', 'jf29', 'jf30', 'jf31', 'jf32', 'jf33', 'jf34', 'jf35', 'jf36', 'jf37', 'jf38', 'jf39', 'jf40', 'jf41', 'jf42', 'jf43', 'jf44', 'jf45', 'jf46', 'jf47', 'jf48', 'jf49', 'jf50', 'jf51', 'jf52', 'jf53', 'jf54', 'jf55', 'jf56', 'jf57', 'jf58', 'jf59', 'jf60', 'jf61', 'jf62', 'jf63', 'jf64', 'jf65', 'jf66', 'jf67', 'jf68', 'jf69', 'jf70', 'jf71', 'jf72', 'jf73', 'jf74', 'jf75', 'jf76', 'jf77', 'jf78', 'jf79', 'jf80', 'jf81', 'jf82', 'jf83', 'jf84', 'jf85', 'jf86', 'jf87', 'jf88', 'jf89', 'jf90', 'jf91', 'jf92', 'jf93', 'jf94', 'jf95', 'jf96', 'jf97', 'jf98', 'jf99', 'jg00', 'jg01', 'jg02', 'jg03', 'jg04', 'jg05', 'jg06', 'jg07', 'jg08', 'jg09', 'jg10', 'jg11', 'jg12', 'jg13', 'jg14', 'jg15', 'jg16', 'jg17', 'jg18', 'jg19', 'jg20', 'jg21', 'jg22', 'jg23', 'jg24', 'jg25', 'jg26', 'jg27', 'jg28', 'jg29', 'jg30', 'jg31', 'jg32', 'jg33', 'jg34', 'jg35', 'jg36', 'jg37', 'jg38', 'jg39', 'jg40', 'jg41', 'jg42', 'jg43', 'jg44', 'jg45', 'jg46', 'jg47', 'jg48', 'jg49', 'jg50', 'jg51', 'jg52', 'jg53', 'jg54', 'jg55', 'jg56', 'jg57', 'jg58', 'jg59', 'jg60', 'jg61', 'jg62', 'jg63', 'jg64', 'jg65', 'jg66', 'jg67', 'jg68', 'jg69', 'jg70', 'jg71', 'jg72', 'jg73', 'jg74', 'jg75', 'jg76', 'jg77', 'jg78', 'jg79', 'jg80', 'jg81', 'jg82', 'jg83', 'jg84', 'jg85', 'jg86', 'jg87', 'jg88', 'jg89', 'jg90', 'jg91', 'jg92', 'jg93', 'jg94', 'jg95', 'jg96', 'jg97', 'jg98', 'jg99', 'jh00', 'jh01', 'jh02', 'jh03', 'jh04', 'jh05', 'jh06', 'jh07', 'jh08', 'jh09', 'jh10', 'jh11', 'jh12', 'jh13', 'jh14', 'jh15', 'jh16', 'jh17', 'jh18', 'jh19', 'jh20', 'jh21', 'jh22', 'jh23', 'jh24', 'jh25', 'jh26', 'jh27', 'jh28', 'jh29', 'jh30', 'jh31', 'jh32', 'jh33', 'jh34', 'jh35', 'jh36', 'jh37', 'jh38', 'jh39', 'jh40', 'jh41', 'jh42', 'jh43', 'jh44', 'jh45', 'jh46', 'jh47', 'jh48', 'jh49', 'jh50', 'jh51', 'jh52', 'jh53', 'jh54', 'jh55', 'jh56', 'jh57', 'jh58', 'jh59', 'jh60', 'jh61', 'jh62', 'jh63', 'jh64', 'jh65', 'jh66', 'jh67', 'jh68', 'jh69', 'jh70', 'jh71', 'jh72', 'jh73', 'jh74', 'jh75', 'jh76', 'jh77', 'jh78', 'jh79', 'jh80', 'jh81', 'jh82', 'jh83', 'jh84', 'jh85', 'jh86', 'jh87', 'jh88', 'jh89', 'jh90', 'jh91', 'jh92', 'jh93', 'jh94', 'jh95', 'jh96', 'jh97', 'jh98', 'jh99', 'ji00', 'ji01', 'ji02', 'ji03', 'ji04', 'ji05', 'ji06', 'ji07', 'ji08', 'ji09', 'ji10', 'ji11', 'ji12', 'ji13', 'ji14', 'ji15', 'ji16', 'ji17', 'ji18', 'ji19', 'ji20', 'ji21', 'ji22', 'ji23', 'ji24', 'ji25', 'ji26', 'ji27', 'ji28', 'ji29', 'ji30', 'ji31', 'ji32', 'ji33', 'ji34', 'ji35', 'ji36', 'ji37', 'ji38', 'ji39', 'ji40', 'ji41', 'ji42', 'ji43', 'ji44', 'ji45', 'ji46', 'ji47', 'ji48', 'ji49', 'ji50', 'ji51', 'ji52', 'ji53', 'ji54', 'ji55', 'ji56', 'ji57', 'ji58', 'ji59', 'ji60', 'ji61', 'ji62', 'ji63', 'ji64', 'ji65', 'ji66', 'ji67', 'ji68', 'ji69', 'ji70', 'ji71', 'ji72', 'ji73', 'ji74', 'ji75', 'ji76', 'ji77', 'ji78', 'ji79', 'ji80', 'ji81', 'ji82', 'ji83', 'ji84', 'ji85', 'ji86', 'ji87', 'ji88', 'ji89', 'ji90', 'ji91', 'ji92', 'ji93', 'ji94', 'ji95', 'ji96', 'ji97', 'ji98', 'ji99', 'jj00', 'jj01', 'jj02', 'jj03', 'jj04', 'jj05', 'jj06', 'jj07', 'jj08', 'jj09', 'jj10', 'jj11', 'jj12', 'jj13', 'jj14', 'jj15', 'jj16', 'jj17', 'jj18', 'jj19', 'jj20', 'jj21', 'jj22', 'jj23', 'jj24', 'jj25', 'jj26', 'jj27', 'jj28', 'jj29', 'jj30', 'jj31', 'jj32', 'jj33', 'jj34', 'jj35', 'jj36', 'jj37', 'jj38', 'jj39', 'jj40', 'jj41', 'jj42', 'jj43', 'jj44', 'jj45', 'jj46', 'jj47', 'jj48', 'jj49', 'jj50', 'jj51', 'jj52', 'jj53', 'jj54', 'jj55', 'jj56', 'jj57', 'jj58', 'jj59', 'jj60', 'jj61', 'jj62', 'jj63', 'jj64', 'jj65', 'jj66', 'jj67', 'jj68', 'jj69', 'jj70', 'jj71', 'jj72', 'jj73', 'jj74', 'jj75', 'jj76', 'jj77', 'jj78', 'jj79', 'jj80', 'jj81', 'jj82', 'jj83', 'jj84', 'jj85', 'jj86', 'jj87', 'jj88', 'jj89', 'jj90', 'jj91', 'jj92', 'jj93', 'jj94', 'jj95', 'jj96', 'jj97', 'jj98', 'jj99', 'jk00', 'jk01', 'jk02', 'jk03', 'jk04', 'jk05', 'jk06', 'jk07', 'jk08', 'jk09', 'jk10', 'jk11', 'jk12', 'jk13', 'jk14', 'jk15', 'jk16', 'jk17', 'jk18', 'jk19', 'jk20', 'jk21', 'jk22', 'jk23', 'jk24', 'jk25', 'jk26', 'jk27', 'jk28', 'jk29', 'jk30', 'jk31', 'jk32', 'jk33', 'jk34', 'jk35', 'jk36', 'jk37', 'jk38', 'jk39', 'jk40', 'jk41', 'jk42', 'jk43', 'jk44', 'jk45', 'jk46', 'jk47', 'jk48', 'jk49', 'jk50', 'jk51', 'jk52', 'jk53', 'jk54', 'jk55', 'jk56', 'jk57', 'jk58', 'jk59', 'jk60', 'jk61', 'jk62', 'jk63', 'jk64', 'jk65', 'jk66', 'jk67', 'jk68', 'jk69', 'jk70', 'jk71', 'jk72', 'jk73', 'jk74', 'jk75', 'jk76', 'jk77', 'jk78', 'jk79', 'jk80', 'jk81', 'jk82', 'jk83', 'jk84', 'jk85', 'jk86', 'jk87', 'jk88', 'jk89', 'jk90', 'jk91', 'jk92', 'jk93', 'jk94', 'jk95', 'jk96', 'jk97', 'jk98', 'jk99', 'jl00', 'jl01', 'jl02', 'jl03', 'jl04', 'jl05', 'jl06', 'jl07', 'jl08', 'jl09', 'jl10', 'jl11', 'jl12', 'jl13', 'jl14', 'jl15', 'jl16', 'jl17', 'jl18', 'jl19', 'jl20', 'jl21', 'jl22', 'jl23', 'jl24', 'jl25', 'jl26', 'jl27', 'jl28', 'jl29', 'jl30', 'jl31', 'jl32', 'jl33', 'jl34', 'jl35', 'jl36', 'jl37', 'jl38', 'jl39', 'jl40', 'jl41', 'jl42', 'jl43', 'jl44', 'jl45', 'jl46', 'jl47', 'jl48', 'jl49', 'jl50', 'jl51', 'jl52', 'jl53', 'jl54', 'jl55', 'jl56', 'jl57', 'jl58', 'jl59', 'jl60', 'jl61', 'jl62', 'jl63', 'jl64', 'jl65', 'jl66', 'jl67', 'jl68', 'jl69', 'jl70', 'jl71', 'jl72', 'jl73', 'jl74', 'jl75', 'jl76', 'jl77', 'jl78', 'jl79', 'jl80', 'jl81', 'jl82', 'jl83', 'jl84', 'jl85', 'jl86', 'jl87', 'jl88', 'jl89', 'jl90', 'jl91', 'jl92', 'jl93', 'jl94', 'jl95', 'jl96', 'jl97', 'jl98', 'jl99', 'jm00', 'jm01', 'jm02', 'jm03', 'jm04', 'jm05', 'jm06', 'jm07', 'jm08', 'jm09', 'jm10', 'jm11', 'jm12', 'jm13', 'jm14', 'jm15', 'jm16', 'jm17', 'jm18', 'jm19', 'jm20', 'jm21', 'jm22', 'jm23', 'jm24', 'jm25', 'jm26', 'jm27', 'jm28', 'jm29', 'jm30', 'jm31', 'jm32', 'jm33', 'jm34', 'jm35', 'jm36', 'jm37', 'jm38', 'jm39', 'jm40', 'jm41', 'jm42', 'jm43', 'jm44', 'jm45', 'jm46', 'jm47', 'jm48', 'jm49', 'jm50', 'jm51', 'jm52', 'jm53', 'jm54', 'jm55', 'jm56', 'jm57', 'jm58', 'jm59', 'jm60', 'jm61', 'jm62', 'jm63', 'jm64', 'jm65', 'jm66', 'jm67', 'jm68', 'jm69', 'jm70', 'jm71', 'jm72', 'jm73', 'jm74', 'jm75', 'jm76', 'jm77', 'jm78', 'jm79', 'jm80', 'jm81', 'jm82', 'jm83', 'jm84', 'jm85', 'jm86', 'jm87', 'jm88', 'jm89', 'jm90', 'jm91', 'jm92', 'jm93', 'jm94', 'jm95', 'jm96', 'jm97', 'jm98', 'jm99', 'jn00', 'jn01', 'jn02', 'jn03', 'jn04', 'jn05', 'jn06', 'jn07', 'jn08', 'jn09', 'jn10', 'jn11', 'jn12', 'jn13', 'jn14', 'jn15', 'jn16', 'jn17', 'jn18', 'jn19', 'jn20', 'jn21', 'jn22', 'jn23', 'jn24', 'jn25', 'jn26', 'jn27', 'jn28', 'jn29', 'jn30', 'jn31', 'jn32', 'jn33', 'jn34', 'jn35', 'jn36', 'jn37', 'jn38', 'jn39', 'jn40', 'jn41', 'jn42', 'jn43', 'jn44', 'jn45', 'jn46', 'jn47', 'jn48', 'jn49', 'jn50', 'jn51', 'jn52', 'jn53', 'jn54', 'jn55', 'jn56', 'jn57', 'jn58', 'jn59', 'jn60', 'jn61', 'jn62', 'jn63', 'jn64', 'jn65', 'jn66', 'jn67', 'jn68', 'jn69', 'jn70', 'jn71', 'jn72', 'jn73', 'jn74', 'jn75', 'jn76', 'jn77', 'jn78', 'jn79', 'jn80', 'jn81', 'jn82', 'jn83', 'jn84', 'jn85', 'jn86', 'jn87', 'jn88', 'jn89', 'jn90', 'jn91', 'jn92', 'jn93', 'jn94', 'jn95', 'jn96', 'jn97', 'jn98', 'jn99', 'jo00', 'jo01', 'jo02', 'jo03', 'jo04', 'jo05', 'jo06', 'jo07', 'jo08', 'jo09', 'jo10', 'jo11', 'jo12', 'jo13', 'jo14', 'jo15', 'jo16', 'jo17', 'jo18', 'jo19', 'jo20', 'jo21', 'jo22', 'jo23', 'jo24', 'jo25', 'jo26', 'jo27', 'jo28', 'jo29', 'jo30', 'jo31', 'jo32', 'jo33', 'jo34', 'jo35', 'jo36', 'jo37', 'jo38', 'jo39', 'jo40', 'jo41', 'jo42', 'jo43', 'jo44', 'jo45', 'jo46', 'jo47', 'jo48', 'jo49', 'jo50', 'jo51', 'jo52', 'jo53', 'jo54', 'jo55', 'jo56', 'jo57', 'jo58', 'jo59', 'jo60', 'jo61', 'jo62', 'jo63', 'jo64', 'jo65', 'jo66', 'jo67', 'jo68', 'jo69', 'jo70', 'jo71', 'jo72', 'jo73', 'jo74', 'jo75', 'jo76', 'jo77', 'jo78', 'jo79', 'jo80', 'jo81', 'jo82', 'jo83', 'jo84', 'jo85', 'jo86', 'jo87', 'jo88', 'jo89', 'jo90', 'jo91', 'jo92', 'jo93', 'jo94', 'jo95', 'jo96', 'jo97', 'jo98', 'jo99', 'jp00', 'jp01', 'jp02', 'jp03', 'jp04', 'jp05', 'jp06', 'jp07', 'jp08', 'jp09', 'jp10', 'jp11', 'jp12', 'jp13', 'jp14', 'jp15', 'jp16', 'jp17', 'jp18', 'jp19', 'jp20', 'jp21', 'jp22', 'jp23', 'jp24', 'jp25', 'jp26', 'jp27', 'jp28', 'jp29', 'jp30', 'jp31', 'jp32', 'jp33', 'jp34', 'jp35', 'jp36', 'jp37', 'jp38', 'jp39', 'jp40', 'jp41', 'jp42', 'jp43', 'jp44', 'jp45', 'jp46', 'jp47', 'jp48', 'jp49', 'jp50', 'jp51', 'jp52', 'jp53', 'jp54', 'jp55', 'jp56', 'jp57', 'jp58', 'jp59', 'jp60', 'jp61', 'jp62', 'jp63', 'jp64', 'jp65', 'jp66', 'jp67', 'jp68', 'jp69', 'jp70', 'jp71', 'jp72', 'jp73', 'jp74', 'jp75', 'jp76', 'jp77', 'jp78', 'jp79', 'jp80', 'jp81', 'jp82', 'jp83', 'jp84', 'jp85', 'jp86', 'jp87', 'jp88', 'jp89', 'jp90', 'jp91', 'jp92', 'jp93', 'jp94', 'jp95', 'jp96', 'jp97', 'jp98', 'jp99', 'jq00', 'jq01', 'jq02', 'jq03', 'jq04', 'jq05', 'jq06', 'jq07', 'jq08', 'jq09', 'jq10', 'jq11', 'jq12', 'jq13', 'jq14', 'jq15', 'jq16', 'jq17', 'jq18', 'jq19', 'jq20', 'jq21', 'jq22', 'jq23', 'jq24', 'jq25', 'jq26', 'jq27', 'jq28', 'jq29', 'jq30', 'jq31', 'jq32', 'jq33', 'jq34', 'jq35', 'jq36', 'jq37', 'jq38', 'jq39', 'jq40', 'jq41', 'jq42', 'jq43', 'jq44', 'jq45', 'jq46', 'jq47', 'jq48', 'jq49', 'jq50', 'jq51', 'jq52', 'jq53', 'jq54', 'jq55', 'jq56', 'jq57', 'jq58', 'jq59', 'jq60', 'jq61', 'jq62', 'jq63', 'jq64', 'jq65', 'jq66', 'jq67', 'jq68', 'jq69', 'jq70', 'jq71', 'jq72', 'jq73', 'jq74', 'jq75', 'jq76', 'jq77', 'jq78', 'jq79', 'jq80', 'jq81', 'jq82', 'jq83', 'jq84', 'jq85', 'jq86', 'jq87', 'jq88', 'jq89', 'jq90', 'jq91', 'jq92', 'jq93', 'jq94', 'jq95', 'jq96', 'jq97', 'jq98', 'jq99', 'jr00', 'jr01', 'jr02', 'jr03', 'jr04', 'jr05', 'jr06', 'jr07', 'jr08', 'jr09', 'jr10', 'jr11', 'jr12', 'jr13', 'jr14', 'jr15', 'jr16', 'jr17', 'jr18', 'jr19', 'jr20', 'jr21', 'jr22', 'jr23', 'jr24', 'jr25', 'jr26', 'jr27', 'jr28', 'jr29', 'jr30', 'jr31', 'jr32', 'jr33', 'jr34', 'jr35', 'jr36', 'jr37', 'jr38', 'jr39', 'jr40', 'jr41', 'jr42', 'jr43', 'jr44', 'jr45', 'jr46', 'jr47', 'jr48', 'jr49', 'jr50', 'jr51', 'jr52', 'jr53', 'jr54', 'jr55', 'jr56', 'jr57', 'jr58', 'jr59', 'jr60', 'jr61', 'jr62', 'jr63', 'jr64', 'jr65', 'jr66', 'jr67', 'jr68', 'jr69', 'jr70', 'jr71', 'jr72', 'jr73', 'jr74', 'jr75', 'jr76', 'jr77', 'jr78', 'jr79', 'jr80', 'jr81', 'jr82', 'jr83', 'jr84', 'jr85', 'jr86', 'jr87', 'jr88', 'jr89', 'jr90', 'jr91', 'jr92', 'jr93', 'jr94', 'jr95', 'jr96', 'jr97', 'jr98', 'jr99', 'js00', 'js01', 'js02', 'js03', 'js04', 'js05', 'js06', 'js07', 'js08', 'js09', 'js10', 'js11', 'js12', 'js13', 'js14', 'js15', 'js16', 'js17', 'js18', 'js19', 'js20', 'js21', 'js22', 'js23', 'js24', 'js25', 'js26', 'js27', 'js28', 'js29', 'js30', 'js31', 'js32', 'js33', 'js34', 'js35', 'js36', 'js37', 'js38', 'js39', 'js40', 'js41', 'js42', 'js43', 'js44', 'js45', 'js46', 'js47', 'js48', 'js49', 'js50', 'js51', 'js52', 'js53', 'js54', 'js55', 'js56', 'js57', 'js58', 'js59', 'js60', 'js61', 'js62', 'js63', 'js64', 'js65', 'js66', 'js67', 'js68', 'js69', 'js70', 'js71', 'js72', 'js73', 'js74', 'js75', 'js76', 'js77', 'js78', 'js79', 'js80', 'js81', 'js82', 'js83', 'js84', 'js85', 'js86', 'js87', 'js88', 'js89', 'js90', 'js91', 'js92', 'js93', 'js94', 'js95', 'js96', 'js97', 'js98', 'js99', 'jt00', 'jt01', 'jt02', 'jt03', 'jt04', 'jt05', 'jt06', 'jt07', 'jt08', 'jt09', 'jt10', 'jt11', 'jt12', 'jt13', 'jt14', 'jt15', 'jt16', 'jt17', 'jt18', 'jt19', 'jt20', 'jt21', 'jt22', 'jt23', 'jt24', 'jt25', 'jt26', 'jt27', 'jt28', 'jt29', 'jt30', 'jt31', 'jt32', 'jt33', 'jt34', 'jt35', 'jt36', 'jt37', 'jt38', 'jt39', 'jt40', 'jt41', 'jt42', 'jt43', 'jt44', 'jt45', 'jt46', 'jt47', 'jt48', 'jt49', 'jt50', 'jt51', 'jt52', 'jt53', 'jt54', 'jt55', 'jt56', 'jt57', 'jt58', 'jt59', 'jt60', 'jt61', 'jt62', 'jt63', 'jt64', 'jt65', 'jt66', 'jt67', 'jt68', 'jt69', 'jt70', 'jt71', 'jt72', 'jt73', 'jt74', 'jt75', 'jt76', 'jt77', 'jt78', 'jt79', 'jt80', 'jt81', 'jt82', 'jt83', 'jt84', 'jt85', 'jt86', 'jt87', 'jt88', 'jt89', 'jt90', 'jt91', 'jt92', 'jt93', 'jt94', 'jt95', 'jt96', 'jt97', 'jt98', 'jt99', 'ju00', 'ju01', 'ju02', 'ju03', 'ju04', 'ju05', 'ju06', 'ju07', 'ju08', 'ju09', 'ju10', 'ju11', 'ju12', 'ju13', 'ju14', 'ju15', 'ju16', 'ju17', 'ju18', 'ju19', 'ju20', 'ju21', 'ju22', 'ju23', 'ju24', 'ju25', 'ju26', 'ju27', 'ju28', 'ju29', 'ju30', 'ju31', 'ju32', 'ju33', 'ju34', 'ju35', 'ju36', 'ju37', 'ju38', 'ju39', 'ju40', 'ju41', 'ju42', 'ju43', 'ju44', 'ju45', 'ju46', 'ju47', 'ju48', 'ju49', 'ju50', 'ju51', 'ju52', 'ju53', 'ju54', 'ju55', 'ju56', 'ju57', 'ju58', 'ju59', 'ju60', 'ju61', 'ju62', 'ju63', 'ju64', 'ju65', 'ju66', 'ju67', 'ju68', 'ju69', 'ju70', 'ju71', 'ju72', 'ju73', 'ju74', 'ju75', 'ju76', 'ju77', 'ju78', 'ju79', 'ju80', 'ju81', 'ju82', 'ju83', 'ju84', 'ju85', 'ju86', 'ju87', 'ju88', 'ju89', 'ju90', 'ju91', 'ju92', 'ju93', 'ju94', 'ju95', 'ju96', 'ju97', 'ju98', 'ju99', 'jv00', 'jv01', 'jv02', 'jv03', 'jv04', 'jv05', 'jv06', 'jv07', 'jv08', 'jv09', 'jv10', 'jv11', 'jv12', 'jv13', 'jv14', 'jv15', 'jv16', 'jv17', 'jv18', 'jv19', 'jv20', 'jv21', 'jv22', 'jv23', 'jv24', 'jv25', 'jv26', 'jv27', 'jv28', 'jv29', 'jv30', 'jv31', 'jv32', 'jv33', 'jv34', 'jv35', 'jv36', 'jv37', 'jv38', 'jv39', 'jv40', 'jv41', 'jv42', 'jv43', 'jv44', 'jv45', 'jv46', 'jv47', 'jv48', 'jv49', 'jv50', 'jv51', 'jv52', 'jv53', 'jv54', 'jv55', 'jv56', 'jv57', 'jv58', 'jv59', 'jv60', 'jv61', 'jv62', 'jv63', 'jv64', 'jv65', 'jv66', 'jv67', 'jv68', 'jv69', 'jv70', 'jv71', 'jv72', 'jv73', 'jv74', 'jv75', 'jv76', 'jv77', 'jv78', 'jv79', 'jv80', 'jv81', 'jv82', 'jv83', 'jv84', 'jv85', 'jv86', 'jv87', 'jv88', 'jv89', 'jv90', 'jv91', 'jv92', 'jv93', 'jv94', 'jv95', 'jv96', 'jv97', 'jv98', 'jv99', 'jw00', 'jw01', 'jw02', 'jw03', 'jw04', 'jw05', 'jw06', 'jw07', 'jw08', 'jw09', 'jw10', 'jw11', 'jw12', 'jw13', 'jw14', 'jw15', 'jw16', 'jw17', 'jw18', 'jw19', 'jw20', 'jw21', 'jw22', 'jw23', 'jw24', 'jw25', 'jw26', 'jw27', 'jw28', 'jw29', 'jw30', 'jw31', 'jw32', 'jw33', 'jw34', 'jw35', 'jw36', 'jw37', 'jw38', 'jw39', 'jw40', 'jw41', 'jw42', 'jw43', 'jw44', 'jw45', 'jw46', 'jw47', 'jw48', 'jw49', 'jw50', 'jw51', 'jw52', 'jw53', 'jw54', 'jw55', 'jw56', 'jw57', 'jw58', 'jw59', 'jw60', 'jw61', 'jw62', 'jw63', 'jw64', 'jw65', 'jw66', 'jw67', 'jw68', 'jw69', 'jw70', 'jw71', 'jw72', 'jw73', 'jw74', 'jw75', 'jw76', 'jw77', 'jw78', 'jw79', 'jw80', 'jw81', 'jw82', 'jw83', 'jw84', 'jw85', 'jw86', 'jw87', 'jw88', 'jw89', 'jw90', 'jw91', 'jw92', 'jw93', 'jw94', 'jw95', 'jw96', 'jw97', 'jw98', 'jw99', 'jx00', 'jx01', 'jx02', 'jx03', 'jx04', 'jx05', 'jx06', 'jx07', 'jx08', 'jx09', 'jx10', 'jx11', 'jx12', 'jx13', 'jx14', 'jx15', 'jx16', 'jx17', 'jx18', 'jx19', 'jx20', 'jx21', 'jx22', 'jx23', 'jx24', 'jx25', 'jx26', 'jx27', 'jx28', 'jx29', 'jx30', 'jx31', 'jx32', 'jx33', 'jx34', 'jx35', 'jx36', 'jx37', 'jx38', 'jx39', 'jx40', 'jx41', 'jx42', 'jx43', 'jx44', 'jx45', 'jx46', 'jx47', 'jx48', 'jx49', 'jx50', 'jx51', 'jx52', 'jx53', 'jx54', 'jx55', 'jx56', 'jx57', 'jx58', 'jx59', 'jx60', 'jx61', 'jx62', 'jx63', 'jx64', 'jx65', 'jx66', 'jx67', 'jx68', 'jx69', 'jx70', 'jx71', 'jx72', 'jx73', 'jx74', 'jx75', 'jx76', 'jx77', 'jx78', 'jx79', 'jx80', 'jx81', 'jx82', 'jx83', 'jx84', 'jx85', 'jx86', 'jx87', 'jx88', 'jx89', 'jx90', 'jx91', 'jx92', 'jx93', 'jx94', 'jx95', 'jx96', 'jx97', 'jx98', 'jx99', 'jy00', 'jy01', 'jy02', 'jy03', 'jy04', 'jy05', 'jy06', 'jy07', 'jy08', 'jy09', 'jy10', 'jy11', 'jy12', 'jy13', 'jy14', 'jy15', 'jy16', 'jy17', 'jy18', 'jy19', 'jy20', 'jy21', 'jy22', 'jy23', 'jy24', 'jy25', 'jy26', 'jy27', 'jy28', 'jy29', 'jy30', 'jy31', 'jy32', 'jy33', 'jy34', 'jy35', 'jy36', 'jy37', 'jy38', 'jy39', 'jy40', 'jy41', 'jy42', 'jy43', 'jy44', 'jy45', 'jy46', 'jy47', 'jy48', 'jy49', 'jy50', 'jy51', 'jy52', 'jy53', 'jy54', 'jy55', 'jy56', 'jy57', 'jy58', 'jy59', 'jy60', 'jy61', 'jy62', 'jy63', 'jy64', 'jy65', 'jy66', 'jy67', 'jy68', 'jy69', 'jy70', 'jy71', 'jy72', 'jy73', 'jy74', 'jy75', 'jy76', 'jy77', 'jy78', 'jy79', 'jy80', 'jy81', 'jy82', 'jy83', 'jy84', 'jy85', 'jy86', 'jy87', 'jy88', 'jy89', 'jy90', 'jy91', 'jy92', 'jy93', 'jy94', 'jy95', 'jy96', 'jy97', 'jy98', 'jy99', 'jz00', 'jz01', 'jz02', 'jz03', 'jz04', 'jz05', 'jz06', 'jz07', 'jz08', 'jz09', 'jz10', 'jz11', 'jz12', 'jz13', 'jz14', 'jz15', 'jz16', 'jz17', 'jz18', 'jz19', 'jz20', 'jz21', 'jz22', 'jz23', 'jz24', 'jz25', 'jz26', 'jz27', 'jz28', 'jz29', 'jz30', 'jz31', 'jz32', 'jz33', 'jz34', 'jz35', 'jz36', 'jz37', 'jz38', 'jz39', 'jz40', 'jz41', 'jz42', 'jz43', 'jz44', 'jz45', 'jz46', 'jz47', 'jz48', 'jz49', 'jz50', 'jz51', 'jz52', 'jz53', 'jz54', 'jz55', 'jz56', 'jz57', 'jz58', 'jz59', 'jz60', 'jz61', 'jz62', 'jz63', 'jz64', 'jz65', 'jz66', 'jz67', 'jz68', 'jz69', 'jz70', 'jz71', 'jz72', 'jz73', 'jz74', 'jz75', 'jz76', 'jz77', 'jz78', 'jz79', 'jz80', 'jz81', 'jz82', 'jz83', 'jz84', 'jz85', 'jz86', 'jz87', 'jz88', 'jz89', 'jz90', 'jz91', 'jz92', 'jz93', 'jz94', 'jz95', 'jz96', 'jz97', 'jz98', 'jz99', 'ka00', 'ka01', 'ka02', 'ka03', 'ka04', 'ka05', 'ka06', 'ka07', 'ka08', 'ka09', 'ka10', 'ka11', 'ka12', 'ka13', 'ka14', 'ka15', 'ka16', 'ka17', 'ka18', 'ka19', 'ka20', 'ka21', 'ka22', 'ka23', 'ka24', 'ka25', 'ka26', 'ka27', 'ka28', 'ka29', 'ka30', 'ka31', 'ka32', 'ka33', 'ka34', 'ka35', 'ka36', 'ka37', 'ka38', 'ka39', 'ka40', 'ka41', 'ka42', 'ka43', 'ka44', 'ka45', 'ka46', 'ka47', 'ka48', 'ka49', 'ka50', 'ka51', 'ka52', 'ka53', 'ka54', 'ka55', 'ka56', 'ka57', 'ka58', 'ka59', 'ka60', 'ka61', 'ka62', 'ka63', 'ka64', 'ka65', 'ka66', 'ka67', 'ka68', 'ka69', 'ka70', 'ka71', 'ka72', 'ka73', 'ka74', 'ka75', 'ka76', 'ka77', 'ka78', 'ka79', 'ka80', 'ka81', 'ka82', 'ka83', 'ka84', 'ka85', 'ka86', 'ka87', 'ka88', 'ka89', 'ka90', 'ka91', 'ka92', 'ka93', 'ka94', 'ka95', 'ka96', 'ka97', 'ka98', 'ka99', 'kb00', 'kb01', 'kb02', 'kb03', 'kb04', 'kb05', 'kb06', 'kb07', 'kb08', 'kb09', 'kb10', 'kb11', 'kb12', 'kb13', 'kb14', 'kb15', 'kb16', 'kb17', 'kb18', 'kb19', 'kb20', 'kb21', 'kb22', 'kb23', 'kb24', 'kb25', 'kb26', 'kb27', 'kb28', 'kb29', 'kb30', 'kb31', 'kb32', 'kb33', 'kb34', 'kb35', 'kb36', 'kb37', 'kb38', 'kb39', 'kb40', 'kb41', 'kb42', 'kb43', 'kb44', 'kb45', 'kb46', 'kb47', 'kb48', 'kb49', 'kb50', 'kb51', 'kb52', 'kb53', 'kb54', 'kb55', 'kb56', 'kb57', 'kb58', 'kb59', 'kb60', 'kb61', 'kb62', 'kb63', 'kb64', 'kb65', 'kb66', 'kb67', 'kb68', 'kb69', 'kb70', 'kb71', 'kb72', 'kb73', 'kb74', 'kb75', 'kb76', 'kb77', 'kb78', 'kb79', 'kb80', 'kb81', 'kb82', 'kb83', 'kb84', 'kb85', 'kb86', 'kb87', 'kb88', 'kb89', 'kb90', 'kb91', 'kb92', 'kb93', 'kb94', 'kb95', 'kb96', 'kb97', 'kb98', 'kb99', 'kc00', 'kc01', 'kc02', 'kc03', 'kc04', 'kc05', 'kc06', 'kc07', 'kc08', 'kc09', 'kc10', 'kc11', 'kc12', 'kc13', 'kc14', 'kc15', 'kc16', 'kc17', 'kc18', 'kc19', 'kc20', 'kc21', 'kc22', 'kc23', 'kc24', 'kc25', 'kc26', 'kc27', 'kc28', 'kc29', 'kc30', 'kc31', 'kc32', 'kc33', 'kc34', 'kc35', 'kc36', 'kc37', 'kc38', 'kc39', 'kc40', 'kc41', 'kc42', 'kc43', 'kc44', 'kc45', 'kc46', 'kc47', 'kc48', 'kc49', 'kc50', 'kc51', 'kc52', 'kc53', 'kc54', 'kc55', 'kc56', 'kc57', 'kc58', 'kc59', 'kc60', 'kc61', 'kc62', 'kc63', 'kc64', 'kc65', 'kc66', 'kc67', 'kc68', 'kc69', 'kc70', 'kc71', 'kc72', 'kc73', 'kc74', 'kc75', 'kc76', 'kc77', 'kc78', 'kc79', 'kc80', 'kc81', 'kc82', 'kc83', 'kc84', 'kc85', 'kc86', 'kc87', 'kc88', 'kc89', 'kc90', 'kc91', 'kc92', 'kc93', 'kc94', 'kc95', 'kc96', 'kc97', 'kc98', 'kc99', 'kd00', 'kd01', 'kd02', 'kd03', 'kd04', 'kd05', 'kd06', 'kd07', 'kd08', 'kd09', 'kd10', 'kd11', 'kd12', 'kd13', 'kd14', 'kd15', 'kd16', 'kd17', 'kd18', 'kd19', 'kd20', 'kd21', 'kd22', 'kd23', 'kd24', 'kd25', 'kd26', 'kd27', 'kd28', 'kd29', 'kd30', 'kd31', 'kd32', 'kd33', 'kd34', 'kd35', 'kd36', 'kd37', 'kd38', 'kd39', 'kd40', 'kd41', 'kd42', 'kd43', 'kd44', 'kd45', 'kd46', 'kd47', 'kd48', 'kd49', 'kd50', 'kd51', 'kd52', 'kd53', 'kd54', 'kd55', 'kd56', 'kd57', 'kd58', 'kd59', 'kd60', 'kd61', 'kd62', 'kd63', 'kd64', 'kd65', 'kd66', 'kd67', 'kd68', 'kd69', 'kd70', 'kd71', 'kd72', 'kd73', 'kd74', 'kd75', 'kd76', 'kd77', 'kd78', 'kd79', 'kd80', 'kd81', 'kd82', 'kd83', 'kd84', 'kd85', 'kd86', 'kd87', 'kd88', 'kd89', 'kd90', 'kd91', 'kd92', 'kd93', 'kd94', 'kd95', 'kd96', 'kd97', 'kd98', 'kd99', 'ke00', 'ke01', 'ke02', 'ke03', 'ke04', 'ke05', 'ke06', 'ke07', 'ke08', 'ke09', 'ke10', 'ke11', 'ke12', 'ke13', 'ke14', 'ke15', 'ke16', 'ke17', 'ke18', 'ke19', 'ke20', 'ke21', 'ke22', 'ke23', 'ke24', 'ke25', 'ke26', 'ke27', 'ke28', 'ke29', 'ke30', 'ke31', 'ke32', 'ke33', 'ke34', 'ke35', 'ke36', 'ke37', 'ke38', 'ke39', 'ke40', 'ke41', 'ke42', 'ke43', 'ke44', 'ke45', 'ke46', 'ke47', 'ke48', 'ke49', 'ke50', 'ke51', 'ke52', 'ke53', 'ke54', 'ke55', 'ke56', 'ke57', 'ke58', 'ke59', 'ke60', 'ke61', 'ke62', 'ke63', 'ke64', 'ke65', 'ke66', 'ke67', 'ke68', 'ke69', 'ke70', 'ke71', 'ke72', 'ke73', 'ke74', 'ke75', 'ke76', 'ke77', 'ke78', 'ke79', 'ke80', 'ke81', 'ke82', 'ke83', 'ke84', 'ke85', 'ke86', 'ke87', 'ke88', 'ke89', 'ke90', 'ke91', 'ke92', 'ke93', 'ke94', 'ke95', 'ke96', 'ke97', 'ke98', 'ke99', 'kf00', 'kf01', 'kf02', 'kf03', 'kf04', 'kf05', 'kf06', 'kf07', 'kf08', 'kf09', 'kf10', 'kf11', 'kf12', 'kf13', 'kf14', 'kf15', 'kf16', 'kf17', 'kf18', 'kf19', 'kf20', 'kf21', 'kf22', 'kf23', 'kf24', 'kf25', 'kf26', 'kf27', 'kf28', 'kf29', 'kf30', 'kf31', 'kf32', 'kf33', 'kf34', 'kf35', 'kf36', 'kf37', 'kf38', 'kf39', 'kf40', 'kf41', 'kf42', 'kf43', 'kf44', 'kf45', 'kf46', 'kf47', 'kf48', 'kf49', 'kf50', 'kf51', 'kf52', 'kf53', 'kf54', 'kf55', 'kf56', 'kf57', 'kf58', 'kf59', 'kf60', 'kf61', 'kf62', 'kf63', 'kf64', 'kf65', 'kf66', 'kf67', 'kf68', 'kf69', 'kf70', 'kf71', 'kf72', 'kf73', 'kf74', 'kf75', 'kf76', 'kf77', 'kf78', 'kf79', 'kf80', 'kf81', 'kf82', 'kf83', 'kf84', 'kf85', 'kf86', 'kf87', 'kf88', 'kf89', 'kf90', 'kf91', 'kf92', 'kf93', 'kf94', 'kf95', 'kf96', 'kf97', 'kf98', 'kf99', 'kg00', 'kg01', 'kg02', 'kg03', 'kg04', 'kg05', 'kg06', 'kg07', 'kg08', 'kg09', 'kg10', 'kg11', 'kg12', 'kg13', 'kg14', 'kg15', 'kg16', 'kg17', 'kg18', 'kg19', 'kg20', 'kg21', 'kg22', 'kg23', 'kg24', 'kg25', 'kg26', 'kg27', 'kg28', 'kg29', 'kg30', 'kg31', 'kg32', 'kg33', 'kg34', 'kg35', 'kg36', 'kg37', 'kg38', 'kg39', 'kg40', 'kg41', 'kg42', 'kg43', 'kg44', 'kg45', 'kg46', 'kg47', 'kg48', 'kg49', 'kg50', 'kg51', 'kg52', 'kg53', 'kg54', 'kg55', 'kg56', 'kg57', 'kg58', 'kg59', 'kg60', 'kg61', 'kg62', 'kg63', 'kg64', 'kg65', 'kg66', 'kg67', 'kg68', 'kg69', 'kg70', 'kg71', 'kg72', 'kg73', 'kg74', 'kg75', 'kg76', 'kg77', 'kg78', 'kg79', 'kg80', 'kg81', 'kg82', 'kg83', 'kg84', 'kg85', 'kg86', 'kg87', 'kg88', 'kg89', 'kg90', 'kg91', 'kg92', 'kg93', 'kg94', 'kg95', 'kg96', 'kg97', 'kg98', 'kg99', 'kh00', 'kh01', 'kh02', 'kh03', 'kh04', 'kh05', 'kh06', 'kh07', 'kh08', 'kh09', 'kh10', 'kh11', 'kh12', 'kh13', 'kh14', 'kh15', 'kh16', 'kh17', 'kh18', 'kh19', 'kh20', 'kh21', 'kh22', 'kh23', 'kh24', 'kh25', 'kh26', 'kh27', 'kh28', 'kh29', 'kh30', 'kh31', 'kh32', 'kh33', 'kh34', 'kh35', 'kh36', 'kh37', 'kh38', 'kh39', 'kh40', 'kh41', 'kh42', 'kh43', 'kh44', 'kh45', 'kh46', 'kh47', 'kh48', 'kh49', 'kh50', 'kh51', 'kh52', 'kh53', 'kh54', 'kh55', 'kh56', 'kh57', 'kh58', 'kh59', 'kh60', 'kh61', 'kh62', 'kh63', 'kh64', 'kh65', 'kh66', 'kh67', 'kh68', 'kh69', 'kh70', 'kh71', 'kh72', 'kh73', 'kh74', 'kh75', 'kh76', 'kh77', 'kh78', 'kh79', 'kh80', 'kh81', 'kh82', 'kh83', 'kh84', 'kh85', 'kh86', 'kh87', 'kh88', 'kh89', 'kh90', 'kh91', 'kh92', 'kh93', 'kh94', 'kh95', 'kh96', 'kh97', 'kh98', 'kh99', 'ki00', 'ki01', 'ki02', 'ki03', 'ki04', 'ki05', 'ki06', 'ki07', 'ki08', 'ki09', 'ki10', 'ki11', 'ki12', 'ki13', 'ki14', 'ki15', 'ki16', 'ki17', 'ki18', 'ki19', 'ki20', 'ki21', 'ki22', 'ki23', 'ki24', 'ki25', 'ki26', 'ki27', 'ki28', 'ki29', 'ki30', 'ki31', 'ki32', 'ki33', 'ki34', 'ki35', 'ki36', 'ki37', 'ki38', 'ki39', 'ki40', 'ki41', 'ki42', 'ki43', 'ki44', 'ki45', 'ki46', 'ki47', 'ki48', 'ki49', 'ki50', 'ki51', 'ki52', 'ki53', 'ki54', 'ki55', 'ki56', 'ki57', 'ki58', 'ki59', 'ki60', 'ki61', 'ki62', 'ki63', 'ki64', 'ki65', 'ki66', 'ki67', 'ki68', 'ki69', 'ki70', 'ki71', 'ki72', 'ki73', 'ki74', 'ki75', 'ki76', 'ki77', 'ki78', 'ki79', 'ki80', 'ki81', 'ki82', 'ki83', 'ki84', 'ki85', 'ki86', 'ki87', 'ki88', 'ki89', 'ki90', 'ki91', 'ki92', 'ki93', 'ki94', 'ki95', 'ki96', 'ki97', 'ki98', 'ki99', 'kj00', 'kj01', 'kj02', 'kj03', 'kj04', 'kj05', 'kj06', 'kj07', 'kj08', 'kj09', 'kj10', 'kj11', 'kj12', 'kj13', 'kj14', 'kj15', 'kj16', 'kj17', 'kj18', 'kj19', 'kj20', 'kj21', 'kj22', 'kj23', 'kj24', 'kj25', 'kj26', 'kj27', 'kj28', 'kj29', 'kj30', 'kj31', 'kj32', 'kj33', 'kj34', 'kj35', 'kj36', 'kj37', 'kj38', 'kj39', 'kj40', 'kj41', 'kj42', 'kj43', 'kj44', 'kj45', 'kj46', 'kj47', 'kj48', 'kj49', 'kj50', 'kj51', 'kj52', 'kj53', 'kj54', 'kj55', 'kj56', 'kj57', 'kj58', 'kj59', 'kj60', 'kj61', 'kj62', 'kj63', 'kj64', 'kj65', 'kj66', 'kj67', 'kj68', 'kj69', 'kj70', 'kj71', 'kj72', 'kj73', 'kj74', 'kj75', 'kj76', 'kj77', 'kj78', 'kj79', 'kj80', 'kj81', 'kj82', 'kj83', 'kj84', 'kj85', 'kj86', 'kj87', 'kj88', 'kj89', 'kj90', 'kj91', 'kj92', 'kj93', 'kj94', 'kj95', 'kj96', 'kj97', 'kj98', 'kj99', 'kk00', 'kk01', 'kk02', 'kk03', 'kk04', 'kk05', 'kk06', 'kk07', 'kk08', 'kk09', 'kk10', 'kk11', 'kk12', 'kk13', 'kk14', 'kk15', 'kk16', 'kk17', 'kk18', 'kk19', 'kk20', 'kk21', 'kk22', 'kk23', 'kk24', 'kk25', 'kk26', 'kk27', 'kk28', 'kk29', 'kk30', 'kk31', 'kk32', 'kk33', 'kk34', 'kk35', 'kk36', 'kk37', 'kk38', 'kk39', 'kk40', 'kk41', 'kk42', 'kk43', 'kk44', 'kk45', 'kk46', 'kk47', 'kk48', 'kk49', 'kk50', 'kk51', 'kk52', 'kk53', 'kk54', 'kk55', 'kk56', 'kk57', 'kk58', 'kk59', 'kk60', 'kk61', 'kk62', 'kk63', 'kk64', 'kk65', 'kk66', 'kk67', 'kk68', 'kk69', 'kk70', 'kk71', 'kk72', 'kk73', 'kk74', 'kk75', 'kk76', 'kk77', 'kk78', 'kk79', 'kk80', 'kk81', 'kk82', 'kk83', 'kk84', 'kk85', 'kk86', 'kk87', 'kk88', 'kk89', 'kk90', 'kk91', 'kk92', 'kk93', 'kk94', 'kk95', 'kk96', 'kk97', 'kk98', 'kk99', 'kl00', 'kl01', 'kl02', 'kl03', 'kl04', 'kl05', 'kl06', 'kl07', 'kl08', 'kl09', 'kl10', 'kl11', 'kl12', 'kl13', 'kl14', 'kl15', 'kl16', 'kl17', 'kl18', 'kl19', 'kl20', 'kl21', 'kl22', 'kl23', 'kl24', 'kl25', 'kl26', 'kl27', 'kl28', 'kl29', 'kl30', 'kl31', 'kl32', 'kl33', 'kl34', 'kl35', 'kl36', 'kl37', 'kl38', 'kl39', 'kl40', 'kl41', 'kl42', 'kl43', 'kl44', 'kl45', 'kl46', 'kl47', 'kl48', 'kl49', 'kl50', 'kl51', 'kl52', 'kl53', 'kl54', 'kl55', 'kl56', 'kl57', 'kl58', 'kl59', 'kl60', 'kl61', 'kl62', 'kl63', 'kl64', 'kl65', 'kl66', 'kl67', 'kl68', 'kl69', 'kl70', 'kl71', 'kl72', 'kl73', 'kl74', 'kl75', 'kl76', 'kl77', 'kl78', 'kl79', 'kl80', 'kl81', 'kl82', 'kl83', 'kl84', 'kl85', 'kl86', 'kl87', 'kl88', 'kl89', 'kl90', 'kl91', 'kl92', 'kl93', 'kl94', 'kl95', 'kl96', 'kl97', 'kl98', 'kl99', 'km00', 'km01', 'km02', 'km03', 'km04', 'km05', 'km06', 'km07', 'km08', 'km09', 'km10', 'km11', 'km12', 'km13', 'km14', 'km15', 'km16', 'km17', 'km18', 'km19', 'km20', 'km21', 'km22', 'km23', 'km24', 'km25', 'km26', 'km27', 'km28', 'km29', 'km30', 'km31', 'km32', 'km33', 'km34', 'km35', 'km36', 'km37', 'km38', 'km39', 'km40', 'km41', 'km42', 'km43', 'km44', 'km45', 'km46', 'km47', 'km48', 'km49', 'km50', 'km51', 'km52', 'km53', 'km54', 'km55', 'km56', 'km57', 'km58', 'km59', 'km60', 'km61', 'km62', 'km63', 'km64', 'km65', 'km66', 'km67', 'km68', 'km69', 'km70', 'km71', 'km72', 'km73', 'km74', 'km75', 'km76', 'km77', 'km78', 'km79', 'km80', 'km81', 'km82', 'km83', 'km84', 'km85', 'km86', 'km87', 'km88', 'km89', 'km90', 'km91', 'km92', 'km93', 'km94', 'km95', 'km96', 'km97', 'km98', 'km99', 'kn00', 'kn01', 'kn02', 'kn03', 'kn04', 'kn05', 'kn06', 'kn07', 'kn08', 'kn09', 'kn10', 'kn11', 'kn12', 'kn13', 'kn14', 'kn15', 'kn16', 'kn17', 'kn18', 'kn19', 'kn20', 'kn21', 'kn22', 'kn23', 'kn24', 'kn25', 'kn26', 'kn27', 'kn28', 'kn29', 'kn30', 'kn31', 'kn32', 'kn33', 'kn34', 'kn35', 'kn36', 'kn37', 'kn38', 'kn39', 'kn40', 'kn41', 'kn42', 'kn43', 'kn44', 'kn45', 'kn46', 'kn47', 'kn48', 'kn49', 'kn50', 'kn51', 'kn52', 'kn53', 'kn54', 'kn55', 'kn56', 'kn57', 'kn58', 'kn59', 'kn60', 'kn61', 'kn62', 'kn63', 'kn64', 'kn65', 'kn66', 'kn67', 'kn68', 'kn69', 'kn70', 'kn71', 'kn72', 'kn73', 'kn74', 'kn75', 'kn76', 'kn77', 'kn78', 'kn79', 'kn80', 'kn81', 'kn82', 'kn83', 'kn84', 'kn85', 'kn86', 'kn87', 'kn88', 'kn89', 'kn90', 'kn91', 'kn92', 'kn93', 'kn94', 'kn95', 'kn96', 'kn97', 'kn98', 'kn99', 'ko00', 'ko01', 'ko02', 'ko03', 'ko04', 'ko05', 'ko06', 'ko07', 'ko08', 'ko09', 'ko10', 'ko11', 'ko12', 'ko13', 'ko14', 'ko15', 'ko16', 'ko17', 'ko18', 'ko19', 'ko20', 'ko21', 'ko22', 'ko23', 'ko24', 'ko25', 'ko26', 'ko27', 'ko28', 'ko29', 'ko30', 'ko31', 'ko32', 'ko33', 'ko34', 'ko35', 'ko36', 'ko37', 'ko38', 'ko39', 'ko40', 'ko41', 'ko42', 'ko43', 'ko44', 'ko45', 'ko46', 'ko47', 'ko48', 'ko49', 'ko50', 'ko51', 'ko52', 'ko53', 'ko54', 'ko55', 'ko56', 'ko57', 'ko58', 'ko59', 'ko60', 'ko61', 'ko62', 'ko63', 'ko64', 'ko65', 'ko66', 'ko67', 'ko68', 'ko69', 'ko70', 'ko71', 'ko72', 'ko73', 'ko74', 'ko75', 'ko76', 'ko77', 'ko78', 'ko79', 'ko80', 'ko81', 'ko82', 'ko83', 'ko84', 'ko85', 'ko86', 'ko87', 'ko88', 'ko89', 'ko90', 'ko91', 'ko92', 'ko93', 'ko94', 'ko95', 'ko96', 'ko97', 'ko98', 'ko99', 'kp00', 'kp01', 'kp02', 'kp03', 'kp04', 'kp05', 'kp06', 'kp07', 'kp08', 'kp09', 'kp10', 'kp11', 'kp12', 'kp13', 'kp14', 'kp15', 'kp16', 'kp17', 'kp18', 'kp19', 'kp20', 'kp21', 'kp22', 'kp23', 'kp24', 'kp25', 'kp26', 'kp27', 'kp28', 'kp29', 'kp30', 'kp31', 'kp32', 'kp33', 'kp34', 'kp35', 'kp36', 'kp37', 'kp38', 'kp39', 'kp40', 'kp41', 'kp42', 'kp43', 'kp44', 'kp45', 'kp46', 'kp47', 'kp48', 'kp49', 'kp50', 'kp51', 'kp52', 'kp53', 'kp54', 'kp55', 'kp56', 'kp57', 'kp58', 'kp59', 'kp60', 'kp61', 'kp62', 'kp63', 'kp64', 'kp65', 'kp66', 'kp67', 'kp68', 'kp69', 'kp70', 'kp71', 'kp72', 'kp73', 'kp74', 'kp75', 'kp76', 'kp77', 'kp78', 'kp79', 'kp80', 'kp81', 'kp82', 'kp83', 'kp84', 'kp85', 'kp86', 'kp87', 'kp88', 'kp89', 'kp90', 'kp91', 'kp92', 'kp93', 'kp94', 'kp95', 'kp96', 'kp97', 'kp98', 'kp99', 'kq00', 'kq01', 'kq02', 'kq03', 'kq04', 'kq05', 'kq06', 'kq07', 'kq08', 'kq09', 'kq10', 'kq11', 'kq12', 'kq13', 'kq14', 'kq15', 'kq16', 'kq17', 'kq18', 'kq19', 'kq20', 'kq21', 'kq22', 'kq23', 'kq24', 'kq25', 'kq26', 'kq27', 'kq28', 'kq29', 'kq30', 'kq31', 'kq32', 'kq33', 'kq34', 'kq35', 'kq36', 'kq37', 'kq38', 'kq39', 'kq40', 'kq41', 'kq42', 'kq43', 'kq44', 'kq45', 'kq46', 'kq47', 'kq48', 'kq49', 'kq50', 'kq51', 'kq52', 'kq53', 'kq54', 'kq55', 'kq56', 'kq57', 'kq58', 'kq59', 'kq60', 'kq61', 'kq62', 'kq63', 'kq64', 'kq65', 'kq66', 'kq67', 'kq68', 'kq69', 'kq70', 'kq71', 'kq72', 'kq73', 'kq74', 'kq75', 'kq76', 'kq77', 'kq78', 'kq79', 'kq80', 'kq81', 'kq82', 'kq83', 'kq84', 'kq85', 'kq86', 'kq87', 'kq88', 'kq89', 'kq90', 'kq91', 'kq92', 'kq93', 'kq94', 'kq95', 'kq96', 'kq97', 'kq98', 'kq99', 'kr00', 'kr01', 'kr02', 'kr03', 'kr04', 'kr05', 'kr06', 'kr07', 'kr08', 'kr09', 'kr10', 'kr11', 'kr12', 'kr13', 'kr14', 'kr15', 'kr16', 'kr17', 'kr18', 'kr19', 'kr20', 'kr21', 'kr22', 'kr23', 'kr24', 'kr25', 'kr26', 'kr27', 'kr28', 'kr29', 'kr30', 'kr31', 'kr32', 'kr33', 'kr34', 'kr35', 'kr36', 'kr37', 'kr38', 'kr39', 'kr40', 'kr41', 'kr42', 'kr43', 'kr44', 'kr45', 'kr46', 'kr47', 'kr48', 'kr49', 'kr50', 'kr51', 'kr52', 'kr53', 'kr54', 'kr55', 'kr56', 'kr57', 'kr58', 'kr59', 'kr60', 'kr61', 'kr62', 'kr63', 'kr64', 'kr65', 'kr66', 'kr67', 'kr68', 'kr69', 'kr70', 'kr71', 'kr72', 'kr73', 'kr74', 'kr75', 'kr76', 'kr77', 'kr78', 'kr79', 'kr80', 'kr81', 'kr82', 'kr83', 'kr84', 'kr85', 'kr86', 'kr87', 'kr88', 'kr89', 'kr90', 'kr91', 'kr92', 'kr93', 'kr94', 'kr95', 'kr96', 'kr97', 'kr98', 'kr99', 'ks00', 'ks01', 'ks02', 'ks03', 'ks04', 'ks05', 'ks06', 'ks07', 'ks08', 'ks09', 'ks10', 'ks11', 'ks12', 'ks13', 'ks14', 'ks15', 'ks16', 'ks17', 'ks18', 'ks19', 'ks20', 'ks21', 'ks22', 'ks23', 'ks24', 'ks25', 'ks26', 'ks27', 'ks28', 'ks29', 'ks30', 'ks31', 'ks32', 'ks33', 'ks34', 'ks35', 'ks36', 'ks37', 'ks38', 'ks39', 'ks40', 'ks41', 'ks42', 'ks43', 'ks44', 'ks45', 'ks46', 'ks47', 'ks48', 'ks49', 'ks50', 'ks51', 'ks52', 'ks53', 'ks54', 'ks55', 'ks56', 'ks57', 'ks58', 'ks59', 'ks60', 'ks61', 'ks62', 'ks63', 'ks64', 'ks65', 'ks66', 'ks67', 'ks68', 'ks69', 'ks70', 'ks71', 'ks72', 'ks73', 'ks74', 'ks75', 'ks76', 'ks77', 'ks78', 'ks79', 'ks80', 'ks81', 'ks82', 'ks83', 'ks84', 'ks85', 'ks86', 'ks87', 'ks88', 'ks89', 'ks90', 'ks91', 'ks92', 'ks93', 'ks94', 'ks95', 'ks96', 'ks97', 'ks98', 'ks99', 'kt00', 'kt01', 'kt02', 'kt03', 'kt04', 'kt05', 'kt06', 'kt07', 'kt08', 'kt09', 'kt10', 'kt11', 'kt12', 'kt13', 'kt14', 'kt15', 'kt16', 'kt17', 'kt18', 'kt19', 'kt20', 'kt21', 'kt22', 'kt23', 'kt24', 'kt25', 'kt26', 'kt27', 'kt28', 'kt29', 'kt30', 'kt31', 'kt32', 'kt33', 'kt34', 'kt35', 'kt36', 'kt37', 'kt38', 'kt39', 'kt40', 'kt41', 'kt42', 'kt43', 'kt44', 'kt45', 'kt46', 'kt47', 'kt48', 'kt49', 'kt50', 'kt51', 'kt52', 'kt53', 'kt54', 'kt55', 'kt56', 'kt57', 'kt58', 'kt59', 'kt60', 'kt61', 'kt62', 'kt63', 'kt64', 'kt65', 'kt66', 'kt67', 'kt68', 'kt69', 'kt70', 'kt71', 'kt72', 'kt73', 'kt74', 'kt75', 'kt76', 'kt77', 'kt78', 'kt79', 'kt80', 'kt81', 'kt82', 'kt83', 'kt84', 'kt85', 'kt86', 'kt87', 'kt88', 'kt89', 'kt90', 'kt91', 'kt92', 'kt93', 'kt94', 'kt95', 'kt96', 'kt97', 'kt98', 'kt99', 'ku00', 'ku01', 'ku02', 'ku03', 'ku04', 'ku05', 'ku06', 'ku07', 'ku08', 'ku09', 'ku10', 'ku11', 'ku12', 'ku13', 'ku14', 'ku15', 'ku16', 'ku17', 'ku18', 'ku19', 'ku20', 'ku21', 'ku22', 'ku23', 'ku24', 'ku25', 'ku26', 'ku27', 'ku28', 'ku29', 'ku30', 'ku31', 'ku32', 'ku33', 'ku34', 'ku35', 'ku36', 'ku37', 'ku38', 'ku39', 'ku40', 'ku41', 'ku42', 'ku43', 'ku44', 'ku45', 'ku46', 'ku47', 'ku48', 'ku49', 'ku50', 'ku51', 'ku52', 'ku53', 'ku54', 'ku55', 'ku56', 'ku57', 'ku58', 'ku59', 'ku60', 'ku61', 'ku62', 'ku63', 'ku64', 'ku65', 'ku66', 'ku67', 'ku68', 'ku69', 'ku70', 'ku71', 'ku72', 'ku73', 'ku74', 'ku75', 'ku76', 'ku77', 'ku78', 'ku79', 'ku80', 'ku81', 'ku82', 'ku83', 'ku84', 'ku85', 'ku86', 'ku87', 'ku88', 'ku89', 'ku90', 'ku91', 'ku92', 'ku93', 'ku94', 'ku95', 'ku96', 'ku97', 'ku98', 'ku99', 'kv00', 'kv01', 'kv02', 'kv03', 'kv04', 'kv05', 'kv06', 'kv07', 'kv08', 'kv09', 'kv10', 'kv11', 'kv12', 'kv13', 'kv14', 'kv15', 'kv16', 'kv17', 'kv18', 'kv19', 'kv20', 'kv21', 'kv22', 'kv23', 'kv24', 'kv25', 'kv26', 'kv27', 'kv28', 'kv29', 'kv30', 'kv31', 'kv32', 'kv33', 'kv34', 'kv35', 'kv36', 'kv37', 'kv38', 'kv39', 'kv40', 'kv41', 'kv42', 'kv43', 'kv44', 'kv45', 'kv46', 'kv47', 'kv48', 'kv49', 'kv50', 'kv51', 'kv52', 'kv53', 'kv54', 'kv55', 'kv56', 'kv57', 'kv58', 'kv59', 'kv60', 'kv61', 'kv62', 'kv63', 'kv64', 'kv65', 'kv66', 'kv67', 'kv68', 'kv69', 'kv70', 'kv71', 'kv72', 'kv73', 'kv74', 'kv75', 'kv76', 'kv77', 'kv78', 'kv79', 'kv80', 'kv81', 'kv82', 'kv83', 'kv84', 'kv85', 'kv86', 'kv87', 'kv88', 'kv89', 'kv90', 'kv91', 'kv92', 'kv93', 'kv94', 'kv95', 'kv96', 'kv97', 'kv98', 'kv99', 'kw00', 'kw01', 'kw02', 'kw03', 'kw04', 'kw05', 'kw06', 'kw07', 'kw08', 'kw09', 'kw10', 'kw11', 'kw12', 'kw13', 'kw14', 'kw15', 'kw16', 'kw17', 'kw18', 'kw19', 'kw20', 'kw21', 'kw22', 'kw23', 'kw24', 'kw25', 'kw26', 'kw27', 'kw28', 'kw29', 'kw30', 'kw31', 'kw32', 'kw33', 'kw34', 'kw35', 'kw36', 'kw37', 'kw38', 'kw39', 'kw40', 'kw41', 'kw42', 'kw43', 'kw44', 'kw45', 'kw46', 'kw47', 'kw48', 'kw49', 'kw50', 'kw51', 'kw52', 'kw53', 'kw54', 'kw55', 'kw56', 'kw57', 'kw58', 'kw59', 'kw60', 'kw61', 'kw62', 'kw63', 'kw64', 'kw65', 'kw66', 'kw67', 'kw68', 'kw69', 'kw70', 'kw71', 'kw72', 'kw73', 'kw74', 'kw75', 'kw76', 'kw77', 'kw78', 'kw79', 'kw80', 'kw81', 'kw82', 'kw83', 'kw84', 'kw85', 'kw86', 'kw87', 'kw88', 'kw89', 'kw90', 'kw91', 'kw92', 'kw93', 'kw94', 'kw95', 'kw96', 'kw97', 'kw98', 'kw99', 'kx00', 'kx01', 'kx02', 'kx03', 'kx04', 'kx05', 'kx06', 'kx07', 'kx08', 'kx09', 'kx10', 'kx11', 'kx12', 'kx13', 'kx14', 'kx15', 'kx16', 'kx17', 'kx18', 'kx19', 'kx20', 'kx21', 'kx22', 'kx23', 'kx24', 'kx25', 'kx26', 'kx27', 'kx28', 'kx29', 'kx30', 'kx31', 'kx32', 'kx33', 'kx34', 'kx35', 'kx36', 'kx37', 'kx38', 'kx39', 'kx40', 'kx41', 'kx42', 'kx43', 'kx44', 'kx45', 'kx46', 'kx47', 'kx48', 'kx49', 'kx50', 'kx51', 'kx52', 'kx53', 'kx54', 'kx55', 'kx56', 'kx57', 'kx58', 'kx59', 'kx60', 'kx61', 'kx62', 'kx63', 'kx64', 'kx65', 'kx66', 'kx67', 'kx68', 'kx69', 'kx70', 'kx71', 'kx72', 'kx73', 'kx74', 'kx75', 'kx76', 'kx77', 'kx78', 'kx79', 'kx80', 'kx81', 'kx82', 'kx83', 'kx84', 'kx85', 'kx86', 'kx87', 'kx88', 'kx89', 'kx90', 'kx91', 'kx92', 'kx93', 'kx94', 'kx95', 'kx96', 'kx97', 'kx98', 'kx99', 'ky00', 'ky01', 'ky02', 'ky03', 'ky04', 'ky05', 'ky06', 'ky07', 'ky08', 'ky09', 'ky10', 'ky11', 'ky12', 'ky13', 'ky14', 'ky15', 'ky16', 'ky17', 'ky18', 'ky19', 'ky20', 'ky21', 'ky22', 'ky23', 'ky24', 'ky25', 'ky26', 'ky27', 'ky28', 'ky29', 'ky30', 'ky31', 'ky32', 'ky33', 'ky34', 'ky35', 'ky36', 'ky37', 'ky38', 'ky39', 'ky40', 'ky41', 'ky42', 'ky43', 'ky44', 'ky45', 'ky46', 'ky47', 'ky48', 'ky49', 'ky50', 'ky51', 'ky52', 'ky53', 'ky54', 'ky55', 'ky56', 'ky57', 'ky58', 'ky59', 'ky60', 'ky61', 'ky62', 'ky63', 'ky64', 'ky65', 'ky66', 'ky67', 'ky68', 'ky69', 'ky70', 'ky71', 'ky72', 'ky73', 'ky74', 'ky75', 'ky76', 'ky77', 'ky78', 'ky79', 'ky80', 'ky81', 'ky82', 'ky83', 'ky84', 'ky85', 'ky86', 'ky87', 'ky88', 'ky89', 'ky90', 'ky91', 'ky92', 'ky93', 'ky94', 'ky95', 'ky96', 'ky97', 'ky98', 'ky99', 'kz00', 'kz01', 'kz02', 'kz03', 'kz04', 'kz05', 'kz06', 'kz07', 'kz08', 'kz09', 'kz10', 'kz11', 'kz12', 'kz13', 'kz14', 'kz15', 'kz16', 'kz17', 'kz18', 'kz19', 'kz20', 'kz21', 'kz22', 'kz23', 'kz24', 'kz25', 'kz26', 'kz27', 'kz28', 'kz29', 'kz30', 'kz31', 'kz32', 'kz33', 'kz34', 'kz35', 'kz36', 'kz37', 'kz38', 'kz39', 'kz40', 'kz41', 'kz42', 'kz43', 'kz44', 'kz45', 'kz46', 'kz47', 'kz48', 'kz49', 'kz50', 'kz51', 'kz52', 'kz53', 'kz54', 'kz55', 'kz56', 'kz57', 'kz58', 'kz59', 'kz60', 'kz61', 'kz62', 'kz63', 'kz64', 'kz65', 'kz66', 'kz67', 'kz68', 'kz69', 'kz70', 'kz71', 'kz72', 'kz73', 'kz74', 'kz75', 'kz76', 'kz77', 'kz78', 'kz79', 'kz80', 'kz81', 'kz82', 'kz83', 'kz84', 'kz85', 'kz86', 'kz87', 'kz88', 'kz89', 'kz90', 'kz91', 'kz92', 'kz93', 'kz94', 'kz95', 'kz96', 'kz97', 'kz98', 'kz99', 'la00', 'la01', 'la02', 'la03', 'la04', 'la05', 'la06', 'la07', 'la08', 'la09', 'la10', 'la11', 'la12', 'la13', 'la14', 'la15', 'la16', 'la17', 'la18', 'la19', 'la20', 'la21', 'la22', 'la23', 'la24', 'la25', 'la26', 'la27', 'la28', 'la29', 'la30', 'la31', 'la32', 'la33', 'la34', 'la35', 'la36', 'la37', 'la38', 'la39', 'la40', 'la41', 'la42', 'la43', 'la44', 'la45', 'la46', 'la47', 'la48', 'la49', 'la50', 'la51', 'la52', 'la53', 'la54', 'la55', 'la56', 'la57', 'la58', 'la59', 'la60', 'la61', 'la62', 'la63', 'la64', 'la65', 'la66', 'la67', 'la68', 'la69', 'la70', 'la71', 'la72', 'la73', 'la74', 'la75', 'la76', 'la77', 'la78', 'la79', 'la80', 'la81', 'la82', 'la83', 'la84', 'la85', 'la86', 'la87', 'la88', 'la89', 'la90', 'la91', 'la92', 'la93', 'la94', 'la95', 'la96', 'la97', 'la98', 'la99', 'lb00', 'lb01', 'lb02', 'lb03', 'lb04', 'lb05', 'lb06', 'lb07', 'lb08', 'lb09', 'lb10', 'lb11', 'lb12', 'lb13', 'lb14', 'lb15', 'lb16', 'lb17', 'lb18', 'lb19', 'lb20', 'lb21', 'lb22', 'lb23', 'lb24', 'lb25', 'lb26', 'lb27', 'lb28', 'lb29', 'lb30', 'lb31', 'lb32', 'lb33', 'lb34', 'lb35', 'lb36', 'lb37', 'lb38', 'lb39', 'lb40', 'lb41', 'lb42', 'lb43', 'lb44', 'lb45', 'lb46', 'lb47', 'lb48', 'lb49', 'lb50', 'lb51', 'lb52', 'lb53', 'lb54', 'lb55', 'lb56', 'lb57', 'lb58', 'lb59', 'lb60', 'lb61', 'lb62', 'lb63', 'lb64', 'lb65', 'lb66', 'lb67', 'lb68', 'lb69', 'lb70', 'lb71', 'lb72', 'lb73', 'lb74', 'lb75', 'lb76', 'lb77', 'lb78', 'lb79', 'lb80', 'lb81', 'lb82', 'lb83', 'lb84', 'lb85', 'lb86', 'lb87', 'lb88', 'lb89', 'lb90', 'lb91', 'lb92', 'lb93', 'lb94', 'lb95', 'lb96', 'lb97', 'lb98', 'lb99', 'lc00', 'lc01', 'lc02', 'lc03', 'lc04', 'lc05', 'lc06', 'lc07', 'lc08', 'lc09', 'lc10', 'lc11', 'lc12', 'lc13', 'lc14', 'lc15', 'lc16', 'lc17', 'lc18', 'lc19', 'lc20', 'lc21', 'lc22', 'lc23', 'lc24', 'lc25', 'lc26', 'lc27', 'lc28', 'lc29', 'lc30', 'lc31', 'lc32', 'lc33', 'lc34', 'lc35', 'lc36', 'lc37', 'lc38', 'lc39', 'lc40', 'lc41', 'lc42', 'lc43', 'lc44', 'lc45', 'lc46', 'lc47', 'lc48', 'lc49', 'lc50', 'lc51', 'lc52', 'lc53', 'lc54', 'lc55', 'lc56', 'lc57', 'lc58', 'lc59', 'lc60', 'lc61', 'lc62', 'lc63', 'lc64', 'lc65', 'lc66', 'lc67', 'lc68', 'lc69', 'lc70', 'lc71', 'lc72', 'lc73', 'lc74', 'lc75', 'lc76', 'lc77', 'lc78', 'lc79', 'lc80', 'lc81', 'lc82', 'lc83', 'lc84', 'lc85', 'lc86', 'lc87', 'lc88', 'lc89', 'lc90', 'lc91', 'lc92', 'lc93', 'lc94', 'lc95', 'lc96', 'lc97', 'lc98', 'lc99', 'ld00', 'ld01', 'ld02', 'ld03', 'ld04', 'ld05', 'ld06', 'ld07', 'ld08', 'ld09', 'ld10', 'ld11', 'ld12', 'ld13', 'ld14', 'ld15', 'ld16', 'ld17', 'ld18', 'ld19', 'ld20', 'ld21', 'ld22', 'ld23', 'ld24', 'ld25', 'ld26', 'ld27', 'ld28', 'ld29', 'ld30', 'ld31', 'ld32', 'ld33', 'ld34', 'ld35', 'ld36', 'ld37', 'ld38', 'ld39', 'ld40', 'ld41', 'ld42', 'ld43', 'ld44', 'ld45', 'ld46', 'ld47', 'ld48', 'ld49', 'ld50', 'ld51', 'ld52', 'ld53', 'ld54', 'ld55', 'ld56', 'ld57', 'ld58', 'ld59', 'ld60', 'ld61', 'ld62', 'ld63', 'ld64', 'ld65', 'ld66', 'ld67', 'ld68', 'ld69', 'ld70', 'ld71', 'ld72', 'ld73', 'ld74', 'ld75', 'ld76', 'ld77', 'ld78', 'ld79', 'ld80', 'ld81', 'ld82', 'ld83', 'ld84', 'ld85', 'ld86', 'ld87', 'ld88', 'ld89', 'ld90', 'ld91', 'ld92', 'ld93', 'ld94', 'ld95', 'ld96', 'ld97', 'ld98', 'ld99', 'le00', 'le01', 'le02', 'le03', 'le04', 'le05', 'le06', 'le07', 'le08', 'le09', 'le10', 'le11', 'le12', 'le13', 'le14', 'le15', 'le16', 'le17', 'le18', 'le19', 'le20', 'le21', 'le22', 'le23', 'le24', 'le25', 'le26', 'le27', 'le28', 'le29', 'le30', 'le31', 'le32', 'le33', 'le34', 'le35', 'le36', 'le37', 'le38', 'le39', 'le40', 'le41', 'le42', 'le43', 'le44', 'le45', 'le46', 'le47', 'le48', 'le49', 'le50', 'le51', 'le52', 'le53', 'le54', 'le55', 'le56', 'le57', 'le58', 'le59', 'le60', 'le61', 'le62', 'le63', 'le64', 'le65', 'le66', 'le67', 'le68', 'le69', 'le70', 'le71', 'le72', 'le73', 'le74', 'le75', 'le76', 'le77', 'le78', 'le79', 'le80', 'le81', 'le82', 'le83', 'le84', 'le85', 'le86', 'le87', 'le88', 'le89', 'le90', 'le91', 'le92', 'le93', 'le94', 'le95', 'le96', 'le97', 'le98', 'le99', 'lf00', 'lf01', 'lf02', 'lf03', 'lf04', 'lf05', 'lf06', 'lf07', 'lf08', 'lf09', 'lf10', 'lf11', 'lf12', 'lf13', 'lf14', 'lf15', 'lf16', 'lf17', 'lf18', 'lf19', 'lf20', 'lf21', 'lf22', 'lf23', 'lf24', 'lf25', 'lf26', 'lf27', 'lf28', 'lf29', 'lf30', 'lf31', 'lf32', 'lf33', 'lf34', 'lf35', 'lf36', 'lf37', 'lf38', 'lf39', 'lf40', 'lf41', 'lf42', 'lf43', 'lf44', 'lf45', 'lf46', 'lf47', 'lf48', 'lf49', 'lf50', 'lf51', 'lf52', 'lf53', 'lf54', 'lf55', 'lf56', 'lf57', 'lf58', 'lf59', 'lf60', 'lf61', 'lf62', 'lf63', 'lf64', 'lf65', 'lf66', 'lf67', 'lf68', 'lf69', 'lf70', 'lf71', 'lf72', 'lf73', 'lf74', 'lf75', 'lf76', 'lf77', 'lf78', 'lf79', 'lf80', 'lf81', 'lf82', 'lf83', 'lf84', 'lf85', 'lf86', 'lf87', 'lf88', 'lf89', 'lf90', 'lf91', 'lf92', 'lf93', 'lf94', 'lf95', 'lf96', 'lf97', 'lf98', 'lf99', 'lg00', 'lg01', 'lg02', 'lg03', 'lg04', 'lg05', 'lg06', 'lg07', 'lg08', 'lg09', 'lg10', 'lg11', 'lg12', 'lg13', 'lg14', 'lg15', 'lg16', 'lg17', 'lg18', 'lg19', 'lg20', 'lg21', 'lg22', 'lg23', 'lg24', 'lg25', 'lg26', 'lg27', 'lg28', 'lg29', 'lg30', 'lg31', 'lg32', 'lg33', 'lg34', 'lg35', 'lg36', 'lg37', 'lg38', 'lg39', 'lg40', 'lg41', 'lg42', 'lg43', 'lg44', 'lg45', 'lg46', 'lg47', 'lg48', 'lg49', 'lg50', 'lg51', 'lg52', 'lg53', 'lg54', 'lg55', 'lg56', 'lg57', 'lg58', 'lg59', 'lg60', 'lg61', 'lg62', 'lg63', 'lg64', 'lg65', 'lg66', 'lg67', 'lg68', 'lg69', 'lg70', 'lg71', 'lg72', 'lg73', 'lg74', 'lg75', 'lg76', 'lg77', 'lg78', 'lg79', 'lg80', 'lg81', 'lg82', 'lg83', 'lg84', 'lg85', 'lg86', 'lg87', 'lg88', 'lg89', 'lg90', 'lg91', 'lg92', 'lg93', 'lg94', 'lg95', 'lg96', 'lg97', 'lg98', 'lg99', 'lh00', 'lh01', 'lh02', 'lh03', 'lh04', 'lh05', 'lh06', 'lh07', 'lh08', 'lh09', 'lh10', 'lh11', 'lh12', 'lh13', 'lh14', 'lh15', 'lh16', 'lh17', 'lh18', 'lh19', 'lh20', 'lh21', 'lh22', 'lh23', 'lh24', 'lh25', 'lh26', 'lh27', 'lh28', 'lh29', 'lh30', 'lh31', 'lh32', 'lh33', 'lh34', 'lh35', 'lh36', 'lh37', 'lh38', 'lh39', 'lh40', 'lh41', 'lh42', 'lh43', 'lh44', 'lh45', 'lh46', 'lh47', 'lh48', 'lh49', 'lh50', 'lh51', 'lh52', 'lh53', 'lh54', 'lh55', 'lh56', 'lh57', 'lh58', 'lh59', 'lh60', 'lh61', 'lh62', 'lh63', 'lh64', 'lh65', 'lh66', 'lh67', 'lh68', 'lh69', 'lh70', 'lh71', 'lh72', 'lh73', 'lh74', 'lh75', 'lh76', 'lh77', 'lh78', 'lh79', 'lh80', 'lh81', 'lh82', 'lh83', 'lh84', 'lh85', 'lh86', 'lh87', 'lh88', 'lh89', 'lh90', 'lh91', 'lh92', 'lh93', 'lh94', 'lh95', 'lh96', 'lh97', 'lh98', 'lh99', 'li00', 'li01', 'li02', 'li03', 'li04', 'li05', 'li06', 'li07', 'li08', 'li09', 'li10', 'li11', 'li12', 'li13', 'li14', 'li15', 'li16', 'li17', 'li18', 'li19', 'li20', 'li21', 'li22', 'li23', 'li24', 'li25', 'li26', 'li27', 'li28', 'li29', 'li30', 'li31', 'li32', 'li33', 'li34', 'li35', 'li36', 'li37', 'li38', 'li39', 'li40', 'li41', 'li42', 'li43', 'li44', 'li45', 'li46', 'li47', 'li48', 'li49', 'li50', 'li51', 'li52', 'li53', 'li54', 'li55', 'li56', 'li57', 'li58', 'li59', 'li60', 'li61', 'li62', 'li63', 'li64', 'li65', 'li66', 'li67', 'li68', 'li69', 'li70', 'li71', 'li72', 'li73', 'li74', 'li75', 'li76', 'li77', 'li78', 'li79', 'li80', 'li81', 'li82', 'li83', 'li84', 'li85', 'li86', 'li87', 'li88', 'li89', 'li90', 'li91', 'li92', 'li93', 'li94', 'li95', 'li96', 'li97', 'li98', 'li99', 'lj00', 'lj01', 'lj02', 'lj03', 'lj04', 'lj05', 'lj06', 'lj07', 'lj08', 'lj09', 'lj10', 'lj11', 'lj12', 'lj13', 'lj14', 'lj15', 'lj16', 'lj17', 'lj18', 'lj19', 'lj20', 'lj21', 'lj22', 'lj23', 'lj24', 'lj25', 'lj26', 'lj27', 'lj28', 'lj29', 'lj30', 'lj31', 'lj32', 'lj33', 'lj34', 'lj35', 'lj36', 'lj37', 'lj38', 'lj39', 'lj40', 'lj41', 'lj42', 'lj43', 'lj44', 'lj45', 'lj46', 'lj47', 'lj48', 'lj49', 'lj50', 'lj51', 'lj52', 'lj53', 'lj54', 'lj55', 'lj56', 'lj57', 'lj58', 'lj59', 'lj60', 'lj61', 'lj62', 'lj63', 'lj64', 'lj65', 'lj66', 'lj67', 'lj68', 'lj69', 'lj70', 'lj71', 'lj72', 'lj73', 'lj74', 'lj75', 'lj76', 'lj77', 'lj78', 'lj79', 'lj80', 'lj81', 'lj82', 'lj83', 'lj84', 'lj85', 'lj86', 'lj87', 'lj88', 'lj89', 'lj90', 'lj91', 'lj92', 'lj93', 'lj94', 'lj95', 'lj96', 'lj97', 'lj98', 'lj99', 'lk00', 'lk01', 'lk02', 'lk03', 'lk04', 'lk05', 'lk06', 'lk07', 'lk08', 'lk09', 'lk10', 'lk11', 'lk12', 'lk13', 'lk14', 'lk15', 'lk16', 'lk17', 'lk18', 'lk19', 'lk20', 'lk21', 'lk22', 'lk23', 'lk24', 'lk25', 'lk26', 'lk27', 'lk28', 'lk29', 'lk30', 'lk31', 'lk32', 'lk33', 'lk34', 'lk35', 'lk36', 'lk37', 'lk38', 'lk39', 'lk40', 'lk41', 'lk42', 'lk43', 'lk44', 'lk45', 'lk46', 'lk47', 'lk48', 'lk49', 'lk50', 'lk51', 'lk52', 'lk53', 'lk54', 'lk55', 'lk56', 'lk57', 'lk58', 'lk59', 'lk60', 'lk61', 'lk62', 'lk63', 'lk64', 'lk65', 'lk66', 'lk67', 'lk68', 'lk69', 'lk70', 'lk71', 'lk72', 'lk73', 'lk74', 'lk75', 'lk76', 'lk77', 'lk78', 'lk79', 'lk80', 'lk81', 'lk82', 'lk83', 'lk84', 'lk85', 'lk86', 'lk87', 'lk88', 'lk89', 'lk90', 'lk91', 'lk92', 'lk93', 'lk94', 'lk95', 'lk96', 'lk97', 'lk98', 'lk99', 'll00', 'll01', 'll02', 'll03', 'll04', 'll05', 'll06', 'll07', 'll08', 'll09', 'll10', 'll11', 'll12', 'll13', 'll14', 'll15', 'll16', 'll17', 'll18', 'll19', 'll20', 'll21', 'll22', 'll23', 'll24', 'll25', 'll26', 'll27', 'll28', 'll29', 'll30', 'll31', 'll32', 'll33', 'll34', 'll35', 'll36', 'll37', 'll38', 'll39', 'll40', 'll41', 'll42', 'll43', 'll44', 'll45', 'll46', 'll47', 'll48', 'll49', 'll50', 'll51', 'll52', 'll53', 'll54', 'll55', 'll56', 'll57', 'll58', 'll59', 'll60', 'll61', 'll62', 'll63', 'll64', 'll65', 'll66', 'll67', 'll68', 'll69', 'll70', 'll71', 'll72', 'll73', 'll74', 'll75', 'll76', 'll77', 'll78', 'll79', 'll80', 'll81', 'll82', 'll83', 'll84', 'll85', 'll86', 'll87', 'll88', 'll89', 'll90', 'll91', 'll92', 'll93', 'll94', 'll95', 'll96', 'll97', 'll98', 'll99', 'lm00', 'lm01', 'lm02', 'lm03', 'lm04', 'lm05', 'lm06', 'lm07', 'lm08', 'lm09', 'lm10', 'lm11', 'lm12', 'lm13', 'lm14', 'lm15', 'lm16', 'lm17', 'lm18', 'lm19', 'lm20', 'lm21', 'lm22', 'lm23', 'lm24', 'lm25', 'lm26', 'lm27', 'lm28', 'lm29', 'lm30', 'lm31', 'lm32', 'lm33', 'lm34', 'lm35', 'lm36', 'lm37', 'lm38', 'lm39', 'lm40', 'lm41', 'lm42', 'lm43', 'lm44', 'lm45', 'lm46', 'lm47', 'lm48', 'lm49', 'lm50', 'lm51', 'lm52', 'lm53', 'lm54', 'lm55', 'lm56', 'lm57', 'lm58', 'lm59', 'lm60', 'lm61', 'lm62', 'lm63', 'lm64', 'lm65', 'lm66', 'lm67', 'lm68', 'lm69', 'lm70', 'lm71', 'lm72', 'lm73', 'lm74', 'lm75', 'lm76', 'lm77', 'lm78', 'lm79', 'lm80', 'lm81', 'lm82', 'lm83', 'lm84', 'lm85', 'lm86', 'lm87', 'lm88', 'lm89', 'lm90', 'lm91', 'lm92', 'lm93', 'lm94', 'lm95', 'lm96', 'lm97', 'lm98', 'lm99', 'ln00', 'ln01', 'ln02', 'ln03', 'ln04', 'ln05', 'ln06', 'ln07', 'ln08', 'ln09', 'ln10', 'ln11', 'ln12', 'ln13', 'ln14', 'ln15', 'ln16', 'ln17', 'ln18', 'ln19', 'ln20', 'ln21', 'ln22', 'ln23', 'ln24', 'ln25', 'ln26', 'ln27', 'ln28', 'ln29', 'ln30', 'ln31', 'ln32', 'ln33', 'ln34', 'ln35', 'ln36', 'ln37', 'ln38', 'ln39', 'ln40', 'ln41', 'ln42', 'ln43', 'ln44', 'ln45', 'ln46', 'ln47', 'ln48', 'ln49', 'ln50', 'ln51', 'ln52', 'ln53', 'ln54', 'ln55', 'ln56', 'ln57', 'ln58', 'ln59', 'ln60', 'ln61', 'ln62', 'ln63', 'ln64', 'ln65', 'ln66', 'ln67', 'ln68', 'ln69', 'ln70', 'ln71', 'ln72', 'ln73', 'ln74', 'ln75', 'ln76', 'ln77', 'ln78', 'ln79', 'ln80', 'ln81', 'ln82', 'ln83', 'ln84', 'ln85', 'ln86', 'ln87', 'ln88', 'ln89', 'ln90', 'ln91', 'ln92', 'ln93', 'ln94', 'ln95', 'ln96', 'ln97', 'ln98', 'ln99', 'lo00', 'lo01', 'lo02', 'lo03', 'lo04', 'lo05', 'lo06', 'lo07', 'lo08', 'lo09', 'lo10', 'lo11', 'lo12', 'lo13', 'lo14', 'lo15', 'lo16', 'lo17', 'lo18', 'lo19', 'lo20', 'lo21', 'lo22', 'lo23', 'lo24', 'lo25', 'lo26', 'lo27', 'lo28', 'lo29', 'lo30', 'lo31', 'lo32', 'lo33', 'lo34', 'lo35', 'lo36', 'lo37', 'lo38', 'lo39', 'lo40', 'lo41', 'lo42', 'lo43', 'lo44', 'lo45', 'lo46', 'lo47', 'lo48', 'lo49', 'lo50', 'lo51', 'lo52', 'lo53', 'lo54', 'lo55', 'lo56', 'lo57', 'lo58', 'lo59', 'lo60', 'lo61', 'lo62', 'lo63', 'lo64', 'lo65', 'lo66', 'lo67', 'lo68', 'lo69', 'lo70', 'lo71', 'lo72', 'lo73', 'lo74', 'lo75', 'lo76', 'lo77', 'lo78', 'lo79', 'lo80', 'lo81', 'lo82', 'lo83', 'lo84', 'lo85', 'lo86', 'lo87', 'lo88', 'lo89', 'lo90', 'lo91', 'lo92', 'lo93', 'lo94', 'lo95', 'lo96', 'lo97', 'lo98', 'lo99', 'lp00', 'lp01', 'lp02', 'lp03', 'lp04', 'lp05', 'lp06', 'lp07', 'lp08', 'lp09', 'lp10', 'lp11', 'lp12', 'lp13', 'lp14', 'lp15', 'lp16', 'lp17', 'lp18', 'lp19', 'lp20', 'lp21', 'lp22', 'lp23', 'lp24', 'lp25', 'lp26', 'lp27', 'lp28', 'lp29', 'lp30', 'lp31', 'lp32', 'lp33', 'lp34', 'lp35', 'lp36', 'lp37', 'lp38', 'lp39', 'lp40', 'lp41', 'lp42', 'lp43', 'lp44', 'lp45', 'lp46', 'lp47', 'lp48', 'lp49', 'lp50', 'lp51', 'lp52', 'lp53', 'lp54', 'lp55', 'lp56', 'lp57', 'lp58', 'lp59', 'lp60', 'lp61', 'lp62', 'lp63', 'lp64', 'lp65', 'lp66', 'lp67', 'lp68', 'lp69', 'lp70', 'lp71', 'lp72', 'lp73', 'lp74', 'lp75', 'lp76', 'lp77', 'lp78', 'lp79', 'lp80', 'lp81', 'lp82', 'lp83', 'lp84', 'lp85', 'lp86', 'lp87', 'lp88', 'lp89', 'lp90', 'lp91', 'lp92', 'lp93', 'lp94', 'lp95', 'lp96', 'lp97', 'lp98', 'lp99', 'lq00', 'lq01', 'lq02', 'lq03', 'lq04', 'lq05', 'lq06', 'lq07', 'lq08', 'lq09', 'lq10', 'lq11', 'lq12', 'lq13', 'lq14', 'lq15', 'lq16', 'lq17', 'lq18', 'lq19', 'lq20', 'lq21', 'lq22', 'lq23', 'lq24', 'lq25', 'lq26', 'lq27', 'lq28', 'lq29', 'lq30', 'lq31', 'lq32', 'lq33', 'lq34', 'lq35', 'lq36', 'lq37', 'lq38', 'lq39', 'lq40', 'lq41', 'lq42', 'lq43', 'lq44', 'lq45', 'lq46', 'lq47', 'lq48', 'lq49', 'lq50', 'lq51', 'lq52', 'lq53', 'lq54', 'lq55', 'lq56', 'lq57', 'lq58', 'lq59', 'lq60', 'lq61', 'lq62', 'lq63', 'lq64', 'lq65', 'lq66', 'lq67', 'lq68', 'lq69', 'lq70', 'lq71', 'lq72', 'lq73', 'lq74', 'lq75', 'lq76', 'lq77', 'lq78', 'lq79', 'lq80', 'lq81', 'lq82', 'lq83', 'lq84', 'lq85', 'lq86', 'lq87', 'lq88', 'lq89', 'lq90', 'lq91', 'lq92', 'lq93', 'lq94', 'lq95', 'lq96', 'lq97', 'lq98', 'lq99', 'lr00', 'lr01', 'lr02', 'lr03', 'lr04', 'lr05', 'lr06', 'lr07', 'lr08', 'lr09', 'lr10', 'lr11', 'lr12', 'lr13', 'lr14', 'lr15', 'lr16', 'lr17', 'lr18', 'lr19', 'lr20', 'lr21', 'lr22', 'lr23', 'lr24', 'lr25', 'lr26', 'lr27', 'lr28', 'lr29', 'lr30', 'lr31', 'lr32', 'lr33', 'lr34', 'lr35', 'lr36', 'lr37', 'lr38', 'lr39', 'lr40', 'lr41', 'lr42', 'lr43', 'lr44', 'lr45', 'lr46', 'lr47', 'lr48', 'lr49', 'lr50', 'lr51', 'lr52', 'lr53', 'lr54', 'lr55', 'lr56', 'lr57', 'lr58', 'lr59', 'lr60', 'lr61', 'lr62', 'lr63', 'lr64', 'lr65', 'lr66', 'lr67', 'lr68', 'lr69', 'lr70', 'lr71', 'lr72', 'lr73', 'lr74', 'lr75', 'lr76', 'lr77', 'lr78', 'lr79', 'lr80', 'lr81', 'lr82', 'lr83', 'lr84', 'lr85', 'lr86', 'lr87', 'lr88', 'lr89', 'lr90', 'lr91', 'lr92', 'lr93', 'lr94', 'lr95', 'lr96', 'lr97', 'lr98', 'lr99', 'ls00', 'ls01', 'ls02', 'ls03', 'ls04', 'ls05', 'ls06', 'ls07', 'ls08', 'ls09', 'ls10', 'ls11', 'ls12', 'ls13', 'ls14', 'ls15', 'ls16', 'ls17', 'ls18', 'ls19', 'ls20', 'ls21', 'ls22', 'ls23', 'ls24', 'ls25', 'ls26', 'ls27', 'ls28', 'ls29', 'ls30', 'ls31', 'ls32', 'ls33', 'ls34', 'ls35', 'ls36', 'ls37', 'ls38', 'ls39', 'ls40', 'ls41', 'ls42', 'ls43', 'ls44', 'ls45', 'ls46', 'ls47', 'ls48', 'ls49', 'ls50', 'ls51', 'ls52', 'ls53', 'ls54', 'ls55', 'ls56', 'ls57', 'ls58', 'ls59', 'ls60', 'ls61', 'ls62', 'ls63', 'ls64', 'ls65', 'ls66', 'ls67', 'ls68', 'ls69', 'ls70', 'ls71', 'ls72', 'ls73', 'ls74', 'ls75', 'ls76', 'ls77', 'ls78', 'ls79', 'ls80', 'ls81', 'ls82', 'ls83', 'ls84', 'ls85', 'ls86', 'ls87', 'ls88', 'ls89', 'ls90', 'ls91', 'ls92', 'ls93', 'ls94', 'ls95', 'ls96', 'ls97', 'ls98', 'ls99', 'lt00', 'lt01', 'lt02', 'lt03', 'lt04', 'lt05', 'lt06', 'lt07', 'lt08', 'lt09', 'lt10', 'lt11', 'lt12', 'lt13', 'lt14', 'lt15', 'lt16', 'lt17', 'lt18', 'lt19', 'lt20', 'lt21', 'lt22', 'lt23', 'lt24', 'lt25', 'lt26', 'lt27', 'lt28', 'lt29', 'lt30', 'lt31', 'lt32', 'lt33', 'lt34', 'lt35', 'lt36', 'lt37', 'lt38', 'lt39', 'lt40', 'lt41', 'lt42', 'lt43', 'lt44', 'lt45', 'lt46', 'lt47', 'lt48', 'lt49', 'lt50', 'lt51', 'lt52', 'lt53', 'lt54', 'lt55', 'lt56', 'lt57', 'lt58', 'lt59', 'lt60', 'lt61', 'lt62', 'lt63', 'lt64', 'lt65', 'lt66', 'lt67', 'lt68', 'lt69', 'lt70', 'lt71', 'lt72', 'lt73', 'lt74', 'lt75', 'lt76', 'lt77', 'lt78', 'lt79', 'lt80', 'lt81', 'lt82', 'lt83', 'lt84', 'lt85', 'lt86', 'lt87', 'lt88', 'lt89', 'lt90', 'lt91', 'lt92', 'lt93', 'lt94', 'lt95', 'lt96', 'lt97', 'lt98', 'lt99', 'lu00', 'lu01', 'lu02', 'lu03', 'lu04', 'lu05', 'lu06', 'lu07', 'lu08', 'lu09', 'lu10', 'lu11', 'lu12', 'lu13', 'lu14', 'lu15', 'lu16', 'lu17', 'lu18', 'lu19', 'lu20', 'lu21', 'lu22', 'lu23', 'lu24', 'lu25', 'lu26', 'lu27', 'lu28', 'lu29', 'lu30', 'lu31', 'lu32', 'lu33', 'lu34', 'lu35', 'lu36', 'lu37', 'lu38', 'lu39', 'lu40', 'lu41', 'lu42', 'lu43', 'lu44', 'lu45', 'lu46', 'lu47', 'lu48', 'lu49', 'lu50', 'lu51', 'lu52', 'lu53', 'lu54', 'lu55', 'lu56', 'lu57', 'lu58', 'lu59', 'lu60', 'lu61', 'lu62', 'lu63', 'lu64', 'lu65', 'lu66', 'lu67', 'lu68', 'lu69', 'lu70', 'lu71', 'lu72', 'lu73', 'lu74', 'lu75', 'lu76', 'lu77', 'lu78', 'lu79', 'lu80', 'lu81', 'lu82', 'lu83', 'lu84', 'lu85', 'lu86', 'lu87', 'lu88', 'lu89', 'lu90', 'lu91', 'lu92', 'lu93', 'lu94', 'lu95', 'lu96', 'lu97', 'lu98', 'lu99', 'lv00', 'lv01', 'lv02', 'lv03', 'lv04', 'lv05', 'lv06', 'lv07', 'lv08', 'lv09', 'lv10', 'lv11', 'lv12', 'lv13', 'lv14', 'lv15', 'lv16', 'lv17', 'lv18', 'lv19', 'lv20', 'lv21', 'lv22', 'lv23', 'lv24', 'lv25', 'lv26', 'lv27', 'lv28', 'lv29', 'lv30', 'lv31', 'lv32', 'lv33', 'lv34', 'lv35', 'lv36', 'lv37', 'lv38', 'lv39', 'lv40', 'lv41', 'lv42', 'lv43', 'lv44', 'lv45', 'lv46', 'lv47', 'lv48', 'lv49', 'lv50', 'lv51', 'lv52', 'lv53', 'lv54', 'lv55', 'lv56', 'lv57', 'lv58', 'lv59', 'lv60', 'lv61', 'lv62', 'lv63', 'lv64', 'lv65', 'lv66', 'lv67', 'lv68', 'lv69', 'lv70', 'lv71', 'lv72', 'lv73', 'lv74', 'lv75', 'lv76', 'lv77', 'lv78', 'lv79', 'lv80', 'lv81', 'lv82', 'lv83', 'lv84', 'lv85', 'lv86', 'lv87', 'lv88', 'lv89', 'lv90', 'lv91', 'lv92', 'lv93', 'lv94', 'lv95', 'lv96', 'lv97', 'lv98', 'lv99', 'lw00', 'lw01', 'lw02', 'lw03', 'lw04', 'lw05', 'lw06', 'lw07', 'lw08', 'lw09', 'lw10', 'lw11', 'lw12', 'lw13', 'lw14', 'lw15', 'lw16', 'lw17', 'lw18', 'lw19', 'lw20', 'lw21', 'lw22', 'lw23', 'lw24', 'lw25', 'lw26', 'lw27', 'lw28', 'lw29', 'lw30', 'lw31', 'lw32', 'lw33', 'lw34', 'lw35', 'lw36', 'lw37', 'lw38', 'lw39', 'lw40', 'lw41', 'lw42', 'lw43', 'lw44', 'lw45', 'lw46', 'lw47', 'lw48', 'lw49', 'lw50', 'lw51', 'lw52', 'lw53', 'lw54', 'lw55', 'lw56', 'lw57', 'lw58', 'lw59', 'lw60', 'lw61', 'lw62', 'lw63', 'lw64', 'lw65', 'lw66', 'lw67', 'lw68', 'lw69', 'lw70', 'lw71', 'lw72', 'lw73', 'lw74', 'lw75', 'lw76', 'lw77', 'lw78', 'lw79', 'lw80', 'lw81', 'lw82', 'lw83', 'lw84', 'lw85', 'lw86', 'lw87', 'lw88', 'lw89', 'lw90', 'lw91', 'lw92', 'lw93', 'lw94', 'lw95', 'lw96', 'lw97', 'lw98', 'lw99', 'lx00', 'lx01', 'lx02', 'lx03', 'lx04', 'lx05', 'lx06', 'lx07', 'lx08', 'lx09', 'lx10', 'lx11', 'lx12', 'lx13', 'lx14', 'lx15', 'lx16', 'lx17', 'lx18', 'lx19', 'lx20', 'lx21', 'lx22', 'lx23', 'lx24', 'lx25', 'lx26', 'lx27', 'lx28', 'lx29', 'lx30', 'lx31', 'lx32', 'lx33', 'lx34', 'lx35', 'lx36', 'lx37', 'lx38', 'lx39', 'lx40', 'lx41', 'lx42', 'lx43', 'lx44', 'lx45', 'lx46', 'lx47', 'lx48', 'lx49', 'lx50', 'lx51', 'lx52', 'lx53', 'lx54', 'lx55', 'lx56', 'lx57', 'lx58', 'lx59', 'lx60', 'lx61', 'lx62', 'lx63', 'lx64', 'lx65', 'lx66', 'lx67', 'lx68', 'lx69', 'lx70', 'lx71', 'lx72', 'lx73', 'lx74', 'lx75', 'lx76', 'lx77', 'lx78', 'lx79', 'lx80', 'lx81', 'lx82', 'lx83', 'lx84', 'lx85', 'lx86', 'lx87', 'lx88', 'lx89', 'lx90', 'lx91', 'lx92', 'lx93', 'lx94', 'lx95', 'lx96', 'lx97', 'lx98', 'lx99', 'ly00', 'ly01', 'ly02', 'ly03', 'ly04', 'ly05', 'ly06', 'ly07', 'ly08', 'ly09', 'ly10', 'ly11', 'ly12', 'ly13', 'ly14', 'ly15', 'ly16', 'ly17', 'ly18', 'ly19', 'ly20', 'ly21', 'ly22', 'ly23', 'ly24', 'ly25', 'ly26', 'ly27', 'ly28', 'ly29', 'ly30', 'ly31', 'ly32', 'ly33', 'ly34', 'ly35', 'ly36', 'ly37', 'ly38', 'ly39', 'ly40', 'ly41', 'ly42', 'ly43', 'ly44', 'ly45', 'ly46', 'ly47', 'ly48', 'ly49', 'ly50', 'ly51', 'ly52', 'ly53', 'ly54', 'ly55', 'ly56', 'ly57', 'ly58', 'ly59', 'ly60', 'ly61', 'ly62', 'ly63', 'ly64', 'ly65', 'ly66', 'ly67', 'ly68', 'ly69', 'ly70', 'ly71', 'ly72', 'ly73', 'ly74', 'ly75', 'ly76', 'ly77', 'ly78', 'ly79', 'ly80', 'ly81', 'ly82', 'ly83', 'ly84', 'ly85', 'ly86', 'ly87', 'ly88', 'ly89', 'ly90', 'ly91', 'ly92', 'ly93', 'ly94', 'ly95', 'ly96', 'ly97', 'ly98', 'ly99', 'lz00', 'lz01', 'lz02', 'lz03', 'lz04', 'lz05', 'lz06', 'lz07', 'lz08', 'lz09', 'lz10', 'lz11', 'lz12', 'lz13', 'lz14', 'lz15', 'lz16', 'lz17', 'lz18', 'lz19', 'lz20', 'lz21', 'lz22', 'lz23', 'lz24', 'lz25', 'lz26', 'lz27', 'lz28', 'lz29', 'lz30', 'lz31', 'lz32', 'lz33', 'lz34', 'lz35', 'lz36', 'lz37', 'lz38', 'lz39', 'lz40', 'lz41', 'lz42', 'lz43', 'lz44', 'lz45', 'lz46', 'lz47', 'lz48', 'lz49', 'lz50', 'lz51', 'lz52', 'lz53', 'lz54', 'lz55', 'lz56', 'lz57', 'lz58', 'lz59', 'lz60', 'lz61', 'lz62', 'lz63', 'lz64', 'lz65', 'lz66', 'lz67', 'lz68', 'lz69', 'lz70', 'lz71', 'lz72', 'lz73', 'lz74', 'lz75', 'lz76', 'lz77', 'lz78', 'lz79', 'lz80', 'lz81', 'lz82', 'lz83', 'lz84', 'lz85', 'lz86', 'lz87', 'lz88', 'lz89', 'lz90', 'lz91', 'lz92', 'lz93', 'lz94', 'lz95', 'lz96', 'lz97', 'lz98', 'lz99', 'ma00', 'ma01', 'ma02', 'ma03', 'ma04', 'ma05', 'ma06', 'ma07', 'ma08', 'ma09', 'ma10', 'ma11', 'ma12', 'ma13', 'ma14', 'ma15', 'ma16', 'ma17', 'ma18', 'ma19', 'ma20', 'ma21', 'ma22', 'ma23', 'ma24', 'ma25', 'ma26', 'ma27', 'ma28', 'ma29', 'ma30', 'ma31', 'ma32', 'ma33', 'ma34', 'ma35', 'ma36', 'ma37', 'ma38', 'ma39', 'ma40', 'ma41', 'ma42', 'ma43', 'ma44', 'ma45', 'ma46', 'ma47', 'ma48', 'ma49', 'ma50', 'ma51', 'ma52', 'ma53', 'ma54', 'ma55', 'ma56', 'ma57', 'ma58', 'ma59', 'ma60', 'ma61', 'ma62', 'ma63', 'ma64', 'ma65', 'ma66', 'ma67', 'ma68', 'ma69', 'ma70', 'ma71', 'ma72', 'ma73', 'ma74', 'ma75', 'ma76', 'ma77', 'ma78', 'ma79', 'ma80', 'ma81', 'ma82', 'ma83', 'ma84', 'ma85', 'ma86', 'ma87', 'ma88', 'ma89', 'ma90', 'ma91', 'ma92', 'ma93', 'ma94', 'ma95', 'ma96', 'ma97', 'ma98', 'ma99', 'mb00', 'mb01', 'mb02', 'mb03', 'mb04', 'mb05', 'mb06', 'mb07', 'mb08', 'mb09', 'mb10', 'mb11', 'mb12', 'mb13', 'mb14', 'mb15', 'mb16', 'mb17', 'mb18', 'mb19', 'mb20', 'mb21', 'mb22', 'mb23', 'mb24', 'mb25', 'mb26', 'mb27', 'mb28', 'mb29', 'mb30', 'mb31', 'mb32', 'mb33', 'mb34', 'mb35', 'mb36', 'mb37', 'mb38', 'mb39', 'mb40', 'mb41', 'mb42', 'mb43', 'mb44', 'mb45', 'mb46', 'mb47', 'mb48', 'mb49', 'mb50', 'mb51', 'mb52', 'mb53', 'mb54', 'mb55', 'mb56', 'mb57', 'mb58', 'mb59', 'mb60', 'mb61', 'mb62', 'mb63', 'mb64', 'mb65', 'mb66', 'mb67', 'mb68', 'mb69', 'mb70', 'mb71', 'mb72', 'mb73', 'mb74', 'mb75', 'mb76', 'mb77', 'mb78', 'mb79', 'mb80', 'mb81', 'mb82', 'mb83', 'mb84', 'mb85', 'mb86', 'mb87', 'mb88', 'mb89', 'mb90', 'mb91', 'mb92', 'mb93', 'mb94', 'mb95', 'mb96', 'mb97', 'mb98', 'mb99', 'mc00', 'mc01', 'mc02', 'mc03', 'mc04', 'mc05', 'mc06', 'mc07', 'mc08', 'mc09', 'mc10', 'mc11', 'mc12', 'mc13', 'mc14', 'mc15', 'mc16', 'mc17', 'mc18', 'mc19', 'mc20', 'mc21', 'mc22', 'mc23', 'mc24', 'mc25', 'mc26', 'mc27', 'mc28', 'mc29', 'mc30', 'mc31', 'mc32', 'mc33', 'mc34', 'mc35', 'mc36', 'mc37', 'mc38', 'mc39', 'mc40', 'mc41', 'mc42', 'mc43', 'mc44', 'mc45', 'mc46', 'mc47', 'mc48', 'mc49', 'mc50', 'mc51', 'mc52', 'mc53', 'mc54', 'mc55', 'mc56', 'mc57', 'mc58', 'mc59', 'mc60', 'mc61', 'mc62', 'mc63', 'mc64', 'mc65', 'mc66', 'mc67', 'mc68', 'mc69', 'mc70', 'mc71', 'mc72', 'mc73', 'mc74', 'mc75', 'mc76', 'mc77', 'mc78', 'mc79', 'mc80', 'mc81', 'mc82', 'mc83', 'mc84', 'mc85', 'mc86', 'mc87', 'mc88', 'mc89', 'mc90', 'mc91', 'mc92', 'mc93', 'mc94', 'mc95', 'mc96', 'mc97', 'mc98', 'mc99', 'md00', 'md01', 'md02', 'md03', 'md04', 'md05', 'md06', 'md07', 'md08', 'md09', 'md10', 'md11', 'md12', 'md13', 'md14', 'md15', 'md16', 'md17', 'md18', 'md19', 'md20', 'md21', 'md22', 'md23', 'md24', 'md25', 'md26', 'md27', 'md28', 'md29', 'md30', 'md31', 'md32', 'md33', 'md34', 'md35', 'md36', 'md37', 'md38', 'md39', 'md40', 'md41', 'md42', 'md43', 'md44', 'md45', 'md46', 'md47', 'md48', 'md49', 'md50', 'md51', 'md52', 'md53', 'md54', 'md55', 'md56', 'md57', 'md58', 'md59', 'md60', 'md61', 'md62', 'md63', 'md64', 'md65', 'md66', 'md67', 'md68', 'md69', 'md70', 'md71', 'md72', 'md73', 'md74', 'md75', 'md76', 'md77', 'md78', 'md79', 'md80', 'md81', 'md82', 'md83', 'md84', 'md85', 'md86', 'md87', 'md88', 'md89', 'md90', 'md91', 'md92', 'md93', 'md94', 'md95', 'md96', 'md97', 'md98', 'md99', 'me00', 'me01', 'me02', 'me03', 'me04', 'me05', 'me06', 'me07', 'me08', 'me09', 'me10', 'me11', 'me12', 'me13', 'me14', 'me15', 'me16', 'me17', 'me18', 'me19', 'me20', 'me21', 'me22', 'me23', 'me24', 'me25', 'me26', 'me27', 'me28', 'me29', 'me30', 'me31', 'me32', 'me33', 'me34', 'me35', 'me36', 'me37', 'me38', 'me39', 'me40', 'me41', 'me42', 'me43', 'me44', 'me45', 'me46', 'me47', 'me48', 'me49', 'me50', 'me51', 'me52', 'me53', 'me54', 'me55', 'me56', 'me57', 'me58', 'me59', 'me60', 'me61', 'me62', 'me63', 'me64', 'me65', 'me66', 'me67', 'me68', 'me69', 'me70', 'me71', 'me72', 'me73', 'me74', 'me75', 'me76', 'me77', 'me78', 'me79', 'me80', 'me81', 'me82', 'me83', 'me84', 'me85', 'me86', 'me87', 'me88', 'me89', 'me90', 'me91', 'me92', 'me93', 'me94', 'me95', 'me96', 'me97', 'me98', 'me99', 'mf00', 'mf01', 'mf02', 'mf03', 'mf04', 'mf05', 'mf06', 'mf07', 'mf08', 'mf09', 'mf10', 'mf11', 'mf12', 'mf13', 'mf14', 'mf15', 'mf16', 'mf17', 'mf18', 'mf19', 'mf20', 'mf21', 'mf22', 'mf23', 'mf24', 'mf25', 'mf26', 'mf27', 'mf28', 'mf29', 'mf30', 'mf31', 'mf32', 'mf33', 'mf34', 'mf35', 'mf36', 'mf37', 'mf38', 'mf39', 'mf40', 'mf41', 'mf42', 'mf43', 'mf44', 'mf45', 'mf46', 'mf47', 'mf48', 'mf49', 'mf50', 'mf51', 'mf52', 'mf53', 'mf54', 'mf55', 'mf56', 'mf57', 'mf58', 'mf59', 'mf60', 'mf61', 'mf62', 'mf63', 'mf64', 'mf65', 'mf66', 'mf67', 'mf68', 'mf69', 'mf70', 'mf71', 'mf72', 'mf73', 'mf74', 'mf75', 'mf76', 'mf77', 'mf78', 'mf79', 'mf80', 'mf81', 'mf82', 'mf83', 'mf84', 'mf85', 'mf86', 'mf87', 'mf88', 'mf89', 'mf90', 'mf91', 'mf92', 'mf93', 'mf94', 'mf95', 'mf96', 'mf97', 'mf98', 'mf99', 'mg00', 'mg01', 'mg02', 'mg03', 'mg04', 'mg05', 'mg06', 'mg07', 'mg08', 'mg09', 'mg10', 'mg11', 'mg12', 'mg13', 'mg14', 'mg15', 'mg16', 'mg17', 'mg18', 'mg19', 'mg20', 'mg21', 'mg22', 'mg23', 'mg24', 'mg25', 'mg26', 'mg27', 'mg28', 'mg29', 'mg30', 'mg31', 'mg32', 'mg33', 'mg34', 'mg35', 'mg36', 'mg37', 'mg38', 'mg39', 'mg40', 'mg41', 'mg42', 'mg43', 'mg44', 'mg45', 'mg46', 'mg47', 'mg48', 'mg49', 'mg50', 'mg51', 'mg52', 'mg53', 'mg54', 'mg55', 'mg56', 'mg57', 'mg58', 'mg59', 'mg60', 'mg61', 'mg62', 'mg63', 'mg64', 'mg65', 'mg66', 'mg67', 'mg68', 'mg69', 'mg70', 'mg71', 'mg72', 'mg73', 'mg74', 'mg75', 'mg76', 'mg77', 'mg78', 'mg79', 'mg80', 'mg81', 'mg82', 'mg83', 'mg84', 'mg85', 'mg86', 'mg87', 'mg88', 'mg89', 'mg90', 'mg91', 'mg92', 'mg93', 'mg94', 'mg95', 'mg96', 'mg97', 'mg98', 'mg99', 'mh00', 'mh01', 'mh02', 'mh03', 'mh04', 'mh05', 'mh06', 'mh07', 'mh08', 'mh09', 'mh10', 'mh11', 'mh12', 'mh13', 'mh14', 'mh15', 'mh16', 'mh17', 'mh18', 'mh19', 'mh20', 'mh21', 'mh22', 'mh23', 'mh24', 'mh25', 'mh26', 'mh27', 'mh28', 'mh29', 'mh30', 'mh31', 'mh32', 'mh33', 'mh34', 'mh35', 'mh36', 'mh37', 'mh38', 'mh39', 'mh40', 'mh41', 'mh42', 'mh43', 'mh44', 'mh45', 'mh46', 'mh47', 'mh48', 'mh49', 'mh50', 'mh51', 'mh52', 'mh53', 'mh54', 'mh55', 'mh56', 'mh57', 'mh58', 'mh59', 'mh60', 'mh61', 'mh62', 'mh63', 'mh64', 'mh65', 'mh66', 'mh67', 'mh68', 'mh69', 'mh70', 'mh71', 'mh72', 'mh73', 'mh74', 'mh75', 'mh76', 'mh77', 'mh78', 'mh79', 'mh80', 'mh81', 'mh82', 'mh83', 'mh84', 'mh85', 'mh86', 'mh87', 'mh88', 'mh89', 'mh90', 'mh91', 'mh92', 'mh93', 'mh94', 'mh95', 'mh96', 'mh97', 'mh98', 'mh99', 'mi00', 'mi01', 'mi02', 'mi03', 'mi04', 'mi05', 'mi06', 'mi07', 'mi08', 'mi09', 'mi10', 'mi11', 'mi12', 'mi13', 'mi14', 'mi15', 'mi16', 'mi17', 'mi18', 'mi19', 'mi20', 'mi21', 'mi22', 'mi23', 'mi24', 'mi25', 'mi26', 'mi27', 'mi28', 'mi29', 'mi30', 'mi31', 'mi32', 'mi33', 'mi34', 'mi35', 'mi36', 'mi37', 'mi38', 'mi39', 'mi40', 'mi41', 'mi42', 'mi43', 'mi44', 'mi45', 'mi46', 'mi47', 'mi48', 'mi49', 'mi50', 'mi51', 'mi52', 'mi53', 'mi54', 'mi55', 'mi56', 'mi57', 'mi58', 'mi59', 'mi60', 'mi61', 'mi62', 'mi63', 'mi64', 'mi65', 'mi66', 'mi67', 'mi68', 'mi69', 'mi70', 'mi71', 'mi72', 'mi73', 'mi74', 'mi75', 'mi76', 'mi77', 'mi78', 'mi79', 'mi80', 'mi81', 'mi82', 'mi83', 'mi84', 'mi85', 'mi86', 'mi87', 'mi88', 'mi89', 'mi90', 'mi91', 'mi92', 'mi93', 'mi94', 'mi95', 'mi96', 'mi97', 'mi98', 'mi99', 'mj00', 'mj01', 'mj02', 'mj03', 'mj04', 'mj05', 'mj06', 'mj07', 'mj08', 'mj09', 'mj10', 'mj11', 'mj12', 'mj13', 'mj14', 'mj15', 'mj16', 'mj17', 'mj18', 'mj19', 'mj20', 'mj21', 'mj22', 'mj23', 'mj24', 'mj25', 'mj26', 'mj27', 'mj28', 'mj29', 'mj30', 'mj31', 'mj32', 'mj33', 'mj34', 'mj35', 'mj36', 'mj37', 'mj38', 'mj39', 'mj40', 'mj41', 'mj42', 'mj43', 'mj44', 'mj45', 'mj46', 'mj47', 'mj48', 'mj49', 'mj50', 'mj51', 'mj52', 'mj53', 'mj54', 'mj55', 'mj56', 'mj57', 'mj58', 'mj59', 'mj60', 'mj61', 'mj62', 'mj63', 'mj64', 'mj65', 'mj66', 'mj67', 'mj68', 'mj69', 'mj70', 'mj71', 'mj72', 'mj73', 'mj74', 'mj75', 'mj76', 'mj77', 'mj78', 'mj79', 'mj80', 'mj81', 'mj82', 'mj83', 'mj84', 'mj85', 'mj86', 'mj87', 'mj88', 'mj89', 'mj90', 'mj91', 'mj92', 'mj93', 'mj94', 'mj95', 'mj96', 'mj97', 'mj98', 'mj99', 'mk00', 'mk01', 'mk02', 'mk03', 'mk04', 'mk05', 'mk06', 'mk07', 'mk08', 'mk09', 'mk10', 'mk11', 'mk12', 'mk13', 'mk14', 'mk15', 'mk16', 'mk17', 'mk18', 'mk19', 'mk20', 'mk21', 'mk22', 'mk23', 'mk24', 'mk25', 'mk26', 'mk27', 'mk28', 'mk29', 'mk30', 'mk31', 'mk32', 'mk33', 'mk34', 'mk35', 'mk36', 'mk37', 'mk38', 'mk39', 'mk40', 'mk41', 'mk42', 'mk43', 'mk44', 'mk45', 'mk46', 'mk47', 'mk48', 'mk49', 'mk50', 'mk51', 'mk52', 'mk53', 'mk54', 'mk55', 'mk56', 'mk57', 'mk58', 'mk59', 'mk60', 'mk61', 'mk62', 'mk63', 'mk64', 'mk65', 'mk66', 'mk67', 'mk68', 'mk69', 'mk70', 'mk71', 'mk72', 'mk73', 'mk74', 'mk75', 'mk76', 'mk77', 'mk78', 'mk79', 'mk80', 'mk81', 'mk82', 'mk83', 'mk84', 'mk85', 'mk86', 'mk87', 'mk88', 'mk89', 'mk90', 'mk91', 'mk92', 'mk93', 'mk94', 'mk95', 'mk96', 'mk97', 'mk98', 'mk99', 'ml00', 'ml01', 'ml02', 'ml03', 'ml04', 'ml05', 'ml06', 'ml07', 'ml08', 'ml09', 'ml10', 'ml11', 'ml12', 'ml13', 'ml14', 'ml15', 'ml16', 'ml17', 'ml18', 'ml19', 'ml20', 'ml21', 'ml22', 'ml23', 'ml24', 'ml25', 'ml26', 'ml27', 'ml28', 'ml29', 'ml30', 'ml31', 'ml32', 'ml33', 'ml34', 'ml35', 'ml36', 'ml37', 'ml38', 'ml39', 'ml40', 'ml41', 'ml42', 'ml43', 'ml44', 'ml45', 'ml46', 'ml47', 'ml48', 'ml49', 'ml50', 'ml51', 'ml52', 'ml53', 'ml54', 'ml55', 'ml56', 'ml57', 'ml58', 'ml59', 'ml60', 'ml61', 'ml62', 'ml63', 'ml64', 'ml65', 'ml66', 'ml67', 'ml68', 'ml69', 'ml70', 'ml71', 'ml72', 'ml73', 'ml74', 'ml75', 'ml76', 'ml77', 'ml78', 'ml79', 'ml80', 'ml81', 'ml82', 'ml83', 'ml84', 'ml85', 'ml86', 'ml87', 'ml88', 'ml89', 'ml90', 'ml91', 'ml92', 'ml93', 'ml94', 'ml95', 'ml96', 'ml97', 'ml98', 'ml99', 'mm00', 'mm01', 'mm02', 'mm03', 'mm04', 'mm05', 'mm06', 'mm07', 'mm08', 'mm09', 'mm10', 'mm11', 'mm12', 'mm13', 'mm14', 'mm15', 'mm16', 'mm17', 'mm18', 'mm19', 'mm20', 'mm21', 'mm22', 'mm23', 'mm24', 'mm25', 'mm26', 'mm27', 'mm28', 'mm29', 'mm30', 'mm31', 'mm32', 'mm33', 'mm34', 'mm35', 'mm36', 'mm37', 'mm38', 'mm39', 'mm40', 'mm41', 'mm42', 'mm43', 'mm44', 'mm45', 'mm46', 'mm47', 'mm48', 'mm49', 'mm50', 'mm51', 'mm52', 'mm53', 'mm54', 'mm55', 'mm56', 'mm57', 'mm58', 'mm59', 'mm60', 'mm61', 'mm62', 'mm63', 'mm64', 'mm65', 'mm66', 'mm67', 'mm68', 'mm69', 'mm70', 'mm71', 'mm72', 'mm73', 'mm74', 'mm75', 'mm76', 'mm77', 'mm78', 'mm79', 'mm80', 'mm81', 'mm82', 'mm83', 'mm84', 'mm85', 'mm86', 'mm87', 'mm88', 'mm89', 'mm90', 'mm91', 'mm92', 'mm93', 'mm94', 'mm95', 'mm96', 'mm97', 'mm98', 'mm99', 'mn00', 'mn01', 'mn02', 'mn03', 'mn04', 'mn05', 'mn06', 'mn07', 'mn08', 'mn09', 'mn10', 'mn11', 'mn12', 'mn13', 'mn14', 'mn15', 'mn16', 'mn17', 'mn18', 'mn19', 'mn20', 'mn21', 'mn22', 'mn23', 'mn24', 'mn25', 'mn26', 'mn27', 'mn28', 'mn29', 'mn30', 'mn31', 'mn32', 'mn33', 'mn34', 'mn35', 'mn36', 'mn37', 'mn38', 'mn39', 'mn40', 'mn41', 'mn42', 'mn43', 'mn44', 'mn45', 'mn46', 'mn47', 'mn48', 'mn49', 'mn50', 'mn51', 'mn52', 'mn53', 'mn54', 'mn55', 'mn56', 'mn57', 'mn58', 'mn59', 'mn60', 'mn61', 'mn62', 'mn63', 'mn64', 'mn65', 'mn66', 'mn67', 'mn68', 'mn69', 'mn70', 'mn71', 'mn72', 'mn73', 'mn74', 'mn75', 'mn76', 'mn77', 'mn78', 'mn79', 'mn80', 'mn81', 'mn82', 'mn83', 'mn84', 'mn85', 'mn86', 'mn87', 'mn88', 'mn89', 'mn90', 'mn91', 'mn92', 'mn93', 'mn94', 'mn95', 'mn96', 'mn97', 'mn98', 'mn99', 'mo00', 'mo01', 'mo02', 'mo03', 'mo04', 'mo05', 'mo06', 'mo07', 'mo08', 'mo09', 'mo10', 'mo11', 'mo12', 'mo13', 'mo14', 'mo15', 'mo16', 'mo17', 'mo18', 'mo19', 'mo20', 'mo21', 'mo22', 'mo23', 'mo24', 'mo25', 'mo26', 'mo27', 'mo28', 'mo29', 'mo30', 'mo31', 'mo32', 'mo33', 'mo34', 'mo35', 'mo36', 'mo37', 'mo38', 'mo39', 'mo40', 'mo41', 'mo42', 'mo43', 'mo44', 'mo45', 'mo46', 'mo47', 'mo48', 'mo49', 'mo50', 'mo51', 'mo52', 'mo53', 'mo54', 'mo55', 'mo56', 'mo57', 'mo58', 'mo59', 'mo60', 'mo61', 'mo62', 'mo63', 'mo64', 'mo65', 'mo66', 'mo67', 'mo68', 'mo69', 'mo70', 'mo71', 'mo72', 'mo73', 'mo74', 'mo75', 'mo76', 'mo77', 'mo78', 'mo79', 'mo80', 'mo81', 'mo82', 'mo83', 'mo84', 'mo85', 'mo86', 'mo87', 'mo88', 'mo89', 'mo90', 'mo91', 'mo92', 'mo93', 'mo94', 'mo95', 'mo96', 'mo97', 'mo98', 'mo99', 'mp00', 'mp01', 'mp02', 'mp03', 'mp04', 'mp05', 'mp06', 'mp07', 'mp08', 'mp09', 'mp10', 'mp11', 'mp12', 'mp13', 'mp14', 'mp15', 'mp16', 'mp17', 'mp18', 'mp19', 'mp20', 'mp21', 'mp22', 'mp23', 'mp24', 'mp25', 'mp26', 'mp27', 'mp28', 'mp29', 'mp30', 'mp31', 'mp32', 'mp33', 'mp34', 'mp35', 'mp36', 'mp37', 'mp38', 'mp39', 'mp40', 'mp41', 'mp42', 'mp43', 'mp44', 'mp45', 'mp46', 'mp47', 'mp48', 'mp49', 'mp50', 'mp51', 'mp52', 'mp53', 'mp54', 'mp55', 'mp56', 'mp57', 'mp58', 'mp59', 'mp60', 'mp61', 'mp62', 'mp63', 'mp64', 'mp65', 'mp66', 'mp67', 'mp68', 'mp69', 'mp70', 'mp71', 'mp72', 'mp73', 'mp74', 'mp75', 'mp76', 'mp77', 'mp78', 'mp79', 'mp80', 'mp81', 'mp82', 'mp83', 'mp84', 'mp85', 'mp86', 'mp87', 'mp88', 'mp89', 'mp90', 'mp91', 'mp92', 'mp93', 'mp94', 'mp95', 'mp96', 'mp97', 'mp98', 'mp99', 'mq00', 'mq01', 'mq02', 'mq03', 'mq04', 'mq05', 'mq06', 'mq07', 'mq08', 'mq09', 'mq10', 'mq11', 'mq12', 'mq13', 'mq14', 'mq15', 'mq16', 'mq17', 'mq18', 'mq19', 'mq20', 'mq21', 'mq22', 'mq23', 'mq24', 'mq25', 'mq26', 'mq27', 'mq28', 'mq29', 'mq30', 'mq31', 'mq32', 'mq33', 'mq34', 'mq35', 'mq36', 'mq37', 'mq38', 'mq39', 'mq40', 'mq41', 'mq42', 'mq43', 'mq44', 'mq45', 'mq46', 'mq47', 'mq48', 'mq49', 'mq50', 'mq51', 'mq52', 'mq53', 'mq54', 'mq55', 'mq56', 'mq57', 'mq58', 'mq59', 'mq60', 'mq61', 'mq62', 'mq63', 'mq64', 'mq65', 'mq66', 'mq67', 'mq68', 'mq69', 'mq70', 'mq71', 'mq72', 'mq73', 'mq74', 'mq75', 'mq76', 'mq77', 'mq78', 'mq79', 'mq80', 'mq81', 'mq82', 'mq83', 'mq84', 'mq85', 'mq86', 'mq87', 'mq88', 'mq89', 'mq90', 'mq91', 'mq92', 'mq93', 'mq94', 'mq95', 'mq96', 'mq97', 'mq98', 'mq99', 'mr00', 'mr01', 'mr02', 'mr03', 'mr04', 'mr05', 'mr06', 'mr07', 'mr08', 'mr09', 'mr10', 'mr11', 'mr12', 'mr13', 'mr14', 'mr15', 'mr16', 'mr17', 'mr18', 'mr19', 'mr20', 'mr21', 'mr22', 'mr23', 'mr24', 'mr25', 'mr26', 'mr27', 'mr28', 'mr29', 'mr30', 'mr31', 'mr32', 'mr33', 'mr34', 'mr35', 'mr36', 'mr37', 'mr38', 'mr39', 'mr40', 'mr41', 'mr42', 'mr43', 'mr44', 'mr45', 'mr46', 'mr47', 'mr48', 'mr49', 'mr50', 'mr51', 'mr52', 'mr53', 'mr54', 'mr55', 'mr56', 'mr57', 'mr58', 'mr59', 'mr60', 'mr61', 'mr62', 'mr63', 'mr64', 'mr65', 'mr66', 'mr67', 'mr68', 'mr69', 'mr70', 'mr71', 'mr72', 'mr73', 'mr74', 'mr75', 'mr76', 'mr77', 'mr78', 'mr79', 'mr80', 'mr81', 'mr82', 'mr83', 'mr84', 'mr85', 'mr86', 'mr87', 'mr88', 'mr89', 'mr90', 'mr91', 'mr92', 'mr93', 'mr94', 'mr95', 'mr96', 'mr97', 'mr98', 'mr99', 'ms00', 'ms01', 'ms02', 'ms03', 'ms04', 'ms05', 'ms06', 'ms07', 'ms08', 'ms09', 'ms10', 'ms11', 'ms12', 'ms13', 'ms14', 'ms15', 'ms16', 'ms17', 'ms18', 'ms19', 'ms20', 'ms21', 'ms22', 'ms23', 'ms24', 'ms25', 'ms26', 'ms27', 'ms28', 'ms29', 'ms30', 'ms31', 'ms32', 'ms33', 'ms34', 'ms35', 'ms36', 'ms37', 'ms38', 'ms39', 'ms40', 'ms41', 'ms42', 'ms43', 'ms44', 'ms45', 'ms46', 'ms47', 'ms48', 'ms49', 'ms50', 'ms51', 'ms52', 'ms53', 'ms54', 'ms55', 'ms56', 'ms57', 'ms58', 'ms59', 'ms60', 'ms61', 'ms62', 'ms63', 'ms64', 'ms65', 'ms66', 'ms67', 'ms68', 'ms69', 'ms70', 'ms71', 'ms72', 'ms73', 'ms74', 'ms75', 'ms76', 'ms77', 'ms78', 'ms79', 'ms80', 'ms81', 'ms82', 'ms83', 'ms84', 'ms85', 'ms86', 'ms87', 'ms88', 'ms89', 'ms90', 'ms91', 'ms92', 'ms93', 'ms94', 'ms95', 'ms96', 'ms97', 'ms98', 'ms99', 'mt00', 'mt01', 'mt02', 'mt03', 'mt04', 'mt05', 'mt06', 'mt07', 'mt08', 'mt09', 'mt10', 'mt11', 'mt12', 'mt13', 'mt14', 'mt15', 'mt16', 'mt17', 'mt18', 'mt19', 'mt20', 'mt21', 'mt22', 'mt23', 'mt24', 'mt25', 'mt26', 'mt27', 'mt28', 'mt29', 'mt30', 'mt31', 'mt32', 'mt33', 'mt34', 'mt35', 'mt36', 'mt37', 'mt38', 'mt39', 'mt40', 'mt41', 'mt42', 'mt43', 'mt44', 'mt45', 'mt46', 'mt47', 'mt48', 'mt49', 'mt50', 'mt51', 'mt52', 'mt53', 'mt54', 'mt55', 'mt56', 'mt57', 'mt58', 'mt59', 'mt60', 'mt61', 'mt62', 'mt63', 'mt64', 'mt65', 'mt66', 'mt67', 'mt68', 'mt69', 'mt70', 'mt71', 'mt72', 'mt73', 'mt74', 'mt75', 'mt76', 'mt77', 'mt78', 'mt79', 'mt80', 'mt81', 'mt82', 'mt83', 'mt84', 'mt85', 'mt86', 'mt87', 'mt88', 'mt89', 'mt90', 'mt91', 'mt92', 'mt93', 'mt94', 'mt95', 'mt96', 'mt97', 'mt98', 'mt99', 'mu00', 'mu01', 'mu02', 'mu03', 'mu04', 'mu05', 'mu06', 'mu07', 'mu08', 'mu09', 'mu10', 'mu11', 'mu12', 'mu13', 'mu14', 'mu15', 'mu16', 'mu17', 'mu18', 'mu19', 'mu20', 'mu21', 'mu22', 'mu23', 'mu24', 'mu25', 'mu26', 'mu27', 'mu28', 'mu29', 'mu30', 'mu31', 'mu32', 'mu33', 'mu34', 'mu35', 'mu36', 'mu37', 'mu38', 'mu39', 'mu40', 'mu41', 'mu42', 'mu43', 'mu44', 'mu45', 'mu46', 'mu47', 'mu48', 'mu49', 'mu50', 'mu51', 'mu52', 'mu53', 'mu54', 'mu55', 'mu56', 'mu57', 'mu58', 'mu59', 'mu60', 'mu61', 'mu62', 'mu63', 'mu64', 'mu65', 'mu66', 'mu67', 'mu68', 'mu69', 'mu70', 'mu71', 'mu72', 'mu73', 'mu74', 'mu75', 'mu76', 'mu77', 'mu78', 'mu79', 'mu80', 'mu81', 'mu82', 'mu83', 'mu84', 'mu85', 'mu86', 'mu87', 'mu88', 'mu89', 'mu90', 'mu91', 'mu92', 'mu93', 'mu94', 'mu95', 'mu96', 'mu97', 'mu98', 'mu99', 'mv00', 'mv01', 'mv02', 'mv03', 'mv04', 'mv05', 'mv06', 'mv07', 'mv08', 'mv09', 'mv10', 'mv11', 'mv12', 'mv13', 'mv14', 'mv15', 'mv16', 'mv17', 'mv18', 'mv19', 'mv20', 'mv21', 'mv22', 'mv23', 'mv24', 'mv25', 'mv26', 'mv27', 'mv28', 'mv29', 'mv30', 'mv31', 'mv32', 'mv33', 'mv34', 'mv35', 'mv36', 'mv37', 'mv38', 'mv39', 'mv40', 'mv41', 'mv42', 'mv43', 'mv44', 'mv45', 'mv46', 'mv47', 'mv48', 'mv49', 'mv50', 'mv51', 'mv52', 'mv53', 'mv54', 'mv55', 'mv56', 'mv57', 'mv58', 'mv59', 'mv60', 'mv61', 'mv62', 'mv63', 'mv64', 'mv65', 'mv66', 'mv67', 'mv68', 'mv69', 'mv70', 'mv71', 'mv72', 'mv73', 'mv74', 'mv75', 'mv76', 'mv77', 'mv78', 'mv79', 'mv80', 'mv81', 'mv82', 'mv83', 'mv84', 'mv85', 'mv86', 'mv87', 'mv88', 'mv89', 'mv90', 'mv91', 'mv92', 'mv93', 'mv94', 'mv95', 'mv96', 'mv97', 'mv98', 'mv99', 'mw00', 'mw01', 'mw02', 'mw03', 'mw04', 'mw05', 'mw06', 'mw07', 'mw08', 'mw09', 'mw10', 'mw11', 'mw12', 'mw13', 'mw14', 'mw15', 'mw16', 'mw17', 'mw18', 'mw19', 'mw20', 'mw21', 'mw22', 'mw23', 'mw24', 'mw25', 'mw26', 'mw27', 'mw28', 'mw29', 'mw30', 'mw31', 'mw32', 'mw33', 'mw34', 'mw35', 'mw36', 'mw37', 'mw38', 'mw39', 'mw40', 'mw41', 'mw42', 'mw43', 'mw44', 'mw45', 'mw46', 'mw47', 'mw48', 'mw49', 'mw50', 'mw51', 'mw52', 'mw53', 'mw54', 'mw55', 'mw56', 'mw57', 'mw58', 'mw59', 'mw60', 'mw61', 'mw62', 'mw63', 'mw64', 'mw65', 'mw66', 'mw67', 'mw68', 'mw69', 'mw70', 'mw71', 'mw72', 'mw73', 'mw74', 'mw75', 'mw76', 'mw77', 'mw78', 'mw79', 'mw80', 'mw81', 'mw82', 'mw83', 'mw84', 'mw85', 'mw86', 'mw87', 'mw88', 'mw89', 'mw90', 'mw91', 'mw92', 'mw93', 'mw94', 'mw95', 'mw96', 'mw97', 'mw98', 'mw99', 'mx00', 'mx01', 'mx02', 'mx03', 'mx04', 'mx05', 'mx06', 'mx07', 'mx08', 'mx09', 'mx10', 'mx11', 'mx12', 'mx13', 'mx14', 'mx15', 'mx16', 'mx17', 'mx18', 'mx19', 'mx20', 'mx21', 'mx22', 'mx23', 'mx24', 'mx25', 'mx26', 'mx27', 'mx28', 'mx29', 'mx30', 'mx31', 'mx32', 'mx33', 'mx34', 'mx35', 'mx36', 'mx37', 'mx38', 'mx39', 'mx40', 'mx41', 'mx42', 'mx43', 'mx44', 'mx45', 'mx46', 'mx47', 'mx48', 'mx49', 'mx50', 'mx51', 'mx52', 'mx53', 'mx54', 'mx55', 'mx56', 'mx57', 'mx58', 'mx59', 'mx60', 'mx61', 'mx62', 'mx63', 'mx64', 'mx65', 'mx66', 'mx67', 'mx68', 'mx69', 'mx70', 'mx71', 'mx72', 'mx73', 'mx74', 'mx75', 'mx76', 'mx77', 'mx78', 'mx79', 'mx80', 'mx81', 'mx82', 'mx83', 'mx84', 'mx85', 'mx86', 'mx87', 'mx88', 'mx89', 'mx90', 'mx91', 'mx92', 'mx93', 'mx94', 'mx95', 'mx96', 'mx97', 'mx98', 'mx99', 'my00', 'my01', 'my02', 'my03', 'my04', 'my05', 'my06', 'my07', 'my08', 'my09', 'my10', 'my11', 'my12', 'my13', 'my14', 'my15', 'my16', 'my17', 'my18', 'my19', 'my20', 'my21', 'my22', 'my23', 'my24', 'my25', 'my26', 'my27', 'my28', 'my29', 'my30', 'my31', 'my32', 'my33', 'my34', 'my35', 'my36', 'my37', 'my38', 'my39', 'my40', 'my41', 'my42', 'my43', 'my44', 'my45', 'my46', 'my47', 'my48', 'my49', 'my50', 'my51', 'my52', 'my53', 'my54', 'my55', 'my56', 'my57', 'my58', 'my59', 'my60', 'my61', 'my62', 'my63', 'my64', 'my65', 'my66', 'my67', 'my68', 'my69', 'my70', 'my71', 'my72', 'my73', 'my74', 'my75', 'my76', 'my77', 'my78', 'my79', 'my80', 'my81', 'my82', 'my83', 'my84', 'my85', 'my86', 'my87', 'my88', 'my89', 'my90', 'my91', 'my92', 'my93', 'my94', 'my95', 'my96', 'my97', 'my98', 'my99', 'mz00', 'mz01', 'mz02', 'mz03', 'mz04', 'mz05', 'mz06', 'mz07', 'mz08', 'mz09', 'mz10', 'mz11', 'mz12', 'mz13', 'mz14', 'mz15', 'mz16', 'mz17', 'mz18', 'mz19', 'mz20', 'mz21', 'mz22', 'mz23', 'mz24', 'mz25', 'mz26', 'mz27', 'mz28', 'mz29', 'mz30', 'mz31', 'mz32', 'mz33', 'mz34', 'mz35', 'mz36', 'mz37', 'mz38', 'mz39', 'mz40', 'mz41', 'mz42', 'mz43', 'mz44', 'mz45', 'mz46', 'mz47', 'mz48', 'mz49', 'mz50', 'mz51', 'mz52', 'mz53', 'mz54', 'mz55', 'mz56', 'mz57', 'mz58', 'mz59', 'mz60', 'mz61', 'mz62', 'mz63', 'mz64', 'mz65', 'mz66', 'mz67', 'mz68', 'mz69', 'mz70', 'mz71', 'mz72', 'mz73', 'mz74', 'mz75', 'mz76', 'mz77', 'mz78', 'mz79', 'mz80', 'mz81', 'mz82', 'mz83', 'mz84', 'mz85', 'mz86', 'mz87', 'mz88', 'mz89', 'mz90', 'mz91', 'mz92', 'mz93', 'mz94', 'mz95', 'mz96', 'mz97', 'mz98', 'mz99', 'na00', 'na01', 'na02', 'na03', 'na04', 'na05', 'na06', 'na07', 'na08', 'na09', 'na10', 'na11', 'na12', 'na13', 'na14', 'na15', 'na16', 'na17', 'na18', 'na19', 'na20', 'na21', 'na22', 'na23', 'na24', 'na25', 'na26', 'na27', 'na28', 'na29', 'na30', 'na31', 'na32', 'na33', 'na34', 'na35', 'na36', 'na37', 'na38', 'na39', 'na40', 'na41', 'na42', 'na43', 'na44', 'na45', 'na46', 'na47', 'na48', 'na49', 'na50', 'na51', 'na52', 'na53', 'na54', 'na55', 'na56', 'na57', 'na58', 'na59', 'na60', 'na61', 'na62', 'na63', 'na64', 'na65', 'na66', 'na67', 'na68', 'na69', 'na70', 'na71', 'na72', 'na73', 'na74', 'na75', 'na76', 'na77', 'na78', 'na79', 'na80', 'na81', 'na82', 'na83', 'na84', 'na85', 'na86', 'na87', 'na88', 'na89', 'na90', 'na91', 'na92', 'na93', 'na94', 'na95', 'na96', 'na97', 'na98', 'na99', 'nb00', 'nb01', 'nb02', 'nb03', 'nb04', 'nb05', 'nb06', 'nb07', 'nb08', 'nb09', 'nb10', 'nb11', 'nb12', 'nb13', 'nb14', 'nb15', 'nb16', 'nb17', 'nb18', 'nb19', 'nb20', 'nb21', 'nb22', 'nb23', 'nb24', 'nb25', 'nb26', 'nb27', 'nb28', 'nb29', 'nb30', 'nb31', 'nb32', 'nb33', 'nb34', 'nb35', 'nb36', 'nb37', 'nb38', 'nb39', 'nb40', 'nb41', 'nb42', 'nb43', 'nb44', 'nb45', 'nb46', 'nb47', 'nb48', 'nb49', 'nb50', 'nb51', 'nb52', 'nb53', 'nb54', 'nb55', 'nb56', 'nb57', 'nb58', 'nb59', 'nb60', 'nb61', 'nb62', 'nb63', 'nb64', 'nb65', 'nb66', 'nb67', 'nb68', 'nb69', 'nb70', 'nb71', 'nb72', 'nb73', 'nb74', 'nb75', 'nb76', 'nb77', 'nb78', 'nb79', 'nb80', 'nb81', 'nb82', 'nb83', 'nb84', 'nb85', 'nb86', 'nb87', 'nb88', 'nb89', 'nb90', 'nb91', 'nb92', 'nb93', 'nb94', 'nb95', 'nb96', 'nb97', 'nb98', 'nb99', 'nc00', 'nc01', 'nc02', 'nc03', 'nc04', 'nc05', 'nc06', 'nc07', 'nc08', 'nc09', 'nc10', 'nc11', 'nc12', 'nc13', 'nc14', 'nc15', 'nc16', 'nc17', 'nc18', 'nc19', 'nc20', 'nc21', 'nc22', 'nc23', 'nc24', 'nc25', 'nc26', 'nc27', 'nc28', 'nc29', 'nc30', 'nc31', 'nc32', 'nc33', 'nc34', 'nc35', 'nc36', 'nc37', 'nc38', 'nc39', 'nc40', 'nc41', 'nc42', 'nc43', 'nc44', 'nc45', 'nc46', 'nc47', 'nc48', 'nc49', 'nc50', 'nc51', 'nc52', 'nc53', 'nc54', 'nc55', 'nc56', 'nc57', 'nc58', 'nc59', 'nc60', 'nc61', 'nc62', 'nc63', 'nc64', 'nc65', 'nc66', 'nc67', 'nc68', 'nc69', 'nc70', 'nc71', 'nc72', 'nc73', 'nc74', 'nc75', 'nc76', 'nc77', 'nc78', 'nc79', 'nc80', 'nc81', 'nc82', 'nc83', 'nc84', 'nc85', 'nc86', 'nc87', 'nc88', 'nc89', 'nc90', 'nc91', 'nc92', 'nc93', 'nc94', 'nc95', 'nc96', 'nc97', 'nc98', 'nc99', 'nd00', 'nd01', 'nd02', 'nd03', 'nd04', 'nd05', 'nd06', 'nd07', 'nd08', 'nd09', 'nd10', 'nd11', 'nd12', 'nd13', 'nd14', 'nd15', 'nd16', 'nd17', 'nd18', 'nd19', 'nd20', 'nd21', 'nd22', 'nd23', 'nd24', 'nd25', 'nd26', 'nd27', 'nd28', 'nd29', 'nd30', 'nd31', 'nd32', 'nd33', 'nd34', 'nd35', 'nd36', 'nd37', 'nd38', 'nd39', 'nd40', 'nd41', 'nd42', 'nd43', 'nd44', 'nd45', 'nd46', 'nd47', 'nd48', 'nd49', 'nd50', 'nd51', 'nd52', 'nd53', 'nd54', 'nd55', 'nd56', 'nd57', 'nd58', 'nd59', 'nd60', 'nd61', 'nd62', 'nd63', 'nd64', 'nd65', 'nd66', 'nd67', 'nd68', 'nd69', 'nd70', 'nd71', 'nd72', 'nd73', 'nd74', 'nd75', 'nd76', 'nd77', 'nd78', 'nd79', 'nd80', 'nd81', 'nd82', 'nd83', 'nd84', 'nd85', 'nd86', 'nd87', 'nd88', 'nd89', 'nd90', 'nd91', 'nd92', 'nd93', 'nd94', 'nd95', 'nd96', 'nd97', 'nd98', 'nd99', 'ne00', 'ne01', 'ne02', 'ne03', 'ne04', 'ne05', 'ne06', 'ne07', 'ne08', 'ne09', 'ne10', 'ne11', 'ne12', 'ne13', 'ne14', 'ne15', 'ne16', 'ne17', 'ne18', 'ne19', 'ne20', 'ne21', 'ne22', 'ne23', 'ne24', 'ne25', 'ne26', 'ne27', 'ne28', 'ne29', 'ne30', 'ne31', 'ne32', 'ne33', 'ne34', 'ne35', 'ne36', 'ne37', 'ne38', 'ne39', 'ne40', 'ne41', 'ne42', 'ne43', 'ne44', 'ne45', 'ne46', 'ne47', 'ne48', 'ne49', 'ne50', 'ne51', 'ne52', 'ne53', 'ne54', 'ne55', 'ne56', 'ne57', 'ne58', 'ne59', 'ne60', 'ne61', 'ne62', 'ne63', 'ne64', 'ne65', 'ne66', 'ne67', 'ne68', 'ne69', 'ne70', 'ne71', 'ne72', 'ne73', 'ne74', 'ne75', 'ne76', 'ne77', 'ne78', 'ne79', 'ne80', 'ne81', 'ne82', 'ne83', 'ne84', 'ne85', 'ne86', 'ne87', 'ne88', 'ne89', 'ne90', 'ne91', 'ne92', 'ne93', 'ne94', 'ne95', 'ne96', 'ne97', 'ne98', 'ne99', 'nf00', 'nf01', 'nf02', 'nf03', 'nf04', 'nf05', 'nf06', 'nf07', 'nf08', 'nf09', 'nf10', 'nf11', 'nf12', 'nf13', 'nf14', 'nf15', 'nf16', 'nf17', 'nf18', 'nf19', 'nf20', 'nf21', 'nf22', 'nf23', 'nf24', 'nf25', 'nf26', 'nf27', 'nf28', 'nf29', 'nf30', 'nf31', 'nf32', 'nf33', 'nf34', 'nf35', 'nf36', 'nf37', 'nf38', 'nf39', 'nf40', 'nf41', 'nf42', 'nf43', 'nf44', 'nf45', 'nf46', 'nf47', 'nf48', 'nf49', 'nf50', 'nf51', 'nf52', 'nf53', 'nf54', 'nf55', 'nf56', 'nf57', 'nf58', 'nf59', 'nf60', 'nf61', 'nf62', 'nf63', 'nf64', 'nf65', 'nf66', 'nf67', 'nf68', 'nf69', 'nf70', 'nf71', 'nf72', 'nf73', 'nf74', 'nf75', 'nf76', 'nf77', 'nf78', 'nf79', 'nf80', 'nf81', 'nf82', 'nf83', 'nf84', 'nf85', 'nf86', 'nf87', 'nf88', 'nf89', 'nf90', 'nf91', 'nf92', 'nf93', 'nf94', 'nf95', 'nf96', 'nf97', 'nf98', 'nf99', 'ng00', 'ng01', 'ng02', 'ng03', 'ng04', 'ng05', 'ng06', 'ng07', 'ng08', 'ng09', 'ng10', 'ng11', 'ng12', 'ng13', 'ng14', 'ng15', 'ng16', 'ng17', 'ng18', 'ng19', 'ng20', 'ng21', 'ng22', 'ng23', 'ng24', 'ng25', 'ng26', 'ng27', 'ng28', 'ng29', 'ng30', 'ng31', 'ng32', 'ng33', 'ng34', 'ng35', 'ng36', 'ng37', 'ng38', 'ng39', 'ng40', 'ng41', 'ng42', 'ng43', 'ng44', 'ng45', 'ng46', 'ng47', 'ng48', 'ng49', 'ng50', 'ng51', 'ng52', 'ng53', 'ng54', 'ng55', 'ng56', 'ng57', 'ng58', 'ng59', 'ng60', 'ng61', 'ng62', 'ng63', 'ng64', 'ng65', 'ng66', 'ng67', 'ng68', 'ng69', 'ng70', 'ng71', 'ng72', 'ng73', 'ng74', 'ng75', 'ng76', 'ng77', 'ng78', 'ng79', 'ng80', 'ng81', 'ng82', 'ng83', 'ng84', 'ng85', 'ng86', 'ng87', 'ng88', 'ng89', 'ng90', 'ng91', 'ng92', 'ng93', 'ng94', 'ng95', 'ng96', 'ng97', 'ng98', 'ng99', 'nh00', 'nh01', 'nh02', 'nh03', 'nh04', 'nh05', 'nh06', 'nh07', 'nh08', 'nh09', 'nh10', 'nh11', 'nh12', 'nh13', 'nh14', 'nh15', 'nh16', 'nh17', 'nh18', 'nh19', 'nh20', 'nh21', 'nh22', 'nh23', 'nh24', 'nh25', 'nh26', 'nh27', 'nh28', 'nh29', 'nh30', 'nh31', 'nh32', 'nh33', 'nh34', 'nh35', 'nh36', 'nh37', 'nh38', 'nh39', 'nh40', 'nh41', 'nh42', 'nh43', 'nh44', 'nh45', 'nh46', 'nh47', 'nh48', 'nh49', 'nh50', 'nh51', 'nh52', 'nh53', 'nh54', 'nh55', 'nh56', 'nh57', 'nh58', 'nh59', 'nh60', 'nh61', 'nh62', 'nh63', 'nh64', 'nh65', 'nh66', 'nh67', 'nh68', 'nh69', 'nh70', 'nh71', 'nh72', 'nh73', 'nh74', 'nh75', 'nh76', 'nh77', 'nh78', 'nh79', 'nh80', 'nh81', 'nh82', 'nh83', 'nh84', 'nh85', 'nh86', 'nh87', 'nh88', 'nh89', 'nh90', 'nh91', 'nh92', 'nh93', 'nh94', 'nh95', 'nh96', 'nh97', 'nh98', 'nh99', 'ni00', 'ni01', 'ni02', 'ni03', 'ni04', 'ni05', 'ni06', 'ni07', 'ni08', 'ni09', 'ni10', 'ni11', 'ni12', 'ni13', 'ni14', 'ni15', 'ni16', 'ni17', 'ni18', 'ni19', 'ni20', 'ni21', 'ni22', 'ni23', 'ni24', 'ni25', 'ni26', 'ni27', 'ni28', 'ni29', 'ni30', 'ni31', 'ni32', 'ni33', 'ni34', 'ni35', 'ni36', 'ni37', 'ni38', 'ni39', 'ni40', 'ni41', 'ni42', 'ni43', 'ni44', 'ni45', 'ni46', 'ni47', 'ni48', 'ni49', 'ni50', 'ni51', 'ni52', 'ni53', 'ni54', 'ni55', 'ni56', 'ni57', 'ni58', 'ni59', 'ni60', 'ni61', 'ni62', 'ni63', 'ni64', 'ni65', 'ni66', 'ni67', 'ni68', 'ni69', 'ni70', 'ni71', 'ni72', 'ni73', 'ni74', 'ni75', 'ni76', 'ni77', 'ni78', 'ni79', 'ni80', 'ni81', 'ni82', 'ni83', 'ni84', 'ni85', 'ni86', 'ni87', 'ni88', 'ni89', 'ni90', 'ni91', 'ni92', 'ni93', 'ni94', 'ni95', 'ni96', 'ni97', 'ni98', 'ni99', 'nj00', 'nj01', 'nj02', 'nj03', 'nj04', 'nj05', 'nj06', 'nj07', 'nj08', 'nj09', 'nj10', 'nj11', 'nj12', 'nj13', 'nj14', 'nj15', 'nj16', 'nj17', 'nj18', 'nj19', 'nj20', 'nj21', 'nj22', 'nj23', 'nj24', 'nj25', 'nj26', 'nj27', 'nj28', 'nj29', 'nj30', 'nj31', 'nj32', 'nj33', 'nj34', 'nj35', 'nj36', 'nj37', 'nj38', 'nj39', 'nj40', 'nj41', 'nj42', 'nj43', 'nj44', 'nj45', 'nj46', 'nj47', 'nj48', 'nj49', 'nj50', 'nj51', 'nj52', 'nj53', 'nj54', 'nj55', 'nj56', 'nj57', 'nj58', 'nj59', 'nj60', 'nj61', 'nj62', 'nj63', 'nj64', 'nj65', 'nj66', 'nj67', 'nj68', 'nj69', 'nj70', 'nj71', 'nj72', 'nj73', 'nj74', 'nj75', 'nj76', 'nj77', 'nj78', 'nj79', 'nj80', 'nj81', 'nj82', 'nj83', 'nj84', 'nj85', 'nj86', 'nj87', 'nj88', 'nj89', 'nj90', 'nj91', 'nj92', 'nj93', 'nj94', 'nj95', 'nj96', 'nj97', 'nj98', 'nj99', 'nk00', 'nk01', 'nk02', 'nk03', 'nk04', 'nk05', 'nk06', 'nk07', 'nk08', 'nk09', 'nk10', 'nk11', 'nk12', 'nk13', 'nk14', 'nk15', 'nk16', 'nk17', 'nk18', 'nk19', 'nk20', 'nk21', 'nk22', 'nk23', 'nk24', 'nk25', 'nk26', 'nk27', 'nk28', 'nk29', 'nk30', 'nk31', 'nk32', 'nk33', 'nk34', 'nk35', 'nk36', 'nk37', 'nk38', 'nk39', 'nk40', 'nk41', 'nk42', 'nk43', 'nk44', 'nk45', 'nk46', 'nk47', 'nk48', 'nk49', 'nk50', 'nk51', 'nk52', 'nk53', 'nk54', 'nk55', 'nk56', 'nk57', 'nk58', 'nk59', 'nk60', 'nk61', 'nk62', 'nk63', 'nk64', 'nk65', 'nk66', 'nk67', 'nk68', 'nk69', 'nk70', 'nk71', 'nk72', 'nk73', 'nk74', 'nk75', 'nk76', 'nk77', 'nk78', 'nk79', 'nk80', 'nk81', 'nk82', 'nk83', 'nk84', 'nk85', 'nk86', 'nk87', 'nk88', 'nk89', 'nk90', 'nk91', 'nk92', 'nk93', 'nk94', 'nk95', 'nk96', 'nk97', 'nk98', 'nk99', 'nl00', 'nl01', 'nl02', 'nl03', 'nl04', 'nl05', 'nl06', 'nl07', 'nl08', 'nl09', 'nl10', 'nl11', 'nl12', 'nl13', 'nl14', 'nl15', 'nl16', 'nl17', 'nl18', 'nl19', 'nl20', 'nl21', 'nl22', 'nl23', 'nl24', 'nl25', 'nl26', 'nl27', 'nl28', 'nl29', 'nl30', 'nl31', 'nl32', 'nl33', 'nl34', 'nl35', 'nl36', 'nl37', 'nl38', 'nl39', 'nl40', 'nl41', 'nl42', 'nl43', 'nl44', 'nl45', 'nl46', 'nl47', 'nl48', 'nl49', 'nl50', 'nl51', 'nl52', 'nl53', 'nl54', 'nl55', 'nl56', 'nl57', 'nl58', 'nl59', 'nl60', 'nl61', 'nl62', 'nl63', 'nl64', 'nl65', 'nl66', 'nl67', 'nl68', 'nl69', 'nl70', 'nl71', 'nl72', 'nl73', 'nl74', 'nl75', 'nl76', 'nl77', 'nl78', 'nl79', 'nl80', 'nl81', 'nl82', 'nl83', 'nl84', 'nl85', 'nl86', 'nl87', 'nl88', 'nl89', 'nl90', 'nl91', 'nl92', 'nl93', 'nl94', 'nl95', 'nl96', 'nl97', 'nl98', 'nl99', 'nm00', 'nm01', 'nm02', 'nm03', 'nm04', 'nm05', 'nm06', 'nm07', 'nm08', 'nm09', 'nm10', 'nm11', 'nm12', 'nm13', 'nm14', 'nm15', 'nm16', 'nm17', 'nm18', 'nm19', 'nm20', 'nm21', 'nm22', 'nm23', 'nm24', 'nm25', 'nm26', 'nm27', 'nm28', 'nm29', 'nm30', 'nm31', 'nm32', 'nm33', 'nm34', 'nm35', 'nm36', 'nm37', 'nm38', 'nm39', 'nm40', 'nm41', 'nm42', 'nm43', 'nm44', 'nm45', 'nm46', 'nm47', 'nm48', 'nm49', 'nm50', 'nm51', 'nm52', 'nm53', 'nm54', 'nm55', 'nm56', 'nm57', 'nm58', 'nm59', 'nm60', 'nm61', 'nm62', 'nm63', 'nm64', 'nm65', 'nm66', 'nm67', 'nm68', 'nm69', 'nm70', 'nm71', 'nm72', 'nm73', 'nm74', 'nm75', 'nm76', 'nm77', 'nm78', 'nm79', 'nm80', 'nm81', 'nm82', 'nm83', 'nm84', 'nm85', 'nm86', 'nm87', 'nm88', 'nm89', 'nm90', 'nm91', 'nm92', 'nm93', 'nm94', 'nm95', 'nm96', 'nm97', 'nm98', 'nm99', 'nn00', 'nn01', 'nn02', 'nn03', 'nn04', 'nn05', 'nn06', 'nn07', 'nn08', 'nn09', 'nn10', 'nn11', 'nn12', 'nn13', 'nn14', 'nn15', 'nn16', 'nn17', 'nn18', 'nn19', 'nn20', 'nn21', 'nn22', 'nn23', 'nn24', 'nn25', 'nn26', 'nn27', 'nn28', 'nn29', 'nn30', 'nn31', 'nn32', 'nn33', 'nn34', 'nn35', 'nn36', 'nn37', 'nn38', 'nn39', 'nn40', 'nn41', 'nn42', 'nn43', 'nn44', 'nn45', 'nn46', 'nn47', 'nn48', 'nn49', 'nn50', 'nn51', 'nn52', 'nn53', 'nn54', 'nn55', 'nn56', 'nn57', 'nn58', 'nn59', 'nn60', 'nn61', 'nn62', 'nn63', 'nn64', 'nn65', 'nn66', 'nn67', 'nn68', 'nn69', 'nn70', 'nn71', 'nn72', 'nn73', 'nn74', 'nn75', 'nn76', 'nn77', 'nn78', 'nn79', 'nn80', 'nn81', 'nn82', 'nn83', 'nn84', 'nn85', 'nn86', 'nn87', 'nn88', 'nn89', 'nn90', 'nn91', 'nn92', 'nn93', 'nn94', 'nn95', 'nn96', 'nn97', 'nn98', 'nn99', 'no00', 'no01', 'no02', 'no03', 'no04', 'no05', 'no06', 'no07', 'no08', 'no09', 'no10', 'no11', 'no12', 'no13', 'no14', 'no15', 'no16', 'no17', 'no18', 'no19', 'no20', 'no21', 'no22', 'no23', 'no24', 'no25', 'no26', 'no27', 'no28', 'no29', 'no30', 'no31', 'no32', 'no33', 'no34', 'no35', 'no36', 'no37', 'no38', 'no39', 'no40', 'no41', 'no42', 'no43', 'no44', 'no45', 'no46', 'no47', 'no48', 'no49', 'no50', 'no51', 'no52', 'no53', 'no54', 'no55', 'no56', 'no57', 'no58', 'no59', 'no60', 'no61', 'no62', 'no63', 'no64', 'no65', 'no66', 'no67', 'no68', 'no69', 'no70', 'no71', 'no72', 'no73', 'no74', 'no75', 'no76', 'no77', 'no78', 'no79', 'no80', 'no81', 'no82', 'no83', 'no84', 'no85', 'no86', 'no87', 'no88', 'no89', 'no90', 'no91', 'no92', 'no93', 'no94', 'no95', 'no96', 'no97', 'no98', 'no99', 'np00', 'np01', 'np02', 'np03', 'np04', 'np05', 'np06', 'np07', 'np08', 'np09', 'np10', 'np11', 'np12', 'np13', 'np14', 'np15', 'np16', 'np17', 'np18', 'np19', 'np20', 'np21', 'np22', 'np23', 'np24', 'np25', 'np26', 'np27', 'np28', 'np29', 'np30', 'np31', 'np32', 'np33', 'np34', 'np35', 'np36', 'np37', 'np38', 'np39', 'np40', 'np41', 'np42', 'np43', 'np44', 'np45', 'np46', 'np47', 'np48', 'np49', 'np50', 'np51', 'np52', 'np53', 'np54', 'np55', 'np56', 'np57', 'np58', 'np59', 'np60', 'np61', 'np62', 'np63', 'np64', 'np65', 'np66', 'np67', 'np68', 'np69', 'np70', 'np71', 'np72', 'np73', 'np74', 'np75', 'np76', 'np77', 'np78', 'np79', 'np80', 'np81', 'np82', 'np83', 'np84', 'np85', 'np86', 'np87', 'np88', 'np89', 'np90', 'np91', 'np92', 'np93', 'np94', 'np95', 'np96', 'np97', 'np98', 'np99', 'nq00', 'nq01', 'nq02', 'nq03', 'nq04', 'nq05', 'nq06', 'nq07', 'nq08', 'nq09', 'nq10', 'nq11', 'nq12', 'nq13', 'nq14', 'nq15', 'nq16', 'nq17', 'nq18', 'nq19', 'nq20', 'nq21', 'nq22', 'nq23', 'nq24', 'nq25', 'nq26', 'nq27', 'nq28', 'nq29', 'nq30', 'nq31', 'nq32', 'nq33', 'nq34', 'nq35', 'nq36', 'nq37', 'nq38', 'nq39', 'nq40', 'nq41', 'nq42', 'nq43', 'nq44', 'nq45', 'nq46', 'nq47', 'nq48', 'nq49', 'nq50', 'nq51', 'nq52', 'nq53', 'nq54', 'nq55', 'nq56', 'nq57', 'nq58', 'nq59', 'nq60', 'nq61', 'nq62', 'nq63', 'nq64', 'nq65', 'nq66', 'nq67', 'nq68', 'nq69', 'nq70', 'nq71', 'nq72', 'nq73', 'nq74', 'nq75', 'nq76', 'nq77', 'nq78', 'nq79', 'nq80', 'nq81', 'nq82', 'nq83', 'nq84', 'nq85', 'nq86', 'nq87', 'nq88', 'nq89', 'nq90', 'nq91', 'nq92', 'nq93', 'nq94', 'nq95', 'nq96', 'nq97', 'nq98', 'nq99', 'nr00', 'nr01', 'nr02', 'nr03', 'nr04', 'nr05', 'nr06', 'nr07', 'nr08', 'nr09', 'nr10', 'nr11', 'nr12', 'nr13', 'nr14', 'nr15', 'nr16', 'nr17', 'nr18', 'nr19', 'nr20', 'nr21', 'nr22', 'nr23', 'nr24', 'nr25', 'nr26', 'nr27', 'nr28', 'nr29', 'nr30', 'nr31', 'nr32', 'nr33', 'nr34', 'nr35', 'nr36', 'nr37', 'nr38', 'nr39', 'nr40', 'nr41', 'nr42', 'nr43', 'nr44', 'nr45', 'nr46', 'nr47', 'nr48', 'nr49', 'nr50', 'nr51', 'nr52', 'nr53', 'nr54', 'nr55', 'nr56', 'nr57', 'nr58', 'nr59', 'nr60', 'nr61', 'nr62', 'nr63', 'nr64', 'nr65', 'nr66', 'nr67', 'nr68', 'nr69', 'nr70', 'nr71', 'nr72', 'nr73', 'nr74', 'nr75', 'nr76', 'nr77', 'nr78', 'nr79', 'nr80', 'nr81', 'nr82', 'nr83', 'nr84', 'nr85', 'nr86', 'nr87', 'nr88', 'nr89', 'nr90', 'nr91', 'nr92', 'nr93', 'nr94', 'nr95', 'nr96', 'nr97', 'nr98', 'nr99', 'ns00', 'ns01', 'ns02', 'ns03', 'ns04', 'ns05', 'ns06', 'ns07', 'ns08', 'ns09', 'ns10', 'ns11', 'ns12', 'ns13', 'ns14', 'ns15', 'ns16', 'ns17', 'ns18', 'ns19', 'ns20', 'ns21', 'ns22', 'ns23', 'ns24', 'ns25', 'ns26', 'ns27', 'ns28', 'ns29', 'ns30', 'ns31', 'ns32', 'ns33', 'ns34', 'ns35', 'ns36', 'ns37', 'ns38', 'ns39', 'ns40', 'ns41', 'ns42', 'ns43', 'ns44', 'ns45', 'ns46', 'ns47', 'ns48', 'ns49', 'ns50', 'ns51', 'ns52', 'ns53', 'ns54', 'ns55', 'ns56', 'ns57', 'ns58', 'ns59', 'ns60', 'ns61', 'ns62', 'ns63', 'ns64', 'ns65', 'ns66', 'ns67', 'ns68', 'ns69', 'ns70', 'ns71', 'ns72', 'ns73', 'ns74', 'ns75', 'ns76', 'ns77', 'ns78', 'ns79', 'ns80', 'ns81', 'ns82', 'ns83', 'ns84', 'ns85', 'ns86', 'ns87', 'ns88', 'ns89', 'ns90', 'ns91', 'ns92', 'ns93', 'ns94', 'ns95', 'ns96', 'ns97', 'ns98', 'ns99', 'nt00', 'nt01', 'nt02', 'nt03', 'nt04', 'nt05', 'nt06', 'nt07', 'nt08', 'nt09', 'nt10', 'nt11', 'nt12', 'nt13', 'nt14', 'nt15', 'nt16', 'nt17', 'nt18', 'nt19', 'nt20', 'nt21', 'nt22', 'nt23', 'nt24', 'nt25', 'nt26', 'nt27', 'nt28', 'nt29', 'nt30', 'nt31', 'nt32', 'nt33', 'nt34', 'nt35', 'nt36', 'nt37', 'nt38', 'nt39', 'nt40', 'nt41', 'nt42', 'nt43', 'nt44', 'nt45', 'nt46', 'nt47', 'nt48', 'nt49', 'nt50', 'nt51', 'nt52', 'nt53', 'nt54', 'nt55', 'nt56', 'nt57', 'nt58', 'nt59', 'nt60', 'nt61', 'nt62', 'nt63', 'nt64', 'nt65', 'nt66', 'nt67', 'nt68', 'nt69', 'nt70', 'nt71', 'nt72', 'nt73', 'nt74', 'nt75', 'nt76', 'nt77', 'nt78', 'nt79', 'nt80', 'nt81', 'nt82', 'nt83', 'nt84', 'nt85', 'nt86', 'nt87', 'nt88', 'nt89', 'nt90', 'nt91', 'nt92', 'nt93', 'nt94', 'nt95', 'nt96', 'nt97', 'nt98', 'nt99', 'nu00', 'nu01', 'nu02', 'nu03', 'nu04', 'nu05', 'nu06', 'nu07', 'nu08', 'nu09', 'nu10', 'nu11', 'nu12', 'nu13', 'nu14', 'nu15', 'nu16', 'nu17', 'nu18', 'nu19', 'nu20', 'nu21', 'nu22', 'nu23', 'nu24', 'nu25', 'nu26', 'nu27', 'nu28', 'nu29', 'nu30', 'nu31', 'nu32', 'nu33', 'nu34', 'nu35', 'nu36', 'nu37', 'nu38', 'nu39', 'nu40', 'nu41', 'nu42', 'nu43', 'nu44', 'nu45', 'nu46', 'nu47', 'nu48', 'nu49', 'nu50', 'nu51', 'nu52', 'nu53', 'nu54', 'nu55', 'nu56', 'nu57', 'nu58', 'nu59', 'nu60', 'nu61', 'nu62', 'nu63', 'nu64', 'nu65', 'nu66', 'nu67', 'nu68', 'nu69', 'nu70', 'nu71', 'nu72', 'nu73', 'nu74', 'nu75', 'nu76', 'nu77', 'nu78', 'nu79', 'nu80', 'nu81', 'nu82', 'nu83', 'nu84', 'nu85', 'nu86', 'nu87', 'nu88', 'nu89', 'nu90', 'nu91', 'nu92', 'nu93', 'nu94', 'nu95', 'nu96', 'nu97', 'nu98', 'nu99', 'nv00', 'nv01', 'nv02', 'nv03', 'nv04', 'nv05', 'nv06', 'nv07', 'nv08', 'nv09', 'nv10', 'nv11', 'nv12', 'nv13', 'nv14', 'nv15', 'nv16', 'nv17', 'nv18', 'nv19', 'nv20', 'nv21', 'nv22', 'nv23', 'nv24', 'nv25', 'nv26', 'nv27', 'nv28', 'nv29', 'nv30', 'nv31', 'nv32', 'nv33', 'nv34', 'nv35', 'nv36', 'nv37', 'nv38', 'nv39', 'nv40', 'nv41', 'nv42', 'nv43', 'nv44', 'nv45', 'nv46', 'nv47', 'nv48', 'nv49', 'nv50', 'nv51', 'nv52', 'nv53', 'nv54', 'nv55', 'nv56', 'nv57', 'nv58', 'nv59', 'nv60', 'nv61', 'nv62', 'nv63', 'nv64', 'nv65', 'nv66', 'nv67', 'nv68', 'nv69', 'nv70', 'nv71', 'nv72', 'nv73', 'nv74', 'nv75', 'nv76', 'nv77', 'nv78', 'nv79', 'nv80', 'nv81', 'nv82', 'nv83', 'nv84', 'nv85', 'nv86', 'nv87', 'nv88', 'nv89', 'nv90', 'nv91', 'nv92', 'nv93', 'nv94', 'nv95', 'nv96', 'nv97', 'nv98', 'nv99', 'nw00', 'nw01', 'nw02', 'nw03', 'nw04', 'nw05', 'nw06', 'nw07', 'nw08', 'nw09', 'nw10', 'nw11', 'nw12', 'nw13', 'nw14', 'nw15', 'nw16', 'nw17', 'nw18', 'nw19', 'nw20', 'nw21', 'nw22', 'nw23', 'nw24', 'nw25', 'nw26', 'nw27', 'nw28', 'nw29', 'nw30', 'nw31', 'nw32', 'nw33', 'nw34', 'nw35', 'nw36', 'nw37', 'nw38', 'nw39', 'nw40', 'nw41', 'nw42', 'nw43', 'nw44', 'nw45', 'nw46', 'nw47', 'nw48', 'nw49', 'nw50', 'nw51', 'nw52', 'nw53', 'nw54', 'nw55', 'nw56', 'nw57', 'nw58', 'nw59', 'nw60', 'nw61', 'nw62', 'nw63', 'nw64', 'nw65', 'nw66', 'nw67', 'nw68', 'nw69', 'nw70', 'nw71', 'nw72', 'nw73', 'nw74', 'nw75', 'nw76', 'nw77', 'nw78', 'nw79', 'nw80', 'nw81', 'nw82', 'nw83', 'nw84', 'nw85', 'nw86', 'nw87', 'nw88', 'nw89', 'nw90', 'nw91', 'nw92', 'nw93', 'nw94', 'nw95', 'nw96', 'nw97', 'nw98', 'nw99', 'nx00', 'nx01', 'nx02', 'nx03', 'nx04', 'nx05', 'nx06', 'nx07', 'nx08', 'nx09', 'nx10', 'nx11', 'nx12', 'nx13', 'nx14', 'nx15', 'nx16', 'nx17', 'nx18', 'nx19', 'nx20', 'nx21', 'nx22', 'nx23', 'nx24', 'nx25', 'nx26', 'nx27', 'nx28', 'nx29', 'nx30', 'nx31', 'nx32', 'nx33', 'nx34', 'nx35', 'nx36', 'nx37', 'nx38', 'nx39', 'nx40', 'nx41', 'nx42', 'nx43', 'nx44', 'nx45', 'nx46', 'nx47', 'nx48', 'nx49', 'nx50', 'nx51', 'nx52', 'nx53', 'nx54', 'nx55', 'nx56', 'nx57', 'nx58', 'nx59', 'nx60', 'nx61', 'nx62', 'nx63', 'nx64', 'nx65', 'nx66', 'nx67', 'nx68', 'nx69', 'nx70', 'nx71', 'nx72', 'nx73', 'nx74', 'nx75', 'nx76', 'nx77', 'nx78', 'nx79', 'nx80', 'nx81', 'nx82', 'nx83', 'nx84', 'nx85', 'nx86', 'nx87', 'nx88', 'nx89', 'nx90', 'nx91', 'nx92', 'nx93', 'nx94', 'nx95', 'nx96', 'nx97', 'nx98', 'nx99', 'ny00', 'ny01', 'ny02', 'ny03', 'ny04', 'ny05', 'ny06', 'ny07', 'ny08', 'ny09', 'ny10', 'ny11', 'ny12', 'ny13', 'ny14', 'ny15', 'ny16', 'ny17', 'ny18', 'ny19', 'ny20', 'ny21', 'ny22', 'ny23', 'ny24', 'ny25', 'ny26', 'ny27', 'ny28', 'ny29', 'ny30', 'ny31', 'ny32', 'ny33', 'ny34', 'ny35', 'ny36', 'ny37', 'ny38', 'ny39', 'ny40', 'ny41', 'ny42', 'ny43', 'ny44', 'ny45', 'ny46', 'ny47', 'ny48', 'ny49', 'ny50', 'ny51', 'ny52', 'ny53', 'ny54', 'ny55', 'ny56', 'ny57', 'ny58', 'ny59', 'ny60', 'ny61', 'ny62', 'ny63', 'ny64', 'ny65', 'ny66', 'ny67', 'ny68', 'ny69', 'ny70', 'ny71', 'ny72', 'ny73', 'ny74', 'ny75', 'ny76', 'ny77', 'ny78', 'ny79', 'ny80', 'ny81', 'ny82', 'ny83', 'ny84', 'ny85', 'ny86', 'ny87', 'ny88', 'ny89', 'ny90', 'ny91', 'ny92', 'ny93', 'ny94', 'ny95', 'ny96', 'ny97', 'ny98', 'ny99', 'nz00', 'nz01', 'nz02', 'nz03', 'nz04', 'nz05', 'nz06', 'nz07', 'nz08', 'nz09', 'nz10', 'nz11', 'nz12', 'nz13', 'nz14', 'nz15', 'nz16', 'nz17', 'nz18', 'nz19', 'nz20', 'nz21', 'nz22', 'nz23', 'nz24', 'nz25', 'nz26', 'nz27', 'nz28', 'nz29', 'nz30', 'nz31', 'nz32', 'nz33', 'nz34', 'nz35', 'nz36', 'nz37', 'nz38', 'nz39', 'nz40', 'nz41', 'nz42', 'nz43', 'nz44', 'nz45', 'nz46', 'nz47', 'nz48', 'nz49', 'nz50', 'nz51', 'nz52', 'nz53', 'nz54', 'nz55', 'nz56', 'nz57', 'nz58', 'nz59', 'nz60', 'nz61', 'nz62', 'nz63', 'nz64', 'nz65', 'nz66', 'nz67', 'nz68', 'nz69', 'nz70', 'nz71', 'nz72', 'nz73', 'nz74', 'nz75', 'nz76', 'nz77', 'nz78', 'nz79', 'nz80', 'nz81', 'nz82', 'nz83', 'nz84', 'nz85', 'nz86', 'nz87', 'nz88', 'nz89', 'nz90', 'nz91', 'nz92', 'nz93', 'nz94', 'nz95', 'nz96', 'nz97', 'nz98', 'nz99', 'oa00', 'oa01', 'oa02', 'oa03', 'oa04', 'oa05', 'oa06', 'oa07', 'oa08', 'oa09', 'oa10', 'oa11', 'oa12', 'oa13', 'oa14', 'oa15', 'oa16', 'oa17', 'oa18', 'oa19', 'oa20', 'oa21', 'oa22', 'oa23', 'oa24', 'oa25', 'oa26', 'oa27', 'oa28', 'oa29', 'oa30', 'oa31', 'oa32', 'oa33', 'oa34', 'oa35', 'oa36', 'oa37', 'oa38', 'oa39', 'oa40', 'oa41', 'oa42', 'oa43', 'oa44', 'oa45', 'oa46', 'oa47', 'oa48', 'oa49', 'oa50', 'oa51', 'oa52', 'oa53', 'oa54', 'oa55', 'oa56', 'oa57', 'oa58', 'oa59', 'oa60', 'oa61', 'oa62', 'oa63', 'oa64', 'oa65', 'oa66', 'oa67', 'oa68', 'oa69', 'oa70', 'oa71', 'oa72', 'oa73', 'oa74', 'oa75', 'oa76', 'oa77', 'oa78', 'oa79', 'oa80', 'oa81', 'oa82', 'oa83', 'oa84', 'oa85', 'oa86', 'oa87', 'oa88', 'oa89', 'oa90', 'oa91', 'oa92', 'oa93', 'oa94', 'oa95', 'oa96', 'oa97', 'oa98', 'oa99', 'ob00', 'ob01', 'ob02', 'ob03', 'ob04', 'ob05', 'ob06', 'ob07', 'ob08', 'ob09', 'ob10', 'ob11', 'ob12', 'ob13', 'ob14', 'ob15', 'ob16', 'ob17', 'ob18', 'ob19', 'ob20', 'ob21', 'ob22', 'ob23', 'ob24', 'ob25', 'ob26', 'ob27', 'ob28', 'ob29', 'ob30', 'ob31', 'ob32', 'ob33', 'ob34', 'ob35', 'ob36', 'ob37', 'ob38', 'ob39', 'ob40', 'ob41', 'ob42', 'ob43', 'ob44', 'ob45', 'ob46', 'ob47', 'ob48', 'ob49', 'ob50', 'ob51', 'ob52', 'ob53', 'ob54', 'ob55', 'ob56', 'ob57', 'ob58', 'ob59', 'ob60', 'ob61', 'ob62', 'ob63', 'ob64', 'ob65', 'ob66', 'ob67', 'ob68', 'ob69', 'ob70', 'ob71', 'ob72', 'ob73', 'ob74', 'ob75', 'ob76', 'ob77', 'ob78', 'ob79', 'ob80', 'ob81', 'ob82', 'ob83', 'ob84', 'ob85', 'ob86', 'ob87', 'ob88', 'ob89', 'ob90', 'ob91', 'ob92', 'ob93', 'ob94', 'ob95', 'ob96', 'ob97', 'ob98', 'ob99', 'oc00', 'oc01', 'oc02', 'oc03', 'oc04', 'oc05', 'oc06', 'oc07', 'oc08', 'oc09', 'oc10', 'oc11', 'oc12', 'oc13', 'oc14', 'oc15', 'oc16', 'oc17', 'oc18', 'oc19', 'oc20', 'oc21', 'oc22', 'oc23', 'oc24', 'oc25', 'oc26', 'oc27', 'oc28', 'oc29', 'oc30', 'oc31', 'oc32', 'oc33', 'oc34', 'oc35', 'oc36', 'oc37', 'oc38', 'oc39', 'oc40', 'oc41', 'oc42', 'oc43', 'oc44', 'oc45', 'oc46', 'oc47', 'oc48', 'oc49', 'oc50', 'oc51', 'oc52', 'oc53', 'oc54', 'oc55', 'oc56', 'oc57', 'oc58', 'oc59', 'oc60', 'oc61', 'oc62', 'oc63', 'oc64', 'oc65', 'oc66', 'oc67', 'oc68', 'oc69', 'oc70', 'oc71', 'oc72', 'oc73', 'oc74', 'oc75', 'oc76', 'oc77', 'oc78', 'oc79', 'oc80', 'oc81', 'oc82', 'oc83', 'oc84', 'oc85', 'oc86', 'oc87', 'oc88', 'oc89', 'oc90', 'oc91', 'oc92', 'oc93', 'oc94', 'oc95', 'oc96', 'oc97', 'oc98', 'oc99', 'od00', 'od01', 'od02', 'od03', 'od04', 'od05', 'od06', 'od07', 'od08', 'od09', 'od10', 'od11', 'od12', 'od13', 'od14', 'od15', 'od16', 'od17', 'od18', 'od19', 'od20', 'od21', 'od22', 'od23', 'od24', 'od25', 'od26', 'od27', 'od28', 'od29', 'od30', 'od31', 'od32', 'od33', 'od34', 'od35', 'od36', 'od37', 'od38', 'od39', 'od40', 'od41', 'od42', 'od43', 'od44', 'od45', 'od46', 'od47', 'od48', 'od49', 'od50', 'od51', 'od52', 'od53', 'od54', 'od55', 'od56', 'od57', 'od58', 'od59', 'od60', 'od61', 'od62', 'od63', 'od64', 'od65', 'od66', 'od67', 'od68', 'od69', 'od70', 'od71', 'od72', 'od73', 'od74', 'od75', 'od76', 'od77', 'od78', 'od79', 'od80', 'od81', 'od82', 'od83', 'od84', 'od85', 'od86', 'od87', 'od88', 'od89', 'od90', 'od91', 'od92', 'od93', 'od94', 'od95', 'od96', 'od97', 'od98', 'od99', 'oe00', 'oe01', 'oe02', 'oe03', 'oe04', 'oe05', 'oe06', 'oe07', 'oe08', 'oe09', 'oe10', 'oe11', 'oe12', 'oe13', 'oe14', 'oe15', 'oe16', 'oe17', 'oe18', 'oe19', 'oe20', 'oe21', 'oe22', 'oe23', 'oe24', 'oe25', 'oe26', 'oe27', 'oe28', 'oe29', 'oe30', 'oe31', 'oe32', 'oe33', 'oe34', 'oe35', 'oe36', 'oe37', 'oe38', 'oe39', 'oe40', 'oe41', 'oe42', 'oe43', 'oe44', 'oe45', 'oe46', 'oe47', 'oe48', 'oe49', 'oe50', 'oe51', 'oe52', 'oe53', 'oe54', 'oe55', 'oe56', 'oe57', 'oe58', 'oe59', 'oe60', 'oe61', 'oe62', 'oe63', 'oe64', 'oe65', 'oe66', 'oe67', 'oe68', 'oe69', 'oe70', 'oe71', 'oe72', 'oe73', 'oe74', 'oe75', 'oe76', 'oe77', 'oe78', 'oe79', 'oe80', 'oe81', 'oe82', 'oe83', 'oe84', 'oe85', 'oe86', 'oe87', 'oe88', 'oe89', 'oe90', 'oe91', 'oe92', 'oe93', 'oe94', 'oe95', 'oe96', 'oe97', 'oe98', 'oe99', 'of00', 'of01', 'of02', 'of03', 'of04', 'of05', 'of06', 'of07', 'of08', 'of09', 'of10', 'of11', 'of12', 'of13', 'of14', 'of15', 'of16', 'of17', 'of18', 'of19', 'of20', 'of21', 'of22', 'of23', 'of24', 'of25', 'of26', 'of27', 'of28', 'of29', 'of30', 'of31', 'of32', 'of33', 'of34', 'of35', 'of36', 'of37', 'of38', 'of39', 'of40', 'of41', 'of42', 'of43', 'of44', 'of45', 'of46', 'of47', 'of48', 'of49', 'of50', 'of51', 'of52', 'of53', 'of54', 'of55', 'of56', 'of57', 'of58', 'of59', 'of60', 'of61', 'of62', 'of63', 'of64', 'of65', 'of66', 'of67', 'of68', 'of69', 'of70', 'of71', 'of72', 'of73', 'of74', 'of75', 'of76', 'of77', 'of78', 'of79', 'of80', 'of81', 'of82', 'of83', 'of84', 'of85', 'of86', 'of87', 'of88', 'of89', 'of90', 'of91', 'of92', 'of93', 'of94', 'of95', 'of96', 'of97', 'of98', 'of99', 'og00', 'og01', 'og02', 'og03', 'og04', 'og05', 'og06', 'og07', 'og08', 'og09', 'og10', 'og11', 'og12', 'og13', 'og14', 'og15', 'og16', 'og17', 'og18', 'og19', 'og20', 'og21', 'og22', 'og23', 'og24', 'og25', 'og26', 'og27', 'og28', 'og29', 'og30', 'og31', 'og32', 'og33', 'og34', 'og35', 'og36', 'og37', 'og38', 'og39', 'og40', 'og41', 'og42', 'og43', 'og44', 'og45', 'og46', 'og47', 'og48', 'og49', 'og50', 'og51', 'og52', 'og53', 'og54', 'og55', 'og56', 'og57', 'og58', 'og59', 'og60', 'og61', 'og62', 'og63', 'og64', 'og65', 'og66', 'og67', 'og68', 'og69', 'og70', 'og71', 'og72', 'og73', 'og74', 'og75', 'og76', 'og77', 'og78', 'og79', 'og80', 'og81', 'og82', 'og83', 'og84', 'og85', 'og86', 'og87', 'og88', 'og89', 'og90', 'og91', 'og92', 'og93', 'og94', 'og95', 'og96', 'og97', 'og98', 'og99', 'oh00', 'oh01', 'oh02', 'oh03', 'oh04', 'oh05', 'oh06', 'oh07', 'oh08', 'oh09', 'oh10', 'oh11', 'oh12', 'oh13', 'oh14', 'oh15', 'oh16', 'oh17', 'oh18', 'oh19', 'oh20', 'oh21', 'oh22', 'oh23', 'oh24', 'oh25', 'oh26', 'oh27', 'oh28', 'oh29', 'oh30', 'oh31', 'oh32', 'oh33', 'oh34', 'oh35', 'oh36', 'oh37', 'oh38', 'oh39', 'oh40', 'oh41', 'oh42', 'oh43', 'oh44', 'oh45', 'oh46', 'oh47', 'oh48', 'oh49', 'oh50', 'oh51', 'oh52', 'oh53', 'oh54', 'oh55', 'oh56', 'oh57', 'oh58', 'oh59', 'oh60', 'oh61', 'oh62', 'oh63', 'oh64', 'oh65', 'oh66', 'oh67', 'oh68', 'oh69', 'oh70', 'oh71', 'oh72', 'oh73', 'oh74', 'oh75', 'oh76', 'oh77', 'oh78', 'oh79', 'oh80', 'oh81', 'oh82', 'oh83', 'oh84', 'oh85', 'oh86', 'oh87', 'oh88', 'oh89', 'oh90', 'oh91', 'oh92', 'oh93', 'oh94', 'oh95', 'oh96', 'oh97', 'oh98', 'oh99', 'oi00', 'oi01', 'oi02', 'oi03', 'oi04', 'oi05', 'oi06', 'oi07', 'oi08', 'oi09', 'oi10', 'oi11', 'oi12', 'oi13', 'oi14', 'oi15', 'oi16', 'oi17', 'oi18', 'oi19', 'oi20', 'oi21', 'oi22', 'oi23', 'oi24', 'oi25', 'oi26', 'oi27', 'oi28', 'oi29', 'oi30', 'oi31', 'oi32', 'oi33', 'oi34', 'oi35', 'oi36', 'oi37', 'oi38', 'oi39', 'oi40', 'oi41', 'oi42', 'oi43', 'oi44', 'oi45', 'oi46', 'oi47', 'oi48', 'oi49', 'oi50', 'oi51', 'oi52', 'oi53', 'oi54', 'oi55', 'oi56', 'oi57', 'oi58', 'oi59', 'oi60', 'oi61', 'oi62', 'oi63', 'oi64', 'oi65', 'oi66', 'oi67', 'oi68', 'oi69', 'oi70', 'oi71', 'oi72', 'oi73', 'oi74', 'oi75', 'oi76', 'oi77', 'oi78', 'oi79', 'oi80', 'oi81', 'oi82', 'oi83', 'oi84', 'oi85', 'oi86', 'oi87', 'oi88', 'oi89', 'oi90', 'oi91', 'oi92', 'oi93', 'oi94', 'oi95', 'oi96', 'oi97', 'oi98', 'oi99', 'oj00', 'oj01', 'oj02', 'oj03', 'oj04', 'oj05', 'oj06', 'oj07', 'oj08', 'oj09', 'oj10', 'oj11', 'oj12', 'oj13', 'oj14', 'oj15', 'oj16', 'oj17', 'oj18', 'oj19', 'oj20', 'oj21', 'oj22', 'oj23', 'oj24', 'oj25', 'oj26', 'oj27', 'oj28', 'oj29', 'oj30', 'oj31', 'oj32', 'oj33', 'oj34', 'oj35', 'oj36', 'oj37', 'oj38', 'oj39', 'oj40', 'oj41', 'oj42', 'oj43', 'oj44', 'oj45', 'oj46', 'oj47', 'oj48', 'oj49', 'oj50', 'oj51', 'oj52', 'oj53', 'oj54', 'oj55', 'oj56', 'oj57', 'oj58', 'oj59', 'oj60', 'oj61', 'oj62', 'oj63', 'oj64', 'oj65', 'oj66', 'oj67', 'oj68', 'oj69', 'oj70', 'oj71', 'oj72', 'oj73', 'oj74', 'oj75', 'oj76', 'oj77', 'oj78', 'oj79', 'oj80', 'oj81', 'oj82', 'oj83', 'oj84', 'oj85', 'oj86', 'oj87', 'oj88', 'oj89', 'oj90', 'oj91', 'oj92', 'oj93', 'oj94', 'oj95', 'oj96', 'oj97', 'oj98', 'oj99', 'ok00', 'ok01', 'ok02', 'ok03', 'ok04', 'ok05', 'ok06', 'ok07', 'ok08', 'ok09', 'ok10', 'ok11', 'ok12', 'ok13', 'ok14', 'ok15', 'ok16', 'ok17', 'ok18', 'ok19', 'ok20', 'ok21', 'ok22', 'ok23', 'ok24', 'ok25', 'ok26', 'ok27', 'ok28', 'ok29', 'ok30', 'ok31', 'ok32', 'ok33', 'ok34', 'ok35', 'ok36', 'ok37', 'ok38', 'ok39', 'ok40', 'ok41', 'ok42', 'ok43', 'ok44', 'ok45', 'ok46', 'ok47', 'ok48', 'ok49', 'ok50', 'ok51', 'ok52', 'ok53', 'ok54', 'ok55', 'ok56', 'ok57', 'ok58', 'ok59', 'ok60', 'ok61', 'ok62', 'ok63', 'ok64', 'ok65', 'ok66', 'ok67', 'ok68', 'ok69', 'ok70', 'ok71', 'ok72', 'ok73', 'ok74', 'ok75', 'ok76', 'ok77', 'ok78', 'ok79', 'ok80', 'ok81', 'ok82', 'ok83', 'ok84', 'ok85', 'ok86', 'ok87', 'ok88', 'ok89', 'ok90', 'ok91', 'ok92', 'ok93', 'ok94', 'ok95', 'ok96', 'ok97', 'ok98', 'ok99', 'ol00', 'ol01', 'ol02', 'ol03', 'ol04', 'ol05', 'ol06', 'ol07', 'ol08', 'ol09', 'ol10', 'ol11', 'ol12', 'ol13', 'ol14', 'ol15', 'ol16', 'ol17', 'ol18', 'ol19', 'ol20', 'ol21', 'ol22', 'ol23', 'ol24', 'ol25', 'ol26', 'ol27', 'ol28', 'ol29', 'ol30', 'ol31', 'ol32', 'ol33', 'ol34', 'ol35', 'ol36', 'ol37', 'ol38', 'ol39', 'ol40', 'ol41', 'ol42', 'ol43', 'ol44', 'ol45', 'ol46', 'ol47', 'ol48', 'ol49', 'ol50', 'ol51', 'ol52', 'ol53', 'ol54', 'ol55', 'ol56', 'ol57', 'ol58', 'ol59', 'ol60', 'ol61', 'ol62', 'ol63', 'ol64', 'ol65', 'ol66', 'ol67', 'ol68', 'ol69', 'ol70', 'ol71', 'ol72', 'ol73', 'ol74', 'ol75', 'ol76', 'ol77', 'ol78', 'ol79', 'ol80', 'ol81', 'ol82', 'ol83', 'ol84', 'ol85', 'ol86', 'ol87', 'ol88', 'ol89', 'ol90', 'ol91', 'ol92', 'ol93', 'ol94', 'ol95', 'ol96', 'ol97', 'ol98', 'ol99', 'om00', 'om01', 'om02', 'om03', 'om04', 'om05', 'om06', 'om07', 'om08', 'om09', 'om10', 'om11', 'om12', 'om13', 'om14', 'om15', 'om16', 'om17', 'om18', 'om19', 'om20', 'om21', 'om22', 'om23', 'om24', 'om25', 'om26', 'om27', 'om28', 'om29', 'om30', 'om31', 'om32', 'om33', 'om34', 'om35', 'om36', 'om37', 'om38', 'om39', 'om40', 'om41', 'om42', 'om43', 'om44', 'om45', 'om46', 'om47', 'om48', 'om49', 'om50', 'om51', 'om52', 'om53', 'om54', 'om55', 'om56', 'om57', 'om58', 'om59', 'om60', 'om61', 'om62', 'om63', 'om64', 'om65', 'om66', 'om67', 'om68', 'om69', 'om70', 'om71', 'om72', 'om73', 'om74', 'om75', 'om76', 'om77', 'om78', 'om79', 'om80', 'om81', 'om82', 'om83', 'om84', 'om85', 'om86', 'om87', 'om88', 'om89', 'om90', 'om91', 'om92', 'om93', 'om94', 'om95', 'om96', 'om97', 'om98', 'om99', 'on00', 'on01', 'on02', 'on03', 'on04', 'on05', 'on06', 'on07', 'on08', 'on09', 'on10', 'on11', 'on12', 'on13', 'on14', 'on15', 'on16', 'on17', 'on18', 'on19', 'on20', 'on21', 'on22', 'on23', 'on24', 'on25', 'on26', 'on27', 'on28', 'on29', 'on30', 'on31', 'on32', 'on33', 'on34', 'on35', 'on36', 'on37', 'on38', 'on39', 'on40', 'on41', 'on42', 'on43', 'on44', 'on45', 'on46', 'on47', 'on48', 'on49', 'on50', 'on51', 'on52', 'on53', 'on54', 'on55', 'on56', 'on57', 'on58', 'on59', 'on60', 'on61', 'on62', 'on63', 'on64', 'on65', 'on66', 'on67', 'on68', 'on69', 'on70', 'on71', 'on72', 'on73', 'on74', 'on75', 'on76', 'on77', 'on78', 'on79', 'on80', 'on81', 'on82', 'on83', 'on84', 'on85', 'on86', 'on87', 'on88', 'on89', 'on90', 'on91', 'on92', 'on93', 'on94', 'on95', 'on96', 'on97', 'on98', 'on99', 'oo00', 'oo01', 'oo02', 'oo03', 'oo04', 'oo05', 'oo06', 'oo07', 'oo08', 'oo09', 'oo10', 'oo11', 'oo12', 'oo13', 'oo14', 'oo15', 'oo16', 'oo17', 'oo18', 'oo19', 'oo20', 'oo21', 'oo22', 'oo23', 'oo24', 'oo25', 'oo26', 'oo27', 'oo28', 'oo29', 'oo30', 'oo31', 'oo32', 'oo33', 'oo34', 'oo35', 'oo36', 'oo37', 'oo38', 'oo39', 'oo40', 'oo41', 'oo42', 'oo43', 'oo44', 'oo45', 'oo46', 'oo47', 'oo48', 'oo49', 'oo50', 'oo51', 'oo52', 'oo53', 'oo54', 'oo55', 'oo56', 'oo57', 'oo58', 'oo59', 'oo60', 'oo61', 'oo62', 'oo63', 'oo64', 'oo65', 'oo66', 'oo67', 'oo68', 'oo69', 'oo70', 'oo71', 'oo72', 'oo73', 'oo74', 'oo75', 'oo76', 'oo77', 'oo78', 'oo79', 'oo80', 'oo81', 'oo82', 'oo83', 'oo84', 'oo85', 'oo86', 'oo87', 'oo88', 'oo89', 'oo90', 'oo91', 'oo92', 'oo93', 'oo94', 'oo95', 'oo96', 'oo97', 'oo98', 'oo99', 'op00', 'op01', 'op02', 'op03', 'op04', 'op05', 'op06', 'op07', 'op08', 'op09', 'op10', 'op11', 'op12', 'op13', 'op14', 'op15', 'op16', 'op17', 'op18', 'op19', 'op20', 'op21', 'op22', 'op23', 'op24', 'op25', 'op26', 'op27', 'op28', 'op29', 'op30', 'op31', 'op32', 'op33', 'op34', 'op35', 'op36', 'op37', 'op38', 'op39', 'op40', 'op41', 'op42', 'op43', 'op44', 'op45', 'op46', 'op47', 'op48', 'op49', 'op50', 'op51', 'op52', 'op53', 'op54', 'op55', 'op56', 'op57', 'op58', 'op59', 'op60', 'op61', 'op62', 'op63', 'op64', 'op65', 'op66', 'op67', 'op68', 'op69', 'op70', 'op71', 'op72', 'op73', 'op74', 'op75', 'op76', 'op77', 'op78', 'op79', 'op80', 'op81', 'op82', 'op83', 'op84', 'op85', 'op86', 'op87', 'op88', 'op89', 'op90', 'op91', 'op92', 'op93', 'op94', 'op95', 'op96', 'op97', 'op98', 'op99', 'oq00', 'oq01', 'oq02', 'oq03', 'oq04', 'oq05', 'oq06', 'oq07', 'oq08', 'oq09', 'oq10', 'oq11', 'oq12', 'oq13', 'oq14', 'oq15', 'oq16', 'oq17', 'oq18', 'oq19', 'oq20', 'oq21', 'oq22', 'oq23', 'oq24', 'oq25', 'oq26', 'oq27', 'oq28', 'oq29', 'oq30', 'oq31', 'oq32', 'oq33', 'oq34', 'oq35', 'oq36', 'oq37', 'oq38', 'oq39', 'oq40', 'oq41', 'oq42', 'oq43', 'oq44', 'oq45', 'oq46', 'oq47', 'oq48', 'oq49', 'oq50', 'oq51', 'oq52', 'oq53', 'oq54', 'oq55', 'oq56', 'oq57', 'oq58', 'oq59', 'oq60', 'oq61', 'oq62', 'oq63', 'oq64', 'oq65', 'oq66', 'oq67', 'oq68', 'oq69', 'oq70', 'oq71', 'oq72', 'oq73', 'oq74', 'oq75', 'oq76', 'oq77', 'oq78', 'oq79', 'oq80', 'oq81', 'oq82', 'oq83', 'oq84', 'oq85', 'oq86', 'oq87', 'oq88', 'oq89', 'oq90', 'oq91', 'oq92', 'oq93', 'oq94', 'oq95', 'oq96', 'oq97', 'oq98', 'oq99', 'or00', 'or01', 'or02', 'or03', 'or04', 'or05', 'or06', 'or07', 'or08', 'or09', 'or10', 'or11', 'or12', 'or13', 'or14', 'or15', 'or16', 'or17', 'or18', 'or19', 'or20', 'or21', 'or22', 'or23', 'or24', 'or25', 'or26', 'or27', 'or28', 'or29', 'or30', 'or31', 'or32', 'or33', 'or34', 'or35', 'or36', 'or37', 'or38', 'or39', 'or40', 'or41', 'or42', 'or43', 'or44', 'or45', 'or46', 'or47', 'or48', 'or49', 'or50', 'or51', 'or52', 'or53', 'or54', 'or55', 'or56', 'or57', 'or58', 'or59', 'or60', 'or61', 'or62', 'or63', 'or64', 'or65', 'or66', 'or67', 'or68', 'or69', 'or70', 'or71', 'or72', 'or73', 'or74', 'or75', 'or76', 'or77', 'or78', 'or79', 'or80', 'or81', 'or82', 'or83', 'or84', 'or85', 'or86', 'or87', 'or88', 'or89', 'or90', 'or91', 'or92', 'or93', 'or94', 'or95', 'or96', 'or97', 'or98', 'or99', 'os00', 'os01', 'os02', 'os03', 'os04', 'os05', 'os06', 'os07', 'os08', 'os09', 'os10', 'os11', 'os12', 'os13', 'os14', 'os15', 'os16', 'os17', 'os18', 'os19', 'os20', 'os21', 'os22', 'os23', 'os24', 'os25', 'os26', 'os27', 'os28', 'os29', 'os30', 'os31', 'os32', 'os33', 'os34', 'os35', 'os36', 'os37', 'os38', 'os39', 'os40', 'os41', 'os42', 'os43', 'os44', 'os45', 'os46', 'os47', 'os48', 'os49', 'os50', 'os51', 'os52', 'os53', 'os54', 'os55', 'os56', 'os57', 'os58', 'os59', 'os60', 'os61', 'os62', 'os63', 'os64', 'os65', 'os66', 'os67', 'os68', 'os69', 'os70', 'os71', 'os72', 'os73', 'os74', 'os75', 'os76', 'os77', 'os78', 'os79', 'os80', 'os81', 'os82', 'os83', 'os84', 'os85', 'os86', 'os87', 'os88', 'os89', 'os90', 'os91', 'os92', 'os93', 'os94', 'os95', 'os96', 'os97', 'os98', 'os99', 'ot00', 'ot01', 'ot02', 'ot03', 'ot04', 'ot05', 'ot06', 'ot07', 'ot08', 'ot09', 'ot10', 'ot11', 'ot12', 'ot13', 'ot14', 'ot15', 'ot16', 'ot17', 'ot18', 'ot19', 'ot20', 'ot21', 'ot22', 'ot23', 'ot24', 'ot25', 'ot26', 'ot27', 'ot28', 'ot29', 'ot30', 'ot31', 'ot32', 'ot33', 'ot34', 'ot35', 'ot36', 'ot37', 'ot38', 'ot39', 'ot40', 'ot41', 'ot42', 'ot43', 'ot44', 'ot45', 'ot46', 'ot47', 'ot48', 'ot49', 'ot50', 'ot51', 'ot52', 'ot53', 'ot54', 'ot55', 'ot56', 'ot57', 'ot58', 'ot59', 'ot60', 'ot61', 'ot62', 'ot63', 'ot64', 'ot65', 'ot66', 'ot67', 'ot68', 'ot69', 'ot70', 'ot71', 'ot72', 'ot73', 'ot74', 'ot75', 'ot76', 'ot77', 'ot78', 'ot79', 'ot80', 'ot81', 'ot82', 'ot83', 'ot84', 'ot85', 'ot86', 'ot87', 'ot88', 'ot89', 'ot90', 'ot91', 'ot92', 'ot93', 'ot94', 'ot95', 'ot96', 'ot97', 'ot98', 'ot99', 'ou00', 'ou01', 'ou02', 'ou03', 'ou04', 'ou05', 'ou06', 'ou07', 'ou08', 'ou09', 'ou10', 'ou11', 'ou12', 'ou13', 'ou14', 'ou15', 'ou16', 'ou17', 'ou18', 'ou19', 'ou20', 'ou21', 'ou22', 'ou23', 'ou24', 'ou25', 'ou26', 'ou27', 'ou28', 'ou29', 'ou30', 'ou31', 'ou32', 'ou33', 'ou34', 'ou35', 'ou36', 'ou37', 'ou38', 'ou39', 'ou40', 'ou41', 'ou42', 'ou43', 'ou44', 'ou45', 'ou46', 'ou47', 'ou48', 'ou49', 'ou50', 'ou51', 'ou52', 'ou53', 'ou54', 'ou55', 'ou56', 'ou57', 'ou58', 'ou59', 'ou60', 'ou61', 'ou62', 'ou63', 'ou64', 'ou65', 'ou66', 'ou67', 'ou68', 'ou69', 'ou70', 'ou71', 'ou72', 'ou73', 'ou74', 'ou75', 'ou76', 'ou77', 'ou78', 'ou79', 'ou80', 'ou81', 'ou82', 'ou83', 'ou84', 'ou85', 'ou86', 'ou87', 'ou88', 'ou89', 'ou90', 'ou91', 'ou92', 'ou93', 'ou94', 'ou95', 'ou96', 'ou97', 'ou98', 'ou99', 'ov00', 'ov01', 'ov02', 'ov03', 'ov04', 'ov05', 'ov06', 'ov07', 'ov08', 'ov09', 'ov10', 'ov11', 'ov12', 'ov13', 'ov14', 'ov15', 'ov16', 'ov17', 'ov18', 'ov19', 'ov20', 'ov21', 'ov22', 'ov23', 'ov24', 'ov25', 'ov26', 'ov27', 'ov28', 'ov29', 'ov30', 'ov31', 'ov32', 'ov33', 'ov34', 'ov35', 'ov36', 'ov37', 'ov38', 'ov39', 'ov40', 'ov41', 'ov42', 'ov43', 'ov44', 'ov45', 'ov46', 'ov47', 'ov48', 'ov49', 'ov50', 'ov51', 'ov52', 'ov53', 'ov54', 'ov55', 'ov56', 'ov57', 'ov58', 'ov59', 'ov60', 'ov61', 'ov62', 'ov63', 'ov64', 'ov65', 'ov66', 'ov67', 'ov68', 'ov69', 'ov70', 'ov71', 'ov72', 'ov73', 'ov74', 'ov75', 'ov76', 'ov77', 'ov78', 'ov79', 'ov80', 'ov81', 'ov82', 'ov83', 'ov84', 'ov85', 'ov86', 'ov87', 'ov88', 'ov89', 'ov90', 'ov91', 'ov92', 'ov93', 'ov94', 'ov95', 'ov96', 'ov97', 'ov98', 'ov99', 'ow00', 'ow01', 'ow02', 'ow03', 'ow04', 'ow05', 'ow06', 'ow07', 'ow08', 'ow09', 'ow10', 'ow11', 'ow12', 'ow13', 'ow14', 'ow15', 'ow16', 'ow17', 'ow18', 'ow19', 'ow20', 'ow21', 'ow22', 'ow23', 'ow24', 'ow25', 'ow26', 'ow27', 'ow28', 'ow29', 'ow30', 'ow31', 'ow32', 'ow33', 'ow34', 'ow35', 'ow36', 'ow37', 'ow38', 'ow39', 'ow40', 'ow41', 'ow42', 'ow43', 'ow44', 'ow45', 'ow46', 'ow47', 'ow48', 'ow49', 'ow50', 'ow51', 'ow52', 'ow53', 'ow54', 'ow55', 'ow56', 'ow57', 'ow58', 'ow59', 'ow60', 'ow61', 'ow62', 'ow63', 'ow64', 'ow65', 'ow66', 'ow67', 'ow68', 'ow69', 'ow70', 'ow71', 'ow72', 'ow73', 'ow74', 'ow75', 'ow76', 'ow77', 'ow78', 'ow79', 'ow80', 'ow81', 'ow82', 'ow83', 'ow84', 'ow85', 'ow86', 'ow87', 'ow88', 'ow89', 'ow90', 'ow91', 'ow92', 'ow93', 'ow94', 'ow95', 'ow96', 'ow97', 'ow98', 'ow99', 'ox00', 'ox01', 'ox02', 'ox03', 'ox04', 'ox05', 'ox06', 'ox07', 'ox08', 'ox09', 'ox10', 'ox11', 'ox12', 'ox13', 'ox14', 'ox15', 'ox16', 'ox17', 'ox18', 'ox19', 'ox20', 'ox21', 'ox22', 'ox23', 'ox24', 'ox25', 'ox26', 'ox27', 'ox28', 'ox29', 'ox30', 'ox31', 'ox32', 'ox33', 'ox34', 'ox35', 'ox36', 'ox37', 'ox38', 'ox39', 'ox40', 'ox41', 'ox42', 'ox43', 'ox44', 'ox45', 'ox46', 'ox47', 'ox48', 'ox49', 'ox50', 'ox51', 'ox52', 'ox53', 'ox54', 'ox55', 'ox56', 'ox57', 'ox58', 'ox59', 'ox60', 'ox61', 'ox62', 'ox63', 'ox64', 'ox65', 'ox66', 'ox67', 'ox68', 'ox69', 'ox70', 'ox71', 'ox72', 'ox73', 'ox74', 'ox75', 'ox76', 'ox77', 'ox78', 'ox79', 'ox80', 'ox81', 'ox82', 'ox83', 'ox84', 'ox85', 'ox86', 'ox87', 'ox88', 'ox89', 'ox90', 'ox91', 'ox92', 'ox93', 'ox94', 'ox95', 'ox96', 'ox97', 'ox98', 'ox99', 'oy00', 'oy01', 'oy02', 'oy03', 'oy04', 'oy05', 'oy06', 'oy07', 'oy08', 'oy09', 'oy10', 'oy11', 'oy12', 'oy13', 'oy14', 'oy15', 'oy16', 'oy17', 'oy18', 'oy19', 'oy20', 'oy21', 'oy22', 'oy23', 'oy24', 'oy25', 'oy26', 'oy27', 'oy28', 'oy29', 'oy30', 'oy31', 'oy32', 'oy33', 'oy34', 'oy35', 'oy36', 'oy37', 'oy38', 'oy39', 'oy40', 'oy41', 'oy42', 'oy43', 'oy44', 'oy45', 'oy46', 'oy47', 'oy48', 'oy49', 'oy50', 'oy51', 'oy52', 'oy53', 'oy54', 'oy55', 'oy56', 'oy57', 'oy58', 'oy59', 'oy60', 'oy61', 'oy62', 'oy63', 'oy64', 'oy65', 'oy66', 'oy67', 'oy68', 'oy69', 'oy70', 'oy71', 'oy72', 'oy73', 'oy74', 'oy75', 'oy76', 'oy77', 'oy78', 'oy79', 'oy80', 'oy81', 'oy82', 'oy83', 'oy84', 'oy85', 'oy86', 'oy87', 'oy88', 'oy89', 'oy90', 'oy91', 'oy92', 'oy93', 'oy94', 'oy95', 'oy96', 'oy97', 'oy98', 'oy99', 'oz00', 'oz01', 'oz02', 'oz03', 'oz04', 'oz05', 'oz06', 'oz07', 'oz08', 'oz09', 'oz10', 'oz11', 'oz12', 'oz13', 'oz14', 'oz15', 'oz16', 'oz17', 'oz18', 'oz19', 'oz20', 'oz21', 'oz22', 'oz23', 'oz24', 'oz25', 'oz26', 'oz27', 'oz28', 'oz29', 'oz30', 'oz31', 'oz32', 'oz33', 'oz34', 'oz35', 'oz36', 'oz37', 'oz38', 'oz39', 'oz40', 'oz41', 'oz42', 'oz43', 'oz44', 'oz45', 'oz46', 'oz47', 'oz48', 'oz49', 'oz50', 'oz51', 'oz52', 'oz53', 'oz54', 'oz55', 'oz56', 'oz57', 'oz58', 'oz59', 'oz60', 'oz61', 'oz62', 'oz63', 'oz64', 'oz65', 'oz66', 'oz67', 'oz68', 'oz69', 'oz70', 'oz71', 'oz72', 'oz73', 'oz74', 'oz75', 'oz76', 'oz77', 'oz78', 'oz79', 'oz80', 'oz81', 'oz82', 'oz83', 'oz84', 'oz85', 'oz86', 'oz87', 'oz88', 'oz89', 'oz90', 'oz91', 'oz92', 'oz93', 'oz94', 'oz95', 'oz96', 'oz97', 'oz98', 'oz99', 'pa00', 'pa01', 'pa02', 'pa03', 'pa04', 'pa05', 'pa06', 'pa07', 'pa08', 'pa09', 'pa10', 'pa11', 'pa12', 'pa13', 'pa14', 'pa15', 'pa16', 'pa17', 'pa18', 'pa19', 'pa20', 'pa21', 'pa22', 'pa23', 'pa24', 'pa25', 'pa26', 'pa27', 'pa28', 'pa29', 'pa30', 'pa31', 'pa32', 'pa33', 'pa34', 'pa35', 'pa36', 'pa37', 'pa38', 'pa39', 'pa40', 'pa41', 'pa42', 'pa43', 'pa44', 'pa45', 'pa46', 'pa47', 'pa48', 'pa49', 'pa50', 'pa51', 'pa52', 'pa53', 'pa54', 'pa55', 'pa56', 'pa57', 'pa58', 'pa59', 'pa60', 'pa61', 'pa62', 'pa63', 'pa64', 'pa65', 'pa66', 'pa67', 'pa68', 'pa69', 'pa70', 'pa71', 'pa72', 'pa73', 'pa74', 'pa75', 'pa76', 'pa77', 'pa78', 'pa79', 'pa80', 'pa81', 'pa82', 'pa83', 'pa84', 'pa85', 'pa86', 'pa87', 'pa88', 'pa89', 'pa90', 'pa91', 'pa92', 'pa93', 'pa94', 'pa95', 'pa96', 'pa97', 'pa98', 'pa99', 'pb00', 'pb01', 'pb02', 'pb03', 'pb04', 'pb05', 'pb06', 'pb07', 'pb08', 'pb09', 'pb10', 'pb11', 'pb12', 'pb13', 'pb14', 'pb15', 'pb16', 'pb17', 'pb18', 'pb19', 'pb20', 'pb21', 'pb22', 'pb23', 'pb24', 'pb25', 'pb26', 'pb27', 'pb28', 'pb29', 'pb30', 'pb31', 'pb32', 'pb33', 'pb34', 'pb35', 'pb36', 'pb37', 'pb38', 'pb39', 'pb40', 'pb41', 'pb42', 'pb43', 'pb44', 'pb45', 'pb46', 'pb47', 'pb48', 'pb49', 'pb50', 'pb51', 'pb52', 'pb53', 'pb54', 'pb55', 'pb56', 'pb57', 'pb58', 'pb59', 'pb60', 'pb61', 'pb62', 'pb63', 'pb64', 'pb65', 'pb66', 'pb67', 'pb68', 'pb69', 'pb70', 'pb71', 'pb72', 'pb73', 'pb74', 'pb75', 'pb76', 'pb77', 'pb78', 'pb79', 'pb80', 'pb81', 'pb82', 'pb83', 'pb84', 'pb85', 'pb86', 'pb87', 'pb88', 'pb89', 'pb90', 'pb91', 'pb92', 'pb93', 'pb94', 'pb95', 'pb96', 'pb97', 'pb98', 'pb99', 'pc00', 'pc01', 'pc02', 'pc03', 'pc04', 'pc05', 'pc06', 'pc07', 'pc08', 'pc09', 'pc10', 'pc11', 'pc12', 'pc13', 'pc14', 'pc15', 'pc16', 'pc17', 'pc18', 'pc19', 'pc20', 'pc21', 'pc22', 'pc23', 'pc24', 'pc25', 'pc26', 'pc27', 'pc28', 'pc29', 'pc30', 'pc31', 'pc32', 'pc33', 'pc34', 'pc35', 'pc36', 'pc37', 'pc38', 'pc39', 'pc40', 'pc41', 'pc42', 'pc43', 'pc44', 'pc45', 'pc46', 'pc47', 'pc48', 'pc49', 'pc50', 'pc51', 'pc52', 'pc53', 'pc54', 'pc55', 'pc56', 'pc57', 'pc58', 'pc59', 'pc60', 'pc61', 'pc62', 'pc63', 'pc64', 'pc65', 'pc66', 'pc67', 'pc68', 'pc69', 'pc70', 'pc71', 'pc72', 'pc73', 'pc74', 'pc75', 'pc76', 'pc77', 'pc78', 'pc79', 'pc80', 'pc81', 'pc82', 'pc83', 'pc84', 'pc85', 'pc86', 'pc87', 'pc88', 'pc89', 'pc90', 'pc91', 'pc92', 'pc93', 'pc94', 'pc95', 'pc96', 'pc97', 'pc98', 'pc99', 'pd00', 'pd01', 'pd02', 'pd03', 'pd04', 'pd05', 'pd06', 'pd07', 'pd08', 'pd09', 'pd10', 'pd11', 'pd12', 'pd13', 'pd14', 'pd15', 'pd16', 'pd17', 'pd18', 'pd19', 'pd20', 'pd21', 'pd22', 'pd23', 'pd24', 'pd25', 'pd26', 'pd27', 'pd28', 'pd29', 'pd30', 'pd31', 'pd32', 'pd33', 'pd34', 'pd35', 'pd36', 'pd37', 'pd38', 'pd39', 'pd40', 'pd41', 'pd42', 'pd43', 'pd44', 'pd45', 'pd46', 'pd47', 'pd48', 'pd49', 'pd50', 'pd51', 'pd52', 'pd53', 'pd54', 'pd55', 'pd56', 'pd57', 'pd58', 'pd59', 'pd60', 'pd61', 'pd62', 'pd63', 'pd64', 'pd65', 'pd66', 'pd67', 'pd68', 'pd69', 'pd70', 'pd71', 'pd72', 'pd73', 'pd74', 'pd75', 'pd76', 'pd77', 'pd78', 'pd79', 'pd80', 'pd81', 'pd82', 'pd83', 'pd84', 'pd85', 'pd86', 'pd87', 'pd88', 'pd89', 'pd90', 'pd91', 'pd92', 'pd93', 'pd94', 'pd95', 'pd96', 'pd97', 'pd98', 'pd99', 'pe00', 'pe01', 'pe02', 'pe03', 'pe04', 'pe05', 'pe06', 'pe07', 'pe08', 'pe09', 'pe10', 'pe11', 'pe12', 'pe13', 'pe14', 'pe15', 'pe16', 'pe17', 'pe18', 'pe19', 'pe20', 'pe21', 'pe22', 'pe23', 'pe24', 'pe25', 'pe26', 'pe27', 'pe28', 'pe29', 'pe30', 'pe31', 'pe32', 'pe33', 'pe34', 'pe35', 'pe36', 'pe37', 'pe38', 'pe39', 'pe40', 'pe41', 'pe42', 'pe43', 'pe44', 'pe45', 'pe46', 'pe47', 'pe48', 'pe49', 'pe50', 'pe51', 'pe52', 'pe53', 'pe54', 'pe55', 'pe56', 'pe57', 'pe58', 'pe59', 'pe60', 'pe61', 'pe62', 'pe63', 'pe64', 'pe65', 'pe66', 'pe67', 'pe68', 'pe69', 'pe70', 'pe71', 'pe72', 'pe73', 'pe74', 'pe75', 'pe76', 'pe77', 'pe78', 'pe79', 'pe80', 'pe81', 'pe82', 'pe83', 'pe84', 'pe85', 'pe86', 'pe87', 'pe88', 'pe89', 'pe90', 'pe91', 'pe92', 'pe93', 'pe94', 'pe95', 'pe96', 'pe97', 'pe98', 'pe99', 'pf00', 'pf01', 'pf02', 'pf03', 'pf04', 'pf05', 'pf06', 'pf07', 'pf08', 'pf09', 'pf10', 'pf11', 'pf12', 'pf13', 'pf14', 'pf15', 'pf16', 'pf17', 'pf18', 'pf19', 'pf20', 'pf21', 'pf22', 'pf23', 'pf24', 'pf25', 'pf26', 'pf27', 'pf28', 'pf29', 'pf30', 'pf31', 'pf32', 'pf33', 'pf34', 'pf35', 'pf36', 'pf37', 'pf38', 'pf39', 'pf40', 'pf41', 'pf42', 'pf43', 'pf44', 'pf45', 'pf46', 'pf47', 'pf48', 'pf49', 'pf50', 'pf51', 'pf52', 'pf53', 'pf54', 'pf55', 'pf56', 'pf57', 'pf58', 'pf59', 'pf60', 'pf61', 'pf62', 'pf63', 'pf64', 'pf65', 'pf66', 'pf67', 'pf68', 'pf69', 'pf70', 'pf71', 'pf72', 'pf73', 'pf74', 'pf75', 'pf76', 'pf77', 'pf78', 'pf79', 'pf80', 'pf81', 'pf82', 'pf83', 'pf84', 'pf85', 'pf86', 'pf87', 'pf88', 'pf89', 'pf90', 'pf91', 'pf92', 'pf93', 'pf94', 'pf95', 'pf96', 'pf97', 'pf98', 'pf99', 'pg00', 'pg01', 'pg02', 'pg03', 'pg04', 'pg05', 'pg06', 'pg07', 'pg08', 'pg09', 'pg10', 'pg11', 'pg12', 'pg13', 'pg14', 'pg15', 'pg16', 'pg17', 'pg18', 'pg19', 'pg20', 'pg21', 'pg22', 'pg23', 'pg24', 'pg25', 'pg26', 'pg27', 'pg28', 'pg29', 'pg30', 'pg31', 'pg32', 'pg33', 'pg34', 'pg35', 'pg36', 'pg37', 'pg38', 'pg39', 'pg40', 'pg41', 'pg42', 'pg43', 'pg44', 'pg45', 'pg46', 'pg47', 'pg48', 'pg49', 'pg50', 'pg51', 'pg52', 'pg53', 'pg54', 'pg55', 'pg56', 'pg57', 'pg58', 'pg59', 'pg60', 'pg61', 'pg62', 'pg63', 'pg64', 'pg65', 'pg66', 'pg67', 'pg68', 'pg69', 'pg70', 'pg71', 'pg72', 'pg73', 'pg74', 'pg75', 'pg76', 'pg77', 'pg78', 'pg79', 'pg80', 'pg81', 'pg82', 'pg83', 'pg84', 'pg85', 'pg86', 'pg87', 'pg88', 'pg89', 'pg90', 'pg91', 'pg92', 'pg93', 'pg94', 'pg95', 'pg96', 'pg97', 'pg98', 'pg99', 'ph00', 'ph01', 'ph02', 'ph03', 'ph04', 'ph05', 'ph06', 'ph07', 'ph08', 'ph09', 'ph10', 'ph11', 'ph12', 'ph13', 'ph14', 'ph15', 'ph16', 'ph17', 'ph18', 'ph19', 'ph20', 'ph21', 'ph22', 'ph23', 'ph24', 'ph25', 'ph26', 'ph27', 'ph28', 'ph29', 'ph30', 'ph31', 'ph32', 'ph33', 'ph34', 'ph35', 'ph36', 'ph37', 'ph38', 'ph39', 'ph40', 'ph41', 'ph42', 'ph43', 'ph44', 'ph45', 'ph46', 'ph47', 'ph48', 'ph49', 'ph50', 'ph51', 'ph52', 'ph53', 'ph54', 'ph55', 'ph56', 'ph57', 'ph58', 'ph59', 'ph60', 'ph61', 'ph62', 'ph63', 'ph64', 'ph65', 'ph66', 'ph67', 'ph68', 'ph69', 'ph70', 'ph71', 'ph72', 'ph73', 'ph74', 'ph75', 'ph76', 'ph77', 'ph78', 'ph79', 'ph80', 'ph81', 'ph82', 'ph83', 'ph84', 'ph85', 'ph86', 'ph87', 'ph88', 'ph89', 'ph90', 'ph91', 'ph92', 'ph93', 'ph94', 'ph95', 'ph96', 'ph97', 'ph98', 'ph99', 'pi00', 'pi01', 'pi02', 'pi03', 'pi04', 'pi05', 'pi06', 'pi07', 'pi08', 'pi09', 'pi10', 'pi11', 'pi12', 'pi13', 'pi14', 'pi15', 'pi16', 'pi17', 'pi18', 'pi19', 'pi20', 'pi21', 'pi22', 'pi23', 'pi24', 'pi25', 'pi26', 'pi27', 'pi28', 'pi29', 'pi30', 'pi31', 'pi32', 'pi33', 'pi34', 'pi35', 'pi36', 'pi37', 'pi38', 'pi39', 'pi40', 'pi41', 'pi42', 'pi43', 'pi44', 'pi45', 'pi46', 'pi47', 'pi48', 'pi49', 'pi50', 'pi51', 'pi52', 'pi53', 'pi54', 'pi55', 'pi56', 'pi57', 'pi58', 'pi59', 'pi60', 'pi61', 'pi62', 'pi63', 'pi64', 'pi65', 'pi66', 'pi67', 'pi68', 'pi69', 'pi70', 'pi71', 'pi72', 'pi73', 'pi74', 'pi75', 'pi76', 'pi77', 'pi78', 'pi79', 'pi80', 'pi81', 'pi82', 'pi83', 'pi84', 'pi85', 'pi86', 'pi87', 'pi88', 'pi89', 'pi90', 'pi91', 'pi92', 'pi93', 'pi94', 'pi95', 'pi96', 'pi97', 'pi98', 'pi99', 'pj00', 'pj01', 'pj02', 'pj03', 'pj04', 'pj05', 'pj06', 'pj07', 'pj08', 'pj09', 'pj10', 'pj11', 'pj12', 'pj13', 'pj14', 'pj15', 'pj16', 'pj17', 'pj18', 'pj19', 'pj20', 'pj21', 'pj22', 'pj23', 'pj24', 'pj25', 'pj26', 'pj27', 'pj28', 'pj29', 'pj30', 'pj31', 'pj32', 'pj33', 'pj34', 'pj35', 'pj36', 'pj37', 'pj38', 'pj39', 'pj40', 'pj41', 'pj42', 'pj43', 'pj44', 'pj45', 'pj46', 'pj47', 'pj48', 'pj49', 'pj50', 'pj51', 'pj52', 'pj53', 'pj54', 'pj55', 'pj56', 'pj57', 'pj58', 'pj59', 'pj60', 'pj61', 'pj62', 'pj63', 'pj64', 'pj65', 'pj66', 'pj67', 'pj68', 'pj69', 'pj70', 'pj71', 'pj72', 'pj73', 'pj74', 'pj75', 'pj76', 'pj77', 'pj78', 'pj79', 'pj80', 'pj81', 'pj82', 'pj83', 'pj84', 'pj85', 'pj86', 'pj87', 'pj88', 'pj89', 'pj90', 'pj91', 'pj92', 'pj93', 'pj94', 'pj95', 'pj96', 'pj97', 'pj98', 'pj99', 'pk00', 'pk01', 'pk02', 'pk03', 'pk04', 'pk05', 'pk06', 'pk07', 'pk08', 'pk09', 'pk10', 'pk11', 'pk12', 'pk13', 'pk14', 'pk15', 'pk16', 'pk17', 'pk18', 'pk19', 'pk20', 'pk21', 'pk22', 'pk23', 'pk24', 'pk25', 'pk26', 'pk27', 'pk28', 'pk29', 'pk30', 'pk31', 'pk32', 'pk33', 'pk34', 'pk35', 'pk36', 'pk37', 'pk38', 'pk39', 'pk40', 'pk41', 'pk42', 'pk43', 'pk44', 'pk45', 'pk46', 'pk47', 'pk48', 'pk49', 'pk50', 'pk51', 'pk52', 'pk53', 'pk54', 'pk55', 'pk56', 'pk57', 'pk58', 'pk59', 'pk60', 'pk61', 'pk62', 'pk63', 'pk64', 'pk65', 'pk66', 'pk67', 'pk68', 'pk69', 'pk70', 'pk71', 'pk72', 'pk73', 'pk74', 'pk75', 'pk76', 'pk77', 'pk78', 'pk79', 'pk80', 'pk81', 'pk82', 'pk83', 'pk84', 'pk85', 'pk86', 'pk87', 'pk88', 'pk89', 'pk90', 'pk91', 'pk92', 'pk93', 'pk94', 'pk95', 'pk96', 'pk97', 'pk98', 'pk99', 'pl00', 'pl01', 'pl02', 'pl03', 'pl04', 'pl05', 'pl06', 'pl07', 'pl08', 'pl09', 'pl10', 'pl11', 'pl12', 'pl13', 'pl14', 'pl15', 'pl16', 'pl17', 'pl18', 'pl19', 'pl20', 'pl21', 'pl22', 'pl23', 'pl24', 'pl25', 'pl26', 'pl27', 'pl28', 'pl29', 'pl30', 'pl31', 'pl32', 'pl33', 'pl34', 'pl35', 'pl36', 'pl37', 'pl38', 'pl39', 'pl40', 'pl41', 'pl42', 'pl43', 'pl44', 'pl45', 'pl46', 'pl47', 'pl48', 'pl49', 'pl50', 'pl51', 'pl52', 'pl53', 'pl54', 'pl55', 'pl56', 'pl57', 'pl58', 'pl59', 'pl60', 'pl61', 'pl62', 'pl63', 'pl64', 'pl65', 'pl66', 'pl67', 'pl68', 'pl69', 'pl70', 'pl71', 'pl72', 'pl73', 'pl74', 'pl75', 'pl76', 'pl77', 'pl78', 'pl79', 'pl80', 'pl81', 'pl82', 'pl83', 'pl84', 'pl85', 'pl86', 'pl87', 'pl88', 'pl89', 'pl90', 'pl91', 'pl92', 'pl93', 'pl94', 'pl95', 'pl96', 'pl97', 'pl98', 'pl99', 'pm00', 'pm01', 'pm02', 'pm03', 'pm04', 'pm05', 'pm06', 'pm07', 'pm08', 'pm09', 'pm10', 'pm11', 'pm12', 'pm13', 'pm14', 'pm15', 'pm16', 'pm17', 'pm18', 'pm19', 'pm20', 'pm21', 'pm22', 'pm23', 'pm24', 'pm25', 'pm26', 'pm27', 'pm28', 'pm29', 'pm30', 'pm31', 'pm32', 'pm33', 'pm34', 'pm35', 'pm36', 'pm37', 'pm38', 'pm39', 'pm40', 'pm41', 'pm42', 'pm43', 'pm44', 'pm45', 'pm46', 'pm47', 'pm48', 'pm49', 'pm50', 'pm51', 'pm52', 'pm53', 'pm54', 'pm55', 'pm56', 'pm57', 'pm58', 'pm59', 'pm60', 'pm61', 'pm62', 'pm63', 'pm64', 'pm65', 'pm66', 'pm67', 'pm68', 'pm69', 'pm70', 'pm71', 'pm72', 'pm73', 'pm74', 'pm75', 'pm76', 'pm77', 'pm78', 'pm79', 'pm80', 'pm81', 'pm82', 'pm83', 'pm84', 'pm85', 'pm86', 'pm87', 'pm88', 'pm89', 'pm90', 'pm91', 'pm92', 'pm93', 'pm94', 'pm95', 'pm96', 'pm97', 'pm98', 'pm99', 'pn00', 'pn01', 'pn02', 'pn03', 'pn04', 'pn05', 'pn06', 'pn07', 'pn08', 'pn09', 'pn10', 'pn11', 'pn12', 'pn13', 'pn14', 'pn15', 'pn16', 'pn17', 'pn18', 'pn19', 'pn20', 'pn21', 'pn22', 'pn23', 'pn24', 'pn25', 'pn26', 'pn27', 'pn28', 'pn29', 'pn30', 'pn31', 'pn32', 'pn33', 'pn34', 'pn35', 'pn36', 'pn37', 'pn38', 'pn39', 'pn40', 'pn41', 'pn42', 'pn43', 'pn44', 'pn45', 'pn46', 'pn47', 'pn48', 'pn49', 'pn50', 'pn51', 'pn52', 'pn53', 'pn54', 'pn55', 'pn56', 'pn57', 'pn58', 'pn59', 'pn60', 'pn61', 'pn62', 'pn63', 'pn64', 'pn65', 'pn66', 'pn67', 'pn68', 'pn69', 'pn70', 'pn71', 'pn72', 'pn73', 'pn74', 'pn75', 'pn76', 'pn77', 'pn78', 'pn79', 'pn80', 'pn81', 'pn82', 'pn83', 'pn84', 'pn85', 'pn86', 'pn87', 'pn88', 'pn89', 'pn90', 'pn91', 'pn92', 'pn93', 'pn94', 'pn95', 'pn96', 'pn97', 'pn98', 'pn99', 'po00', 'po01', 'po02', 'po03', 'po04', 'po05', 'po06', 'po07', 'po08', 'po09', 'po10', 'po11', 'po12', 'po13', 'po14', 'po15', 'po16', 'po17', 'po18', 'po19', 'po20', 'po21', 'po22', 'po23', 'po24', 'po25', 'po26', 'po27', 'po28', 'po29', 'po30', 'po31', 'po32', 'po33', 'po34', 'po35', 'po36', 'po37', 'po38', 'po39', 'po40', 'po41', 'po42', 'po43', 'po44', 'po45', 'po46', 'po47', 'po48', 'po49', 'po50', 'po51', 'po52', 'po53', 'po54', 'po55', 'po56', 'po57', 'po58', 'po59', 'po60', 'po61', 'po62', 'po63', 'po64', 'po65', 'po66', 'po67', 'po68', 'po69', 'po70', 'po71', 'po72', 'po73', 'po74', 'po75', 'po76', 'po77', 'po78', 'po79', 'po80', 'po81', 'po82', 'po83', 'po84', 'po85', 'po86', 'po87', 'po88', 'po89', 'po90', 'po91', 'po92', 'po93', 'po94', 'po95', 'po96', 'po97', 'po98', 'po99', 'pp00', 'pp01', 'pp02', 'pp03', 'pp04', 'pp05', 'pp06', 'pp07', 'pp08', 'pp09', 'pp10', 'pp11', 'pp12', 'pp13', 'pp14', 'pp15', 'pp16', 'pp17', 'pp18', 'pp19', 'pp20', 'pp21', 'pp22', 'pp23', 'pp24', 'pp25', 'pp26', 'pp27', 'pp28', 'pp29', 'pp30', 'pp31', 'pp32', 'pp33', 'pp34', 'pp35', 'pp36', 'pp37', 'pp38', 'pp39', 'pp40', 'pp41', 'pp42', 'pp43', 'pp44', 'pp45', 'pp46', 'pp47', 'pp48', 'pp49', 'pp50', 'pp51', 'pp52', 'pp53', 'pp54', 'pp55', 'pp56', 'pp57', 'pp58', 'pp59', 'pp60', 'pp61', 'pp62', 'pp63', 'pp64', 'pp65', 'pp66', 'pp67', 'pp68', 'pp69', 'pp70', 'pp71', 'pp72', 'pp73', 'pp74', 'pp75', 'pp76', 'pp77', 'pp78', 'pp79', 'pp80', 'pp81', 'pp82', 'pp83', 'pp84', 'pp85', 'pp86', 'pp87', 'pp88', 'pp89', 'pp90', 'pp91', 'pp92', 'pp93', 'pp94', 'pp95', 'pp96', 'pp97', 'pp98', 'pp99', 'pq00', 'pq01', 'pq02', 'pq03', 'pq04', 'pq05', 'pq06', 'pq07', 'pq08', 'pq09', 'pq10', 'pq11', 'pq12', 'pq13', 'pq14', 'pq15', 'pq16', 'pq17', 'pq18', 'pq19', 'pq20', 'pq21', 'pq22', 'pq23', 'pq24', 'pq25', 'pq26', 'pq27', 'pq28', 'pq29', 'pq30', 'pq31', 'pq32', 'pq33', 'pq34', 'pq35', 'pq36', 'pq37', 'pq38', 'pq39', 'pq40', 'pq41', 'pq42', 'pq43', 'pq44', 'pq45', 'pq46', 'pq47', 'pq48', 'pq49', 'pq50', 'pq51', 'pq52', 'pq53', 'pq54', 'pq55', 'pq56', 'pq57', 'pq58', 'pq59', 'pq60', 'pq61', 'pq62', 'pq63', 'pq64', 'pq65', 'pq66', 'pq67', 'pq68', 'pq69', 'pq70', 'pq71', 'pq72', 'pq73', 'pq74', 'pq75', 'pq76', 'pq77', 'pq78', 'pq79', 'pq80', 'pq81', 'pq82', 'pq83', 'pq84', 'pq85', 'pq86', 'pq87', 'pq88', 'pq89', 'pq90', 'pq91', 'pq92', 'pq93', 'pq94', 'pq95', 'pq96', 'pq97', 'pq98', 'pq99', 'pr00', 'pr01', 'pr02', 'pr03', 'pr04', 'pr05', 'pr06', 'pr07', 'pr08', 'pr09', 'pr10', 'pr11', 'pr12', 'pr13', 'pr14', 'pr15', 'pr16', 'pr17', 'pr18', 'pr19', 'pr20', 'pr21', 'pr22', 'pr23', 'pr24', 'pr25', 'pr26', 'pr27', 'pr28', 'pr29', 'pr30', 'pr31', 'pr32', 'pr33', 'pr34', 'pr35', 'pr36', 'pr37', 'pr38', 'pr39', 'pr40', 'pr41', 'pr42', 'pr43', 'pr44', 'pr45', 'pr46', 'pr47', 'pr48', 'pr49', 'pr50', 'pr51', 'pr52', 'pr53', 'pr54', 'pr55', 'pr56', 'pr57', 'pr58', 'pr59', 'pr60', 'pr61', 'pr62', 'pr63', 'pr64', 'pr65', 'pr66', 'pr67', 'pr68', 'pr69', 'pr70', 'pr71', 'pr72', 'pr73', 'pr74', 'pr75', 'pr76', 'pr77', 'pr78', 'pr79', 'pr80', 'pr81', 'pr82', 'pr83', 'pr84', 'pr85', 'pr86', 'pr87', 'pr88', 'pr89', 'pr90', 'pr91', 'pr92', 'pr93', 'pr94', 'pr95', 'pr96', 'pr97', 'pr98', 'pr99', 'ps00', 'ps01', 'ps02', 'ps03', 'ps04', 'ps05', 'ps06', 'ps07', 'ps08', 'ps09', 'ps10', 'ps11', 'ps12', 'ps13', 'ps14', 'ps15', 'ps16', 'ps17', 'ps18', 'ps19', 'ps20', 'ps21', 'ps22', 'ps23', 'ps24', 'ps25', 'ps26', 'ps27', 'ps28', 'ps29', 'ps30', 'ps31', 'ps32', 'ps33', 'ps34', 'ps35', 'ps36', 'ps37', 'ps38', 'ps39', 'ps40', 'ps41', 'ps42', 'ps43', 'ps44', 'ps45', 'ps46', 'ps47', 'ps48', 'ps49', 'ps50', 'ps51', 'ps52', 'ps53', 'ps54', 'ps55', 'ps56', 'ps57', 'ps58', 'ps59', 'ps60', 'ps61', 'ps62', 'ps63', 'ps64', 'ps65', 'ps66', 'ps67', 'ps68', 'ps69', 'ps70', 'ps71', 'ps72', 'ps73', 'ps74', 'ps75', 'ps76', 'ps77', 'ps78', 'ps79', 'ps80', 'ps81', 'ps82', 'ps83', 'ps84', 'ps85', 'ps86', 'ps87', 'ps88', 'ps89', 'ps90', 'ps91', 'ps92', 'ps93', 'ps94', 'ps95', 'ps96', 'ps97', 'ps98', 'ps99', 'pt00', 'pt01', 'pt02', 'pt03', 'pt04', 'pt05', 'pt06', 'pt07', 'pt08', 'pt09', 'pt10', 'pt11', 'pt12', 'pt13', 'pt14', 'pt15', 'pt16', 'pt17', 'pt18', 'pt19', 'pt20', 'pt21', 'pt22', 'pt23', 'pt24', 'pt25', 'pt26', 'pt27', 'pt28', 'pt29', 'pt30', 'pt31', 'pt32', 'pt33', 'pt34', 'pt35', 'pt36', 'pt37', 'pt38', 'pt39', 'pt40', 'pt41', 'pt42', 'pt43', 'pt44', 'pt45', 'pt46', 'pt47', 'pt48', 'pt49', 'pt50', 'pt51', 'pt52', 'pt53', 'pt54', 'pt55', 'pt56', 'pt57', 'pt58', 'pt59', 'pt60', 'pt61', 'pt62', 'pt63', 'pt64', 'pt65', 'pt66', 'pt67', 'pt68', 'pt69', 'pt70', 'pt71', 'pt72', 'pt73', 'pt74', 'pt75', 'pt76', 'pt77', 'pt78', 'pt79', 'pt80', 'pt81', 'pt82', 'pt83', 'pt84', 'pt85', 'pt86', 'pt87', 'pt88', 'pt89', 'pt90', 'pt91', 'pt92', 'pt93', 'pt94', 'pt95', 'pt96', 'pt97', 'pt98', 'pt99', 'pu00', 'pu01', 'pu02', 'pu03', 'pu04', 'pu05', 'pu06', 'pu07', 'pu08', 'pu09', 'pu10', 'pu11', 'pu12', 'pu13', 'pu14', 'pu15', 'pu16', 'pu17', 'pu18', 'pu19', 'pu20', 'pu21', 'pu22', 'pu23', 'pu24', 'pu25', 'pu26', 'pu27', 'pu28', 'pu29', 'pu30', 'pu31', 'pu32', 'pu33', 'pu34', 'pu35', 'pu36', 'pu37', 'pu38', 'pu39', 'pu40', 'pu41', 'pu42', 'pu43', 'pu44', 'pu45', 'pu46', 'pu47', 'pu48', 'pu49', 'pu50', 'pu51', 'pu52', 'pu53', 'pu54', 'pu55', 'pu56', 'pu57', 'pu58', 'pu59', 'pu60', 'pu61', 'pu62', 'pu63', 'pu64', 'pu65', 'pu66', 'pu67', 'pu68', 'pu69', 'pu70', 'pu71', 'pu72', 'pu73', 'pu74', 'pu75', 'pu76', 'pu77', 'pu78', 'pu79', 'pu80', 'pu81', 'pu82', 'pu83', 'pu84', 'pu85', 'pu86', 'pu87', 'pu88', 'pu89', 'pu90', 'pu91', 'pu92', 'pu93', 'pu94', 'pu95', 'pu96', 'pu97', 'pu98', 'pu99', 'pv00', 'pv01', 'pv02', 'pv03', 'pv04', 'pv05', 'pv06', 'pv07', 'pv08', 'pv09', 'pv10', 'pv11', 'pv12', 'pv13', 'pv14', 'pv15', 'pv16', 'pv17', 'pv18', 'pv19', 'pv20', 'pv21', 'pv22', 'pv23', 'pv24', 'pv25', 'pv26', 'pv27', 'pv28', 'pv29', 'pv30', 'pv31', 'pv32', 'pv33', 'pv34', 'pv35', 'pv36', 'pv37', 'pv38', 'pv39', 'pv40', 'pv41', 'pv42', 'pv43', 'pv44', 'pv45', 'pv46', 'pv47', 'pv48', 'pv49', 'pv50', 'pv51', 'pv52', 'pv53', 'pv54', 'pv55', 'pv56', 'pv57', 'pv58', 'pv59', 'pv60', 'pv61', 'pv62', 'pv63', 'pv64', 'pv65', 'pv66', 'pv67', 'pv68', 'pv69', 'pv70', 'pv71', 'pv72', 'pv73', 'pv74', 'pv75', 'pv76', 'pv77', 'pv78', 'pv79', 'pv80', 'pv81', 'pv82', 'pv83', 'pv84', 'pv85', 'pv86', 'pv87', 'pv88', 'pv89', 'pv90', 'pv91', 'pv92', 'pv93', 'pv94', 'pv95', 'pv96', 'pv97', 'pv98', 'pv99', 'pw00', 'pw01', 'pw02', 'pw03', 'pw04', 'pw05', 'pw06', 'pw07', 'pw08', 'pw09', 'pw10', 'pw11', 'pw12', 'pw13', 'pw14', 'pw15', 'pw16', 'pw17', 'pw18', 'pw19', 'pw20', 'pw21', 'pw22', 'pw23', 'pw24', 'pw25', 'pw26', 'pw27', 'pw28', 'pw29', 'pw30', 'pw31', 'pw32', 'pw33', 'pw34', 'pw35', 'pw36', 'pw37', 'pw38', 'pw39', 'pw40', 'pw41', 'pw42', 'pw43', 'pw44', 'pw45', 'pw46', 'pw47', 'pw48', 'pw49', 'pw50', 'pw51', 'pw52', 'pw53', 'pw54', 'pw55', 'pw56', 'pw57', 'pw58', 'pw59', 'pw60', 'pw61', 'pw62', 'pw63', 'pw64', 'pw65', 'pw66', 'pw67', 'pw68', 'pw69', 'pw70', 'pw71', 'pw72', 'pw73', 'pw74', 'pw75', 'pw76', 'pw77', 'pw78', 'pw79', 'pw80', 'pw81', 'pw82', 'pw83', 'pw84', 'pw85', 'pw86', 'pw87', 'pw88', 'pw89', 'pw90', 'pw91', 'pw92', 'pw93', 'pw94', 'pw95', 'pw96', 'pw97', 'pw98', 'pw99', 'px00', 'px01', 'px02', 'px03', 'px04', 'px05', 'px06', 'px07', 'px08', 'px09', 'px10', 'px11', 'px12', 'px13', 'px14', 'px15', 'px16', 'px17', 'px18', 'px19', 'px20', 'px21', 'px22', 'px23', 'px24', 'px25', 'px26', 'px27', 'px28', 'px29', 'px30', 'px31', 'px32', 'px33', 'px34', 'px35', 'px36', 'px37', 'px38', 'px39', 'px40', 'px41', 'px42', 'px43', 'px44', 'px45', 'px46', 'px47', 'px48', 'px49', 'px50', 'px51', 'px52', 'px53', 'px54', 'px55', 'px56', 'px57', 'px58', 'px59', 'px60', 'px61', 'px62', 'px63', 'px64', 'px65', 'px66', 'px67', 'px68', 'px69', 'px70', 'px71', 'px72', 'px73', 'px74', 'px75', 'px76', 'px77', 'px78', 'px79', 'px80', 'px81', 'px82', 'px83', 'px84', 'px85', 'px86', 'px87', 'px88', 'px89', 'px90', 'px91', 'px92', 'px93', 'px94', 'px95', 'px96', 'px97', 'px98', 'px99', 'py00', 'py01', 'py02', 'py03', 'py04', 'py05', 'py06', 'py07', 'py08', 'py09', 'py10', 'py11', 'py12', 'py13', 'py14', 'py15', 'py16', 'py17', 'py18', 'py19', 'py20', 'py21', 'py22', 'py23', 'py24', 'py25', 'py26', 'py27', 'py28', 'py29', 'py30', 'py31', 'py32', 'py33', 'py34', 'py35', 'py36', 'py37', 'py38', 'py39', 'py40', 'py41', 'py42', 'py43', 'py44', 'py45', 'py46', 'py47', 'py48', 'py49', 'py50', 'py51', 'py52', 'py53', 'py54', 'py55', 'py56', 'py57', 'py58', 'py59', 'py60', 'py61', 'py62', 'py63', 'py64', 'py65', 'py66', 'py67', 'py68', 'py69', 'py70', 'py71', 'py72', 'py73', 'py74', 'py75', 'py76', 'py77', 'py78', 'py79', 'py80', 'py81', 'py82', 'py83', 'py84', 'py85', 'py86', 'py87', 'py88', 'py89', 'py90', 'py91', 'py92', 'py93', 'py94', 'py95', 'py96', 'py97', 'py98', 'py99', 'pz00', 'pz01', 'pz02', 'pz03', 'pz04', 'pz05', 'pz06', 'pz07', 'pz08', 'pz09', 'pz10', 'pz11', 'pz12', 'pz13', 'pz14', 'pz15', 'pz16', 'pz17', 'pz18', 'pz19', 'pz20', 'pz21', 'pz22', 'pz23', 'pz24', 'pz25', 'pz26', 'pz27', 'pz28', 'pz29', 'pz30', 'pz31', 'pz32', 'pz33', 'pz34', 'pz35', 'pz36', 'pz37', 'pz38', 'pz39', 'pz40', 'pz41', 'pz42', 'pz43', 'pz44', 'pz45', 'pz46', 'pz47', 'pz48', 'pz49', 'pz50', 'pz51', 'pz52', 'pz53', 'pz54', 'pz55', 'pz56', 'pz57', 'pz58', 'pz59', 'pz60', 'pz61', 'pz62', 'pz63', 'pz64', 'pz65', 'pz66', 'pz67', 'pz68', 'pz69', 'pz70', 'pz71', 'pz72', 'pz73', 'pz74', 'pz75', 'pz76', 'pz77', 'pz78', 'pz79', 'pz80', 'pz81', 'pz82', 'pz83', 'pz84', 'pz85', 'pz86', 'pz87', 'pz88', 'pz89', 'pz90', 'pz91', 'pz92', 'pz93', 'pz94', 'pz95', 'pz96', 'pz97', 'pz98', 'pz99', 'qa00', 'qa01', 'qa02', 'qa03', 'qa04', 'qa05', 'qa06', 'qa07', 'qa08', 'qa09', 'qa10', 'qa11', 'qa12', 'qa13', 'qa14', 'qa15', 'qa16', 'qa17', 'qa18', 'qa19', 'qa20', 'qa21', 'qa22', 'qa23', 'qa24', 'qa25', 'qa26', 'qa27', 'qa28', 'qa29', 'qa30', 'qa31', 'qa32', 'qa33', 'qa34', 'qa35', 'qa36', 'qa37', 'qa38', 'qa39', 'qa40', 'qa41', 'qa42', 'qa43', 'qa44', 'qa45', 'qa46', 'qa47', 'qa48', 'qa49', 'qa50', 'qa51', 'qa52', 'qa53', 'qa54', 'qa55', 'qa56', 'qa57', 'qa58', 'qa59', 'qa60', 'qa61', 'qa62', 'qa63', 'qa64', 'qa65', 'qa66', 'qa67', 'qa68', 'qa69', 'qa70', 'qa71', 'qa72', 'qa73', 'qa74', 'qa75', 'qa76', 'qa77', 'qa78', 'qa79', 'qa80', 'qa81', 'qa82', 'qa83', 'qa84', 'qa85', 'qa86', 'qa87', 'qa88', 'qa89', 'qa90', 'qa91', 'qa92', 'qa93', 'qa94', 'qa95', 'qa96', 'qa97', 'qa98', 'qa99', 'qb00', 'qb01', 'qb02', 'qb03', 'qb04', 'qb05', 'qb06', 'qb07', 'qb08', 'qb09', 'qb10', 'qb11', 'qb12', 'qb13', 'qb14', 'qb15', 'qb16', 'qb17', 'qb18', 'qb19', 'qb20', 'qb21', 'qb22', 'qb23', 'qb24', 'qb25', 'qb26', 'qb27', 'qb28', 'qb29', 'qb30', 'qb31', 'qb32', 'qb33', 'qb34', 'qb35', 'qb36', 'qb37', 'qb38', 'qb39', 'qb40', 'qb41', 'qb42', 'qb43', 'qb44', 'qb45', 'qb46', 'qb47', 'qb48', 'qb49', 'qb50', 'qb51', 'qb52', 'qb53', 'qb54', 'qb55', 'qb56', 'qb57', 'qb58', 'qb59', 'qb60', 'qb61', 'qb62', 'qb63', 'qb64', 'qb65', 'qb66', 'qb67', 'qb68', 'qb69', 'qb70', 'qb71', 'qb72', 'qb73', 'qb74', 'qb75', 'qb76', 'qb77', 'qb78', 'qb79', 'qb80', 'qb81', 'qb82', 'qb83', 'qb84', 'qb85', 'qb86', 'qb87', 'qb88', 'qb89', 'qb90', 'qb91', 'qb92', 'qb93', 'qb94', 'qb95', 'qb96', 'qb97', 'qb98', 'qb99', 'qc00', 'qc01', 'qc02', 'qc03', 'qc04', 'qc05', 'qc06', 'qc07', 'qc08', 'qc09', 'qc10', 'qc11', 'qc12', 'qc13', 'qc14', 'qc15', 'qc16', 'qc17', 'qc18', 'qc19', 'qc20', 'qc21', 'qc22', 'qc23', 'qc24', 'qc25', 'qc26', 'qc27', 'qc28', 'qc29', 'qc30', 'qc31', 'qc32', 'qc33', 'qc34', 'qc35', 'qc36', 'qc37', 'qc38', 'qc39', 'qc40', 'qc41', 'qc42', 'qc43', 'qc44', 'qc45', 'qc46', 'qc47', 'qc48', 'qc49', 'qc50', 'qc51', 'qc52', 'qc53', 'qc54', 'qc55', 'qc56', 'qc57', 'qc58', 'qc59', 'qc60', 'qc61', 'qc62', 'qc63', 'qc64', 'qc65', 'qc66', 'qc67', 'qc68', 'qc69', 'qc70', 'qc71', 'qc72', 'qc73', 'qc74', 'qc75', 'qc76', 'qc77', 'qc78', 'qc79', 'qc80', 'qc81', 'qc82', 'qc83', 'qc84', 'qc85', 'qc86', 'qc87', 'qc88', 'qc89', 'qc90', 'qc91', 'qc92', 'qc93', 'qc94', 'qc95', 'qc96', 'qc97', 'qc98', 'qc99', 'qd00', 'qd01', 'qd02', 'qd03', 'qd04', 'qd05', 'qd06', 'qd07', 'qd08', 'qd09', 'qd10', 'qd11', 'qd12', 'qd13', 'qd14', 'qd15', 'qd16', 'qd17', 'qd18', 'qd19', 'qd20', 'qd21', 'qd22', 'qd23', 'qd24', 'qd25', 'qd26', 'qd27', 'qd28', 'qd29', 'qd30', 'qd31', 'qd32', 'qd33', 'qd34', 'qd35', 'qd36', 'qd37', 'qd38', 'qd39', 'qd40', 'qd41', 'qd42', 'qd43', 'qd44', 'qd45', 'qd46', 'qd47', 'qd48', 'qd49', 'qd50', 'qd51', 'qd52', 'qd53', 'qd54', 'qd55', 'qd56', 'qd57', 'qd58', 'qd59', 'qd60', 'qd61', 'qd62', 'qd63', 'qd64', 'qd65', 'qd66', 'qd67', 'qd68', 'qd69', 'qd70', 'qd71', 'qd72', 'qd73', 'qd74', 'qd75', 'qd76', 'qd77', 'qd78', 'qd79', 'qd80', 'qd81', 'qd82', 'qd83', 'qd84', 'qd85', 'qd86', 'qd87', 'qd88', 'qd89', 'qd90', 'qd91', 'qd92', 'qd93', 'qd94', 'qd95', 'qd96', 'qd97', 'qd98', 'qd99', 'qe00', 'qe01', 'qe02', 'qe03', 'qe04', 'qe05', 'qe06', 'qe07', 'qe08', 'qe09', 'qe10', 'qe11', 'qe12', 'qe13', 'qe14', 'qe15', 'qe16', 'qe17', 'qe18', 'qe19', 'qe20', 'qe21', 'qe22', 'qe23', 'qe24', 'qe25', 'qe26', 'qe27', 'qe28', 'qe29', 'qe30', 'qe31', 'qe32', 'qe33', 'qe34', 'qe35', 'qe36', 'qe37', 'qe38', 'qe39', 'qe40', 'qe41', 'qe42', 'qe43', 'qe44', 'qe45', 'qe46', 'qe47', 'qe48', 'qe49', 'qe50', 'qe51', 'qe52', 'qe53', 'qe54', 'qe55', 'qe56', 'qe57', 'qe58', 'qe59', 'qe60', 'qe61', 'qe62', 'qe63', 'qe64', 'qe65', 'qe66', 'qe67', 'qe68', 'qe69', 'qe70', 'qe71', 'qe72', 'qe73', 'qe74', 'qe75', 'qe76', 'qe77', 'qe78', 'qe79', 'qe80', 'qe81', 'qe82', 'qe83', 'qe84', 'qe85', 'qe86', 'qe87', 'qe88', 'qe89', 'qe90', 'qe91', 'qe92', 'qe93', 'qe94', 'qe95', 'qe96', 'qe97', 'qe98', 'qe99', 'qf00', 'qf01', 'qf02', 'qf03', 'qf04', 'qf05', 'qf06', 'qf07', 'qf08', 'qf09', 'qf10', 'qf11', 'qf12', 'qf13', 'qf14', 'qf15', 'qf16', 'qf17', 'qf18', 'qf19', 'qf20', 'qf21', 'qf22', 'qf23', 'qf24', 'qf25', 'qf26', 'qf27', 'qf28', 'qf29', 'qf30', 'qf31', 'qf32', 'qf33', 'qf34', 'qf35', 'qf36', 'qf37', 'qf38', 'qf39', 'qf40', 'qf41', 'qf42', 'qf43', 'qf44', 'qf45', 'qf46', 'qf47', 'qf48', 'qf49', 'qf50', 'qf51', 'qf52', 'qf53', 'qf54', 'qf55', 'qf56', 'qf57', 'qf58', 'qf59', 'qf60', 'qf61', 'qf62', 'qf63', 'qf64', 'qf65', 'qf66', 'qf67', 'qf68', 'qf69', 'qf70', 'qf71', 'qf72', 'qf73', 'qf74', 'qf75', 'qf76', 'qf77', 'qf78', 'qf79', 'qf80', 'qf81', 'qf82', 'qf83', 'qf84', 'qf85', 'qf86', 'qf87', 'qf88', 'qf89', 'qf90', 'qf91', 'qf92', 'qf93', 'qf94', 'qf95', 'qf96', 'qf97', 'qf98', 'qf99', 'qg00', 'qg01', 'qg02', 'qg03', 'qg04', 'qg05', 'qg06', 'qg07', 'qg08', 'qg09', 'qg10', 'qg11', 'qg12', 'qg13', 'qg14', 'qg15', 'qg16', 'qg17', 'qg18', 'qg19', 'qg20', 'qg21', 'qg22', 'qg23', 'qg24', 'qg25', 'qg26', 'qg27', 'qg28', 'qg29', 'qg30', 'qg31', 'qg32', 'qg33', 'qg34', 'qg35', 'qg36', 'qg37', 'qg38', 'qg39', 'qg40', 'qg41', 'qg42', 'qg43', 'qg44', 'qg45', 'qg46', 'qg47', 'qg48', 'qg49', 'qg50', 'qg51', 'qg52', 'qg53', 'qg54', 'qg55', 'qg56', 'qg57', 'qg58', 'qg59', 'qg60', 'qg61', 'qg62', 'qg63', 'qg64', 'qg65', 'qg66', 'qg67', 'qg68', 'qg69', 'qg70', 'qg71', 'qg72', 'qg73', 'qg74', 'qg75', 'qg76', 'qg77', 'qg78', 'qg79', 'qg80', 'qg81', 'qg82', 'qg83', 'qg84', 'qg85', 'qg86', 'qg87', 'qg88', 'qg89', 'qg90', 'qg91', 'qg92', 'qg93', 'qg94', 'qg95', 'qg96', 'qg97', 'qg98', 'qg99', 'qh00', 'qh01', 'qh02', 'qh03', 'qh04', 'qh05', 'qh06', 'qh07', 'qh08', 'qh09', 'qh10', 'qh11', 'qh12', 'qh13', 'qh14', 'qh15', 'qh16', 'qh17', 'qh18', 'qh19', 'qh20', 'qh21', 'qh22', 'qh23', 'qh24', 'qh25', 'qh26', 'qh27', 'qh28', 'qh29', 'qh30', 'qh31', 'qh32', 'qh33', 'qh34', 'qh35', 'qh36', 'qh37', 'qh38', 'qh39', 'qh40', 'qh41', 'qh42', 'qh43', 'qh44', 'qh45', 'qh46', 'qh47', 'qh48', 'qh49', 'qh50', 'qh51', 'qh52', 'qh53', 'qh54', 'qh55', 'qh56', 'qh57', 'qh58', 'qh59', 'qh60', 'qh61', 'qh62', 'qh63', 'qh64', 'qh65', 'qh66', 'qh67', 'qh68', 'qh69', 'qh70', 'qh71', 'qh72', 'qh73', 'qh74', 'qh75', 'qh76', 'qh77', 'qh78', 'qh79', 'qh80', 'qh81', 'qh82', 'qh83', 'qh84', 'qh85', 'qh86', 'qh87', 'qh88', 'qh89', 'qh90', 'qh91', 'qh92', 'qh93', 'qh94', 'qh95', 'qh96', 'qh97', 'qh98', 'qh99', 'qi00', 'qi01', 'qi02', 'qi03', 'qi04', 'qi05', 'qi06', 'qi07', 'qi08', 'qi09', 'qi10', 'qi11', 'qi12', 'qi13', 'qi14', 'qi15', 'qi16', 'qi17', 'qi18', 'qi19', 'qi20', 'qi21', 'qi22', 'qi23', 'qi24', 'qi25', 'qi26', 'qi27', 'qi28', 'qi29', 'qi30', 'qi31', 'qi32', 'qi33', 'qi34', 'qi35', 'qi36', 'qi37', 'qi38', 'qi39', 'qi40', 'qi41', 'qi42', 'qi43', 'qi44', 'qi45', 'qi46', 'qi47', 'qi48', 'qi49', 'qi50', 'qi51', 'qi52', 'qi53', 'qi54', 'qi55', 'qi56', 'qi57', 'qi58', 'qi59', 'qi60', 'qi61', 'qi62', 'qi63', 'qi64', 'qi65', 'qi66', 'qi67', 'qi68', 'qi69', 'qi70', 'qi71', 'qi72', 'qi73', 'qi74', 'qi75', 'qi76', 'qi77', 'qi78', 'qi79', 'qi80', 'qi81', 'qi82', 'qi83', 'qi84', 'qi85', 'qi86', 'qi87', 'qi88', 'qi89', 'qi90', 'qi91', 'qi92', 'qi93', 'qi94', 'qi95', 'qi96', 'qi97', 'qi98', 'qi99', 'qj00', 'qj01', 'qj02', 'qj03', 'qj04', 'qj05', 'qj06', 'qj07', 'qj08', 'qj09', 'qj10', 'qj11', 'qj12', 'qj13', 'qj14', 'qj15', 'qj16', 'qj17', 'qj18', 'qj19', 'qj20', 'qj21', 'qj22', 'qj23', 'qj24', 'qj25', 'qj26', 'qj27', 'qj28', 'qj29', 'qj30', 'qj31', 'qj32', 'qj33', 'qj34', 'qj35', 'qj36', 'qj37', 'qj38', 'qj39', 'qj40', 'qj41', 'qj42', 'qj43', 'qj44', 'qj45', 'qj46', 'qj47', 'qj48', 'qj49', 'qj50', 'qj51', 'qj52', 'qj53', 'qj54', 'qj55', 'qj56', 'qj57', 'qj58', 'qj59', 'qj60', 'qj61', 'qj62', 'qj63', 'qj64', 'qj65', 'qj66', 'qj67', 'qj68', 'qj69', 'qj70', 'qj71', 'qj72', 'qj73', 'qj74', 'qj75', 'qj76', 'qj77', 'qj78', 'qj79', 'qj80', 'qj81', 'qj82', 'qj83', 'qj84', 'qj85', 'qj86', 'qj87', 'qj88', 'qj89', 'qj90', 'qj91', 'qj92', 'qj93', 'qj94', 'qj95', 'qj96', 'qj97', 'qj98', 'qj99', 'qk00', 'qk01', 'qk02', 'qk03', 'qk04', 'qk05', 'qk06', 'qk07', 'qk08', 'qk09', 'qk10', 'qk11', 'qk12', 'qk13', 'qk14', 'qk15', 'qk16', 'qk17', 'qk18', 'qk19', 'qk20', 'qk21', 'qk22', 'qk23', 'qk24', 'qk25', 'qk26', 'qk27', 'qk28', 'qk29', 'qk30', 'qk31', 'qk32', 'qk33', 'qk34', 'qk35', 'qk36', 'qk37', 'qk38', 'qk39', 'qk40', 'qk41', 'qk42', 'qk43', 'qk44', 'qk45', 'qk46', 'qk47', 'qk48', 'qk49', 'qk50', 'qk51', 'qk52', 'qk53', 'qk54', 'qk55', 'qk56', 'qk57', 'qk58', 'qk59', 'qk60', 'qk61', 'qk62', 'qk63', 'qk64', 'qk65', 'qk66', 'qk67', 'qk68', 'qk69', 'qk70', 'qk71', 'qk72', 'qk73', 'qk74', 'qk75', 'qk76', 'qk77', 'qk78', 'qk79', 'qk80', 'qk81', 'qk82', 'qk83', 'qk84', 'qk85', 'qk86', 'qk87', 'qk88', 'qk89', 'qk90', 'qk91', 'qk92', 'qk93', 'qk94', 'qk95', 'qk96', 'qk97', 'qk98', 'qk99', 'ql00', 'ql01', 'ql02', 'ql03', 'ql04', 'ql05', 'ql06', 'ql07', 'ql08', 'ql09', 'ql10', 'ql11', 'ql12', 'ql13', 'ql14', 'ql15', 'ql16', 'ql17', 'ql18', 'ql19', 'ql20', 'ql21', 'ql22', 'ql23', 'ql24', 'ql25', 'ql26', 'ql27', 'ql28', 'ql29', 'ql30', 'ql31', 'ql32', 'ql33', 'ql34', 'ql35', 'ql36', 'ql37', 'ql38', 'ql39', 'ql40', 'ql41', 'ql42', 'ql43', 'ql44', 'ql45', 'ql46', 'ql47', 'ql48', 'ql49', 'ql50', 'ql51', 'ql52', 'ql53', 'ql54', 'ql55', 'ql56', 'ql57', 'ql58', 'ql59', 'ql60', 'ql61', 'ql62', 'ql63', 'ql64', 'ql65', 'ql66', 'ql67', 'ql68', 'ql69', 'ql70', 'ql71', 'ql72', 'ql73', 'ql74', 'ql75', 'ql76', 'ql77', 'ql78', 'ql79', 'ql80', 'ql81', 'ql82', 'ql83', 'ql84', 'ql85', 'ql86', 'ql87', 'ql88', 'ql89', 'ql90', 'ql91', 'ql92', 'ql93', 'ql94', 'ql95', 'ql96', 'ql97', 'ql98', 'ql99', 'qm00', 'qm01', 'qm02', 'qm03', 'qm04', 'qm05', 'qm06', 'qm07', 'qm08', 'qm09', 'qm10', 'qm11', 'qm12', 'qm13', 'qm14', 'qm15', 'qm16', 'qm17', 'qm18', 'qm19', 'qm20', 'qm21', 'qm22', 'qm23', 'qm24', 'qm25', 'qm26', 'qm27', 'qm28', 'qm29', 'qm30', 'qm31', 'qm32', 'qm33', 'qm34', 'qm35', 'qm36', 'qm37', 'qm38', 'qm39', 'qm40', 'qm41', 'qm42', 'qm43', 'qm44', 'qm45', 'qm46', 'qm47', 'qm48', 'qm49', 'qm50', 'qm51', 'qm52', 'qm53', 'qm54', 'qm55', 'qm56', 'qm57', 'qm58', 'qm59', 'qm60', 'qm61', 'qm62', 'qm63', 'qm64', 'qm65', 'qm66', 'qm67', 'qm68', 'qm69', 'qm70', 'qm71', 'qm72', 'qm73', 'qm74', 'qm75', 'qm76', 'qm77', 'qm78', 'qm79', 'qm80', 'qm81', 'qm82', 'qm83', 'qm84', 'qm85', 'qm86', 'qm87', 'qm88', 'qm89', 'qm90', 'qm91', 'qm92', 'qm93', 'qm94', 'qm95', 'qm96', 'qm97', 'qm98', 'qm99', 'qn00', 'qn01', 'qn02', 'qn03', 'qn04', 'qn05', 'qn06', 'qn07', 'qn08', 'qn09', 'qn10', 'qn11', 'qn12', 'qn13', 'qn14', 'qn15', 'qn16', 'qn17', 'qn18', 'qn19', 'qn20', 'qn21', 'qn22', 'qn23', 'qn24', 'qn25', 'qn26', 'qn27', 'qn28', 'qn29', 'qn30', 'qn31', 'qn32', 'qn33', 'qn34', 'qn35', 'qn36', 'qn37', 'qn38', 'qn39', 'qn40', 'qn41', 'qn42', 'qn43', 'qn44', 'qn45', 'qn46', 'qn47', 'qn48', 'qn49', 'qn50', 'qn51', 'qn52', 'qn53', 'qn54', 'qn55', 'qn56', 'qn57', 'qn58', 'qn59', 'qn60', 'qn61', 'qn62', 'qn63', 'qn64', 'qn65', 'qn66', 'qn67', 'qn68', 'qn69', 'qn70', 'qn71', 'qn72', 'qn73', 'qn74', 'qn75', 'qn76', 'qn77', 'qn78', 'qn79', 'qn80', 'qn81', 'qn82', 'qn83', 'qn84', 'qn85', 'qn86', 'qn87', 'qn88', 'qn89', 'qn90', 'qn91', 'qn92', 'qn93', 'qn94', 'qn95', 'qn96', 'qn97', 'qn98', 'qn99', 'qo00', 'qo01', 'qo02', 'qo03', 'qo04', 'qo05', 'qo06', 'qo07', 'qo08', 'qo09', 'qo10', 'qo11', 'qo12', 'qo13', 'qo14', 'qo15', 'qo16', 'qo17', 'qo18', 'qo19', 'qo20', 'qo21', 'qo22', 'qo23', 'qo24', 'qo25', 'qo26', 'qo27', 'qo28', 'qo29', 'qo30', 'qo31', 'qo32', 'qo33', 'qo34', 'qo35', 'qo36', 'qo37', 'qo38', 'qo39', 'qo40', 'qo41', 'qo42', 'qo43', 'qo44', 'qo45', 'qo46', 'qo47', 'qo48', 'qo49', 'qo50', 'qo51', 'qo52', 'qo53', 'qo54', 'qo55', 'qo56', 'qo57', 'qo58', 'qo59', 'qo60', 'qo61', 'qo62', 'qo63', 'qo64', 'qo65', 'qo66', 'qo67', 'qo68', 'qo69', 'qo70', 'qo71', 'qo72', 'qo73', 'qo74', 'qo75', 'qo76', 'qo77', 'qo78', 'qo79', 'qo80', 'qo81', 'qo82', 'qo83', 'qo84', 'qo85', 'qo86', 'qo87', 'qo88', 'qo89', 'qo90', 'qo91', 'qo92', 'qo93', 'qo94', 'qo95', 'qo96', 'qo97', 'qo98', 'qo99', 'qp00', 'qp01', 'qp02', 'qp03', 'qp04', 'qp05', 'qp06', 'qp07', 'qp08', 'qp09', 'qp10', 'qp11', 'qp12', 'qp13', 'qp14', 'qp15', 'qp16', 'qp17', 'qp18', 'qp19', 'qp20', 'qp21', 'qp22', 'qp23', 'qp24', 'qp25', 'qp26', 'qp27', 'qp28', 'qp29', 'qp30', 'qp31', 'qp32', 'qp33', 'qp34', 'qp35', 'qp36', 'qp37', 'qp38', 'qp39', 'qp40', 'qp41', 'qp42', 'qp43', 'qp44', 'qp45', 'qp46', 'qp47', 'qp48', 'qp49', 'qp50', 'qp51', 'qp52', 'qp53', 'qp54', 'qp55', 'qp56', 'qp57', 'qp58', 'qp59', 'qp60', 'qp61', 'qp62', 'qp63', 'qp64', 'qp65', 'qp66', 'qp67', 'qp68', 'qp69', 'qp70', 'qp71', 'qp72', 'qp73', 'qp74', 'qp75', 'qp76', 'qp77', 'qp78', 'qp79', 'qp80', 'qp81', 'qp82', 'qp83', 'qp84', 'qp85', 'qp86', 'qp87', 'qp88', 'qp89', 'qp90', 'qp91', 'qp92', 'qp93', 'qp94', 'qp95', 'qp96', 'qp97', 'qp98', 'qp99', 'qq00', 'qq01', 'qq02', 'qq03', 'qq04', 'qq05', 'qq06', 'qq07', 'qq08', 'qq09', 'qq10', 'qq11', 'qq12', 'qq13', 'qq14', 'qq15', 'qq16', 'qq17', 'qq18', 'qq19', 'qq20', 'qq21', 'qq22', 'qq23', 'qq24', 'qq25', 'qq26', 'qq27', 'qq28', 'qq29', 'qq30', 'qq31', 'qq32', 'qq33', 'qq34', 'qq35', 'qq36', 'qq37', 'qq38', 'qq39', 'qq40', 'qq41', 'qq42', 'qq43', 'qq44', 'qq45', 'qq46', 'qq47', 'qq48', 'qq49', 'qq50', 'qq51', 'qq52', 'qq53', 'qq54', 'qq55', 'qq56', 'qq57', 'qq58', 'qq59', 'qq60', 'qq61', 'qq62', 'qq63', 'qq64', 'qq65', 'qq66', 'qq67', 'qq68', 'qq69', 'qq70', 'qq71', 'qq72', 'qq73', 'qq74', 'qq75', 'qq76', 'qq77', 'qq78', 'qq79', 'qq80', 'qq81', 'qq82', 'qq83', 'qq84', 'qq85', 'qq86', 'qq87', 'qq88', 'qq89', 'qq90', 'qq91', 'qq92', 'qq93', 'qq94', 'qq95', 'qq96', 'qq97', 'qq98', 'qq99', 'qr00', 'qr01', 'qr02', 'qr03', 'qr04', 'qr05', 'qr06', 'qr07', 'qr08', 'qr09', 'qr10', 'qr11', 'qr12', 'qr13', 'qr14', 'qr15', 'qr16', 'qr17', 'qr18', 'qr19', 'qr20', 'qr21', 'qr22', 'qr23', 'qr24', 'qr25', 'qr26', 'qr27', 'qr28', 'qr29', 'qr30', 'qr31', 'qr32', 'qr33', 'qr34', 'qr35', 'qr36', 'qr37', 'qr38', 'qr39', 'qr40', 'qr41', 'qr42', 'qr43', 'qr44', 'qr45', 'qr46', 'qr47', 'qr48', 'qr49', 'qr50', 'qr51', 'qr52', 'qr53', 'qr54', 'qr55', 'qr56', 'qr57', 'qr58', 'qr59', 'qr60', 'qr61', 'qr62', 'qr63', 'qr64', 'qr65', 'qr66', 'qr67', 'qr68', 'qr69', 'qr70', 'qr71', 'qr72', 'qr73', 'qr74', 'qr75', 'qr76', 'qr77', 'qr78', 'qr79', 'qr80', 'qr81', 'qr82', 'qr83', 'qr84', 'qr85', 'qr86', 'qr87', 'qr88', 'qr89', 'qr90', 'qr91', 'qr92', 'qr93', 'qr94', 'qr95', 'qr96', 'qr97', 'qr98', 'qr99', 'qs00', 'qs01', 'qs02', 'qs03', 'qs04', 'qs05', 'qs06', 'qs07', 'qs08', 'qs09', 'qs10', 'qs11', 'qs12', 'qs13', 'qs14', 'qs15', 'qs16', 'qs17', 'qs18', 'qs19', 'qs20', 'qs21', 'qs22', 'qs23', 'qs24', 'qs25', 'qs26', 'qs27', 'qs28', 'qs29', 'qs30', 'qs31', 'qs32', 'qs33', 'qs34', 'qs35', 'qs36', 'qs37', 'qs38', 'qs39', 'qs40', 'qs41', 'qs42', 'qs43', 'qs44', 'qs45', 'qs46', 'qs47', 'qs48', 'qs49', 'qs50', 'qs51', 'qs52', 'qs53', 'qs54', 'qs55', 'qs56', 'qs57', 'qs58', 'qs59', 'qs60', 'qs61', 'qs62', 'qs63', 'qs64', 'qs65', 'qs66', 'qs67', 'qs68', 'qs69', 'qs70', 'qs71', 'qs72', 'qs73', 'qs74', 'qs75', 'qs76', 'qs77', 'qs78', 'qs79', 'qs80', 'qs81', 'qs82', 'qs83', 'qs84', 'qs85', 'qs86', 'qs87', 'qs88', 'qs89', 'qs90', 'qs91', 'qs92', 'qs93', 'qs94', 'qs95', 'qs96', 'qs97', 'qs98', 'qs99', 'qt00', 'qt01', 'qt02', 'qt03', 'qt04', 'qt05', 'qt06', 'qt07', 'qt08', 'qt09', 'qt10', 'qt11', 'qt12', 'qt13', 'qt14', 'qt15', 'qt16', 'qt17', 'qt18', 'qt19', 'qt20', 'qt21', 'qt22', 'qt23', 'qt24', 'qt25', 'qt26', 'qt27', 'qt28', 'qt29', 'qt30', 'qt31', 'qt32', 'qt33', 'qt34', 'qt35', 'qt36', 'qt37', 'qt38', 'qt39', 'qt40', 'qt41', 'qt42', 'qt43', 'qt44', 'qt45', 'qt46', 'qt47', 'qt48', 'qt49', 'qt50', 'qt51', 'qt52', 'qt53', 'qt54', 'qt55', 'qt56', 'qt57', 'qt58', 'qt59', 'qt60', 'qt61', 'qt62', 'qt63', 'qt64', 'qt65', 'qt66', 'qt67', 'qt68', 'qt69', 'qt70', 'qt71', 'qt72', 'qt73', 'qt74', 'qt75', 'qt76', 'qt77', 'qt78', 'qt79', 'qt80', 'qt81', 'qt82', 'qt83', 'qt84', 'qt85', 'qt86', 'qt87', 'qt88', 'qt89', 'qt90', 'qt91', 'qt92', 'qt93', 'qt94', 'qt95', 'qt96', 'qt97', 'qt98', 'qt99', 'qu00', 'qu01', 'qu02', 'qu03', 'qu04', 'qu05', 'qu06', 'qu07', 'qu08', 'qu09', 'qu10', 'qu11', 'qu12', 'qu13', 'qu14', 'qu15', 'qu16', 'qu17', 'qu18', 'qu19', 'qu20', 'qu21', 'qu22', 'qu23', 'qu24', 'qu25', 'qu26', 'qu27', 'qu28', 'qu29', 'qu30', 'qu31', 'qu32', 'qu33', 'qu34', 'qu35', 'qu36', 'qu37', 'qu38', 'qu39', 'qu40', 'qu41', 'qu42', 'qu43', 'qu44', 'qu45', 'qu46', 'qu47', 'qu48', 'qu49', 'qu50', 'qu51', 'qu52', 'qu53', 'qu54', 'qu55', 'qu56', 'qu57', 'qu58', 'qu59', 'qu60', 'qu61', 'qu62', 'qu63', 'qu64', 'qu65', 'qu66', 'qu67', 'qu68', 'qu69', 'qu70', 'qu71', 'qu72', 'qu73', 'qu74', 'qu75', 'qu76', 'qu77', 'qu78', 'qu79', 'qu80', 'qu81', 'qu82', 'qu83', 'qu84', 'qu85', 'qu86', 'qu87', 'qu88', 'qu89', 'qu90', 'qu91', 'qu92', 'qu93', 'qu94', 'qu95', 'qu96', 'qu97', 'qu98', 'qu99', 'qv00', 'qv01', 'qv02', 'qv03', 'qv04', 'qv05', 'qv06', 'qv07', 'qv08', 'qv09', 'qv10', 'qv11', 'qv12', 'qv13', 'qv14', 'qv15', 'qv16', 'qv17', 'qv18', 'qv19', 'qv20', 'qv21', 'qv22', 'qv23', 'qv24', 'qv25', 'qv26', 'qv27', 'qv28', 'qv29', 'qv30', 'qv31', 'qv32', 'qv33', 'qv34', 'qv35', 'qv36', 'qv37', 'qv38', 'qv39', 'qv40', 'qv41', 'qv42', 'qv43', 'qv44', 'qv45', 'qv46', 'qv47', 'qv48', 'qv49', 'qv50', 'qv51', 'qv52', 'qv53', 'qv54', 'qv55', 'qv56', 'qv57', 'qv58', 'qv59', 'qv60', 'qv61', 'qv62', 'qv63', 'qv64', 'qv65', 'qv66', 'qv67', 'qv68', 'qv69', 'qv70', 'qv71', 'qv72', 'qv73', 'qv74', 'qv75', 'qv76', 'qv77', 'qv78', 'qv79', 'qv80', 'qv81', 'qv82', 'qv83', 'qv84', 'qv85', 'qv86', 'qv87', 'qv88', 'qv89', 'qv90', 'qv91', 'qv92', 'qv93', 'qv94', 'qv95', 'qv96', 'qv97', 'qv98', 'qv99', 'qw00', 'qw01', 'qw02', 'qw03', 'qw04', 'qw05', 'qw06', 'qw07', 'qw08', 'qw09', 'qw10', 'qw11', 'qw12', 'qw13', 'qw14', 'qw15', 'qw16', 'qw17', 'qw18', 'qw19', 'qw20', 'qw21', 'qw22', 'qw23', 'qw24', 'qw25', 'qw26', 'qw27', 'qw28', 'qw29', 'qw30', 'qw31', 'qw32', 'qw33', 'qw34', 'qw35', 'qw36', 'qw37', 'qw38', 'qw39', 'qw40', 'qw41', 'qw42', 'qw43', 'qw44', 'qw45', 'qw46', 'qw47', 'qw48', 'qw49', 'qw50', 'qw51', 'qw52', 'qw53', 'qw54', 'qw55', 'qw56', 'qw57', 'qw58', 'qw59', 'qw60', 'qw61', 'qw62', 'qw63', 'qw64', 'qw65', 'qw66', 'qw67', 'qw68', 'qw69', 'qw70', 'qw71', 'qw72', 'qw73', 'qw74', 'qw75', 'qw76', 'qw77', 'qw78', 'qw79', 'qw80', 'qw81', 'qw82', 'qw83', 'qw84', 'qw85', 'qw86', 'qw87', 'qw88', 'qw89', 'qw90', 'qw91', 'qw92', 'qw93', 'qw94', 'qw95', 'qw96', 'qw97', 'qw98', 'qw99', 'qx00', 'qx01', 'qx02', 'qx03', 'qx04', 'qx05', 'qx06', 'qx07', 'qx08', 'qx09', 'qx10', 'qx11', 'qx12', 'qx13', 'qx14', 'qx15', 'qx16', 'qx17', 'qx18', 'qx19', 'qx20', 'qx21', 'qx22', 'qx23', 'qx24', 'qx25', 'qx26', 'qx27', 'qx28', 'qx29', 'qx30', 'qx31', 'qx32', 'qx33', 'qx34', 'qx35', 'qx36', 'qx37', 'qx38', 'qx39', 'qx40', 'qx41', 'qx42', 'qx43', 'qx44', 'qx45', 'qx46', 'qx47', 'qx48', 'qx49', 'qx50', 'qx51', 'qx52', 'qx53', 'qx54', 'qx55', 'qx56', 'qx57', 'qx58', 'qx59', 'qx60', 'qx61', 'qx62', 'qx63', 'qx64', 'qx65', 'qx66', 'qx67', 'qx68', 'qx69', 'qx70', 'qx71', 'qx72', 'qx73', 'qx74', 'qx75', 'qx76', 'qx77', 'qx78', 'qx79', 'qx80', 'qx81', 'qx82', 'qx83', 'qx84', 'qx85', 'qx86', 'qx87', 'qx88', 'qx89', 'qx90', 'qx91', 'qx92', 'qx93', 'qx94', 'qx95', 'qx96', 'qx97', 'qx98', 'qx99', 'qy00', 'qy01', 'qy02', 'qy03', 'qy04', 'qy05', 'qy06', 'qy07', 'qy08', 'qy09', 'qy10', 'qy11', 'qy12', 'qy13', 'qy14', 'qy15', 'qy16', 'qy17', 'qy18', 'qy19', 'qy20', 'qy21', 'qy22', 'qy23', 'qy24', 'qy25', 'qy26', 'qy27', 'qy28', 'qy29', 'qy30', 'qy31', 'qy32', 'qy33', 'qy34', 'qy35', 'qy36', 'qy37', 'qy38', 'qy39', 'qy40', 'qy41', 'qy42', 'qy43', 'qy44', 'qy45', 'qy46', 'qy47', 'qy48', 'qy49', 'qy50', 'qy51', 'qy52', 'qy53', 'qy54', 'qy55', 'qy56', 'qy57', 'qy58', 'qy59', 'qy60', 'qy61', 'qy62', 'qy63', 'qy64', 'qy65', 'qy66', 'qy67', 'qy68', 'qy69', 'qy70', 'qy71', 'qy72', 'qy73', 'qy74', 'qy75', 'qy76', 'qy77', 'qy78', 'qy79', 'qy80', 'qy81', 'qy82', 'qy83', 'qy84', 'qy85', 'qy86', 'qy87', 'qy88', 'qy89', 'qy90', 'qy91', 'qy92', 'qy93', 'qy94', 'qy95', 'qy96', 'qy97', 'qy98', 'qy99', 'qz00', 'qz01', 'qz02', 'qz03', 'qz04', 'qz05', 'qz06', 'qz07', 'qz08', 'qz09', 'qz10', 'qz11', 'qz12', 'qz13', 'qz14', 'qz15', 'qz16', 'qz17', 'qz18', 'qz19', 'qz20', 'qz21', 'qz22', 'qz23', 'qz24', 'qz25', 'qz26', 'qz27', 'qz28', 'qz29', 'qz30', 'qz31', 'qz32', 'qz33', 'qz34', 'qz35', 'qz36', 'qz37', 'qz38', 'qz39', 'qz40', 'qz41', 'qz42', 'qz43', 'qz44', 'qz45', 'qz46', 'qz47', 'qz48', 'qz49', 'qz50', 'qz51', 'qz52', 'qz53', 'qz54', 'qz55', 'qz56', 'qz57', 'qz58', 'qz59', 'qz60', 'qz61', 'qz62', 'qz63', 'qz64', 'qz65', 'qz66', 'qz67', 'qz68', 'qz69', 'qz70', 'qz71', 'qz72', 'qz73', 'qz74', 'qz75', 'qz76', 'qz77', 'qz78', 'qz79', 'qz80', 'qz81', 'qz82', 'qz83', 'qz84', 'qz85', 'qz86', 'qz87', 'qz88', 'qz89', 'qz90', 'qz91', 'qz92', 'qz93', 'qz94', 'qz95', 'qz96', 'qz97', 'qz98', 'qz99', 'ra00', 'ra01', 'ra02', 'ra03', 'ra04', 'ra05', 'ra06', 'ra07', 'ra08', 'ra09', 'ra10', 'ra11', 'ra12', 'ra13', 'ra14', 'ra15', 'ra16', 'ra17', 'ra18', 'ra19', 'ra20', 'ra21', 'ra22', 'ra23', 'ra24', 'ra25', 'ra26', 'ra27', 'ra28', 'ra29', 'ra30', 'ra31', 'ra32', 'ra33', 'ra34', 'ra35', 'ra36', 'ra37', 'ra38', 'ra39', 'ra40', 'ra41', 'ra42', 'ra43', 'ra44', 'ra45', 'ra46', 'ra47', 'ra48', 'ra49', 'ra50', 'ra51', 'ra52', 'ra53', 'ra54', 'ra55', 'ra56', 'ra57', 'ra58', 'ra59', 'ra60', 'ra61', 'ra62', 'ra63', 'ra64', 'ra65', 'ra66', 'ra67', 'ra68', 'ra69', 'ra70', 'ra71', 'ra72', 'ra73', 'ra74', 'ra75', 'ra76', 'ra77', 'ra78', 'ra79', 'ra80', 'ra81', 'ra82', 'ra83', 'ra84', 'ra85', 'ra86', 'ra87', 'ra88', 'ra89', 'ra90', 'ra91', 'ra92', 'ra93', 'ra94', 'ra95', 'ra96', 'ra97', 'ra98', 'ra99', 'rb00', 'rb01', 'rb02', 'rb03', 'rb04', 'rb05', 'rb06', 'rb07', 'rb08', 'rb09', 'rb10', 'rb11', 'rb12', 'rb13', 'rb14', 'rb15', 'rb16', 'rb17', 'rb18', 'rb19', 'rb20', 'rb21', 'rb22', 'rb23', 'rb24', 'rb25', 'rb26', 'rb27', 'rb28', 'rb29', 'rb30', 'rb31', 'rb32', 'rb33', 'rb34', 'rb35', 'rb36', 'rb37', 'rb38', 'rb39', 'rb40', 'rb41', 'rb42', 'rb43', 'rb44', 'rb45', 'rb46', 'rb47', 'rb48', 'rb49', 'rb50', 'rb51', 'rb52', 'rb53', 'rb54', 'rb55', 'rb56', 'rb57', 'rb58', 'rb59', 'rb60', 'rb61', 'rb62', 'rb63', 'rb64', 'rb65', 'rb66', 'rb67', 'rb68', 'rb69', 'rb70', 'rb71', 'rb72', 'rb73', 'rb74', 'rb75', 'rb76', 'rb77', 'rb78', 'rb79', 'rb80', 'rb81', 'rb82', 'rb83', 'rb84', 'rb85', 'rb86', 'rb87', 'rb88', 'rb89', 'rb90', 'rb91', 'rb92', 'rb93', 'rb94', 'rb95', 'rb96', 'rb97', 'rb98', 'rb99', 'rc00', 'rc01', 'rc02', 'rc03', 'rc04', 'rc05', 'rc06', 'rc07', 'rc08', 'rc09', 'rc10', 'rc11', 'rc12', 'rc13', 'rc14', 'rc15', 'rc16', 'rc17', 'rc18', 'rc19', 'rc20', 'rc21', 'rc22', 'rc23', 'rc24', 'rc25', 'rc26', 'rc27', 'rc28', 'rc29', 'rc30', 'rc31', 'rc32', 'rc33', 'rc34', 'rc35', 'rc36', 'rc37', 'rc38', 'rc39', 'rc40', 'rc41', 'rc42', 'rc43', 'rc44', 'rc45', 'rc46', 'rc47', 'rc48', 'rc49', 'rc50', 'rc51', 'rc52', 'rc53', 'rc54', 'rc55', 'rc56', 'rc57', 'rc58', 'rc59', 'rc60', 'rc61', 'rc62', 'rc63', 'rc64', 'rc65', 'rc66', 'rc67', 'rc68', 'rc69', 'rc70', 'rc71', 'rc72', 'rc73', 'rc74', 'rc75', 'rc76', 'rc77', 'rc78', 'rc79', 'rc80', 'rc81', 'rc82', 'rc83', 'rc84', 'rc85', 'rc86', 'rc87', 'rc88', 'rc89', 'rc90', 'rc91', 'rc92', 'rc93', 'rc94', 'rc95', 'rc96', 'rc97', 'rc98', 'rc99', 'rd00', 'rd01', 'rd02', 'rd03', 'rd04', 'rd05', 'rd06', 'rd07', 'rd08', 'rd09', 'rd10', 'rd11', 'rd12', 'rd13', 'rd14', 'rd15', 'rd16', 'rd17', 'rd18', 'rd19', 'rd20', 'rd21', 'rd22', 'rd23', 'rd24', 'rd25', 'rd26', 'rd27', 'rd28', 'rd29', 'rd30', 'rd31', 'rd32', 'rd33', 'rd34', 'rd35', 'rd36', 'rd37', 'rd38', 'rd39', 'rd40', 'rd41', 'rd42', 'rd43', 'rd44', 'rd45', 'rd46', 'rd47', 'rd48', 'rd49', 'rd50', 'rd51', 'rd52', 'rd53', 'rd54', 'rd55', 'rd56', 'rd57', 'rd58', 'rd59', 'rd60', 'rd61', 'rd62', 'rd63', 'rd64', 'rd65', 'rd66', 'rd67', 'rd68', 'rd69', 'rd70', 'rd71', 'rd72', 'rd73', 'rd74', 'rd75', 'rd76', 'rd77', 'rd78', 'rd79', 'rd80', 'rd81', 'rd82', 'rd83', 'rd84', 'rd85', 'rd86', 'rd87', 'rd88', 'rd89', 'rd90', 'rd91', 'rd92', 'rd93', 'rd94', 'rd95', 'rd96', 'rd97', 'rd98', 'rd99', 're00', 're01', 're02', 're03', 're04', 're05', 're06', 're07', 're08', 're09', 're10', 're11', 're12', 're13', 're14', 're15', 're16', 're17', 're18', 're19', 're20', 're21', 're22', 're23', 're24', 're25', 're26', 're27', 're28', 're29', 're30', 're31', 're32', 're33', 're34', 're35', 're36', 're37', 're38', 're39', 're40', 're41', 're42', 're43', 're44', 're45', 're46', 're47', 're48', 're49', 're50', 're51', 're52', 're53', 're54', 're55', 're56', 're57', 're58', 're59', 're60', 're61', 're62', 're63', 're64', 're65', 're66', 're67', 're68', 're69', 're70', 're71', 're72', 're73', 're74', 're75', 're76', 're77', 're78', 're79', 're80', 're81', 're82', 're83', 're84', 're85', 're86', 're87', 're88', 're89', 're90', 're91', 're92', 're93', 're94', 're95', 're96', 're97', 're98', 're99', 'rf00', 'rf01', 'rf02', 'rf03', 'rf04', 'rf05', 'rf06', 'rf07', 'rf08', 'rf09', 'rf10', 'rf11', 'rf12', 'rf13', 'rf14', 'rf15', 'rf16', 'rf17', 'rf18', 'rf19', 'rf20', 'rf21', 'rf22', 'rf23', 'rf24', 'rf25', 'rf26', 'rf27', 'rf28', 'rf29', 'rf30', 'rf31', 'rf32', 'rf33', 'rf34', 'rf35', 'rf36', 'rf37', 'rf38', 'rf39', 'rf40', 'rf41', 'rf42', 'rf43', 'rf44', 'rf45', 'rf46', 'rf47', 'rf48', 'rf49', 'rf50', 'rf51', 'rf52', 'rf53', 'rf54', 'rf55', 'rf56', 'rf57', 'rf58', 'rf59', 'rf60', 'rf61', 'rf62', 'rf63', 'rf64', 'rf65', 'rf66', 'rf67', 'rf68', 'rf69', 'rf70', 'rf71', 'rf72', 'rf73', 'rf74', 'rf75', 'rf76', 'rf77', 'rf78', 'rf79', 'rf80', 'rf81', 'rf82', 'rf83', 'rf84', 'rf85', 'rf86', 'rf87', 'rf88', 'rf89', 'rf90', 'rf91', 'rf92', 'rf93', 'rf94', 'rf95', 'rf96', 'rf97', 'rf98', 'rf99', 'rg00', 'rg01', 'rg02', 'rg03', 'rg04', 'rg05', 'rg06', 'rg07', 'rg08', 'rg09', 'rg10', 'rg11', 'rg12', 'rg13', 'rg14', 'rg15', 'rg16', 'rg17', 'rg18', 'rg19', 'rg20', 'rg21', 'rg22', 'rg23', 'rg24', 'rg25', 'rg26', 'rg27', 'rg28', 'rg29', 'rg30', 'rg31', 'rg32', 'rg33', 'rg34', 'rg35', 'rg36', 'rg37', 'rg38', 'rg39', 'rg40', 'rg41', 'rg42', 'rg43', 'rg44', 'rg45', 'rg46', 'rg47', 'rg48', 'rg49', 'rg50', 'rg51', 'rg52', 'rg53', 'rg54', 'rg55', 'rg56', 'rg57', 'rg58', 'rg59', 'rg60', 'rg61', 'rg62', 'rg63', 'rg64', 'rg65', 'rg66', 'rg67', 'rg68', 'rg69', 'rg70', 'rg71', 'rg72', 'rg73', 'rg74', 'rg75', 'rg76', 'rg77', 'rg78', 'rg79', 'rg80', 'rg81', 'rg82', 'rg83', 'rg84', 'rg85', 'rg86', 'rg87', 'rg88', 'rg89', 'rg90', 'rg91', 'rg92', 'rg93', 'rg94', 'rg95', 'rg96', 'rg97', 'rg98', 'rg99', 'rh00', 'rh01', 'rh02', 'rh03', 'rh04', 'rh05', 'rh06', 'rh07', 'rh08', 'rh09', 'rh10', 'rh11', 'rh12', 'rh13', 'rh14', 'rh15', 'rh16', 'rh17', 'rh18', 'rh19', 'rh20', 'rh21', 'rh22', 'rh23', 'rh24', 'rh25', 'rh26', 'rh27', 'rh28', 'rh29', 'rh30', 'rh31', 'rh32', 'rh33', 'rh34', 'rh35', 'rh36', 'rh37', 'rh38', 'rh39', 'rh40', 'rh41', 'rh42', 'rh43', 'rh44', 'rh45', 'rh46', 'rh47', 'rh48', 'rh49', 'rh50', 'rh51', 'rh52', 'rh53', 'rh54', 'rh55', 'rh56', 'rh57', 'rh58', 'rh59', 'rh60', 'rh61', 'rh62', 'rh63', 'rh64', 'rh65', 'rh66', 'rh67', 'rh68', 'rh69', 'rh70', 'rh71', 'rh72', 'rh73', 'rh74', 'rh75', 'rh76', 'rh77', 'rh78', 'rh79', 'rh80', 'rh81', 'rh82', 'rh83', 'rh84', 'rh85', 'rh86', 'rh87', 'rh88', 'rh89', 'rh90', 'rh91', 'rh92', 'rh93', 'rh94', 'rh95', 'rh96', 'rh97', 'rh98', 'rh99', 'ri00', 'ri01', 'ri02', 'ri03', 'ri04', 'ri05', 'ri06', 'ri07', 'ri08', 'ri09', 'ri10', 'ri11', 'ri12', 'ri13', 'ri14', 'ri15', 'ri16', 'ri17', 'ri18', 'ri19', 'ri20', 'ri21', 'ri22', 'ri23', 'ri24', 'ri25', 'ri26', 'ri27', 'ri28', 'ri29', 'ri30', 'ri31', 'ri32', 'ri33', 'ri34', 'ri35', 'ri36', 'ri37', 'ri38', 'ri39', 'ri40', 'ri41', 'ri42', 'ri43', 'ri44', 'ri45', 'ri46', 'ri47', 'ri48', 'ri49', 'ri50', 'ri51', 'ri52', 'ri53', 'ri54', 'ri55', 'ri56', 'ri57', 'ri58', 'ri59', 'ri60', 'ri61', 'ri62', 'ri63', 'ri64', 'ri65', 'ri66', 'ri67', 'ri68', 'ri69', 'ri70', 'ri71', 'ri72', 'ri73', 'ri74', 'ri75', 'ri76', 'ri77', 'ri78', 'ri79', 'ri80', 'ri81', 'ri82', 'ri83', 'ri84', 'ri85', 'ri86', 'ri87', 'ri88', 'ri89', 'ri90', 'ri91', 'ri92', 'ri93', 'ri94', 'ri95', 'ri96', 'ri97', 'ri98', 'ri99', 'rj00', 'rj01', 'rj02', 'rj03', 'rj04', 'rj05', 'rj06', 'rj07', 'rj08', 'rj09', 'rj10', 'rj11', 'rj12', 'rj13', 'rj14', 'rj15', 'rj16', 'rj17', 'rj18', 'rj19', 'rj20', 'rj21', 'rj22', 'rj23', 'rj24', 'rj25', 'rj26', 'rj27', 'rj28', 'rj29', 'rj30', 'rj31', 'rj32', 'rj33', 'rj34', 'rj35', 'rj36', 'rj37', 'rj38', 'rj39', 'rj40', 'rj41', 'rj42', 'rj43', 'rj44', 'rj45', 'rj46', 'rj47', 'rj48', 'rj49', 'rj50', 'rj51', 'rj52', 'rj53', 'rj54', 'rj55', 'rj56', 'rj57', 'rj58', 'rj59', 'rj60', 'rj61', 'rj62', 'rj63', 'rj64', 'rj65', 'rj66', 'rj67', 'rj68', 'rj69', 'rj70', 'rj71', 'rj72', 'rj73', 'rj74', 'rj75', 'rj76', 'rj77', 'rj78', 'rj79', 'rj80', 'rj81', 'rj82', 'rj83', 'rj84', 'rj85', 'rj86', 'rj87', 'rj88', 'rj89', 'rj90', 'rj91', 'rj92', 'rj93', 'rj94', 'rj95', 'rj96', 'rj97', 'rj98', 'rj99', 'rk00', 'rk01', 'rk02', 'rk03', 'rk04', 'rk05', 'rk06', 'rk07', 'rk08', 'rk09', 'rk10', 'rk11', 'rk12', 'rk13', 'rk14', 'rk15', 'rk16', 'rk17', 'rk18', 'rk19', 'rk20', 'rk21', 'rk22', 'rk23', 'rk24', 'rk25', 'rk26', 'rk27', 'rk28', 'rk29', 'rk30', 'rk31', 'rk32', 'rk33', 'rk34', 'rk35', 'rk36', 'rk37', 'rk38', 'rk39', 'rk40', 'rk41', 'rk42', 'rk43', 'rk44', 'rk45', 'rk46', 'rk47', 'rk48', 'rk49', 'rk50', 'rk51', 'rk52', 'rk53', 'rk54', 'rk55', 'rk56', 'rk57', 'rk58', 'rk59', 'rk60', 'rk61', 'rk62', 'rk63', 'rk64', 'rk65', 'rk66', 'rk67', 'rk68', 'rk69', 'rk70', 'rk71', 'rk72', 'rk73', 'rk74', 'rk75', 'rk76', 'rk77', 'rk78', 'rk79', 'rk80', 'rk81', 'rk82', 'rk83', 'rk84', 'rk85', 'rk86', 'rk87', 'rk88', 'rk89', 'rk90', 'rk91', 'rk92', 'rk93', 'rk94', 'rk95', 'rk96', 'rk97', 'rk98', 'rk99', 'rl00', 'rl01', 'rl02', 'rl03', 'rl04', 'rl05', 'rl06', 'rl07', 'rl08', 'rl09', 'rl10', 'rl11', 'rl12', 'rl13', 'rl14', 'rl15', 'rl16', 'rl17', 'rl18', 'rl19', 'rl20', 'rl21', 'rl22', 'rl23', 'rl24', 'rl25', 'rl26', 'rl27', 'rl28', 'rl29', 'rl30', 'rl31', 'rl32', 'rl33', 'rl34', 'rl35', 'rl36', 'rl37', 'rl38', 'rl39', 'rl40', 'rl41', 'rl42', 'rl43', 'rl44', 'rl45', 'rl46', 'rl47', 'rl48', 'rl49', 'rl50', 'rl51', 'rl52', 'rl53', 'rl54', 'rl55', 'rl56', 'rl57', 'rl58', 'rl59', 'rl60', 'rl61', 'rl62', 'rl63', 'rl64', 'rl65', 'rl66', 'rl67', 'rl68', 'rl69', 'rl70', 'rl71', 'rl72', 'rl73', 'rl74', 'rl75', 'rl76', 'rl77', 'rl78', 'rl79', 'rl80', 'rl81', 'rl82', 'rl83', 'rl84', 'rl85', 'rl86', 'rl87', 'rl88', 'rl89', 'rl90', 'rl91', 'rl92', 'rl93', 'rl94', 'rl95', 'rl96', 'rl97', 'rl98', 'rl99', 'rm00', 'rm01', 'rm02', 'rm03', 'rm04', 'rm05', 'rm06', 'rm07', 'rm08', 'rm09', 'rm10', 'rm11', 'rm12', 'rm13', 'rm14', 'rm15', 'rm16', 'rm17', 'rm18', 'rm19', 'rm20', 'rm21', 'rm22', 'rm23', 'rm24', 'rm25', 'rm26', 'rm27', 'rm28', 'rm29', 'rm30', 'rm31', 'rm32', 'rm33', 'rm34', 'rm35', 'rm36', 'rm37', 'rm38', 'rm39', 'rm40', 'rm41', 'rm42', 'rm43', 'rm44', 'rm45', 'rm46', 'rm47', 'rm48', 'rm49', 'rm50', 'rm51', 'rm52', 'rm53', 'rm54', 'rm55', 'rm56', 'rm57', 'rm58', 'rm59', 'rm60', 'rm61', 'rm62', 'rm63', 'rm64', 'rm65', 'rm66', 'rm67', 'rm68', 'rm69', 'rm70', 'rm71', 'rm72', 'rm73', 'rm74', 'rm75', 'rm76', 'rm77', 'rm78', 'rm79', 'rm80', 'rm81', 'rm82', 'rm83', 'rm84', 'rm85', 'rm86', 'rm87', 'rm88', 'rm89', 'rm90', 'rm91', 'rm92', 'rm93', 'rm94', 'rm95', 'rm96', 'rm97', 'rm98', 'rm99', 'rn00', 'rn01', 'rn02', 'rn03', 'rn04', 'rn05', 'rn06', 'rn07', 'rn08', 'rn09', 'rn10', 'rn11', 'rn12', 'rn13', 'rn14', 'rn15', 'rn16', 'rn17', 'rn18', 'rn19', 'rn20', 'rn21', 'rn22', 'rn23', 'rn24', 'rn25', 'rn26', 'rn27', 'rn28', 'rn29', 'rn30', 'rn31', 'rn32', 'rn33', 'rn34', 'rn35', 'rn36', 'rn37', 'rn38', 'rn39', 'rn40', 'rn41', 'rn42', 'rn43', 'rn44', 'rn45', 'rn46', 'rn47', 'rn48', 'rn49', 'rn50', 'rn51', 'rn52', 'rn53', 'rn54', 'rn55', 'rn56', 'rn57', 'rn58', 'rn59', 'rn60', 'rn61', 'rn62', 'rn63', 'rn64', 'rn65', 'rn66', 'rn67', 'rn68', 'rn69', 'rn70', 'rn71', 'rn72', 'rn73', 'rn74', 'rn75', 'rn76', 'rn77', 'rn78', 'rn79', 'rn80', 'rn81', 'rn82', 'rn83', 'rn84', 'rn85', 'rn86', 'rn87', 'rn88', 'rn89', 'rn90', 'rn91', 'rn92', 'rn93', 'rn94', 'rn95', 'rn96', 'rn97', 'rn98', 'rn99', 'ro00', 'ro01', 'ro02', 'ro03', 'ro04', 'ro05', 'ro06', 'ro07', 'ro08', 'ro09', 'ro10', 'ro11', 'ro12', 'ro13', 'ro14', 'ro15', 'ro16', 'ro17', 'ro18', 'ro19', 'ro20', 'ro21', 'ro22', 'ro23', 'ro24', 'ro25', 'ro26', 'ro27', 'ro28', 'ro29', 'ro30', 'ro31', 'ro32', 'ro33', 'ro34', 'ro35', 'ro36', 'ro37', 'ro38', 'ro39', 'ro40', 'ro41', 'ro42', 'ro43', 'ro44', 'ro45', 'ro46', 'ro47', 'ro48', 'ro49', 'ro50', 'ro51', 'ro52', 'ro53', 'ro54', 'ro55', 'ro56', 'ro57', 'ro58', 'ro59', 'ro60', 'ro61', 'ro62', 'ro63', 'ro64', 'ro65', 'ro66', 'ro67', 'ro68', 'ro69', 'ro70', 'ro71', 'ro72', 'ro73', 'ro74', 'ro75', 'ro76', 'ro77', 'ro78', 'ro79', 'ro80', 'ro81', 'ro82', 'ro83', 'ro84', 'ro85', 'ro86', 'ro87', 'ro88', 'ro89', 'ro90', 'ro91', 'ro92', 'ro93', 'ro94', 'ro95', 'ro96', 'ro97', 'ro98', 'ro99', 'rp00', 'rp01', 'rp02', 'rp03', 'rp04', 'rp05', 'rp06', 'rp07', 'rp08', 'rp09', 'rp10', 'rp11', 'rp12', 'rp13', 'rp14', 'rp15', 'rp16', 'rp17', 'rp18', 'rp19', 'rp20', 'rp21', 'rp22', 'rp23', 'rp24', 'rp25', 'rp26', 'rp27', 'rp28', 'rp29', 'rp30', 'rp31', 'rp32', 'rp33', 'rp34', 'rp35', 'rp36', 'rp37', 'rp38', 'rp39', 'rp40', 'rp41', 'rp42', 'rp43', 'rp44', 'rp45', 'rp46', 'rp47', 'rp48', 'rp49', 'rp50', 'rp51', 'rp52', 'rp53', 'rp54', 'rp55', 'rp56', 'rp57', 'rp58', 'rp59', 'rp60', 'rp61', 'rp62', 'rp63', 'rp64', 'rp65', 'rp66', 'rp67', 'rp68', 'rp69', 'rp70', 'rp71', 'rp72', 'rp73', 'rp74', 'rp75', 'rp76', 'rp77', 'rp78', 'rp79', 'rp80', 'rp81', 'rp82', 'rp83', 'rp84', 'rp85', 'rp86', 'rp87', 'rp88', 'rp89', 'rp90', 'rp91', 'rp92', 'rp93', 'rp94', 'rp95', 'rp96', 'rp97', 'rp98', 'rp99', 'rq00', 'rq01', 'rq02', 'rq03', 'rq04', 'rq05', 'rq06', 'rq07', 'rq08', 'rq09', 'rq10', 'rq11', 'rq12', 'rq13', 'rq14', 'rq15', 'rq16', 'rq17', 'rq18', 'rq19', 'rq20', 'rq21', 'rq22', 'rq23', 'rq24', 'rq25', 'rq26', 'rq27', 'rq28', 'rq29', 'rq30', 'rq31', 'rq32', 'rq33', 'rq34', 'rq35', 'rq36', 'rq37', 'rq38', 'rq39', 'rq40', 'rq41', 'rq42', 'rq43', 'rq44', 'rq45', 'rq46', 'rq47', 'rq48', 'rq49', 'rq50', 'rq51', 'rq52', 'rq53', 'rq54', 'rq55', 'rq56', 'rq57', 'rq58', 'rq59', 'rq60', 'rq61', 'rq62', 'rq63', 'rq64', 'rq65', 'rq66', 'rq67', 'rq68', 'rq69', 'rq70', 'rq71', 'rq72', 'rq73', 'rq74', 'rq75', 'rq76', 'rq77', 'rq78', 'rq79', 'rq80', 'rq81', 'rq82', 'rq83', 'rq84', 'rq85', 'rq86', 'rq87', 'rq88', 'rq89', 'rq90', 'rq91', 'rq92', 'rq93', 'rq94', 'rq95', 'rq96', 'rq97', 'rq98', 'rq99', 'rr00', 'rr01', 'rr02', 'rr03', 'rr04', 'rr05', 'rr06', 'rr07', 'rr08', 'rr09', 'rr10', 'rr11', 'rr12', 'rr13', 'rr14', 'rr15', 'rr16', 'rr17', 'rr18', 'rr19', 'rr20', 'rr21', 'rr22', 'rr23', 'rr24', 'rr25', 'rr26', 'rr27', 'rr28', 'rr29', 'rr30', 'rr31', 'rr32', 'rr33', 'rr34', 'rr35', 'rr36', 'rr37', 'rr38', 'rr39', 'rr40', 'rr41', 'rr42', 'rr43', 'rr44', 'rr45', 'rr46', 'rr47', 'rr48', 'rr49', 'rr50', 'rr51', 'rr52', 'rr53', 'rr54', 'rr55', 'rr56', 'rr57', 'rr58', 'rr59', 'rr60', 'rr61', 'rr62', 'rr63', 'rr64', 'rr65', 'rr66', 'rr67', 'rr68', 'rr69', 'rr70', 'rr71', 'rr72', 'rr73', 'rr74', 'rr75', 'rr76', 'rr77', 'rr78', 'rr79', 'rr80', 'rr81', 'rr82', 'rr83', 'rr84', 'rr85', 'rr86', 'rr87', 'rr88', 'rr89', 'rr90', 'rr91', 'rr92', 'rr93', 'rr94', 'rr95', 'rr96', 'rr97', 'rr98', 'rr99', 'rs00', 'rs01', 'rs02', 'rs03', 'rs04', 'rs05', 'rs06', 'rs07', 'rs08', 'rs09', 'rs10', 'rs11', 'rs12', 'rs13', 'rs14', 'rs15', 'rs16', 'rs17', 'rs18', 'rs19', 'rs20', 'rs21', 'rs22', 'rs23', 'rs24', 'rs25', 'rs26', 'rs27', 'rs28', 'rs29', 'rs30', 'rs31', 'rs32', 'rs33', 'rs34', 'rs35', 'rs36', 'rs37', 'rs38', 'rs39', 'rs40', 'rs41', 'rs42', 'rs43', 'rs44', 'rs45', 'rs46', 'rs47', 'rs48', 'rs49', 'rs50', 'rs51', 'rs52', 'rs53', 'rs54', 'rs55', 'rs56', 'rs57', 'rs58', 'rs59', 'rs60', 'rs61', 'rs62', 'rs63', 'rs64', 'rs65', 'rs66', 'rs67', 'rs68', 'rs69', 'rs70', 'rs71', 'rs72', 'rs73', 'rs74', 'rs75', 'rs76', 'rs77', 'rs78', 'rs79', 'rs80', 'rs81', 'rs82', 'rs83', 'rs84', 'rs85', 'rs86', 'rs87', 'rs88', 'rs89', 'rs90', 'rs91', 'rs92', 'rs93', 'rs94', 'rs95', 'rs96', 'rs97', 'rs98', 'rs99', 'rt00', 'rt01', 'rt02', 'rt03', 'rt04', 'rt05', 'rt06', 'rt07', 'rt08', 'rt09', 'rt10', 'rt11', 'rt12', 'rt13', 'rt14', 'rt15', 'rt16', 'rt17', 'rt18', 'rt19', 'rt20', 'rt21', 'rt22', 'rt23', 'rt24', 'rt25', 'rt26', 'rt27', 'rt28', 'rt29', 'rt30', 'rt31', 'rt32', 'rt33', 'rt34', 'rt35', 'rt36', 'rt37', 'rt38', 'rt39', 'rt40', 'rt41', 'rt42', 'rt43', 'rt44', 'rt45', 'rt46', 'rt47', 'rt48', 'rt49', 'rt50', 'rt51', 'rt52', 'rt53', 'rt54', 'rt55', 'rt56', 'rt57', 'rt58', 'rt59', 'rt60', 'rt61', 'rt62', 'rt63', 'rt64', 'rt65', 'rt66', 'rt67', 'rt68', 'rt69', 'rt70', 'rt71', 'rt72', 'rt73', 'rt74', 'rt75', 'rt76', 'rt77', 'rt78', 'rt79', 'rt80', 'rt81', 'rt82', 'rt83', 'rt84', 'rt85', 'rt86', 'rt87', 'rt88', 'rt89', 'rt90', 'rt91', 'rt92', 'rt93', 'rt94', 'rt95', 'rt96', 'rt97', 'rt98', 'rt99', 'ru00', 'ru01', 'ru02', 'ru03', 'ru04', 'ru05', 'ru06', 'ru07', 'ru08', 'ru09', 'ru10', 'ru11', 'ru12', 'ru13', 'ru14', 'ru15', 'ru16', 'ru17', 'ru18', 'ru19', 'ru20', 'ru21', 'ru22', 'ru23', 'ru24', 'ru25', 'ru26', 'ru27', 'ru28', 'ru29', 'ru30', 'ru31', 'ru32', 'ru33', 'ru34', 'ru35', 'ru36', 'ru37', 'ru38', 'ru39', 'ru40', 'ru41', 'ru42', 'ru43', 'ru44', 'ru45', 'ru46', 'ru47', 'ru48', 'ru49', 'ru50', 'ru51', 'ru52', 'ru53', 'ru54', 'ru55', 'ru56', 'ru57', 'ru58', 'ru59', 'ru60', 'ru61', 'ru62', 'ru63', 'ru64', 'ru65', 'ru66', 'ru67', 'ru68', 'ru69', 'ru70', 'ru71', 'ru72', 'ru73', 'ru74', 'ru75', 'ru76', 'ru77', 'ru78', 'ru79', 'ru80', 'ru81', 'ru82', 'ru83', 'ru84', 'ru85', 'ru86', 'ru87', 'ru88', 'ru89', 'ru90', 'ru91', 'ru92', 'ru93', 'ru94', 'ru95', 'ru96', 'ru97', 'ru98', 'ru99', 'rv00', 'rv01', 'rv02', 'rv03', 'rv04', 'rv05', 'rv06', 'rv07', 'rv08', 'rv09', 'rv10', 'rv11', 'rv12', 'rv13', 'rv14', 'rv15', 'rv16', 'rv17', 'rv18', 'rv19', 'rv20', 'rv21', 'rv22', 'rv23', 'rv24', 'rv25', 'rv26', 'rv27', 'rv28', 'rv29', 'rv30', 'rv31', 'rv32', 'rv33', 'rv34', 'rv35', 'rv36', 'rv37', 'rv38', 'rv39', 'rv40', 'rv41', 'rv42', 'rv43', 'rv44', 'rv45', 'rv46', 'rv47', 'rv48', 'rv49', 'rv50', 'rv51', 'rv52', 'rv53', 'rv54', 'rv55', 'rv56', 'rv57', 'rv58', 'rv59', 'rv60', 'rv61', 'rv62', 'rv63', 'rv64', 'rv65', 'rv66', 'rv67', 'rv68', 'rv69', 'rv70', 'rv71', 'rv72', 'rv73', 'rv74', 'rv75', 'rv76', 'rv77', 'rv78', 'rv79', 'rv80', 'rv81', 'rv82', 'rv83', 'rv84', 'rv85', 'rv86', 'rv87', 'rv88', 'rv89', 'rv90', 'rv91', 'rv92', 'rv93', 'rv94', 'rv95', 'rv96', 'rv97', 'rv98', 'rv99', 'rw00', 'rw01', 'rw02', 'rw03', 'rw04', 'rw05', 'rw06', 'rw07', 'rw08', 'rw09', 'rw10', 'rw11', 'rw12', 'rw13', 'rw14', 'rw15', 'rw16', 'rw17', 'rw18', 'rw19', 'rw20', 'rw21', 'rw22', 'rw23', 'rw24', 'rw25', 'rw26', 'rw27', 'rw28', 'rw29', 'rw30', 'rw31', 'rw32', 'rw33', 'rw34', 'rw35', 'rw36', 'rw37', 'rw38', 'rw39', 'rw40', 'rw41', 'rw42', 'rw43', 'rw44', 'rw45', 'rw46', 'rw47', 'rw48', 'rw49', 'rw50', 'rw51', 'rw52', 'rw53', 'rw54', 'rw55', 'rw56', 'rw57', 'rw58', 'rw59', 'rw60', 'rw61', 'rw62', 'rw63', 'rw64', 'rw65', 'rw66', 'rw67', 'rw68', 'rw69', 'rw70', 'rw71', 'rw72', 'rw73', 'rw74', 'rw75', 'rw76', 'rw77', 'rw78', 'rw79', 'rw80', 'rw81', 'rw82', 'rw83', 'rw84', 'rw85', 'rw86', 'rw87', 'rw88', 'rw89', 'rw90', 'rw91', 'rw92', 'rw93', 'rw94', 'rw95', 'rw96', 'rw97', 'rw98', 'rw99', 'rx00', 'rx01', 'rx02', 'rx03', 'rx04', 'rx05', 'rx06', 'rx07', 'rx08', 'rx09', 'rx10', 'rx11', 'rx12', 'rx13', 'rx14', 'rx15', 'rx16', 'rx17', 'rx18', 'rx19', 'rx20', 'rx21', 'rx22', 'rx23', 'rx24', 'rx25', 'rx26', 'rx27', 'rx28', 'rx29', 'rx30', 'rx31', 'rx32', 'rx33', 'rx34', 'rx35', 'rx36', 'rx37', 'rx38', 'rx39', 'rx40', 'rx41', 'rx42', 'rx43', 'rx44', 'rx45', 'rx46', 'rx47', 'rx48', 'rx49', 'rx50', 'rx51', 'rx52', 'rx53', 'rx54', 'rx55', 'rx56', 'rx57', 'rx58', 'rx59', 'rx60', 'rx61', 'rx62', 'rx63', 'rx64', 'rx65', 'rx66', 'rx67', 'rx68', 'rx69', 'rx70', 'rx71', 'rx72', 'rx73', 'rx74', 'rx75', 'rx76', 'rx77', 'rx78', 'rx79', 'rx80', 'rx81', 'rx82', 'rx83', 'rx84', 'rx85', 'rx86', 'rx87', 'rx88', 'rx89', 'rx90', 'rx91', 'rx92', 'rx93', 'rx94', 'rx95', 'rx96', 'rx97', 'rx98', 'rx99', 'ry00', 'ry01', 'ry02', 'ry03', 'ry04', 'ry05', 'ry06', 'ry07', 'ry08', 'ry09', 'ry10', 'ry11', 'ry12', 'ry13', 'ry14', 'ry15', 'ry16', 'ry17', 'ry18', 'ry19', 'ry20', 'ry21', 'ry22', 'ry23', 'ry24', 'ry25', 'ry26', 'ry27', 'ry28', 'ry29', 'ry30', 'ry31', 'ry32', 'ry33', 'ry34', 'ry35', 'ry36', 'ry37', 'ry38', 'ry39', 'ry40', 'ry41', 'ry42', 'ry43', 'ry44', 'ry45', 'ry46', 'ry47', 'ry48', 'ry49', 'ry50', 'ry51', 'ry52', 'ry53', 'ry54', 'ry55', 'ry56', 'ry57', 'ry58', 'ry59', 'ry60', 'ry61', 'ry62', 'ry63', 'ry64', 'ry65', 'ry66', 'ry67', 'ry68', 'ry69', 'ry70', 'ry71', 'ry72', 'ry73', 'ry74', 'ry75', 'ry76', 'ry77', 'ry78', 'ry79', 'ry80', 'ry81', 'ry82', 'ry83', 'ry84', 'ry85', 'ry86', 'ry87', 'ry88', 'ry89', 'ry90', 'ry91', 'ry92', 'ry93', 'ry94', 'ry95', 'ry96', 'ry97', 'ry98', 'ry99', 'rz00', 'rz01', 'rz02', 'rz03', 'rz04', 'rz05', 'rz06', 'rz07', 'rz08', 'rz09', 'rz10', 'rz11', 'rz12', 'rz13', 'rz14', 'rz15', 'rz16', 'rz17', 'rz18', 'rz19', 'rz20', 'rz21', 'rz22', 'rz23', 'rz24', 'rz25', 'rz26', 'rz27', 'rz28', 'rz29', 'rz30', 'rz31', 'rz32', 'rz33', 'rz34', 'rz35', 'rz36', 'rz37', 'rz38', 'rz39', 'rz40', 'rz41', 'rz42', 'rz43', 'rz44', 'rz45', 'rz46', 'rz47', 'rz48', 'rz49', 'rz50', 'rz51', 'rz52', 'rz53', 'rz54', 'rz55', 'rz56', 'rz57', 'rz58', 'rz59', 'rz60', 'rz61', 'rz62', 'rz63', 'rz64', 'rz65', 'rz66', 'rz67', 'rz68', 'rz69', 'rz70', 'rz71', 'rz72', 'rz73', 'rz74', 'rz75', 'rz76', 'rz77', 'rz78', 'rz79', 'rz80', 'rz81', 'rz82', 'rz83', 'rz84', 'rz85', 'rz86', 'rz87', 'rz88', 'rz89', 'rz90', 'rz91', 'rz92', 'rz93', 'rz94', 'rz95', 'rz96', 'rz97', 'rz98', 'rz99', 'sa00', 'sa01', 'sa02', 'sa03', 'sa04', 'sa05', 'sa06', 'sa07', 'sa08', 'sa09', 'sa10', 'sa11', 'sa12', 'sa13', 'sa14', 'sa15', 'sa16', 'sa17', 'sa18', 'sa19', 'sa20', 'sa21', 'sa22', 'sa23', 'sa24', 'sa25', 'sa26', 'sa27', 'sa28', 'sa29', 'sa30', 'sa31', 'sa32', 'sa33', 'sa34', 'sa35', 'sa36', 'sa37', 'sa38', 'sa39', 'sa40', 'sa41', 'sa42', 'sa43', 'sa44', 'sa45', 'sa46', 'sa47', 'sa48', 'sa49', 'sa50', 'sa51', 'sa52', 'sa53', 'sa54', 'sa55', 'sa56', 'sa57', 'sa58', 'sa59', 'sa60', 'sa61', 'sa62', 'sa63', 'sa64', 'sa65', 'sa66', 'sa67', 'sa68', 'sa69', 'sa70', 'sa71', 'sa72', 'sa73', 'sa74', 'sa75', 'sa76', 'sa77', 'sa78', 'sa79', 'sa80', 'sa81', 'sa82', 'sa83', 'sa84', 'sa85', 'sa86', 'sa87', 'sa88', 'sa89', 'sa90', 'sa91', 'sa92', 'sa93', 'sa94', 'sa95', 'sa96', 'sa97', 'sa98', 'sa99', 'sb00', 'sb01', 'sb02', 'sb03', 'sb04', 'sb05', 'sb06', 'sb07', 'sb08', 'sb09', 'sb10', 'sb11', 'sb12', 'sb13', 'sb14', 'sb15', 'sb16', 'sb17', 'sb18', 'sb19', 'sb20', 'sb21', 'sb22', 'sb23', 'sb24', 'sb25', 'sb26', 'sb27', 'sb28', 'sb29', 'sb30', 'sb31', 'sb32', 'sb33', 'sb34', 'sb35', 'sb36', 'sb37', 'sb38', 'sb39', 'sb40', 'sb41', 'sb42', 'sb43', 'sb44', 'sb45', 'sb46', 'sb47', 'sb48', 'sb49', 'sb50', 'sb51', 'sb52', 'sb53', 'sb54', 'sb55', 'sb56', 'sb57', 'sb58', 'sb59', 'sb60', 'sb61', 'sb62', 'sb63', 'sb64', 'sb65', 'sb66', 'sb67', 'sb68', 'sb69', 'sb70', 'sb71', 'sb72', 'sb73', 'sb74', 'sb75', 'sb76', 'sb77', 'sb78', 'sb79', 'sb80', 'sb81', 'sb82', 'sb83', 'sb84', 'sb85', 'sb86', 'sb87', 'sb88', 'sb89', 'sb90', 'sb91', 'sb92', 'sb93', 'sb94', 'sb95', 'sb96', 'sb97', 'sb98', 'sb99', 'sc00', 'sc01', 'sc02', 'sc03', 'sc04', 'sc05', 'sc06', 'sc07', 'sc08', 'sc09', 'sc10', 'sc11', 'sc12', 'sc13', 'sc14', 'sc15', 'sc16', 'sc17', 'sc18', 'sc19', 'sc20', 'sc21', 'sc22', 'sc23', 'sc24', 'sc25', 'sc26', 'sc27', 'sc28', 'sc29', 'sc30', 'sc31', 'sc32', 'sc33', 'sc34', 'sc35', 'sc36', 'sc37', 'sc38', 'sc39', 'sc40', 'sc41', 'sc42', 'sc43', 'sc44', 'sc45', 'sc46', 'sc47', 'sc48', 'sc49', 'sc50', 'sc51', 'sc52', 'sc53', 'sc54', 'sc55', 'sc56', 'sc57', 'sc58', 'sc59', 'sc60', 'sc61', 'sc62', 'sc63', 'sc64', 'sc65', 'sc66', 'sc67', 'sc68', 'sc69', 'sc70', 'sc71', 'sc72', 'sc73', 'sc74', 'sc75', 'sc76', 'sc77', 'sc78', 'sc79', 'sc80', 'sc81', 'sc82', 'sc83', 'sc84', 'sc85', 'sc86', 'sc87', 'sc88', 'sc89', 'sc90', 'sc91', 'sc92', 'sc93', 'sc94', 'sc95', 'sc96', 'sc97', 'sc98', 'sc99', 'sd00', 'sd01', 'sd02', 'sd03', 'sd04', 'sd05', 'sd06', 'sd07', 'sd08', 'sd09', 'sd10', 'sd11', 'sd12', 'sd13', 'sd14', 'sd15', 'sd16', 'sd17', 'sd18', 'sd19', 'sd20', 'sd21', 'sd22', 'sd23', 'sd24', 'sd25', 'sd26', 'sd27', 'sd28', 'sd29', 'sd30', 'sd31', 'sd32', 'sd33', 'sd34', 'sd35', 'sd36', 'sd37', 'sd38', 'sd39', 'sd40', 'sd41', 'sd42', 'sd43', 'sd44', 'sd45', 'sd46', 'sd47', 'sd48', 'sd49', 'sd50', 'sd51', 'sd52', 'sd53', 'sd54', 'sd55', 'sd56', 'sd57', 'sd58', 'sd59', 'sd60', 'sd61', 'sd62', 'sd63', 'sd64', 'sd65', 'sd66', 'sd67', 'sd68', 'sd69', 'sd70', 'sd71', 'sd72', 'sd73', 'sd74', 'sd75', 'sd76', 'sd77', 'sd78', 'sd79', 'sd80', 'sd81', 'sd82', 'sd83', 'sd84', 'sd85', 'sd86', 'sd87', 'sd88', 'sd89', 'sd90', 'sd91', 'sd92', 'sd93', 'sd94', 'sd95', 'sd96', 'sd97', 'sd98', 'sd99', 'se00', 'se01', 'se02', 'se03', 'se04', 'se05', 'se06', 'se07', 'se08', 'se09', 'se10', 'se11', 'se12', 'se13', 'se14', 'se15', 'se16', 'se17', 'se18', 'se19', 'se20', 'se21', 'se22', 'se23', 'se24', 'se25', 'se26', 'se27', 'se28', 'se29', 'se30', 'se31', 'se32', 'se33', 'se34', 'se35', 'se36', 'se37', 'se38', 'se39', 'se40', 'se41', 'se42', 'se43', 'se44', 'se45', 'se46', 'se47', 'se48', 'se49', 'se50', 'se51', 'se52', 'se53', 'se54', 'se55', 'se56', 'se57', 'se58', 'se59', 'se60', 'se61', 'se62', 'se63', 'se64', 'se65', 'se66', 'se67', 'se68', 'se69', 'se70', 'se71', 'se72', 'se73', 'se74', 'se75', 'se76', 'se77', 'se78', 'se79', 'se80', 'se81', 'se82', 'se83', 'se84', 'se85', 'se86', 'se87', 'se88', 'se89', 'se90', 'se91', 'se92', 'se93', 'se94', 'se95', 'se96', 'se97', 'se98', 'se99', 'sf00', 'sf01', 'sf02', 'sf03', 'sf04', 'sf05', 'sf06', 'sf07', 'sf08', 'sf09', 'sf10', 'sf11', 'sf12', 'sf13', 'sf14', 'sf15', 'sf16', 'sf17', 'sf18', 'sf19', 'sf20', 'sf21', 'sf22', 'sf23', 'sf24', 'sf25', 'sf26', 'sf27', 'sf28', 'sf29', 'sf30', 'sf31', 'sf32', 'sf33', 'sf34', 'sf35', 'sf36', 'sf37', 'sf38', 'sf39', 'sf40', 'sf41', 'sf42', 'sf43', 'sf44', 'sf45', 'sf46', 'sf47', 'sf48', 'sf49', 'sf50', 'sf51', 'sf52', 'sf53', 'sf54', 'sf55', 'sf56', 'sf57', 'sf58', 'sf59', 'sf60', 'sf61', 'sf62', 'sf63', 'sf64', 'sf65', 'sf66', 'sf67', 'sf68', 'sf69', 'sf70', 'sf71', 'sf72', 'sf73', 'sf74', 'sf75', 'sf76', 'sf77', 'sf78', 'sf79', 'sf80', 'sf81', 'sf82', 'sf83', 'sf84', 'sf85', 'sf86', 'sf87', 'sf88', 'sf89', 'sf90', 'sf91', 'sf92', 'sf93', 'sf94', 'sf95', 'sf96', 'sf97', 'sf98', 'sf99', 'sg00', 'sg01', 'sg02', 'sg03', 'sg04', 'sg05', 'sg06', 'sg07', 'sg08', 'sg09', 'sg10', 'sg11', 'sg12', 'sg13', 'sg14', 'sg15', 'sg16', 'sg17', 'sg18', 'sg19', 'sg20', 'sg21', 'sg22', 'sg23', 'sg24', 'sg25', 'sg26', 'sg27', 'sg28', 'sg29', 'sg30', 'sg31', 'sg32', 'sg33', 'sg34', 'sg35', 'sg36', 'sg37', 'sg38', 'sg39', 'sg40', 'sg41', 'sg42', 'sg43', 'sg44', 'sg45', 'sg46', 'sg47', 'sg48', 'sg49', 'sg50', 'sg51', 'sg52', 'sg53', 'sg54', 'sg55', 'sg56', 'sg57', 'sg58', 'sg59', 'sg60', 'sg61', 'sg62', 'sg63', 'sg64', 'sg65', 'sg66', 'sg67', 'sg68', 'sg69', 'sg70', 'sg71', 'sg72', 'sg73', 'sg74', 'sg75', 'sg76', 'sg77', 'sg78', 'sg79', 'sg80', 'sg81', 'sg82', 'sg83', 'sg84', 'sg85', 'sg86', 'sg87', 'sg88', 'sg89', 'sg90', 'sg91', 'sg92', 'sg93', 'sg94', 'sg95', 'sg96', 'sg97', 'sg98', 'sg99', 'sh00', 'sh01', 'sh02', 'sh03', 'sh04', 'sh05', 'sh06', 'sh07', 'sh08', 'sh09', 'sh10', 'sh11', 'sh12', 'sh13', 'sh14', 'sh15', 'sh16', 'sh17', 'sh18', 'sh19', 'sh20', 'sh21', 'sh22', 'sh23', 'sh24', 'sh25', 'sh26', 'sh27', 'sh28', 'sh29', 'sh30', 'sh31', 'sh32', 'sh33', 'sh34', 'sh35', 'sh36', 'sh37', 'sh38', 'sh39', 'sh40', 'sh41', 'sh42', 'sh43', 'sh44', 'sh45', 'sh46', 'sh47', 'sh48', 'sh49', 'sh50', 'sh51', 'sh52', 'sh53', 'sh54', 'sh55', 'sh56', 'sh57', 'sh58', 'sh59', 'sh60', 'sh61', 'sh62', 'sh63', 'sh64', 'sh65', 'sh66', 'sh67', 'sh68', 'sh69', 'sh70', 'sh71', 'sh72', 'sh73', 'sh74', 'sh75', 'sh76', 'sh77', 'sh78', 'sh79', 'sh80', 'sh81', 'sh82', 'sh83', 'sh84', 'sh85', 'sh86', 'sh87', 'sh88', 'sh89', 'sh90', 'sh91', 'sh92', 'sh93', 'sh94', 'sh95', 'sh96', 'sh97', 'sh98', 'sh99', 'si00', 'si01', 'si02', 'si03', 'si04', 'si05', 'si06', 'si07', 'si08', 'si09', 'si10', 'si11', 'si12', 'si13', 'si14', 'si15', 'si16', 'si17', 'si18', 'si19', 'si20', 'si21', 'si22', 'si23', 'si24', 'si25', 'si26', 'si27', 'si28', 'si29', 'si30', 'si31', 'si32', 'si33', 'si34', 'si35', 'si36', 'si37', 'si38', 'si39', 'si40', 'si41', 'si42', 'si43', 'si44', 'si45', 'si46', 'si47', 'si48', 'si49', 'si50', 'si51', 'si52', 'si53', 'si54', 'si55', 'si56', 'si57', 'si58', 'si59', 'si60', 'si61', 'si62', 'si63', 'si64', 'si65', 'si66', 'si67', 'si68', 'si69', 'si70', 'si71', 'si72', 'si73', 'si74', 'si75', 'si76', 'si77', 'si78', 'si79', 'si80', 'si81', 'si82', 'si83', 'si84', 'si85', 'si86', 'si87', 'si88', 'si89', 'si90', 'si91', 'si92', 'si93', 'si94', 'si95', 'si96', 'si97', 'si98', 'si99', 'sj00', 'sj01', 'sj02', 'sj03', 'sj04', 'sj05', 'sj06', 'sj07', 'sj08', 'sj09', 'sj10', 'sj11', 'sj12', 'sj13', 'sj14', 'sj15', 'sj16', 'sj17', 'sj18', 'sj19', 'sj20', 'sj21', 'sj22', 'sj23', 'sj24', 'sj25', 'sj26', 'sj27', 'sj28', 'sj29', 'sj30', 'sj31', 'sj32', 'sj33', 'sj34', 'sj35', 'sj36', 'sj37', 'sj38', 'sj39', 'sj40', 'sj41', 'sj42', 'sj43', 'sj44', 'sj45', 'sj46', 'sj47', 'sj48', 'sj49', 'sj50', 'sj51', 'sj52', 'sj53', 'sj54', 'sj55', 'sj56', 'sj57', 'sj58', 'sj59', 'sj60', 'sj61', 'sj62', 'sj63', 'sj64', 'sj65', 'sj66', 'sj67', 'sj68', 'sj69', 'sj70', 'sj71', 'sj72', 'sj73', 'sj74', 'sj75', 'sj76', 'sj77', 'sj78', 'sj79', 'sj80', 'sj81', 'sj82', 'sj83', 'sj84', 'sj85', 'sj86', 'sj87', 'sj88', 'sj89', 'sj90', 'sj91', 'sj92', 'sj93', 'sj94', 'sj95', 'sj96', 'sj97', 'sj98', 'sj99', 'sk00', 'sk01', 'sk02', 'sk03', 'sk04', 'sk05', 'sk06', 'sk07', 'sk08', 'sk09', 'sk10', 'sk11', 'sk12', 'sk13', 'sk14', 'sk15', 'sk16', 'sk17', 'sk18', 'sk19', 'sk20', 'sk21', 'sk22', 'sk23', 'sk24', 'sk25', 'sk26', 'sk27', 'sk28', 'sk29', 'sk30', 'sk31', 'sk32', 'sk33', 'sk34', 'sk35', 'sk36', 'sk37', 'sk38', 'sk39', 'sk40', 'sk41', 'sk42', 'sk43', 'sk44', 'sk45', 'sk46', 'sk47', 'sk48', 'sk49', 'sk50', 'sk51', 'sk52', 'sk53', 'sk54', 'sk55', 'sk56', 'sk57', 'sk58', 'sk59', 'sk60', 'sk61', 'sk62', 'sk63', 'sk64', 'sk65', 'sk66', 'sk67', 'sk68', 'sk69', 'sk70', 'sk71', 'sk72', 'sk73', 'sk74', 'sk75', 'sk76', 'sk77', 'sk78', 'sk79', 'sk80', 'sk81', 'sk82', 'sk83', 'sk84', 'sk85', 'sk86', 'sk87', 'sk88', 'sk89', 'sk90', 'sk91', 'sk92', 'sk93', 'sk94', 'sk95', 'sk96', 'sk97', 'sk98', 'sk99', 'sl00', 'sl01', 'sl02', 'sl03', 'sl04', 'sl05', 'sl06', 'sl07', 'sl08', 'sl09', 'sl10', 'sl11', 'sl12', 'sl13', 'sl14', 'sl15', 'sl16', 'sl17', 'sl18', 'sl19', 'sl20', 'sl21', 'sl22', 'sl23', 'sl24', 'sl25', 'sl26', 'sl27', 'sl28', 'sl29', 'sl30', 'sl31', 'sl32', 'sl33', 'sl34', 'sl35', 'sl36', 'sl37', 'sl38', 'sl39', 'sl40', 'sl41', 'sl42', 'sl43', 'sl44', 'sl45', 'sl46', 'sl47', 'sl48', 'sl49', 'sl50', 'sl51', 'sl52', 'sl53', 'sl54', 'sl55', 'sl56', 'sl57', 'sl58', 'sl59', 'sl60', 'sl61', 'sl62', 'sl63', 'sl64', 'sl65', 'sl66', 'sl67', 'sl68', 'sl69', 'sl70', 'sl71', 'sl72', 'sl73', 'sl74', 'sl75', 'sl76', 'sl77', 'sl78', 'sl79', 'sl80', 'sl81', 'sl82', 'sl83', 'sl84', 'sl85', 'sl86', 'sl87', 'sl88', 'sl89', 'sl90', 'sl91', 'sl92', 'sl93', 'sl94', 'sl95', 'sl96', 'sl97', 'sl98', 'sl99', 'sm00', 'sm01', 'sm02', 'sm03', 'sm04', 'sm05', 'sm06', 'sm07', 'sm08', 'sm09', 'sm10', 'sm11', 'sm12', 'sm13', 'sm14', 'sm15', 'sm16', 'sm17', 'sm18', 'sm19', 'sm20', 'sm21', 'sm22', 'sm23', 'sm24', 'sm25', 'sm26', 'sm27', 'sm28', 'sm29', 'sm30', 'sm31', 'sm32', 'sm33', 'sm34', 'sm35', 'sm36', 'sm37', 'sm38', 'sm39', 'sm40', 'sm41', 'sm42', 'sm43', 'sm44', 'sm45', 'sm46', 'sm47', 'sm48', 'sm49', 'sm50', 'sm51', 'sm52', 'sm53', 'sm54', 'sm55', 'sm56', 'sm57', 'sm58', 'sm59', 'sm60', 'sm61', 'sm62', 'sm63', 'sm64', 'sm65', 'sm66', 'sm67', 'sm68', 'sm69', 'sm70', 'sm71', 'sm72', 'sm73', 'sm74', 'sm75', 'sm76', 'sm77', 'sm78', 'sm79', 'sm80', 'sm81', 'sm82', 'sm83', 'sm84', 'sm85', 'sm86', 'sm87', 'sm88', 'sm89', 'sm90', 'sm91', 'sm92', 'sm93', 'sm94', 'sm95', 'sm96', 'sm97', 'sm98', 'sm99', 'sn00', 'sn01', 'sn02', 'sn03', 'sn04', 'sn05', 'sn06', 'sn07', 'sn08', 'sn09', 'sn10', 'sn11', 'sn12', 'sn13', 'sn14', 'sn15', 'sn16', 'sn17', 'sn18', 'sn19', 'sn20', 'sn21', 'sn22', 'sn23', 'sn24', 'sn25', 'sn26', 'sn27', 'sn28', 'sn29', 'sn30', 'sn31', 'sn32', 'sn33', 'sn34', 'sn35', 'sn36', 'sn37', 'sn38', 'sn39', 'sn40', 'sn41', 'sn42', 'sn43', 'sn44', 'sn45', 'sn46', 'sn47', 'sn48', 'sn49', 'sn50', 'sn51', 'sn52', 'sn53', 'sn54', 'sn55', 'sn56', 'sn57', 'sn58', 'sn59', 'sn60', 'sn61', 'sn62', 'sn63', 'sn64', 'sn65', 'sn66', 'sn67', 'sn68', 'sn69', 'sn70', 'sn71', 'sn72', 'sn73', 'sn74', 'sn75', 'sn76', 'sn77', 'sn78', 'sn79', 'sn80', 'sn81', 'sn82', 'sn83', 'sn84', 'sn85', 'sn86', 'sn87', 'sn88', 'sn89', 'sn90', 'sn91', 'sn92', 'sn93', 'sn94', 'sn95', 'sn96', 'sn97', 'sn98', 'sn99', 'so00', 'so01', 'so02', 'so03', 'so04', 'so05', 'so06', 'so07', 'so08', 'so09', 'so10', 'so11', 'so12', 'so13', 'so14', 'so15', 'so16', 'so17', 'so18', 'so19', 'so20', 'so21', 'so22', 'so23', 'so24', 'so25', 'so26', 'so27', 'so28', 'so29', 'so30', 'so31', 'so32', 'so33', 'so34', 'so35', 'so36', 'so37', 'so38', 'so39', 'so40', 'so41', 'so42', 'so43', 'so44', 'so45', 'so46', 'so47', 'so48', 'so49', 'so50', 'so51', 'so52', 'so53', 'so54', 'so55', 'so56', 'so57', 'so58', 'so59', 'so60', 'so61', 'so62', 'so63', 'so64', 'so65', 'so66', 'so67', 'so68', 'so69', 'so70', 'so71', 'so72', 'so73', 'so74', 'so75', 'so76', 'so77', 'so78', 'so79', 'so80', 'so81', 'so82', 'so83', 'so84', 'so85', 'so86', 'so87', 'so88', 'so89', 'so90', 'so91', 'so92', 'so93', 'so94', 'so95', 'so96', 'so97', 'so98', 'so99', 'sp00', 'sp01', 'sp02', 'sp03', 'sp04', 'sp05', 'sp06', 'sp07', 'sp08', 'sp09', 'sp10', 'sp11', 'sp12', 'sp13', 'sp14', 'sp15', 'sp16', 'sp17', 'sp18', 'sp19', 'sp20', 'sp21', 'sp22', 'sp23', 'sp24', 'sp25', 'sp26', 'sp27', 'sp28', 'sp29', 'sp30', 'sp31', 'sp32', 'sp33', 'sp34', 'sp35', 'sp36', 'sp37', 'sp38', 'sp39', 'sp40', 'sp41', 'sp42', 'sp43', 'sp44', 'sp45', 'sp46', 'sp47', 'sp48', 'sp49', 'sp50', 'sp51', 'sp52', 'sp53', 'sp54', 'sp55', 'sp56', 'sp57', 'sp58', 'sp59', 'sp60', 'sp61', 'sp62', 'sp63', 'sp64', 'sp65', 'sp66', 'sp67', 'sp68', 'sp69', 'sp70', 'sp71', 'sp72', 'sp73', 'sp74', 'sp75', 'sp76', 'sp77', 'sp78', 'sp79', 'sp80', 'sp81', 'sp82', 'sp83', 'sp84', 'sp85', 'sp86', 'sp87', 'sp88', 'sp89', 'sp90', 'sp91', 'sp92', 'sp93', 'sp94', 'sp95', 'sp96', 'sp97', 'sp98', 'sp99', 'sq00', 'sq01', 'sq02', 'sq03', 'sq04', 'sq05', 'sq06', 'sq07', 'sq08', 'sq09', 'sq10', 'sq11', 'sq12', 'sq13', 'sq14', 'sq15', 'sq16', 'sq17', 'sq18', 'sq19', 'sq20', 'sq21', 'sq22', 'sq23', 'sq24', 'sq25', 'sq26', 'sq27', 'sq28', 'sq29', 'sq30', 'sq31', 'sq32', 'sq33', 'sq34', 'sq35', 'sq36', 'sq37', 'sq38', 'sq39', 'sq40', 'sq41', 'sq42', 'sq43', 'sq44', 'sq45', 'sq46', 'sq47', 'sq48', 'sq49', 'sq50', 'sq51', 'sq52', 'sq53', 'sq54', 'sq55', 'sq56', 'sq57', 'sq58', 'sq59', 'sq60', 'sq61', 'sq62', 'sq63', 'sq64', 'sq65', 'sq66', 'sq67', 'sq68', 'sq69', 'sq70', 'sq71', 'sq72', 'sq73', 'sq74', 'sq75', 'sq76', 'sq77', 'sq78', 'sq79', 'sq80', 'sq81', 'sq82', 'sq83', 'sq84', 'sq85', 'sq86', 'sq87', 'sq88', 'sq89', 'sq90', 'sq91', 'sq92', 'sq93', 'sq94', 'sq95', 'sq96', 'sq97', 'sq98', 'sq99', 'sr00', 'sr01', 'sr02', 'sr03', 'sr04', 'sr05', 'sr06', 'sr07', 'sr08', 'sr09', 'sr10', 'sr11', 'sr12', 'sr13', 'sr14', 'sr15', 'sr16', 'sr17', 'sr18', 'sr19', 'sr20', 'sr21', 'sr22', 'sr23', 'sr24', 'sr25', 'sr26', 'sr27', 'sr28', 'sr29', 'sr30', 'sr31', 'sr32', 'sr33', 'sr34', 'sr35', 'sr36', 'sr37', 'sr38', 'sr39', 'sr40', 'sr41', 'sr42', 'sr43', 'sr44', 'sr45', 'sr46', 'sr47', 'sr48', 'sr49', 'sr50', 'sr51', 'sr52', 'sr53', 'sr54', 'sr55', 'sr56', 'sr57', 'sr58', 'sr59', 'sr60', 'sr61', 'sr62', 'sr63', 'sr64', 'sr65', 'sr66', 'sr67', 'sr68', 'sr69', 'sr70', 'sr71', 'sr72', 'sr73', 'sr74', 'sr75', 'sr76', 'sr77', 'sr78', 'sr79', 'sr80', 'sr81', 'sr82', 'sr83', 'sr84', 'sr85', 'sr86', 'sr87', 'sr88', 'sr89', 'sr90', 'sr91', 'sr92', 'sr93', 'sr94', 'sr95', 'sr96', 'sr97', 'sr98', 'sr99', 'ss00', 'ss01', 'ss02', 'ss03', 'ss04', 'ss05', 'ss06', 'ss07', 'ss08', 'ss09', 'ss10', 'ss11', 'ss12', 'ss13', 'ss14', 'ss15', 'ss16', 'ss17', 'ss18', 'ss19', 'ss20', 'ss21', 'ss22', 'ss23', 'ss24', 'ss25', 'ss26', 'ss27', 'ss28', 'ss29', 'ss30', 'ss31', 'ss32', 'ss33', 'ss34', 'ss35', 'ss36', 'ss37', 'ss38', 'ss39', 'ss40', 'ss41', 'ss42', 'ss43', 'ss44', 'ss45', 'ss46', 'ss47', 'ss48', 'ss49', 'ss50', 'ss51', 'ss52', 'ss53', 'ss54', 'ss55', 'ss56', 'ss57', 'ss58', 'ss59', 'ss60', 'ss61', 'ss62', 'ss63', 'ss64', 'ss65', 'ss66', 'ss67', 'ss68', 'ss69', 'ss70', 'ss71', 'ss72', 'ss73', 'ss74', 'ss75', 'ss76', 'ss77', 'ss78', 'ss79', 'ss80', 'ss81', 'ss82', 'ss83', 'ss84', 'ss85', 'ss86', 'ss87', 'ss88', 'ss89', 'ss90', 'ss91', 'ss92', 'ss93', 'ss94', 'ss95', 'ss96', 'ss97', 'ss98', 'ss99', 'st00', 'st01', 'st02', 'st03', 'st04', 'st05', 'st06', 'st07', 'st08', 'st09', 'st10', 'st11', 'st12', 'st13', 'st14', 'st15', 'st16', 'st17', 'st18', 'st19', 'st20', 'st21', 'st22', 'st23', 'st24', 'st25', 'st26', 'st27', 'st28', 'st29', 'st30', 'st31', 'st32', 'st33', 'st34', 'st35', 'st36', 'st37', 'st38', 'st39', 'st40', 'st41', 'st42', 'st43', 'st44', 'st45', 'st46', 'st47', 'st48', 'st49', 'st50', 'st51', 'st52', 'st53', 'st54', 'st55', 'st56', 'st57', 'st58', 'st59', 'st60', 'st61', 'st62', 'st63', 'st64', 'st65', 'st66', 'st67', 'st68', 'st69', 'st70', 'st71', 'st72', 'st73', 'st74', 'st75', 'st76', 'st77', 'st78', 'st79', 'st80', 'st81', 'st82', 'st83', 'st84', 'st85', 'st86', 'st87', 'st88', 'st89', 'st90', 'st91', 'st92', 'st93', 'st94', 'st95', 'st96', 'st97', 'st98', 'st99', 'su00', 'su01', 'su02', 'su03', 'su04', 'su05', 'su06', 'su07', 'su08', 'su09', 'su10', 'su11', 'su12', 'su13', 'su14', 'su15', 'su16', 'su17', 'su18', 'su19', 'su20', 'su21', 'su22', 'su23', 'su24', 'su25', 'su26', 'su27', 'su28', 'su29', 'su30', 'su31', 'su32', 'su33', 'su34', 'su35', 'su36', 'su37', 'su38', 'su39', 'su40', 'su41', 'su42', 'su43', 'su44', 'su45', 'su46', 'su47', 'su48', 'su49', 'su50', 'su51', 'su52', 'su53', 'su54', 'su55', 'su56', 'su57', 'su58', 'su59', 'su60', 'su61', 'su62', 'su63', 'su64', 'su65', 'su66', 'su67', 'su68', 'su69', 'su70', 'su71', 'su72', 'su73', 'su74', 'su75', 'su76', 'su77', 'su78', 'su79', 'su80', 'su81', 'su82', 'su83', 'su84', 'su85', 'su86', 'su87', 'su88', 'su89', 'su90', 'su91', 'su92', 'su93', 'su94', 'su95', 'su96', 'su97', 'su98', 'su99', 'sv00', 'sv01', 'sv02', 'sv03', 'sv04', 'sv05', 'sv06', 'sv07', 'sv08', 'sv09', 'sv10', 'sv11', 'sv12', 'sv13', 'sv14', 'sv15', 'sv16', 'sv17', 'sv18', 'sv19', 'sv20', 'sv21', 'sv22', 'sv23', 'sv24', 'sv25', 'sv26', 'sv27', 'sv28', 'sv29', 'sv30', 'sv31', 'sv32', 'sv33', 'sv34', 'sv35', 'sv36', 'sv37', 'sv38', 'sv39', 'sv40', 'sv41', 'sv42', 'sv43', 'sv44', 'sv45', 'sv46', 'sv47', 'sv48', 'sv49', 'sv50', 'sv51', 'sv52', 'sv53', 'sv54', 'sv55', 'sv56', 'sv57', 'sv58', 'sv59', 'sv60', 'sv61', 'sv62', 'sv63', 'sv64', 'sv65', 'sv66', 'sv67', 'sv68', 'sv69', 'sv70', 'sv71', 'sv72', 'sv73', 'sv74', 'sv75', 'sv76', 'sv77', 'sv78', 'sv79', 'sv80', 'sv81', 'sv82', 'sv83', 'sv84', 'sv85', 'sv86', 'sv87', 'sv88', 'sv89', 'sv90', 'sv91', 'sv92', 'sv93', 'sv94', 'sv95', 'sv96', 'sv97', 'sv98', 'sv99', 'sw00', 'sw01', 'sw02', 'sw03', 'sw04', 'sw05', 'sw06', 'sw07', 'sw08', 'sw09', 'sw10', 'sw11', 'sw12', 'sw13', 'sw14', 'sw15', 'sw16', 'sw17', 'sw18', 'sw19', 'sw20', 'sw21', 'sw22', 'sw23', 'sw24', 'sw25', 'sw26', 'sw27', 'sw28', 'sw29', 'sw30', 'sw31', 'sw32', 'sw33', 'sw34', 'sw35', 'sw36', 'sw37', 'sw38', 'sw39', 'sw40', 'sw41', 'sw42', 'sw43', 'sw44', 'sw45', 'sw46', 'sw47', 'sw48', 'sw49', 'sw50', 'sw51', 'sw52', 'sw53', 'sw54', 'sw55', 'sw56', 'sw57', 'sw58', 'sw59', 'sw60', 'sw61', 'sw62', 'sw63', 'sw64', 'sw65', 'sw66', 'sw67', 'sw68', 'sw69', 'sw70', 'sw71', 'sw72', 'sw73', 'sw74', 'sw75', 'sw76', 'sw77', 'sw78', 'sw79', 'sw80', 'sw81', 'sw82', 'sw83', 'sw84', 'sw85', 'sw86', 'sw87', 'sw88', 'sw89', 'sw90', 'sw91', 'sw92', 'sw93', 'sw94', 'sw95', 'sw96', 'sw97', 'sw98', 'sw99', 'sx00', 'sx01', 'sx02', 'sx03', 'sx04', 'sx05', 'sx06', 'sx07', 'sx08', 'sx09', 'sx10', 'sx11', 'sx12', 'sx13', 'sx14', 'sx15', 'sx16', 'sx17', 'sx18', 'sx19', 'sx20', 'sx21', 'sx22', 'sx23', 'sx24', 'sx25', 'sx26', 'sx27', 'sx28', 'sx29', 'sx30', 'sx31', 'sx32', 'sx33', 'sx34', 'sx35', 'sx36', 'sx37', 'sx38', 'sx39', 'sx40', 'sx41', 'sx42', 'sx43', 'sx44', 'sx45', 'sx46', 'sx47', 'sx48', 'sx49', 'sx50', 'sx51', 'sx52', 'sx53', 'sx54', 'sx55', 'sx56', 'sx57', 'sx58', 'sx59', 'sx60', 'sx61', 'sx62', 'sx63', 'sx64', 'sx65', 'sx66', 'sx67', 'sx68', 'sx69', 'sx70', 'sx71', 'sx72', 'sx73', 'sx74', 'sx75', 'sx76', 'sx77', 'sx78', 'sx79', 'sx80', 'sx81', 'sx82', 'sx83', 'sx84', 'sx85', 'sx86', 'sx87', 'sx88', 'sx89', 'sx90', 'sx91', 'sx92', 'sx93', 'sx94', 'sx95', 'sx96', 'sx97', 'sx98', 'sx99', 'sy00', 'sy01', 'sy02', 'sy03', 'sy04', 'sy05', 'sy06', 'sy07', 'sy08', 'sy09', 'sy10', 'sy11', 'sy12', 'sy13', 'sy14', 'sy15', 'sy16', 'sy17', 'sy18', 'sy19', 'sy20', 'sy21', 'sy22', 'sy23', 'sy24', 'sy25', 'sy26', 'sy27', 'sy28', 'sy29', 'sy30', 'sy31', 'sy32', 'sy33', 'sy34', 'sy35', 'sy36', 'sy37', 'sy38', 'sy39', 'sy40', 'sy41', 'sy42', 'sy43', 'sy44', 'sy45', 'sy46', 'sy47', 'sy48', 'sy49', 'sy50', 'sy51', 'sy52', 'sy53', 'sy54', 'sy55', 'sy56', 'sy57', 'sy58', 'sy59', 'sy60', 'sy61', 'sy62', 'sy63', 'sy64', 'sy65', 'sy66', 'sy67', 'sy68', 'sy69', 'sy70', 'sy71', 'sy72', 'sy73', 'sy74', 'sy75', 'sy76', 'sy77', 'sy78', 'sy79', 'sy80', 'sy81', 'sy82', 'sy83', 'sy84', 'sy85', 'sy86', 'sy87', 'sy88', 'sy89', 'sy90', 'sy91', 'sy92', 'sy93', 'sy94', 'sy95', 'sy96', 'sy97', 'sy98', 'sy99', 'sz00', 'sz01', 'sz02', 'sz03', 'sz04', 'sz05', 'sz06', 'sz07', 'sz08', 'sz09', 'sz10', 'sz11', 'sz12', 'sz13', 'sz14', 'sz15', 'sz16', 'sz17', 'sz18', 'sz19', 'sz20', 'sz21', 'sz22', 'sz23', 'sz24', 'sz25', 'sz26', 'sz27', 'sz28', 'sz29', 'sz30', 'sz31', 'sz32', 'sz33', 'sz34', 'sz35', 'sz36', 'sz37', 'sz38', 'sz39', 'sz40', 'sz41', 'sz42', 'sz43', 'sz44', 'sz45', 'sz46', 'sz47', 'sz48', 'sz49', 'sz50', 'sz51', 'sz52', 'sz53', 'sz54', 'sz55', 'sz56', 'sz57', 'sz58', 'sz59', 'sz60', 'sz61', 'sz62', 'sz63', 'sz64', 'sz65', 'sz66', 'sz67', 'sz68', 'sz69', 'sz70', 'sz71', 'sz72', 'sz73', 'sz74', 'sz75', 'sz76', 'sz77', 'sz78', 'sz79', 'sz80', 'sz81', 'sz82', 'sz83', 'sz84', 'sz85', 'sz86', 'sz87', 'sz88', 'sz89', 'sz90', 'sz91', 'sz92', 'sz93', 'sz94', 'sz95', 'sz96', 'sz97', 'sz98', 'sz99', 'ta00', 'ta01', 'ta02', 'ta03', 'ta04', 'ta05', 'ta06', 'ta07', 'ta08', 'ta09', 'ta10', 'ta11', 'ta12', 'ta13', 'ta14', 'ta15', 'ta16', 'ta17', 'ta18', 'ta19', 'ta20', 'ta21', 'ta22', 'ta23', 'ta24', 'ta25', 'ta26', 'ta27', 'ta28', 'ta29', 'ta30', 'ta31', 'ta32', 'ta33', 'ta34', 'ta35', 'ta36', 'ta37', 'ta38', 'ta39', 'ta40', 'ta41', 'ta42', 'ta43', 'ta44', 'ta45', 'ta46', 'ta47', 'ta48', 'ta49', 'ta50', 'ta51', 'ta52', 'ta53', 'ta54', 'ta55', 'ta56', 'ta57', 'ta58', 'ta59', 'ta60', 'ta61', 'ta62', 'ta63', 'ta64', 'ta65', 'ta66', 'ta67', 'ta68', 'ta69', 'ta70', 'ta71', 'ta72', 'ta73', 'ta74', 'ta75', 'ta76', 'ta77', 'ta78', 'ta79', 'ta80', 'ta81', 'ta82', 'ta83', 'ta84', 'ta85', 'ta86', 'ta87', 'ta88', 'ta89', 'ta90', 'ta91', 'ta92', 'ta93', 'ta94', 'ta95', 'ta96', 'ta97', 'ta98', 'ta99', 'tb00', 'tb01', 'tb02', 'tb03', 'tb04', 'tb05', 'tb06', 'tb07', 'tb08', 'tb09', 'tb10', 'tb11', 'tb12', 'tb13', 'tb14', 'tb15', 'tb16', 'tb17', 'tb18', 'tb19', 'tb20', 'tb21', 'tb22', 'tb23', 'tb24', 'tb25', 'tb26', 'tb27', 'tb28', 'tb29', 'tb30', 'tb31', 'tb32', 'tb33', 'tb34', 'tb35', 'tb36', 'tb37', 'tb38', 'tb39', 'tb40', 'tb41', 'tb42', 'tb43', 'tb44', 'tb45', 'tb46', 'tb47', 'tb48', 'tb49', 'tb50', 'tb51', 'tb52', 'tb53', 'tb54', 'tb55', 'tb56', 'tb57', 'tb58', 'tb59', 'tb60', 'tb61', 'tb62', 'tb63', 'tb64', 'tb65', 'tb66', 'tb67', 'tb68', 'tb69', 'tb70', 'tb71', 'tb72', 'tb73', 'tb74', 'tb75', 'tb76', 'tb77', 'tb78', 'tb79', 'tb80', 'tb81', 'tb82', 'tb83', 'tb84', 'tb85', 'tb86', 'tb87', 'tb88', 'tb89', 'tb90', 'tb91', 'tb92', 'tb93', 'tb94', 'tb95', 'tb96', 'tb97', 'tb98', 'tb99', 'tc00', 'tc01', 'tc02', 'tc03', 'tc04', 'tc05', 'tc06', 'tc07', 'tc08', 'tc09', 'tc10', 'tc11', 'tc12', 'tc13', 'tc14', 'tc15', 'tc16', 'tc17', 'tc18', 'tc19', 'tc20', 'tc21', 'tc22', 'tc23', 'tc24', 'tc25', 'tc26', 'tc27', 'tc28', 'tc29', 'tc30', 'tc31', 'tc32', 'tc33', 'tc34', 'tc35', 'tc36', 'tc37', 'tc38', 'tc39', 'tc40', 'tc41', 'tc42', 'tc43', 'tc44', 'tc45', 'tc46', 'tc47', 'tc48', 'tc49', 'tc50', 'tc51', 'tc52', 'tc53', 'tc54', 'tc55', 'tc56', 'tc57', 'tc58', 'tc59', 'tc60', 'tc61', 'tc62', 'tc63', 'tc64', 'tc65', 'tc66', 'tc67', 'tc68', 'tc69', 'tc70', 'tc71', 'tc72', 'tc73', 'tc74', 'tc75', 'tc76', 'tc77', 'tc78', 'tc79', 'tc80', 'tc81', 'tc82', 'tc83', 'tc84', 'tc85', 'tc86', 'tc87', 'tc88', 'tc89', 'tc90', 'tc91', 'tc92', 'tc93', 'tc94', 'tc95', 'tc96', 'tc97', 'tc98', 'tc99', 'td00', 'td01', 'td02', 'td03', 'td04', 'td05', 'td06', 'td07', 'td08', 'td09', 'td10', 'td11', 'td12', 'td13', 'td14', 'td15', 'td16', 'td17', 'td18', 'td19', 'td20', 'td21', 'td22', 'td23', 'td24', 'td25', 'td26', 'td27', 'td28', 'td29', 'td30', 'td31', 'td32', 'td33', 'td34', 'td35', 'td36', 'td37', 'td38', 'td39', 'td40', 'td41', 'td42', 'td43', 'td44', 'td45', 'td46', 'td47', 'td48', 'td49', 'td50', 'td51', 'td52', 'td53', 'td54', 'td55', 'td56', 'td57', 'td58', 'td59', 'td60', 'td61', 'td62', 'td63', 'td64', 'td65', 'td66', 'td67', 'td68', 'td69', 'td70', 'td71', 'td72', 'td73', 'td74', 'td75', 'td76', 'td77', 'td78', 'td79', 'td80', 'td81', 'td82', 'td83', 'td84', 'td85', 'td86', 'td87', 'td88', 'td89', 'td90', 'td91', 'td92', 'td93', 'td94', 'td95', 'td96', 'td97', 'td98', 'td99', 'te00', 'te01', 'te02', 'te03', 'te04', 'te05', 'te06', 'te07', 'te08', 'te09', 'te10', 'te11', 'te12', 'te13', 'te14', 'te15', 'te16', 'te17', 'te18', 'te19', 'te20', 'te21', 'te22', 'te23', 'te24', 'te25', 'te26', 'te27', 'te28', 'te29', 'te30', 'te31', 'te32', 'te33', 'te34', 'te35', 'te36', 'te37', 'te38', 'te39', 'te40', 'te41', 'te42', 'te43', 'te44', 'te45', 'te46', 'te47', 'te48', 'te49', 'te50', 'te51', 'te52', 'te53', 'te54', 'te55', 'te56', 'te57', 'te58', 'te59', 'te60', 'te61', 'te62', 'te63', 'te64', 'te65', 'te66', 'te67', 'te68', 'te69', 'te70', 'te71', 'te72', 'te73', 'te74', 'te75', 'te76', 'te77', 'te78', 'te79', 'te80', 'te81', 'te82', 'te83', 'te84', 'te85', 'te86', 'te87', 'te88', 'te89', 'te90', 'te91', 'te92', 'te93', 'te94', 'te95', 'te96', 'te97', 'te98', 'te99', 'tf00', 'tf01', 'tf02', 'tf03', 'tf04', 'tf05', 'tf06', 'tf07', 'tf08', 'tf09', 'tf10', 'tf11', 'tf12', 'tf13', 'tf14', 'tf15', 'tf16', 'tf17', 'tf18', 'tf19', 'tf20', 'tf21', 'tf22', 'tf23', 'tf24', 'tf25', 'tf26', 'tf27', 'tf28', 'tf29', 'tf30', 'tf31', 'tf32', 'tf33', 'tf34', 'tf35', 'tf36', 'tf37', 'tf38', 'tf39', 'tf40', 'tf41', 'tf42', 'tf43', 'tf44', 'tf45', 'tf46', 'tf47', 'tf48', 'tf49', 'tf50', 'tf51', 'tf52', 'tf53', 'tf54', 'tf55', 'tf56', 'tf57', 'tf58', 'tf59', 'tf60', 'tf61', 'tf62', 'tf63', 'tf64', 'tf65', 'tf66', 'tf67', 'tf68', 'tf69', 'tf70', 'tf71', 'tf72', 'tf73', 'tf74', 'tf75', 'tf76', 'tf77', 'tf78', 'tf79', 'tf80', 'tf81', 'tf82', 'tf83', 'tf84', 'tf85', 'tf86', 'tf87', 'tf88', 'tf89', 'tf90', 'tf91', 'tf92', 'tf93', 'tf94', 'tf95', 'tf96', 'tf97', 'tf98', 'tf99', 'tg00', 'tg01', 'tg02', 'tg03', 'tg04', 'tg05', 'tg06', 'tg07', 'tg08', 'tg09', 'tg10', 'tg11', 'tg12', 'tg13', 'tg14', 'tg15', 'tg16', 'tg17', 'tg18', 'tg19', 'tg20', 'tg21', 'tg22', 'tg23', 'tg24', 'tg25', 'tg26', 'tg27', 'tg28', 'tg29', 'tg30', 'tg31', 'tg32', 'tg33', 'tg34', 'tg35', 'tg36', 'tg37', 'tg38', 'tg39', 'tg40', 'tg41', 'tg42', 'tg43', 'tg44', 'tg45', 'tg46', 'tg47', 'tg48', 'tg49', 'tg50', 'tg51', 'tg52', 'tg53', 'tg54', 'tg55', 'tg56', 'tg57', 'tg58', 'tg59', 'tg60', 'tg61', 'tg62', 'tg63', 'tg64', 'tg65', 'tg66', 'tg67', 'tg68', 'tg69', 'tg70', 'tg71', 'tg72', 'tg73', 'tg74', 'tg75', 'tg76', 'tg77', 'tg78', 'tg79', 'tg80', 'tg81', 'tg82', 'tg83', 'tg84', 'tg85', 'tg86', 'tg87', 'tg88', 'tg89', 'tg90', 'tg91', 'tg92', 'tg93', 'tg94', 'tg95', 'tg96', 'tg97', 'tg98', 'tg99', 'th00', 'th01', 'th02', 'th03', 'th04', 'th05', 'th06', 'th07', 'th08', 'th09', 'th10', 'th11', 'th12', 'th13', 'th14', 'th15', 'th16', 'th17', 'th18', 'th19', 'th20', 'th21', 'th22', 'th23', 'th24', 'th25', 'th26', 'th27', 'th28', 'th29', 'th30', 'th31', 'th32', 'th33', 'th34', 'th35', 'th36', 'th37', 'th38', 'th39', 'th40', 'th41', 'th42', 'th43', 'th44', 'th45', 'th46', 'th47', 'th48', 'th49', 'th50', 'th51', 'th52', 'th53', 'th54', 'th55', 'th56', 'th57', 'th58', 'th59', 'th60', 'th61', 'th62', 'th63', 'th64', 'th65', 'th66', 'th67', 'th68', 'th69', 'th70', 'th71', 'th72', 'th73', 'th74', 'th75', 'th76', 'th77', 'th78', 'th79', 'th80', 'th81', 'th82', 'th83', 'th84', 'th85', 'th86', 'th87', 'th88', 'th89', 'th90', 'th91', 'th92', 'th93', 'th94', 'th95', 'th96', 'th97', 'th98', 'th99', 'ti00', 'ti01', 'ti02', 'ti03', 'ti04', 'ti05', 'ti06', 'ti07', 'ti08', 'ti09', 'ti10', 'ti11', 'ti12', 'ti13', 'ti14', 'ti15', 'ti16', 'ti17', 'ti18', 'ti19', 'ti20', 'ti21', 'ti22', 'ti23', 'ti24', 'ti25', 'ti26', 'ti27', 'ti28', 'ti29', 'ti30', 'ti31', 'ti32', 'ti33', 'ti34', 'ti35', 'ti36', 'ti37', 'ti38', 'ti39', 'ti40', 'ti41', 'ti42', 'ti43', 'ti44', 'ti45', 'ti46', 'ti47', 'ti48', 'ti49', 'ti50', 'ti51', 'ti52', 'ti53', 'ti54', 'ti55', 'ti56', 'ti57', 'ti58', 'ti59', 'ti60', 'ti61', 'ti62', 'ti63', 'ti64', 'ti65', 'ti66', 'ti67', 'ti68', 'ti69', 'ti70', 'ti71', 'ti72', 'ti73', 'ti74', 'ti75', 'ti76', 'ti77', 'ti78', 'ti79', 'ti80', 'ti81', 'ti82', 'ti83', 'ti84', 'ti85', 'ti86', 'ti87', 'ti88', 'ti89', 'ti90', 'ti91', 'ti92', 'ti93', 'ti94', 'ti95', 'ti96', 'ti97', 'ti98', 'ti99', 'tj00', 'tj01', 'tj02', 'tj03', 'tj04', 'tj05', 'tj06', 'tj07', 'tj08', 'tj09', 'tj10', 'tj11', 'tj12', 'tj13', 'tj14', 'tj15', 'tj16', 'tj17', 'tj18', 'tj19', 'tj20', 'tj21', 'tj22', 'tj23', 'tj24', 'tj25', 'tj26', 'tj27', 'tj28', 'tj29', 'tj30', 'tj31', 'tj32', 'tj33', 'tj34', 'tj35', 'tj36', 'tj37', 'tj38', 'tj39', 'tj40', 'tj41', 'tj42', 'tj43', 'tj44', 'tj45', 'tj46', 'tj47', 'tj48', 'tj49', 'tj50', 'tj51', 'tj52', 'tj53', 'tj54', 'tj55', 'tj56', 'tj57', 'tj58', 'tj59', 'tj60', 'tj61', 'tj62', 'tj63', 'tj64', 'tj65', 'tj66', 'tj67', 'tj68', 'tj69', 'tj70', 'tj71', 'tj72', 'tj73', 'tj74', 'tj75', 'tj76', 'tj77', 'tj78', 'tj79', 'tj80', 'tj81', 'tj82', 'tj83', 'tj84', 'tj85', 'tj86', 'tj87', 'tj88', 'tj89', 'tj90', 'tj91', 'tj92', 'tj93', 'tj94', 'tj95', 'tj96', 'tj97', 'tj98', 'tj99', 'tk00', 'tk01', 'tk02', 'tk03', 'tk04', 'tk05', 'tk06', 'tk07', 'tk08', 'tk09', 'tk10', 'tk11', 'tk12', 'tk13', 'tk14', 'tk15', 'tk16', 'tk17', 'tk18', 'tk19', 'tk20', 'tk21', 'tk22', 'tk23', 'tk24', 'tk25', 'tk26', 'tk27', 'tk28', 'tk29', 'tk30', 'tk31', 'tk32', 'tk33', 'tk34', 'tk35', 'tk36', 'tk37', 'tk38', 'tk39', 'tk40', 'tk41', 'tk42', 'tk43', 'tk44', 'tk45', 'tk46', 'tk47', 'tk48', 'tk49', 'tk50', 'tk51', 'tk52', 'tk53', 'tk54', 'tk55', 'tk56', 'tk57', 'tk58', 'tk59', 'tk60', 'tk61', 'tk62', 'tk63', 'tk64', 'tk65', 'tk66', 'tk67', 'tk68', 'tk69', 'tk70', 'tk71', 'tk72', 'tk73', 'tk74', 'tk75', 'tk76', 'tk77', 'tk78', 'tk79', 'tk80', 'tk81', 'tk82', 'tk83', 'tk84', 'tk85', 'tk86', 'tk87', 'tk88', 'tk89', 'tk90', 'tk91', 'tk92', 'tk93', 'tk94', 'tk95', 'tk96', 'tk97', 'tk98', 'tk99', 'tl00', 'tl01', 'tl02', 'tl03', 'tl04', 'tl05', 'tl06', 'tl07', 'tl08', 'tl09', 'tl10', 'tl11', 'tl12', 'tl13', 'tl14', 'tl15', 'tl16', 'tl17', 'tl18', 'tl19', 'tl20', 'tl21', 'tl22', 'tl23', 'tl24', 'tl25', 'tl26', 'tl27', 'tl28', 'tl29', 'tl30', 'tl31', 'tl32', 'tl33', 'tl34', 'tl35', 'tl36', 'tl37', 'tl38', 'tl39', 'tl40', 'tl41', 'tl42', 'tl43', 'tl44', 'tl45', 'tl46', 'tl47', 'tl48', 'tl49', 'tl50', 'tl51', 'tl52', 'tl53', 'tl54', 'tl55', 'tl56', 'tl57', 'tl58', 'tl59', 'tl60', 'tl61', 'tl62', 'tl63', 'tl64', 'tl65', 'tl66', 'tl67', 'tl68', 'tl69', 'tl70', 'tl71', 'tl72', 'tl73', 'tl74', 'tl75', 'tl76', 'tl77', 'tl78', 'tl79', 'tl80', 'tl81', 'tl82', 'tl83', 'tl84', 'tl85', 'tl86', 'tl87', 'tl88', 'tl89', 'tl90', 'tl91', 'tl92', 'tl93', 'tl94', 'tl95', 'tl96', 'tl97', 'tl98', 'tl99', 'tm00', 'tm01', 'tm02', 'tm03', 'tm04', 'tm05', 'tm06', 'tm07', 'tm08', 'tm09', 'tm10', 'tm11', 'tm12', 'tm13', 'tm14', 'tm15', 'tm16', 'tm17', 'tm18', 'tm19', 'tm20', 'tm21', 'tm22', 'tm23', 'tm24', 'tm25', 'tm26', 'tm27', 'tm28', 'tm29', 'tm30', 'tm31', 'tm32', 'tm33', 'tm34', 'tm35', 'tm36', 'tm37', 'tm38', 'tm39', 'tm40', 'tm41', 'tm42', 'tm43', 'tm44', 'tm45', 'tm46', 'tm47', 'tm48', 'tm49', 'tm50', 'tm51', 'tm52', 'tm53', 'tm54', 'tm55', 'tm56', 'tm57', 'tm58', 'tm59', 'tm60', 'tm61', 'tm62', 'tm63', 'tm64', 'tm65', 'tm66', 'tm67', 'tm68', 'tm69', 'tm70', 'tm71', 'tm72', 'tm73', 'tm74', 'tm75', 'tm76', 'tm77', 'tm78', 'tm79', 'tm80', 'tm81', 'tm82', 'tm83', 'tm84', 'tm85', 'tm86', 'tm87', 'tm88', 'tm89', 'tm90', 'tm91', 'tm92', 'tm93', 'tm94', 'tm95', 'tm96', 'tm97', 'tm98', 'tm99', 'tn00', 'tn01', 'tn02', 'tn03', 'tn04', 'tn05', 'tn06', 'tn07', 'tn08', 'tn09', 'tn10', 'tn11', 'tn12', 'tn13', 'tn14', 'tn15', 'tn16', 'tn17', 'tn18', 'tn19', 'tn20', 'tn21', 'tn22', 'tn23', 'tn24', 'tn25', 'tn26', 'tn27', 'tn28', 'tn29', 'tn30', 'tn31', 'tn32', 'tn33', 'tn34', 'tn35', 'tn36', 'tn37', 'tn38', 'tn39', 'tn40', 'tn41', 'tn42', 'tn43', 'tn44', 'tn45', 'tn46', 'tn47', 'tn48', 'tn49', 'tn50', 'tn51', 'tn52', 'tn53', 'tn54', 'tn55', 'tn56', 'tn57', 'tn58', 'tn59', 'tn60', 'tn61', 'tn62', 'tn63', 'tn64', 'tn65', 'tn66', 'tn67', 'tn68', 'tn69', 'tn70', 'tn71', 'tn72', 'tn73', 'tn74', 'tn75', 'tn76', 'tn77', 'tn78', 'tn79', 'tn80', 'tn81', 'tn82', 'tn83', 'tn84', 'tn85', 'tn86', 'tn87', 'tn88', 'tn89', 'tn90', 'tn91', 'tn92', 'tn93', 'tn94', 'tn95', 'tn96', 'tn97', 'tn98', 'tn99', 'to00', 'to01', 'to02', 'to03', 'to04', 'to05', 'to06', 'to07', 'to08', 'to09', 'to10', 'to11', 'to12', 'to13', 'to14', 'to15', 'to16', 'to17', 'to18', 'to19', 'to20', 'to21', 'to22', 'to23', 'to24', 'to25', 'to26', 'to27', 'to28', 'to29', 'to30', 'to31', 'to32', 'to33', 'to34', 'to35', 'to36', 'to37', 'to38', 'to39', 'to40', 'to41', 'to42', 'to43', 'to44', 'to45', 'to46', 'to47', 'to48', 'to49', 'to50', 'to51', 'to52', 'to53', 'to54', 'to55', 'to56', 'to57', 'to58', 'to59', 'to60', 'to61', 'to62', 'to63', 'to64', 'to65', 'to66', 'to67', 'to68', 'to69', 'to70', 'to71', 'to72', 'to73', 'to74', 'to75', 'to76', 'to77', 'to78', 'to79', 'to80', 'to81', 'to82', 'to83', 'to84', 'to85', 'to86', 'to87', 'to88', 'to89', 'to90', 'to91', 'to92', 'to93', 'to94', 'to95', 'to96', 'to97', 'to98', 'to99', 'tp00', 'tp01', 'tp02', 'tp03', 'tp04', 'tp05', 'tp06', 'tp07', 'tp08', 'tp09', 'tp10', 'tp11', 'tp12', 'tp13', 'tp14', 'tp15', 'tp16', 'tp17', 'tp18', 'tp19', 'tp20', 'tp21', 'tp22', 'tp23', 'tp24', 'tp25', 'tp26', 'tp27', 'tp28', 'tp29', 'tp30', 'tp31', 'tp32', 'tp33', 'tp34', 'tp35', 'tp36', 'tp37', 'tp38', 'tp39', 'tp40', 'tp41', 'tp42', 'tp43', 'tp44', 'tp45', 'tp46', 'tp47', 'tp48', 'tp49', 'tp50', 'tp51', 'tp52', 'tp53', 'tp54', 'tp55', 'tp56', 'tp57', 'tp58', 'tp59', 'tp60', 'tp61', 'tp62', 'tp63', 'tp64', 'tp65', 'tp66', 'tp67', 'tp68', 'tp69', 'tp70', 'tp71', 'tp72', 'tp73', 'tp74', 'tp75', 'tp76', 'tp77', 'tp78', 'tp79', 'tp80', 'tp81', 'tp82', 'tp83', 'tp84', 'tp85', 'tp86', 'tp87', 'tp88', 'tp89', 'tp90', 'tp91', 'tp92', 'tp93', 'tp94', 'tp95', 'tp96', 'tp97', 'tp98', 'tp99', 'tq00', 'tq01', 'tq02', 'tq03', 'tq04', 'tq05', 'tq06', 'tq07', 'tq08', 'tq09', 'tq10', 'tq11', 'tq12', 'tq13', 'tq14', 'tq15', 'tq16', 'tq17', 'tq18', 'tq19', 'tq20', 'tq21', 'tq22', 'tq23', 'tq24', 'tq25', 'tq26', 'tq27', 'tq28', 'tq29', 'tq30', 'tq31', 'tq32', 'tq33', 'tq34', 'tq35', 'tq36', 'tq37', 'tq38', 'tq39', 'tq40', 'tq41', 'tq42', 'tq43', 'tq44', 'tq45', 'tq46', 'tq47', 'tq48', 'tq49', 'tq50', 'tq51', 'tq52', 'tq53', 'tq54', 'tq55', 'tq56', 'tq57', 'tq58', 'tq59', 'tq60', 'tq61', 'tq62', 'tq63', 'tq64', 'tq65', 'tq66', 'tq67', 'tq68', 'tq69', 'tq70', 'tq71', 'tq72', 'tq73', 'tq74', 'tq75', 'tq76', 'tq77', 'tq78', 'tq79', 'tq80', 'tq81', 'tq82', 'tq83', 'tq84', 'tq85', 'tq86', 'tq87', 'tq88', 'tq89', 'tq90', 'tq91', 'tq92', 'tq93', 'tq94', 'tq95', 'tq96', 'tq97', 'tq98', 'tq99', 'tr00', 'tr01', 'tr02', 'tr03', 'tr04', 'tr05', 'tr06', 'tr07', 'tr08', 'tr09', 'tr10', 'tr11', 'tr12', 'tr13', 'tr14', 'tr15', 'tr16', 'tr17', 'tr18', 'tr19', 'tr20', 'tr21', 'tr22', 'tr23', 'tr24', 'tr25', 'tr26', 'tr27', 'tr28', 'tr29', 'tr30', 'tr31', 'tr32', 'tr33', 'tr34', 'tr35', 'tr36', 'tr37', 'tr38', 'tr39', 'tr40', 'tr41', 'tr42', 'tr43', 'tr44', 'tr45', 'tr46', 'tr47', 'tr48', 'tr49', 'tr50', 'tr51', 'tr52', 'tr53', 'tr54', 'tr55', 'tr56', 'tr57', 'tr58', 'tr59', 'tr60', 'tr61', 'tr62', 'tr63', 'tr64', 'tr65', 'tr66', 'tr67', 'tr68', 'tr69', 'tr70', 'tr71', 'tr72', 'tr73', 'tr74', 'tr75', 'tr76', 'tr77', 'tr78', 'tr79', 'tr80', 'tr81', 'tr82', 'tr83', 'tr84', 'tr85', 'tr86', 'tr87', 'tr88', 'tr89', 'tr90', 'tr91', 'tr92', 'tr93', 'tr94', 'tr95', 'tr96', 'tr97', 'tr98', 'tr99', 'ts00', 'ts01', 'ts02', 'ts03', 'ts04', 'ts05', 'ts06', 'ts07', 'ts08', 'ts09', 'ts10', 'ts11', 'ts12', 'ts13', 'ts14', 'ts15', 'ts16', 'ts17', 'ts18', 'ts19', 'ts20', 'ts21', 'ts22', 'ts23', 'ts24', 'ts25', 'ts26', 'ts27', 'ts28', 'ts29', 'ts30', 'ts31', 'ts32', 'ts33', 'ts34', 'ts35', 'ts36', 'ts37', 'ts38', 'ts39', 'ts40', 'ts41', 'ts42', 'ts43', 'ts44', 'ts45', 'ts46', 'ts47', 'ts48', 'ts49', 'ts50', 'ts51', 'ts52', 'ts53', 'ts54', 'ts55', 'ts56', 'ts57', 'ts58', 'ts59', 'ts60', 'ts61', 'ts62', 'ts63', 'ts64', 'ts65', 'ts66', 'ts67', 'ts68', 'ts69', 'ts70', 'ts71', 'ts72', 'ts73', 'ts74', 'ts75', 'ts76', 'ts77', 'ts78', 'ts79', 'ts80', 'ts81', 'ts82', 'ts83', 'ts84', 'ts85', 'ts86', 'ts87', 'ts88', 'ts89', 'ts90', 'ts91', 'ts92', 'ts93', 'ts94', 'ts95', 'ts96', 'ts97', 'ts98', 'ts99', 'tt00', 'tt01', 'tt02', 'tt03', 'tt04', 'tt05', 'tt06', 'tt07', 'tt08', 'tt09', 'tt10', 'tt11', 'tt12', 'tt13', 'tt14', 'tt15', 'tt16', 'tt17', 'tt18', 'tt19', 'tt20', 'tt21', 'tt22', 'tt23', 'tt24', 'tt25', 'tt26', 'tt27', 'tt28', 'tt29', 'tt30', 'tt31', 'tt32', 'tt33', 'tt34', 'tt35', 'tt36', 'tt37', 'tt38', 'tt39', 'tt40', 'tt41', 'tt42', 'tt43', 'tt44', 'tt45', 'tt46', 'tt47', 'tt48', 'tt49', 'tt50', 'tt51', 'tt52', 'tt53', 'tt54', 'tt55', 'tt56', 'tt57', 'tt58', 'tt59', 'tt60', 'tt61', 'tt62', 'tt63', 'tt64', 'tt65', 'tt66', 'tt67', 'tt68', 'tt69', 'tt70', 'tt71', 'tt72', 'tt73', 'tt74', 'tt75', 'tt76', 'tt77', 'tt78', 'tt79', 'tt80', 'tt81', 'tt82', 'tt83', 'tt84', 'tt85', 'tt86', 'tt87', 'tt88', 'tt89', 'tt90', 'tt91', 'tt92', 'tt93', 'tt94', 'tt95', 'tt96', 'tt97', 'tt98', 'tt99', 'tu00', 'tu01', 'tu02', 'tu03', 'tu04', 'tu05', 'tu06', 'tu07', 'tu08', 'tu09', 'tu10', 'tu11', 'tu12', 'tu13', 'tu14', 'tu15', 'tu16', 'tu17', 'tu18', 'tu19', 'tu20', 'tu21', 'tu22', 'tu23', 'tu24', 'tu25', 'tu26', 'tu27', 'tu28', 'tu29', 'tu30', 'tu31', 'tu32', 'tu33', 'tu34', 'tu35', 'tu36', 'tu37', 'tu38', 'tu39', 'tu40', 'tu41', 'tu42', 'tu43', 'tu44', 'tu45', 'tu46', 'tu47', 'tu48', 'tu49', 'tu50', 'tu51', 'tu52', 'tu53', 'tu54', 'tu55', 'tu56', 'tu57', 'tu58', 'tu59', 'tu60', 'tu61', 'tu62', 'tu63', 'tu64', 'tu65', 'tu66', 'tu67', 'tu68', 'tu69', 'tu70', 'tu71', 'tu72', 'tu73', 'tu74', 'tu75', 'tu76', 'tu77', 'tu78', 'tu79', 'tu80', 'tu81', 'tu82', 'tu83', 'tu84', 'tu85', 'tu86', 'tu87', 'tu88', 'tu89', 'tu90', 'tu91', 'tu92', 'tu93', 'tu94', 'tu95', 'tu96', 'tu97', 'tu98', 'tu99', 'tv00', 'tv01', 'tv02', 'tv03', 'tv04', 'tv05', 'tv06', 'tv07', 'tv08', 'tv09', 'tv10', 'tv11', 'tv12', 'tv13', 'tv14', 'tv15', 'tv16', 'tv17', 'tv18', 'tv19', 'tv20', 'tv21', 'tv22', 'tv23', 'tv24', 'tv25', 'tv26', 'tv27', 'tv28', 'tv29', 'tv30', 'tv31', 'tv32', 'tv33', 'tv34', 'tv35', 'tv36', 'tv37', 'tv38', 'tv39', 'tv40', 'tv41', 'tv42', 'tv43', 'tv44', 'tv45', 'tv46', 'tv47', 'tv48', 'tv49', 'tv50', 'tv51', 'tv52', 'tv53', 'tv54', 'tv55', 'tv56', 'tv57', 'tv58', 'tv59', 'tv60', 'tv61', 'tv62', 'tv63', 'tv64', 'tv65', 'tv66', 'tv67', 'tv68', 'tv69', 'tv70', 'tv71', 'tv72', 'tv73', 'tv74', 'tv75', 'tv76', 'tv77', 'tv78', 'tv79', 'tv80', 'tv81', 'tv82', 'tv83', 'tv84', 'tv85', 'tv86', 'tv87', 'tv88', 'tv89', 'tv90', 'tv91', 'tv92', 'tv93', 'tv94', 'tv95', 'tv96', 'tv97', 'tv98', 'tv99', 'tw00', 'tw01', 'tw02', 'tw03', 'tw04', 'tw05', 'tw06', 'tw07', 'tw08', 'tw09', 'tw10', 'tw11', 'tw12', 'tw13', 'tw14', 'tw15', 'tw16', 'tw17', 'tw18', 'tw19', 'tw20', 'tw21', 'tw22', 'tw23', 'tw24', 'tw25', 'tw26', 'tw27', 'tw28', 'tw29', 'tw30', 'tw31', 'tw32', 'tw33', 'tw34', 'tw35', 'tw36', 'tw37', 'tw38', 'tw39', 'tw40', 'tw41', 'tw42', 'tw43', 'tw44', 'tw45', 'tw46', 'tw47', 'tw48', 'tw49', 'tw50', 'tw51', 'tw52', 'tw53', 'tw54', 'tw55', 'tw56', 'tw57', 'tw58', 'tw59', 'tw60', 'tw61', 'tw62', 'tw63', 'tw64', 'tw65', 'tw66', 'tw67', 'tw68', 'tw69', 'tw70', 'tw71', 'tw72', 'tw73', 'tw74', 'tw75', 'tw76', 'tw77', 'tw78', 'tw79', 'tw80', 'tw81', 'tw82', 'tw83', 'tw84', 'tw85', 'tw86', 'tw87', 'tw88', 'tw89', 'tw90', 'tw91', 'tw92', 'tw93', 'tw94', 'tw95', 'tw96', 'tw97', 'tw98', 'tw99', 'tx00', 'tx01', 'tx02', 'tx03', 'tx04', 'tx05', 'tx06', 'tx07', 'tx08', 'tx09', 'tx10', 'tx11', 'tx12', 'tx13', 'tx14', 'tx15', 'tx16', 'tx17', 'tx18', 'tx19', 'tx20', 'tx21', 'tx22', 'tx23', 'tx24', 'tx25', 'tx26', 'tx27', 'tx28', 'tx29', 'tx30', 'tx31', 'tx32', 'tx33', 'tx34', 'tx35', 'tx36', 'tx37', 'tx38', 'tx39', 'tx40', 'tx41', 'tx42', 'tx43', 'tx44', 'tx45', 'tx46', 'tx47', 'tx48', 'tx49', 'tx50', 'tx51', 'tx52', 'tx53', 'tx54', 'tx55', 'tx56', 'tx57', 'tx58', 'tx59', 'tx60', 'tx61', 'tx62', 'tx63', 'tx64', 'tx65', 'tx66', 'tx67', 'tx68', 'tx69', 'tx70', 'tx71', 'tx72', 'tx73', 'tx74', 'tx75', 'tx76', 'tx77', 'tx78', 'tx79', 'tx80', 'tx81', 'tx82', 'tx83', 'tx84', 'tx85', 'tx86', 'tx87', 'tx88', 'tx89', 'tx90', 'tx91', 'tx92', 'tx93', 'tx94', 'tx95', 'tx96', 'tx97', 'tx98', 'tx99', 'ty00', 'ty01', 'ty02', 'ty03', 'ty04', 'ty05', 'ty06', 'ty07', 'ty08', 'ty09', 'ty10', 'ty11', 'ty12', 'ty13', 'ty14', 'ty15', 'ty16', 'ty17', 'ty18', 'ty19', 'ty20', 'ty21', 'ty22', 'ty23', 'ty24', 'ty25', 'ty26', 'ty27', 'ty28', 'ty29', 'ty30', 'ty31', 'ty32', 'ty33', 'ty34', 'ty35', 'ty36', 'ty37', 'ty38', 'ty39', 'ty40', 'ty41', 'ty42', 'ty43', 'ty44', 'ty45', 'ty46', 'ty47', 'ty48', 'ty49', 'ty50', 'ty51', 'ty52', 'ty53', 'ty54', 'ty55', 'ty56', 'ty57', 'ty58', 'ty59', 'ty60', 'ty61', 'ty62', 'ty63', 'ty64', 'ty65', 'ty66', 'ty67', 'ty68', 'ty69', 'ty70', 'ty71', 'ty72', 'ty73', 'ty74', 'ty75', 'ty76', 'ty77', 'ty78', 'ty79', 'ty80', 'ty81', 'ty82', 'ty83', 'ty84', 'ty85', 'ty86', 'ty87', 'ty88', 'ty89', 'ty90', 'ty91', 'ty92', 'ty93', 'ty94', 'ty95', 'ty96', 'ty97', 'ty98', 'ty99', 'tz00', 'tz01', 'tz02', 'tz03', 'tz04', 'tz05', 'tz06', 'tz07', 'tz08', 'tz09', 'tz10', 'tz11', 'tz12', 'tz13', 'tz14', 'tz15', 'tz16', 'tz17', 'tz18', 'tz19', 'tz20', 'tz21', 'tz22', 'tz23', 'tz24', 'tz25', 'tz26', 'tz27', 'tz28', 'tz29', 'tz30', 'tz31', 'tz32', 'tz33', 'tz34', 'tz35', 'tz36', 'tz37', 'tz38', 'tz39', 'tz40', 'tz41', 'tz42', 'tz43', 'tz44', 'tz45', 'tz46', 'tz47', 'tz48', 'tz49', 'tz50', 'tz51', 'tz52', 'tz53', 'tz54', 'tz55', 'tz56', 'tz57', 'tz58', 'tz59', 'tz60', 'tz61', 'tz62', 'tz63', 'tz64', 'tz65', 'tz66', 'tz67', 'tz68', 'tz69', 'tz70', 'tz71', 'tz72', 'tz73', 'tz74', 'tz75', 'tz76', 'tz77', 'tz78', 'tz79', 'tz80', 'tz81', 'tz82', 'tz83', 'tz84', 'tz85', 'tz86', 'tz87', 'tz88', 'tz89', 'tz90', 'tz91', 'tz92', 'tz93', 'tz94', 'tz95', 'tz96', 'tz97', 'tz98', 'tz99', 'ua00', 'ua01', 'ua02', 'ua03', 'ua04', 'ua05', 'ua06', 'ua07', 'ua08', 'ua09', 'ua10', 'ua11', 'ua12', 'ua13', 'ua14', 'ua15', 'ua16', 'ua17', 'ua18', 'ua19', 'ua20', 'ua21', 'ua22', 'ua23', 'ua24', 'ua25', 'ua26', 'ua27', 'ua28', 'ua29', 'ua30', 'ua31', 'ua32', 'ua33', 'ua34', 'ua35', 'ua36', 'ua37', 'ua38', 'ua39', 'ua40', 'ua41', 'ua42', 'ua43', 'ua44', 'ua45', 'ua46', 'ua47', 'ua48', 'ua49', 'ua50', 'ua51', 'ua52', 'ua53', 'ua54', 'ua55', 'ua56', 'ua57', 'ua58', 'ua59', 'ua60', 'ua61', 'ua62', 'ua63', 'ua64', 'ua65', 'ua66', 'ua67', 'ua68', 'ua69', 'ua70', 'ua71', 'ua72', 'ua73', 'ua74', 'ua75', 'ua76', 'ua77', 'ua78', 'ua79', 'ua80', 'ua81', 'ua82', 'ua83', 'ua84', 'ua85', 'ua86', 'ua87', 'ua88', 'ua89', 'ua90', 'ua91', 'ua92', 'ua93', 'ua94', 'ua95', 'ua96', 'ua97', 'ua98', 'ua99', 'ub00', 'ub01', 'ub02', 'ub03', 'ub04', 'ub05', 'ub06', 'ub07', 'ub08', 'ub09', 'ub10', 'ub11', 'ub12', 'ub13', 'ub14', 'ub15', 'ub16', 'ub17', 'ub18', 'ub19', 'ub20', 'ub21', 'ub22', 'ub23', 'ub24', 'ub25', 'ub26', 'ub27', 'ub28', 'ub29', 'ub30', 'ub31', 'ub32', 'ub33', 'ub34', 'ub35', 'ub36', 'ub37', 'ub38', 'ub39', 'ub40', 'ub41', 'ub42', 'ub43', 'ub44', 'ub45', 'ub46', 'ub47', 'ub48', 'ub49', 'ub50', 'ub51', 'ub52', 'ub53', 'ub54', 'ub55', 'ub56', 'ub57', 'ub58', 'ub59', 'ub60', 'ub61', 'ub62', 'ub63', 'ub64', 'ub65', 'ub66', 'ub67', 'ub68', 'ub69', 'ub70', 'ub71', 'ub72', 'ub73', 'ub74', 'ub75', 'ub76', 'ub77', 'ub78', 'ub79', 'ub80', 'ub81', 'ub82', 'ub83', 'ub84', 'ub85', 'ub86', 'ub87', 'ub88', 'ub89', 'ub90', 'ub91', 'ub92', 'ub93', 'ub94', 'ub95', 'ub96', 'ub97', 'ub98', 'ub99', 'uc00', 'uc01', 'uc02', 'uc03', 'uc04', 'uc05', 'uc06', 'uc07', 'uc08', 'uc09', 'uc10', 'uc11', 'uc12', 'uc13', 'uc14', 'uc15', 'uc16', 'uc17', 'uc18', 'uc19', 'uc20', 'uc21', 'uc22', 'uc23', 'uc24', 'uc25', 'uc26', 'uc27', 'uc28', 'uc29', 'uc30', 'uc31', 'uc32', 'uc33', 'uc34', 'uc35', 'uc36', 'uc37', 'uc38', 'uc39', 'uc40', 'uc41', 'uc42', 'uc43', 'uc44', 'uc45', 'uc46', 'uc47', 'uc48', 'uc49', 'uc50', 'uc51', 'uc52', 'uc53', 'uc54', 'uc55', 'uc56', 'uc57', 'uc58', 'uc59', 'uc60', 'uc61', 'uc62', 'uc63', 'uc64', 'uc65', 'uc66', 'uc67', 'uc68', 'uc69', 'uc70', 'uc71', 'uc72', 'uc73', 'uc74', 'uc75', 'uc76', 'uc77', 'uc78', 'uc79', 'uc80', 'uc81', 'uc82', 'uc83', 'uc84', 'uc85', 'uc86', 'uc87', 'uc88', 'uc89', 'uc90', 'uc91', 'uc92', 'uc93', 'uc94', 'uc95', 'uc96', 'uc97', 'uc98', 'uc99', 'ud00', 'ud01', 'ud02', 'ud03', 'ud04', 'ud05', 'ud06', 'ud07', 'ud08', 'ud09', 'ud10', 'ud11', 'ud12', 'ud13', 'ud14', 'ud15', 'ud16', 'ud17', 'ud18', 'ud19', 'ud20', 'ud21', 'ud22', 'ud23', 'ud24', 'ud25', 'ud26', 'ud27', 'ud28', 'ud29', 'ud30', 'ud31', 'ud32', 'ud33', 'ud34', 'ud35', 'ud36', 'ud37', 'ud38', 'ud39', 'ud40', 'ud41', 'ud42', 'ud43', 'ud44', 'ud45', 'ud46', 'ud47', 'ud48', 'ud49', 'ud50', 'ud51', 'ud52', 'ud53', 'ud54', 'ud55', 'ud56', 'ud57', 'ud58', 'ud59', 'ud60', 'ud61', 'ud62', 'ud63', 'ud64', 'ud65', 'ud66', 'ud67', 'ud68', 'ud69', 'ud70', 'ud71', 'ud72', 'ud73', 'ud74', 'ud75', 'ud76', 'ud77', 'ud78', 'ud79', 'ud80', 'ud81', 'ud82', 'ud83', 'ud84', 'ud85', 'ud86', 'ud87', 'ud88', 'ud89', 'ud90', 'ud91', 'ud92', 'ud93', 'ud94', 'ud95', 'ud96', 'ud97', 'ud98', 'ud99', 'ue00', 'ue01', 'ue02', 'ue03', 'ue04', 'ue05', 'ue06', 'ue07', 'ue08', 'ue09', 'ue10', 'ue11', 'ue12', 'ue13', 'ue14', 'ue15', 'ue16', 'ue17', 'ue18', 'ue19', 'ue20', 'ue21', 'ue22', 'ue23', 'ue24', 'ue25', 'ue26', 'ue27', 'ue28', 'ue29', 'ue30', 'ue31', 'ue32', 'ue33', 'ue34', 'ue35', 'ue36', 'ue37', 'ue38', 'ue39', 'ue40', 'ue41', 'ue42', 'ue43', 'ue44', 'ue45', 'ue46', 'ue47', 'ue48', 'ue49', 'ue50', 'ue51', 'ue52', 'ue53', 'ue54', 'ue55', 'ue56', 'ue57', 'ue58', 'ue59', 'ue60', 'ue61', 'ue62', 'ue63', 'ue64', 'ue65', 'ue66', 'ue67', 'ue68', 'ue69', 'ue70', 'ue71', 'ue72', 'ue73', 'ue74', 'ue75', 'ue76', 'ue77', 'ue78', 'ue79', 'ue80', 'ue81', 'ue82', 'ue83', 'ue84', 'ue85', 'ue86', 'ue87', 'ue88', 'ue89', 'ue90', 'ue91', 'ue92', 'ue93', 'ue94', 'ue95', 'ue96', 'ue97', 'ue98', 'ue99', 'uf00', 'uf01', 'uf02', 'uf03', 'uf04', 'uf05', 'uf06', 'uf07', 'uf08', 'uf09', 'uf10', 'uf11', 'uf12', 'uf13', 'uf14', 'uf15', 'uf16', 'uf17', 'uf18', 'uf19', 'uf20', 'uf21', 'uf22', 'uf23', 'uf24', 'uf25', 'uf26', 'uf27', 'uf28', 'uf29', 'uf30', 'uf31', 'uf32', 'uf33', 'uf34', 'uf35', 'uf36', 'uf37', 'uf38', 'uf39', 'uf40', 'uf41', 'uf42', 'uf43', 'uf44', 'uf45', 'uf46', 'uf47', 'uf48', 'uf49', 'uf50', 'uf51', 'uf52', 'uf53', 'uf54', 'uf55', 'uf56', 'uf57', 'uf58', 'uf59', 'uf60', 'uf61', 'uf62', 'uf63', 'uf64', 'uf65', 'uf66', 'uf67', 'uf68', 'uf69', 'uf70', 'uf71', 'uf72', 'uf73', 'uf74', 'uf75', 'uf76', 'uf77', 'uf78', 'uf79', 'uf80', 'uf81', 'uf82', 'uf83', 'uf84', 'uf85', 'uf86', 'uf87', 'uf88', 'uf89', 'uf90', 'uf91', 'uf92', 'uf93', 'uf94', 'uf95', 'uf96', 'uf97', 'uf98', 'uf99', 'ug00', 'ug01', 'ug02', 'ug03', 'ug04', 'ug05', 'ug06', 'ug07', 'ug08', 'ug09', 'ug10', 'ug11', 'ug12', 'ug13', 'ug14', 'ug15', 'ug16', 'ug17', 'ug18', 'ug19', 'ug20', 'ug21', 'ug22', 'ug23', 'ug24', 'ug25', 'ug26', 'ug27', 'ug28', 'ug29', 'ug30', 'ug31', 'ug32', 'ug33', 'ug34', 'ug35', 'ug36', 'ug37', 'ug38', 'ug39', 'ug40', 'ug41', 'ug42', 'ug43', 'ug44', 'ug45', 'ug46', 'ug47', 'ug48', 'ug49', 'ug50', 'ug51', 'ug52', 'ug53', 'ug54', 'ug55', 'ug56', 'ug57', 'ug58', 'ug59', 'ug60', 'ug61', 'ug62', 'ug63', 'ug64', 'ug65', 'ug66', 'ug67', 'ug68', 'ug69', 'ug70', 'ug71', 'ug72', 'ug73', 'ug74', 'ug75', 'ug76', 'ug77', 'ug78', 'ug79', 'ug80', 'ug81', 'ug82', 'ug83', 'ug84', 'ug85', 'ug86', 'ug87', 'ug88', 'ug89', 'ug90', 'ug91', 'ug92', 'ug93', 'ug94', 'ug95', 'ug96', 'ug97', 'ug98', 'ug99', 'uh00', 'uh01', 'uh02', 'uh03', 'uh04', 'uh05', 'uh06', 'uh07', 'uh08', 'uh09', 'uh10', 'uh11', 'uh12', 'uh13', 'uh14', 'uh15', 'uh16', 'uh17', 'uh18', 'uh19', 'uh20', 'uh21', 'uh22', 'uh23', 'uh24', 'uh25', 'uh26', 'uh27', 'uh28', 'uh29', 'uh30', 'uh31', 'uh32', 'uh33', 'uh34', 'uh35', 'uh36', 'uh37', 'uh38', 'uh39', 'uh40', 'uh41', 'uh42', 'uh43', 'uh44', 'uh45', 'uh46', 'uh47', 'uh48', 'uh49', 'uh50', 'uh51', 'uh52', 'uh53', 'uh54', 'uh55', 'uh56', 'uh57', 'uh58', 'uh59', 'uh60', 'uh61', 'uh62', 'uh63', 'uh64', 'uh65', 'uh66', 'uh67', 'uh68', 'uh69', 'uh70', 'uh71', 'uh72', 'uh73', 'uh74', 'uh75', 'uh76', 'uh77', 'uh78', 'uh79', 'uh80', 'uh81', 'uh82', 'uh83', 'uh84', 'uh85', 'uh86', 'uh87', 'uh88', 'uh89', 'uh90', 'uh91', 'uh92', 'uh93', 'uh94', 'uh95', 'uh96', 'uh97', 'uh98', 'uh99', 'ui00', 'ui01', 'ui02', 'ui03', 'ui04', 'ui05', 'ui06', 'ui07', 'ui08', 'ui09', 'ui10', 'ui11', 'ui12', 'ui13', 'ui14', 'ui15', 'ui16', 'ui17', 'ui18', 'ui19', 'ui20', 'ui21', 'ui22', 'ui23', 'ui24', 'ui25', 'ui26', 'ui27', 'ui28', 'ui29', 'ui30', 'ui31', 'ui32', 'ui33', 'ui34', 'ui35', 'ui36', 'ui37', 'ui38', 'ui39', 'ui40', 'ui41', 'ui42', 'ui43', 'ui44', 'ui45', 'ui46', 'ui47', 'ui48', 'ui49', 'ui50', 'ui51', 'ui52', 'ui53', 'ui54', 'ui55', 'ui56', 'ui57', 'ui58', 'ui59', 'ui60', 'ui61', 'ui62', 'ui63', 'ui64', 'ui65', 'ui66', 'ui67', 'ui68', 'ui69', 'ui70', 'ui71', 'ui72', 'ui73', 'ui74', 'ui75', 'ui76', 'ui77', 'ui78', 'ui79', 'ui80', 'ui81', 'ui82', 'ui83', 'ui84', 'ui85', 'ui86', 'ui87', 'ui88', 'ui89', 'ui90', 'ui91', 'ui92', 'ui93', 'ui94', 'ui95', 'ui96', 'ui97', 'ui98', 'ui99', 'uj00', 'uj01', 'uj02', 'uj03', 'uj04', 'uj05', 'uj06', 'uj07', 'uj08', 'uj09', 'uj10', 'uj11', 'uj12', 'uj13', 'uj14', 'uj15', 'uj16', 'uj17', 'uj18', 'uj19', 'uj20', 'uj21', 'uj22', 'uj23', 'uj24', 'uj25', 'uj26', 'uj27', 'uj28', 'uj29', 'uj30', 'uj31', 'uj32', 'uj33', 'uj34', 'uj35', 'uj36', 'uj37', 'uj38', 'uj39', 'uj40', 'uj41', 'uj42', 'uj43', 'uj44', 'uj45', 'uj46', 'uj47', 'uj48', 'uj49', 'uj50', 'uj51', 'uj52', 'uj53', 'uj54', 'uj55', 'uj56', 'uj57', 'uj58', 'uj59', 'uj60', 'uj61', 'uj62', 'uj63', 'uj64', 'uj65', 'uj66', 'uj67', 'uj68', 'uj69', 'uj70', 'uj71', 'uj72', 'uj73', 'uj74', 'uj75', 'uj76', 'uj77', 'uj78', 'uj79', 'uj80', 'uj81', 'uj82', 'uj83', 'uj84', 'uj85', 'uj86', 'uj87', 'uj88', 'uj89', 'uj90', 'uj91', 'uj92', 'uj93', 'uj94', 'uj95', 'uj96', 'uj97', 'uj98', 'uj99', 'uk00', 'uk01', 'uk02', 'uk03', 'uk04', 'uk05', 'uk06', 'uk07', 'uk08', 'uk09', 'uk10', 'uk11', 'uk12', 'uk13', 'uk14', 'uk15', 'uk16', 'uk17', 'uk18', 'uk19', 'uk20', 'uk21', 'uk22', 'uk23', 'uk24', 'uk25', 'uk26', 'uk27', 'uk28', 'uk29', 'uk30', 'uk31', 'uk32', 'uk33', 'uk34', 'uk35', 'uk36', 'uk37', 'uk38', 'uk39', 'uk40', 'uk41', 'uk42', 'uk43', 'uk44', 'uk45', 'uk46', 'uk47', 'uk48', 'uk49', 'uk50', 'uk51', 'uk52', 'uk53', 'uk54', 'uk55', 'uk56', 'uk57', 'uk58', 'uk59', 'uk60', 'uk61', 'uk62', 'uk63', 'uk64', 'uk65', 'uk66', 'uk67', 'uk68', 'uk69', 'uk70', 'uk71', 'uk72', 'uk73', 'uk74', 'uk75', 'uk76', 'uk77', 'uk78', 'uk79', 'uk80', 'uk81', 'uk82', 'uk83', 'uk84', 'uk85', 'uk86', 'uk87', 'uk88', 'uk89', 'uk90', 'uk91', 'uk92', 'uk93', 'uk94', 'uk95', 'uk96', 'uk97', 'uk98', 'uk99', 'ul00', 'ul01', 'ul02', 'ul03', 'ul04', 'ul05', 'ul06', 'ul07', 'ul08', 'ul09', 'ul10', 'ul11', 'ul12', 'ul13', 'ul14', 'ul15', 'ul16', 'ul17', 'ul18', 'ul19', 'ul20', 'ul21', 'ul22', 'ul23', 'ul24', 'ul25', 'ul26', 'ul27', 'ul28', 'ul29', 'ul30', 'ul31', 'ul32', 'ul33', 'ul34', 'ul35', 'ul36', 'ul37', 'ul38', 'ul39', 'ul40', 'ul41', 'ul42', 'ul43', 'ul44', 'ul45', 'ul46', 'ul47', 'ul48', 'ul49', 'ul50', 'ul51', 'ul52', 'ul53', 'ul54', 'ul55', 'ul56', 'ul57', 'ul58', 'ul59', 'ul60', 'ul61', 'ul62', 'ul63', 'ul64', 'ul65', 'ul66', 'ul67', 'ul68', 'ul69', 'ul70', 'ul71', 'ul72', 'ul73', 'ul74', 'ul75', 'ul76', 'ul77', 'ul78', 'ul79', 'ul80', 'ul81', 'ul82', 'ul83', 'ul84', 'ul85', 'ul86', 'ul87', 'ul88', 'ul89', 'ul90', 'ul91', 'ul92', 'ul93', 'ul94', 'ul95', 'ul96', 'ul97', 'ul98', 'ul99', 'um00', 'um01', 'um02', 'um03', 'um04', 'um05', 'um06', 'um07', 'um08', 'um09', 'um10', 'um11', 'um12', 'um13', 'um14', 'um15', 'um16', 'um17', 'um18', 'um19', 'um20', 'um21', 'um22', 'um23', 'um24', 'um25', 'um26', 'um27', 'um28', 'um29', 'um30', 'um31', 'um32', 'um33', 'um34', 'um35', 'um36', 'um37', 'um38', 'um39', 'um40', 'um41', 'um42', 'um43', 'um44', 'um45', 'um46', 'um47', 'um48', 'um49', 'um50', 'um51', 'um52', 'um53', 'um54', 'um55', 'um56', 'um57', 'um58', 'um59', 'um60', 'um61', 'um62', 'um63', 'um64', 'um65', 'um66', 'um67', 'um68', 'um69', 'um70', 'um71', 'um72', 'um73', 'um74', 'um75', 'um76', 'um77', 'um78', 'um79', 'um80', 'um81', 'um82', 'um83', 'um84', 'um85', 'um86', 'um87', 'um88', 'um89', 'um90', 'um91', 'um92', 'um93', 'um94', 'um95', 'um96', 'um97', 'um98', 'um99', 'un00', 'un01', 'un02', 'un03', 'un04', 'un05', 'un06', 'un07', 'un08', 'un09', 'un10', 'un11', 'un12', 'un13', 'un14', 'un15', 'un16', 'un17', 'un18', 'un19', 'un20', 'un21', 'un22', 'un23', 'un24', 'un25', 'un26', 'un27', 'un28', 'un29', 'un30', 'un31', 'un32', 'un33', 'un34', 'un35', 'un36', 'un37', 'un38', 'un39', 'un40', 'un41', 'un42', 'un43', 'un44', 'un45', 'un46', 'un47', 'un48', 'un49', 'un50', 'un51', 'un52', 'un53', 'un54', 'un55', 'un56', 'un57', 'un58', 'un59', 'un60', 'un61', 'un62', 'un63', 'un64', 'un65', 'un66', 'un67', 'un68', 'un69', 'un70', 'un71', 'un72', 'un73', 'un74', 'un75', 'un76', 'un77', 'un78', 'un79', 'un80', 'un81', 'un82', 'un83', 'un84', 'un85', 'un86', 'un87', 'un88', 'un89', 'un90', 'un91', 'un92', 'un93', 'un94', 'un95', 'un96', 'un97', 'un98', 'un99', 'uo00', 'uo01', 'uo02', 'uo03', 'uo04', 'uo05', 'uo06', 'uo07', 'uo08', 'uo09', 'uo10', 'uo11', 'uo12', 'uo13', 'uo14', 'uo15', 'uo16', 'uo17', 'uo18', 'uo19', 'uo20', 'uo21', 'uo22', 'uo23', 'uo24', 'uo25', 'uo26', 'uo27', 'uo28', 'uo29', 'uo30', 'uo31', 'uo32', 'uo33', 'uo34', 'uo35', 'uo36', 'uo37', 'uo38', 'uo39', 'uo40', 'uo41', 'uo42', 'uo43', 'uo44', 'uo45', 'uo46', 'uo47', 'uo48', 'uo49', 'uo50', 'uo51', 'uo52', 'uo53', 'uo54', 'uo55', 'uo56', 'uo57', 'uo58', 'uo59', 'uo60', 'uo61', 'uo62', 'uo63', 'uo64', 'uo65', 'uo66', 'uo67', 'uo68', 'uo69', 'uo70', 'uo71', 'uo72', 'uo73', 'uo74', 'uo75', 'uo76', 'uo77', 'uo78', 'uo79', 'uo80', 'uo81', 'uo82', 'uo83', 'uo84', 'uo85', 'uo86', 'uo87', 'uo88', 'uo89', 'uo90', 'uo91', 'uo92', 'uo93', 'uo94', 'uo95', 'uo96', 'uo97', 'uo98', 'uo99', 'up00', 'up01', 'up02', 'up03', 'up04', 'up05', 'up06', 'up07', 'up08', 'up09', 'up10', 'up11', 'up12', 'up13', 'up14', 'up15', 'up16', 'up17', 'up18', 'up19', 'up20', 'up21', 'up22', 'up23', 'up24', 'up25', 'up26', 'up27', 'up28', 'up29', 'up30', 'up31', 'up32', 'up33', 'up34', 'up35', 'up36', 'up37', 'up38', 'up39', 'up40', 'up41', 'up42', 'up43', 'up44', 'up45', 'up46', 'up47', 'up48', 'up49', 'up50', 'up51', 'up52', 'up53', 'up54', 'up55', 'up56', 'up57', 'up58', 'up59', 'up60', 'up61', 'up62', 'up63', 'up64', 'up65', 'up66', 'up67', 'up68', 'up69', 'up70', 'up71', 'up72', 'up73', 'up74', 'up75', 'up76', 'up77', 'up78', 'up79', 'up80', 'up81', 'up82', 'up83', 'up84', 'up85', 'up86', 'up87', 'up88', 'up89', 'up90', 'up91', 'up92', 'up93', 'up94', 'up95', 'up96', 'up97', 'up98', 'up99', 'uq00', 'uq01', 'uq02', 'uq03', 'uq04', 'uq05', 'uq06', 'uq07', 'uq08', 'uq09', 'uq10', 'uq11', 'uq12', 'uq13', 'uq14', 'uq15', 'uq16', 'uq17', 'uq18', 'uq19', 'uq20', 'uq21', 'uq22', 'uq23', 'uq24', 'uq25', 'uq26', 'uq27', 'uq28', 'uq29', 'uq30', 'uq31', 'uq32', 'uq33', 'uq34', 'uq35', 'uq36', 'uq37', 'uq38', 'uq39', 'uq40', 'uq41', 'uq42', 'uq43', 'uq44', 'uq45', 'uq46', 'uq47', 'uq48', 'uq49', 'uq50', 'uq51', 'uq52', 'uq53', 'uq54', 'uq55', 'uq56', 'uq57', 'uq58', 'uq59', 'uq60', 'uq61', 'uq62', 'uq63', 'uq64', 'uq65', 'uq66', 'uq67', 'uq68', 'uq69', 'uq70', 'uq71', 'uq72', 'uq73', 'uq74', 'uq75', 'uq76', 'uq77', 'uq78', 'uq79', 'uq80', 'uq81', 'uq82', 'uq83', 'uq84', 'uq85', 'uq86', 'uq87', 'uq88', 'uq89', 'uq90', 'uq91', 'uq92', 'uq93', 'uq94', 'uq95', 'uq96', 'uq97', 'uq98', 'uq99', 'ur00', 'ur01', 'ur02', 'ur03', 'ur04', 'ur05', 'ur06', 'ur07', 'ur08', 'ur09', 'ur10', 'ur11', 'ur12', 'ur13', 'ur14', 'ur15', 'ur16', 'ur17', 'ur18', 'ur19', 'ur20', 'ur21', 'ur22', 'ur23', 'ur24', 'ur25', 'ur26', 'ur27', 'ur28', 'ur29', 'ur30', 'ur31', 'ur32', 'ur33', 'ur34', 'ur35', 'ur36', 'ur37', 'ur38', 'ur39', 'ur40', 'ur41', 'ur42', 'ur43', 'ur44', 'ur45', 'ur46', 'ur47', 'ur48', 'ur49', 'ur50', 'ur51', 'ur52', 'ur53', 'ur54', 'ur55', 'ur56', 'ur57', 'ur58', 'ur59', 'ur60', 'ur61', 'ur62', 'ur63', 'ur64', 'ur65', 'ur66', 'ur67', 'ur68', 'ur69', 'ur70', 'ur71', 'ur72', 'ur73', 'ur74', 'ur75', 'ur76', 'ur77', 'ur78', 'ur79', 'ur80', 'ur81', 'ur82', 'ur83', 'ur84', 'ur85', 'ur86', 'ur87', 'ur88', 'ur89', 'ur90', 'ur91', 'ur92', 'ur93', 'ur94', 'ur95', 'ur96', 'ur97', 'ur98', 'ur99', 'us00', 'us01', 'us02', 'us03', 'us04', 'us05', 'us06', 'us07', 'us08', 'us09', 'us10', 'us11', 'us12', 'us13', 'us14', 'us15', 'us16', 'us17', 'us18', 'us19', 'us20', 'us21', 'us22', 'us23', 'us24', 'us25', 'us26', 'us27', 'us28', 'us29', 'us30', 'us31', 'us32', 'us33', 'us34', 'us35', 'us36', 'us37', 'us38', 'us39', 'us40', 'us41', 'us42', 'us43', 'us44', 'us45', 'us46', 'us47', 'us48', 'us49', 'us50', 'us51', 'us52', 'us53', 'us54', 'us55', 'us56', 'us57', 'us58', 'us59', 'us60', 'us61', 'us62', 'us63', 'us64', 'us65', 'us66', 'us67', 'us68', 'us69', 'us70', 'us71', 'us72', 'us73', 'us74', 'us75', 'us76', 'us77', 'us78', 'us79', 'us80', 'us81', 'us82', 'us83', 'us84', 'us85', 'us86', 'us87', 'us88', 'us89', 'us90', 'us91', 'us92', 'us93', 'us94', 'us95', 'us96', 'us97', 'us98', 'us99', 'ut00', 'ut01', 'ut02', 'ut03', 'ut04', 'ut05', 'ut06', 'ut07', 'ut08', 'ut09', 'ut10', 'ut11', 'ut12', 'ut13', 'ut14', 'ut15', 'ut16', 'ut17', 'ut18', 'ut19', 'ut20', 'ut21', 'ut22', 'ut23', 'ut24', 'ut25', 'ut26', 'ut27', 'ut28', 'ut29', 'ut30', 'ut31', 'ut32', 'ut33', 'ut34', 'ut35', 'ut36', 'ut37', 'ut38', 'ut39', 'ut40', 'ut41', 'ut42', 'ut43', 'ut44', 'ut45', 'ut46', 'ut47', 'ut48', 'ut49', 'ut50', 'ut51', 'ut52', 'ut53', 'ut54', 'ut55', 'ut56', 'ut57', 'ut58', 'ut59', 'ut60', 'ut61', 'ut62', 'ut63', 'ut64', 'ut65', 'ut66', 'ut67', 'ut68', 'ut69', 'ut70', 'ut71', 'ut72', 'ut73', 'ut74', 'ut75', 'ut76', 'ut77', 'ut78', 'ut79', 'ut80', 'ut81', 'ut82', 'ut83', 'ut84', 'ut85', 'ut86', 'ut87', 'ut88', 'ut89', 'ut90', 'ut91', 'ut92', 'ut93', 'ut94', 'ut95', 'ut96', 'ut97', 'ut98', 'ut99', 'uu00', 'uu01', 'uu02', 'uu03', 'uu04', 'uu05', 'uu06', 'uu07', 'uu08', 'uu09', 'uu10', 'uu11', 'uu12', 'uu13', 'uu14', 'uu15', 'uu16', 'uu17', 'uu18', 'uu19', 'uu20', 'uu21', 'uu22', 'uu23', 'uu24', 'uu25', 'uu26', 'uu27', 'uu28', 'uu29', 'uu30', 'uu31', 'uu32', 'uu33', 'uu34', 'uu35', 'uu36', 'uu37', 'uu38', 'uu39', 'uu40', 'uu41', 'uu42', 'uu43', 'uu44', 'uu45', 'uu46', 'uu47', 'uu48', 'uu49', 'uu50', 'uu51', 'uu52', 'uu53', 'uu54', 'uu55', 'uu56', 'uu57', 'uu58', 'uu59', 'uu60', 'uu61', 'uu62', 'uu63', 'uu64', 'uu65', 'uu66', 'uu67', 'uu68', 'uu69', 'uu70', 'uu71', 'uu72', 'uu73', 'uu74', 'uu75', 'uu76', 'uu77', 'uu78', 'uu79', 'uu80', 'uu81', 'uu82', 'uu83', 'uu84', 'uu85', 'uu86', 'uu87', 'uu88', 'uu89', 'uu90', 'uu91', 'uu92', 'uu93', 'uu94', 'uu95', 'uu96', 'uu97', 'uu98', 'uu99', 'uv00', 'uv01', 'uv02', 'uv03', 'uv04', 'uv05', 'uv06', 'uv07', 'uv08', 'uv09', 'uv10', 'uv11', 'uv12', 'uv13', 'uv14', 'uv15', 'uv16', 'uv17', 'uv18', 'uv19', 'uv20', 'uv21', 'uv22', 'uv23', 'uv24', 'uv25', 'uv26', 'uv27', 'uv28', 'uv29', 'uv30', 'uv31', 'uv32', 'uv33', 'uv34', 'uv35', 'uv36', 'uv37', 'uv38', 'uv39', 'uv40', 'uv41', 'uv42', 'uv43', 'uv44', 'uv45', 'uv46', 'uv47', 'uv48', 'uv49', 'uv50', 'uv51', 'uv52', 'uv53', 'uv54', 'uv55', 'uv56', 'uv57', 'uv58', 'uv59', 'uv60', 'uv61', 'uv62', 'uv63', 'uv64', 'uv65', 'uv66', 'uv67', 'uv68', 'uv69', 'uv70', 'uv71', 'uv72', 'uv73', 'uv74', 'uv75', 'uv76', 'uv77', 'uv78', 'uv79', 'uv80', 'uv81', 'uv82', 'uv83', 'uv84', 'uv85', 'uv86', 'uv87', 'uv88', 'uv89', 'uv90', 'uv91', 'uv92', 'uv93', 'uv94', 'uv95', 'uv96', 'uv97', 'uv98', 'uv99', 'uw00', 'uw01', 'uw02', 'uw03', 'uw04', 'uw05', 'uw06', 'uw07', 'uw08', 'uw09', 'uw10', 'uw11', 'uw12', 'uw13', 'uw14', 'uw15', 'uw16', 'uw17', 'uw18', 'uw19', 'uw20', 'uw21', 'uw22', 'uw23', 'uw24', 'uw25', 'uw26', 'uw27', 'uw28', 'uw29', 'uw30', 'uw31', 'uw32', 'uw33', 'uw34', 'uw35', 'uw36', 'uw37', 'uw38', 'uw39', 'uw40', 'uw41', 'uw42', 'uw43', 'uw44', 'uw45', 'uw46', 'uw47', 'uw48', 'uw49', 'uw50', 'uw51', 'uw52', 'uw53', 'uw54', 'uw55', 'uw56', 'uw57', 'uw58', 'uw59', 'uw60', 'uw61', 'uw62', 'uw63', 'uw64', 'uw65', 'uw66', 'uw67', 'uw68', 'uw69', 'uw70', 'uw71', 'uw72', 'uw73', 'uw74', 'uw75', 'uw76', 'uw77', 'uw78', 'uw79', 'uw80', 'uw81', 'uw82', 'uw83', 'uw84', 'uw85', 'uw86', 'uw87', 'uw88', 'uw89', 'uw90', 'uw91', 'uw92', 'uw93', 'uw94', 'uw95', 'uw96', 'uw97', 'uw98', 'uw99', 'ux00', 'ux01', 'ux02', 'ux03', 'ux04', 'ux05', 'ux06', 'ux07', 'ux08', 'ux09', 'ux10', 'ux11', 'ux12', 'ux13', 'ux14', 'ux15', 'ux16', 'ux17', 'ux18', 'ux19', 'ux20', 'ux21', 'ux22', 'ux23', 'ux24', 'ux25', 'ux26', 'ux27', 'ux28', 'ux29', 'ux30', 'ux31', 'ux32', 'ux33', 'ux34', 'ux35', 'ux36', 'ux37', 'ux38', 'ux39', 'ux40', 'ux41', 'ux42', 'ux43', 'ux44', 'ux45', 'ux46', 'ux47', 'ux48', 'ux49', 'ux50', 'ux51', 'ux52', 'ux53', 'ux54', 'ux55', 'ux56', 'ux57', 'ux58', 'ux59', 'ux60', 'ux61', 'ux62', 'ux63', 'ux64', 'ux65', 'ux66', 'ux67', 'ux68', 'ux69', 'ux70', 'ux71', 'ux72', 'ux73', 'ux74', 'ux75', 'ux76', 'ux77', 'ux78', 'ux79', 'ux80', 'ux81', 'ux82', 'ux83', 'ux84', 'ux85', 'ux86', 'ux87', 'ux88', 'ux89', 'ux90', 'ux91', 'ux92', 'ux93', 'ux94', 'ux95', 'ux96', 'ux97', 'ux98', 'ux99', 'uy00', 'uy01', 'uy02', 'uy03', 'uy04', 'uy05', 'uy06', 'uy07', 'uy08', 'uy09', 'uy10', 'uy11', 'uy12', 'uy13', 'uy14', 'uy15', 'uy16', 'uy17', 'uy18', 'uy19', 'uy20', 'uy21', 'uy22', 'uy23', 'uy24', 'uy25', 'uy26', 'uy27', 'uy28', 'uy29', 'uy30', 'uy31', 'uy32', 'uy33', 'uy34', 'uy35', 'uy36', 'uy37', 'uy38', 'uy39', 'uy40', 'uy41', 'uy42', 'uy43', 'uy44', 'uy45', 'uy46', 'uy47', 'uy48', 'uy49', 'uy50', 'uy51', 'uy52', 'uy53', 'uy54', 'uy55', 'uy56', 'uy57', 'uy58', 'uy59', 'uy60', 'uy61', 'uy62', 'uy63', 'uy64', 'uy65', 'uy66', 'uy67', 'uy68', 'uy69', 'uy70', 'uy71', 'uy72', 'uy73', 'uy74', 'uy75', 'uy76', 'uy77', 'uy78', 'uy79', 'uy80', 'uy81', 'uy82', 'uy83', 'uy84', 'uy85', 'uy86', 'uy87', 'uy88', 'uy89', 'uy90', 'uy91', 'uy92', 'uy93', 'uy94', 'uy95', 'uy96', 'uy97', 'uy98', 'uy99', 'uz00', 'uz01', 'uz02', 'uz03', 'uz04', 'uz05', 'uz06', 'uz07', 'uz08', 'uz09', 'uz10', 'uz11', 'uz12', 'uz13', 'uz14', 'uz15', 'uz16', 'uz17', 'uz18', 'uz19', 'uz20', 'uz21', 'uz22', 'uz23', 'uz24', 'uz25', 'uz26', 'uz27', 'uz28', 'uz29', 'uz30', 'uz31', 'uz32', 'uz33', 'uz34', 'uz35', 'uz36', 'uz37', 'uz38', 'uz39', 'uz40', 'uz41', 'uz42', 'uz43', 'uz44', 'uz45', 'uz46', 'uz47', 'uz48', 'uz49', 'uz50', 'uz51', 'uz52', 'uz53', 'uz54', 'uz55', 'uz56', 'uz57', 'uz58', 'uz59', 'uz60', 'uz61', 'uz62', 'uz63', 'uz64', 'uz65', 'uz66', 'uz67', 'uz68', 'uz69', 'uz70', 'uz71', 'uz72', 'uz73', 'uz74', 'uz75', 'uz76', 'uz77', 'uz78', 'uz79', 'uz80', 'uz81', 'uz82', 'uz83', 'uz84', 'uz85', 'uz86', 'uz87', 'uz88', 'uz89', 'uz90', 'uz91', 'uz92', 'uz93', 'uz94', 'uz95', 'uz96', 'uz97', 'uz98', 'uz99', 'va00', 'va01', 'va02', 'va03', 'va04', 'va05', 'va06', 'va07', 'va08', 'va09', 'va10', 'va11', 'va12', 'va13', 'va14', 'va15', 'va16', 'va17', 'va18', 'va19', 'va20', 'va21', 'va22', 'va23', 'va24', 'va25', 'va26', 'va27', 'va28', 'va29', 'va30', 'va31', 'va32', 'va33', 'va34', 'va35', 'va36', 'va37', 'va38', 'va39', 'va40', 'va41', 'va42', 'va43', 'va44', 'va45', 'va46', 'va47', 'va48', 'va49', 'va50', 'va51', 'va52', 'va53', 'va54', 'va55', 'va56', 'va57', 'va58', 'va59', 'va60', 'va61', 'va62', 'va63', 'va64', 'va65', 'va66', 'va67', 'va68', 'va69', 'va70', 'va71', 'va72', 'va73', 'va74', 'va75', 'va76', 'va77', 'va78', 'va79', 'va80', 'va81', 'va82', 'va83', 'va84', 'va85', 'va86', 'va87', 'va88', 'va89', 'va90', 'va91', 'va92', 'va93', 'va94', 'va95', 'va96', 'va97', 'va98', 'va99', 'vb00', 'vb01', 'vb02', 'vb03', 'vb04', 'vb05', 'vb06', 'vb07', 'vb08', 'vb09', 'vb10', 'vb11', 'vb12', 'vb13', 'vb14', 'vb15', 'vb16', 'vb17', 'vb18', 'vb19', 'vb20', 'vb21', 'vb22', 'vb23', 'vb24', 'vb25', 'vb26', 'vb27', 'vb28', 'vb29', 'vb30', 'vb31', 'vb32', 'vb33', 'vb34', 'vb35', 'vb36', 'vb37', 'vb38', 'vb39', 'vb40', 'vb41', 'vb42', 'vb43', 'vb44', 'vb45', 'vb46', 'vb47', 'vb48', 'vb49', 'vb50', 'vb51', 'vb52', 'vb53', 'vb54', 'vb55', 'vb56', 'vb57', 'vb58', 'vb59', 'vb60', 'vb61', 'vb62', 'vb63', 'vb64', 'vb65', 'vb66', 'vb67', 'vb68', 'vb69', 'vb70', 'vb71', 'vb72', 'vb73', 'vb74', 'vb75', 'vb76', 'vb77', 'vb78', 'vb79', 'vb80', 'vb81', 'vb82', 'vb83', 'vb84', 'vb85', 'vb86', 'vb87', 'vb88', 'vb89', 'vb90', 'vb91', 'vb92', 'vb93', 'vb94', 'vb95', 'vb96', 'vb97', 'vb98', 'vb99', 'vc00', 'vc01', 'vc02', 'vc03', 'vc04', 'vc05', 'vc06', 'vc07', 'vc08', 'vc09', 'vc10', 'vc11', 'vc12', 'vc13', 'vc14', 'vc15', 'vc16', 'vc17', 'vc18', 'vc19', 'vc20', 'vc21', 'vc22', 'vc23', 'vc24', 'vc25', 'vc26', 'vc27', 'vc28', 'vc29', 'vc30', 'vc31', 'vc32', 'vc33', 'vc34', 'vc35', 'vc36', 'vc37', 'vc38', 'vc39', 'vc40', 'vc41', 'vc42', 'vc43', 'vc44', 'vc45', 'vc46', 'vc47', 'vc48', 'vc49', 'vc50', 'vc51', 'vc52', 'vc53', 'vc54', 'vc55', 'vc56', 'vc57', 'vc58', 'vc59', 'vc60', 'vc61', 'vc62', 'vc63', 'vc64', 'vc65', 'vc66', 'vc67', 'vc68', 'vc69', 'vc70', 'vc71', 'vc72', 'vc73', 'vc74', 'vc75', 'vc76', 'vc77', 'vc78', 'vc79', 'vc80', 'vc81', 'vc82', 'vc83', 'vc84', 'vc85', 'vc86', 'vc87', 'vc88', 'vc89', 'vc90', 'vc91', 'vc92', 'vc93', 'vc94', 'vc95', 'vc96', 'vc97', 'vc98', 'vc99', 'vd00', 'vd01', 'vd02', 'vd03', 'vd04', 'vd05', 'vd06', 'vd07', 'vd08', 'vd09', 'vd10', 'vd11', 'vd12', 'vd13', 'vd14', 'vd15', 'vd16', 'vd17', 'vd18', 'vd19', 'vd20', 'vd21', 'vd22', 'vd23', 'vd24', 'vd25', 'vd26', 'vd27', 'vd28', 'vd29', 'vd30', 'vd31', 'vd32', 'vd33', 'vd34', 'vd35', 'vd36', 'vd37', 'vd38', 'vd39', 'vd40', 'vd41', 'vd42', 'vd43', 'vd44', 'vd45', 'vd46', 'vd47', 'vd48', 'vd49', 'vd50', 'vd51', 'vd52', 'vd53', 'vd54', 'vd55', 'vd56', 'vd57', 'vd58', 'vd59', 'vd60', 'vd61', 'vd62', 'vd63', 'vd64', 'vd65', 'vd66', 'vd67', 'vd68', 'vd69', 'vd70', 'vd71', 'vd72', 'vd73', 'vd74', 'vd75', 'vd76', 'vd77', 'vd78', 'vd79', 'vd80', 'vd81', 'vd82', 'vd83', 'vd84', 'vd85', 'vd86', 'vd87', 'vd88', 'vd89', 'vd90', 'vd91', 'vd92', 'vd93', 'vd94', 'vd95', 'vd96', 'vd97', 'vd98', 'vd99', 've00', 've01', 've02', 've03', 've04', 've05', 've06', 've07', 've08', 've09', 've10', 've11', 've12', 've13', 've14', 've15', 've16', 've17', 've18', 've19', 've20', 've21', 've22', 've23', 've24', 've25', 've26', 've27', 've28', 've29', 've30', 've31', 've32', 've33', 've34', 've35', 've36', 've37', 've38', 've39', 've40', 've41', 've42', 've43', 've44', 've45', 've46', 've47', 've48', 've49', 've50', 've51', 've52', 've53', 've54', 've55', 've56', 've57', 've58', 've59', 've60', 've61', 've62', 've63', 've64', 've65', 've66', 've67', 've68', 've69', 've70', 've71', 've72', 've73', 've74', 've75', 've76', 've77', 've78', 've79', 've80', 've81', 've82', 've83', 've84', 've85', 've86', 've87', 've88', 've89', 've90', 've91', 've92', 've93', 've94', 've95', 've96', 've97', 've98', 've99', 'vf00', 'vf01', 'vf02', 'vf03', 'vf04', 'vf05', 'vf06', 'vf07', 'vf08', 'vf09', 'vf10', 'vf11', 'vf12', 'vf13', 'vf14', 'vf15', 'vf16', 'vf17', 'vf18', 'vf19', 'vf20', 'vf21', 'vf22', 'vf23', 'vf24', 'vf25', 'vf26', 'vf27', 'vf28', 'vf29', 'vf30', 'vf31', 'vf32', 'vf33', 'vf34', 'vf35', 'vf36', 'vf37', 'vf38', 'vf39', 'vf40', 'vf41', 'vf42', 'vf43', 'vf44', 'vf45', 'vf46', 'vf47', 'vf48', 'vf49', 'vf50', 'vf51', 'vf52', 'vf53', 'vf54', 'vf55', 'vf56', 'vf57', 'vf58', 'vf59', 'vf60', 'vf61', 'vf62', 'vf63', 'vf64', 'vf65', 'vf66', 'vf67', 'vf68', 'vf69', 'vf70', 'vf71', 'vf72', 'vf73', 'vf74', 'vf75', 'vf76', 'vf77', 'vf78', 'vf79', 'vf80', 'vf81', 'vf82', 'vf83', 'vf84', 'vf85', 'vf86', 'vf87', 'vf88', 'vf89', 'vf90', 'vf91', 'vf92', 'vf93', 'vf94', 'vf95', 'vf96', 'vf97', 'vf98', 'vf99', 'vg00', 'vg01', 'vg02', 'vg03', 'vg04', 'vg05', 'vg06', 'vg07', 'vg08', 'vg09', 'vg10', 'vg11', 'vg12', 'vg13', 'vg14', 'vg15', 'vg16', 'vg17', 'vg18', 'vg19', 'vg20', 'vg21', 'vg22', 'vg23', 'vg24', 'vg25', 'vg26', 'vg27', 'vg28', 'vg29', 'vg30', 'vg31', 'vg32', 'vg33', 'vg34', 'vg35', 'vg36', 'vg37', 'vg38', 'vg39', 'vg40', 'vg41', 'vg42', 'vg43', 'vg44', 'vg45', 'vg46', 'vg47', 'vg48', 'vg49', 'vg50', 'vg51', 'vg52', 'vg53', 'vg54', 'vg55', 'vg56', 'vg57', 'vg58', 'vg59', 'vg60', 'vg61', 'vg62', 'vg63', 'vg64', 'vg65', 'vg66', 'vg67', 'vg68', 'vg69', 'vg70', 'vg71', 'vg72', 'vg73', 'vg74', 'vg75', 'vg76', 'vg77', 'vg78', 'vg79', 'vg80', 'vg81', 'vg82', 'vg83', 'vg84', 'vg85', 'vg86', 'vg87', 'vg88', 'vg89', 'vg90', 'vg91', 'vg92', 'vg93', 'vg94', 'vg95', 'vg96', 'vg97', 'vg98', 'vg99', 'vh00', 'vh01', 'vh02', 'vh03', 'vh04', 'vh05', 'vh06', 'vh07', 'vh08', 'vh09', 'vh10', 'vh11', 'vh12', 'vh13', 'vh14', 'vh15', 'vh16', 'vh17', 'vh18', 'vh19', 'vh20', 'vh21', 'vh22', 'vh23', 'vh24', 'vh25', 'vh26', 'vh27', 'vh28', 'vh29', 'vh30', 'vh31', 'vh32', 'vh33', 'vh34', 'vh35', 'vh36', 'vh37', 'vh38', 'vh39', 'vh40', 'vh41', 'vh42', 'vh43', 'vh44', 'vh45', 'vh46', 'vh47', 'vh48', 'vh49', 'vh50', 'vh51', 'vh52', 'vh53', 'vh54', 'vh55', 'vh56', 'vh57', 'vh58', 'vh59', 'vh60', 'vh61', 'vh62', 'vh63', 'vh64', 'vh65', 'vh66', 'vh67', 'vh68', 'vh69', 'vh70', 'vh71', 'vh72', 'vh73', 'vh74', 'vh75', 'vh76', 'vh77', 'vh78', 'vh79', 'vh80', 'vh81', 'vh82', 'vh83', 'vh84', 'vh85', 'vh86', 'vh87', 'vh88', 'vh89', 'vh90', 'vh91', 'vh92', 'vh93', 'vh94', 'vh95', 'vh96', 'vh97', 'vh98', 'vh99', 'vi00', 'vi01', 'vi02', 'vi03', 'vi04', 'vi05', 'vi06', 'vi07', 'vi08', 'vi09', 'vi10', 'vi11', 'vi12', 'vi13', 'vi14', 'vi15', 'vi16', 'vi17', 'vi18', 'vi19', 'vi20', 'vi21', 'vi22', 'vi23', 'vi24', 'vi25', 'vi26', 'vi27', 'vi28', 'vi29', 'vi30', 'vi31', 'vi32', 'vi33', 'vi34', 'vi35', 'vi36', 'vi37', 'vi38', 'vi39', 'vi40', 'vi41', 'vi42', 'vi43', 'vi44', 'vi45', 'vi46', 'vi47', 'vi48', 'vi49', 'vi50', 'vi51', 'vi52', 'vi53', 'vi54', 'vi55', 'vi56', 'vi57', 'vi58', 'vi59', 'vi60', 'vi61', 'vi62', 'vi63', 'vi64', 'vi65', 'vi66', 'vi67', 'vi68', 'vi69', 'vi70', 'vi71', 'vi72', 'vi73', 'vi74', 'vi75', 'vi76', 'vi77', 'vi78', 'vi79', 'vi80', 'vi81', 'vi82', 'vi83', 'vi84', 'vi85', 'vi86', 'vi87', 'vi88', 'vi89', 'vi90', 'vi91', 'vi92', 'vi93', 'vi94', 'vi95', 'vi96', 'vi97', 'vi98', 'vi99', 'vj00', 'vj01', 'vj02', 'vj03', 'vj04', 'vj05', 'vj06', 'vj07', 'vj08', 'vj09', 'vj10', 'vj11', 'vj12', 'vj13', 'vj14', 'vj15', 'vj16', 'vj17', 'vj18', 'vj19', 'vj20', 'vj21', 'vj22', 'vj23', 'vj24', 'vj25', 'vj26', 'vj27', 'vj28', 'vj29', 'vj30', 'vj31', 'vj32', 'vj33', 'vj34', 'vj35', 'vj36', 'vj37', 'vj38', 'vj39', 'vj40', 'vj41', 'vj42', 'vj43', 'vj44', 'vj45', 'vj46', 'vj47', 'vj48', 'vj49', 'vj50', 'vj51', 'vj52', 'vj53', 'vj54', 'vj55', 'vj56', 'vj57', 'vj58', 'vj59', 'vj60', 'vj61', 'vj62', 'vj63', 'vj64', 'vj65', 'vj66', 'vj67', 'vj68', 'vj69', 'vj70', 'vj71', 'vj72', 'vj73', 'vj74', 'vj75', 'vj76', 'vj77', 'vj78', 'vj79', 'vj80', 'vj81', 'vj82', 'vj83', 'vj84', 'vj85', 'vj86', 'vj87', 'vj88', 'vj89', 'vj90', 'vj91', 'vj92', 'vj93', 'vj94', 'vj95', 'vj96', 'vj97', 'vj98', 'vj99', 'vk00', 'vk01', 'vk02', 'vk03', 'vk04', 'vk05', 'vk06', 'vk07', 'vk08', 'vk09', 'vk10', 'vk11', 'vk12', 'vk13', 'vk14', 'vk15', 'vk16', 'vk17', 'vk18', 'vk19', 'vk20', 'vk21', 'vk22', 'vk23', 'vk24', 'vk25', 'vk26', 'vk27', 'vk28', 'vk29', 'vk30', 'vk31', 'vk32', 'vk33', 'vk34', 'vk35', 'vk36', 'vk37', 'vk38', 'vk39', 'vk40', 'vk41', 'vk42', 'vk43', 'vk44', 'vk45', 'vk46', 'vk47', 'vk48', 'vk49', 'vk50', 'vk51', 'vk52', 'vk53', 'vk54', 'vk55', 'vk56', 'vk57', 'vk58', 'vk59', 'vk60', 'vk61', 'vk62', 'vk63', 'vk64', 'vk65', 'vk66', 'vk67', 'vk68', 'vk69', 'vk70', 'vk71', 'vk72', 'vk73', 'vk74', 'vk75', 'vk76', 'vk77', 'vk78', 'vk79', 'vk80', 'vk81', 'vk82', 'vk83', 'vk84', 'vk85', 'vk86', 'vk87', 'vk88', 'vk89', 'vk90', 'vk91', 'vk92', 'vk93', 'vk94', 'vk95', 'vk96', 'vk97', 'vk98', 'vk99', 'vl00', 'vl01', 'vl02', 'vl03', 'vl04', 'vl05', 'vl06', 'vl07', 'vl08', 'vl09', 'vl10', 'vl11', 'vl12', 'vl13', 'vl14', 'vl15', 'vl16', 'vl17', 'vl18', 'vl19', 'vl20', 'vl21', 'vl22', 'vl23', 'vl24', 'vl25', 'vl26', 'vl27', 'vl28', 'vl29', 'vl30', 'vl31', 'vl32', 'vl33', 'vl34', 'vl35', 'vl36', 'vl37', 'vl38', 'vl39', 'vl40', 'vl41', 'vl42', 'vl43', 'vl44', 'vl45', 'vl46', 'vl47', 'vl48', 'vl49', 'vl50', 'vl51', 'vl52', 'vl53', 'vl54', 'vl55', 'vl56', 'vl57', 'vl58', 'vl59', 'vl60', 'vl61', 'vl62', 'vl63', 'vl64', 'vl65', 'vl66', 'vl67', 'vl68', 'vl69', 'vl70', 'vl71', 'vl72', 'vl73', 'vl74', 'vl75', 'vl76', 'vl77', 'vl78', 'vl79', 'vl80', 'vl81', 'vl82', 'vl83', 'vl84', 'vl85', 'vl86', 'vl87', 'vl88', 'vl89', 'vl90', 'vl91', 'vl92', 'vl93', 'vl94', 'vl95', 'vl96', 'vl97', 'vl98', 'vl99', 'vm00', 'vm01', 'vm02', 'vm03', 'vm04', 'vm05', 'vm06', 'vm07', 'vm08', 'vm09', 'vm10', 'vm11', 'vm12', 'vm13', 'vm14', 'vm15', 'vm16', 'vm17', 'vm18', 'vm19', 'vm20', 'vm21', 'vm22', 'vm23', 'vm24', 'vm25', 'vm26', 'vm27', 'vm28', 'vm29', 'vm30', 'vm31', 'vm32', 'vm33', 'vm34', 'vm35', 'vm36', 'vm37', 'vm38', 'vm39', 'vm40', 'vm41', 'vm42', 'vm43', 'vm44', 'vm45', 'vm46', 'vm47', 'vm48', 'vm49', 'vm50', 'vm51', 'vm52', 'vm53', 'vm54', 'vm55', 'vm56', 'vm57', 'vm58', 'vm59', 'vm60', 'vm61', 'vm62', 'vm63', 'vm64', 'vm65', 'vm66', 'vm67', 'vm68', 'vm69', 'vm70', 'vm71', 'vm72', 'vm73', 'vm74', 'vm75', 'vm76', 'vm77', 'vm78', 'vm79', 'vm80', 'vm81', 'vm82', 'vm83', 'vm84', 'vm85', 'vm86', 'vm87', 'vm88', 'vm89', 'vm90', 'vm91', 'vm92', 'vm93', 'vm94', 'vm95', 'vm96', 'vm97', 'vm98', 'vm99', 'vn00', 'vn01', 'vn02', 'vn03', 'vn04', 'vn05', 'vn06', 'vn07', 'vn08', 'vn09', 'vn10', 'vn11', 'vn12', 'vn13', 'vn14', 'vn15', 'vn16', 'vn17', 'vn18', 'vn19', 'vn20', 'vn21', 'vn22', 'vn23', 'vn24', 'vn25', 'vn26', 'vn27', 'vn28', 'vn29', 'vn30', 'vn31', 'vn32', 'vn33', 'vn34', 'vn35', 'vn36', 'vn37', 'vn38', 'vn39', 'vn40', 'vn41', 'vn42', 'vn43', 'vn44', 'vn45', 'vn46', 'vn47', 'vn48', 'vn49', 'vn50', 'vn51', 'vn52', 'vn53', 'vn54', 'vn55', 'vn56', 'vn57', 'vn58', 'vn59', 'vn60', 'vn61', 'vn62', 'vn63', 'vn64', 'vn65', 'vn66', 'vn67', 'vn68', 'vn69', 'vn70', 'vn71', 'vn72', 'vn73', 'vn74', 'vn75', 'vn76', 'vn77', 'vn78', 'vn79', 'vn80', 'vn81', 'vn82', 'vn83', 'vn84', 'vn85', 'vn86', 'vn87', 'vn88', 'vn89', 'vn90', 'vn91', 'vn92', 'vn93', 'vn94', 'vn95', 'vn96', 'vn97', 'vn98', 'vn99', 'vo00', 'vo01', 'vo02', 'vo03', 'vo04', 'vo05', 'vo06', 'vo07', 'vo08', 'vo09', 'vo10', 'vo11', 'vo12', 'vo13', 'vo14', 'vo15', 'vo16', 'vo17', 'vo18', 'vo19', 'vo20', 'vo21', 'vo22', 'vo23', 'vo24', 'vo25', 'vo26', 'vo27', 'vo28', 'vo29', 'vo30', 'vo31', 'vo32', 'vo33', 'vo34', 'vo35', 'vo36', 'vo37', 'vo38', 'vo39', 'vo40', 'vo41', 'vo42', 'vo43', 'vo44', 'vo45', 'vo46', 'vo47', 'vo48', 'vo49', 'vo50', 'vo51', 'vo52', 'vo53', 'vo54', 'vo55', 'vo56', 'vo57', 'vo58', 'vo59', 'vo60', 'vo61', 'vo62', 'vo63', 'vo64', 'vo65', 'vo66', 'vo67', 'vo68', 'vo69', 'vo70', 'vo71', 'vo72', 'vo73', 'vo74', 'vo75', 'vo76', 'vo77', 'vo78', 'vo79', 'vo80', 'vo81', 'vo82', 'vo83', 'vo84', 'vo85', 'vo86', 'vo87', 'vo88', 'vo89', 'vo90', 'vo91', 'vo92', 'vo93', 'vo94', 'vo95', 'vo96', 'vo97', 'vo98', 'vo99', 'vp00', 'vp01', 'vp02', 'vp03', 'vp04', 'vp05', 'vp06', 'vp07', 'vp08', 'vp09', 'vp10', 'vp11', 'vp12', 'vp13', 'vp14', 'vp15', 'vp16', 'vp17', 'vp18', 'vp19', 'vp20', 'vp21', 'vp22', 'vp23', 'vp24', 'vp25', 'vp26', 'vp27', 'vp28', 'vp29', 'vp30', 'vp31', 'vp32', 'vp33', 'vp34', 'vp35', 'vp36', 'vp37', 'vp38', 'vp39', 'vp40', 'vp41', 'vp42', 'vp43', 'vp44', 'vp45', 'vp46', 'vp47', 'vp48', 'vp49', 'vp50', 'vp51', 'vp52', 'vp53', 'vp54', 'vp55', 'vp56', 'vp57', 'vp58', 'vp59', 'vp60', 'vp61', 'vp62', 'vp63', 'vp64', 'vp65', 'vp66', 'vp67', 'vp68', 'vp69', 'vp70', 'vp71', 'vp72', 'vp73', 'vp74', 'vp75', 'vp76', 'vp77', 'vp78', 'vp79', 'vp80', 'vp81', 'vp82', 'vp83', 'vp84', 'vp85', 'vp86', 'vp87', 'vp88', 'vp89', 'vp90', 'vp91', 'vp92', 'vp93', 'vp94', 'vp95', 'vp96', 'vp97', 'vp98', 'vp99', 'vq00', 'vq01', 'vq02', 'vq03', 'vq04', 'vq05', 'vq06', 'vq07', 'vq08', 'vq09', 'vq10', 'vq11', 'vq12', 'vq13', 'vq14', 'vq15', 'vq16', 'vq17', 'vq18', 'vq19', 'vq20', 'vq21', 'vq22', 'vq23', 'vq24', 'vq25', 'vq26', 'vq27', 'vq28', 'vq29', 'vq30', 'vq31', 'vq32', 'vq33', 'vq34', 'vq35', 'vq36', 'vq37', 'vq38', 'vq39', 'vq40', 'vq41', 'vq42', 'vq43', 'vq44', 'vq45', 'vq46', 'vq47', 'vq48', 'vq49', 'vq50', 'vq51', 'vq52', 'vq53', 'vq54', 'vq55', 'vq56', 'vq57', 'vq58', 'vq59', 'vq60', 'vq61', 'vq62', 'vq63', 'vq64', 'vq65', 'vq66', 'vq67', 'vq68', 'vq69', 'vq70', 'vq71', 'vq72', 'vq73', 'vq74', 'vq75', 'vq76', 'vq77', 'vq78', 'vq79', 'vq80', 'vq81', 'vq82', 'vq83', 'vq84', 'vq85', 'vq86', 'vq87', 'vq88', 'vq89', 'vq90', 'vq91', 'vq92', 'vq93', 'vq94', 'vq95', 'vq96', 'vq97', 'vq98', 'vq99', 'vr00', 'vr01', 'vr02', 'vr03', 'vr04', 'vr05', 'vr06', 'vr07', 'vr08', 'vr09', 'vr10', 'vr11', 'vr12', 'vr13', 'vr14', 'vr15', 'vr16', 'vr17', 'vr18', 'vr19', 'vr20', 'vr21', 'vr22', 'vr23', 'vr24', 'vr25', 'vr26', 'vr27', 'vr28', 'vr29', 'vr30', 'vr31', 'vr32', 'vr33', 'vr34', 'vr35', 'vr36', 'vr37', 'vr38', 'vr39', 'vr40', 'vr41', 'vr42', 'vr43', 'vr44', 'vr45', 'vr46', 'vr47', 'vr48', 'vr49', 'vr50', 'vr51', 'vr52', 'vr53', 'vr54', 'vr55', 'vr56', 'vr57', 'vr58', 'vr59', 'vr60', 'vr61', 'vr62', 'vr63', 'vr64', 'vr65', 'vr66', 'vr67', 'vr68', 'vr69', 'vr70', 'vr71', 'vr72', 'vr73', 'vr74', 'vr75', 'vr76', 'vr77', 'vr78', 'vr79', 'vr80', 'vr81', 'vr82', 'vr83', 'vr84', 'vr85', 'vr86', 'vr87', 'vr88', 'vr89', 'vr90', 'vr91', 'vr92', 'vr93', 'vr94', 'vr95', 'vr96', 'vr97', 'vr98', 'vr99', 'vs00', 'vs01', 'vs02', 'vs03', 'vs04', 'vs05', 'vs06', 'vs07', 'vs08', 'vs09', 'vs10', 'vs11', 'vs12', 'vs13', 'vs14', 'vs15', 'vs16', 'vs17', 'vs18', 'vs19', 'vs20', 'vs21', 'vs22', 'vs23', 'vs24', 'vs25', 'vs26', 'vs27', 'vs28', 'vs29', 'vs30', 'vs31', 'vs32', 'vs33', 'vs34', 'vs35', 'vs36', 'vs37', 'vs38', 'vs39', 'vs40', 'vs41', 'vs42', 'vs43', 'vs44', 'vs45', 'vs46', 'vs47', 'vs48', 'vs49', 'vs50', 'vs51', 'vs52', 'vs53', 'vs54', 'vs55', 'vs56', 'vs57', 'vs58', 'vs59', 'vs60', 'vs61', 'vs62', 'vs63', 'vs64', 'vs65', 'vs66', 'vs67', 'vs68', 'vs69', 'vs70', 'vs71', 'vs72', 'vs73', 'vs74', 'vs75', 'vs76', 'vs77', 'vs78', 'vs79', 'vs80', 'vs81', 'vs82', 'vs83', 'vs84', 'vs85', 'vs86', 'vs87', 'vs88', 'vs89', 'vs90', 'vs91', 'vs92', 'vs93', 'vs94', 'vs95', 'vs96', 'vs97', 'vs98', 'vs99', 'vt00', 'vt01', 'vt02', 'vt03', 'vt04', 'vt05', 'vt06', 'vt07', 'vt08', 'vt09', 'vt10', 'vt11', 'vt12', 'vt13', 'vt14', 'vt15', 'vt16', 'vt17', 'vt18', 'vt19', 'vt20', 'vt21', 'vt22', 'vt23', 'vt24', 'vt25', 'vt26', 'vt27', 'vt28', 'vt29', 'vt30', 'vt31', 'vt32', 'vt33', 'vt34', 'vt35', 'vt36', 'vt37', 'vt38', 'vt39', 'vt40', 'vt41', 'vt42', 'vt43', 'vt44', 'vt45', 'vt46', 'vt47', 'vt48', 'vt49', 'vt50', 'vt51', 'vt52', 'vt53', 'vt54', 'vt55', 'vt56', 'vt57', 'vt58', 'vt59', 'vt60', 'vt61', 'vt62', 'vt63', 'vt64', 'vt65', 'vt66', 'vt67', 'vt68', 'vt69', 'vt70', 'vt71', 'vt72', 'vt73', 'vt74', 'vt75', 'vt76', 'vt77', 'vt78', 'vt79', 'vt80', 'vt81', 'vt82', 'vt83', 'vt84', 'vt85', 'vt86', 'vt87', 'vt88', 'vt89', 'vt90', 'vt91', 'vt92', 'vt93', 'vt94', 'vt95', 'vt96', 'vt97', 'vt98', 'vt99', 'vu00', 'vu01', 'vu02', 'vu03', 'vu04', 'vu05', 'vu06', 'vu07', 'vu08', 'vu09', 'vu10', 'vu11', 'vu12', 'vu13', 'vu14', 'vu15', 'vu16', 'vu17', 'vu18', 'vu19', 'vu20', 'vu21', 'vu22', 'vu23', 'vu24', 'vu25', 'vu26', 'vu27', 'vu28', 'vu29', 'vu30', 'vu31', 'vu32', 'vu33', 'vu34', 'vu35', 'vu36', 'vu37', 'vu38', 'vu39', 'vu40', 'vu41', 'vu42', 'vu43', 'vu44', 'vu45', 'vu46', 'vu47', 'vu48', 'vu49', 'vu50', 'vu51', 'vu52', 'vu53', 'vu54', 'vu55', 'vu56', 'vu57', 'vu58', 'vu59', 'vu60', 'vu61', 'vu62', 'vu63', 'vu64', 'vu65', 'vu66', 'vu67', 'vu68', 'vu69', 'vu70', 'vu71', 'vu72', 'vu73', 'vu74', 'vu75', 'vu76', 'vu77', 'vu78', 'vu79', 'vu80', 'vu81', 'vu82', 'vu83', 'vu84', 'vu85', 'vu86', 'vu87', 'vu88', 'vu89', 'vu90', 'vu91', 'vu92', 'vu93', 'vu94', 'vu95', 'vu96', 'vu97', 'vu98', 'vu99', 'vv00', 'vv01', 'vv02', 'vv03', 'vv04', 'vv05', 'vv06', 'vv07', 'vv08', 'vv09', 'vv10', 'vv11', 'vv12', 'vv13', 'vv14', 'vv15', 'vv16', 'vv17', 'vv18', 'vv19', 'vv20', 'vv21', 'vv22', 'vv23', 'vv24', 'vv25', 'vv26', 'vv27', 'vv28', 'vv29', 'vv30', 'vv31', 'vv32', 'vv33', 'vv34', 'vv35', 'vv36', 'vv37', 'vv38', 'vv39', 'vv40', 'vv41', 'vv42', 'vv43', 'vv44', 'vv45', 'vv46', 'vv47', 'vv48', 'vv49', 'vv50', 'vv51', 'vv52', 'vv53', 'vv54', 'vv55', 'vv56', 'vv57', 'vv58', 'vv59', 'vv60', 'vv61', 'vv62', 'vv63', 'vv64', 'vv65', 'vv66', 'vv67', 'vv68', 'vv69', 'vv70', 'vv71', 'vv72', 'vv73', 'vv74', 'vv75', 'vv76', 'vv77', 'vv78', 'vv79', 'vv80', 'vv81', 'vv82', 'vv83', 'vv84', 'vv85', 'vv86', 'vv87', 'vv88', 'vv89', 'vv90', 'vv91', 'vv92', 'vv93', 'vv94', 'vv95', 'vv96', 'vv97', 'vv98', 'vv99', 'vw00', 'vw01', 'vw02', 'vw03', 'vw04', 'vw05', 'vw06', 'vw07', 'vw08', 'vw09', 'vw10', 'vw11', 'vw12', 'vw13', 'vw14', 'vw15', 'vw16', 'vw17', 'vw18', 'vw19', 'vw20', 'vw21', 'vw22', 'vw23', 'vw24', 'vw25', 'vw26', 'vw27', 'vw28', 'vw29', 'vw30', 'vw31', 'vw32', 'vw33', 'vw34', 'vw35', 'vw36', 'vw37', 'vw38', 'vw39', 'vw40', 'vw41', 'vw42', 'vw43', 'vw44', 'vw45', 'vw46', 'vw47', 'vw48', 'vw49', 'vw50', 'vw51', 'vw52', 'vw53', 'vw54', 'vw55', 'vw56', 'vw57', 'vw58', 'vw59', 'vw60', 'vw61', 'vw62', 'vw63', 'vw64', 'vw65', 'vw66', 'vw67', 'vw68', 'vw69', 'vw70', 'vw71', 'vw72', 'vw73', 'vw74', 'vw75', 'vw76', 'vw77', 'vw78', 'vw79', 'vw80', 'vw81', 'vw82', 'vw83', 'vw84', 'vw85', 'vw86', 'vw87', 'vw88', 'vw89', 'vw90', 'vw91', 'vw92', 'vw93', 'vw94', 'vw95', 'vw96', 'vw97', 'vw98', 'vw99', 'vx00', 'vx01', 'vx02', 'vx03', 'vx04', 'vx05', 'vx06', 'vx07', 'vx08', 'vx09', 'vx10', 'vx11', 'vx12', 'vx13', 'vx14', 'vx15', 'vx16', 'vx17', 'vx18', 'vx19', 'vx20', 'vx21', 'vx22', 'vx23', 'vx24', 'vx25', 'vx26', 'vx27', 'vx28', 'vx29', 'vx30', 'vx31', 'vx32', 'vx33', 'vx34', 'vx35', 'vx36', 'vx37', 'vx38', 'vx39', 'vx40', 'vx41', 'vx42', 'vx43', 'vx44', 'vx45', 'vx46', 'vx47', 'vx48', 'vx49', 'vx50', 'vx51', 'vx52', 'vx53', 'vx54', 'vx55', 'vx56', 'vx57', 'vx58', 'vx59', 'vx60', 'vx61', 'vx62', 'vx63', 'vx64', 'vx65', 'vx66', 'vx67', 'vx68', 'vx69', 'vx70', 'vx71', 'vx72', 'vx73', 'vx74', 'vx75', 'vx76', 'vx77', 'vx78', 'vx79', 'vx80', 'vx81', 'vx82', 'vx83', 'vx84', 'vx85', 'vx86', 'vx87', 'vx88', 'vx89', 'vx90', 'vx91', 'vx92', 'vx93', 'vx94', 'vx95', 'vx96', 'vx97', 'vx98', 'vx99', 'vy00', 'vy01', 'vy02', 'vy03', 'vy04', 'vy05', 'vy06', 'vy07', 'vy08', 'vy09', 'vy10', 'vy11', 'vy12', 'vy13', 'vy14', 'vy15', 'vy16', 'vy17', 'vy18', 'vy19', 'vy20', 'vy21', 'vy22', 'vy23', 'vy24', 'vy25', 'vy26', 'vy27', 'vy28', 'vy29', 'vy30', 'vy31', 'vy32', 'vy33', 'vy34', 'vy35', 'vy36', 'vy37', 'vy38', 'vy39', 'vy40', 'vy41', 'vy42', 'vy43', 'vy44', 'vy45', 'vy46', 'vy47', 'vy48', 'vy49', 'vy50', 'vy51', 'vy52', 'vy53', 'vy54', 'vy55', 'vy56', 'vy57', 'vy58', 'vy59', 'vy60', 'vy61', 'vy62', 'vy63', 'vy64', 'vy65', 'vy66', 'vy67', 'vy68', 'vy69', 'vy70', 'vy71', 'vy72', 'vy73', 'vy74', 'vy75', 'vy76', 'vy77', 'vy78', 'vy79', 'vy80', 'vy81', 'vy82', 'vy83', 'vy84', 'vy85', 'vy86', 'vy87', 'vy88', 'vy89', 'vy90', 'vy91', 'vy92', 'vy93', 'vy94', 'vy95', 'vy96', 'vy97', 'vy98', 'vy99', 'vz00', 'vz01', 'vz02', 'vz03', 'vz04', 'vz05', 'vz06', 'vz07', 'vz08', 'vz09', 'vz10', 'vz11', 'vz12', 'vz13', 'vz14', 'vz15', 'vz16', 'vz17', 'vz18', 'vz19', 'vz20', 'vz21', 'vz22', 'vz23', 'vz24', 'vz25', 'vz26', 'vz27', 'vz28', 'vz29', 'vz30', 'vz31', 'vz32', 'vz33', 'vz34', 'vz35', 'vz36', 'vz37', 'vz38', 'vz39', 'vz40', 'vz41', 'vz42', 'vz43', 'vz44', 'vz45', 'vz46', 'vz47', 'vz48', 'vz49', 'vz50', 'vz51', 'vz52', 'vz53', 'vz54', 'vz55', 'vz56', 'vz57', 'vz58', 'vz59', 'vz60', 'vz61', 'vz62', 'vz63', 'vz64', 'vz65', 'vz66', 'vz67', 'vz68', 'vz69', 'vz70', 'vz71', 'vz72', 'vz73', 'vz74', 'vz75', 'vz76', 'vz77', 'vz78', 'vz79', 'vz80', 'vz81', 'vz82', 'vz83', 'vz84', 'vz85', 'vz86', 'vz87', 'vz88', 'vz89', 'vz90', 'vz91', 'vz92', 'vz93', 'vz94', 'vz95', 'vz96', 'vz97', 'vz98', 'vz99', 'wa00', 'wa01', 'wa02', 'wa03', 'wa04', 'wa05', 'wa06', 'wa07', 'wa08', 'wa09', 'wa10', 'wa11', 'wa12', 'wa13', 'wa14', 'wa15', 'wa16', 'wa17', 'wa18', 'wa19', 'wa20', 'wa21', 'wa22', 'wa23', 'wa24', 'wa25', 'wa26', 'wa27', 'wa28', 'wa29', 'wa30', 'wa31', 'wa32', 'wa33', 'wa34', 'wa35', 'wa36', 'wa37', 'wa38', 'wa39', 'wa40', 'wa41', 'wa42', 'wa43', 'wa44', 'wa45', 'wa46', 'wa47', 'wa48', 'wa49', 'wa50', 'wa51', 'wa52', 'wa53', 'wa54', 'wa55', 'wa56', 'wa57', 'wa58', 'wa59', 'wa60', 'wa61', 'wa62', 'wa63', 'wa64', 'wa65', 'wa66', 'wa67', 'wa68', 'wa69', 'wa70', 'wa71', 'wa72', 'wa73', 'wa74', 'wa75', 'wa76', 'wa77', 'wa78', 'wa79', 'wa80', 'wa81', 'wa82', 'wa83', 'wa84', 'wa85', 'wa86', 'wa87', 'wa88', 'wa89', 'wa90', 'wa91', 'wa92', 'wa93', 'wa94', 'wa95', 'wa96', 'wa97', 'wa98', 'wa99', 'wb00', 'wb01', 'wb02', 'wb03', 'wb04', 'wb05', 'wb06', 'wb07', 'wb08', 'wb09', 'wb10', 'wb11', 'wb12', 'wb13', 'wb14', 'wb15', 'wb16', 'wb17', 'wb18', 'wb19', 'wb20', 'wb21', 'wb22', 'wb23', 'wb24', 'wb25', 'wb26', 'wb27', 'wb28', 'wb29', 'wb30', 'wb31', 'wb32', 'wb33', 'wb34', 'wb35', 'wb36', 'wb37', 'wb38', 'wb39', 'wb40', 'wb41', 'wb42', 'wb43', 'wb44', 'wb45', 'wb46', 'wb47', 'wb48', 'wb49', 'wb50', 'wb51', 'wb52', 'wb53', 'wb54', 'wb55', 'wb56', 'wb57', 'wb58', 'wb59', 'wb60', 'wb61', 'wb62', 'wb63', 'wb64', 'wb65', 'wb66', 'wb67', 'wb68', 'wb69', 'wb70', 'wb71', 'wb72', 'wb73', 'wb74', 'wb75', 'wb76', 'wb77', 'wb78', 'wb79', 'wb80', 'wb81', 'wb82', 'wb83', 'wb84', 'wb85', 'wb86', 'wb87', 'wb88', 'wb89', 'wb90', 'wb91', 'wb92', 'wb93', 'wb94', 'wb95', 'wb96', 'wb97', 'wb98', 'wb99', 'wc00', 'wc01', 'wc02', 'wc03', 'wc04', 'wc05', 'wc06', 'wc07', 'wc08', 'wc09', 'wc10', 'wc11', 'wc12', 'wc13', 'wc14', 'wc15', 'wc16', 'wc17', 'wc18', 'wc19', 'wc20', 'wc21', 'wc22', 'wc23', 'wc24', 'wc25', 'wc26', 'wc27', 'wc28', 'wc29', 'wc30', 'wc31', 'wc32', 'wc33', 'wc34', 'wc35', 'wc36', 'wc37', 'wc38', 'wc39', 'wc40', 'wc41', 'wc42', 'wc43', 'wc44', 'wc45', 'wc46', 'wc47', 'wc48', 'wc49', 'wc50', 'wc51', 'wc52', 'wc53', 'wc54', 'wc55', 'wc56', 'wc57', 'wc58', 'wc59', 'wc60', 'wc61', 'wc62', 'wc63', 'wc64', 'wc65', 'wc66', 'wc67', 'wc68', 'wc69', 'wc70', 'wc71', 'wc72', 'wc73', 'wc74', 'wc75', 'wc76', 'wc77', 'wc78', 'wc79', 'wc80', 'wc81', 'wc82', 'wc83', 'wc84', 'wc85', 'wc86', 'wc87', 'wc88', 'wc89', 'wc90', 'wc91', 'wc92', 'wc93', 'wc94', 'wc95', 'wc96', 'wc97', 'wc98', 'wc99', 'wd00', 'wd01', 'wd02', 'wd03', 'wd04', 'wd05', 'wd06', 'wd07', 'wd08', 'wd09', 'wd10', 'wd11', 'wd12', 'wd13', 'wd14', 'wd15', 'wd16', 'wd17', 'wd18', 'wd19', 'wd20', 'wd21', 'wd22', 'wd23', 'wd24', 'wd25', 'wd26', 'wd27', 'wd28', 'wd29', 'wd30', 'wd31', 'wd32', 'wd33', 'wd34', 'wd35', 'wd36', 'wd37', 'wd38', 'wd39', 'wd40', 'wd41', 'wd42', 'wd43', 'wd44', 'wd45', 'wd46', 'wd47', 'wd48', 'wd49', 'wd50', 'wd51', 'wd52', 'wd53', 'wd54', 'wd55', 'wd56', 'wd57', 'wd58', 'wd59', 'wd60', 'wd61', 'wd62', 'wd63', 'wd64', 'wd65', 'wd66', 'wd67', 'wd68', 'wd69', 'wd70', 'wd71', 'wd72', 'wd73', 'wd74', 'wd75', 'wd76', 'wd77', 'wd78', 'wd79', 'wd80', 'wd81', 'wd82', 'wd83', 'wd84', 'wd85', 'wd86', 'wd87', 'wd88', 'wd89', 'wd90', 'wd91', 'wd92', 'wd93', 'wd94', 'wd95', 'wd96', 'wd97', 'wd98', 'wd99', 'we00', 'we01', 'we02', 'we03', 'we04', 'we05', 'we06', 'we07', 'we08', 'we09', 'we10', 'we11', 'we12', 'we13', 'we14', 'we15', 'we16', 'we17', 'we18', 'we19', 'we20', 'we21', 'we22', 'we23', 'we24', 'we25', 'we26', 'we27', 'we28', 'we29', 'we30', 'we31', 'we32', 'we33', 'we34', 'we35', 'we36', 'we37', 'we38', 'we39', 'we40', 'we41', 'we42', 'we43', 'we44', 'we45', 'we46', 'we47', 'we48', 'we49', 'we50', 'we51', 'we52', 'we53', 'we54', 'we55', 'we56', 'we57', 'we58', 'we59', 'we60', 'we61', 'we62', 'we63', 'we64', 'we65', 'we66', 'we67', 'we68', 'we69', 'we70', 'we71', 'we72', 'we73', 'we74', 'we75', 'we76', 'we77', 'we78', 'we79', 'we80', 'we81', 'we82', 'we83', 'we84', 'we85', 'we86', 'we87', 'we88', 'we89', 'we90', 'we91', 'we92', 'we93', 'we94', 'we95', 'we96', 'we97', 'we98', 'we99', 'wf00', 'wf01', 'wf02', 'wf03', 'wf04', 'wf05', 'wf06', 'wf07', 'wf08', 'wf09', 'wf10', 'wf11', 'wf12', 'wf13', 'wf14', 'wf15', 'wf16', 'wf17', 'wf18', 'wf19', 'wf20', 'wf21', 'wf22', 'wf23', 'wf24', 'wf25', 'wf26', 'wf27', 'wf28', 'wf29', 'wf30', 'wf31', 'wf32', 'wf33', 'wf34', 'wf35', 'wf36', 'wf37', 'wf38', 'wf39', 'wf40', 'wf41', 'wf42', 'wf43', 'wf44', 'wf45', 'wf46', 'wf47', 'wf48', 'wf49', 'wf50', 'wf51', 'wf52', 'wf53', 'wf54', 'wf55', 'wf56', 'wf57', 'wf58', 'wf59', 'wf60', 'wf61', 'wf62', 'wf63', 'wf64', 'wf65', 'wf66', 'wf67', 'wf68', 'wf69', 'wf70', 'wf71', 'wf72', 'wf73', 'wf74', 'wf75', 'wf76', 'wf77', 'wf78', 'wf79', 'wf80', 'wf81', 'wf82', 'wf83', 'wf84', 'wf85', 'wf86', 'wf87', 'wf88', 'wf89', 'wf90', 'wf91', 'wf92', 'wf93', 'wf94', 'wf95', 'wf96', 'wf97', 'wf98', 'wf99', 'wg00', 'wg01', 'wg02', 'wg03', 'wg04', 'wg05', 'wg06', 'wg07', 'wg08', 'wg09', 'wg10', 'wg11', 'wg12', 'wg13', 'wg14', 'wg15', 'wg16', 'wg17', 'wg18', 'wg19', 'wg20', 'wg21', 'wg22', 'wg23', 'wg24', 'wg25', 'wg26', 'wg27', 'wg28', 'wg29', 'wg30', 'wg31', 'wg32', 'wg33', 'wg34', 'wg35', 'wg36', 'wg37', 'wg38', 'wg39', 'wg40', 'wg41', 'wg42', 'wg43', 'wg44', 'wg45', 'wg46', 'wg47', 'wg48', 'wg49', 'wg50', 'wg51', 'wg52', 'wg53', 'wg54', 'wg55', 'wg56', 'wg57', 'wg58', 'wg59', 'wg60', 'wg61', 'wg62', 'wg63', 'wg64', 'wg65', 'wg66', 'wg67', 'wg68', 'wg69', 'wg70', 'wg71', 'wg72', 'wg73', 'wg74', 'wg75', 'wg76', 'wg77', 'wg78', 'wg79', 'wg80', 'wg81', 'wg82', 'wg83', 'wg84', 'wg85', 'wg86', 'wg87', 'wg88', 'wg89', 'wg90', 'wg91', 'wg92', 'wg93', 'wg94', 'wg95', 'wg96', 'wg97', 'wg98', 'wg99', 'wh00', 'wh01', 'wh02', 'wh03', 'wh04', 'wh05', 'wh06', 'wh07', 'wh08', 'wh09', 'wh10', 'wh11', 'wh12', 'wh13', 'wh14', 'wh15', 'wh16', 'wh17', 'wh18', 'wh19', 'wh20', 'wh21', 'wh22', 'wh23', 'wh24', 'wh25', 'wh26', 'wh27', 'wh28', 'wh29', 'wh30', 'wh31', 'wh32', 'wh33', 'wh34', 'wh35', 'wh36', 'wh37', 'wh38', 'wh39', 'wh40', 'wh41', 'wh42', 'wh43', 'wh44', 'wh45', 'wh46', 'wh47', 'wh48', 'wh49', 'wh50', 'wh51', 'wh52', 'wh53', 'wh54', 'wh55', 'wh56', 'wh57', 'wh58', 'wh59', 'wh60', 'wh61', 'wh62', 'wh63', 'wh64', 'wh65', 'wh66', 'wh67', 'wh68', 'wh69', 'wh70', 'wh71', 'wh72', 'wh73', 'wh74', 'wh75', 'wh76', 'wh77', 'wh78', 'wh79', 'wh80', 'wh81', 'wh82', 'wh83', 'wh84', 'wh85', 'wh86', 'wh87', 'wh88', 'wh89', 'wh90', 'wh91', 'wh92', 'wh93', 'wh94', 'wh95', 'wh96', 'wh97', 'wh98', 'wh99', 'wi00', 'wi01', 'wi02', 'wi03', 'wi04', 'wi05', 'wi06', 'wi07', 'wi08', 'wi09', 'wi10', 'wi11', 'wi12', 'wi13', 'wi14', 'wi15', 'wi16', 'wi17', 'wi18', 'wi19', 'wi20', 'wi21', 'wi22', 'wi23', 'wi24', 'wi25', 'wi26', 'wi27', 'wi28', 'wi29', 'wi30', 'wi31', 'wi32', 'wi33', 'wi34', 'wi35', 'wi36', 'wi37', 'wi38', 'wi39', 'wi40', 'wi41', 'wi42', 'wi43', 'wi44', 'wi45', 'wi46', 'wi47', 'wi48', 'wi49', 'wi50', 'wi51', 'wi52', 'wi53', 'wi54', 'wi55', 'wi56', 'wi57', 'wi58', 'wi59', 'wi60', 'wi61', 'wi62', 'wi63', 'wi64', 'wi65', 'wi66', 'wi67', 'wi68', 'wi69', 'wi70', 'wi71', 'wi72', 'wi73', 'wi74', 'wi75', 'wi76', 'wi77', 'wi78', 'wi79', 'wi80', 'wi81', 'wi82', 'wi83', 'wi84', 'wi85', 'wi86', 'wi87', 'wi88', 'wi89', 'wi90', 'wi91', 'wi92', 'wi93', 'wi94', 'wi95', 'wi96', 'wi97', 'wi98', 'wi99', 'wj00', 'wj01', 'wj02', 'wj03', 'wj04', 'wj05', 'wj06', 'wj07', 'wj08', 'wj09', 'wj10', 'wj11', 'wj12', 'wj13', 'wj14', 'wj15', 'wj16', 'wj17', 'wj18', 'wj19', 'wj20', 'wj21', 'wj22', 'wj23', 'wj24', 'wj25', 'wj26', 'wj27', 'wj28', 'wj29', 'wj30', 'wj31', 'wj32', 'wj33', 'wj34', 'wj35', 'wj36', 'wj37', 'wj38', 'wj39', 'wj40', 'wj41', 'wj42', 'wj43', 'wj44', 'wj45', 'wj46', 'wj47', 'wj48', 'wj49', 'wj50', 'wj51', 'wj52', 'wj53', 'wj54', 'wj55', 'wj56', 'wj57', 'wj58', 'wj59', 'wj60', 'wj61', 'wj62', 'wj63', 'wj64', 'wj65', 'wj66', 'wj67', 'wj68', 'wj69', 'wj70', 'wj71', 'wj72', 'wj73', 'wj74', 'wj75', 'wj76', 'wj77', 'wj78', 'wj79', 'wj80', 'wj81', 'wj82', 'wj83', 'wj84', 'wj85', 'wj86', 'wj87', 'wj88', 'wj89', 'wj90', 'wj91', 'wj92', 'wj93', 'wj94', 'wj95', 'wj96', 'wj97', 'wj98', 'wj99', 'wk00', 'wk01', 'wk02', 'wk03', 'wk04', 'wk05', 'wk06', 'wk07', 'wk08', 'wk09', 'wk10', 'wk11', 'wk12', 'wk13', 'wk14', 'wk15', 'wk16', 'wk17', 'wk18', 'wk19', 'wk20', 'wk21', 'wk22', 'wk23', 'wk24', 'wk25', 'wk26', 'wk27', 'wk28', 'wk29', 'wk30', 'wk31', 'wk32', 'wk33', 'wk34', 'wk35', 'wk36', 'wk37', 'wk38', 'wk39', 'wk40', 'wk41', 'wk42', 'wk43', 'wk44', 'wk45', 'wk46', 'wk47', 'wk48', 'wk49', 'wk50', 'wk51', 'wk52', 'wk53', 'wk54', 'wk55', 'wk56', 'wk57', 'wk58', 'wk59', 'wk60', 'wk61', 'wk62', 'wk63', 'wk64', 'wk65', 'wk66', 'wk67', 'wk68', 'wk69', 'wk70', 'wk71', 'wk72', 'wk73', 'wk74', 'wk75', 'wk76', 'wk77', 'wk78', 'wk79', 'wk80', 'wk81', 'wk82', 'wk83', 'wk84', 'wk85', 'wk86', 'wk87', 'wk88', 'wk89', 'wk90', 'wk91', 'wk92', 'wk93', 'wk94', 'wk95', 'wk96', 'wk97', 'wk98', 'wk99', 'wl00', 'wl01', 'wl02', 'wl03', 'wl04', 'wl05', 'wl06', 'wl07', 'wl08', 'wl09', 'wl10', 'wl11', 'wl12', 'wl13', 'wl14', 'wl15', 'wl16', 'wl17', 'wl18', 'wl19', 'wl20', 'wl21', 'wl22', 'wl23', 'wl24', 'wl25', 'wl26', 'wl27', 'wl28', 'wl29', 'wl30', 'wl31', 'wl32', 'wl33', 'wl34', 'wl35', 'wl36', 'wl37', 'wl38', 'wl39', 'wl40', 'wl41', 'wl42', 'wl43', 'wl44', 'wl45', 'wl46', 'wl47', 'wl48', 'wl49', 'wl50', 'wl51', 'wl52', 'wl53', 'wl54', 'wl55', 'wl56', 'wl57', 'wl58', 'wl59', 'wl60', 'wl61', 'wl62', 'wl63', 'wl64', 'wl65', 'wl66', 'wl67', 'wl68', 'wl69', 'wl70', 'wl71', 'wl72', 'wl73', 'wl74', 'wl75', 'wl76', 'wl77', 'wl78', 'wl79', 'wl80', 'wl81', 'wl82', 'wl83', 'wl84', 'wl85', 'wl86', 'wl87', 'wl88', 'wl89', 'wl90', 'wl91', 'wl92', 'wl93', 'wl94', 'wl95', 'wl96', 'wl97', 'wl98', 'wl99', 'wm00', 'wm01', 'wm02', 'wm03', 'wm04', 'wm05', 'wm06', 'wm07', 'wm08', 'wm09', 'wm10', 'wm11', 'wm12', 'wm13', 'wm14', 'wm15', 'wm16', 'wm17', 'wm18', 'wm19', 'wm20', 'wm21', 'wm22', 'wm23', 'wm24', 'wm25', 'wm26', 'wm27', 'wm28', 'wm29', 'wm30', 'wm31', 'wm32', 'wm33', 'wm34', 'wm35', 'wm36', 'wm37', 'wm38', 'wm39', 'wm40', 'wm41', 'wm42', 'wm43', 'wm44', 'wm45', 'wm46', 'wm47', 'wm48', 'wm49', 'wm50', 'wm51', 'wm52', 'wm53', 'wm54', 'wm55', 'wm56', 'wm57', 'wm58', 'wm59', 'wm60', 'wm61', 'wm62', 'wm63', 'wm64', 'wm65', 'wm66', 'wm67', 'wm68', 'wm69', 'wm70', 'wm71', 'wm72', 'wm73', 'wm74', 'wm75', 'wm76', 'wm77', 'wm78', 'wm79', 'wm80', 'wm81', 'wm82', 'wm83', 'wm84', 'wm85', 'wm86', 'wm87', 'wm88', 'wm89', 'wm90', 'wm91', 'wm92', 'wm93', 'wm94', 'wm95', 'wm96', 'wm97', 'wm98', 'wm99', 'wn00', 'wn01', 'wn02', 'wn03', 'wn04', 'wn05', 'wn06', 'wn07', 'wn08', 'wn09', 'wn10', 'wn11', 'wn12', 'wn13', 'wn14', 'wn15', 'wn16', 'wn17', 'wn18', 'wn19', 'wn20', 'wn21', 'wn22', 'wn23', 'wn24', 'wn25', 'wn26', 'wn27', 'wn28', 'wn29', 'wn30', 'wn31', 'wn32', 'wn33', 'wn34', 'wn35', 'wn36', 'wn37', 'wn38', 'wn39', 'wn40', 'wn41', 'wn42', 'wn43', 'wn44', 'wn45', 'wn46', 'wn47', 'wn48', 'wn49', 'wn50', 'wn51', 'wn52', 'wn53', 'wn54', 'wn55', 'wn56', 'wn57', 'wn58', 'wn59', 'wn60', 'wn61', 'wn62', 'wn63', 'wn64', 'wn65', 'wn66', 'wn67', 'wn68', 'wn69', 'wn70', 'wn71', 'wn72', 'wn73', 'wn74', 'wn75', 'wn76', 'wn77', 'wn78', 'wn79', 'wn80', 'wn81', 'wn82', 'wn83', 'wn84', 'wn85', 'wn86', 'wn87', 'wn88', 'wn89', 'wn90', 'wn91', 'wn92', 'wn93', 'wn94', 'wn95', 'wn96', 'wn97', 'wn98', 'wn99', 'wo00', 'wo01', 'wo02', 'wo03', 'wo04', 'wo05', 'wo06', 'wo07', 'wo08', 'wo09', 'wo10', 'wo11', 'wo12', 'wo13', 'wo14', 'wo15', 'wo16', 'wo17', 'wo18', 'wo19', 'wo20', 'wo21', 'wo22', 'wo23', 'wo24', 'wo25', 'wo26', 'wo27', 'wo28', 'wo29', 'wo30', 'wo31', 'wo32', 'wo33', 'wo34', 'wo35', 'wo36', 'wo37', 'wo38', 'wo39', 'wo40', 'wo41', 'wo42', 'wo43', 'wo44', 'wo45', 'wo46', 'wo47', 'wo48', 'wo49', 'wo50', 'wo51', 'wo52', 'wo53', 'wo54', 'wo55', 'wo56', 'wo57', 'wo58', 'wo59', 'wo60', 'wo61', 'wo62', 'wo63', 'wo64', 'wo65', 'wo66', 'wo67', 'wo68', 'wo69', 'wo70', 'wo71', 'wo72', 'wo73', 'wo74', 'wo75', 'wo76', 'wo77', 'wo78', 'wo79', 'wo80', 'wo81', 'wo82', 'wo83', 'wo84', 'wo85', 'wo86', 'wo87', 'wo88', 'wo89', 'wo90', 'wo91', 'wo92', 'wo93', 'wo94', 'wo95', 'wo96', 'wo97', 'wo98', 'wo99', 'wp00', 'wp01', 'wp02', 'wp03', 'wp04', 'wp05', 'wp06', 'wp07', 'wp08', 'wp09', 'wp10', 'wp11', 'wp12', 'wp13', 'wp14', 'wp15', 'wp16', 'wp17', 'wp18', 'wp19', 'wp20', 'wp21', 'wp22', 'wp23', 'wp24', 'wp25', 'wp26', 'wp27', 'wp28', 'wp29', 'wp30', 'wp31', 'wp32', 'wp33', 'wp34', 'wp35', 'wp36', 'wp37', 'wp38', 'wp39', 'wp40', 'wp41', 'wp42', 'wp43', 'wp44', 'wp45', 'wp46', 'wp47', 'wp48', 'wp49', 'wp50', 'wp51', 'wp52', 'wp53', 'wp54', 'wp55', 'wp56', 'wp57', 'wp58', 'wp59', 'wp60', 'wp61', 'wp62', 'wp63', 'wp64', 'wp65', 'wp66', 'wp67', 'wp68', 'wp69', 'wp70', 'wp71', 'wp72', 'wp73', 'wp74', 'wp75', 'wp76', 'wp77', 'wp78', 'wp79', 'wp80', 'wp81', 'wp82', 'wp83', 'wp84', 'wp85', 'wp86', 'wp87', 'wp88', 'wp89', 'wp90', 'wp91', 'wp92', 'wp93', 'wp94', 'wp95', 'wp96', 'wp97', 'wp98', 'wp99', 'wq00', 'wq01', 'wq02', 'wq03', 'wq04', 'wq05', 'wq06', 'wq07', 'wq08', 'wq09', 'wq10', 'wq11', 'wq12', 'wq13', 'wq14', 'wq15', 'wq16', 'wq17', 'wq18', 'wq19', 'wq20', 'wq21', 'wq22', 'wq23', 'wq24', 'wq25', 'wq26', 'wq27', 'wq28', 'wq29', 'wq30', 'wq31', 'wq32', 'wq33', 'wq34', 'wq35', 'wq36', 'wq37', 'wq38', 'wq39', 'wq40', 'wq41', 'wq42', 'wq43', 'wq44', 'wq45', 'wq46', 'wq47', 'wq48', 'wq49', 'wq50', 'wq51', 'wq52', 'wq53', 'wq54', 'wq55', 'wq56', 'wq57', 'wq58', 'wq59', 'wq60', 'wq61', 'wq62', 'wq63', 'wq64', 'wq65', 'wq66', 'wq67', 'wq68', 'wq69', 'wq70', 'wq71', 'wq72', 'wq73', 'wq74', 'wq75', 'wq76', 'wq77', 'wq78', 'wq79', 'wq80', 'wq81', 'wq82', 'wq83', 'wq84', 'wq85', 'wq86', 'wq87', 'wq88', 'wq89', 'wq90', 'wq91', 'wq92', 'wq93', 'wq94', 'wq95', 'wq96', 'wq97', 'wq98', 'wq99', 'wr00', 'wr01', 'wr02', 'wr03', 'wr04', 'wr05', 'wr06', 'wr07', 'wr08', 'wr09', 'wr10', 'wr11', 'wr12', 'wr13', 'wr14', 'wr15', 'wr16', 'wr17', 'wr18', 'wr19', 'wr20', 'wr21', 'wr22', 'wr23', 'wr24', 'wr25', 'wr26', 'wr27', 'wr28', 'wr29', 'wr30', 'wr31', 'wr32', 'wr33', 'wr34', 'wr35', 'wr36', 'wr37', 'wr38', 'wr39', 'wr40', 'wr41', 'wr42', 'wr43', 'wr44', 'wr45', 'wr46', 'wr47', 'wr48', 'wr49', 'wr50', 'wr51', 'wr52', 'wr53', 'wr54', 'wr55', 'wr56', 'wr57', 'wr58', 'wr59', 'wr60', 'wr61', 'wr62', 'wr63', 'wr64', 'wr65', 'wr66', 'wr67', 'wr68', 'wr69', 'wr70', 'wr71', 'wr72', 'wr73', 'wr74', 'wr75', 'wr76', 'wr77', 'wr78', 'wr79', 'wr80', 'wr81', 'wr82', 'wr83', 'wr84', 'wr85', 'wr86', 'wr87', 'wr88', 'wr89', 'wr90', 'wr91', 'wr92', 'wr93', 'wr94', 'wr95', 'wr96', 'wr97', 'wr98', 'wr99', 'ws00', 'ws01', 'ws02', 'ws03', 'ws04', 'ws05', 'ws06', 'ws07', 'ws08', 'ws09', 'ws10', 'ws11', 'ws12', 'ws13', 'ws14', 'ws15', 'ws16', 'ws17', 'ws18', 'ws19', 'ws20', 'ws21', 'ws22', 'ws23', 'ws24', 'ws25', 'ws26', 'ws27', 'ws28', 'ws29', 'ws30', 'ws31', 'ws32', 'ws33', 'ws34', 'ws35', 'ws36', 'ws37', 'ws38', 'ws39', 'ws40', 'ws41', 'ws42', 'ws43', 'ws44', 'ws45', 'ws46', 'ws47', 'ws48', 'ws49', 'ws50', 'ws51', 'ws52', 'ws53', 'ws54', 'ws55', 'ws56', 'ws57', 'ws58', 'ws59', 'ws60', 'ws61', 'ws62', 'ws63', 'ws64', 'ws65', 'ws66', 'ws67', 'ws68', 'ws69', 'ws70', 'ws71', 'ws72', 'ws73', 'ws74', 'ws75', 'ws76', 'ws77', 'ws78', 'ws79', 'ws80', 'ws81', 'ws82', 'ws83', 'ws84', 'ws85', 'ws86', 'ws87', 'ws88', 'ws89', 'ws90', 'ws91', 'ws92', 'ws93', 'ws94', 'ws95', 'ws96', 'ws97', 'ws98', 'ws99', 'wt00', 'wt01', 'wt02', 'wt03', 'wt04', 'wt05', 'wt06', 'wt07', 'wt08', 'wt09', 'wt10', 'wt11', 'wt12', 'wt13', 'wt14', 'wt15', 'wt16', 'wt17', 'wt18', 'wt19', 'wt20', 'wt21', 'wt22', 'wt23', 'wt24', 'wt25', 'wt26', 'wt27', 'wt28', 'wt29', 'wt30', 'wt31', 'wt32', 'wt33', 'wt34', 'wt35', 'wt36', 'wt37', 'wt38', 'wt39', 'wt40', 'wt41', 'wt42', 'wt43', 'wt44', 'wt45', 'wt46', 'wt47', 'wt48', 'wt49', 'wt50', 'wt51', 'wt52', 'wt53', 'wt54', 'wt55', 'wt56', 'wt57', 'wt58', 'wt59', 'wt60', 'wt61', 'wt62', 'wt63', 'wt64', 'wt65', 'wt66', 'wt67', 'wt68', 'wt69', 'wt70', 'wt71', 'wt72', 'wt73', 'wt74', 'wt75', 'wt76', 'wt77', 'wt78', 'wt79', 'wt80', 'wt81', 'wt82', 'wt83', 'wt84', 'wt85', 'wt86', 'wt87', 'wt88', 'wt89', 'wt90', 'wt91', 'wt92', 'wt93', 'wt94', 'wt95', 'wt96', 'wt97', 'wt98', 'wt99', 'wu00', 'wu01', 'wu02', 'wu03', 'wu04', 'wu05', 'wu06', 'wu07', 'wu08', 'wu09', 'wu10', 'wu11', 'wu12', 'wu13', 'wu14', 'wu15', 'wu16', 'wu17', 'wu18', 'wu19', 'wu20', 'wu21', 'wu22', 'wu23', 'wu24', 'wu25', 'wu26', 'wu27', 'wu28', 'wu29', 'wu30', 'wu31', 'wu32', 'wu33', 'wu34', 'wu35', 'wu36', 'wu37', 'wu38', 'wu39', 'wu40', 'wu41', 'wu42', 'wu43', 'wu44', 'wu45', 'wu46', 'wu47', 'wu48', 'wu49', 'wu50', 'wu51', 'wu52', 'wu53', 'wu54', 'wu55', 'wu56', 'wu57', 'wu58', 'wu59', 'wu60', 'wu61', 'wu62', 'wu63', 'wu64', 'wu65', 'wu66', 'wu67', 'wu68', 'wu69', 'wu70', 'wu71', 'wu72', 'wu73', 'wu74', 'wu75', 'wu76', 'wu77', 'wu78', 'wu79', 'wu80', 'wu81', 'wu82', 'wu83', 'wu84', 'wu85', 'wu86', 'wu87', 'wu88', 'wu89', 'wu90', 'wu91', 'wu92', 'wu93', 'wu94', 'wu95', 'wu96', 'wu97', 'wu98', 'wu99', 'wv00', 'wv01', 'wv02', 'wv03', 'wv04', 'wv05', 'wv06', 'wv07', 'wv08', 'wv09', 'wv10', 'wv11', 'wv12', 'wv13', 'wv14', 'wv15', 'wv16', 'wv17', 'wv18', 'wv19', 'wv20', 'wv21', 'wv22', 'wv23', 'wv24', 'wv25', 'wv26', 'wv27', 'wv28', 'wv29', 'wv30', 'wv31', 'wv32', 'wv33', 'wv34', 'wv35', 'wv36', 'wv37', 'wv38', 'wv39', 'wv40', 'wv41', 'wv42', 'wv43', 'wv44', 'wv45', 'wv46', 'wv47', 'wv48', 'wv49', 'wv50', 'wv51', 'wv52', 'wv53', 'wv54', 'wv55', 'wv56', 'wv57', 'wv58', 'wv59', 'wv60', 'wv61', 'wv62', 'wv63', 'wv64', 'wv65', 'wv66', 'wv67', 'wv68', 'wv69', 'wv70', 'wv71', 'wv72', 'wv73', 'wv74', 'wv75', 'wv76', 'wv77', 'wv78', 'wv79', 'wv80', 'wv81', 'wv82', 'wv83', 'wv84', 'wv85', 'wv86', 'wv87', 'wv88', 'wv89', 'wv90', 'wv91', 'wv92', 'wv93', 'wv94', 'wv95', 'wv96', 'wv97', 'wv98', 'wv99', 'ww00', 'ww01', 'ww02', 'ww03', 'ww04', 'ww05', 'ww06', 'ww07', 'ww08', 'ww09', 'ww10', 'ww11', 'ww12', 'ww13', 'ww14', 'ww15', 'ww16', 'ww17', 'ww18', 'ww19', 'ww20', 'ww21', 'ww22', 'ww23', 'ww24', 'ww25', 'ww26', 'ww27', 'ww28', 'ww29', 'ww30', 'ww31', 'ww32', 'ww33', 'ww34', 'ww35', 'ww36', 'ww37', 'ww38', 'ww39', 'ww40', 'ww41', 'ww42', 'ww43', 'ww44', 'ww45', 'ww46', 'ww47', 'ww48', 'ww49', 'ww50', 'ww51', 'ww52', 'ww53', 'ww54', 'ww55', 'ww56', 'ww57', 'ww58', 'ww59', 'ww60', 'ww61', 'ww62', 'ww63', 'ww64', 'ww65', 'ww66', 'ww67', 'ww68', 'ww69', 'ww70', 'ww71', 'ww72', 'ww73', 'ww74', 'ww75', 'ww76', 'ww77', 'ww78', 'ww79', 'ww80', 'ww81', 'ww82', 'ww83', 'ww84', 'ww85', 'ww86', 'ww87', 'ww88', 'ww89', 'ww90', 'ww91', 'ww92', 'ww93', 'ww94', 'ww95', 'ww96', 'ww97', 'ww98', 'ww99', 'wx00', 'wx01', 'wx02', 'wx03', 'wx04', 'wx05', 'wx06', 'wx07', 'wx08', 'wx09', 'wx10', 'wx11', 'wx12', 'wx13', 'wx14', 'wx15', 'wx16', 'wx17', 'wx18', 'wx19', 'wx20', 'wx21', 'wx22', 'wx23', 'wx24', 'wx25', 'wx26', 'wx27', 'wx28', 'wx29', 'wx30', 'wx31', 'wx32', 'wx33', 'wx34', 'wx35', 'wx36', 'wx37', 'wx38', 'wx39', 'wx40', 'wx41', 'wx42', 'wx43', 'wx44', 'wx45', 'wx46', 'wx47', 'wx48', 'wx49', 'wx50', 'wx51', 'wx52', 'wx53', 'wx54', 'wx55', 'wx56', 'wx57', 'wx58', 'wx59', 'wx60', 'wx61', 'wx62', 'wx63', 'wx64', 'wx65', 'wx66', 'wx67', 'wx68', 'wx69', 'wx70', 'wx71', 'wx72', 'wx73', 'wx74', 'wx75', 'wx76', 'wx77', 'wx78', 'wx79', 'wx80', 'wx81', 'wx82', 'wx83', 'wx84', 'wx85', 'wx86', 'wx87', 'wx88', 'wx89', 'wx90', 'wx91', 'wx92', 'wx93', 'wx94', 'wx95', 'wx96', 'wx97', 'wx98', 'wx99', 'wy00', 'wy01', 'wy02', 'wy03', 'wy04', 'wy05', 'wy06', 'wy07', 'wy08', 'wy09', 'wy10', 'wy11', 'wy12', 'wy13', 'wy14', 'wy15', 'wy16', 'wy17', 'wy18', 'wy19', 'wy20', 'wy21', 'wy22', 'wy23', 'wy24', 'wy25', 'wy26', 'wy27', 'wy28', 'wy29', 'wy30', 'wy31', 'wy32', 'wy33', 'wy34', 'wy35', 'wy36', 'wy37', 'wy38', 'wy39', 'wy40', 'wy41', 'wy42', 'wy43', 'wy44', 'wy45', 'wy46', 'wy47', 'wy48', 'wy49', 'wy50', 'wy51', 'wy52', 'wy53', 'wy54', 'wy55', 'wy56', 'wy57', 'wy58', 'wy59', 'wy60', 'wy61', 'wy62', 'wy63', 'wy64', 'wy65', 'wy66', 'wy67', 'wy68', 'wy69', 'wy70', 'wy71', 'wy72', 'wy73', 'wy74', 'wy75', 'wy76', 'wy77', 'wy78', 'wy79', 'wy80', 'wy81', 'wy82', 'wy83', 'wy84', 'wy85', 'wy86', 'wy87', 'wy88', 'wy89', 'wy90', 'wy91', 'wy92', 'wy93', 'wy94', 'wy95', 'wy96', 'wy97', 'wy98', 'wy99', 'wz00', 'wz01', 'wz02', 'wz03', 'wz04', 'wz05', 'wz06', 'wz07', 'wz08', 'wz09', 'wz10', 'wz11', 'wz12', 'wz13', 'wz14', 'wz15', 'wz16', 'wz17', 'wz18', 'wz19', 'wz20', 'wz21', 'wz22', 'wz23', 'wz24', 'wz25', 'wz26', 'wz27', 'wz28', 'wz29', 'wz30', 'wz31', 'wz32', 'wz33', 'wz34', 'wz35', 'wz36', 'wz37', 'wz38', 'wz39', 'wz40', 'wz41', 'wz42', 'wz43', 'wz44', 'wz45', 'wz46', 'wz47', 'wz48', 'wz49', 'wz50', 'wz51', 'wz52', 'wz53', 'wz54', 'wz55', 'wz56', 'wz57', 'wz58', 'wz59', 'wz60', 'wz61', 'wz62', 'wz63', 'wz64', 'wz65', 'wz66', 'wz67', 'wz68', 'wz69', 'wz70', 'wz71', 'wz72', 'wz73', 'wz74', 'wz75', 'wz76', 'wz77', 'wz78', 'wz79', 'wz80', 'wz81', 'wz82', 'wz83', 'wz84', 'wz85', 'wz86', 'wz87', 'wz88', 'wz89', 'wz90', 'wz91', 'wz92', 'wz93', 'wz94', 'wz95', 'wz96', 'wz97', 'wz98', 'wz99', 'xa00', 'xa01', 'xa02', 'xa03', 'xa04', 'xa05', 'xa06', 'xa07', 'xa08', 'xa09', 'xa10', 'xa11', 'xa12', 'xa13', 'xa14', 'xa15', 'xa16', 'xa17', 'xa18', 'xa19', 'xa20', 'xa21', 'xa22', 'xa23', 'xa24', 'xa25', 'xa26', 'xa27', 'xa28', 'xa29', 'xa30', 'xa31', 'xa32', 'xa33', 'xa34', 'xa35', 'xa36', 'xa37', 'xa38', 'xa39', 'xa40', 'xa41', 'xa42', 'xa43', 'xa44', 'xa45', 'xa46', 'xa47', 'xa48', 'xa49', 'xa50', 'xa51', 'xa52', 'xa53', 'xa54', 'xa55', 'xa56', 'xa57', 'xa58', 'xa59', 'xa60', 'xa61', 'xa62', 'xa63', 'xa64', 'xa65', 'xa66', 'xa67', 'xa68', 'xa69', 'xa70', 'xa71', 'xa72', 'xa73', 'xa74', 'xa75', 'xa76', 'xa77', 'xa78', 'xa79', 'xa80', 'xa81', 'xa82', 'xa83', 'xa84', 'xa85', 'xa86', 'xa87', 'xa88', 'xa89', 'xa90', 'xa91', 'xa92', 'xa93', 'xa94', 'xa95', 'xa96', 'xa97', 'xa98', 'xa99', 'xb00', 'xb01', 'xb02', 'xb03', 'xb04', 'xb05', 'xb06', 'xb07', 'xb08', 'xb09', 'xb10', 'xb11', 'xb12', 'xb13', 'xb14', 'xb15', 'xb16', 'xb17', 'xb18', 'xb19', 'xb20', 'xb21', 'xb22', 'xb23', 'xb24', 'xb25', 'xb26', 'xb27', 'xb28', 'xb29', 'xb30', 'xb31', 'xb32', 'xb33', 'xb34', 'xb35', 'xb36', 'xb37', 'xb38', 'xb39', 'xb40', 'xb41', 'xb42', 'xb43', 'xb44', 'xb45', 'xb46', 'xb47', 'xb48', 'xb49', 'xb50', 'xb51', 'xb52', 'xb53', 'xb54', 'xb55', 'xb56', 'xb57', 'xb58', 'xb59', 'xb60', 'xb61', 'xb62', 'xb63', 'xb64', 'xb65', 'xb66', 'xb67', 'xb68', 'xb69', 'xb70', 'xb71', 'xb72', 'xb73', 'xb74', 'xb75', 'xb76', 'xb77', 'xb78', 'xb79', 'xb80', 'xb81', 'xb82', 'xb83', 'xb84', 'xb85', 'xb86', 'xb87', 'xb88', 'xb89', 'xb90', 'xb91', 'xb92', 'xb93', 'xb94', 'xb95', 'xb96', 'xb97', 'xb98', 'xb99', 'xc00', 'xc01', 'xc02', 'xc03', 'xc04', 'xc05', 'xc06', 'xc07', 'xc08', 'xc09', 'xc10', 'xc11', 'xc12', 'xc13', 'xc14', 'xc15', 'xc16', 'xc17', 'xc18', 'xc19', 'xc20', 'xc21', 'xc22', 'xc23', 'xc24', 'xc25', 'xc26', 'xc27', 'xc28', 'xc29', 'xc30', 'xc31', 'xc32', 'xc33', 'xc34', 'xc35', 'xc36', 'xc37', 'xc38', 'xc39', 'xc40', 'xc41', 'xc42', 'xc43', 'xc44', 'xc45', 'xc46', 'xc47', 'xc48', 'xc49', 'xc50', 'xc51', 'xc52', 'xc53', 'xc54', 'xc55', 'xc56', 'xc57', 'xc58', 'xc59', 'xc60', 'xc61', 'xc62', 'xc63', 'xc64', 'xc65', 'xc66', 'xc67', 'xc68', 'xc69', 'xc70', 'xc71', 'xc72', 'xc73', 'xc74', 'xc75', 'xc76', 'xc77', 'xc78', 'xc79', 'xc80', 'xc81', 'xc82', 'xc83', 'xc84', 'xc85', 'xc86', 'xc87', 'xc88', 'xc89', 'xc90', 'xc91', 'xc92', 'xc93', 'xc94', 'xc95', 'xc96', 'xc97', 'xc98', 'xc99', 'xd00', 'xd01', 'xd02', 'xd03', 'xd04', 'xd05', 'xd06', 'xd07', 'xd08', 'xd09', 'xd10', 'xd11', 'xd12', 'xd13', 'xd14', 'xd15', 'xd16', 'xd17', 'xd18', 'xd19', 'xd20', 'xd21', 'xd22', 'xd23', 'xd24', 'xd25', 'xd26', 'xd27', 'xd28', 'xd29', 'xd30', 'xd31', 'xd32', 'xd33', 'xd34', 'xd35', 'xd36', 'xd37', 'xd38', 'xd39', 'xd40', 'xd41', 'xd42', 'xd43', 'xd44', 'xd45', 'xd46', 'xd47', 'xd48', 'xd49', 'xd50', 'xd51', 'xd52', 'xd53', 'xd54', 'xd55', 'xd56', 'xd57', 'xd58', 'xd59', 'xd60', 'xd61', 'xd62', 'xd63', 'xd64', 'xd65', 'xd66', 'xd67', 'xd68', 'xd69', 'xd70', 'xd71', 'xd72', 'xd73', 'xd74', 'xd75', 'xd76', 'xd77', 'xd78', 'xd79', 'xd80', 'xd81', 'xd82', 'xd83', 'xd84', 'xd85', 'xd86', 'xd87', 'xd88', 'xd89', 'xd90', 'xd91', 'xd92', 'xd93', 'xd94', 'xd95', 'xd96', 'xd97', 'xd98', 'xd99', 'xe00', 'xe01', 'xe02', 'xe03', 'xe04', 'xe05', 'xe06', 'xe07', 'xe08', 'xe09', 'xe10', 'xe11', 'xe12', 'xe13', 'xe14', 'xe15', 'xe16', 'xe17', 'xe18', 'xe19', 'xe20', 'xe21', 'xe22', 'xe23', 'xe24', 'xe25', 'xe26', 'xe27', 'xe28', 'xe29', 'xe30', 'xe31', 'xe32', 'xe33', 'xe34', 'xe35', 'xe36', 'xe37', 'xe38', 'xe39', 'xe40', 'xe41', 'xe42', 'xe43', 'xe44', 'xe45', 'xe46', 'xe47', 'xe48', 'xe49', 'xe50', 'xe51', 'xe52', 'xe53', 'xe54', 'xe55', 'xe56', 'xe57', 'xe58', 'xe59', 'xe60', 'xe61', 'xe62', 'xe63', 'xe64', 'xe65', 'xe66', 'xe67', 'xe68', 'xe69', 'xe70', 'xe71', 'xe72', 'xe73', 'xe74', 'xe75', 'xe76', 'xe77', 'xe78', 'xe79', 'xe80', 'xe81', 'xe82', 'xe83', 'xe84', 'xe85', 'xe86', 'xe87', 'xe88', 'xe89', 'xe90', 'xe91', 'xe92', 'xe93', 'xe94', 'xe95', 'xe96', 'xe97', 'xe98', 'xe99', 'xf00', 'xf01', 'xf02', 'xf03', 'xf04', 'xf05', 'xf06', 'xf07', 'xf08', 'xf09', 'xf10', 'xf11', 'xf12', 'xf13', 'xf14', 'xf15', 'xf16', 'xf17', 'xf18', 'xf19', 'xf20', 'xf21', 'xf22', 'xf23', 'xf24', 'xf25', 'xf26', 'xf27', 'xf28', 'xf29', 'xf30', 'xf31', 'xf32', 'xf33', 'xf34', 'xf35', 'xf36', 'xf37', 'xf38', 'xf39', 'xf40', 'xf41', 'xf42', 'xf43', 'xf44', 'xf45', 'xf46', 'xf47', 'xf48', 'xf49', 'xf50', 'xf51', 'xf52', 'xf53', 'xf54', 'xf55', 'xf56', 'xf57', 'xf58', 'xf59', 'xf60', 'xf61', 'xf62', 'xf63', 'xf64', 'xf65', 'xf66', 'xf67', 'xf68', 'xf69', 'xf70', 'xf71', 'xf72', 'xf73', 'xf74', 'xf75', 'xf76', 'xf77', 'xf78', 'xf79', 'xf80', 'xf81', 'xf82', 'xf83', 'xf84', 'xf85', 'xf86', 'xf87', 'xf88', 'xf89', 'xf90', 'xf91', 'xf92', 'xf93', 'xf94', 'xf95', 'xf96', 'xf97', 'xf98', 'xf99', 'xg00', 'xg01', 'xg02', 'xg03', 'xg04', 'xg05', 'xg06', 'xg07', 'xg08', 'xg09', 'xg10', 'xg11', 'xg12', 'xg13', 'xg14', 'xg15', 'xg16', 'xg17', 'xg18', 'xg19', 'xg20', 'xg21', 'xg22', 'xg23', 'xg24', 'xg25', 'xg26', 'xg27', 'xg28', 'xg29', 'xg30', 'xg31', 'xg32', 'xg33', 'xg34', 'xg35', 'xg36', 'xg37', 'xg38', 'xg39', 'xg40', 'xg41', 'xg42', 'xg43', 'xg44', 'xg45', 'xg46', 'xg47', 'xg48', 'xg49', 'xg50', 'xg51', 'xg52', 'xg53', 'xg54', 'xg55', 'xg56', 'xg57', 'xg58', 'xg59', 'xg60', 'xg61', 'xg62', 'xg63', 'xg64', 'xg65', 'xg66', 'xg67', 'xg68', 'xg69', 'xg70', 'xg71', 'xg72', 'xg73', 'xg74', 'xg75', 'xg76', 'xg77', 'xg78', 'xg79', 'xg80', 'xg81', 'xg82', 'xg83', 'xg84', 'xg85', 'xg86', 'xg87', 'xg88', 'xg89', 'xg90', 'xg91', 'xg92', 'xg93', 'xg94', 'xg95', 'xg96', 'xg97', 'xg98', 'xg99', 'xh00', 'xh01', 'xh02', 'xh03', 'xh04', 'xh05', 'xh06', 'xh07', 'xh08', 'xh09', 'xh10', 'xh11', 'xh12', 'xh13', 'xh14', 'xh15', 'xh16', 'xh17', 'xh18', 'xh19', 'xh20', 'xh21', 'xh22', 'xh23', 'xh24', 'xh25', 'xh26', 'xh27', 'xh28', 'xh29', 'xh30', 'xh31', 'xh32', 'xh33', 'xh34', 'xh35', 'xh36', 'xh37', 'xh38', 'xh39', 'xh40', 'xh41', 'xh42', 'xh43', 'xh44', 'xh45', 'xh46', 'xh47', 'xh48', 'xh49', 'xh50', 'xh51', 'xh52', 'xh53', 'xh54', 'xh55', 'xh56', 'xh57', 'xh58', 'xh59', 'xh60', 'xh61', 'xh62', 'xh63', 'xh64', 'xh65', 'xh66', 'xh67', 'xh68', 'xh69', 'xh70', 'xh71', 'xh72', 'xh73', 'xh74', 'xh75', 'xh76', 'xh77', 'xh78', 'xh79', 'xh80', 'xh81', 'xh82', 'xh83', 'xh84', 'xh85', 'xh86', 'xh87', 'xh88', 'xh89', 'xh90', 'xh91', 'xh92', 'xh93', 'xh94', 'xh95', 'xh96', 'xh97', 'xh98', 'xh99', 'xi00', 'xi01', 'xi02', 'xi03', 'xi04', 'xi05', 'xi06', 'xi07', 'xi08', 'xi09', 'xi10', 'xi11', 'xi12', 'xi13', 'xi14', 'xi15', 'xi16', 'xi17', 'xi18', 'xi19', 'xi20', 'xi21', 'xi22', 'xi23', 'xi24', 'xi25', 'xi26', 'xi27', 'xi28', 'xi29', 'xi30', 'xi31', 'xi32', 'xi33', 'xi34', 'xi35', 'xi36', 'xi37', 'xi38', 'xi39', 'xi40', 'xi41', 'xi42', 'xi43', 'xi44', 'xi45', 'xi46', 'xi47', 'xi48', 'xi49', 'xi50', 'xi51', 'xi52', 'xi53', 'xi54', 'xi55', 'xi56', 'xi57', 'xi58', 'xi59', 'xi60', 'xi61', 'xi62', 'xi63', 'xi64', 'xi65', 'xi66', 'xi67', 'xi68', 'xi69', 'xi70', 'xi71', 'xi72', 'xi73', 'xi74', 'xi75', 'xi76', 'xi77', 'xi78', 'xi79', 'xi80', 'xi81', 'xi82', 'xi83', 'xi84', 'xi85', 'xi86', 'xi87', 'xi88', 'xi89', 'xi90', 'xi91', 'xi92', 'xi93', 'xi94', 'xi95', 'xi96', 'xi97', 'xi98', 'xi99', 'xj00', 'xj01', 'xj02', 'xj03', 'xj04', 'xj05', 'xj06', 'xj07', 'xj08', 'xj09', 'xj10', 'xj11', 'xj12', 'xj13', 'xj14', 'xj15', 'xj16', 'xj17', 'xj18', 'xj19', 'xj20', 'xj21', 'xj22', 'xj23', 'xj24', 'xj25', 'xj26', 'xj27', 'xj28', 'xj29', 'xj30', 'xj31', 'xj32', 'xj33', 'xj34', 'xj35', 'xj36', 'xj37', 'xj38', 'xj39', 'xj40', 'xj41', 'xj42', 'xj43', 'xj44', 'xj45', 'xj46', 'xj47', 'xj48', 'xj49', 'xj50', 'xj51', 'xj52', 'xj53', 'xj54', 'xj55', 'xj56', 'xj57', 'xj58', 'xj59', 'xj60', 'xj61', 'xj62', 'xj63', 'xj64', 'xj65', 'xj66', 'xj67', 'xj68', 'xj69', 'xj70', 'xj71', 'xj72', 'xj73', 'xj74', 'xj75', 'xj76', 'xj77', 'xj78', 'xj79', 'xj80', 'xj81', 'xj82', 'xj83', 'xj84', 'xj85', 'xj86', 'xj87', 'xj88', 'xj89', 'xj90', 'xj91', 'xj92', 'xj93', 'xj94', 'xj95', 'xj96', 'xj97', 'xj98', 'xj99', 'xk00', 'xk01', 'xk02', 'xk03', 'xk04', 'xk05', 'xk06', 'xk07', 'xk08', 'xk09', 'xk10', 'xk11', 'xk12', 'xk13', 'xk14', 'xk15', 'xk16', 'xk17', 'xk18', 'xk19', 'xk20', 'xk21', 'xk22', 'xk23', 'xk24', 'xk25', 'xk26', 'xk27', 'xk28', 'xk29', 'xk30', 'xk31', 'xk32', 'xk33', 'xk34', 'xk35', 'xk36', 'xk37', 'xk38', 'xk39', 'xk40', 'xk41', 'xk42', 'xk43', 'xk44', 'xk45', 'xk46', 'xk47', 'xk48', 'xk49', 'xk50', 'xk51', 'xk52', 'xk53', 'xk54', 'xk55', 'xk56', 'xk57', 'xk58', 'xk59', 'xk60', 'xk61', 'xk62', 'xk63', 'xk64', 'xk65', 'xk66', 'xk67', 'xk68', 'xk69', 'xk70', 'xk71', 'xk72', 'xk73', 'xk74', 'xk75', 'xk76', 'xk77', 'xk78', 'xk79', 'xk80', 'xk81', 'xk82', 'xk83', 'xk84', 'xk85', 'xk86', 'xk87', 'xk88', 'xk89', 'xk90', 'xk91', 'xk92', 'xk93', 'xk94', 'xk95', 'xk96', 'xk97', 'xk98', 'xk99', 'xl00', 'xl01', 'xl02', 'xl03', 'xl04', 'xl05', 'xl06', 'xl07', 'xl08', 'xl09', 'xl10', 'xl11', 'xl12', 'xl13', 'xl14', 'xl15', 'xl16', 'xl17', 'xl18', 'xl19', 'xl20', 'xl21', 'xl22', 'xl23', 'xl24', 'xl25', 'xl26', 'xl27', 'xl28', 'xl29', 'xl30', 'xl31', 'xl32', 'xl33', 'xl34', 'xl35', 'xl36', 'xl37', 'xl38', 'xl39', 'xl40', 'xl41', 'xl42', 'xl43', 'xl44', 'xl45', 'xl46', 'xl47', 'xl48', 'xl49', 'xl50', 'xl51', 'xl52', 'xl53', 'xl54', 'xl55', 'xl56', 'xl57', 'xl58', 'xl59', 'xl60', 'xl61', 'xl62', 'xl63', 'xl64', 'xl65', 'xl66', 'xl67', 'xl68', 'xl69', 'xl70', 'xl71', 'xl72', 'xl73', 'xl74', 'xl75', 'xl76', 'xl77', 'xl78', 'xl79', 'xl80', 'xl81', 'xl82', 'xl83', 'xl84', 'xl85', 'xl86', 'xl87', 'xl88', 'xl89', 'xl90', 'xl91', 'xl92', 'xl93', 'xl94', 'xl95', 'xl96', 'xl97', 'xl98', 'xl99', 'xm00', 'xm01', 'xm02', 'xm03', 'xm04', 'xm05', 'xm06', 'xm07', 'xm08', 'xm09', 'xm10', 'xm11', 'xm12', 'xm13', 'xm14', 'xm15', 'xm16', 'xm17', 'xm18', 'xm19', 'xm20', 'xm21', 'xm22', 'xm23', 'xm24', 'xm25', 'xm26', 'xm27', 'xm28', 'xm29', 'xm30', 'xm31', 'xm32', 'xm33', 'xm34', 'xm35', 'xm36', 'xm37', 'xm38', 'xm39', 'xm40', 'xm41', 'xm42', 'xm43', 'xm44', 'xm45', 'xm46', 'xm47', 'xm48', 'xm49', 'xm50', 'xm51', 'xm52', 'xm53', 'xm54', 'xm55', 'xm56', 'xm57', 'xm58', 'xm59', 'xm60', 'xm61', 'xm62', 'xm63', 'xm64', 'xm65', 'xm66', 'xm67', 'xm68', 'xm69', 'xm70', 'xm71', 'xm72', 'xm73', 'xm74', 'xm75', 'xm76', 'xm77', 'xm78', 'xm79', 'xm80', 'xm81', 'xm82', 'xm83', 'xm84', 'xm85', 'xm86', 'xm87', 'xm88', 'xm89', 'xm90', 'xm91', 'xm92', 'xm93', 'xm94', 'xm95', 'xm96', 'xm97', 'xm98', 'xm99', 'xn00', 'xn01', 'xn02', 'xn03', 'xn04', 'xn05', 'xn06', 'xn07', 'xn08', 'xn09', 'xn10', 'xn11', 'xn12', 'xn13', 'xn14', 'xn15', 'xn16', 'xn17', 'xn18', 'xn19', 'xn20', 'xn21', 'xn22', 'xn23', 'xn24', 'xn25', 'xn26', 'xn27', 'xn28', 'xn29', 'xn30', 'xn31', 'xn32', 'xn33', 'xn34', 'xn35', 'xn36', 'xn37', 'xn38', 'xn39', 'xn40', 'xn41', 'xn42', 'xn43', 'xn44', 'xn45', 'xn46', 'xn47', 'xn48', 'xn49', 'xn50', 'xn51', 'xn52', 'xn53', 'xn54', 'xn55', 'xn56', 'xn57', 'xn58', 'xn59', 'xn60', 'xn61', 'xn62', 'xn63', 'xn64', 'xn65', 'xn66', 'xn67', 'xn68', 'xn69', 'xn70', 'xn71', 'xn72', 'xn73', 'xn74', 'xn75', 'xn76', 'xn77', 'xn78', 'xn79', 'xn80', 'xn81', 'xn82', 'xn83', 'xn84', 'xn85', 'xn86', 'xn87', 'xn88', 'xn89', 'xn90', 'xn91', 'xn92', 'xn93', 'xn94', 'xn95', 'xn96', 'xn97', 'xn98', 'xn99', 'xo00', 'xo01', 'xo02', 'xo03', 'xo04', 'xo05', 'xo06', 'xo07', 'xo08', 'xo09', 'xo10', 'xo11', 'xo12', 'xo13', 'xo14', 'xo15', 'xo16', 'xo17', 'xo18', 'xo19', 'xo20', 'xo21', 'xo22', 'xo23', 'xo24', 'xo25', 'xo26', 'xo27', 'xo28', 'xo29', 'xo30', 'xo31', 'xo32', 'xo33', 'xo34', 'xo35', 'xo36', 'xo37', 'xo38', 'xo39', 'xo40', 'xo41', 'xo42', 'xo43', 'xo44', 'xo45', 'xo46', 'xo47', 'xo48', 'xo49', 'xo50', 'xo51', 'xo52', 'xo53', 'xo54', 'xo55', 'xo56', 'xo57', 'xo58', 'xo59', 'xo60', 'xo61', 'xo62', 'xo63', 'xo64', 'xo65', 'xo66', 'xo67', 'xo68', 'xo69', 'xo70', 'xo71', 'xo72', 'xo73', 'xo74', 'xo75', 'xo76', 'xo77', 'xo78', 'xo79', 'xo80', 'xo81', 'xo82', 'xo83', 'xo84', 'xo85', 'xo86', 'xo87', 'xo88', 'xo89', 'xo90', 'xo91', 'xo92', 'xo93', 'xo94', 'xo95', 'xo96', 'xo97', 'xo98', 'xo99', 'xp00', 'xp01', 'xp02', 'xp03', 'xp04', 'xp05', 'xp06', 'xp07', 'xp08', 'xp09', 'xp10', 'xp11', 'xp12', 'xp13', 'xp14', 'xp15', 'xp16', 'xp17', 'xp18', 'xp19', 'xp20', 'xp21', 'xp22', 'xp23', 'xp24', 'xp25', 'xp26', 'xp27', 'xp28', 'xp29', 'xp30', 'xp31', 'xp32', 'xp33', 'xp34', 'xp35', 'xp36', 'xp37', 'xp38', 'xp39', 'xp40', 'xp41', 'xp42', 'xp43', 'xp44', 'xp45', 'xp46', 'xp47', 'xp48', 'xp49', 'xp50', 'xp51', 'xp52', 'xp53', 'xp54', 'xp55', 'xp56', 'xp57', 'xp58', 'xp59', 'xp60', 'xp61', 'xp62', 'xp63', 'xp64', 'xp65', 'xp66', 'xp67', 'xp68', 'xp69', 'xp70', 'xp71', 'xp72', 'xp73', 'xp74', 'xp75', 'xp76', 'xp77', 'xp78', 'xp79', 'xp80', 'xp81', 'xp82', 'xp83', 'xp84', 'xp85', 'xp86', 'xp87', 'xp88', 'xp89', 'xp90', 'xp91', 'xp92', 'xp93', 'xp94', 'xp95', 'xp96', 'xp97', 'xp98', 'xp99', 'xq00', 'xq01', 'xq02', 'xq03', 'xq04', 'xq05', 'xq06', 'xq07', 'xq08', 'xq09', 'xq10', 'xq11', 'xq12', 'xq13', 'xq14', 'xq15', 'xq16', 'xq17', 'xq18', 'xq19', 'xq20', 'xq21', 'xq22', 'xq23', 'xq24', 'xq25', 'xq26', 'xq27', 'xq28', 'xq29', 'xq30', 'xq31', 'xq32', 'xq33', 'xq34', 'xq35', 'xq36', 'xq37', 'xq38', 'xq39', 'xq40', 'xq41', 'xq42', 'xq43', 'xq44', 'xq45', 'xq46', 'xq47', 'xq48', 'xq49', 'xq50', 'xq51', 'xq52', 'xq53', 'xq54', 'xq55', 'xq56', 'xq57', 'xq58', 'xq59', 'xq60', 'xq61', 'xq62', 'xq63', 'xq64', 'xq65', 'xq66', 'xq67', 'xq68', 'xq69', 'xq70', 'xq71', 'xq72', 'xq73', 'xq74', 'xq75', 'xq76', 'xq77', 'xq78', 'xq79', 'xq80', 'xq81', 'xq82', 'xq83', 'xq84', 'xq85', 'xq86', 'xq87', 'xq88', 'xq89', 'xq90', 'xq91', 'xq92', 'xq93', 'xq94', 'xq95', 'xq96', 'xq97', 'xq98', 'xq99', 'xr00', 'xr01', 'xr02', 'xr03', 'xr04', 'xr05', 'xr06', 'xr07', 'xr08', 'xr09', 'xr10', 'xr11', 'xr12', 'xr13', 'xr14', 'xr15', 'xr16', 'xr17', 'xr18', 'xr19', 'xr20', 'xr21', 'xr22', 'xr23', 'xr24', 'xr25', 'xr26', 'xr27', 'xr28', 'xr29', 'xr30', 'xr31', 'xr32', 'xr33', 'xr34', 'xr35', 'xr36', 'xr37', 'xr38', 'xr39', 'xr40', 'xr41', 'xr42', 'xr43', 'xr44', 'xr45', 'xr46', 'xr47', 'xr48', 'xr49', 'xr50', 'xr51', 'xr52', 'xr53', 'xr54', 'xr55', 'xr56', 'xr57', 'xr58', 'xr59', 'xr60', 'xr61', 'xr62', 'xr63', 'xr64', 'xr65', 'xr66', 'xr67', 'xr68', 'xr69', 'xr70', 'xr71', 'xr72', 'xr73', 'xr74', 'xr75', 'xr76', 'xr77', 'xr78', 'xr79', 'xr80', 'xr81', 'xr82', 'xr83', 'xr84', 'xr85', 'xr86', 'xr87', 'xr88', 'xr89', 'xr90', 'xr91', 'xr92', 'xr93', 'xr94', 'xr95', 'xr96', 'xr97', 'xr98', 'xr99', 'xs00', 'xs01', 'xs02', 'xs03', 'xs04', 'xs05', 'xs06', 'xs07', 'xs08', 'xs09', 'xs10', 'xs11', 'xs12', 'xs13', 'xs14', 'xs15', 'xs16', 'xs17', 'xs18', 'xs19', 'xs20', 'xs21', 'xs22', 'xs23', 'xs24', 'xs25', 'xs26', 'xs27', 'xs28', 'xs29', 'xs30', 'xs31', 'xs32', 'xs33', 'xs34', 'xs35', 'xs36', 'xs37', 'xs38', 'xs39', 'xs40', 'xs41', 'xs42', 'xs43', 'xs44', 'xs45', 'xs46', 'xs47', 'xs48', 'xs49', 'xs50', 'xs51', 'xs52', 'xs53', 'xs54', 'xs55', 'xs56', 'xs57', 'xs58', 'xs59', 'xs60', 'xs61', 'xs62', 'xs63', 'xs64', 'xs65', 'xs66', 'xs67', 'xs68', 'xs69', 'xs70', 'xs71', 'xs72', 'xs73', 'xs74', 'xs75', 'xs76', 'xs77', 'xs78', 'xs79', 'xs80', 'xs81', 'xs82', 'xs83', 'xs84', 'xs85', 'xs86', 'xs87', 'xs88', 'xs89', 'xs90', 'xs91', 'xs92', 'xs93', 'xs94', 'xs95', 'xs96', 'xs97', 'xs98', 'xs99', 'xt00', 'xt01', 'xt02', 'xt03', 'xt04', 'xt05', 'xt06', 'xt07', 'xt08', 'xt09', 'xt10', 'xt11', 'xt12', 'xt13', 'xt14', 'xt15', 'xt16', 'xt17', 'xt18', 'xt19', 'xt20', 'xt21', 'xt22', 'xt23', 'xt24', 'xt25', 'xt26', 'xt27', 'xt28', 'xt29', 'xt30', 'xt31', 'xt32', 'xt33', 'xt34', 'xt35', 'xt36', 'xt37', 'xt38', 'xt39', 'xt40', 'xt41', 'xt42', 'xt43', 'xt44', 'xt45', 'xt46', 'xt47', 'xt48', 'xt49', 'xt50', 'xt51', 'xt52', 'xt53', 'xt54', 'xt55', 'xt56', 'xt57', 'xt58', 'xt59', 'xt60', 'xt61', 'xt62', 'xt63', 'xt64', 'xt65', 'xt66', 'xt67', 'xt68', 'xt69', 'xt70', 'xt71', 'xt72', 'xt73', 'xt74', 'xt75', 'xt76', 'xt77', 'xt78', 'xt79', 'xt80', 'xt81', 'xt82', 'xt83', 'xt84', 'xt85', 'xt86', 'xt87', 'xt88', 'xt89', 'xt90', 'xt91', 'xt92', 'xt93', 'xt94', 'xt95', 'xt96', 'xt97', 'xt98', 'xt99', 'xu00', 'xu01', 'xu02', 'xu03', 'xu04', 'xu05', 'xu06', 'xu07', 'xu08', 'xu09', 'xu10', 'xu11', 'xu12', 'xu13', 'xu14', 'xu15', 'xu16', 'xu17', 'xu18', 'xu19', 'xu20', 'xu21', 'xu22', 'xu23', 'xu24', 'xu25', 'xu26', 'xu27', 'xu28', 'xu29', 'xu30', 'xu31', 'xu32', 'xu33', 'xu34', 'xu35', 'xu36', 'xu37', 'xu38', 'xu39', 'xu40', 'xu41', 'xu42', 'xu43', 'xu44', 'xu45', 'xu46', 'xu47', 'xu48', 'xu49', 'xu50', 'xu51', 'xu52', 'xu53', 'xu54', 'xu55', 'xu56', 'xu57', 'xu58', 'xu59', 'xu60', 'xu61', 'xu62', 'xu63', 'xu64', 'xu65', 'xu66', 'xu67', 'xu68', 'xu69', 'xu70', 'xu71', 'xu72', 'xu73', 'xu74', 'xu75', 'xu76', 'xu77', 'xu78', 'xu79', 'xu80', 'xu81', 'xu82', 'xu83', 'xu84', 'xu85', 'xu86', 'xu87', 'xu88', 'xu89', 'xu90', 'xu91', 'xu92', 'xu93', 'xu94', 'xu95', 'xu96', 'xu97', 'xu98', 'xu99', 'xv00', 'xv01', 'xv02', 'xv03', 'xv04', 'xv05', 'xv06', 'xv07', 'xv08', 'xv09', 'xv10', 'xv11', 'xv12', 'xv13', 'xv14', 'xv15', 'xv16', 'xv17', 'xv18', 'xv19', 'xv20', 'xv21', 'xv22', 'xv23', 'xv24', 'xv25', 'xv26', 'xv27', 'xv28', 'xv29', 'xv30', 'xv31', 'xv32', 'xv33', 'xv34', 'xv35', 'xv36', 'xv37', 'xv38', 'xv39', 'xv40', 'xv41', 'xv42', 'xv43', 'xv44', 'xv45', 'xv46', 'xv47', 'xv48', 'xv49', 'xv50', 'xv51', 'xv52', 'xv53', 'xv54', 'xv55', 'xv56', 'xv57', 'xv58', 'xv59', 'xv60', 'xv61', 'xv62', 'xv63', 'xv64', 'xv65', 'xv66', 'xv67', 'xv68', 'xv69', 'xv70', 'xv71', 'xv72', 'xv73', 'xv74', 'xv75', 'xv76', 'xv77', 'xv78', 'xv79', 'xv80', 'xv81', 'xv82', 'xv83', 'xv84', 'xv85', 'xv86', 'xv87', 'xv88', 'xv89', 'xv90', 'xv91', 'xv92', 'xv93', 'xv94', 'xv95', 'xv96', 'xv97', 'xv98', 'xv99', 'xw00', 'xw01', 'xw02', 'xw03', 'xw04', 'xw05', 'xw06', 'xw07', 'xw08', 'xw09', 'xw10', 'xw11', 'xw12', 'xw13', 'xw14', 'xw15', 'xw16', 'xw17', 'xw18', 'xw19', 'xw20', 'xw21', 'xw22', 'xw23', 'xw24', 'xw25', 'xw26', 'xw27', 'xw28', 'xw29', 'xw30', 'xw31', 'xw32', 'xw33', 'xw34', 'xw35', 'xw36', 'xw37', 'xw38', 'xw39', 'xw40', 'xw41', 'xw42', 'xw43', 'xw44', 'xw45', 'xw46', 'xw47', 'xw48', 'xw49', 'xw50', 'xw51', 'xw52', 'xw53', 'xw54', 'xw55', 'xw56', 'xw57', 'xw58', 'xw59', 'xw60', 'xw61', 'xw62', 'xw63', 'xw64', 'xw65', 'xw66', 'xw67', 'xw68', 'xw69', 'xw70', 'xw71', 'xw72', 'xw73', 'xw74', 'xw75', 'xw76', 'xw77', 'xw78', 'xw79', 'xw80', 'xw81', 'xw82', 'xw83', 'xw84', 'xw85', 'xw86', 'xw87', 'xw88', 'xw89', 'xw90', 'xw91', 'xw92', 'xw93', 'xw94', 'xw95', 'xw96', 'xw97', 'xw98', 'xw99', 'xx00', 'xx01', 'xx02', 'xx03', 'xx04', 'xx05', 'xx06', 'xx07', 'xx08', 'xx09', 'xx10', 'xx11', 'xx12', 'xx13', 'xx14', 'xx15', 'xx16', 'xx17', 'xx18', 'xx19', 'xx20', 'xx21', 'xx22', 'xx23', 'xx24', 'xx25', 'xx26', 'xx27', 'xx28', 'xx29', 'xx30', 'xx31', 'xx32', 'xx33', 'xx34', 'xx35', 'xx36', 'xx37', 'xx38', 'xx39', 'xx40', 'xx41', 'xx42', 'xx43', 'xx44', 'xx45', 'xx46', 'xx47', 'xx48', 'xx49', 'xx50', 'xx51', 'xx52', 'xx53', 'xx54', 'xx55', 'xx56', 'xx57', 'xx58', 'xx59', 'xx60', 'xx61', 'xx62', 'xx63', 'xx64', 'xx65', 'xx66', 'xx67', 'xx68', 'xx69', 'xx70', 'xx71', 'xx72', 'xx73', 'xx74', 'xx75', 'xx76', 'xx77', 'xx78', 'xx79', 'xx80', 'xx81', 'xx82', 'xx83', 'xx84', 'xx85', 'xx86', 'xx87', 'xx88', 'xx89', 'xx90', 'xx91', 'xx92', 'xx93', 'xx94', 'xx95', 'xx96', 'xx97', 'xx98', 'xx99', 'xy00', 'xy01', 'xy02', 'xy03', 'xy04', 'xy05', 'xy06', 'xy07', 'xy08', 'xy09', 'xy10', 'xy11', 'xy12', 'xy13', 'xy14', 'xy15', 'xy16', 'xy17', 'xy18', 'xy19', 'xy20', 'xy21', 'xy22', 'xy23', 'xy24', 'xy25', 'xy26', 'xy27', 'xy28', 'xy29', 'xy30', 'xy31', 'xy32', 'xy33', 'xy34', 'xy35', 'xy36', 'xy37', 'xy38', 'xy39', 'xy40', 'xy41', 'xy42', 'xy43', 'xy44', 'xy45', 'xy46', 'xy47', 'xy48', 'xy49', 'xy50', 'xy51', 'xy52', 'xy53', 'xy54', 'xy55', 'xy56', 'xy57', 'xy58', 'xy59', 'xy60', 'xy61', 'xy62', 'xy63', 'xy64', 'xy65', 'xy66', 'xy67', 'xy68', 'xy69', 'xy70', 'xy71', 'xy72', 'xy73', 'xy74', 'xy75', 'xy76', 'xy77', 'xy78', 'xy79', 'xy80', 'xy81', 'xy82', 'xy83', 'xy84', 'xy85', 'xy86', 'xy87', 'xy88', 'xy89', 'xy90', 'xy91', 'xy92', 'xy93', 'xy94', 'xy95', 'xy96', 'xy97', 'xy98', 'xy99', 'xz00', 'xz01', 'xz02', 'xz03', 'xz04', 'xz05', 'xz06', 'xz07', 'xz08', 'xz09', 'xz10', 'xz11', 'xz12', 'xz13', 'xz14', 'xz15', 'xz16', 'xz17', 'xz18', 'xz19', 'xz20', 'xz21', 'xz22', 'xz23', 'xz24', 'xz25', 'xz26', 'xz27', 'xz28', 'xz29', 'xz30', 'xz31', 'xz32', 'xz33', 'xz34', 'xz35', 'xz36', 'xz37', 'xz38', 'xz39', 'xz40', 'xz41', 'xz42', 'xz43', 'xz44', 'xz45', 'xz46', 'xz47', 'xz48', 'xz49', 'xz50', 'xz51', 'xz52', 'xz53', 'xz54', 'xz55', 'xz56', 'xz57', 'xz58', 'xz59', 'xz60', 'xz61', 'xz62', 'xz63', 'xz64', 'xz65', 'xz66', 'xz67', 'xz68', 'xz69', 'xz70', 'xz71', 'xz72', 'xz73', 'xz74', 'xz75', 'xz76', 'xz77', 'xz78', 'xz79', 'xz80', 'xz81', 'xz82', 'xz83', 'xz84', 'xz85', 'xz86', 'xz87', 'xz88', 'xz89', 'xz90', 'xz91', 'xz92', 'xz93', 'xz94', 'xz95', 'xz96', 'xz97', 'xz98', 'xz99', 'ya00', 'ya01', 'ya02', 'ya03', 'ya04', 'ya05', 'ya06', 'ya07', 'ya08', 'ya09', 'ya10', 'ya11', 'ya12', 'ya13', 'ya14', 'ya15', 'ya16', 'ya17', 'ya18', 'ya19', 'ya20', 'ya21', 'ya22', 'ya23', 'ya24', 'ya25', 'ya26', 'ya27', 'ya28', 'ya29', 'ya30', 'ya31', 'ya32', 'ya33', 'ya34', 'ya35', 'ya36', 'ya37', 'ya38', 'ya39', 'ya40', 'ya41', 'ya42', 'ya43', 'ya44', 'ya45', 'ya46', 'ya47', 'ya48', 'ya49', 'ya50', 'ya51', 'ya52', 'ya53', 'ya54', 'ya55', 'ya56', 'ya57', 'ya58', 'ya59', 'ya60', 'ya61', 'ya62', 'ya63', 'ya64', 'ya65', 'ya66', 'ya67', 'ya68', 'ya69', 'ya70', 'ya71', 'ya72', 'ya73', 'ya74', 'ya75', 'ya76', 'ya77', 'ya78', 'ya79', 'ya80', 'ya81', 'ya82', 'ya83', 'ya84', 'ya85', 'ya86', 'ya87', 'ya88', 'ya89', 'ya90', 'ya91', 'ya92', 'ya93', 'ya94', 'ya95', 'ya96', 'ya97', 'ya98', 'ya99', 'yb00', 'yb01', 'yb02', 'yb03', 'yb04', 'yb05', 'yb06', 'yb07', 'yb08', 'yb09', 'yb10', 'yb11', 'yb12', 'yb13', 'yb14', 'yb15', 'yb16', 'yb17', 'yb18', 'yb19', 'yb20', 'yb21', 'yb22', 'yb23', 'yb24', 'yb25', 'yb26', 'yb27', 'yb28', 'yb29', 'yb30', 'yb31', 'yb32', 'yb33', 'yb34', 'yb35', 'yb36', 'yb37', 'yb38', 'yb39', 'yb40', 'yb41', 'yb42', 'yb43', 'yb44', 'yb45', 'yb46', 'yb47', 'yb48', 'yb49', 'yb50', 'yb51', 'yb52', 'yb53', 'yb54', 'yb55', 'yb56', 'yb57', 'yb58', 'yb59', 'yb60', 'yb61', 'yb62', 'yb63', 'yb64', 'yb65', 'yb66', 'yb67', 'yb68', 'yb69', 'yb70', 'yb71', 'yb72', 'yb73', 'yb74', 'yb75', 'yb76', 'yb77', 'yb78', 'yb79', 'yb80', 'yb81', 'yb82', 'yb83', 'yb84', 'yb85', 'yb86', 'yb87', 'yb88', 'yb89', 'yb90', 'yb91', 'yb92', 'yb93', 'yb94', 'yb95', 'yb96', 'yb97', 'yb98', 'yb99', 'yc00', 'yc01', 'yc02', 'yc03', 'yc04', 'yc05', 'yc06', 'yc07', 'yc08', 'yc09', 'yc10', 'yc11', 'yc12', 'yc13', 'yc14', 'yc15', 'yc16', 'yc17', 'yc18', 'yc19', 'yc20', 'yc21', 'yc22', 'yc23', 'yc24', 'yc25', 'yc26', 'yc27', 'yc28', 'yc29', 'yc30', 'yc31', 'yc32', 'yc33', 'yc34', 'yc35', 'yc36', 'yc37', 'yc38', 'yc39', 'yc40', 'yc41', 'yc42', 'yc43', 'yc44', 'yc45', 'yc46', 'yc47', 'yc48', 'yc49', 'yc50', 'yc51', 'yc52', 'yc53', 'yc54', 'yc55', 'yc56', 'yc57', 'yc58', 'yc59', 'yc60', 'yc61', 'yc62', 'yc63', 'yc64', 'yc65', 'yc66', 'yc67', 'yc68', 'yc69', 'yc70', 'yc71', 'yc72', 'yc73', 'yc74', 'yc75', 'yc76', 'yc77', 'yc78', 'yc79', 'yc80', 'yc81', 'yc82', 'yc83', 'yc84', 'yc85', 'yc86', 'yc87', 'yc88', 'yc89', 'yc90', 'yc91', 'yc92', 'yc93', 'yc94', 'yc95', 'yc96', 'yc97', 'yc98', 'yc99', 'yd00', 'yd01', 'yd02', 'yd03', 'yd04', 'yd05', 'yd06', 'yd07', 'yd08', 'yd09', 'yd10', 'yd11', 'yd12', 'yd13', 'yd14', 'yd15', 'yd16', 'yd17', 'yd18', 'yd19', 'yd20', 'yd21', 'yd22', 'yd23', 'yd24', 'yd25', 'yd26', 'yd27', 'yd28', 'yd29', 'yd30', 'yd31', 'yd32', 'yd33', 'yd34', 'yd35', 'yd36', 'yd37', 'yd38', 'yd39', 'yd40', 'yd41', 'yd42', 'yd43', 'yd44', 'yd45', 'yd46', 'yd47', 'yd48', 'yd49', 'yd50', 'yd51', 'yd52', 'yd53', 'yd54', 'yd55', 'yd56', 'yd57', 'yd58', 'yd59', 'yd60', 'yd61', 'yd62', 'yd63', 'yd64', 'yd65', 'yd66', 'yd67', 'yd68', 'yd69', 'yd70', 'yd71', 'yd72', 'yd73', 'yd74', 'yd75', 'yd76', 'yd77', 'yd78', 'yd79', 'yd80', 'yd81', 'yd82', 'yd83', 'yd84', 'yd85', 'yd86', 'yd87', 'yd88', 'yd89', 'yd90', 'yd91', 'yd92', 'yd93', 'yd94', 'yd95', 'yd96', 'yd97', 'yd98', 'yd99', 'ye00', 'ye01', 'ye02', 'ye03', 'ye04', 'ye05', 'ye06', 'ye07', 'ye08', 'ye09', 'ye10', 'ye11', 'ye12', 'ye13', 'ye14', 'ye15', 'ye16', 'ye17', 'ye18', 'ye19', 'ye20', 'ye21', 'ye22', 'ye23', 'ye24', 'ye25', 'ye26', 'ye27', 'ye28', 'ye29', 'ye30', 'ye31', 'ye32', 'ye33', 'ye34', 'ye35', 'ye36', 'ye37', 'ye38', 'ye39', 'ye40', 'ye41', 'ye42', 'ye43', 'ye44', 'ye45', 'ye46', 'ye47', 'ye48', 'ye49', 'ye50', 'ye51', 'ye52', 'ye53', 'ye54', 'ye55', 'ye56', 'ye57', 'ye58', 'ye59', 'ye60', 'ye61', 'ye62', 'ye63', 'ye64', 'ye65', 'ye66', 'ye67', 'ye68', 'ye69', 'ye70', 'ye71', 'ye72', 'ye73', 'ye74', 'ye75', 'ye76', 'ye77', 'ye78', 'ye79', 'ye80', 'ye81', 'ye82', 'ye83', 'ye84', 'ye85', 'ye86', 'ye87', 'ye88', 'ye89', 'ye90', 'ye91', 'ye92', 'ye93', 'ye94', 'ye95', 'ye96', 'ye97', 'ye98', 'ye99', 'yf00', 'yf01', 'yf02', 'yf03', 'yf04', 'yf05', 'yf06', 'yf07', 'yf08', 'yf09', 'yf10', 'yf11', 'yf12', 'yf13', 'yf14', 'yf15', 'yf16', 'yf17', 'yf18', 'yf19', 'yf20', 'yf21', 'yf22', 'yf23', 'yf24', 'yf25', 'yf26', 'yf27', 'yf28', 'yf29', 'yf30', 'yf31', 'yf32', 'yf33', 'yf34', 'yf35', 'yf36', 'yf37', 'yf38', 'yf39', 'yf40', 'yf41', 'yf42', 'yf43', 'yf44', 'yf45', 'yf46', 'yf47', 'yf48', 'yf49', 'yf50', 'yf51', 'yf52', 'yf53', 'yf54', 'yf55', 'yf56', 'yf57', 'yf58', 'yf59', 'yf60', 'yf61', 'yf62', 'yf63', 'yf64', 'yf65', 'yf66', 'yf67', 'yf68', 'yf69', 'yf70', 'yf71', 'yf72', 'yf73', 'yf74', 'yf75', 'yf76', 'yf77', 'yf78', 'yf79', 'yf80', 'yf81', 'yf82', 'yf83', 'yf84', 'yf85', 'yf86', 'yf87', 'yf88', 'yf89', 'yf90', 'yf91', 'yf92', 'yf93', 'yf94', 'yf95', 'yf96', 'yf97', 'yf98', 'yf99', 'yg00', 'yg01', 'yg02', 'yg03', 'yg04', 'yg05', 'yg06', 'yg07', 'yg08', 'yg09', 'yg10', 'yg11', 'yg12', 'yg13', 'yg14', 'yg15', 'yg16', 'yg17', 'yg18', 'yg19', 'yg20', 'yg21', 'yg22', 'yg23', 'yg24', 'yg25', 'yg26', 'yg27', 'yg28', 'yg29', 'yg30', 'yg31', 'yg32', 'yg33', 'yg34', 'yg35', 'yg36', 'yg37', 'yg38', 'yg39', 'yg40', 'yg41', 'yg42', 'yg43', 'yg44', 'yg45', 'yg46', 'yg47', 'yg48', 'yg49', 'yg50', 'yg51', 'yg52', 'yg53', 'yg54', 'yg55', 'yg56', 'yg57', 'yg58', 'yg59', 'yg60', 'yg61', 'yg62', 'yg63', 'yg64', 'yg65', 'yg66', 'yg67', 'yg68', 'yg69', 'yg70', 'yg71', 'yg72', 'yg73', 'yg74', 'yg75', 'yg76', 'yg77', 'yg78', 'yg79', 'yg80', 'yg81', 'yg82', 'yg83', 'yg84', 'yg85', 'yg86', 'yg87', 'yg88', 'yg89', 'yg90', 'yg91', 'yg92', 'yg93', 'yg94', 'yg95', 'yg96', 'yg97', 'yg98', 'yg99', 'yh00', 'yh01', 'yh02', 'yh03', 'yh04', 'yh05', 'yh06', 'yh07', 'yh08', 'yh09', 'yh10', 'yh11', 'yh12', 'yh13', 'yh14', 'yh15', 'yh16', 'yh17', 'yh18', 'yh19', 'yh20', 'yh21', 'yh22', 'yh23', 'yh24', 'yh25', 'yh26', 'yh27', 'yh28', 'yh29', 'yh30', 'yh31', 'yh32', 'yh33', 'yh34', 'yh35', 'yh36', 'yh37', 'yh38', 'yh39', 'yh40', 'yh41', 'yh42', 'yh43', 'yh44', 'yh45', 'yh46', 'yh47', 'yh48', 'yh49', 'yh50', 'yh51', 'yh52', 'yh53', 'yh54', 'yh55', 'yh56', 'yh57', 'yh58', 'yh59', 'yh60', 'yh61', 'yh62', 'yh63', 'yh64', 'yh65', 'yh66', 'yh67', 'yh68', 'yh69', 'yh70', 'yh71', 'yh72', 'yh73', 'yh74', 'yh75', 'yh76', 'yh77', 'yh78', 'yh79', 'yh80', 'yh81', 'yh82', 'yh83', 'yh84', 'yh85', 'yh86', 'yh87', 'yh88', 'yh89', 'yh90', 'yh91', 'yh92', 'yh93', 'yh94', 'yh95', 'yh96', 'yh97', 'yh98', 'yh99', 'yi00', 'yi01', 'yi02', 'yi03', 'yi04', 'yi05', 'yi06', 'yi07', 'yi08', 'yi09', 'yi10', 'yi11', 'yi12', 'yi13', 'yi14', 'yi15', 'yi16', 'yi17', 'yi18', 'yi19', 'yi20', 'yi21', 'yi22', 'yi23', 'yi24', 'yi25', 'yi26', 'yi27', 'yi28', 'yi29', 'yi30', 'yi31', 'yi32', 'yi33', 'yi34', 'yi35', 'yi36', 'yi37', 'yi38', 'yi39', 'yi40', 'yi41', 'yi42', 'yi43', 'yi44', 'yi45', 'yi46', 'yi47', 'yi48', 'yi49', 'yi50', 'yi51', 'yi52', 'yi53', 'yi54', 'yi55', 'yi56', 'yi57', 'yi58', 'yi59', 'yi60', 'yi61', 'yi62', 'yi63', 'yi64', 'yi65', 'yi66', 'yi67', 'yi68', 'yi69', 'yi70', 'yi71', 'yi72', 'yi73', 'yi74', 'yi75', 'yi76', 'yi77', 'yi78', 'yi79', 'yi80', 'yi81', 'yi82', 'yi83', 'yi84', 'yi85', 'yi86', 'yi87', 'yi88', 'yi89', 'yi90', 'yi91', 'yi92', 'yi93', 'yi94', 'yi95', 'yi96', 'yi97', 'yi98', 'yi99', 'yj00', 'yj01', 'yj02', 'yj03', 'yj04', 'yj05', 'yj06', 'yj07', 'yj08', 'yj09', 'yj10', 'yj11', 'yj12', 'yj13', 'yj14', 'yj15', 'yj16', 'yj17', 'yj18', 'yj19', 'yj20', 'yj21', 'yj22', 'yj23', 'yj24', 'yj25', 'yj26', 'yj27', 'yj28', 'yj29', 'yj30', 'yj31', 'yj32', 'yj33', 'yj34', 'yj35', 'yj36', 'yj37', 'yj38', 'yj39', 'yj40', 'yj41', 'yj42', 'yj43', 'yj44', 'yj45', 'yj46', 'yj47', 'yj48', 'yj49', 'yj50', 'yj51', 'yj52', 'yj53', 'yj54', 'yj55', 'yj56', 'yj57', 'yj58', 'yj59', 'yj60', 'yj61', 'yj62', 'yj63', 'yj64', 'yj65', 'yj66', 'yj67', 'yj68', 'yj69', 'yj70', 'yj71', 'yj72', 'yj73', 'yj74', 'yj75', 'yj76', 'yj77', 'yj78', 'yj79', 'yj80', 'yj81', 'yj82', 'yj83', 'yj84', 'yj85', 'yj86', 'yj87', 'yj88', 'yj89', 'yj90', 'yj91', 'yj92', 'yj93', 'yj94', 'yj95', 'yj96', 'yj97', 'yj98', 'yj99', 'yk00', 'yk01', 'yk02', 'yk03', 'yk04', 'yk05', 'yk06', 'yk07', 'yk08', 'yk09', 'yk10', 'yk11', 'yk12', 'yk13', 'yk14', 'yk15', 'yk16', 'yk17', 'yk18', 'yk19', 'yk20', 'yk21', 'yk22', 'yk23', 'yk24', 'yk25', 'yk26', 'yk27', 'yk28', 'yk29', 'yk30', 'yk31', 'yk32', 'yk33', 'yk34', 'yk35', 'yk36', 'yk37', 'yk38', 'yk39', 'yk40', 'yk41', 'yk42', 'yk43', 'yk44', 'yk45', 'yk46', 'yk47', 'yk48', 'yk49', 'yk50', 'yk51', 'yk52', 'yk53', 'yk54', 'yk55', 'yk56', 'yk57', 'yk58', 'yk59', 'yk60', 'yk61', 'yk62', 'yk63', 'yk64', 'yk65', 'yk66', 'yk67', 'yk68', 'yk69', 'yk70', 'yk71', 'yk72', 'yk73', 'yk74', 'yk75', 'yk76', 'yk77', 'yk78', 'yk79', 'yk80', 'yk81', 'yk82', 'yk83', 'yk84', 'yk85', 'yk86', 'yk87', 'yk88', 'yk89', 'yk90', 'yk91', 'yk92', 'yk93', 'yk94', 'yk95', 'yk96', 'yk97', 'yk98', 'yk99', 'yl00', 'yl01', 'yl02', 'yl03', 'yl04', 'yl05', 'yl06', 'yl07', 'yl08', 'yl09', 'yl10', 'yl11', 'yl12', 'yl13', 'yl14', 'yl15', 'yl16', 'yl17', 'yl18', 'yl19', 'yl20', 'yl21', 'yl22', 'yl23', 'yl24', 'yl25', 'yl26', 'yl27', 'yl28', 'yl29', 'yl30', 'yl31', 'yl32', 'yl33', 'yl34', 'yl35', 'yl36', 'yl37', 'yl38', 'yl39', 'yl40', 'yl41', 'yl42', 'yl43', 'yl44', 'yl45', 'yl46', 'yl47', 'yl48', 'yl49', 'yl50', 'yl51', 'yl52', 'yl53', 'yl54', 'yl55', 'yl56', 'yl57', 'yl58', 'yl59', 'yl60', 'yl61', 'yl62', 'yl63', 'yl64', 'yl65', 'yl66', 'yl67', 'yl68', 'yl69', 'yl70', 'yl71', 'yl72', 'yl73', 'yl74', 'yl75', 'yl76', 'yl77', 'yl78', 'yl79', 'yl80', 'yl81', 'yl82', 'yl83', 'yl84', 'yl85', 'yl86', 'yl87', 'yl88', 'yl89', 'yl90', 'yl91', 'yl92', 'yl93', 'yl94', 'yl95', 'yl96', 'yl97', 'yl98', 'yl99', 'ym00', 'ym01', 'ym02', 'ym03', 'ym04', 'ym05', 'ym06', 'ym07', 'ym08', 'ym09', 'ym10', 'ym11', 'ym12', 'ym13', 'ym14', 'ym15', 'ym16', 'ym17', 'ym18', 'ym19', 'ym20', 'ym21', 'ym22', 'ym23', 'ym24', 'ym25', 'ym26', 'ym27', 'ym28', 'ym29', 'ym30', 'ym31', 'ym32', 'ym33', 'ym34', 'ym35', 'ym36', 'ym37', 'ym38', 'ym39', 'ym40', 'ym41', 'ym42', 'ym43', 'ym44', 'ym45', 'ym46', 'ym47', 'ym48', 'ym49', 'ym50', 'ym51', 'ym52', 'ym53', 'ym54', 'ym55', 'ym56', 'ym57', 'ym58', 'ym59', 'ym60', 'ym61', 'ym62', 'ym63', 'ym64', 'ym65', 'ym66', 'ym67', 'ym68', 'ym69', 'ym70', 'ym71', 'ym72', 'ym73', 'ym74', 'ym75', 'ym76', 'ym77', 'ym78', 'ym79', 'ym80', 'ym81', 'ym82', 'ym83', 'ym84', 'ym85', 'ym86', 'ym87', 'ym88', 'ym89', 'ym90', 'ym91', 'ym92', 'ym93', 'ym94', 'ym95', 'ym96', 'ym97', 'ym98', 'ym99', 'yn00', 'yn01', 'yn02', 'yn03', 'yn04', 'yn05', 'yn06', 'yn07', 'yn08', 'yn09', 'yn10', 'yn11', 'yn12', 'yn13', 'yn14', 'yn15', 'yn16', 'yn17', 'yn18', 'yn19', 'yn20', 'yn21', 'yn22', 'yn23', 'yn24', 'yn25', 'yn26', 'yn27', 'yn28', 'yn29', 'yn30', 'yn31', 'yn32', 'yn33', 'yn34', 'yn35', 'yn36', 'yn37', 'yn38', 'yn39', 'yn40', 'yn41', 'yn42', 'yn43', 'yn44', 'yn45', 'yn46', 'yn47', 'yn48', 'yn49', 'yn50', 'yn51', 'yn52', 'yn53', 'yn54', 'yn55', 'yn56', 'yn57', 'yn58', 'yn59', 'yn60', 'yn61', 'yn62', 'yn63', 'yn64', 'yn65', 'yn66', 'yn67', 'yn68', 'yn69', 'yn70', 'yn71', 'yn72', 'yn73', 'yn74', 'yn75', 'yn76', 'yn77', 'yn78', 'yn79', 'yn80', 'yn81', 'yn82', 'yn83', 'yn84', 'yn85', 'yn86', 'yn87', 'yn88', 'yn89', 'yn90', 'yn91', 'yn92', 'yn93', 'yn94', 'yn95', 'yn96', 'yn97', 'yn98', 'yn99', 'yo00', 'yo01', 'yo02', 'yo03', 'yo04', 'yo05', 'yo06', 'yo07', 'yo08', 'yo09', 'yo10', 'yo11', 'yo12', 'yo13', 'yo14', 'yo15', 'yo16', 'yo17', 'yo18', 'yo19', 'yo20', 'yo21', 'yo22', 'yo23', 'yo24', 'yo25', 'yo26', 'yo27', 'yo28', 'yo29', 'yo30', 'yo31', 'yo32', 'yo33', 'yo34', 'yo35', 'yo36', 'yo37', 'yo38', 'yo39', 'yo40', 'yo41', 'yo42', 'yo43', 'yo44', 'yo45', 'yo46', 'yo47', 'yo48', 'yo49', 'yo50', 'yo51', 'yo52', 'yo53', 'yo54', 'yo55', 'yo56', 'yo57', 'yo58', 'yo59', 'yo60', 'yo61', 'yo62', 'yo63', 'yo64', 'yo65', 'yo66', 'yo67', 'yo68', 'yo69', 'yo70', 'yo71', 'yo72', 'yo73', 'yo74', 'yo75', 'yo76', 'yo77', 'yo78', 'yo79', 'yo80', 'yo81', 'yo82', 'yo83', 'yo84', 'yo85', 'yo86', 'yo87', 'yo88', 'yo89', 'yo90', 'yo91', 'yo92', 'yo93', 'yo94', 'yo95', 'yo96', 'yo97', 'yo98', 'yo99', 'yp00', 'yp01', 'yp02', 'yp03', 'yp04', 'yp05', 'yp06', 'yp07', 'yp08', 'yp09', 'yp10', 'yp11', 'yp12', 'yp13', 'yp14', 'yp15', 'yp16', 'yp17', 'yp18', 'yp19', 'yp20', 'yp21', 'yp22', 'yp23', 'yp24', 'yp25', 'yp26', 'yp27', 'yp28', 'yp29', 'yp30', 'yp31', 'yp32', 'yp33', 'yp34', 'yp35', 'yp36', 'yp37', 'yp38', 'yp39', 'yp40', 'yp41', 'yp42', 'yp43', 'yp44', 'yp45', 'yp46', 'yp47', 'yp48', 'yp49', 'yp50', 'yp51', 'yp52', 'yp53', 'yp54', 'yp55', 'yp56', 'yp57', 'yp58', 'yp59', 'yp60', 'yp61', 'yp62', 'yp63', 'yp64', 'yp65', 'yp66', 'yp67', 'yp68', 'yp69', 'yp70', 'yp71', 'yp72', 'yp73', 'yp74', 'yp75', 'yp76', 'yp77', 'yp78', 'yp79', 'yp80', 'yp81', 'yp82', 'yp83', 'yp84', 'yp85', 'yp86', 'yp87', 'yp88', 'yp89', 'yp90', 'yp91', 'yp92', 'yp93', 'yp94', 'yp95', 'yp96', 'yp97', 'yp98', 'yp99', 'yq00', 'yq01', 'yq02', 'yq03', 'yq04', 'yq05', 'yq06', 'yq07', 'yq08', 'yq09', 'yq10', 'yq11', 'yq12', 'yq13', 'yq14', 'yq15', 'yq16', 'yq17', 'yq18', 'yq19', 'yq20', 'yq21', 'yq22', 'yq23', 'yq24', 'yq25', 'yq26', 'yq27', 'yq28', 'yq29', 'yq30', 'yq31', 'yq32', 'yq33', 'yq34', 'yq35', 'yq36', 'yq37', 'yq38', 'yq39', 'yq40', 'yq41', 'yq42', 'yq43', 'yq44', 'yq45', 'yq46', 'yq47', 'yq48', 'yq49', 'yq50', 'yq51', 'yq52', 'yq53', 'yq54', 'yq55', 'yq56', 'yq57', 'yq58', 'yq59', 'yq60', 'yq61', 'yq62', 'yq63', 'yq64', 'yq65', 'yq66', 'yq67', 'yq68', 'yq69', 'yq70', 'yq71', 'yq72', 'yq73', 'yq74', 'yq75', 'yq76', 'yq77', 'yq78', 'yq79', 'yq80', 'yq81', 'yq82', 'yq83', 'yq84', 'yq85', 'yq86', 'yq87', 'yq88', 'yq89', 'yq90', 'yq91', 'yq92', 'yq93', 'yq94', 'yq95', 'yq96', 'yq97', 'yq98', 'yq99', 'yr00', 'yr01', 'yr02', 'yr03', 'yr04', 'yr05', 'yr06', 'yr07', 'yr08', 'yr09', 'yr10', 'yr11', 'yr12', 'yr13', 'yr14', 'yr15', 'yr16', 'yr17', 'yr18', 'yr19', 'yr20', 'yr21', 'yr22', 'yr23', 'yr24', 'yr25', 'yr26', 'yr27', 'yr28', 'yr29', 'yr30', 'yr31', 'yr32', 'yr33', 'yr34', 'yr35', 'yr36', 'yr37', 'yr38', 'yr39', 'yr40', 'yr41', 'yr42', 'yr43', 'yr44', 'yr45', 'yr46', 'yr47', 'yr48', 'yr49', 'yr50', 'yr51', 'yr52', 'yr53', 'yr54', 'yr55', 'yr56', 'yr57', 'yr58', 'yr59', 'yr60', 'yr61', 'yr62', 'yr63', 'yr64', 'yr65', 'yr66', 'yr67', 'yr68', 'yr69', 'yr70', 'yr71', 'yr72', 'yr73', 'yr74', 'yr75', 'yr76', 'yr77', 'yr78', 'yr79', 'yr80', 'yr81', 'yr82', 'yr83', 'yr84', 'yr85', 'yr86', 'yr87', 'yr88', 'yr89', 'yr90', 'yr91', 'yr92', 'yr93', 'yr94', 'yr95', 'yr96', 'yr97', 'yr98', 'yr99', 'ys00', 'ys01', 'ys02', 'ys03', 'ys04', 'ys05', 'ys06', 'ys07', 'ys08', 'ys09', 'ys10', 'ys11', 'ys12', 'ys13', 'ys14', 'ys15', 'ys16', 'ys17', 'ys18', 'ys19', 'ys20', 'ys21', 'ys22', 'ys23', 'ys24', 'ys25', 'ys26', 'ys27', 'ys28', 'ys29', 'ys30', 'ys31', 'ys32', 'ys33', 'ys34', 'ys35', 'ys36', 'ys37', 'ys38', 'ys39', 'ys40', 'ys41', 'ys42', 'ys43', 'ys44', 'ys45', 'ys46', 'ys47', 'ys48', 'ys49', 'ys50', 'ys51', 'ys52', 'ys53', 'ys54', 'ys55', 'ys56', 'ys57', 'ys58', 'ys59', 'ys60', 'ys61', 'ys62', 'ys63', 'ys64', 'ys65', 'ys66', 'ys67', 'ys68', 'ys69', 'ys70', 'ys71', 'ys72', 'ys73', 'ys74', 'ys75', 'ys76', 'ys77', 'ys78', 'ys79', 'ys80', 'ys81', 'ys82', 'ys83', 'ys84', 'ys85', 'ys86', 'ys87', 'ys88', 'ys89', 'ys90', 'ys91', 'ys92', 'ys93', 'ys94', 'ys95', 'ys96', 'ys97', 'ys98', 'ys99', 'yt00', 'yt01', 'yt02', 'yt03', 'yt04', 'yt05', 'yt06', 'yt07', 'yt08', 'yt09', 'yt10', 'yt11', 'yt12', 'yt13', 'yt14', 'yt15', 'yt16', 'yt17', 'yt18', 'yt19', 'yt20', 'yt21', 'yt22', 'yt23', 'yt24', 'yt25', 'yt26', 'yt27', 'yt28', 'yt29', 'yt30', 'yt31', 'yt32', 'yt33', 'yt34', 'yt35', 'yt36', 'yt37', 'yt38', 'yt39', 'yt40', 'yt41', 'yt42', 'yt43', 'yt44', 'yt45', 'yt46', 'yt47', 'yt48', 'yt49', 'yt50', 'yt51', 'yt52', 'yt53', 'yt54', 'yt55', 'yt56', 'yt57', 'yt58', 'yt59', 'yt60', 'yt61', 'yt62', 'yt63', 'yt64', 'yt65', 'yt66', 'yt67', 'yt68', 'yt69', 'yt70', 'yt71', 'yt72', 'yt73', 'yt74', 'yt75', 'yt76', 'yt77', 'yt78', 'yt79', 'yt80', 'yt81', 'yt82', 'yt83', 'yt84', 'yt85', 'yt86', 'yt87', 'yt88', 'yt89', 'yt90', 'yt91', 'yt92', 'yt93', 'yt94', 'yt95', 'yt96', 'yt97', 'yt98', 'yt99', 'yu00', 'yu01', 'yu02', 'yu03', 'yu04', 'yu05', 'yu06', 'yu07', 'yu08', 'yu09', 'yu10', 'yu11', 'yu12', 'yu13', 'yu14', 'yu15', 'yu16', 'yu17', 'yu18', 'yu19', 'yu20', 'yu21', 'yu22', 'yu23', 'yu24', 'yu25', 'yu26', 'yu27', 'yu28', 'yu29', 'yu30', 'yu31', 'yu32', 'yu33', 'yu34', 'yu35', 'yu36', 'yu37', 'yu38', 'yu39', 'yu40', 'yu41', 'yu42', 'yu43', 'yu44', 'yu45', 'yu46', 'yu47', 'yu48', 'yu49', 'yu50', 'yu51', 'yu52', 'yu53', 'yu54', 'yu55', 'yu56', 'yu57', 'yu58', 'yu59', 'yu60', 'yu61', 'yu62', 'yu63', 'yu64', 'yu65', 'yu66', 'yu67', 'yu68', 'yu69', 'yu70', 'yu71', 'yu72', 'yu73', 'yu74', 'yu75', 'yu76', 'yu77', 'yu78', 'yu79', 'yu80', 'yu81', 'yu82', 'yu83', 'yu84', 'yu85', 'yu86', 'yu87', 'yu88', 'yu89', 'yu90', 'yu91', 'yu92', 'yu93', 'yu94', 'yu95', 'yu96', 'yu97', 'yu98', 'yu99', 'yv00', 'yv01', 'yv02', 'yv03', 'yv04', 'yv05', 'yv06', 'yv07', 'yv08', 'yv09', 'yv10', 'yv11', 'yv12', 'yv13', 'yv14', 'yv15', 'yv16', 'yv17', 'yv18', 'yv19', 'yv20', 'yv21', 'yv22', 'yv23', 'yv24', 'yv25', 'yv26', 'yv27', 'yv28', 'yv29', 'yv30', 'yv31', 'yv32', 'yv33', 'yv34', 'yv35', 'yv36', 'yv37', 'yv38', 'yv39', 'yv40', 'yv41', 'yv42', 'yv43', 'yv44', 'yv45', 'yv46', 'yv47', 'yv48', 'yv49', 'yv50', 'yv51', 'yv52', 'yv53', 'yv54', 'yv55', 'yv56', 'yv57', 'yv58', 'yv59', 'yv60', 'yv61', 'yv62', 'yv63', 'yv64', 'yv65', 'yv66', 'yv67', 'yv68', 'yv69', 'yv70', 'yv71', 'yv72', 'yv73', 'yv74', 'yv75', 'yv76', 'yv77', 'yv78', 'yv79', 'yv80', 'yv81', 'yv82', 'yv83', 'yv84', 'yv85', 'yv86', 'yv87', 'yv88', 'yv89', 'yv90', 'yv91', 'yv92', 'yv93', 'yv94', 'yv95', 'yv96', 'yv97', 'yv98', 'yv99', 'yw00', 'yw01', 'yw02', 'yw03', 'yw04', 'yw05', 'yw06', 'yw07', 'yw08', 'yw09', 'yw10', 'yw11', 'yw12', 'yw13', 'yw14', 'yw15', 'yw16', 'yw17', 'yw18', 'yw19', 'yw20', 'yw21', 'yw22', 'yw23', 'yw24', 'yw25', 'yw26', 'yw27', 'yw28', 'yw29', 'yw30', 'yw31', 'yw32', 'yw33', 'yw34', 'yw35', 'yw36', 'yw37', 'yw38', 'yw39', 'yw40', 'yw41', 'yw42', 'yw43', 'yw44', 'yw45', 'yw46', 'yw47', 'yw48', 'yw49', 'yw50', 'yw51', 'yw52', 'yw53', 'yw54', 'yw55', 'yw56', 'yw57', 'yw58', 'yw59', 'yw60', 'yw61', 'yw62', 'yw63', 'yw64', 'yw65', 'yw66', 'yw67', 'yw68', 'yw69', 'yw70', 'yw71', 'yw72', 'yw73', 'yw74', 'yw75', 'yw76', 'yw77', 'yw78', 'yw79', 'yw80', 'yw81', 'yw82', 'yw83', 'yw84', 'yw85', 'yw86', 'yw87', 'yw88', 'yw89', 'yw90', 'yw91', 'yw92', 'yw93', 'yw94', 'yw95', 'yw96', 'yw97', 'yw98', 'yw99', 'yx00', 'yx01', 'yx02', 'yx03', 'yx04', 'yx05', 'yx06', 'yx07', 'yx08', 'yx09', 'yx10', 'yx11', 'yx12', 'yx13', 'yx14', 'yx15', 'yx16', 'yx17', 'yx18', 'yx19', 'yx20', 'yx21', 'yx22', 'yx23', 'yx24', 'yx25', 'yx26', 'yx27', 'yx28', 'yx29', 'yx30', 'yx31', 'yx32', 'yx33', 'yx34', 'yx35', 'yx36', 'yx37', 'yx38', 'yx39', 'yx40', 'yx41', 'yx42', 'yx43', 'yx44', 'yx45', 'yx46', 'yx47', 'yx48', 'yx49', 'yx50', 'yx51', 'yx52', 'yx53', 'yx54', 'yx55', 'yx56', 'yx57', 'yx58', 'yx59', 'yx60', 'yx61', 'yx62', 'yx63', 'yx64', 'yx65', 'yx66', 'yx67', 'yx68', 'yx69', 'yx70', 'yx71', 'yx72', 'yx73', 'yx74', 'yx75', 'yx76', 'yx77', 'yx78', 'yx79', 'yx80', 'yx81', 'yx82', 'yx83', 'yx84', 'yx85', 'yx86', 'yx87', 'yx88', 'yx89', 'yx90', 'yx91', 'yx92', 'yx93', 'yx94', 'yx95', 'yx96', 'yx97', 'yx98', 'yx99', 'yy00', 'yy01', 'yy02', 'yy03', 'yy04', 'yy05', 'yy06', 'yy07', 'yy08', 'yy09', 'yy10', 'yy11', 'yy12', 'yy13', 'yy14', 'yy15', 'yy16', 'yy17', 'yy18', 'yy19', 'yy20', 'yy21', 'yy22', 'yy23', 'yy24', 'yy25', 'yy26', 'yy27', 'yy28', 'yy29', 'yy30', 'yy31', 'yy32', 'yy33', 'yy34', 'yy35', 'yy36', 'yy37', 'yy38', 'yy39', 'yy40', 'yy41', 'yy42', 'yy43', 'yy44', 'yy45', 'yy46', 'yy47', 'yy48', 'yy49', 'yy50', 'yy51', 'yy52', 'yy53', 'yy54', 'yy55', 'yy56', 'yy57', 'yy58', 'yy59', 'yy60', 'yy61', 'yy62', 'yy63', 'yy64', 'yy65', 'yy66', 'yy67', 'yy68', 'yy69', 'yy70', 'yy71', 'yy72', 'yy73', 'yy74', 'yy75', 'yy76', 'yy77', 'yy78', 'yy79', 'yy80', 'yy81', 'yy82', 'yy83', 'yy84', 'yy85', 'yy86', 'yy87', 'yy88', 'yy89', 'yy90', 'yy91', 'yy92', 'yy93', 'yy94', 'yy95', 'yy96', 'yy97', 'yy98', 'yy99', 'yz00', 'yz01', 'yz02', 'yz03', 'yz04', 'yz05', 'yz06', 'yz07', 'yz08', 'yz09', 'yz10', 'yz11', 'yz12', 'yz13', 'yz14', 'yz15', 'yz16', 'yz17', 'yz18', 'yz19', 'yz20', 'yz21', 'yz22', 'yz23', 'yz24', 'yz25', 'yz26', 'yz27', 'yz28', 'yz29', 'yz30', 'yz31', 'yz32', 'yz33', 'yz34', 'yz35', 'yz36', 'yz37', 'yz38', 'yz39', 'yz40', 'yz41', 'yz42', 'yz43', 'yz44', 'yz45', 'yz46', 'yz47', 'yz48', 'yz49', 'yz50', 'yz51', 'yz52', 'yz53', 'yz54', 'yz55', 'yz56', 'yz57', 'yz58', 'yz59', 'yz60', 'yz61', 'yz62', 'yz63', 'yz64', 'yz65', 'yz66', 'yz67', 'yz68', 'yz69', 'yz70', 'yz71', 'yz72', 'yz73', 'yz74', 'yz75', 'yz76', 'yz77', 'yz78', 'yz79', 'yz80', 'yz81', 'yz82', 'yz83', 'yz84', 'yz85', 'yz86', 'yz87', 'yz88', 'yz89', 'yz90', 'yz91', 'yz92', 'yz93', 'yz94', 'yz95', 'yz96', 'yz97', 'yz98', 'yz99', 'za00', 'za01', 'za02', 'za03', 'za04', 'za05', 'za06', 'za07', 'za08', 'za09', 'za10', 'za11', 'za12', 'za13', 'za14', 'za15', 'za16', 'za17', 'za18', 'za19', 'za20', 'za21', 'za22', 'za23', 'za24', 'za25', 'za26', 'za27', 'za28', 'za29', 'za30', 'za31', 'za32', 'za33', 'za34', 'za35', 'za36', 'za37', 'za38', 'za39', 'za40', 'za41', 'za42', 'za43', 'za44', 'za45', 'za46', 'za47', 'za48', 'za49', 'za50', 'za51', 'za52', 'za53', 'za54', 'za55', 'za56', 'za57', 'za58', 'za59', 'za60', 'za61', 'za62', 'za63', 'za64', 'za65', 'za66', 'za67', 'za68', 'za69', 'za70', 'za71', 'za72', 'za73', 'za74', 'za75', 'za76', 'za77', 'za78', 'za79', 'za80', 'za81', 'za82', 'za83', 'za84', 'za85', 'za86', 'za87', 'za88', 'za89', 'za90', 'za91', 'za92', 'za93', 'za94', 'za95', 'za96', 'za97', 'za98', 'za99', 'zb00', 'zb01', 'zb02', 'zb03', 'zb04', 'zb05', 'zb06', 'zb07', 'zb08', 'zb09', 'zb10', 'zb11', 'zb12', 'zb13', 'zb14', 'zb15', 'zb16', 'zb17', 'zb18', 'zb19', 'zb20', 'zb21', 'zb22', 'zb23', 'zb24', 'zb25', 'zb26', 'zb27', 'zb28', 'zb29', 'zb30', 'zb31', 'zb32', 'zb33', 'zb34', 'zb35', 'zb36', 'zb37', 'zb38', 'zb39', 'zb40', 'zb41', 'zb42', 'zb43', 'zb44', 'zb45', 'zb46', 'zb47', 'zb48', 'zb49', 'zb50', 'zb51', 'zb52', 'zb53', 'zb54', 'zb55', 'zb56', 'zb57', 'zb58', 'zb59', 'zb60', 'zb61', 'zb62', 'zb63', 'zb64', 'zb65', 'zb66', 'zb67', 'zb68', 'zb69', 'zb70', 'zb71', 'zb72', 'zb73', 'zb74', 'zb75', 'zb76', 'zb77', 'zb78', 'zb79', 'zb80', 'zb81', 'zb82', 'zb83', 'zb84', 'zb85', 'zb86', 'zb87', 'zb88', 'zb89', 'zb90', 'zb91', 'zb92', 'zb93', 'zb94', 'zb95', 'zb96', 'zb97', 'zb98', 'zb99', 'zc00', 'zc01', 'zc02', 'zc03', 'zc04', 'zc05', 'zc06', 'zc07', 'zc08', 'zc09', 'zc10', 'zc11', 'zc12', 'zc13', 'zc14', 'zc15', 'zc16', 'zc17', 'zc18', 'zc19', 'zc20', 'zc21', 'zc22', 'zc23', 'zc24', 'zc25', 'zc26', 'zc27', 'zc28', 'zc29', 'zc30', 'zc31', 'zc32', 'zc33', 'zc34', 'zc35', 'zc36', 'zc37', 'zc38', 'zc39', 'zc40', 'zc41', 'zc42', 'zc43', 'zc44', 'zc45', 'zc46', 'zc47', 'zc48', 'zc49', 'zc50', 'zc51', 'zc52', 'zc53', 'zc54', 'zc55', 'zc56', 'zc57', 'zc58', 'zc59', 'zc60', 'zc61', 'zc62', 'zc63', 'zc64', 'zc65', 'zc66', 'zc67', 'zc68', 'zc69', 'zc70', 'zc71', 'zc72', 'zc73', 'zc74', 'zc75', 'zc76', 'zc77', 'zc78', 'zc79', 'zc80', 'zc81', 'zc82', 'zc83', 'zc84', 'zc85', 'zc86', 'zc87', 'zc88', 'zc89', 'zc90', 'zc91', 'zc92', 'zc93', 'zc94', 'zc95', 'zc96', 'zc97', 'zc98', 'zc99', 'zd00', 'zd01', 'zd02', 'zd03', 'zd04', 'zd05', 'zd06', 'zd07', 'zd08', 'zd09', 'zd10', 'zd11', 'zd12', 'zd13', 'zd14', 'zd15', 'zd16', 'zd17', 'zd18', 'zd19', 'zd20', 'zd21', 'zd22', 'zd23', 'zd24', 'zd25', 'zd26', 'zd27', 'zd28', 'zd29', 'zd30', 'zd31', 'zd32', 'zd33', 'zd34', 'zd35', 'zd36', 'zd37', 'zd38', 'zd39', 'zd40', 'zd41', 'zd42', 'zd43', 'zd44', 'zd45', 'zd46', 'zd47', 'zd48', 'zd49', 'zd50', 'zd51', 'zd52', 'zd53', 'zd54', 'zd55', 'zd56', 'zd57', 'zd58', 'zd59', 'zd60', 'zd61', 'zd62', 'zd63', 'zd64', 'zd65', 'zd66', 'zd67', 'zd68', 'zd69', 'zd70', 'zd71', 'zd72', 'zd73', 'zd74', 'zd75', 'zd76', 'zd77', 'zd78', 'zd79', 'zd80', 'zd81', 'zd82', 'zd83', 'zd84', 'zd85', 'zd86', 'zd87', 'zd88', 'zd89', 'zd90', 'zd91', 'zd92', 'zd93', 'zd94', 'zd95', 'zd96', 'zd97', 'zd98', 'zd99', 'ze00', 'ze01', 'ze02', 'ze03', 'ze04', 'ze05', 'ze06', 'ze07', 'ze08', 'ze09', 'ze10', 'ze11', 'ze12', 'ze13', 'ze14', 'ze15', 'ze16', 'ze17', 'ze18', 'ze19', 'ze20', 'ze21', 'ze22', 'ze23', 'ze24', 'ze25', 'ze26', 'ze27', 'ze28', 'ze29', 'ze30', 'ze31', 'ze32', 'ze33', 'ze34', 'ze35', 'ze36', 'ze37', 'ze38', 'ze39', 'ze40', 'ze41', 'ze42', 'ze43', 'ze44', 'ze45', 'ze46', 'ze47', 'ze48', 'ze49', 'ze50', 'ze51', 'ze52', 'ze53', 'ze54', 'ze55', 'ze56', 'ze57', 'ze58', 'ze59', 'ze60', 'ze61', 'ze62', 'ze63', 'ze64', 'ze65', 'ze66', 'ze67', 'ze68', 'ze69', 'ze70', 'ze71', 'ze72', 'ze73', 'ze74', 'ze75', 'ze76', 'ze77', 'ze78', 'ze79', 'ze80', 'ze81', 'ze82', 'ze83', 'ze84', 'ze85', 'ze86', 'ze87', 'ze88', 'ze89', 'ze90', 'ze91', 'ze92', 'ze93', 'ze94', 'ze95', 'ze96', 'ze97', 'ze98', 'ze99', 'zf00', 'zf01', 'zf02', 'zf03', 'zf04', 'zf05', 'zf06', 'zf07', 'zf08', 'zf09', 'zf10', 'zf11', 'zf12', 'zf13', 'zf14', 'zf15', 'zf16', 'zf17', 'zf18', 'zf19', 'zf20', 'zf21', 'zf22', 'zf23', 'zf24', 'zf25', 'zf26', 'zf27', 'zf28', 'zf29', 'zf30', 'zf31', 'zf32', 'zf33', 'zf34', 'zf35', 'zf36', 'zf37', 'zf38', 'zf39', 'zf40', 'zf41', 'zf42', 'zf43', 'zf44', 'zf45', 'zf46', 'zf47', 'zf48', 'zf49', 'zf50', 'zf51', 'zf52', 'zf53', 'zf54', 'zf55', 'zf56', 'zf57', 'zf58', 'zf59', 'zf60', 'zf61', 'zf62', 'zf63', 'zf64', 'zf65', 'zf66', 'zf67', 'zf68', 'zf69', 'zf70', 'zf71', 'zf72', 'zf73', 'zf74', 'zf75', 'zf76', 'zf77', 'zf78', 'zf79', 'zf80', 'zf81', 'zf82', 'zf83', 'zf84', 'zf85', 'zf86', 'zf87', 'zf88', 'zf89', 'zf90', 'zf91', 'zf92', 'zf93', 'zf94', 'zf95', 'zf96', 'zf97', 'zf98', 'zf99', 'zg00', 'zg01', 'zg02', 'zg03', 'zg04', 'zg05', 'zg06', 'zg07', 'zg08', 'zg09', 'zg10', 'zg11', 'zg12', 'zg13', 'zg14', 'zg15', 'zg16', 'zg17', 'zg18', 'zg19', 'zg20', 'zg21', 'zg22', 'zg23', 'zg24', 'zg25', 'zg26', 'zg27', 'zg28', 'zg29', 'zg30', 'zg31', 'zg32', 'zg33', 'zg34', 'zg35', 'zg36', 'zg37', 'zg38', 'zg39', 'zg40', 'zg41', 'zg42', 'zg43', 'zg44', 'zg45', 'zg46', 'zg47', 'zg48', 'zg49', 'zg50', 'zg51', 'zg52', 'zg53', 'zg54', 'zg55', 'zg56', 'zg57', 'zg58', 'zg59', 'zg60', 'zg61', 'zg62', 'zg63', 'zg64', 'zg65', 'zg66', 'zg67', 'zg68', 'zg69', 'zg70', 'zg71', 'zg72', 'zg73', 'zg74', 'zg75', 'zg76', 'zg77', 'zg78', 'zg79', 'zg80', 'zg81', 'zg82', 'zg83', 'zg84', 'zg85', 'zg86', 'zg87', 'zg88', 'zg89', 'zg90', 'zg91', 'zg92', 'zg93', 'zg94', 'zg95', 'zg96', 'zg97', 'zg98', 'zg99', 'zh00', 'zh01', 'zh02', 'zh03', 'zh04', 'zh05', 'zh06', 'zh07', 'zh08', 'zh09', 'zh10', 'zh11', 'zh12', 'zh13', 'zh14', 'zh15', 'zh16', 'zh17', 'zh18', 'zh19', 'zh20', 'zh21', 'zh22', 'zh23', 'zh24', 'zh25', 'zh26', 'zh27', 'zh28', 'zh29', 'zh30', 'zh31', 'zh32', 'zh33', 'zh34', 'zh35', 'zh36', 'zh37', 'zh38', 'zh39', 'zh40', 'zh41', 'zh42', 'zh43', 'zh44', 'zh45', 'zh46', 'zh47', 'zh48', 'zh49', 'zh50', 'zh51', 'zh52', 'zh53', 'zh54', 'zh55', 'zh56', 'zh57', 'zh58', 'zh59', 'zh60', 'zh61', 'zh62', 'zh63', 'zh64', 'zh65', 'zh66', 'zh67', 'zh68', 'zh69', 'zh70', 'zh71', 'zh72', 'zh73', 'zh74', 'zh75', 'zh76', 'zh77', 'zh78', 'zh79', 'zh80', 'zh81', 'zh82', 'zh83', 'zh84', 'zh85', 'zh86', 'zh87', 'zh88', 'zh89', 'zh90', 'zh91', 'zh92', 'zh93', 'zh94', 'zh95', 'zh96', 'zh97', 'zh98', 'zh99', 'zi00', 'zi01', 'zi02', 'zi03', 'zi04', 'zi05', 'zi06', 'zi07', 'zi08', 'zi09', 'zi10', 'zi11', 'zi12', 'zi13', 'zi14', 'zi15', 'zi16', 'zi17', 'zi18', 'zi19', 'zi20', 'zi21', 'zi22', 'zi23', 'zi24', 'zi25', 'zi26', 'zi27', 'zi28', 'zi29', 'zi30', 'zi31', 'zi32', 'zi33', 'zi34', 'zi35', 'zi36', 'zi37', 'zi38', 'zi39', 'zi40', 'zi41', 'zi42', 'zi43', 'zi44', 'zi45', 'zi46', 'zi47', 'zi48', 'zi49', 'zi50', 'zi51', 'zi52', 'zi53', 'zi54', 'zi55', 'zi56', 'zi57', 'zi58', 'zi59', 'zi60', 'zi61', 'zi62', 'zi63', 'zi64', 'zi65', 'zi66', 'zi67', 'zi68', 'zi69', 'zi70', 'zi71', 'zi72', 'zi73', 'zi74', 'zi75', 'zi76', 'zi77', 'zi78', 'zi79', 'zi80', 'zi81', 'zi82', 'zi83', 'zi84', 'zi85', 'zi86', 'zi87', 'zi88', 'zi89', 'zi90', 'zi91', 'zi92', 'zi93', 'zi94', 'zi95', 'zi96', 'zi97', 'zi98', 'zi99', 'zj00', 'zj01', 'zj02', 'zj03', 'zj04', 'zj05', 'zj06', 'zj07', 'zj08', 'zj09', 'zj10', 'zj11', 'zj12', 'zj13', 'zj14', 'zj15', 'zj16', 'zj17', 'zj18', 'zj19', 'zj20', 'zj21', 'zj22', 'zj23', 'zj24', 'zj25', 'zj26', 'zj27', 'zj28', 'zj29', 'zj30', 'zj31', 'zj32', 'zj33', 'zj34', 'zj35', 'zj36', 'zj37', 'zj38', 'zj39', 'zj40', 'zj41', 'zj42', 'zj43', 'zj44', 'zj45', 'zj46', 'zj47', 'zj48', 'zj49', 'zj50', 'zj51', 'zj52', 'zj53', 'zj54', 'zj55', 'zj56', 'zj57', 'zj58', 'zj59', 'zj60', 'zj61', 'zj62', 'zj63', 'zj64', 'zj65', 'zj66', 'zj67', 'zj68', 'zj69', 'zj70', 'zj71', 'zj72', 'zj73', 'zj74', 'zj75', 'zj76', 'zj77', 'zj78', 'zj79', 'zj80', 'zj81', 'zj82', 'zj83', 'zj84', 'zj85', 'zj86', 'zj87', 'zj88', 'zj89', 'zj90', 'zj91', 'zj92', 'zj93', 'zj94', 'zj95', 'zj96', 'zj97', 'zj98', 'zj99', 'zk00', 'zk01', 'zk02', 'zk03', 'zk04', 'zk05', 'zk06', 'zk07', 'zk08', 'zk09', 'zk10', 'zk11', 'zk12', 'zk13', 'zk14', 'zk15', 'zk16', 'zk17', 'zk18', 'zk19', 'zk20', 'zk21', 'zk22', 'zk23', 'zk24', 'zk25', 'zk26', 'zk27', 'zk28', 'zk29', 'zk30', 'zk31', 'zk32', 'zk33', 'zk34', 'zk35', 'zk36', 'zk37', 'zk38', 'zk39', 'zk40', 'zk41', 'zk42', 'zk43', 'zk44', 'zk45', 'zk46', 'zk47', 'zk48', 'zk49', 'zk50', 'zk51', 'zk52', 'zk53', 'zk54', 'zk55', 'zk56', 'zk57', 'zk58', 'zk59', 'zk60', 'zk61', 'zk62', 'zk63', 'zk64', 'zk65', 'zk66', 'zk67', 'zk68', 'zk69', 'zk70', 'zk71', 'zk72', 'zk73', 'zk74', 'zk75', 'zk76', 'zk77', 'zk78', 'zk79', 'zk80', 'zk81', 'zk82', 'zk83', 'zk84', 'zk85', 'zk86', 'zk87', 'zk88', 'zk89', 'zk90', 'zk91', 'zk92', 'zk93', 'zk94', 'zk95', 'zk96', 'zk97', 'zk98', 'zk99', 'zl00', 'zl01', 'zl02', 'zl03', 'zl04', 'zl05', 'zl06', 'zl07', 'zl08', 'zl09', 'zl10', 'zl11', 'zl12', 'zl13', 'zl14', 'zl15', 'zl16', 'zl17', 'zl18', 'zl19', 'zl20', 'zl21', 'zl22', 'zl23', 'zl24', 'zl25', 'zl26', 'zl27', 'zl28', 'zl29', 'zl30', 'zl31', 'zl32', 'zl33', 'zl34', 'zl35', 'zl36', 'zl37', 'zl38', 'zl39', 'zl40', 'zl41', 'zl42', 'zl43', 'zl44', 'zl45', 'zl46', 'zl47', 'zl48', 'zl49', 'zl50', 'zl51', 'zl52', 'zl53', 'zl54', 'zl55', 'zl56', 'zl57', 'zl58', 'zl59', 'zl60', 'zl61', 'zl62', 'zl63', 'zl64', 'zl65', 'zl66', 'zl67', 'zl68', 'zl69', 'zl70', 'zl71', 'zl72', 'zl73', 'zl74', 'zl75', 'zl76', 'zl77', 'zl78', 'zl79', 'zl80', 'zl81', 'zl82', 'zl83', 'zl84', 'zl85', 'zl86', 'zl87', 'zl88', 'zl89', 'zl90', 'zl91', 'zl92', 'zl93', 'zl94', 'zl95', 'zl96', 'zl97', 'zl98', 'zl99', 'zm00', 'zm01', 'zm02', 'zm03', 'zm04', 'zm05', 'zm06', 'zm07', 'zm08', 'zm09', 'zm10', 'zm11', 'zm12', 'zm13', 'zm14', 'zm15', 'zm16', 'zm17', 'zm18', 'zm19', 'zm20', 'zm21', 'zm22', 'zm23', 'zm24', 'zm25', 'zm26', 'zm27', 'zm28', 'zm29', 'zm30', 'zm31', 'zm32', 'zm33', 'zm34', 'zm35', 'zm36', 'zm37', 'zm38', 'zm39', 'zm40', 'zm41', 'zm42', 'zm43', 'zm44', 'zm45', 'zm46', 'zm47', 'zm48', 'zm49', 'zm50', 'zm51', 'zm52', 'zm53', 'zm54', 'zm55', 'zm56', 'zm57', 'zm58', 'zm59', 'zm60', 'zm61', 'zm62', 'zm63', 'zm64', 'zm65', 'zm66', 'zm67', 'zm68', 'zm69', 'zm70', 'zm71', 'zm72', 'zm73', 'zm74', 'zm75', 'zm76', 'zm77', 'zm78', 'zm79', 'zm80', 'zm81', 'zm82', 'zm83', 'zm84', 'zm85', 'zm86', 'zm87', 'zm88', 'zm89', 'zm90', 'zm91', 'zm92', 'zm93', 'zm94', 'zm95', 'zm96', 'zm97', 'zm98', 'zm99', 'zn00', 'zn01', 'zn02', 'zn03', 'zn04', 'zn05', 'zn06', 'zn07', 'zn08', 'zn09', 'zn10', 'zn11', 'zn12', 'zn13', 'zn14', 'zn15', 'zn16', 'zn17', 'zn18', 'zn19', 'zn20', 'zn21', 'zn22', 'zn23', 'zn24', 'zn25', 'zn26', 'zn27', 'zn28', 'zn29', 'zn30', 'zn31', 'zn32', 'zn33', 'zn34', 'zn35', 'zn36', 'zn37', 'zn38', 'zn39', 'zn40', 'zn41', 'zn42', 'zn43', 'zn44', 'zn45', 'zn46', 'zn47', 'zn48', 'zn49', 'zn50', 'zn51', 'zn52', 'zn53', 'zn54', 'zn55', 'zn56', 'zn57', 'zn58', 'zn59', 'zn60', 'zn61', 'zn62', 'zn63', 'zn64', 'zn65', 'zn66', 'zn67', 'zn68', 'zn69', 'zn70', 'zn71', 'zn72', 'zn73', 'zn74', 'zn75', 'zn76', 'zn77', 'zn78', 'zn79', 'zn80', 'zn81', 'zn82', 'zn83', 'zn84', 'zn85', 'zn86', 'zn87', 'zn88', 'zn89', 'zn90', 'zn91', 'zn92', 'zn93', 'zn94', 'zn95', 'zn96', 'zn97', 'zn98', 'zn99', 'zo00', 'zo01', 'zo02', 'zo03', 'zo04', 'zo05', 'zo06', 'zo07', 'zo08', 'zo09', 'zo10', 'zo11', 'zo12', 'zo13', 'zo14', 'zo15', 'zo16', 'zo17', 'zo18', 'zo19', 'zo20', 'zo21', 'zo22', 'zo23', 'zo24', 'zo25', 'zo26', 'zo27', 'zo28', 'zo29', 'zo30', 'zo31', 'zo32', 'zo33', 'zo34', 'zo35', 'zo36', 'zo37', 'zo38', 'zo39', 'zo40', 'zo41', 'zo42', 'zo43', 'zo44', 'zo45', 'zo46', 'zo47', 'zo48', 'zo49', 'zo50', 'zo51', 'zo52', 'zo53', 'zo54', 'zo55', 'zo56', 'zo57', 'zo58', 'zo59', 'zo60', 'zo61', 'zo62', 'zo63', 'zo64', 'zo65', 'zo66', 'zo67', 'zo68', 'zo69', 'zo70', 'zo71', 'zo72', 'zo73', 'zo74', 'zo75', 'zo76', 'zo77', 'zo78', 'zo79', 'zo80', 'zo81', 'zo82', 'zo83', 'zo84', 'zo85', 'zo86', 'zo87', 'zo88', 'zo89', 'zo90', 'zo91', 'zo92', 'zo93', 'zo94', 'zo95', 'zo96', 'zo97', 'zo98', 'zo99', 'zp00', 'zp01', 'zp02', 'zp03', 'zp04', 'zp05', 'zp06', 'zp07', 'zp08', 'zp09', 'zp10', 'zp11', 'zp12', 'zp13', 'zp14', 'zp15', 'zp16', 'zp17', 'zp18', 'zp19', 'zp20', 'zp21', 'zp22', 'zp23', 'zp24', 'zp25', 'zp26', 'zp27', 'zp28', 'zp29', 'zp30', 'zp31', 'zp32', 'zp33', 'zp34', 'zp35', 'zp36', 'zp37', 'zp38', 'zp39', 'zp40', 'zp41', 'zp42', 'zp43', 'zp44', 'zp45', 'zp46', 'zp47', 'zp48', 'zp49', 'zp50', 'zp51', 'zp52', 'zp53', 'zp54', 'zp55', 'zp56', 'zp57', 'zp58', 'zp59', 'zp60', 'zp61', 'zp62', 'zp63', 'zp64', 'zp65', 'zp66', 'zp67', 'zp68', 'zp69', 'zp70', 'zp71', 'zp72', 'zp73', 'zp74', 'zp75', 'zp76', 'zp77', 'zp78', 'zp79', 'zp80', 'zp81', 'zp82', 'zp83', 'zp84', 'zp85', 'zp86', 'zp87', 'zp88', 'zp89', 'zp90', 'zp91', 'zp92', 'zp93', 'zp94', 'zp95', 'zp96', 'zp97', 'zp98', 'zp99', 'zq00', 'zq01', 'zq02', 'zq03', 'zq04', 'zq05', 'zq06', 'zq07', 'zq08', 'zq09', 'zq10', 'zq11', 'zq12', 'zq13', 'zq14', 'zq15', 'zq16', 'zq17', 'zq18', 'zq19', 'zq20', 'zq21', 'zq22', 'zq23', 'zq24', 'zq25', 'zq26', 'zq27', 'zq28', 'zq29', 'zq30', 'zq31', 'zq32', 'zq33', 'zq34', 'zq35', 'zq36', 'zq37', 'zq38', 'zq39', 'zq40', 'zq41', 'zq42', 'zq43', 'zq44', 'zq45', 'zq46', 'zq47', 'zq48', 'zq49', 'zq50', 'zq51', 'zq52', 'zq53', 'zq54', 'zq55', 'zq56', 'zq57', 'zq58', 'zq59', 'zq60', 'zq61', 'zq62', 'zq63', 'zq64', 'zq65', 'zq66', 'zq67', 'zq68', 'zq69', 'zq70', 'zq71', 'zq72', 'zq73', 'zq74', 'zq75', 'zq76', 'zq77', 'zq78', 'zq79', 'zq80', 'zq81', 'zq82', 'zq83', 'zq84', 'zq85', 'zq86', 'zq87', 'zq88', 'zq89', 'zq90', 'zq91', 'zq92', 'zq93', 'zq94', 'zq95', 'zq96', 'zq97', 'zq98', 'zq99', 'zr00', 'zr01', 'zr02', 'zr03', 'zr04', 'zr05', 'zr06', 'zr07', 'zr08', 'zr09', 'zr10', 'zr11', 'zr12', 'zr13', 'zr14', 'zr15', 'zr16', 'zr17', 'zr18', 'zr19', 'zr20', 'zr21', 'zr22', 'zr23', 'zr24', 'zr25', 'zr26', 'zr27', 'zr28', 'zr29', 'zr30', 'zr31', 'zr32', 'zr33', 'zr34', 'zr35', 'zr36', 'zr37', 'zr38', 'zr39', 'zr40', 'zr41', 'zr42', 'zr43', 'zr44', 'zr45', 'zr46', 'zr47', 'zr48', 'zr49', 'zr50', 'zr51', 'zr52', 'zr53', 'zr54', 'zr55', 'zr56', 'zr57', 'zr58', 'zr59', 'zr60', 'zr61', 'zr62', 'zr63', 'zr64', 'zr65', 'zr66', 'zr67', 'zr68', 'zr69', 'zr70', 'zr71', 'zr72', 'zr73', 'zr74', 'zr75', 'zr76', 'zr77', 'zr78', 'zr79', 'zr80', 'zr81', 'zr82', 'zr83', 'zr84', 'zr85', 'zr86', 'zr87', 'zr88', 'zr89', 'zr90', 'zr91', 'zr92', 'zr93', 'zr94', 'zr95', 'zr96', 'zr97', 'zr98', 'zr99', 'zs00', 'zs01', 'zs02', 'zs03', 'zs04', 'zs05', 'zs06', 'zs07', 'zs08', 'zs09', 'zs10', 'zs11', 'zs12', 'zs13', 'zs14', 'zs15', 'zs16', 'zs17', 'zs18', 'zs19', 'zs20', 'zs21', 'zs22', 'zs23', 'zs24', 'zs25', 'zs26', 'zs27', 'zs28', 'zs29', 'zs30', 'zs31', 'zs32', 'zs33', 'zs34', 'zs35', 'zs36', 'zs37', 'zs38', 'zs39', 'zs40', 'zs41', 'zs42', 'zs43', 'zs44', 'zs45', 'zs46', 'zs47', 'zs48', 'zs49', 'zs50', 'zs51', 'zs52', 'zs53', 'zs54', 'zs55', 'zs56', 'zs57', 'zs58', 'zs59', 'zs60', 'zs61', 'zs62', 'zs63', 'zs64', 'zs65', 'zs66', 'zs67', 'zs68', 'zs69', 'zs70', 'zs71', 'zs72', 'zs73', 'zs74', 'zs75', 'zs76', 'zs77', 'zs78', 'zs79', 'zs80', 'zs81', 'zs82', 'zs83', 'zs84', 'zs85', 'zs86', 'zs87', 'zs88', 'zs89', 'zs90', 'zs91', 'zs92', 'zs93', 'zs94', 'zs95', 'zs96', 'zs97', 'zs98', 'zs99', 'zt00', 'zt01', 'zt02', 'zt03', 'zt04', 'zt05', 'zt06', 'zt07', 'zt08', 'zt09', 'zt10', 'zt11', 'zt12', 'zt13', 'zt14', 'zt15', 'zt16', 'zt17', 'zt18', 'zt19', 'zt20', 'zt21', 'zt22', 'zt23', 'zt24', 'zt25', 'zt26', 'zt27', 'zt28', 'zt29', 'zt30', 'zt31', 'zt32', 'zt33', 'zt34', 'zt35', 'zt36', 'zt37', 'zt38', 'zt39', 'zt40', 'zt41', 'zt42', 'zt43', 'zt44', 'zt45', 'zt46', 'zt47', 'zt48', 'zt49', 'zt50', 'zt51', 'zt52', 'zt53', 'zt54', 'zt55', 'zt56', 'zt57', 'zt58', 'zt59', 'zt60', 'zt61', 'zt62', 'zt63', 'zt64', 'zt65', 'zt66', 'zt67', 'zt68', 'zt69', 'zt70', 'zt71', 'zt72', 'zt73', 'zt74', 'zt75', 'zt76', 'zt77', 'zt78', 'zt79', 'zt80', 'zt81', 'zt82', 'zt83', 'zt84', 'zt85', 'zt86', 'zt87', 'zt88', 'zt89', 'zt90', 'zt91', 'zt92', 'zt93', 'zt94', 'zt95', 'zt96', 'zt97', 'zt98', 'zt99', 'zu00', 'zu01', 'zu02', 'zu03', 'zu04', 'zu05', 'zu06', 'zu07', 'zu08', 'zu09', 'zu10', 'zu11', 'zu12', 'zu13', 'zu14', 'zu15', 'zu16', 'zu17', 'zu18', 'zu19', 'zu20', 'zu21', 'zu22', 'zu23', 'zu24', 'zu25', 'zu26', 'zu27', 'zu28', 'zu29', 'zu30', 'zu31', 'zu32', 'zu33', 'zu34', 'zu35', 'zu36', 'zu37', 'zu38', 'zu39', 'zu40', 'zu41', 'zu42', 'zu43', 'zu44', 'zu45', 'zu46', 'zu47', 'zu48', 'zu49', 'zu50', 'zu51', 'zu52', 'zu53', 'zu54', 'zu55', 'zu56', 'zu57', 'zu58', 'zu59', 'zu60', 'zu61', 'zu62', 'zu63', 'zu64', 'zu65', 'zu66', 'zu67', 'zu68', 'zu69', 'zu70', 'zu71', 'zu72', 'zu73', 'zu74', 'zu75', 'zu76', 'zu77', 'zu78', 'zu79', 'zu80', 'zu81', 'zu82', 'zu83', 'zu84', 'zu85', 'zu86', 'zu87', 'zu88', 'zu89', 'zu90', 'zu91', 'zu92', 'zu93', 'zu94', 'zu95', 'zu96', 'zu97', 'zu98', 'zu99', 'zv00', 'zv01', 'zv02', 'zv03', 'zv04', 'zv05', 'zv06', 'zv07', 'zv08', 'zv09', 'zv10', 'zv11', 'zv12', 'zv13', 'zv14', 'zv15', 'zv16', 'zv17', 'zv18', 'zv19', 'zv20', 'zv21', 'zv22', 'zv23', 'zv24', 'zv25', 'zv26', 'zv27', 'zv28', 'zv29', 'zv30', 'zv31', 'zv32', 'zv33', 'zv34', 'zv35', 'zv36', 'zv37', 'zv38', 'zv39', 'zv40', 'zv41', 'zv42', 'zv43', 'zv44', 'zv45', 'zv46', 'zv47', 'zv48', 'zv49', 'zv50', 'zv51', 'zv52', 'zv53', 'zv54', 'zv55', 'zv56', 'zv57', 'zv58', 'zv59', 'zv60', 'zv61', 'zv62', 'zv63', 'zv64', 'zv65', 'zv66', 'zv67', 'zv68', 'zv69', 'zv70', 'zv71', 'zv72', 'zv73', 'zv74', 'zv75', 'zv76', 'zv77', 'zv78', 'zv79', 'zv80', 'zv81', 'zv82', 'zv83', 'zv84', 'zv85', 'zv86', 'zv87', 'zv88', 'zv89', 'zv90', 'zv91', 'zv92', 'zv93', 'zv94', 'zv95', 'zv96', 'zv97', 'zv98', 'zv99', 'zw00', 'zw01', 'zw02', 'zw03', 'zw04', 'zw05', 'zw06', 'zw07', 'zw08', 'zw09', 'zw10', 'zw11', 'zw12', 'zw13', 'zw14', 'zw15', 'zw16', 'zw17', 'zw18', 'zw19', 'zw20', 'zw21', 'zw22', 'zw23', 'zw24', 'zw25', 'zw26', 'zw27', 'zw28', 'zw29', 'zw30', 'zw31', 'zw32', 'zw33', 'zw34', 'zw35', 'zw36', 'zw37', 'zw38', 'zw39', 'zw40', 'zw41', 'zw42', 'zw43', 'zw44', 'zw45', 'zw46', 'zw47', 'zw48', 'zw49', 'zw50', 'zw51', 'zw52', 'zw53', 'zw54', 'zw55', 'zw56', 'zw57', 'zw58', 'zw59', 'zw60', 'zw61', 'zw62', 'zw63', 'zw64', 'zw65', 'zw66', 'zw67', 'zw68', 'zw69', 'zw70', 'zw71', 'zw72', 'zw73', 'zw74', 'zw75', 'zw76', 'zw77', 'zw78', 'zw79', 'zw80', 'zw81', 'zw82', 'zw83', 'zw84', 'zw85', 'zw86', 'zw87', 'zw88', 'zw89', 'zw90', 'zw91', 'zw92', 'zw93', 'zw94', 'zw95', 'zw96', 'zw97', 'zw98', 'zw99', 'zx00', 'zx01', 'zx02', 'zx03', 'zx04', 'zx05', 'zx06', 'zx07', 'zx08', 'zx09', 'zx10', 'zx11', 'zx12', 'zx13', 'zx14', 'zx15', 'zx16', 'zx17', 'zx18', 'zx19', 'zx20', 'zx21', 'zx22', 'zx23', 'zx24', 'zx25', 'zx26', 'zx27', 'zx28', 'zx29', 'zx30', 'zx31', 'zx32', 'zx33', 'zx34', 'zx35', 'zx36', 'zx37', 'zx38', 'zx39', 'zx40', 'zx41', 'zx42', 'zx43', 'zx44', 'zx45', 'zx46', 'zx47', 'zx48', 'zx49', 'zx50', 'zx51', 'zx52', 'zx53', 'zx54', 'zx55', 'zx56', 'zx57', 'zx58', 'zx59', 'zx60', 'zx61', 'zx62', 'zx63', 'zx64', 'zx65', 'zx66', 'zx67', 'zx68', 'zx69', 'zx70', 'zx71', 'zx72', 'zx73', 'zx74', 'zx75', 'zx76', 'zx77', 'zx78', 'zx79', 'zx80', 'zx81', 'zx82', 'zx83', 'zx84', 'zx85', 'zx86', 'zx87', 'zx88', 'zx89', 'zx90', 'zx91', 'zx92', 'zx93', 'zx94', 'zx95', 'zx96', 'zx97', 'zx98', 'zx99', 'zy00', 'zy01', 'zy02', 'zy03', 'zy04', 'zy05', 'zy06', 'zy07', 'zy08', 'zy09', 'zy10', 'zy11', 'zy12', 'zy13', 'zy14', 'zy15', 'zy16', 'zy17', 'zy18', 'zy19', 'zy20', 'zy21', 'zy22', 'zy23', 'zy24', 'zy25', 'zy26', 'zy27', 'zy28', 'zy29', 'zy30', 'zy31', 'zy32', 'zy33', 'zy34', 'zy35', 'zy36', 'zy37', 'zy38', 'zy39', 'zy40', 'zy41', 'zy42', 'zy43', 'zy44', 'zy45', 'zy46', 'zy47', 'zy48', 'zy49', 'zy50', 'zy51', 'zy52', 'zy53', 'zy54', 'zy55', 'zy56', 'zy57', 'zy58', 'zy59', 'zy60', 'zy61', 'zy62', 'zy63', 'zy64', 'zy65', 'zy66', 'zy67', 'zy68', 'zy69', 'zy70', 'zy71', 'zy72', 'zy73', 'zy74', 'zy75', 'zy76', 'zy77', 'zy78', 'zy79', 'zy80', 'zy81', 'zy82', 'zy83', 'zy84', 'zy85', 'zy86', 'zy87', 'zy88', 'zy89', 'zy90', 'zy91', 'zy92', 'zy93', 'zy94', 'zy95', 'zy96', 'zy97', 'zy98', 'zy99', 'zz00', 'zz01', 'zz02', 'zz03', 'zz04', 'zz05', 'zz06', 'zz07', 'zz08', 'zz09', 'zz10', 'zz11', 'zz12', 'zz13', 'zz14', 'zz15', 'zz16', 'zz17', 'zz18', 'zz19', 'zz20', 'zz21', 'zz22', 'zz23', 'zz24', 'zz25', 'zz26', 'zz27', 'zz28', 'zz29', 'zz30', 'zz31', 'zz32', 'zz33', 'zz34', 'zz35', 'zz36', 'zz37', 'zz38', 'zz39', 'zz40', 'zz41', 'zz42', 'zz43', 'zz44', 'zz45', 'zz46', 'zz47', 'zz48', 'zz49', 'zz50', 'zz51', 'zz52', 'zz53', 'zz54', 'zz55', 'zz56', 'zz57', 'zz58', 'zz59', 'zz60', 'zz61', 'zz62', 'zz63', 'zz64', 'zz65', 'zz66', 'zz67', 'zz68', 'zz69', 'zz70', 'zz71', 'zz72', 'zz73', 'zz74', 'zz75', 'zz76', 'zz77', 'zz78', 'zz79', 'zz80', 'zz81', 'zz82', 'zz83', 'zz84', 'zz85', 'zz86', 'zz87', 'zz88', 'zz89', 'zz90', 'zz91', 'zz92', 'zz93', 'zz94', 'zz95', 'zz96', 'zz97', 'zz98', 'zz99']\n"
     ]
    }
   ],
   "source": [
    "lowercase = 'abcdefghijklmnopqrstuvwxyz'\n",
    "digits = '0123456789'\n",
    "\n",
    "lst_letter = []\n",
    "for i in lowercase:\n",
    "    for i2 in lowercase:\n",
    "        lst_letter.append(i+i2)\n",
    "#print(lst_letter)\n",
    "\n",
    "lst_number = []\n",
    "for j in digits:\n",
    "    for j2 in digits:\n",
    "        lst_number.append(str(j)+str(j2))\n",
    "#print(lst_number)\n",
    "\n",
    "lst_concat = []\n",
    "for k in lst_letter:\n",
    "    for k2 in lst_number:\n",
    "        lst_concat.append(k+k2)\n",
    "#print(lst_concat)\n",
    "\n",
    "answer = [a+b+c+d for a in lowercase for b in lowercase for c in digits for d in digits]\n",
    "print(answer)"
   ]
  },
  {
   "cell_type": "code",
   "execution_count": 22,
   "metadata": {},
   "outputs": [
    {
     "name": "stdout",
     "output_type": "stream",
     "text": [
      "['Dr. Brooks', 'Dr. Collins-Thompson', 'Dr. Vydiswaran', 'Dr. Romero']\n"
     ]
    },
    {
     "data": {
      "text/html": [
       "<div>\n",
       "<style scoped>\n",
       "    .dataframe tbody tr th:only-of-type {\n",
       "        vertical-align: middle;\n",
       "    }\n",
       "\n",
       "    .dataframe tbody tr th {\n",
       "        vertical-align: top;\n",
       "    }\n",
       "\n",
       "    .dataframe thead th {\n",
       "        text-align: right;\n",
       "    }\n",
       "</style>\n",
       "<table border=\"1\" class=\"dataframe\">\n",
       "  <thead>\n",
       "    <tr style=\"text-align: right;\">\n",
       "      <th></th>\n",
       "      <th>Last Name</th>\n",
       "      <th>Full Name</th>\n",
       "    </tr>\n",
       "  </thead>\n",
       "  <tbody>\n",
       "    <tr>\n",
       "      <th>0</th>\n",
       "      <td>Dr. Brooks</td>\n",
       "      <td>Dr. Christopher Brooks</td>\n",
       "    </tr>\n",
       "    <tr>\n",
       "      <th>1</th>\n",
       "      <td>Dr. Collins-Thompson</td>\n",
       "      <td>Dr. Kevyn Collins-Thompson</td>\n",
       "    </tr>\n",
       "    <tr>\n",
       "      <th>2</th>\n",
       "      <td>Dr. Vydiswaran</td>\n",
       "      <td>Dr. VG Vinod Vydiswaran</td>\n",
       "    </tr>\n",
       "    <tr>\n",
       "      <th>3</th>\n",
       "      <td>Dr. Romero</td>\n",
       "      <td>Dr. Daniel Romero</td>\n",
       "    </tr>\n",
       "  </tbody>\n",
       "</table>\n",
       "</div>"
      ],
      "text/plain": [
       "              Last Name                   Full Name\n",
       "0            Dr. Brooks      Dr. Christopher Brooks\n",
       "1  Dr. Collins-Thompson  Dr. Kevyn Collins-Thompson\n",
       "2        Dr. Vydiswaran     Dr. VG Vinod Vydiswaran\n",
       "3            Dr. Romero           Dr. Daniel Romero"
      ]
     },
     "execution_count": 22,
     "metadata": {},
     "output_type": "execute_result"
    }
   ],
   "source": [
    "\n",
    "\n",
    "people = ['Dr. Christopher Brooks', 'Dr. Kevyn Collins-Thompson', 'Dr. VG Vinod Vydiswaran', 'Dr. Daniel Romero']\n",
    "\n",
    "def split_title_and_name(person):\n",
    "    title = person.split()[0]\n",
    "    lastname = person.split()[-1]\n",
    "    return '{} {}'.format(title,lastname)\n",
    "test = list(map(split_title_and_name,people))\n",
    "print(test)\n",
    "\n",
    "\n",
    "\n",
    "import pandas as pd\n",
    "from pandas import DataFrame\n",
    "df = pd.DataFrame(\n",
    "    {'Last Name':test,\n",
    "    'Full Name':people}\n",
    ")\n",
    "df"
   ]
  },
  {
   "cell_type": "code",
   "execution_count": 28,
   "metadata": {},
   "outputs": [
    {
     "name": "stdout",
     "output_type": "stream",
     "text": [
      "True\n",
      "True\n",
      "True\n",
      "True\n"
     ]
    }
   ],
   "source": [
    "people = ['Dr. Christopher Brooks', 'Dr. Kevyn Collins-Thompson', 'Dr. VG Vinod Vydiswaran', 'Dr. Daniel Romero']\n",
    "\n",
    "def split_title_and_name(person):\n",
    "    return person.split()[0] + ' ' + person.split()[-1]\n",
    "\n",
    "#option 1\n",
    "for person in people:\n",
    "    #print(split_title_and_name(person))\n",
    "    my_function = lambda person:person.split()[0] + ' ' + person.split()[-1]\n",
    "    #print(my_function(person))\n",
    "    print(split_title_and_name(person) == my_function(person))\n"
   ]
  },
  {
   "cell_type": "markdown",
   "metadata": {},
   "source": [
    "\n",
    "<br>\n",
    "# The Python Programming Language: Numerical Python (NumPy)"
   ]
  },
  {
   "cell_type": "code",
   "execution_count": 2,
   "metadata": {
    "collapsed": true
   },
   "outputs": [],
   "source": [
    "import numpy as np"
   ]
  },
  {
   "cell_type": "markdown",
   "metadata": {},
   "source": [
    "<br>\n",
    "## Creating Arrays"
   ]
  },
  {
   "cell_type": "markdown",
   "metadata": {},
   "source": [
    "Create a list and convert it to a numpy array"
   ]
  },
  {
   "cell_type": "code",
   "execution_count": 3,
   "metadata": {
    "collapsed": true
   },
   "outputs": [
    {
     "data": {
      "text/plain": [
       "array([1, 2, 3])"
      ]
     },
     "execution_count": 3,
     "metadata": {},
     "output_type": "execute_result"
    }
   ],
   "source": [
    "mylist = [1, 2, 3]\n",
    "x = np.array(mylist)\n",
    "x"
   ]
  },
  {
   "cell_type": "markdown",
   "metadata": {},
   "source": [
    "<br>\n",
    "Or just pass in a list directly"
   ]
  },
  {
   "cell_type": "code",
   "execution_count": 4,
   "metadata": {
    "collapsed": true
   },
   "outputs": [
    {
     "data": {
      "text/plain": [
       "array([4, 5, 6])"
      ]
     },
     "execution_count": 4,
     "metadata": {},
     "output_type": "execute_result"
    }
   ],
   "source": [
    "y = np.array([4, 5, 6])\n",
    "y"
   ]
  },
  {
   "cell_type": "markdown",
   "metadata": {},
   "source": [
    "<br>\n",
    "Pass in a list of lists to create a multidimensional array."
   ]
  },
  {
   "cell_type": "code",
   "execution_count": 5,
   "metadata": {
    "collapsed": true
   },
   "outputs": [
    {
     "name": "stdout",
     "output_type": "stream",
     "text": [
      "['sdf' 'adsf' 'adfd' '43']\n"
     ]
    }
   ],
   "source": [
    "m = np.array([[7, 8, 9], [10, 11, 12]])\n",
    "m\n",
    "\n",
    "m = ['sdf','adsf','adfd',43]\n",
    "m = np.array(m)\n",
    "print(m)"
   ]
  },
  {
   "cell_type": "markdown",
   "metadata": {},
   "source": [
    "<br>\n",
    "Use the shape method to find the dimensions of the array. (rows, columns)"
   ]
  },
  {
   "cell_type": "code",
   "execution_count": 16,
   "metadata": {
    "collapsed": true
   },
   "outputs": [
    {
     "data": {
      "text/plain": [
       "(4,)"
      ]
     },
     "execution_count": 16,
     "metadata": {},
     "output_type": "execute_result"
    }
   ],
   "source": [
    "m.shape"
   ]
  },
  {
   "cell_type": "markdown",
   "metadata": {},
   "source": [
    "<br>\n",
    "`arange` returns evenly spaced values within a given interval."
   ]
  },
  {
   "cell_type": "code",
   "execution_count": 91,
   "metadata": {
    "collapsed": true
   },
   "outputs": [
    {
     "data": {
      "text/plain": [
       "array([ 0,  2,  4,  6,  8, 10, 12, 14, 16, 18, 20, 22, 24, 26, 28])"
      ]
     },
     "execution_count": 91,
     "metadata": {},
     "output_type": "execute_result"
    }
   ],
   "source": [
    "n = np.arange(0, 30, 2) # start at 0 count up by 2, stop before 30\n",
    "n"
   ]
  },
  {
   "cell_type": "markdown",
   "metadata": {},
   "source": [
    "<br>\n",
    "`reshape` returns an array with the same data with a new shape."
   ]
  },
  {
   "cell_type": "code",
   "execution_count": 93,
   "metadata": {
    "collapsed": true
   },
   "outputs": [
    {
     "data": {
      "text/plain": [
       "array([[ 0,  2,  4,  6,  8],\n",
       "       [10, 12, 14, 16, 18],\n",
       "       [20, 22, 24, 26, 28]])"
      ]
     },
     "execution_count": 93,
     "metadata": {},
     "output_type": "execute_result"
    }
   ],
   "source": [
    "n = n.reshape(3,5) # reshape array to be 3x5\n",
    "n\n",
    "\n",
    "#ValueError: cannot reshape array of size 15 into shape (6,5)"
   ]
  },
  {
   "cell_type": "markdown",
   "metadata": {},
   "source": [
    "<br>\n",
    "`linspace` returns evenly spaced numbers over a specified interval."
   ]
  },
  {
   "cell_type": "code",
   "execution_count": 7,
   "metadata": {
    "collapsed": true
   },
   "outputs": [
    {
     "data": {
      "text/plain": [
       "array([0.        , 0.44444444, 0.88888889, 1.33333333, 1.77777778,\n",
       "       2.22222222, 2.66666667, 3.11111111, 3.55555556, 4.        ])"
      ]
     },
     "execution_count": 7,
     "metadata": {},
     "output_type": "execute_result"
    }
   ],
   "source": [
    "o = np.linspace(0, 4, 10) # return 9 evenly spaced values from 0 to 4\n",
    "#每个数字之间的差值相同\n",
    "o"
   ]
  },
  {
   "cell_type": "markdown",
   "metadata": {},
   "source": [
    "<br>\n",
    "`resize` changes the shape and size of array in-place."
   ]
  },
  {
   "cell_type": "code",
   "execution_count": 8,
   "metadata": {
    "collapsed": true
   },
   "outputs": [
    {
     "data": {
      "text/plain": [
       "array([[0.        , 0.44444444],\n",
       "       [0.88888889, 1.33333333],\n",
       "       [1.77777778, 2.22222222],\n",
       "       [2.66666667, 3.11111111],\n",
       "       [3.55555556, 4.        ]])"
      ]
     },
     "execution_count": 8,
     "metadata": {},
     "output_type": "execute_result"
    }
   ],
   "source": [
    "o.resize(5, 2)\n",
    "o"
   ]
  },
  {
   "cell_type": "markdown",
   "metadata": {},
   "source": [
    "<br>\n",
    "`ones` returns a new array of given shape and type, filled with ones."
   ]
  },
  {
   "cell_type": "code",
   "execution_count": 9,
   "metadata": {
    "collapsed": true
   },
   "outputs": [
    {
     "data": {
      "text/plain": [
       "array([[1., 1., 1., 1., 1., 1., 1., 1., 1.],\n",
       "       [1., 1., 1., 1., 1., 1., 1., 1., 1.],\n",
       "       [1., 1., 1., 1., 1., 1., 1., 1., 1.]])"
      ]
     },
     "execution_count": 9,
     "metadata": {},
     "output_type": "execute_result"
    }
   ],
   "source": [
    "np.ones((3, 9))"
   ]
  },
  {
   "cell_type": "markdown",
   "metadata": {},
   "source": [
    "<br>\n",
    "`zeros` returns a new array of given shape and type, filled with zeros."
   ]
  },
  {
   "cell_type": "code",
   "execution_count": 10,
   "metadata": {
    "collapsed": true
   },
   "outputs": [
    {
     "data": {
      "text/plain": [
       "array([[0., 0., 0.],\n",
       "       [0., 0., 0.]])"
      ]
     },
     "execution_count": 10,
     "metadata": {},
     "output_type": "execute_result"
    }
   ],
   "source": [
    "np.zeros((2, 3))"
   ]
  },
  {
   "cell_type": "markdown",
   "metadata": {},
   "source": [
    "<br>\n",
    "`eye` returns a 2-D array with ones on the diagonal and zeros elsewhere."
   ]
  },
  {
   "cell_type": "code",
   "execution_count": 11,
   "metadata": {
    "collapsed": true
   },
   "outputs": [
    {
     "data": {
      "text/plain": [
       "array([[1., 0., 0., 0., 0., 0., 0., 0., 0., 0.],\n",
       "       [0., 1., 0., 0., 0., 0., 0., 0., 0., 0.],\n",
       "       [0., 0., 1., 0., 0., 0., 0., 0., 0., 0.],\n",
       "       [0., 0., 0., 1., 0., 0., 0., 0., 0., 0.],\n",
       "       [0., 0., 0., 0., 1., 0., 0., 0., 0., 0.],\n",
       "       [0., 0., 0., 0., 0., 1., 0., 0., 0., 0.],\n",
       "       [0., 0., 0., 0., 0., 0., 1., 0., 0., 0.],\n",
       "       [0., 0., 0., 0., 0., 0., 0., 1., 0., 0.],\n",
       "       [0., 0., 0., 0., 0., 0., 0., 0., 1., 0.],\n",
       "       [0., 0., 0., 0., 0., 0., 0., 0., 0., 1.]])"
      ]
     },
     "execution_count": 11,
     "metadata": {},
     "output_type": "execute_result"
    }
   ],
   "source": [
    "np.eye(10)"
   ]
  },
  {
   "cell_type": "markdown",
   "metadata": {},
   "source": [
    "<br>\n",
    "`diag` extracts a diagonal or constructs a diagonal array."
   ]
  },
  {
   "cell_type": "code",
   "execution_count": 12,
   "metadata": {
    "collapsed": true
   },
   "outputs": [
    {
     "data": {
      "text/plain": [
       "array([[4, 0, 0],\n",
       "       [0, 5, 0],\n",
       "       [0, 0, 6]])"
      ]
     },
     "execution_count": 12,
     "metadata": {},
     "output_type": "execute_result"
    }
   ],
   "source": [
    "np.diag(y) #对角线"
   ]
  },
  {
   "cell_type": "markdown",
   "metadata": {},
   "source": [
    "<br>\n",
    "Create an array using repeating list (or see `np.tile`)"
   ]
  },
  {
   "cell_type": "code",
   "execution_count": 13,
   "metadata": {
    "collapsed": true
   },
   "outputs": [
    {
     "data": {
      "text/plain": [
       "array([1, 2, 3, 1, 2, 3, 1, 2, 3])"
      ]
     },
     "execution_count": 13,
     "metadata": {},
     "output_type": "execute_result"
    }
   ],
   "source": [
    "np.array([1, 2, 3] * 3) #对整个list的重复，不是对个中item乘积"
   ]
  },
  {
   "cell_type": "markdown",
   "metadata": {},
   "source": [
    "<br>\n",
    "Repeat elements of an array using `repeat`."
   ]
  },
  {
   "cell_type": "code",
   "execution_count": 14,
   "metadata": {
    "collapsed": true
   },
   "outputs": [
    {
     "data": {
      "text/plain": [
       "array([1, 1, 1, 2, 2, 2, 3, 3, 3])"
      ]
     },
     "execution_count": 14,
     "metadata": {},
     "output_type": "execute_result"
    }
   ],
   "source": [
    "np.repeat([1, 2, 3], 3) #对单个item重复，不保证原有顺序"
   ]
  },
  {
   "cell_type": "markdown",
   "metadata": {},
   "source": [
    "<br>\n",
    "#### Combining Arrays"
   ]
  },
  {
   "cell_type": "code",
   "execution_count": 15,
   "metadata": {
    "collapsed": true
   },
   "outputs": [
    {
     "data": {
      "text/plain": [
       "array([[1, 1, 1],\n",
       "       [1, 1, 1]])"
      ]
     },
     "execution_count": 15,
     "metadata": {},
     "output_type": "execute_result"
    }
   ],
   "source": [
    "p = np.ones([2, 3], int)\n",
    "p = np.ones((2,3),int) #跟上面写法不同，不是一个list，但效果一样\n",
    "#p = np.ones((2,3)) #跟上两行行的区别就在于这一行是 float\n",
    "\n",
    "p"
   ]
  },
  {
   "cell_type": "code",
   "execution_count": 16,
   "metadata": {},
   "outputs": [
    {
     "data": {
      "text/plain": [
       "array([[[1, 1, 1],\n",
       "        [1, 1, 1]],\n",
       "\n",
       "       [[2, 2, 2],\n",
       "        [2, 2, 2]]])"
      ]
     },
     "execution_count": 16,
     "metadata": {},
     "output_type": "execute_result"
    }
   ],
   "source": [
    "np.array([p,2*p])"
   ]
  },
  {
   "cell_type": "markdown",
   "metadata": {},
   "source": [
    "<br>\n",
    "Use `vstack` to stack arrays in sequence vertically (row wise)."
   ]
  },
  {
   "cell_type": "code",
   "execution_count": 17,
   "metadata": {
    "collapsed": true
   },
   "outputs": [
    {
     "data": {
      "text/plain": [
       "array([[1, 1, 1],\n",
       "       [1, 1, 1],\n",
       "       [2, 2, 2],\n",
       "       [2, 2, 2]])"
      ]
     },
     "execution_count": 17,
     "metadata": {},
     "output_type": "execute_result"
    }
   ],
   "source": [
    "np.vstack([p, 2*p])"
   ]
  },
  {
   "cell_type": "markdown",
   "metadata": {},
   "source": [
    "<br>\n",
    "Use `hstack` to stack arrays in sequence horizontally (column wise)."
   ]
  },
  {
   "cell_type": "code",
   "execution_count": 18,
   "metadata": {
    "collapsed": true
   },
   "outputs": [
    {
     "data": {
      "text/plain": [
       "array([[1, 1, 1, 2, 2, 2],\n",
       "       [1, 1, 1, 2, 2, 2]])"
      ]
     },
     "execution_count": 18,
     "metadata": {},
     "output_type": "execute_result"
    }
   ],
   "source": [
    "np.hstack([p, 2*p])"
   ]
  },
  {
   "cell_type": "markdown",
   "metadata": {},
   "source": [
    "<br>\n",
    "## Operations"
   ]
  },
  {
   "cell_type": "markdown",
   "metadata": {},
   "source": [
    "Use `+`, `-`, `*`, `/` and `**` to perform element wise addition, subtraction, multiplication, division and power."
   ]
  },
  {
   "cell_type": "code",
   "execution_count": 19,
   "metadata": {
    "collapsed": true
   },
   "outputs": [
    {
     "name": "stdout",
     "output_type": "stream",
     "text": [
      "[5 7 9]\n",
      "[-3 -3 -3]\n"
     ]
    }
   ],
   "source": [
    "#array的element可以直接加减乘除\n",
    "\n",
    "print(x + y) # elementwise addition     [1 2 3] + [4 5 6] = [5  7  9]\n",
    "print(x - y) # elementwise subtraction  [1 2 3] - [4 5 6] = [-3 -3 -3]"
   ]
  },
  {
   "cell_type": "code",
   "execution_count": 20,
   "metadata": {
    "collapsed": true
   },
   "outputs": [
    {
     "name": "stdout",
     "output_type": "stream",
     "text": [
      "[ 4 10 18]\n",
      "[0.25 0.4  0.5 ]\n"
     ]
    }
   ],
   "source": [
    "print(x * y) # elementwise multiplication  [1 2 3] * [4 5 6] = [4  10  18]\n",
    "print(x / y) # elementwise divison         [1 2 3] / [4 5 6] = [0.25  0.4  0.5]"
   ]
  },
  {
   "cell_type": "code",
   "execution_count": 21,
   "metadata": {
    "collapsed": true
   },
   "outputs": [
    {
     "name": "stdout",
     "output_type": "stream",
     "text": [
      "[1 4 9]\n"
     ]
    }
   ],
   "source": [
    "print(x**2) # elementwise power  [1 2 3] ^2 =  [1 4 9]"
   ]
  },
  {
   "cell_type": "markdown",
   "metadata": {},
   "source": [
    "<br>\n",
    "**Dot Product:**  \n",
    "\n",
    "$ \\begin{bmatrix}x_1 \\ x_2 \\ x_3\\end{bmatrix}\n",
    "\\cdot\n",
    "\\begin{bmatrix}y_1 \\\\ y_2 \\\\ y_3\\end{bmatrix}\n",
    "= x_1 y_1 + x_2 y_2 + x_3 y_3$"
   ]
  },
  {
   "cell_type": "code",
   "execution_count": 22,
   "metadata": {
    "collapsed": true
   },
   "outputs": [
    {
     "data": {
      "text/plain": [
       "32"
      ]
     },
     "execution_count": 22,
     "metadata": {},
     "output_type": "execute_result"
    }
   ],
   "source": [
    "x.dot(y) # dot product  1*4 + 2*5 + 3*6"
   ]
  },
  {
   "cell_type": "code",
   "execution_count": 23,
   "metadata": {
    "collapsed": true
   },
   "outputs": [
    {
     "name": "stdout",
     "output_type": "stream",
     "text": [
      "2\n"
     ]
    }
   ],
   "source": [
    "z = np.array([y, y**2])\n",
    "print(len(z)) # number of rows of array"
   ]
  },
  {
   "cell_type": "markdown",
   "metadata": {},
   "source": [
    "<br>\n",
    "Let's look at transposing arrays. Transposing permutes the dimensions of the array."
   ]
  },
  {
   "cell_type": "code",
   "execution_count": 24,
   "metadata": {
    "collapsed": true
   },
   "outputs": [
    {
     "data": {
      "text/plain": [
       "array([[ 4,  5,  6],\n",
       "       [16, 25, 36]])"
      ]
     },
     "execution_count": 24,
     "metadata": {},
     "output_type": "execute_result"
    }
   ],
   "source": [
    "z = np.array([y, y**2])\n",
    "z"
   ]
  },
  {
   "cell_type": "markdown",
   "metadata": {},
   "source": [
    "<br>\n",
    "The shape of array `z` is `(2,3)` before transposing."
   ]
  },
  {
   "cell_type": "code",
   "execution_count": 25,
   "metadata": {
    "collapsed": true
   },
   "outputs": [
    {
     "data": {
      "text/plain": [
       "(2, 3)"
      ]
     },
     "execution_count": 25,
     "metadata": {},
     "output_type": "execute_result"
    }
   ],
   "source": [
    "z.shape"
   ]
  },
  {
   "cell_type": "markdown",
   "metadata": {},
   "source": [
    "<br>\n",
    "Use `.T` to get the transpose."
   ]
  },
  {
   "cell_type": "code",
   "execution_count": 26,
   "metadata": {
    "collapsed": true
   },
   "outputs": [
    {
     "data": {
      "text/plain": [
       "array([[ 4, 16],\n",
       "       [ 5, 25],\n",
       "       [ 6, 36]])"
      ]
     },
     "execution_count": 26,
     "metadata": {},
     "output_type": "execute_result"
    }
   ],
   "source": [
    "z.T"
   ]
  },
  {
   "cell_type": "markdown",
   "metadata": {},
   "source": [
    "<br>\n",
    "The number of rows has swapped with the number of columns."
   ]
  },
  {
   "cell_type": "code",
   "execution_count": 27,
   "metadata": {
    "collapsed": true
   },
   "outputs": [
    {
     "data": {
      "text/plain": [
       "(3, 2)"
      ]
     },
     "execution_count": 27,
     "metadata": {},
     "output_type": "execute_result"
    }
   ],
   "source": [
    "z.T.shape"
   ]
  },
  {
   "cell_type": "markdown",
   "metadata": {},
   "source": [
    "<br>\n",
    "Use `.dtype` to see the data type of the elements in the array."
   ]
  },
  {
   "cell_type": "code",
   "execution_count": 28,
   "metadata": {
    "collapsed": true
   },
   "outputs": [
    {
     "data": {
      "text/plain": [
       "dtype('int64')"
      ]
     },
     "execution_count": 28,
     "metadata": {},
     "output_type": "execute_result"
    }
   ],
   "source": [
    "z.dtype"
   ]
  },
  {
   "cell_type": "markdown",
   "metadata": {},
   "source": [
    "<br>\n",
    "Use `.astype` to cast to a specific type."
   ]
  },
  {
   "cell_type": "code",
   "execution_count": 29,
   "metadata": {
    "collapsed": true
   },
   "outputs": [
    {
     "data": {
      "text/plain": [
       "dtype('float32')"
      ]
     },
     "execution_count": 29,
     "metadata": {},
     "output_type": "execute_result"
    }
   ],
   "source": [
    "z = z.astype('f')\n",
    "z.dtype"
   ]
  },
  {
   "cell_type": "markdown",
   "metadata": {},
   "source": [
    "<br>\n",
    "## Math Functions"
   ]
  },
  {
   "cell_type": "markdown",
   "metadata": {},
   "source": [
    "Numpy has many built in math functions that can be performed on arrays."
   ]
  },
  {
   "cell_type": "code",
   "execution_count": 30,
   "metadata": {
    "collapsed": true
   },
   "outputs": [],
   "source": [
    "a = np.array([-4, -2, 1, 3, 5])"
   ]
  },
  {
   "cell_type": "code",
   "execution_count": 31,
   "metadata": {
    "collapsed": true
   },
   "outputs": [
    {
     "data": {
      "text/plain": [
       "3"
      ]
     },
     "execution_count": 31,
     "metadata": {},
     "output_type": "execute_result"
    }
   ],
   "source": [
    "a.sum()"
   ]
  },
  {
   "cell_type": "code",
   "execution_count": 32,
   "metadata": {
    "collapsed": true
   },
   "outputs": [
    {
     "data": {
      "text/plain": [
       "5"
      ]
     },
     "execution_count": 32,
     "metadata": {},
     "output_type": "execute_result"
    }
   ],
   "source": [
    "a.max()"
   ]
  },
  {
   "cell_type": "code",
   "execution_count": 33,
   "metadata": {
    "collapsed": true
   },
   "outputs": [
    {
     "data": {
      "text/plain": [
       "-4"
      ]
     },
     "execution_count": 33,
     "metadata": {},
     "output_type": "execute_result"
    }
   ],
   "source": [
    "a.min()"
   ]
  },
  {
   "cell_type": "code",
   "execution_count": 34,
   "metadata": {
    "collapsed": true
   },
   "outputs": [
    {
     "data": {
      "text/plain": [
       "0.6"
      ]
     },
     "execution_count": 34,
     "metadata": {},
     "output_type": "execute_result"
    }
   ],
   "source": [
    "a.mean()"
   ]
  },
  {
   "cell_type": "code",
   "execution_count": 35,
   "metadata": {
    "collapsed": true
   },
   "outputs": [
    {
     "data": {
      "text/plain": [
       "3.2619012860600183"
      ]
     },
     "execution_count": 35,
     "metadata": {},
     "output_type": "execute_result"
    }
   ],
   "source": [
    "a.std()"
   ]
  },
  {
   "cell_type": "markdown",
   "metadata": {},
   "source": [
    "<br>\n",
    "`argmax` and `argmin` return the index of the maximum and minimum values in the array."
   ]
  },
  {
   "cell_type": "code",
   "execution_count": 36,
   "metadata": {
    "collapsed": true
   },
   "outputs": [
    {
     "name": "stdout",
     "output_type": "stream",
     "text": [
      "4\n"
     ]
    }
   ],
   "source": [
    "a.argmax()\n",
    "\n",
    "print(a.argmax())"
   ]
  },
  {
   "cell_type": "code",
   "execution_count": 37,
   "metadata": {
    "collapsed": true
   },
   "outputs": [
    {
     "data": {
      "text/plain": [
       "0"
      ]
     },
     "execution_count": 37,
     "metadata": {},
     "output_type": "execute_result"
    }
   ],
   "source": [
    "a.argmin()"
   ]
  },
  {
   "cell_type": "markdown",
   "metadata": {},
   "source": [
    "<br>\n",
    "## Indexing / Slicing"
   ]
  },
  {
   "cell_type": "code",
   "execution_count": 38,
   "metadata": {
    "collapsed": true
   },
   "outputs": [
    {
     "data": {
      "text/plain": [
       "array([  0,   1,   4,   9,  16,  25,  36,  49,  64,  81, 100, 121, 144])"
      ]
     },
     "execution_count": 38,
     "metadata": {},
     "output_type": "execute_result"
    }
   ],
   "source": [
    "s = np.arange(13)**2\n",
    "s"
   ]
  },
  {
   "cell_type": "markdown",
   "metadata": {},
   "source": [
    "<br>\n",
    "Use bracket notation to get the value at a specific index. Remember that indexing starts at 0."
   ]
  },
  {
   "cell_type": "code",
   "execution_count": 41,
   "metadata": {
    "collapsed": true
   },
   "outputs": [
    {
     "data": {
      "text/plain": [
       "(0, 16, 144)"
      ]
     },
     "execution_count": 41,
     "metadata": {},
     "output_type": "execute_result"
    }
   ],
   "source": [
    "s[0], s[4], s[-1]"
   ]
  },
  {
   "cell_type": "markdown",
   "metadata": {},
   "source": [
    "<br>\n",
    "Use `:` to indicate a range. `array[start:stop]`\n",
    "\n",
    "\n",
    "Leaving `start` or `stop` empty will default to the beginning/end of the array."
   ]
  },
  {
   "cell_type": "code",
   "execution_count": 42,
   "metadata": {
    "collapsed": true
   },
   "outputs": [
    {
     "data": {
      "text/plain": [
       "array([ 1,  4,  9, 16])"
      ]
     },
     "execution_count": 42,
     "metadata": {},
     "output_type": "execute_result"
    }
   ],
   "source": [
    "s[1:5]"
   ]
  },
  {
   "cell_type": "markdown",
   "metadata": {},
   "source": [
    "<br>\n",
    "Use negatives to count from the back."
   ]
  },
  {
   "cell_type": "code",
   "execution_count": 46,
   "metadata": {
    "collapsed": true
   },
   "outputs": [
    {
     "data": {
      "text/plain": [
       "array([ 81, 100, 121, 144])"
      ]
     },
     "execution_count": 46,
     "metadata": {},
     "output_type": "execute_result"
    }
   ],
   "source": [
    "s[-4:]"
   ]
  },
  {
   "cell_type": "markdown",
   "metadata": {},
   "source": [
    "<br>\n",
    "A second `:` can be used to indicate step-size. `array[start:stop:stepsize]`\n",
    "\n",
    "Here we are starting 5th element from the end, and counting backwards by 2 until the beginning of the array is reached."
   ]
  },
  {
   "cell_type": "code",
   "execution_count": 50,
   "metadata": {
    "collapsed": true
   },
   "outputs": [
    {
     "data": {
      "text/plain": [
       "array([64, 36, 16,  4,  0])"
      ]
     },
     "execution_count": 50,
     "metadata": {},
     "output_type": "execute_result"
    }
   ],
   "source": [
    "s[-5::-2]"
   ]
  },
  {
   "cell_type": "markdown",
   "metadata": {},
   "source": [
    "<br>\n",
    "Let's look at a multidimensional array."
   ]
  },
  {
   "cell_type": "code",
   "execution_count": 51,
   "metadata": {
    "collapsed": true
   },
   "outputs": [
    {
     "data": {
      "text/plain": [
       "array([[ 0,  1,  2,  3,  4,  5],\n",
       "       [ 6,  7,  8,  9, 10, 11],\n",
       "       [12, 13, 14, 15, 16, 17],\n",
       "       [18, 19, 20, 21, 22, 23],\n",
       "       [24, 25, 26, 27, 28, 29],\n",
       "       [30, 31, 32, 33, 34, 35]])"
      ]
     },
     "execution_count": 51,
     "metadata": {},
     "output_type": "execute_result"
    }
   ],
   "source": [
    "r = np.arange(36)\n",
    "r.resize((6, 6))\n",
    "r"
   ]
  },
  {
   "cell_type": "markdown",
   "metadata": {},
   "source": [
    "<br>\n",
    "Use bracket notation to slice: `array[row, column]`"
   ]
  },
  {
   "cell_type": "code",
   "execution_count": 52,
   "metadata": {
    "collapsed": true
   },
   "outputs": [
    {
     "data": {
      "text/plain": [
       "14"
      ]
     },
     "execution_count": 52,
     "metadata": {},
     "output_type": "execute_result"
    }
   ],
   "source": [
    "r[2, 2] #矩阵的坐标点获得对应数值"
   ]
  },
  {
   "cell_type": "markdown",
   "metadata": {},
   "source": [
    "<br>\n",
    "And use : to select a range of rows or columns"
   ]
  },
  {
   "cell_type": "code",
   "execution_count": 54,
   "metadata": {
    "collapsed": true
   },
   "outputs": [
    {
     "data": {
      "text/plain": [
       "array([21, 22, 23])"
      ]
     },
     "execution_count": 54,
     "metadata": {},
     "output_type": "execute_result"
    }
   ],
   "source": [
    "r[3, 3:6] #也可以获得区间，比如第三行（行号3，实为第四行），第四列到第六列的数"
   ]
  },
  {
   "cell_type": "markdown",
   "metadata": {},
   "source": [
    "<br>\n",
    "Here we are selecting all the rows up to (and not including) row 2, and all the columns up to (and not including) the last column."
   ]
  },
  {
   "cell_type": "code",
   "execution_count": 55,
   "metadata": {
    "collapsed": true
   },
   "outputs": [
    {
     "data": {
      "text/plain": [
       "array([[ 0,  1,  2,  3,  4],\n",
       "       [ 6,  7,  8,  9, 10]])"
      ]
     },
     "execution_count": 55,
     "metadata": {},
     "output_type": "execute_result"
    }
   ],
   "source": [
    "r[:2, :-1] #没有包括填写的数字"
   ]
  },
  {
   "cell_type": "markdown",
   "metadata": {},
   "source": [
    "<br>\n",
    "This is a slice of the last row, and only every other element."
   ]
  },
  {
   "cell_type": "code",
   "execution_count": 57,
   "metadata": {
    "collapsed": true
   },
   "outputs": [
    {
     "data": {
      "text/plain": [
       "array([30, 32, 34])"
      ]
     },
     "execution_count": 57,
     "metadata": {},
     "output_type": "execute_result"
    }
   ],
   "source": [
    "r[-1, ::2]"
   ]
  },
  {
   "cell_type": "markdown",
   "metadata": {},
   "source": [
    "<br>\n",
    "We can also perform conditional indexing. Here we are selecting values from the array that are greater than 30. (Also see `np.where`)"
   ]
  },
  {
   "cell_type": "code",
   "execution_count": 60,
   "metadata": {
    "collapsed": true
   },
   "outputs": [
    {
     "data": {
      "text/plain": [
       "array([25, 26, 27, 28, 29, 30, 31, 32, 33, 34, 35])"
      ]
     },
     "execution_count": 60,
     "metadata": {},
     "output_type": "execute_result"
    }
   ],
   "source": [
    "r[r > 24]"
   ]
  },
  {
   "cell_type": "markdown",
   "metadata": {},
   "source": [
    "<br>\n",
    "Here we are assigning all values in the array that are greater than 30 to the value of 30."
   ]
  },
  {
   "cell_type": "code",
   "execution_count": 61,
   "metadata": {
    "collapsed": true
   },
   "outputs": [
    {
     "data": {
      "text/plain": [
       "array([[ 0,  1,  2,  3,  4,  5],\n",
       "       [ 6,  7,  8,  9, 10, 11],\n",
       "       [12, 13, 14, 15, 16, 17],\n",
       "       [18, 19, 20, 21, 22, 23],\n",
       "       [24, 25, 26, 27, 28, 29],\n",
       "       [30, 30, 30, 30, 30, 30]])"
      ]
     },
     "execution_count": 61,
     "metadata": {},
     "output_type": "execute_result"
    }
   ],
   "source": [
    "r[r > 30] = 30 #重新赋值\n",
    "r"
   ]
  },
  {
   "cell_type": "markdown",
   "metadata": {},
   "source": [
    "<br>\n",
    "## Copying Data"
   ]
  },
  {
   "cell_type": "markdown",
   "metadata": {},
   "source": [
    "Be careful with copying and modifying arrays in NumPy!\n",
    "\n",
    "\n",
    "`r2` is a slice of `r`"
   ]
  },
  {
   "cell_type": "code",
   "execution_count": 65,
   "metadata": {
    "collapsed": true
   },
   "outputs": [
    {
     "data": {
      "text/plain": [
       "array([[0, 0, 0],\n",
       "       [0, 0, 0],\n",
       "       [0, 0, 0]])"
      ]
     },
     "execution_count": 65,
     "metadata": {},
     "output_type": "execute_result"
    }
   ],
   "source": [
    "r2 = r[:3,:3]\n",
    "r2"
   ]
  },
  {
   "cell_type": "markdown",
   "metadata": {},
   "source": [
    "<br>\n",
    "Set this slice's values to zero ([:] selects the entire array)"
   ]
  },
  {
   "cell_type": "code",
   "execution_count": 66,
   "metadata": {
    "collapsed": true
   },
   "outputs": [
    {
     "data": {
      "text/plain": [
       "array([[0, 0, 0],\n",
       "       [0, 0, 0],\n",
       "       [0, 0, 0]])"
      ]
     },
     "execution_count": 66,
     "metadata": {},
     "output_type": "execute_result"
    }
   ],
   "source": [
    "r2[:-1] = 0\n",
    "r2"
   ]
  },
  {
   "cell_type": "markdown",
   "metadata": {},
   "source": [
    "<br>\n",
    "`r` has also been changed!"
   ]
  },
  {
   "cell_type": "code",
   "execution_count": 67,
   "metadata": {
    "collapsed": true
   },
   "outputs": [
    {
     "data": {
      "text/plain": [
       "array([[ 0,  0,  0,  3,  4,  5],\n",
       "       [ 0,  0,  0,  9, 10, 11],\n",
       "       [ 0,  0,  0, 15, 16, 17],\n",
       "       [18, 19, 20, 21, 22, 23],\n",
       "       [24, 25, 26, 27, 28, 29],\n",
       "       [30, 30, 30, 30, 30, 30]])"
      ]
     },
     "execution_count": 67,
     "metadata": {},
     "output_type": "execute_result"
    }
   ],
   "source": [
    "r"
   ]
  },
  {
   "cell_type": "markdown",
   "metadata": {},
   "source": [
    "<br>\n",
    "To avoid this, use `r.copy` to create a copy that will not affect the original array"
   ]
  },
  {
   "cell_type": "code",
   "execution_count": 70,
   "metadata": {
    "collapsed": true
   },
   "outputs": [
    {
     "data": {
      "text/plain": [
       "array([[ 0,  0,  0,  3,  4,  5],\n",
       "       [ 0,  0,  0,  9, 10, 11],\n",
       "       [ 0,  0,  0, 15, 16, 17],\n",
       "       [18, 19, 20, 21, 22, 23],\n",
       "       [24, 25, 26, 27, 28, 29],\n",
       "       [30, 30, 30, 30, 30, 30]])"
      ]
     },
     "execution_count": 70,
     "metadata": {},
     "output_type": "execute_result"
    }
   ],
   "source": [
    "r_copy = r.copy() #避免源数据被改动\n",
    "r_copy"
   ]
  },
  {
   "cell_type": "markdown",
   "metadata": {},
   "source": [
    "<br>\n",
    "Now when r_copy is modified, r will not be changed."
   ]
  },
  {
   "cell_type": "code",
   "execution_count": 98,
   "metadata": {
    "collapsed": true
   },
   "outputs": [
    {
     "name": "stdout",
     "output_type": "stream",
     "text": [
      "[[ 0  0  0  3  4  5]\n",
      " [ 0  0  0  9 10 11]\n",
      " [ 0  0  0 15 16 17]\n",
      " [18 19 20 21 22 23]\n",
      " [24 25 26 27 28 29]\n",
      " [30 30 30 30 30 30]]\n"
     ]
    },
    {
     "data": {
      "text/plain": [
       "array([[ 0, 15],\n",
       "       [20, 21]])"
      ]
     },
     "execution_count": 98,
     "metadata": {},
     "output_type": "execute_result"
    }
   ],
   "source": [
    "r_copy[:] = 10\n",
    "#print(r_copy, '\\n')\n",
    "print(r)\n",
    "r.reshape(36)[::7] #先把array变成一个list，然后再按照每7个数取一个来取值\n",
    "#print(r)\n",
    "r[2:4,2:4]"
   ]
  },
  {
   "cell_type": "markdown",
   "metadata": {},
   "source": [
    "<br>\n",
    "### Iterating Over Arrays"
   ]
  },
  {
   "cell_type": "markdown",
   "metadata": {},
   "source": [
    "Let's create a new 4 by 3 array of random numbers 0-9."
   ]
  },
  {
   "cell_type": "code",
   "execution_count": 77,
   "metadata": {
    "collapsed": true
   },
   "outputs": [
    {
     "data": {
      "text/plain": [
       "array([[1, 9, 1],\n",
       "       [7, 7, 5],\n",
       "       [0, 9, 7],\n",
       "       [0, 0, 4]])"
      ]
     },
     "execution_count": 77,
     "metadata": {},
     "output_type": "execute_result"
    }
   ],
   "source": [
    "test = np.random.randint(0, 10, (4,3))\n",
    "test"
   ]
  },
  {
   "cell_type": "markdown",
   "metadata": {},
   "source": [
    "<br>\n",
    "Iterate by row:"
   ]
  },
  {
   "cell_type": "code",
   "execution_count": 78,
   "metadata": {
    "collapsed": true
   },
   "outputs": [
    {
     "name": "stdout",
     "output_type": "stream",
     "text": [
      "[1 9 1]\n",
      "[7 7 5]\n",
      "[0 9 7]\n",
      "[0 0 4]\n"
     ]
    }
   ],
   "source": [
    "for row in test:\n",
    "    print(row)"
   ]
  },
  {
   "cell_type": "markdown",
   "metadata": {},
   "source": [
    "<br>\n",
    "Iterate by index:"
   ]
  },
  {
   "cell_type": "code",
   "execution_count": 79,
   "metadata": {
    "collapsed": true
   },
   "outputs": [
    {
     "name": "stdout",
     "output_type": "stream",
     "text": [
      "[1 9 1]\n",
      "[7 7 5]\n",
      "[0 9 7]\n",
      "[0 0 4]\n"
     ]
    }
   ],
   "source": [
    "for i in range(len(test)):\n",
    "    print(test[i])"
   ]
  },
  {
   "cell_type": "markdown",
   "metadata": {},
   "source": [
    "<br>\n",
    "Iterate by row and index:"
   ]
  },
  {
   "cell_type": "code",
   "execution_count": 80,
   "metadata": {
    "collapsed": true
   },
   "outputs": [
    {
     "name": "stdout",
     "output_type": "stream",
     "text": [
      "row 0 is [1 9 1]\n",
      "row 1 is [7 7 5]\n",
      "row 2 is [0 9 7]\n",
      "row 3 is [0 0 4]\n"
     ]
    }
   ],
   "source": [
    "for i, row in enumerate(test): \n",
    "    print('row', i, 'is', row)"
   ]
  },
  {
   "cell_type": "markdown",
   "metadata": {},
   "source": [
    "<br>\n",
    "Use `zip` to iterate over multiple iterables."
   ]
  },
  {
   "cell_type": "code",
   "execution_count": 81,
   "metadata": {
    "collapsed": true
   },
   "outputs": [
    {
     "data": {
      "text/plain": [
       "array([[ 1, 81,  1],\n",
       "       [49, 49, 25],\n",
       "       [ 0, 81, 49],\n",
       "       [ 0,  0, 16]])"
      ]
     },
     "execution_count": 81,
     "metadata": {},
     "output_type": "execute_result"
    }
   ],
   "source": [
    "test2 = test**2\n",
    "test2"
   ]
  },
  {
   "cell_type": "code",
   "execution_count": 83,
   "metadata": {
    "collapsed": true
   },
   "outputs": [
    {
     "name": "stdout",
     "output_type": "stream",
     "text": [
      "[1 9 1] + [ 1 81  1] = [  0 -72   0]\n",
      "[7 7 5] + [49 49 25] = [-42 -42 -20]\n",
      "[0 9 7] + [ 0 81 49] = [  0 -72 -42]\n",
      "[0 0 4] + [ 0  0 16] = [  0   0 -12]\n"
     ]
    }
   ],
   "source": [
    "for i, j in zip(test, test2):\n",
    "    print(i,'+',j,'=',i-j)"
   ]
  },
  {
   "cell_type": "code",
   "execution_count": 84,
   "metadata": {},
   "outputs": [
    {
     "data": {
      "text/plain": [
       "['a', 'b', 'c', 1, 2, 3]"
      ]
     },
     "execution_count": 84,
     "metadata": {},
     "output_type": "execute_result"
    }
   ],
   "source": [
    "['a','b','c']+[1,2,3]"
   ]
  },
  {
   "cell_type": "code",
   "execution_count": 85,
   "metadata": {},
   "outputs": [
    {
     "data": {
      "text/plain": [
       "function"
      ]
     },
     "execution_count": 85,
     "metadata": {},
     "output_type": "execute_result"
    }
   ],
   "source": [
    "type(lambda x: x+1)"
   ]
  },
  {
   "cell_type": "code",
   "execution_count": null,
   "metadata": {},
   "outputs": [],
   "source": []
  }
 ],
 "metadata": {
  "kernelspec": {
   "display_name": "Python 3",
   "language": "python",
   "name": "python3"
  },
  "language_info": {
   "codemirror_mode": {
    "name": "ipython",
    "version": 3
   },
   "file_extension": ".py",
   "mimetype": "text/x-python",
   "name": "python",
   "nbconvert_exporter": "python",
   "pygments_lexer": "ipython3",
   "version": "3.6.5"
  }
 },
 "nbformat": 4,
 "nbformat_minor": 2
}
