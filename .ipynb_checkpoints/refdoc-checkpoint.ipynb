{
 "cells": [
  {
   "cell_type": "markdown",
   "metadata": {},
   "source": [
    "# 本文档功能\n",
    "## 所有在DS课程、练习和实践过程中遇到的python语法都汇总在这里，便于日后查找"
   ]
  },
  {
   "cell_type": "code",
   "execution_count": null,
   "metadata": {},
   "outputs": [],
   "source": [
    "# 把整列df series的内容类型改成指定类型（astrpe括号里的）\n",
    "window_ti_impact['time'].astype(int)\n",
    "\n",
    "# 把某个df中的datetime类型数值改成millisecond的形式（python3版本的代码）\n",
    "window_ti_impact['time'][1].timestamp()"
   ]
  }
 ],
 "metadata": {
  "kernelspec": {
   "display_name": "Python 3",
   "language": "python",
   "name": "python3"
  },
  "language_info": {
   "codemirror_mode": {
    "name": "ipython",
    "version": 3
   },
   "file_extension": ".py",
   "mimetype": "text/x-python",
   "name": "python",
   "nbconvert_exporter": "python",
   "pygments_lexer": "ipython3",
   "version": "3.6.9"
  }
 },
 "nbformat": 4,
 "nbformat_minor": 4
}
