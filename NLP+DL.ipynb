{
 "cells": [
  {
   "cell_type": "code",
   "execution_count": 3,
   "metadata": {},
   "outputs": [
    {
     "name": "stdout",
     "output_type": "stream",
     "text": [
      "[nltk_data] Error loading wordnet: <urlopen error [SSL:\n",
      "[nltk_data]     CERTIFICATE_VERIFY_FAILED] certificate verify failed\n",
      "[nltk_data]     (_ssl.c:833)>\n"
     ]
    },
    {
     "data": {
      "text/plain": [
       "False"
      ]
     },
     "execution_count": 3,
     "metadata": {},
     "output_type": "execute_result"
    }
   ],
   "source": [
    "'''cannot download in the first place, \n",
    "then run [Install Certificates.command] in python 3.6 folder\n",
    "and problem resolved'''\n",
    "\n",
    "import nltk\n",
    "nltk.download('wordnet')"
   ]
  },
  {
   "cell_type": "code",
   "execution_count": 4,
   "metadata": {},
   "outputs": [
    {
     "name": "stdout",
     "output_type": "stream",
     "text": [
      "(n)\n",
      "good\n",
      "(n)\n",
      "good, goodness\n",
      "(n)\n",
      "good, goodness\n",
      "(n)\n",
      "commodity, trade_good, good\n",
      "(a)\n",
      "good\n",
      "(s)\n",
      "full, good\n",
      "(a)\n",
      "good\n",
      "(s)\n",
      "estimable, good, honorable, respectable\n",
      "(s)\n",
      "beneficial, good\n",
      "(s)\n",
      "good\n",
      "(s)\n",
      "good, just, upright\n",
      "(s)\n",
      "adept, expert, good, practiced, proficient, skillful, skilful\n",
      "(s)\n",
      "good\n",
      "(s)\n",
      "dear, good, near\n",
      "(s)\n",
      "dependable, good, safe, secure\n",
      "(s)\n",
      "good, right, ripe\n",
      "(s)\n",
      "good, well\n",
      "(s)\n",
      "effective, good, in_effect, in_force\n",
      "(s)\n",
      "good\n",
      "(s)\n",
      "good, serious\n",
      "(s)\n",
      "good, sound\n",
      "(s)\n",
      "good, salutary\n",
      "(s)\n",
      "good, honest\n",
      "(s)\n",
      "good, undecomposed, unspoiled, unspoilt\n",
      "(s)\n",
      "good\n",
      "(r)\n",
      "well, good\n",
      "(r)\n",
      "thoroughly, soundly, good\n"
     ]
    }
   ],
   "source": [
    "from nltk.corpus import wordnet as wn\n",
    "\n",
    "for synset in wn.synsets('good'):\n",
    "\n",
    "    print('(%s)'%synset.pos()),\n",
    "    #above: %s is a placeholer.\n",
    "    '''above:Create a Lemma from a \"<word>.<pos>.<number>.<lemma>\" string where:\n",
    "    <word> is the morphological stem identifying the synset\n",
    "    <pos> is one of the module attributes ADJ, ADJ_SAT, ADV, NOUN or VERB\n",
    "    <number> is the sense number, counting from 0.\n",
    "    <lemma> is the morphological form of interest'''\n",
    "    \n",
    "    print(', '.join([l.name() for l in synset.lemmas()]))\n",
    "    "
   ]
  },
  {
   "cell_type": "code",
   "execution_count": null,
   "metadata": {},
   "outputs": [],
   "source": []
  }
 ],
 "metadata": {
  "kernelspec": {
   "display_name": "Python 3",
   "language": "python",
   "name": "python3"
  },
  "language_info": {
   "codemirror_mode": {
    "name": "ipython",
    "version": 3
   },
   "file_extension": ".py",
   "mimetype": "text/x-python",
   "name": "python",
   "nbconvert_exporter": "python",
   "pygments_lexer": "ipython3",
   "version": "3.6.5"
  }
 },
 "nbformat": 4,
 "nbformat_minor": 2
}
